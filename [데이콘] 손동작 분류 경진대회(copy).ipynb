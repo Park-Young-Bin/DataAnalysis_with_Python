{
 "cells": [
  {
   "cell_type": "markdown",
   "id": "59362e82-5abe-4361-b588-cfa1db6816d7",
   "metadata": {},
   "source": [
    "# [[데이콘] 손동작 분류 경진대회](https://dacon.io/competitions/official/235876/data)"
   ]
  },
  {
   "cell_type": "code",
   "execution_count": 1,
   "id": "f8a0b4cd-8860-4665-befa-f4c530ee5081",
   "metadata": {},
   "outputs": [],
   "source": [
    "import pandas as pd\n",
    "import numpy as np\n",
    "\n",
    "import warnings\n",
    "warnings.filterwarnings('ignore') # 경고 메시지 무시하고 숨기기\n",
    "\n",
    "import matplotlib.pyplot as plt\n",
    "# %matplotlib inline # 주피터 랩 내부에 그래프 실행\n",
    "\n",
    "from sklearn.preprocessing import OneHotEncoder\n",
    "from sklearn.model_selection import StratifiedKFold\n",
    "from sklearn.metrics import accuracy_score\n",
    "\n",
    "from tensorflow.keras.layers import *\n",
    "from tensorflow.keras.models import *\n",
    "from tensorflow.keras.optimizers import *\n",
    "from tensorflow.keras.callbacks import *"
   ]
  },
  {
   "cell_type": "code",
   "execution_count": 2,
   "id": "bff7077b-f3f6-4f57-bfe6-e8a5b4ba8caa",
   "metadata": {},
   "outputs": [],
   "source": [
    "train = pd.read_csv('data/손동작 분류 경진대회/train.csv')\n",
    "test = pd.read_csv('data/손동작 분류 경진대회/test.csv')\n",
    "submission= pd.read_csv('data/손동작 분류 경진대회/sample_submission.csv')"
   ]
  },
  {
   "cell_type": "code",
   "execution_count": 3,
   "id": "3b3f976f-eec1-4cd2-ac42-051d5d05a274",
   "metadata": {},
   "outputs": [
    {
     "data": {
      "text/html": [
       "<div>\n",
       "<style scoped>\n",
       "    .dataframe tbody tr th:only-of-type {\n",
       "        vertical-align: middle;\n",
       "    }\n",
       "\n",
       "    .dataframe tbody tr th {\n",
       "        vertical-align: top;\n",
       "    }\n",
       "\n",
       "    .dataframe thead th {\n",
       "        text-align: right;\n",
       "    }\n",
       "</style>\n",
       "<table border=\"1\" class=\"dataframe\">\n",
       "  <thead>\n",
       "    <tr style=\"text-align: right;\">\n",
       "      <th></th>\n",
       "      <th>sensor_1</th>\n",
       "      <th>sensor_2</th>\n",
       "      <th>sensor_3</th>\n",
       "      <th>sensor_4</th>\n",
       "      <th>sensor_5</th>\n",
       "      <th>sensor_6</th>\n",
       "      <th>sensor_7</th>\n",
       "      <th>sensor_8</th>\n",
       "      <th>sensor_9</th>\n",
       "      <th>sensor_10</th>\n",
       "      <th>...</th>\n",
       "      <th>sensor_23</th>\n",
       "      <th>sensor_24</th>\n",
       "      <th>sensor_25</th>\n",
       "      <th>sensor_26</th>\n",
       "      <th>sensor_27</th>\n",
       "      <th>sensor_28</th>\n",
       "      <th>sensor_29</th>\n",
       "      <th>sensor_30</th>\n",
       "      <th>sensor_31</th>\n",
       "      <th>sensor_32</th>\n",
       "    </tr>\n",
       "    <tr>\n",
       "      <th>target</th>\n",
       "      <th></th>\n",
       "      <th></th>\n",
       "      <th></th>\n",
       "      <th></th>\n",
       "      <th></th>\n",
       "      <th></th>\n",
       "      <th></th>\n",
       "      <th></th>\n",
       "      <th></th>\n",
       "      <th></th>\n",
       "      <th></th>\n",
       "      <th></th>\n",
       "      <th></th>\n",
       "      <th></th>\n",
       "      <th></th>\n",
       "      <th></th>\n",
       "      <th></th>\n",
       "      <th></th>\n",
       "      <th></th>\n",
       "      <th></th>\n",
       "      <th></th>\n",
       "    </tr>\n",
       "  </thead>\n",
       "  <tbody>\n",
       "    <tr>\n",
       "      <th>0</th>\n",
       "      <td>-0.425433</td>\n",
       "      <td>-0.922978</td>\n",
       "      <td>1.389976</td>\n",
       "      <td>0.559473</td>\n",
       "      <td>-0.694207</td>\n",
       "      <td>0.015784</td>\n",
       "      <td>0.793226</td>\n",
       "      <td>-0.913523</td>\n",
       "      <td>-0.561867</td>\n",
       "      <td>-0.802052</td>\n",
       "      <td>...</td>\n",
       "      <td>0.022476</td>\n",
       "      <td>-0.056393</td>\n",
       "      <td>-1.587852</td>\n",
       "      <td>-0.420015</td>\n",
       "      <td>0.905688</td>\n",
       "      <td>0.151944</td>\n",
       "      <td>-0.626062</td>\n",
       "      <td>-0.822711</td>\n",
       "      <td>-0.621473</td>\n",
       "      <td>-1.962038</td>\n",
       "    </tr>\n",
       "    <tr>\n",
       "      <th>1</th>\n",
       "      <td>-0.692796</td>\n",
       "      <td>-0.776260</td>\n",
       "      <td>-1.040046</td>\n",
       "      <td>-0.796645</td>\n",
       "      <td>-0.716867</td>\n",
       "      <td>-0.864049</td>\n",
       "      <td>0.217547</td>\n",
       "      <td>-0.588134</td>\n",
       "      <td>-0.795507</td>\n",
       "      <td>-0.470282</td>\n",
       "      <td>...</td>\n",
       "      <td>-0.727154</td>\n",
       "      <td>-0.841780</td>\n",
       "      <td>-0.605011</td>\n",
       "      <td>-0.622476</td>\n",
       "      <td>0.257340</td>\n",
       "      <td>-0.515845</td>\n",
       "      <td>-0.883002</td>\n",
       "      <td>-0.682358</td>\n",
       "      <td>0.154507</td>\n",
       "      <td>-0.607232</td>\n",
       "    </tr>\n",
       "    <tr>\n",
       "      <th>2</th>\n",
       "      <td>-2.346430</td>\n",
       "      <td>-0.822219</td>\n",
       "      <td>1.015480</td>\n",
       "      <td>0.079543</td>\n",
       "      <td>0.805130</td>\n",
       "      <td>-0.322211</td>\n",
       "      <td>-1.559588</td>\n",
       "      <td>-1.354339</td>\n",
       "      <td>-1.188115</td>\n",
       "      <td>-1.084991</td>\n",
       "      <td>...</td>\n",
       "      <td>0.926393</td>\n",
       "      <td>-0.561614</td>\n",
       "      <td>-0.598858</td>\n",
       "      <td>-0.591853</td>\n",
       "      <td>-2.619469</td>\n",
       "      <td>-0.660750</td>\n",
       "      <td>-0.706551</td>\n",
       "      <td>-0.714254</td>\n",
       "      <td>-0.997320</td>\n",
       "      <td>-0.504212</td>\n",
       "    </tr>\n",
       "    <tr>\n",
       "      <th>3</th>\n",
       "      <td>-0.983485</td>\n",
       "      <td>-1.559744</td>\n",
       "      <td>-3.951593</td>\n",
       "      <td>-0.422654</td>\n",
       "      <td>-0.727304</td>\n",
       "      <td>-0.518749</td>\n",
       "      <td>3.218229</td>\n",
       "      <td>-0.876624</td>\n",
       "      <td>-0.636275</td>\n",
       "      <td>-0.459929</td>\n",
       "      <td>...</td>\n",
       "      <td>-0.134662</td>\n",
       "      <td>0.026740</td>\n",
       "      <td>-0.935549</td>\n",
       "      <td>-0.714854</td>\n",
       "      <td>1.169092</td>\n",
       "      <td>-0.441372</td>\n",
       "      <td>-0.693405</td>\n",
       "      <td>-1.013212</td>\n",
       "      <td>-0.500214</td>\n",
       "      <td>0.046207</td>\n",
       "    </tr>\n",
       "  </tbody>\n",
       "</table>\n",
       "<p>4 rows × 32 columns</p>\n",
       "</div>"
      ],
      "text/plain": [
       "        sensor_1  sensor_2  sensor_3  sensor_4  sensor_5  sensor_6  sensor_7  \\\n",
       "target                                                                         \n",
       "0      -0.425433 -0.922978  1.389976  0.559473 -0.694207  0.015784  0.793226   \n",
       "1      -0.692796 -0.776260 -1.040046 -0.796645 -0.716867 -0.864049  0.217547   \n",
       "2      -2.346430 -0.822219  1.015480  0.079543  0.805130 -0.322211 -1.559588   \n",
       "3      -0.983485 -1.559744 -3.951593 -0.422654 -0.727304 -0.518749  3.218229   \n",
       "\n",
       "        sensor_8  sensor_9  sensor_10  ...  sensor_23  sensor_24  sensor_25  \\\n",
       "target                                 ...                                    \n",
       "0      -0.913523 -0.561867  -0.802052  ...   0.022476  -0.056393  -1.587852   \n",
       "1      -0.588134 -0.795507  -0.470282  ...  -0.727154  -0.841780  -0.605011   \n",
       "2      -1.354339 -1.188115  -1.084991  ...   0.926393  -0.561614  -0.598858   \n",
       "3      -0.876624 -0.636275  -0.459929  ...  -0.134662   0.026740  -0.935549   \n",
       "\n",
       "        sensor_26  sensor_27  sensor_28  sensor_29  sensor_30  sensor_31  \\\n",
       "target                                                                     \n",
       "0       -0.420015   0.905688   0.151944  -0.626062  -0.822711  -0.621473   \n",
       "1       -0.622476   0.257340  -0.515845  -0.883002  -0.682358   0.154507   \n",
       "2       -0.591853  -2.619469  -0.660750  -0.706551  -0.714254  -0.997320   \n",
       "3       -0.714854   1.169092  -0.441372  -0.693405  -1.013212  -0.500214   \n",
       "\n",
       "        sensor_32  \n",
       "target             \n",
       "0       -1.962038  \n",
       "1       -0.607232  \n",
       "2       -0.504212  \n",
       "3        0.046207  \n",
       "\n",
       "[4 rows x 32 columns]"
      ]
     },
     "execution_count": 3,
     "metadata": {},
     "output_type": "execute_result"
    }
   ],
   "source": [
    "gr_mu = train.groupby('target').mean().iloc[:, 1:]\n",
    "gr_mu"
   ]
  },
  {
   "cell_type": "code",
   "execution_count": 4,
   "id": "9cd1012a-d063-4347-aa64-31f90043944f",
   "metadata": {},
   "outputs": [
    {
     "data": {
      "text/plain": [
       "array([[-0.42543341, -0.92297827,  1.38997599,  0.55947265],\n",
       "       [-0.69420725,  0.01578392,  0.79322646, -0.91352322],\n",
       "       [-0.56186682, -0.80205178, -1.59024312, -1.49077731],\n",
       "       [-1.07621652, -1.28340279,  0.63719079, -1.48267005],\n",
       "       [-0.4770604 , -0.30719699, -1.1636069 ,  0.04436227],\n",
       "       [-0.71106263, -0.72865378,  0.02247641, -0.0563928 ],\n",
       "       [-1.5878522 , -0.42001547,  0.90568842,  0.15194381],\n",
       "       [-0.62606176, -0.8227112 , -0.62147315, -1.96203803]])"
      ]
     },
     "execution_count": 4,
     "metadata": {},
     "output_type": "execute_result"
    }
   ],
   "source": [
    "np.array(gr_mu.iloc[0]).reshape(8, 4)"
   ]
  },
  {
   "cell_type": "markdown",
   "id": "1d26066d-cc1c-43da-a1fa-c59ec57ad7d9",
   "metadata": {},
   "source": [
    "[plt.imshow 참고 자료](https://pyvisuall.tistory.com/78)"
   ]
  },
  {
   "cell_type": "code",
   "execution_count": 5,
   "id": "6b497c09-edb4-4e34-884d-b67ffd5fcee7",
   "metadata": {},
   "outputs": [
    {
     "data": {
      "image/png": "[encoded data removed]",
      "text/plain": [
       "<Figure size 864x432 with 4 Axes>"
      ]
     },
     "metadata": {
      "needs_background": "light"
     },
     "output_type": "display_data"
    }
   ],
   "source": [
    "fig, ax = plt.subplots(nrows = 1, ncols = 4, figsize = (12, 6))\n",
    "for i in range(4):\n",
    "    ax[i].set_title(f'target {i} Image')\n",
    "    ax[i].imshow(np.array(gr_mu.iloc[i]).reshape(8, 4)) # 원하는 크기의 행렬을 만들어서 각 칸을 색으로 채우는 함수 or 이미지를 보기 위한 함수"
   ]
  },
  {
   "cell_type": "markdown",
   "id": "6929e3d3-b79a-4c0c-9d7d-5594384d5668",
   "metadata": {},
   "source": [
    "target별로 어느 정도 다른 형태를 띈다고 볼 수 있다."
   ]
  },
  {
   "cell_type": "code",
   "execution_count": 6,
   "id": "0c0d58c7-cda6-48e6-955d-3b2a8c486b54",
   "metadata": {},
   "outputs": [],
   "source": [
    "X = train.iloc[:, 1:-1]\n",
    "target = test.iloc[:, 1:]"
   ]
  },
  {
   "cell_type": "markdown",
   "id": "d2f0571c-45a5-4d86-b54e-ac59a962a48b",
   "metadata": {},
   "source": [
    "sensor1 ~ 32이기 때문에 8*4형태로 바꾸어준다."
   ]
  },
  {
   "cell_type": "code",
   "execution_count": 7,
   "id": "349b08d4-1377-4903-8147-659ab97817f2",
   "metadata": {},
   "outputs": [],
   "source": [
    "X = np.array(X).reshape(-1, 8, 4, 1) # 구조 재배열\n",
    "target = np.array(target).reshape(-1, 8, 4, 1) # 구조 재배열"
   ]
  },
  {
   "cell_type": "markdown",
   "id": "d1d0ec27-1930-443c-a6e4-71d6d67f08f8",
   "metadata": {},
   "source": [
    "MultiClass를 위해 target 값에 One-Hot 인코딩 취함"
   ]
  },
  {
   "cell_type": "code",
   "execution_count": 8,
   "id": "c22ac0b7-65b9-4fe0-80a2-488117f78669",
   "metadata": {},
   "outputs": [],
   "source": [
    "ohe = OneHotEncoder(sparse = False)"
   ]
  },
  {
   "cell_type": "code",
   "execution_count": 9,
   "id": "d95a64c0-e28c-4a0e-a1cb-325fd2c01e3d",
   "metadata": {},
   "outputs": [],
   "source": [
    "y = ohe.fit_transform(train[['target']]) # target 값을 가변수로 변환"
   ]
  },
  {
   "cell_type": "code",
   "execution_count": 10,
   "id": "ebd9915d-61c0-447a-8a71-24eecfc81871",
   "metadata": {},
   "outputs": [
    {
     "data": {
      "text/plain": [
       "array([[0., 1., 0., 0.],\n",
       "       [0., 1., 0., 0.],\n",
       "       [1., 0., 0., 0.],\n",
       "       ...,\n",
       "       [0., 0., 0., 1.],\n",
       "       [0., 1., 0., 0.],\n",
       "       [0., 0., 1., 0.]])"
      ]
     },
     "execution_count": 10,
     "metadata": {},
     "output_type": "execute_result"
    }
   ],
   "source": [
    "y"
   ]
  },
  {
   "cell_type": "markdown",
   "id": "fa3e3baa-42a5-4f53-b8c1-ef6679b563f0",
   "metadata": {},
   "source": [
    "[StratifiedKFold 참고 자료1](https://continuous-development.tistory.com/166)  \n",
    "[StratifiedKFold 참고 자료2](https://velog.io/@skyepodium/K-Fold-%EA%B5%90%EC%B0%A8%EA%B2%80%EC%A6%9D)\n",
    "\n",
    "- target에 속성값의 개수를 동일하게 가져감으로써 kFold처럼 데이터가 한 곳으로 몰리는 것 방지\n",
    "- 분류 문제에서만 사용(회귀X)\n",
    "- cross_val_score는 내부적으로 StratifiedKFold 사용"
   ]
  },
  {
   "cell_type": "code",
   "execution_count": 11,
   "id": "7e41de17-086e-43b4-8acf-baf987c68313",
   "metadata": {},
   "outputs": [],
   "source": [
    "skf = StratifiedKFold(n_splits = 10, random_state= 42, shuffle=True) # shuffle=True: 데이터 분할 전 섞기"
   ]
  },
  {
   "cell_type": "code",
   "execution_count": 12,
   "id": "39fa1405-d20b-45f6-8d24-daa2a08843d8",
   "metadata": {},
   "outputs": [],
   "source": [
    "es = EarlyStopping(monitor='val_acc', patience = 5, mode = 'max', verbose = 0)"
   ]
  },
  {
   "cell_type": "code",
   "execution_count": null,
   "id": "1562fff3-a4d4-468f-9c38-b932d27e2dca",
   "metadata": {},
   "outputs": [],
   "source": []
  }
 ],
 "metadata": {
  "kernelspec": {
   "display_name": "Python 3",
   "language": "python",
   "name": "python3"
  },
  "language_info": {
   "codemirror_mode": {
    "name": "ipython",
    "version": 3
   },
   "file_extension": ".py",
   "mimetype": "text/x-python",
   "name": "python",
   "nbconvert_exporter": "python",
   "pygments_lexer": "ipython3",
   "version": "3.8.8"
  }
 },
 "nbformat": 4,
 "nbformat_minor": 5
}
