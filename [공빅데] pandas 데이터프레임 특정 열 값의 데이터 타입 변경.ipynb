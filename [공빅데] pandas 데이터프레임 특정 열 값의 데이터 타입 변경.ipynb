{
 "cells": [
  {
   "cell_type": "markdown",
   "id": "e9c53fd0-e0a0-464b-affd-b1c037b5ca48",
   "metadata": {},
   "source": [
    "## [Pandas 데이터프레임 특정 열값의 데이터 타입 변경하기](https://wonhwa.tistory.com/14)"
   ]
  },
  {
   "cell_type": "code",
   "execution_count": 1,
   "id": "f83e5c72-ea22-49c2-bf59-3bca14bbb326",
   "metadata": {},
   "outputs": [],
   "source": [
    "import pandas as pd\n",
    "from numpy import NaN, NAN, nan # 누락값 넣기 위한 모듈 불러오기"
   ]
  },
  {
   "cell_type": "code",
   "execution_count": 4,
   "id": "850bd507-ec29-4297-9d6c-eda7d7d3682c",
   "metadata": {},
   "outputs": [],
   "source": [
    "df = pd.DataFrame({'구분': [1,2,3,4,5,6],\n",
    "                  '인허가일자': [20160312, '2020.02.01', 201603, 99991230, 1980, 192012],\n",
    "                  '휴업일자': [20160312.0, '2020.320', 201603.0, NaN, '2020-02-22', '']})"
   ]
  },
  {
   "cell_type": "code",
   "execution_count": 5,
   "id": "967e817e-df25-42e8-9a10-1250c5b52bc3",
   "metadata": {},
   "outputs": [
    {
     "data": {
      "text/html": [
       "<div>\n",
       "<style scoped>\n",
       "    .dataframe tbody tr th:only-of-type {\n",
       "        vertical-align: middle;\n",
       "    }\n",
       "\n",
       "    .dataframe tbody tr th {\n",
       "        vertical-align: top;\n",
       "    }\n",
       "\n",
       "    .dataframe thead th {\n",
       "        text-align: right;\n",
       "    }\n",
       "</style>\n",
       "<table border=\"1\" class=\"dataframe\">\n",
       "  <thead>\n",
       "    <tr style=\"text-align: right;\">\n",
       "      <th></th>\n",
       "      <th>구분</th>\n",
       "      <th>인허가일자</th>\n",
       "      <th>휴업일자</th>\n",
       "    </tr>\n",
       "  </thead>\n",
       "  <tbody>\n",
       "    <tr>\n",
       "      <th>0</th>\n",
       "      <td>1</td>\n",
       "      <td>20160312</td>\n",
       "      <td>20160312.0</td>\n",
       "    </tr>\n",
       "    <tr>\n",
       "      <th>1</th>\n",
       "      <td>2</td>\n",
       "      <td>2020.02.01</td>\n",
       "      <td>2020.320</td>\n",
       "    </tr>\n",
       "    <tr>\n",
       "      <th>2</th>\n",
       "      <td>3</td>\n",
       "      <td>201603</td>\n",
       "      <td>201603.0</td>\n",
       "    </tr>\n",
       "    <tr>\n",
       "      <th>3</th>\n",
       "      <td>4</td>\n",
       "      <td>99991230</td>\n",
       "      <td>NaN</td>\n",
       "    </tr>\n",
       "    <tr>\n",
       "      <th>4</th>\n",
       "      <td>5</td>\n",
       "      <td>1980</td>\n",
       "      <td>2020-02-22</td>\n",
       "    </tr>\n",
       "    <tr>\n",
       "      <th>5</th>\n",
       "      <td>6</td>\n",
       "      <td>192012</td>\n",
       "      <td></td>\n",
       "    </tr>\n",
       "  </tbody>\n",
       "</table>\n",
       "</div>"
      ],
      "text/plain": [
       "   구분       인허가일자        휴업일자\n",
       "0   1    20160312  20160312.0\n",
       "1   2  2020.02.01    2020.320\n",
       "2   3      201603    201603.0\n",
       "3   4    99991230         NaN\n",
       "4   5        1980  2020-02-22\n",
       "5   6      192012            "
      ]
     },
     "execution_count": 5,
     "metadata": {},
     "output_type": "execute_result"
    }
   ],
   "source": [
    "df"
   ]
  },
  {
   "cell_type": "markdown",
   "id": "692be2e6-e434-47b2-9948-a9751b14f0d7",
   "metadata": {},
   "source": [
    "### step1. 빈칸을 NaN으로 채우기"
   ]
  },
  {
   "cell_type": "code",
   "execution_count": 6,
   "id": "5a2b594b-d114-44bf-9421-81f4011db805",
   "metadata": {},
   "outputs": [
    {
     "data": {
      "text/html": [
       "<div>\n",
       "<style scoped>\n",
       "    .dataframe tbody tr th:only-of-type {\n",
       "        vertical-align: middle;\n",
       "    }\n",
       "\n",
       "    .dataframe tbody tr th {\n",
       "        vertical-align: top;\n",
       "    }\n",
       "\n",
       "    .dataframe thead th {\n",
       "        text-align: right;\n",
       "    }\n",
       "</style>\n",
       "<table border=\"1\" class=\"dataframe\">\n",
       "  <thead>\n",
       "    <tr style=\"text-align: right;\">\n",
       "      <th></th>\n",
       "      <th>구분</th>\n",
       "      <th>인허가일자</th>\n",
       "      <th>휴업일자</th>\n",
       "    </tr>\n",
       "  </thead>\n",
       "  <tbody>\n",
       "    <tr>\n",
       "      <th>0</th>\n",
       "      <td>1</td>\n",
       "      <td>20160312</td>\n",
       "      <td>20160312.0</td>\n",
       "    </tr>\n",
       "    <tr>\n",
       "      <th>1</th>\n",
       "      <td>2</td>\n",
       "      <td>2020.02.01</td>\n",
       "      <td>2020.320</td>\n",
       "    </tr>\n",
       "    <tr>\n",
       "      <th>2</th>\n",
       "      <td>3</td>\n",
       "      <td>201603</td>\n",
       "      <td>201603.0</td>\n",
       "    </tr>\n",
       "    <tr>\n",
       "      <th>3</th>\n",
       "      <td>4</td>\n",
       "      <td>99991230</td>\n",
       "      <td>NaN</td>\n",
       "    </tr>\n",
       "    <tr>\n",
       "      <th>4</th>\n",
       "      <td>5</td>\n",
       "      <td>1980</td>\n",
       "      <td>2020-02-22</td>\n",
       "    </tr>\n",
       "    <tr>\n",
       "      <th>5</th>\n",
       "      <td>6</td>\n",
       "      <td>192012</td>\n",
       "      <td>NaN</td>\n",
       "    </tr>\n",
       "  </tbody>\n",
       "</table>\n",
       "</div>"
      ],
      "text/plain": [
       "   구분       인허가일자        휴업일자\n",
       "0   1    20160312  20160312.0\n",
       "1   2  2020.02.01    2020.320\n",
       "2   3      201603    201603.0\n",
       "3   4    99991230         NaN\n",
       "4   5        1980  2020-02-22\n",
       "5   6      192012         NaN"
      ]
     },
     "execution_count": 6,
     "metadata": {},
     "output_type": "execute_result"
    }
   ],
   "source": [
    "# 비어 있는 값을 NaN으로 바꾸기\n",
    "df = df.replace(r'^\\s*$', NaN, regex=True)\n",
    "df"
   ]
  },
  {
   "cell_type": "markdown",
   "id": "6a13d5f4-576a-4e89-8259-d4659fdb54d1",
   "metadata": {},
   "source": [
    "### step2. NaN을 다른 값으로 변경하기"
   ]
  },
  {
   "cell_type": "code",
   "execution_count": 7,
   "id": "ab4df7bf-d702-4681-af43-644d07706bc1",
   "metadata": {},
   "outputs": [
    {
     "data": {
      "text/html": [
       "<div>\n",
       "<style scoped>\n",
       "    .dataframe tbody tr th:only-of-type {\n",
       "        vertical-align: middle;\n",
       "    }\n",
       "\n",
       "    .dataframe tbody tr th {\n",
       "        vertical-align: top;\n",
       "    }\n",
       "\n",
       "    .dataframe thead th {\n",
       "        text-align: right;\n",
       "    }\n",
       "</style>\n",
       "<table border=\"1\" class=\"dataframe\">\n",
       "  <thead>\n",
       "    <tr style=\"text-align: right;\">\n",
       "      <th></th>\n",
       "      <th>구분</th>\n",
       "      <th>인허가일자</th>\n",
       "      <th>휴업일자</th>\n",
       "    </tr>\n",
       "  </thead>\n",
       "  <tbody>\n",
       "    <tr>\n",
       "      <th>0</th>\n",
       "      <td>1</td>\n",
       "      <td>20160312</td>\n",
       "      <td>20160312.0</td>\n",
       "    </tr>\n",
       "    <tr>\n",
       "      <th>1</th>\n",
       "      <td>2</td>\n",
       "      <td>2020.02.01</td>\n",
       "      <td>2020.320</td>\n",
       "    </tr>\n",
       "    <tr>\n",
       "      <th>2</th>\n",
       "      <td>3</td>\n",
       "      <td>201603</td>\n",
       "      <td>201603.0</td>\n",
       "    </tr>\n",
       "    <tr>\n",
       "      <th>3</th>\n",
       "      <td>4</td>\n",
       "      <td>99991230</td>\n",
       "      <td>0</td>\n",
       "    </tr>\n",
       "    <tr>\n",
       "      <th>4</th>\n",
       "      <td>5</td>\n",
       "      <td>1980</td>\n",
       "      <td>2020-02-22</td>\n",
       "    </tr>\n",
       "    <tr>\n",
       "      <th>5</th>\n",
       "      <td>6</td>\n",
       "      <td>192012</td>\n",
       "      <td>0</td>\n",
       "    </tr>\n",
       "  </tbody>\n",
       "</table>\n",
       "</div>"
      ],
      "text/plain": [
       "   구분       인허가일자        휴업일자\n",
       "0   1    20160312  20160312.0\n",
       "1   2  2020.02.01    2020.320\n",
       "2   3      201603    201603.0\n",
       "3   4    99991230           0\n",
       "4   5        1980  2020-02-22\n",
       "5   6      192012           0"
      ]
     },
     "execution_count": 7,
     "metadata": {},
     "output_type": "execute_result"
    }
   ],
   "source": [
    "# 누락값 처리 NaN을 다른 값으로 변경하기\n",
    "df = df.fillna(0) # 다른 값 변경시, fillna(변경할 숫자).iloc[행위치, 열위치] 입력하여 변경\n",
    "df"
   ]
  },
  {
   "cell_type": "markdown",
   "id": "a430e39e-43da-4b56-9d5f-f92bb38f927c",
   "metadata": {},
   "source": [
    "### step3. 문자열을 정수로 변환하기"
   ]
  },
  {
   "cell_type": "code",
   "execution_count": 8,
   "id": "a34810d2-4b94-4fc6-9b85-15e3263a154a",
   "metadata": {},
   "outputs": [],
   "source": [
    "# 문자열을 정수로 변경하기\n",
    "import re\n",
    "# string의 특수문자 제거하는 함수\n",
    "def cleanString(x):\n",
    "    x1 = '' # string 타입\n",
    "    if type(x1) == type(x):\n",
    "        x = re.sub('[-=.#/?:$}]', '', x) # 특수문자 제거\n",
    "        x1 = x.replace(\" \", \"\") # 공백제거\n",
    "        return int(x1)\n",
    "    else:\n",
    "        return x"
   ]
  },
  {
   "cell_type": "code",
   "execution_count": 11,
   "id": "546c680e-45da-4c7d-934f-10b39555288d",
   "metadata": {},
   "outputs": [],
   "source": [
    "# 인허가일자 str int로 변환하기\n",
    "df['인하가일자'] = df['인허가일자'].apply(cleanString)\n",
    "\n",
    "# 휴업일자 str int로 변환하기\n",
    "df['휴업일자'] = df['휴업일자'].apply(cleanString)\n",
    "\n",
    "# 휴업일자 float 타입을 int로 바꾸기\n",
    "df['휴업일자'] = df['휴업일자'].astype('int64')"
   ]
  },
  {
   "cell_type": "code",
   "execution_count": 12,
   "id": "41f98609-de9e-40b0-b6e1-aa639db60226",
   "metadata": {},
   "outputs": [
    {
     "data": {
      "text/html": [
       "<div>\n",
       "<style scoped>\n",
       "    .dataframe tbody tr th:only-of-type {\n",
       "        vertical-align: middle;\n",
       "    }\n",
       "\n",
       "    .dataframe tbody tr th {\n",
       "        vertical-align: top;\n",
       "    }\n",
       "\n",
       "    .dataframe thead th {\n",
       "        text-align: right;\n",
       "    }\n",
       "</style>\n",
       "<table border=\"1\" class=\"dataframe\">\n",
       "  <thead>\n",
       "    <tr style=\"text-align: right;\">\n",
       "      <th></th>\n",
       "      <th>구분</th>\n",
       "      <th>인허가일자</th>\n",
       "      <th>휴업일자</th>\n",
       "      <th>인하가일자</th>\n",
       "    </tr>\n",
       "  </thead>\n",
       "  <tbody>\n",
       "    <tr>\n",
       "      <th>0</th>\n",
       "      <td>1</td>\n",
       "      <td>20160312</td>\n",
       "      <td>20160312</td>\n",
       "      <td>20160312</td>\n",
       "    </tr>\n",
       "    <tr>\n",
       "      <th>1</th>\n",
       "      <td>2</td>\n",
       "      <td>2020.02.01</td>\n",
       "      <td>2020320</td>\n",
       "      <td>20200201</td>\n",
       "    </tr>\n",
       "    <tr>\n",
       "      <th>2</th>\n",
       "      <td>3</td>\n",
       "      <td>201603</td>\n",
       "      <td>201603</td>\n",
       "      <td>201603</td>\n",
       "    </tr>\n",
       "    <tr>\n",
       "      <th>3</th>\n",
       "      <td>4</td>\n",
       "      <td>99991230</td>\n",
       "      <td>0</td>\n",
       "      <td>99991230</td>\n",
       "    </tr>\n",
       "    <tr>\n",
       "      <th>4</th>\n",
       "      <td>5</td>\n",
       "      <td>1980</td>\n",
       "      <td>20200222</td>\n",
       "      <td>1980</td>\n",
       "    </tr>\n",
       "    <tr>\n",
       "      <th>5</th>\n",
       "      <td>6</td>\n",
       "      <td>192012</td>\n",
       "      <td>0</td>\n",
       "      <td>192012</td>\n",
       "    </tr>\n",
       "  </tbody>\n",
       "</table>\n",
       "</div>"
      ],
      "text/plain": [
       "   구분       인허가일자      휴업일자     인하가일자\n",
       "0   1    20160312  20160312  20160312\n",
       "1   2  2020.02.01   2020320  20200201\n",
       "2   3      201603    201603    201603\n",
       "3   4    99991230         0  99991230\n",
       "4   5        1980  20200222      1980\n",
       "5   6      192012         0    192012"
      ]
     },
     "execution_count": 12,
     "metadata": {},
     "output_type": "execute_result"
    }
   ],
   "source": [
    "df"
   ]
  },
  {
   "cell_type": "code",
   "execution_count": null,
   "id": "16c6f2d7-1ee8-463f-ab54-8dc6faabd3b6",
   "metadata": {},
   "outputs": [],
   "source": []
  }
 ],
 "metadata": {
  "kernelspec": {
   "display_name": "Python 3",
   "language": "python",
   "name": "python3"
  },
  "language_info": {
   "codemirror_mode": {
    "name": "ipython",
    "version": 3
   },
   "file_extension": ".py",
   "mimetype": "text/x-python",
   "name": "python",
   "nbconvert_exporter": "python",
   "pygments_lexer": "ipython3",
   "version": "3.8.8"
  }
 },
 "nbformat": 4,
 "nbformat_minor": 5
}
