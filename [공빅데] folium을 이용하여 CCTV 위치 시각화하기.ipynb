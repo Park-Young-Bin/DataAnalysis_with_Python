{
 "cells": [
  {
   "cell_type": "markdown",
   "id": "6e80b730-498e-4cdc-8127-6390fd46055f",
   "metadata": {},
   "source": [
    "# [[공빅데] folium을 이용하여 CCTV 위치 시각화하기](https://cafe.naver.com/21pbds)\n",
    "[참고1](https://wonhwa.tistory.com/21)  \n",
    "[참고2](https://python-visualization.github.io/folium/)"
   ]
  },
  {
   "cell_type": "markdown",
   "id": "8671aea8-2426-43a8-9720-3f133c41e7c0",
   "metadata": {},
   "source": [
    "### step1. 데이터 준비하기\n",
    "[데이터 출처](https://data.seoul.go.kr/dataList/OA-20926/S/1/datasetView.do)"
   ]
  },
  {
   "cell_type": "markdown",
   "id": "be1e3592-f465-4b79-a623-4a05fa604415",
   "metadata": {},
   "source": [
    "### step2. 위치정보 데이터 추출하기"
   ]
  },
  {
   "cell_type": "code",
   "execution_count": 20,
   "id": "20b5a4c2-fc43-4a58-a5e4-8659951de604",
   "metadata": {},
   "outputs": [
    {
     "data": {
      "text/html": [
       "<div>\n",
       "<style scoped>\n",
       "    .dataframe tbody tr th:only-of-type {\n",
       "        vertical-align: middle;\n",
       "    }\n",
       "\n",
       "    .dataframe tbody tr th {\n",
       "        vertical-align: top;\n",
       "    }\n",
       "\n",
       "    .dataframe thead th {\n",
       "        text-align: right;\n",
       "    }\n",
       "</style>\n",
       "<table border=\"1\" class=\"dataframe\">\n",
       "  <thead>\n",
       "    <tr style=\"text-align: right;\">\n",
       "      <th></th>\n",
       "      <th>자치구</th>\n",
       "      <th>안심 주소</th>\n",
       "      <th>CCTV 용도</th>\n",
       "      <th>WGS x좌표</th>\n",
       "      <th>WGS y좌표</th>\n",
       "      <th>CCTV 수량</th>\n",
       "      <th>수정 일시</th>\n",
       "    </tr>\n",
       "  </thead>\n",
       "  <tbody>\n",
       "    <tr>\n",
       "      <th>0</th>\n",
       "      <td>용산구</td>\n",
       "      <td>서울특별시 용산구 청파동3가 청파로43길 63</td>\n",
       "      <td>도심공원</td>\n",
       "      <td>37.543558</td>\n",
       "      <td>126.966096</td>\n",
       "      <td>2</td>\n",
       "      <td>2019-12-12</td>\n",
       "    </tr>\n",
       "    <tr>\n",
       "      <th>1</th>\n",
       "      <td>용산구</td>\n",
       "      <td>서울특별시 용산구 동빙고동 녹사평대로14길 39</td>\n",
       "      <td>NaN</td>\n",
       "      <td>37.522714</td>\n",
       "      <td>126.995862</td>\n",
       "      <td>1</td>\n",
       "      <td>2019-12-12</td>\n",
       "    </tr>\n",
       "    <tr>\n",
       "      <th>2</th>\n",
       "      <td>용산구</td>\n",
       "      <td>서울특별시 용산구 보광동 보광로12가길 29</td>\n",
       "      <td>NaN</td>\n",
       "      <td>37.528089</td>\n",
       "      <td>127.000957</td>\n",
       "      <td>1</td>\n",
       "      <td>2019-12-12</td>\n",
       "    </tr>\n",
       "    <tr>\n",
       "      <th>3</th>\n",
       "      <td>용산구</td>\n",
       "      <td>서울특별시 용산구 한남동 이태원로 222</td>\n",
       "      <td>NaN</td>\n",
       "      <td>37.534481</td>\n",
       "      <td>126.999332</td>\n",
       "      <td>1</td>\n",
       "      <td>2019-12-12</td>\n",
       "    </tr>\n",
       "    <tr>\n",
       "      <th>4</th>\n",
       "      <td>용산구</td>\n",
       "      <td>서울특별시 용산구 후암동 두텁바위로38가길 11</td>\n",
       "      <td>NaN</td>\n",
       "      <td>37.546944</td>\n",
       "      <td>126.983996</td>\n",
       "      <td>1</td>\n",
       "      <td>2019-12-12</td>\n",
       "    </tr>\n",
       "  </tbody>\n",
       "</table>\n",
       "</div>"
      ],
      "text/plain": [
       "   자치구                        안심 주소 CCTV 용도    WGS x좌표     WGS y좌표  CCTV 수량  \\\n",
       "0  용산구   서울특별시 용산구 청파동3가 청파로43길 63     도심공원  37.543558  126.966096        2   \n",
       "1  용산구  서울특별시 용산구 동빙고동 녹사평대로14길 39      NaN  37.522714  126.995862        1   \n",
       "2  용산구    서울특별시 용산구 보광동 보광로12가길 29      NaN  37.528089  127.000957        1   \n",
       "3  용산구      서울특별시 용산구 한남동 이태원로 222      NaN  37.534481  126.999332        1   \n",
       "4  용산구  서울특별시 용산구 후암동 두텁바위로38가길 11      NaN  37.546944  126.983996        1   \n",
       "\n",
       "        수정 일시  \n",
       "0  2019-12-12  \n",
       "1  2019-12-12  \n",
       "2  2019-12-12  \n",
       "3  2019-12-12  \n",
       "4  2019-12-12  "
      ]
     },
     "execution_count": 20,
     "metadata": {},
     "output_type": "execute_result"
    }
   ],
   "source": [
    "# csv 파일 열기\n",
    "import pandas as pd\n",
    "\n",
    "cctv_csv = pd.read_csv('pydata/yongsan_CCTV.csv', encoding = 'cp949') \n",
    "cctv_csv.head()"
   ]
  },
  {
   "cell_type": "code",
   "execution_count": 21,
   "id": "9c27f60f-4d44-4ced-a0c4-e244e91bd507",
   "metadata": {},
   "outputs": [
    {
     "data": {
      "text/plain": [
       "자치구        0\n",
       "안심 주소      0\n",
       "CCTV 용도    4\n",
       "WGS x좌표    1\n",
       "WGS y좌표    1\n",
       "CCTV 수량    0\n",
       "수정 일시      0\n",
       "dtype: int64"
      ]
     },
     "execution_count": 21,
     "metadata": {},
     "output_type": "execute_result"
    }
   ],
   "source": [
    "cctv_csv.isnull().sum()"
   ]
  },
  {
   "cell_type": "code",
   "execution_count": 22,
   "id": "81e7a404-1a14-4e48-a2ca-2f6c441e8015",
   "metadata": {},
   "outputs": [
    {
     "data": {
      "text/html": [
       "<div>\n",
       "<style scoped>\n",
       "    .dataframe tbody tr th:only-of-type {\n",
       "        vertical-align: middle;\n",
       "    }\n",
       "\n",
       "    .dataframe tbody tr th {\n",
       "        vertical-align: top;\n",
       "    }\n",
       "\n",
       "    .dataframe thead th {\n",
       "        text-align: right;\n",
       "    }\n",
       "</style>\n",
       "<table border=\"1\" class=\"dataframe\">\n",
       "  <thead>\n",
       "    <tr style=\"text-align: right;\">\n",
       "      <th></th>\n",
       "      <th>자치구</th>\n",
       "      <th>안심 주소</th>\n",
       "      <th>CCTV 용도</th>\n",
       "      <th>WGS x좌표</th>\n",
       "      <th>WGS y좌표</th>\n",
       "      <th>CCTV 수량</th>\n",
       "      <th>수정 일시</th>\n",
       "    </tr>\n",
       "  </thead>\n",
       "  <tbody>\n",
       "    <tr>\n",
       "      <th>0</th>\n",
       "      <td>용산구</td>\n",
       "      <td>서울특별시 용산구 청파동3가 청파로43길 63</td>\n",
       "      <td>도심공원</td>\n",
       "      <td>37.543558</td>\n",
       "      <td>126.966096</td>\n",
       "      <td>2</td>\n",
       "      <td>2019-12-12</td>\n",
       "    </tr>\n",
       "    <tr>\n",
       "      <th>1</th>\n",
       "      <td>용산구</td>\n",
       "      <td>서울특별시 용산구 동빙고동 녹사평대로14길 39</td>\n",
       "      <td>0</td>\n",
       "      <td>37.522714</td>\n",
       "      <td>126.995862</td>\n",
       "      <td>1</td>\n",
       "      <td>2019-12-12</td>\n",
       "    </tr>\n",
       "    <tr>\n",
       "      <th>2</th>\n",
       "      <td>용산구</td>\n",
       "      <td>서울특별시 용산구 보광동 보광로12가길 29</td>\n",
       "      <td>0</td>\n",
       "      <td>37.528089</td>\n",
       "      <td>127.000957</td>\n",
       "      <td>1</td>\n",
       "      <td>2019-12-12</td>\n",
       "    </tr>\n",
       "    <tr>\n",
       "      <th>3</th>\n",
       "      <td>용산구</td>\n",
       "      <td>서울특별시 용산구 한남동 이태원로 222</td>\n",
       "      <td>0</td>\n",
       "      <td>37.534481</td>\n",
       "      <td>126.999332</td>\n",
       "      <td>1</td>\n",
       "      <td>2019-12-12</td>\n",
       "    </tr>\n",
       "    <tr>\n",
       "      <th>4</th>\n",
       "      <td>용산구</td>\n",
       "      <td>서울특별시 용산구 후암동 두텁바위로38가길 11</td>\n",
       "      <td>0</td>\n",
       "      <td>37.546944</td>\n",
       "      <td>126.983996</td>\n",
       "      <td>1</td>\n",
       "      <td>2019-12-12</td>\n",
       "    </tr>\n",
       "  </tbody>\n",
       "</table>\n",
       "</div>"
      ],
      "text/plain": [
       "   자치구                        안심 주소 CCTV 용도    WGS x좌표     WGS y좌표  CCTV 수량  \\\n",
       "0  용산구   서울특별시 용산구 청파동3가 청파로43길 63     도심공원  37.543558  126.966096        2   \n",
       "1  용산구  서울특별시 용산구 동빙고동 녹사평대로14길 39        0  37.522714  126.995862        1   \n",
       "2  용산구    서울특별시 용산구 보광동 보광로12가길 29        0  37.528089  127.000957        1   \n",
       "3  용산구      서울특별시 용산구 한남동 이태원로 222        0  37.534481  126.999332        1   \n",
       "4  용산구  서울특별시 용산구 후암동 두텁바위로38가길 11        0  37.546944  126.983996        1   \n",
       "\n",
       "        수정 일시  \n",
       "0  2019-12-12  \n",
       "1  2019-12-12  \n",
       "2  2019-12-12  \n",
       "3  2019-12-12  \n",
       "4  2019-12-12  "
      ]
     },
     "execution_count": 22,
     "metadata": {},
     "output_type": "execute_result"
    }
   ],
   "source": [
    "# 데이터프레임 nan 값 전부 0으로 대체\n",
    "cctv_csv = cctv_csv.fillna(0)\n",
    "cctv_csv.head()"
   ]
  },
  {
   "cell_type": "code",
   "execution_count": 23,
   "id": "804bf340-f004-446d-ae3b-88b501680c08",
   "metadata": {},
   "outputs": [
    {
     "data": {
      "text/plain": [
       "자치구        0\n",
       "안심 주소      0\n",
       "CCTV 용도    0\n",
       "WGS x좌표    0\n",
       "WGS y좌표    0\n",
       "CCTV 수량    0\n",
       "수정 일시      0\n",
       "dtype: int64"
      ]
     },
     "execution_count": 23,
     "metadata": {},
     "output_type": "execute_result"
    }
   ],
   "source": [
    "cctv_csv.isnull().sum()"
   ]
  },
  {
   "cell_type": "code",
   "execution_count": 24,
   "id": "b4e7a36f-c1e2-4ce7-b3e6-e50c4c40b2d6",
   "metadata": {},
   "outputs": [
    {
     "name": "stdout",
     "output_type": "stream",
     "text": [
      "x갯수:  743\n",
      "y갯수:  743\n"
     ]
    }
   ],
   "source": [
    "# x좌표(위도),y좌표(경도) 리스트로 만들기\n",
    "x = []\n",
    "y = []\n",
    "\n",
    "for i in range(len(cctv_csv['WGS x좌표'])):\n",
    "    if cctv_csv['WGS x좌표'][i] == 0.0 or cctv_csv['WGS y좌표'][i] == 0.0:\n",
    "        pass\n",
    "    else:\n",
    "\n",
    "        x.append(cctv_csv['WGS x좌표'][i])\n",
    "        y.append(cctv_csv['WGS y좌표'][i])\n",
    "print('x갯수: ',len(x))\n",
    "print('y갯수: ',len(y))"
   ]
  },
  {
   "cell_type": "markdown",
   "id": "7d22670c-b614-4713-bcf7-cc4fddbe2036",
   "metadata": {},
   "source": [
    "### step3. 지도에 위치 마커 표시하기\n"
   ]
  },
  {
   "cell_type": "code",
   "execution_count": 31,
   "id": "4fd43649-68bc-4ac1-bf80-bdf20e7c4752",
   "metadata": {},
   "outputs": [],
   "source": [
    "# 지도 생성 및 marker 지정하기\n",
    "import folium\n",
    "map_osm = folium.Map(location = [x[13], y[13]], zoom_start = 14) # 지도의 중심 위경도 설정\n",
    "for i in range(len(x)):\n",
    "    folium.Marker([x[i], y[i]], popup='용산CCTV_%d' %i, icon = folium.Icon(color = 'red', icon = 'info-sign')).add_to(map_osm)\n",
    "\n",
    "# 지도에서 범위 지정\n",
    "folium.CircleMarker(location = [x[13], y[13]], popup = '용산구 CCTV', radius = 300, color = '#3186cc', fill_color = '#3186cc').add_to(map_osm)\n",
    "\n",
    "# map 저장\n",
    "map_osm.save('pydata/yongsan_cctv.html')"
   ]
  }
 ],
 "metadata": {
  "kernelspec": {
   "display_name": "Python 3",
   "language": "python",
   "name": "python3"
  },
  "language_info": {
   "codemirror_mode": {
    "name": "ipython",
    "version": 3
   },
   "file_extension": ".py",
   "mimetype": "text/x-python",
   "name": "python",
   "nbconvert_exporter": "python",
   "pygments_lexer": "ipython3",
   "version": "3.8.8"
  }
 },
 "nbformat": 4,
 "nbformat_minor": 5
}
