{
 "cells": [
  {
   "cell_type": "markdown",
   "id": "904c671a-0e4a-4548-bd73-55930b0fdb16",
   "metadata": {},
   "source": [
    "# [[공빅데] 감성분석(영어)-영화 리뷰(tf-idf, word2vec, random forest) 성능평가](https://cafe.naver.com/21pbds)\n",
    "\n",
    "영어 감성분석을 여러 방법을 사용해 결과를 확인해본다.  \n",
    "영화 리뷰와 관련되어 그 리뷰가 긍정인지 부정인지 두 가지로 나누어 잘 예측하는지 확인한다."
   ]
  },
  {
   "cell_type": "code",
   "execution_count": 9,
   "id": "3a6cfcfb-522b-4e17-a325-68b98d578907",
   "metadata": {},
   "outputs": [
    {
     "data": {
      "text/html": [
       "<div>\n",
       "<style scoped>\n",
       "    .dataframe tbody tr th:only-of-type {\n",
       "        vertical-align: middle;\n",
       "    }\n",
       "\n",
       "    .dataframe tbody tr th {\n",
       "        vertical-align: top;\n",
       "    }\n",
       "\n",
       "    .dataframe thead th {\n",
       "        text-align: right;\n",
       "    }\n",
       "</style>\n",
       "<table border=\"1\" class=\"dataframe\">\n",
       "  <thead>\n",
       "    <tr style=\"text-align: right;\">\n",
       "      <th></th>\n",
       "      <th>id</th>\n",
       "      <th>sentiment</th>\n",
       "      <th>review</th>\n",
       "    </tr>\n",
       "  </thead>\n",
       "  <tbody>\n",
       "    <tr>\n",
       "      <th>0</th>\n",
       "      <td>\"5814_8\"</td>\n",
       "      <td>1</td>\n",
       "      <td>\"With all this stuff going down at the moment ...</td>\n",
       "    </tr>\n",
       "    <tr>\n",
       "      <th>1</th>\n",
       "      <td>\"2381_9\"</td>\n",
       "      <td>1</td>\n",
       "      <td>\"\\\"The Classic War of the Worlds\\\" by Timothy ...</td>\n",
       "    </tr>\n",
       "    <tr>\n",
       "      <th>2</th>\n",
       "      <td>\"7759_3\"</td>\n",
       "      <td>0</td>\n",
       "      <td>\"The film starts with a manager (Nicholas Bell...</td>\n",
       "    </tr>\n",
       "    <tr>\n",
       "      <th>3</th>\n",
       "      <td>\"3630_4\"</td>\n",
       "      <td>0</td>\n",
       "      <td>\"It must be assumed that those who praised thi...</td>\n",
       "    </tr>\n",
       "    <tr>\n",
       "      <th>4</th>\n",
       "      <td>\"9495_8\"</td>\n",
       "      <td>1</td>\n",
       "      <td>\"Superbly trashy and wondrously unpretentious ...</td>\n",
       "    </tr>\n",
       "  </tbody>\n",
       "</table>\n",
       "</div>"
      ],
      "text/plain": [
       "         id  sentiment                                             review\n",
       "0  \"5814_8\"          1  \"With all this stuff going down at the moment ...\n",
       "1  \"2381_9\"          1  \"\\\"The Classic War of the Worlds\\\" by Timothy ...\n",
       "2  \"7759_3\"          0  \"The film starts with a manager (Nicholas Bell...\n",
       "3  \"3630_4\"          0  \"It must be assumed that those who praised thi...\n",
       "4  \"9495_8\"          1  \"Superbly trashy and wondrously unpretentious ..."
      ]
     },
     "execution_count": 9,
     "metadata": {},
     "output_type": "execute_result"
    }
   ],
   "source": [
    "import pandas as pd\n",
    "import numpy as np\n",
    "import matplotlib.pyplot as plt\n",
    "import seaborn as sns\n",
    "\n",
    "train_data = pd.read_csv('pydata/labeledTrainData.tsv', \n",
    "                         header=0,\n",
    "                         delimiter='\\t', \n",
    "                         quoting=3 # 인용구(따옴표)를 무시\n",
    "                        )\n",
    "train_data.head()"
   ]
  },
  {
   "cell_type": "markdown",
   "id": "c3be041f-a40e-45da-9440-07d3be6cffc0",
   "metadata": {},
   "source": [
    "데이터를 불러오면 긍정(1) 또는 부정(0)값, 리뷰 3개의 열이 있음을 확인할 수 있다.  \n",
    "전체 데이터의 갯수를 확인하면"
   ]
  },
  {
   "cell_type": "code",
   "execution_count": 12,
   "id": "bc157582-1db3-4fe6-b58c-9727d7590be1",
   "metadata": {},
   "outputs": [
    {
     "name": "stdout",
     "output_type": "stream",
     "text": [
      "전체 학습 데이터의 개수: 25000\n"
     ]
    }
   ],
   "source": [
    "# 학습 데이터 갯수 확인\n",
    "print('전체 학습 데이터의 개수: {}'.format(len(train_data)))"
   ]
  },
  {
   "cell_type": "markdown",
   "id": "3b1f16d7-60ab-401a-8963-6e59cea0acbb",
   "metadata": {},
   "source": [
    "리뷰의 전체적인 정보를 알아본다."
   ]
  },
  {
   "cell_type": "code",
   "execution_count": 14,
   "id": "80e7dc17-cf55-49e6-b814-9556e189ac02",
   "metadata": {},
   "outputs": [
    {
     "data": {
      "text/plain": [
       "0    2304\n",
       "1     948\n",
       "2    2451\n",
       "3    2247\n",
       "4    2233\n",
       "Name: review, dtype: int64"
      ]
     },
     "execution_count": 14,
     "metadata": {},
     "output_type": "execute_result"
    }
   ],
   "source": [
    "# 리뷰 길이 확인\n",
    "train_length = train_data['review'].apply(len)\n",
    "train_length.head()"
   ]
  },
  {
   "cell_type": "code",
   "execution_count": 18,
   "id": "8bb81002-65b5-4691-aecb-fd2c6d3e674e",
   "metadata": {},
   "outputs": [
    {
     "name": "stdout",
     "output_type": "stream",
     "text": [
      "리뷰 길이 최댓값: 13710\n",
      "리뷰 길이 최솟값: 54\n",
      "리뷰 길이 평균값: 1329.71056\n",
      "리뷰 길이 표준편차: 1005.2191407969154\n",
      "리뷰 길이 중앙값: 983.0\n",
      "리뷰 길이 제1사분위: 705.0\n",
      "리뷰 길이 제3사분위: 1619.0\n"
     ]
    }
   ],
   "source": [
    "# 리뷰의 전체적인 정보 파악\n",
    "print('리뷰 길이 최댓값: {}'.format(np.max(train_length)))\n",
    "print('리뷰 길이 최솟값: {}'.format(np.min(train_length)))\n",
    "print('리뷰 길이 평균값: {}'.format(np.mean(train_length)))\n",
    "print('리뷰 길이 표준편차: {}'.format(np.std(train_length)))\n",
    "print('리뷰 길이 중앙값: {}'.format(np.median(train_length)))\n",
    "\n",
    "# 사분위는 0~100 스케일\n",
    "print('리뷰 길이 제1사분위: {}'.format(np.percentile(train_length, 25)))\n",
    "print('리뷰 길이 제3사분위: {}'.format(np.percentile(train_length, 75)))     "
   ]
  },
  {
   "cell_type": "markdown",
   "id": "586ff70a-b1c2-4aa5-940a-44b06f1d4672",
   "metadata": {},
   "source": [
    "이렇게 리뷰에 대한 간단한 통계 정보를 확인할 수 있다.  \n",
    "아래 방법으로 train_length를 데이터프레임으로 변환하고 describe 함수를 사용하여 빨리 확인할 수 있다."
   ]
  },
  {
   "cell_type": "code",
   "execution_count": 20,
   "id": "eba99c26-3060-4ae1-9fcd-99228d6ccfbf",
   "metadata": {},
   "outputs": [
    {
     "data": {
      "text/html": [
       "<div>\n",
       "<style scoped>\n",
       "    .dataframe tbody tr th:only-of-type {\n",
       "        vertical-align: middle;\n",
       "    }\n",
       "\n",
       "    .dataframe tbody tr th {\n",
       "        vertical-align: top;\n",
       "    }\n",
       "\n",
       "    .dataframe thead th {\n",
       "        text-align: right;\n",
       "    }\n",
       "</style>\n",
       "<table border=\"1\" class=\"dataframe\">\n",
       "  <thead>\n",
       "    <tr style=\"text-align: right;\">\n",
       "      <th></th>\n",
       "      <th>review</th>\n",
       "    </tr>\n",
       "  </thead>\n",
       "  <tbody>\n",
       "    <tr>\n",
       "      <th>count</th>\n",
       "      <td>25000.000000</td>\n",
       "    </tr>\n",
       "    <tr>\n",
       "      <th>mean</th>\n",
       "      <td>1329.710560</td>\n",
       "    </tr>\n",
       "    <tr>\n",
       "      <th>std</th>\n",
       "      <td>1005.239246</td>\n",
       "    </tr>\n",
       "    <tr>\n",
       "      <th>min</th>\n",
       "      <td>54.000000</td>\n",
       "    </tr>\n",
       "    <tr>\n",
       "      <th>25%</th>\n",
       "      <td>705.000000</td>\n",
       "    </tr>\n",
       "    <tr>\n",
       "      <th>50%</th>\n",
       "      <td>983.000000</td>\n",
       "    </tr>\n",
       "    <tr>\n",
       "      <th>75%</th>\n",
       "      <td>1619.000000</td>\n",
       "    </tr>\n",
       "    <tr>\n",
       "      <th>max</th>\n",
       "      <td>13710.000000</td>\n",
       "    </tr>\n",
       "  </tbody>\n",
       "</table>\n",
       "</div>"
      ],
      "text/plain": [
       "             review\n",
       "count  25000.000000\n",
       "mean    1329.710560\n",
       "std     1005.239246\n",
       "min       54.000000\n",
       "25%      705.000000\n",
       "50%      983.000000\n",
       "75%     1619.000000\n",
       "max    13710.000000"
      ]
     },
     "execution_count": 20,
     "metadata": {},
     "output_type": "execute_result"
    }
   ],
   "source": [
    "pd.DataFrame(train_length).describe()"
   ]
  },
  {
   "cell_type": "code",
   "execution_count": null,
   "id": "34594cbf-81eb-4bf1-bf58-83b8fcc8c876",
   "metadata": {},
   "outputs": [],
   "source": []
  }
 ],
 "metadata": {
  "kernelspec": {
   "display_name": "Python 3",
   "language": "python",
   "name": "python3"
  },
  "language_info": {
   "codemirror_mode": {
    "name": "ipython",
    "version": 3
   },
   "file_extension": ".py",
   "mimetype": "text/x-python",
   "name": "python",
   "nbconvert_exporter": "python",
   "pygments_lexer": "ipython3",
   "version": "3.8.8"
  }
 },
 "nbformat": 4,
 "nbformat_minor": 5
}
