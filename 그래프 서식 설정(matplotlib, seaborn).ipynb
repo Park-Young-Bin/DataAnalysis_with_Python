{
 "cells": [
  {
   "cell_type": "markdown",
   "id": "a1068104-116e-45a4-87f2-2801832c93d5",
   "metadata": {},
   "source": [
    "# 그래프 서식 설정(matplotlib, seaborn)\n",
    "- x, y축 눈금에 천단위 쉼표 넣기\n",
    "- 그래프 값 라벨링하기 + 천단위 쉼표 넣기\n",
    "- 축 눈금 글꼴 크기 축 제목 글꼴 + 축 눈금 회전\n",
    "- 눈금 범위+ 눈금 이름 + 간격 설정"
   ]
  },
  {
   "cell_type": "code",
   "execution_count": 1,
   "id": "2ddb8867-3f18-47e8-897f-4bfbb990ec0b",
   "metadata": {},
   "outputs": [],
   "source": [
    "# 필요한 라이브러리 불러오기\n",
    "import pandas as pd\n",
    "import numpy as np\n",
    "import matplotlib.pyplot as plt\n",
    "import seaborn as sns\n",
    "\n",
    "plt.style.use('seaborn-whitegrid')\n",
    "plt.rc('font', family = 'Malgun Gothic')\n",
    "plt.rcParams['axes.unicode_minus'] = False"
   ]
  },
  {
   "cell_type": "markdown",
   "id": "3fcf8a3e-798d-489f-842c-bb69d9e3ae34",
   "metadata": {},
   "source": [
    "### x축 눈금에 천단위 쉼표 넣기"
   ]
  },
  {
   "cell_type": "code",
   "execution_count": 9,
   "id": "dea945c0-a90b-4e93-bcd9-265da87364e5",
   "metadata": {},
   "outputs": [
    {
     "data": {
      "text/html": [
       "<div>\n",
       "<style scoped>\n",
       "    .dataframe tbody tr th:only-of-type {\n",
       "        vertical-align: middle;\n",
       "    }\n",
       "\n",
       "    .dataframe tbody tr th {\n",
       "        vertical-align: top;\n",
       "    }\n",
       "\n",
       "    .dataframe thead th {\n",
       "        text-align: right;\n",
       "    }\n",
       "</style>\n",
       "<table border=\"1\" class=\"dataframe\">\n",
       "  <thead>\n",
       "    <tr style=\"text-align: right;\">\n",
       "      <th></th>\n",
       "      <th>조사표 종류</th>\n",
       "      <th>가구원 일련번호(장애인)</th>\n",
       "      <th>가구원 일련번호(응답자)</th>\n",
       "      <th>조사지역(시도)</th>\n",
       "      <th>응답자 유형</th>\n",
       "      <th>대리응답이유</th>\n",
       "      <th>장애유형확인1</th>\n",
       "      <th>장애유형확인2</th>\n",
       "      <th>장애유형확인3</th>\n",
       "      <th>개인번호</th>\n",
       "      <th>...</th>\n",
       "      <th>보육,교육비</th>\n",
       "      <th>보호,간병비</th>\n",
       "      <th>재활기관이용료</th>\n",
       "      <th>통신비</th>\n",
       "      <th>장애인보조기기 구입,유지비</th>\n",
       "      <th>부모사후 및 노후대비비</th>\n",
       "      <th>기타.4</th>\n",
       "      <th>월평균 총 추가비용</th>\n",
       "      <th>wg_p</th>\n",
       "      <th>ws_p</th>\n",
       "    </tr>\n",
       "  </thead>\n",
       "  <tbody>\n",
       "    <tr>\n",
       "      <th>13</th>\n",
       "      <td>2</td>\n",
       "      <td>2</td>\n",
       "      <td>2</td>\n",
       "      <td>21</td>\n",
       "      <td>NaN</td>\n",
       "      <td>NaN</td>\n",
       "      <td>2</td>\n",
       "      <td>NaN</td>\n",
       "      <td>NaN</td>\n",
       "      <td>2</td>\n",
       "      <td>...</td>\n",
       "      <td>0</td>\n",
       "      <td>0</td>\n",
       "      <td>0</td>\n",
       "      <td>0</td>\n",
       "      <td>0</td>\n",
       "      <td>0</td>\n",
       "      <td>0</td>\n",
       "      <td>110</td>\n",
       "      <td>461.979521</td>\n",
       "      <td>1.176911</td>\n",
       "    </tr>\n",
       "    <tr>\n",
       "      <th>15</th>\n",
       "      <td>2</td>\n",
       "      <td>2</td>\n",
       "      <td>1</td>\n",
       "      <td>21</td>\n",
       "      <td>3.0</td>\n",
       "      <td>1.0</td>\n",
       "      <td>2</td>\n",
       "      <td>5.0</td>\n",
       "      <td>NaN</td>\n",
       "      <td>2</td>\n",
       "      <td>...</td>\n",
       "      <td>0</td>\n",
       "      <td>0</td>\n",
       "      <td>0</td>\n",
       "      <td>0</td>\n",
       "      <td>0</td>\n",
       "      <td>0</td>\n",
       "      <td>0</td>\n",
       "      <td>8</td>\n",
       "      <td>493.318225</td>\n",
       "      <td>1.256747</td>\n",
       "    </tr>\n",
       "    <tr>\n",
       "      <th>42</th>\n",
       "      <td>2</td>\n",
       "      <td>1</td>\n",
       "      <td>1</td>\n",
       "      <td>21</td>\n",
       "      <td>NaN</td>\n",
       "      <td>NaN</td>\n",
       "      <td>2</td>\n",
       "      <td>NaN</td>\n",
       "      <td>NaN</td>\n",
       "      <td>1</td>\n",
       "      <td>...</td>\n",
       "      <td>0</td>\n",
       "      <td>0</td>\n",
       "      <td>0</td>\n",
       "      <td>0</td>\n",
       "      <td>0</td>\n",
       "      <td>0</td>\n",
       "      <td>0</td>\n",
       "      <td>20</td>\n",
       "      <td>761.982341</td>\n",
       "      <td>1.671569</td>\n",
       "    </tr>\n",
       "    <tr>\n",
       "      <th>85</th>\n",
       "      <td>2</td>\n",
       "      <td>1</td>\n",
       "      <td>1</td>\n",
       "      <td>21</td>\n",
       "      <td>NaN</td>\n",
       "      <td>NaN</td>\n",
       "      <td>2</td>\n",
       "      <td>NaN</td>\n",
       "      <td>NaN</td>\n",
       "      <td>1</td>\n",
       "      <td>...</td>\n",
       "      <td>0</td>\n",
       "      <td>0</td>\n",
       "      <td>0</td>\n",
       "      <td>0</td>\n",
       "      <td>10</td>\n",
       "      <td>0</td>\n",
       "      <td>90</td>\n",
       "      <td>240</td>\n",
       "      <td>493.214478</td>\n",
       "      <td>1.081970</td>\n",
       "    </tr>\n",
       "    <tr>\n",
       "      <th>118</th>\n",
       "      <td>2</td>\n",
       "      <td>1</td>\n",
       "      <td>88</td>\n",
       "      <td>21</td>\n",
       "      <td>8.0</td>\n",
       "      <td>1.0</td>\n",
       "      <td>2</td>\n",
       "      <td>NaN</td>\n",
       "      <td>NaN</td>\n",
       "      <td>1</td>\n",
       "      <td>...</td>\n",
       "      <td>0</td>\n",
       "      <td>500</td>\n",
       "      <td>0</td>\n",
       "      <td>0</td>\n",
       "      <td>0</td>\n",
       "      <td>0</td>\n",
       "      <td>0</td>\n",
       "      <td>578</td>\n",
       "      <td>493.214478</td>\n",
       "      <td>1.081970</td>\n",
       "    </tr>\n",
       "  </tbody>\n",
       "</table>\n",
       "<p>5 rows × 1192 columns</p>\n",
       "</div>"
      ],
      "text/plain": [
       "     조사표 종류  가구원 일련번호(장애인)  가구원 일련번호(응답자)  조사지역(시도)  응답자 유형  대리응답이유  장애유형확인1  \\\n",
       "13        2              2              2        21     NaN     NaN        2   \n",
       "15        2              2              1        21     3.0     1.0        2   \n",
       "42        2              1              1        21     NaN     NaN        2   \n",
       "85        2              1              1        21     NaN     NaN        2   \n",
       "118       2              1             88        21     8.0     1.0        2   \n",
       "\n",
       "     장애유형확인2  장애유형확인3  개인번호  ...  보육,교육비  보호,간병비  재활기관이용료  통신비  \\\n",
       "13       NaN      NaN     2  ...       0       0        0    0   \n",
       "15       5.0      NaN     2  ...       0       0        0    0   \n",
       "42       NaN      NaN     1  ...       0       0        0    0   \n",
       "85       NaN      NaN     1  ...       0       0        0    0   \n",
       "118      NaN      NaN     1  ...       0     500        0    0   \n",
       "\n",
       "     장애인보조기기 구입,유지비  부모사후 및 노후대비비  기타.4  월평균 총 추가비용        wg_p      ws_p  \n",
       "13                0             0     0         110  461.979521  1.176911  \n",
       "15                0             0     0           8  493.318225  1.256747  \n",
       "42                0             0     0          20  761.982341  1.671569  \n",
       "85               10             0    90         240  493.214478  1.081970  \n",
       "118               0             0     0         578  493.214478  1.081970  \n",
       "\n",
       "[5 rows x 1192 columns]"
      ]
     },
     "execution_count": 9,
     "metadata": {},
     "output_type": "execute_result"
    }
   ],
   "source": [
    "# 원본 데이터 불러오기\n",
    "raw_df = pd.read_excel('pydata/2017 장애인실태조사_뇌병변장애.xlsx', sheet_name = 1)\n",
    "len(raw_df)\n",
    "\n",
    "# 뇌병변 중 뇌졸중과 뇌손상 불러오기\n",
    "df = raw_df[(raw_df['주된 진단명(1)']==2) | (raw_df['주된 진단명(1)']==3)]\n",
    "df.head()"
   ]
  },
  {
   "cell_type": "code",
   "execution_count": 10,
   "id": "b96f9e35-a38b-4e93-b09d-6d830bae234b",
   "metadata": {},
   "outputs": [
    {
     "name": "stderr",
     "output_type": "stream",
     "text": [
      "<ipython-input-10-42139ce810ab>:2: UserWarning: Boolean Series key will be reindexed to match DataFrame index.\n",
      "  reason_df = pd.DataFrame(df[['재활치료서비스를 하나도 이용하지 않은 경우 이유']].loc[df['재활치료서비스를 하나도 이용하지 않은 경우 이유'] !=0][df['주된 진단명(1)']==2].value_counts()).reset_index()\n"
     ]
    },
    {
     "data": {
      "text/html": [
       "<div>\n",
       "<style scoped>\n",
       "    .dataframe tbody tr th:only-of-type {\n",
       "        vertical-align: middle;\n",
       "    }\n",
       "\n",
       "    .dataframe tbody tr th {\n",
       "        vertical-align: top;\n",
       "    }\n",
       "\n",
       "    .dataframe thead th {\n",
       "        text-align: right;\n",
       "    }\n",
       "</style>\n",
       "<table border=\"1\" class=\"dataframe\">\n",
       "  <thead>\n",
       "    <tr style=\"text-align: right;\">\n",
       "      <th></th>\n",
       "      <th>재활치료서비스를 하나도 이용하지 않은 경우 이유</th>\n",
       "      <th>0</th>\n",
       "    </tr>\n",
       "  </thead>\n",
       "  <tbody>\n",
       "    <tr>\n",
       "      <th>0</th>\n",
       "      <td>다닐 필요가 없어서</td>\n",
       "      <td>116</td>\n",
       "    </tr>\n",
       "    <tr>\n",
       "      <th>1</th>\n",
       "      <td>접근하기 어려워서</td>\n",
       "      <td>86</td>\n",
       "    </tr>\n",
       "    <tr>\n",
       "      <th>2</th>\n",
       "      <td>비용부담 때문에</td>\n",
       "      <td>44</td>\n",
       "    </tr>\n",
       "    <tr>\n",
       "      <th>3</th>\n",
       "      <td>다른 방법이 있어서</td>\n",
       "      <td>23</td>\n",
       "    </tr>\n",
       "    <tr>\n",
       "      <th>4</th>\n",
       "      <td>시설이 없어서</td>\n",
       "      <td>16</td>\n",
       "    </tr>\n",
       "    <tr>\n",
       "      <th>5</th>\n",
       "      <td>믿지 못해서</td>\n",
       "      <td>11</td>\n",
       "    </tr>\n",
       "    <tr>\n",
       "      <th>6</th>\n",
       "      <td>기타</td>\n",
       "      <td>9</td>\n",
       "    </tr>\n",
       "    <tr>\n",
       "      <th>7</th>\n",
       "      <td>몰라서</td>\n",
       "      <td>2</td>\n",
       "    </tr>\n",
       "    <tr>\n",
       "      <th>8</th>\n",
       "      <td>대기중이어서</td>\n",
       "      <td>2</td>\n",
       "    </tr>\n",
       "  </tbody>\n",
       "</table>\n",
       "</div>"
      ],
      "text/plain": [
       "  재활치료서비스를 하나도 이용하지 않은 경우 이유    0\n",
       "0                 다닐 필요가 없어서  116\n",
       "1                  접근하기 어려워서   86\n",
       "2                   비용부담 때문에   44\n",
       "3                 다른 방법이 있어서   23\n",
       "4                    시설이 없어서   16\n",
       "5                     믿지 못해서   11\n",
       "6                         기타    9\n",
       "7                        몰라서    2\n",
       "8                     대기중이어서    2"
      ]
     },
     "execution_count": 10,
     "metadata": {},
     "output_type": "execute_result"
    }
   ],
   "source": [
    "# 데이터 추출\n",
    "reason_df = pd.DataFrame(df[['재활치료서비스를 하나도 이용하지 않은 경우 이유']].loc[df['재활치료서비스를 하나도 이용하지 않은 경우 이유'] !=0][df['주된 진단명(1)']==2].value_counts()).reset_index()\n",
    "\n",
    "# 컬럼 값 변경\n",
    "col_values = ['몰라서', '시설이 없어서', '믿지 못해서', '다른 방법이 있어서', '비용부담 때문에', '대기중이어서', '다닐 필요가 없어서', '접근하기 어려워서', '기타']\n",
    "\n",
    "for i in range(len(reason_df)):\n",
    "    reason_df.replace({'재활치료서비스를 하나도 이용하지 않은 경우 이유': i+1}, {'재활치료서비스를 하나도 이용하지 않은 경우 이유': col_values[i]}, inplace=True)\n",
    "reason_df"
   ]
  },
  {
   "cell_type": "code",
   "execution_count": 20,
   "id": "5184e6ff-c294-4d5a-847a-e3bcf946e2d6",
   "metadata": {},
   "outputs": [
    {
     "data": {
      "text/html": [
       "<div>\n",
       "<style scoped>\n",
       "    .dataframe tbody tr th:only-of-type {\n",
       "        vertical-align: middle;\n",
       "    }\n",
       "\n",
       "    .dataframe tbody tr th {\n",
       "        vertical-align: top;\n",
       "    }\n",
       "\n",
       "    .dataframe thead th {\n",
       "        text-align: right;\n",
       "    }\n",
       "</style>\n",
       "<table border=\"1\" class=\"dataframe\">\n",
       "  <thead>\n",
       "    <tr style=\"text-align: right;\">\n",
       "      <th></th>\n",
       "      <th>재활치료서비스를 하나도 이용하지 않은 경우 이유</th>\n",
       "      <th>0</th>\n",
       "    </tr>\n",
       "  </thead>\n",
       "  <tbody>\n",
       "    <tr>\n",
       "      <th>0</th>\n",
       "      <td>다닐 필요가 없어서</td>\n",
       "      <td>1200</td>\n",
       "    </tr>\n",
       "    <tr>\n",
       "      <th>1</th>\n",
       "      <td>접근하기 어려워서</td>\n",
       "      <td>86</td>\n",
       "    </tr>\n",
       "    <tr>\n",
       "      <th>2</th>\n",
       "      <td>비용부담 때문에</td>\n",
       "      <td>44</td>\n",
       "    </tr>\n",
       "    <tr>\n",
       "      <th>3</th>\n",
       "      <td>다른 방법이 있어서</td>\n",
       "      <td>23</td>\n",
       "    </tr>\n",
       "    <tr>\n",
       "      <th>4</th>\n",
       "      <td>시설이 없어서</td>\n",
       "      <td>16</td>\n",
       "    </tr>\n",
       "    <tr>\n",
       "      <th>5</th>\n",
       "      <td>믿지 못해서</td>\n",
       "      <td>11</td>\n",
       "    </tr>\n",
       "    <tr>\n",
       "      <th>6</th>\n",
       "      <td>기타</td>\n",
       "      <td>9</td>\n",
       "    </tr>\n",
       "    <tr>\n",
       "      <th>7</th>\n",
       "      <td>몰라서</td>\n",
       "      <td>2</td>\n",
       "    </tr>\n",
       "    <tr>\n",
       "      <th>8</th>\n",
       "      <td>대기중이어서</td>\n",
       "      <td>2</td>\n",
       "    </tr>\n",
       "  </tbody>\n",
       "</table>\n",
       "</div>"
      ],
      "text/plain": [
       "  재활치료서비스를 하나도 이용하지 않은 경우 이유     0\n",
       "0                 다닐 필요가 없어서  1200\n",
       "1                  접근하기 어려워서    86\n",
       "2                   비용부담 때문에    44\n",
       "3                 다른 방법이 있어서    23\n",
       "4                    시설이 없어서    16\n",
       "5                     믿지 못해서    11\n",
       "6                         기타     9\n",
       "7                        몰라서     2\n",
       "8                     대기중이어서     2"
      ]
     },
     "execution_count": 20,
     "metadata": {},
     "output_type": "execute_result"
    }
   ],
   "source": [
    "# 임의로 0 칼럼 중에서 아무 숫자나 1천 이상으로 변경\n",
    "reason_df.replace({0: 116}, {0: 1200}, inplace=True)\n",
    "reason_df"
   ]
  },
  {
   "cell_type": "code",
   "execution_count": 21,
   "id": "bee211d2-6636-4e93-a942-ab1e0317789b",
   "metadata": {},
   "outputs": [],
   "source": [
    "order_lst = reason_df['재활치료서비스를 하나도 이용하지 않은 경우 이유'].tolist()"
   ]
  },
  {
   "cell_type": "code",
   "execution_count": 22,
   "id": "a9ab94bd-65c8-42cf-8e35-c445489eae32",
   "metadata": {},
   "outputs": [
    {
     "data": {
      "image/png": "[encoded data removed]",
      "text/plain": [
       "<Figure size 720x360 with 1 Axes>"
      ]
     },
     "metadata": {},
     "output_type": "display_data"
    }
   ],
   "source": [
    "# 시각화\n",
    "fig, ax = plt.subplots()\n",
    "fig.set_size_inches(10, 5)\n",
    "\n",
    "splot = sns.barplot(data = reason_df, y='재활치료서비스를 하나도 이용하지 않은 경우 이유', x = 0,order = order_lst, palette='Set3')\n",
    "ax.set_title('[뇌병변장애] 뇌졸중(뇌경색, 뇌출혈) 응답자의 재활치료서비스를 하나도 이용하지 않는 이유', size = 11)\n",
    "ax.set_xlabel('응답자 수(명)')\n",
    "plt.yticks(size = 8)\n",
    "plt.xticks(size = 8)\n",
    "ax.set_ylabel('')\n",
    "\n",
    "for p in splot.patches:\n",
    "    ax.annotate(\"%.0f\" % p.get_width(), xy=(p.get_width(), p.get_y()+p.get_height()/2),\n",
    "            xytext=(5, 0), textcoords='offset points', ha=\"left\", va=\"center\", size = 8)   \n",
    "\n",
    "### 천단위 콤마 표시(x축)\n",
    "import matplotlib.ticker as tkr\n",
    "def xfunc(x, pos):\n",
    "    s = '{:0,d}'.format(int(x))\n",
    "    return s\n",
    "x_format = tkr.FuncFormatter(xfunc)\n",
    "ax.xaxis.set_major_formatter(x_format)\n",
    "\n",
    "# plt.savefig('pyvisual/뇌병변장애/[뇌병변장애] 뇌졸중(뇌경색, 뇌출혈) 응답자의 재활치료서비스를 하나도 이용하지 않는 이유.png', dpi=300)\n",
    "plt.show()"
   ]
  },
  {
   "cell_type": "markdown",
   "id": "5a344938-860b-4cca-8f82-03f16447f01f",
   "metadata": {},
   "source": [
    "### y축 눈금에 천단위 쉼표 넣기"
   ]
  },
  {
   "cell_type": "code",
   "execution_count": 35,
   "id": "1d3bdaab-94f6-4af5-9ea4-e00f8072c613",
   "metadata": {},
   "outputs": [
    {
     "data": {
      "text/html": [
       "<div>\n",
       "<style scoped>\n",
       "    .dataframe tbody tr th:only-of-type {\n",
       "        vertical-align: middle;\n",
       "    }\n",
       "\n",
       "    .dataframe tbody tr th {\n",
       "        vertical-align: top;\n",
       "    }\n",
       "\n",
       "    .dataframe thead th {\n",
       "        text-align: right;\n",
       "    }\n",
       "</style>\n",
       "<table border=\"1\" class=\"dataframe\">\n",
       "  <thead>\n",
       "    <tr style=\"text-align: right;\">\n",
       "      <th></th>\n",
       "      <th>id</th>\n",
       "      <th>values</th>\n",
       "    </tr>\n",
       "  </thead>\n",
       "  <tbody>\n",
       "    <tr>\n",
       "      <th>3</th>\n",
       "      <td>땅</td>\n",
       "      <td>1231</td>\n",
       "    </tr>\n",
       "    <tr>\n",
       "      <th>1</th>\n",
       "      <td>산</td>\n",
       "      <td>1100</td>\n",
       "    </tr>\n",
       "    <tr>\n",
       "      <th>0</th>\n",
       "      <td>강</td>\n",
       "      <td>1000</td>\n",
       "    </tr>\n",
       "    <tr>\n",
       "      <th>2</th>\n",
       "      <td>하늘</td>\n",
       "      <td>990</td>\n",
       "    </tr>\n",
       "    <tr>\n",
       "      <th>4</th>\n",
       "      <td>바다</td>\n",
       "      <td>950</td>\n",
       "    </tr>\n",
       "  </tbody>\n",
       "</table>\n",
       "</div>"
      ],
      "text/plain": [
       "   id  values\n",
       "3   땅    1231\n",
       "1   산    1100\n",
       "0   강    1000\n",
       "2  하늘     990\n",
       "4  바다     950"
      ]
     },
     "execution_count": 35,
     "metadata": {},
     "output_type": "execute_result"
    }
   ],
   "source": [
    "df = pd.DataFrame({'id': ['강', '산', '하늘', '땅', '바다'],\n",
    "                  'values':[1000, 1100, 990, 1231, 950]}) # 예시 데이터 생성\n",
    "df.sort_values(by='values', ascending=False, inplace=True) # value 기준 내림차순\n",
    "df"
   ]
  },
  {
   "cell_type": "code",
   "execution_count": 42,
   "id": "a4262a02-e88e-4ff9-8442-2d95b6a964e6",
   "metadata": {},
   "outputs": [
    {
     "data": {
      "image/png": "[encoded data removed]",
      "text/plain": [
       "<Figure size 720x360 with 1 Axes>"
      ]
     },
     "metadata": {},
     "output_type": "display_data"
    }
   ],
   "source": [
    "fig, ax = plt.subplots(1,1)\n",
    "fig.set_size_inches(10, 5)\n",
    "\n",
    "splot = sns.barplot(data = df, x='id', y='values')\n",
    "\n",
    "### 천단위 콤마 표시(y축)\n",
    "import matplotlib.ticker as tkr\n",
    "def yfunc(y, pos):\n",
    "    s = '{:0,d}'.format(int(y))\n",
    "    return s\n",
    "y_format = tkr.FuncFormatter(yfunc)\n",
    "ax.yaxis.set_major_formatter(y_format)"
   ]
  },
  {
   "cell_type": "markdown",
   "id": "bb6d485d-f4ce-4f57-b719-e234c58d4a4e",
   "metadata": {},
   "source": [
    "**fig, ax = plt.subplots()** 코드를 같이 작성해야 정상적으로 천단위 쉼표가 표현된다."
   ]
  },
  {
   "cell_type": "markdown",
   "id": "764bab7b-3f2e-41a6-9a21-bbf2fe14deed",
   "metadata": {},
   "source": [
    "---\n",
    "### 그래프 값 라벨링하기(x축) + 천단위 쉼표 넣기"
   ]
  },
  {
   "cell_type": "code",
   "execution_count": 16,
   "id": "3e58771f-41cd-47e7-a03a-ed59a7972b82",
   "metadata": {},
   "outputs": [
    {
     "data": {
      "text/html": [
       "<div>\n",
       "<style scoped>\n",
       "    .dataframe tbody tr th:only-of-type {\n",
       "        vertical-align: middle;\n",
       "    }\n",
       "\n",
       "    .dataframe tbody tr th {\n",
       "        vertical-align: top;\n",
       "    }\n",
       "\n",
       "    .dataframe thead th {\n",
       "        text-align: right;\n",
       "    }\n",
       "</style>\n",
       "<table border=\"1\" class=\"dataframe\">\n",
       "  <thead>\n",
       "    <tr style=\"text-align: right;\">\n",
       "      <th></th>\n",
       "      <th>id</th>\n",
       "      <th>values</th>\n",
       "    </tr>\n",
       "  </thead>\n",
       "  <tbody>\n",
       "    <tr>\n",
       "      <th>3</th>\n",
       "      <td>땅</td>\n",
       "      <td>1231</td>\n",
       "    </tr>\n",
       "    <tr>\n",
       "      <th>1</th>\n",
       "      <td>산</td>\n",
       "      <td>1100</td>\n",
       "    </tr>\n",
       "    <tr>\n",
       "      <th>0</th>\n",
       "      <td>강</td>\n",
       "      <td>1000</td>\n",
       "    </tr>\n",
       "    <tr>\n",
       "      <th>2</th>\n",
       "      <td>하늘</td>\n",
       "      <td>990</td>\n",
       "    </tr>\n",
       "    <tr>\n",
       "      <th>4</th>\n",
       "      <td>바다</td>\n",
       "      <td>950</td>\n",
       "    </tr>\n",
       "  </tbody>\n",
       "</table>\n",
       "</div>"
      ],
      "text/plain": [
       "   id  values\n",
       "3   땅    1231\n",
       "1   산    1100\n",
       "0   강    1000\n",
       "2  하늘     990\n",
       "4  바다     950"
      ]
     },
     "execution_count": 16,
     "metadata": {},
     "output_type": "execute_result"
    }
   ],
   "source": [
    "df = pd.DataFrame({'id': ['강', '산', '하늘', '땅', '바다'],\n",
    "                  'values':[1000, 1100, 990, 1231, 950]}) # 예시 데이터 생성\n",
    "df.sort_values(by='values', ascending=False, inplace=True) # value 기준 내림차순\n",
    "df"
   ]
  },
  {
   "cell_type": "code",
   "execution_count": 21,
   "id": "120536d3-4542-4d4c-8f19-e85d143452e9",
   "metadata": {},
   "outputs": [
    {
     "data": {
      "image/png": "[encoded data removed]",
      "text/plain": [
       "<Figure size 720x360 with 1 Axes>"
      ]
     },
     "metadata": {},
     "output_type": "display_data"
    }
   ],
   "source": [
    "fig, ax = plt.subplots(1,1)\n",
    "fig.set_size_inches(10, 5)\n",
    "\n",
    "palette = sns.color_palette(\"Blues\", n_colors=5) \n",
    "palette.reverse() # 색상 진한 정도 거꾸로\n",
    "\n",
    "splot = sns.barplot(data = df, x = 'values', y='id', palette=palette)\n",
    "\n",
    "## 그래프 값 라벨링 하기(x축)\n",
    "for p in splot.patches:\n",
    "    ax.annotate(\"{:,}\".format(int(p.get_width())), xy=(p.get_width(), p.get_y()+p.get_height()/2),\n",
    "            xytext=(3, 0), textcoords='offset points', ha=\"left\", va=\"center\", size = 7)\n",
    "    \n",
    "### 천단위 콤마 표시(x축)\n",
    "import matplotlib.ticker as tkr\n",
    "def xfunc(x, pos):\n",
    "    s = '{:0,d}'.format(int(x))\n",
    "    return s\n",
    "x_format = tkr.FuncFormatter(xfunc)\n",
    "ax.xaxis.set_major_formatter(x_format)"
   ]
  },
  {
   "cell_type": "markdown",
   "id": "406e742f-aba2-4a2f-9736-9d4c1c1abfca",
   "metadata": {},
   "source": [
    "### 그래프 값 라벨링하기(y축) + 천단위 쉼표 넣기"
   ]
  },
  {
   "cell_type": "code",
   "execution_count": 24,
   "id": "396c7733-5c7e-4e5b-b1f7-b3c585df3057",
   "metadata": {},
   "outputs": [
    {
     "data": {
      "text/html": [
       "<div>\n",
       "<style scoped>\n",
       "    .dataframe tbody tr th:only-of-type {\n",
       "        vertical-align: middle;\n",
       "    }\n",
       "\n",
       "    .dataframe tbody tr th {\n",
       "        vertical-align: top;\n",
       "    }\n",
       "\n",
       "    .dataframe thead th {\n",
       "        text-align: right;\n",
       "    }\n",
       "</style>\n",
       "<table border=\"1\" class=\"dataframe\">\n",
       "  <thead>\n",
       "    <tr style=\"text-align: right;\">\n",
       "      <th></th>\n",
       "      <th>names</th>\n",
       "      <th>values</th>\n",
       "    </tr>\n",
       "  </thead>\n",
       "  <tbody>\n",
       "    <tr>\n",
       "      <th>1</th>\n",
       "      <td>짱구</td>\n",
       "      <td>1100</td>\n",
       "    </tr>\n",
       "    <tr>\n",
       "      <th>3</th>\n",
       "      <td>맹구</td>\n",
       "      <td>1032</td>\n",
       "    </tr>\n",
       "    <tr>\n",
       "      <th>2</th>\n",
       "      <td>철수</td>\n",
       "      <td>990</td>\n",
       "    </tr>\n",
       "    <tr>\n",
       "      <th>4</th>\n",
       "      <td>훈이</td>\n",
       "      <td>950</td>\n",
       "    </tr>\n",
       "    <tr>\n",
       "      <th>0</th>\n",
       "      <td>유리</td>\n",
       "      <td>800</td>\n",
       "    </tr>\n",
       "  </tbody>\n",
       "</table>\n",
       "</div>"
      ],
      "text/plain": [
       "  names  values\n",
       "1    짱구    1100\n",
       "3    맹구    1032\n",
       "2    철수     990\n",
       "4    훈이     950\n",
       "0    유리     800"
      ]
     },
     "execution_count": 24,
     "metadata": {},
     "output_type": "execute_result"
    }
   ],
   "source": [
    "df = pd.DataFrame({'names': ['유리', '짱구', '철수', '맹구', '훈이'],\n",
    "                  'values':[800, 1100, 990, 1032, 950]}) # 예시 데이터 생성\n",
    "df.sort_values(by='values', ascending=False, inplace=True) # value 기준 내림차순\n",
    "df"
   ]
  },
  {
   "cell_type": "code",
   "execution_count": 29,
   "id": "e28a92ee-36c5-4697-87eb-d8d2f9524df2",
   "metadata": {},
   "outputs": [
    {
     "data": {
      "image/png": "[encoded data removed]",
      "text/plain": [
       "<Figure size 720x360 with 1 Axes>"
      ]
     },
     "metadata": {},
     "output_type": "display_data"
    }
   ],
   "source": [
    "fig, ax = plt.subplots(1,1)\n",
    "fig.set_size_inches(10, 5)\n",
    "\n",
    "palette = sns.color_palette(\"Blues\", n_colors=5) \n",
    "palette.reverse() # 색상 진한 정도 거꾸로\n",
    "\n",
    "splot = sns.barplot(data = df, x = 'names', y = 'values', palette=palette)\n",
    "\n",
    "## 그래프 값 라벨링 하기(y축)\n",
    "for bar in splot.patches: # value label 생성\n",
    "    ax.annotate(\"{:,}\".format(int(bar.get_height())), # 천단위 콤마 표시\n",
    "                   (bar.get_x() + bar.get_width() / 2,\n",
    "                    bar.get_height()), ha='center', va='center',\n",
    "                   size=10, xytext=(0, 6),\n",
    "                   textcoords='offset points')\n",
    "    \n",
    "### 천단위 콤마 표시(y축)\n",
    "import matplotlib.ticker as tkr\n",
    "def yfunc(y, pos):\n",
    "    s = '{:0,d}'.format(int(y))\n",
    "    return s\n",
    "y_format = tkr.FuncFormatter(yfunc)\n",
    "ax.yaxis.set_major_formatter(y_format)"
   ]
  },
  {
   "cell_type": "markdown",
   "id": "509fe643-464a-4293-8c12-11f7c84922e2",
   "metadata": {},
   "source": [
    "---\n",
    "### 축 눈금 글꼴 크기 + 축 제목 글꼴 크기 + 축 회전"
   ]
  },
  {
   "cell_type": "code",
   "execution_count": 3,
   "id": "a94ea8bd-4d2f-4bab-9afd-2627ef6545cb",
   "metadata": {},
   "outputs": [
    {
     "data": {
      "text/html": [
       "<div>\n",
       "<style scoped>\n",
       "    .dataframe tbody tr th:only-of-type {\n",
       "        vertical-align: middle;\n",
       "    }\n",
       "\n",
       "    .dataframe tbody tr th {\n",
       "        vertical-align: top;\n",
       "    }\n",
       "\n",
       "    .dataframe thead th {\n",
       "        text-align: right;\n",
       "    }\n",
       "</style>\n",
       "<table border=\"1\" class=\"dataframe\">\n",
       "  <thead>\n",
       "    <tr style=\"text-align: right;\">\n",
       "      <th></th>\n",
       "      <th>names</th>\n",
       "      <th>values</th>\n",
       "    </tr>\n",
       "  </thead>\n",
       "  <tbody>\n",
       "    <tr>\n",
       "      <th>1</th>\n",
       "      <td>짱구</td>\n",
       "      <td>1100</td>\n",
       "    </tr>\n",
       "    <tr>\n",
       "      <th>3</th>\n",
       "      <td>맹구</td>\n",
       "      <td>1032</td>\n",
       "    </tr>\n",
       "    <tr>\n",
       "      <th>2</th>\n",
       "      <td>철수</td>\n",
       "      <td>990</td>\n",
       "    </tr>\n",
       "    <tr>\n",
       "      <th>4</th>\n",
       "      <td>훈이</td>\n",
       "      <td>950</td>\n",
       "    </tr>\n",
       "    <tr>\n",
       "      <th>0</th>\n",
       "      <td>유리</td>\n",
       "      <td>800</td>\n",
       "    </tr>\n",
       "  </tbody>\n",
       "</table>\n",
       "</div>"
      ],
      "text/plain": [
       "  names  values\n",
       "1    짱구    1100\n",
       "3    맹구    1032\n",
       "2    철수     990\n",
       "4    훈이     950\n",
       "0    유리     800"
      ]
     },
     "execution_count": 3,
     "metadata": {},
     "output_type": "execute_result"
    }
   ],
   "source": [
    "df = pd.DataFrame({'names': ['유리', '짱구', '철수', '맹구', '훈이'],\n",
    "                  'values':[800, 1100, 990, 1032, 950]}) # 예시 데이터 생성\n",
    "df.sort_values(by='values', ascending=False, inplace=True) # value 기준 내림차순\n",
    "df"
   ]
  },
  {
   "cell_type": "code",
   "execution_count": 21,
   "id": "e0549fc8-8ffa-4ca6-b5a0-86c19f99f73b",
   "metadata": {},
   "outputs": [
    {
     "data": {
      "image/png": "[encoded data removed]",
      "text/plain": [
       "<Figure size 360x288 with 1 Axes>"
      ]
     },
     "metadata": {},
     "output_type": "display_data"
    }
   ],
   "source": [
    "fig, ax = plt.subplots()\n",
    "fig.set_size_inches(5, 4)\n",
    "\n",
    "sns.barplot(data = df, x = 'names', y='values')\n",
    "ax.set_title('원본', size = 11)\n",
    "plt.show()"
   ]
  },
  {
   "cell_type": "code",
   "execution_count": 24,
   "id": "791bd20a-7cdf-4d38-9602-1c09785b489b",
   "metadata": {},
   "outputs": [
    {
     "data": {
      "image/png": "[encoded data removed]",
      "text/plain": [
       "<Figure size 360x288 with 1 Axes>"
      ]
     },
     "metadata": {},
     "output_type": "display_data"
    }
   ],
   "source": [
    "# x축 눈금 조절 & 회전\n",
    "fig, ax = plt.subplots()\n",
    "fig.set_size_inches(5, 4)\n",
    "\n",
    "sns.barplot(data = df, x = 'names', y='values')\n",
    "ax.tick_params(axis='x', labelsize = 12, labelrotation = 90) # x축 눈금 크기 조절 + 회전\n",
    "ax.set_title('x축 눈금 조절', size = 11)\n",
    "\n",
    "plt.show()"
   ]
  },
  {
   "cell_type": "code",
   "execution_count": 30,
   "id": "9f3212fd-fe48-49f9-951f-b63f461b8bdf",
   "metadata": {},
   "outputs": [
    {
     "data": {
      "image/png": "[encoded data removed]",
      "text/plain": [
       "<Figure size 360x288 with 1 Axes>"
      ]
     },
     "metadata": {},
     "output_type": "display_data"
    }
   ],
   "source": [
    "# y축 눈금 조절 & 축 제목 크기 조절 & 회전\n",
    "fig, ax = plt.subplots()\n",
    "fig.set_size_inches(5, 4)\n",
    "\n",
    "sns.barplot(data = df, x = 'names', y='values')\n",
    "ax.tick_params(axis='y', labelsize = 12, labelrotation = 30) # x축 눈금 크기 조절 + 회전\n",
    "ax.set_title('y축 눈금 조절 & 축 제목 크기 조절', size = 11)\n",
    "ax.set_xlabel('이름', size = 12) # x축 제목 크기 조절\n",
    "ax.set_ylabel('숫자', size = 12) # y축 제목 크기 조절\n",
    "\n",
    "plt.show()"
   ]
  },
  {
   "cell_type": "code",
   "execution_count": 32,
   "id": "927768bf-6280-41aa-9e07-a82a856a2780",
   "metadata": {},
   "outputs": [
    {
     "data": {
      "image/png": "[encoded data removed]",
      "text/plain": [
       "<Figure size 360x288 with 1 Axes>"
      ]
     },
     "metadata": {},
     "output_type": "display_data"
    }
   ],
   "source": [
    "# x, y축 눈금 한 번에 조절 + 회전\n",
    "fig, ax = plt.subplots()\n",
    "fig.set_size_inches(5, 4)\n",
    "\n",
    "sns.barplot(data = df, x = 'names', y='values')\n",
    "ax.set_title('x, y축 눈금 크기 한 번에 조절', size = 11)\n",
    "ax.tick_params(axis='both', labelsize = 12, labelrotation = 30) # x, y축 눈금 크기 한 번에 조절 + 회전\n",
    "plt.show()"
   ]
  },
  {
   "cell_type": "markdown",
   "id": "4bd5d043-d4b4-4334-ad97-113994e52b19",
   "metadata": {},
   "source": [
    "---\n",
    "### 눈금 범위 + 눈금 이름 + 간격 설정"
   ]
  },
  {
   "cell_type": "code",
   "execution_count": 4,
   "id": "ae5f86a8-d199-417e-8a3b-b38d5affd108",
   "metadata": {},
   "outputs": [
    {
     "data": {
      "text/html": [
       "<div>\n",
       "<style scoped>\n",
       "    .dataframe tbody tr th:only-of-type {\n",
       "        vertical-align: middle;\n",
       "    }\n",
       "\n",
       "    .dataframe tbody tr th {\n",
       "        vertical-align: top;\n",
       "    }\n",
       "\n",
       "    .dataframe thead th {\n",
       "        text-align: right;\n",
       "    }\n",
       "</style>\n",
       "<table border=\"1\" class=\"dataframe\">\n",
       "  <thead>\n",
       "    <tr style=\"text-align: right;\">\n",
       "      <th></th>\n",
       "      <th>names</th>\n",
       "      <th>values</th>\n",
       "    </tr>\n",
       "  </thead>\n",
       "  <tbody>\n",
       "    <tr>\n",
       "      <th>1</th>\n",
       "      <td>짱구</td>\n",
       "      <td>1100</td>\n",
       "    </tr>\n",
       "    <tr>\n",
       "      <th>3</th>\n",
       "      <td>맹구</td>\n",
       "      <td>1032</td>\n",
       "    </tr>\n",
       "    <tr>\n",
       "      <th>2</th>\n",
       "      <td>철수</td>\n",
       "      <td>990</td>\n",
       "    </tr>\n",
       "    <tr>\n",
       "      <th>4</th>\n",
       "      <td>훈이</td>\n",
       "      <td>950</td>\n",
       "    </tr>\n",
       "    <tr>\n",
       "      <th>0</th>\n",
       "      <td>유리</td>\n",
       "      <td>800</td>\n",
       "    </tr>\n",
       "  </tbody>\n",
       "</table>\n",
       "</div>"
      ],
      "text/plain": [
       "  names  values\n",
       "1    짱구    1100\n",
       "3    맹구    1032\n",
       "2    철수     990\n",
       "4    훈이     950\n",
       "0    유리     800"
      ]
     },
     "execution_count": 4,
     "metadata": {},
     "output_type": "execute_result"
    }
   ],
   "source": [
    "# 데이터 생성\n",
    "df = pd.DataFrame({'names': ['유리', '짱구', '철수', '맹구', '훈이'],\n",
    "                  'values':[800, 1100, 990, 1032, 950]}) # 예시 데이터 생성\n",
    "df.sort_values(by='values', ascending=False, inplace=True) # value 기준 내림차순\n",
    "df"
   ]
  },
  {
   "cell_type": "markdown",
   "id": "6b83263e-32f6-4919-829e-3c91c0dd80b2",
   "metadata": {},
   "source": [
    "#### **눈금 범위**"
   ]
  },
  {
   "cell_type": "code",
   "execution_count": 5,
   "id": "6bcacca9-7649-4169-a0d9-9ca597799450",
   "metadata": {},
   "outputs": [
    {
     "data": {
      "image/png": "[encoded data removed]",
      "text/plain": [
       "<Figure size 504x360 with 1 Axes>"
      ]
     },
     "metadata": {},
     "output_type": "display_data"
    }
   ],
   "source": [
    "fig, ax = plt.subplots()\n",
    "fig.set_size_inches(7, 5)\n",
    "\n",
    "sns.barplot(data = df, x = 'names', y='values')\n",
    "ax.set_title('y축 눈금 범위 설정', size = 12)\n",
    "ax.set_ylim([0, 1500]) # y축 눈금 범위 설정\n",
    "plt.show()"
   ]
  },
  {
   "cell_type": "markdown",
   "id": "a805e3a0-bcb4-4013-b003-e84f12c7aa37",
   "metadata": {},
   "source": [
    "#### **눈금 이름**"
   ]
  },
  {
   "cell_type": "code",
   "execution_count": 7,
   "id": "cc866f9e-3aa7-4cf3-9d0b-554bf634d2f7",
   "metadata": {},
   "outputs": [
    {
     "data": {
      "image/png": "[encoded data removed]",
      "text/plain": [
       "<Figure size 504x360 with 1 Axes>"
      ]
     },
     "metadata": {},
     "output_type": "display_data"
    }
   ],
   "source": [
    "fig, ax = plt.subplots()\n",
    "fig.set_size_inches(7, 5)\n",
    "\n",
    "sns.barplot(data = df, x = 'names', y='values')\n",
    "ax.set_title('x축 눈금 이름 설정', size = 12)\n",
    "ax.set_xticklabels(['케로로', '타마마', '기로로', '도로로', '크루루'], size = 13) # 이름 및 크기 설정\n",
    "plt.show()"
   ]
  },
  {
   "cell_type": "markdown",
   "id": "ee232ab2-8018-4d88-a367-4f75cbd22307",
   "metadata": {},
   "source": [
    "#### **눈금 간격**"
   ]
  },
  {
   "cell_type": "code",
   "execution_count": 8,
   "id": "ebfb289f-faa9-4951-b57d-925be89c42a9",
   "metadata": {},
   "outputs": [
    {
     "data": {
      "image/png": "[encoded data removed]",
      "text/plain": [
       "<Figure size 504x360 with 1 Axes>"
      ]
     },
     "metadata": {},
     "output_type": "display_data"
    }
   ],
   "source": [
    "fig, ax = plt.subplots()\n",
    "fig.set_size_inches(7, 5)\n",
    "\n",
    "sns.barplot(data = df, x = 'names', y='values')\n",
    "ax.set_title('x축 눈금 이름 설정', size = 12)\n",
    "ax.yaxis.set_ticks(np.linspace(0, 1500, 6)) # (최댓값, 최솟값, 구간 갯수)\n",
    "plt.show()"
   ]
  },
  {
   "cell_type": "code",
   "execution_count": null,
   "id": "69987ebd-6347-4dcf-b6f3-2ff067b904ba",
   "metadata": {},
   "outputs": [],
   "source": []
  }
 ],
 "metadata": {
  "kernelspec": {
   "display_name": "Python 3",
   "language": "python",
   "name": "python3"
  },
  "language_info": {
   "codemirror_mode": {
    "name": "ipython",
    "version": 3
   },
   "file_extension": ".py",
   "mimetype": "text/x-python",
   "name": "python",
   "nbconvert_exporter": "python",
   "pygments_lexer": "ipython3",
   "version": "3.8.8"
  }
 },
 "nbformat": 4,
 "nbformat_minor": 5
}
