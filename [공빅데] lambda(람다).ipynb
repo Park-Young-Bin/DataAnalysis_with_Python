{
 "cells": [
  {
   "cell_type": "markdown",
   "id": "259f8738-d0fd-42b7-a71a-1e67d1bbe136",
   "metadata": {},
   "source": [
    "# [[공빅데] lambda(람다)](https://wonhwa.tistory.com/4?category=996516)"
   ]
  },
  {
   "cell_type": "code",
   "execution_count": 1,
   "id": "9ee374cd-93d1-4bc1-a840-1e2843bf8e73",
   "metadata": {},
   "outputs": [
    {
     "data": {
      "text/plain": [
       "3"
      ]
     },
     "execution_count": 1,
     "metadata": {},
     "output_type": "execute_result"
    }
   ],
   "source": [
    "# def를 이용하여 두 인수를 더하는 함수 만들기\n",
    "def add(num1, num2):\n",
    "    return num1 + num2\n",
    "add(1,2)"
   ]
  },
  {
   "cell_type": "code",
   "execution_count": 2,
   "id": "e69aae44-9c23-4071-8e0d-90e3a1def22b",
   "metadata": {},
   "outputs": [
    {
     "data": {
      "text/plain": [
       "3"
      ]
     },
     "execution_count": 2,
     "metadata": {},
     "output_type": "execute_result"
    }
   ],
   "source": [
    "# lambda를 이용하여 두 인수를 더하는 함수 만들기\n",
    "add = lambda num1, num2: num1 + num2\n",
    "add(1,2)"
   ]
  },
  {
   "cell_type": "markdown",
   "id": "41ee2df7-bf81-4f10-9a90-45675d1b9d01",
   "metadata": {},
   "source": [
    "### map\n",
    "map은 여러 개의 데이터를 한 번에  return 반환을 할 때 사용하면 편리하다.  \n",
    "때문에 리스트형이나 튜플 등의 자료 구조에서 사용하기 용이하다.  \n",
    "map을 이용해 7, 8, 9에 각각 7을 곱하여 출력하는 lambda를 만들어 보자."
   ]
  },
  {
   "cell_type": "code",
   "execution_count": 3,
   "id": "0373c03a-6a65-4e67-a519-f39491a47c6c",
   "metadata": {},
   "outputs": [
    {
     "data": {
      "text/plain": [
       "[49, 56, 63]"
      ]
     },
     "execution_count": 3,
     "metadata": {},
     "output_type": "execute_result"
    }
   ],
   "source": [
    "# map을 이용하여 lambda 만들기\n",
    "multiple_nums = [7, 8, 9]\n",
    "\n",
    "multiple_result = list(map(lambda x: x*7, multiple_nums))\n",
    "multiple_result"
   ]
  },
  {
   "cell_type": "markdown",
   "id": "347402c2-e39e-44e8-aff2-a79dd7616229",
   "metadata": {},
   "source": [
    "### filter\n",
    "필더는 말 그대로 특정 조건을 가지고 필터를 한 결과를 보여준다.  \n",
    "예제로 list 값(1~30) 중에서 3의 배수만 결과를 보여주는 lambda를 만들어 보자."
   ]
  },
  {
   "cell_type": "code",
   "execution_count": 5,
   "id": "0cdb00b7-d876-4d4c-8352-8f5b596126c1",
   "metadata": {},
   "outputs": [
    {
     "data": {
      "text/plain": [
       "[3, 6, 9, 12, 15, 18, 21, 24, 27, 30]"
      ]
     },
     "execution_count": 5,
     "metadata": {},
     "output_type": "execute_result"
    }
   ],
   "source": [
    "# list comprehension을 이용해 1~30을 가지는 list 만들기\n",
    "list1 = [i + 1 for i in range(30)]\n",
    "\n",
    "# filter를 사용하여 list1에서 3의 배수만 추출하기\n",
    "list2 = list(filter(lambda i: i%3 == 0, list1))\n",
    "list2"
   ]
  },
  {
   "cell_type": "markdown",
   "id": "66dde1b7-fd42-4601-8ab7-1490690987f2",
   "metadata": {},
   "source": [
    "### reduce\n",
    "\n",
    "reduce는 계산기의 memory(M) 기능과 같이 함수를 만들어 앞의 결과를 누적한 뒤 결과값을 반환하는 함수이다. 예를 들어 입력된 수를 다 더해주는 add 함수를 만든다고 하자. def와 lambda를 이용한 2가지 방법을 사용해 보자."
   ]
  },
  {
   "cell_type": "code",
   "execution_count": 9,
   "id": "829e33f9-6c38-4fd5-a7bb-3d49e2bf1d7d",
   "metadata": {},
   "outputs": [
    {
     "data": {
      "text/plain": [
       "10"
      ]
     },
     "execution_count": 9,
     "metadata": {},
     "output_type": "execute_result"
    }
   ],
   "source": [
    "# def로 add 만들기\n",
    "def add(*a):\n",
    "    total = 0 # 더한 결과값을 저장하는 변수\n",
    "    for i in a:\n",
    "        total += i\n",
    "    return total\n",
    "add(1,2,3,4)"
   ]
  },
  {
   "cell_type": "code",
   "execution_count": 11,
   "id": "a80a9993-8f05-4dff-a396-fd0d1f190840",
   "metadata": {},
   "outputs": [
    {
     "data": {
      "text/plain": [
       "10"
      ]
     },
     "execution_count": 11,
     "metadata": {},
     "output_type": "execute_result"
    }
   ],
   "source": [
    "# reduce로 add 계산하기\n",
    "from functools import reduce #python3부터는 reduce를 import해야 사용이 가능\n",
    "\n",
    "a = [1,2,3,4]\n",
    "add = reduce(lambda x, y: x + y, a)\n",
    "add"
   ]
  },
  {
   "cell_type": "markdown",
   "id": "ac89b5d2-c619-4ed1-8de6-97c69838f3d4",
   "metadata": {},
   "source": [
    "#### Reference\n",
    "\n",
    "[참고](https://codermun-log.tistory.com/66)"
   ]
  }
 ],
 "metadata": {
  "kernelspec": {
   "display_name": "Python 3",
   "language": "python",
   "name": "python3"
  },
  "language_info": {
   "codemirror_mode": {
    "name": "ipython",
    "version": 3
   },
   "file_extension": ".py",
   "mimetype": "text/x-python",
   "name": "python",
   "nbconvert_exporter": "python",
   "pygments_lexer": "ipython3",
   "version": "3.8.8"
  }
 },
 "nbformat": 4,
 "nbformat_minor": 5
}
