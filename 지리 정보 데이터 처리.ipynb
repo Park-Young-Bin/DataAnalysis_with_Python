{
 "cells": [
  {
   "cell_type": "markdown",
   "id": "5a175557-88a4-4da7-b663-bfcfcea54a48",
   "metadata": {},
   "source": [
    "# 지리 정보 데이터 처리\n",
    "\n",
    "[참고자료](https://datascienceschool.net/03%20machine%20learning/03.04.01%20%EC%A7%80%EB%A6%AC%20%EC%A0%95%EB%B3%B4%20%EB%8D%B0%EC%9D%B4%ED%84%B0%20%EC%B2%98%EB%A6%AC.html)\n",
    "\n",
    "### GeoPandas\n",
    "- 지리정보 데이터 처리의 기하하적 연산과 시각화 등을 돕는 패키지\n",
    "- 두 가지의 자료형 GeoSeries와 GeoDataFrame 존재"
   ]
  },
  {
   "cell_type": "code",
   "execution_count": 2,
   "id": "04531a45-1489-4b51-a92a-436cefc81bc2",
   "metadata": {},
   "outputs": [
    {
     "ename": "ModuleNotFoundError",
     "evalue": "No module named 'geopandas'",
     "output_type": "error",
     "traceback": [
      "\u001b[1;31m---------------------------------------------------------------------------\u001b[0m",
      "\u001b[1;31mModuleNotFoundError\u001b[0m                       Traceback (most recent call last)",
      "\u001b[1;32m<ipython-input-2-3c108daf3501>\u001b[0m in \u001b[0;36m<module>\u001b[1;34m\u001b[0m\n\u001b[1;32m----> 1\u001b[1;33m \u001b[1;32mimport\u001b[0m \u001b[0mgeopandas\u001b[0m \u001b[1;32mas\u001b[0m \u001b[0mgpd\u001b[0m\u001b[1;33m\u001b[0m\u001b[1;33m\u001b[0m\u001b[0m\n\u001b[0m\u001b[0;32m      2\u001b[0m \u001b[0mgpd\u001b[0m\u001b[1;33m.\u001b[0m\u001b[0m__version__\u001b[0m\u001b[1;33m\u001b[0m\u001b[1;33m\u001b[0m\u001b[0m\n",
      "\u001b[1;31mModuleNotFoundError\u001b[0m: No module named 'geopandas'"
     ]
    }
   ],
   "source": [
    "import geopandas as gpd\n",
    "gpd.__version__"
   ]
  },
  {
   "cell_type": "code",
   "execution_count": null,
   "id": "83117142-1e4b-410b-ad88-d5713c69eff6",
   "metadata": {},
   "outputs": [],
   "source": []
  }
 ],
 "metadata": {
  "kernelspec": {
   "display_name": "Python 3",
   "language": "python",
   "name": "python3"
  },
  "language_info": {
   "codemirror_mode": {
    "name": "ipython",
    "version": 3
   },
   "file_extension": ".py",
   "mimetype": "text/x-python",
   "name": "python",
   "nbconvert_exporter": "python",
   "pygments_lexer": "ipython3",
   "version": "3.8.8"
  }
 },
 "nbformat": 4,
 "nbformat_minor": 5
}
