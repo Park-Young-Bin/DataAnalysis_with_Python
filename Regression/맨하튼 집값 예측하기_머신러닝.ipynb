{
 "cells": [
  {
   "cell_type": "markdown",
   "id": "db41d9a2-2983-4abe-8ca3-074c0e93269f",
   "metadata": {},
   "source": [
    "## 맨하튼 집값 예측하기_회귀분석 머신러닝\n",
    "\n",
    "[Kaggle] https://www.kaggle.com/zohaib30/streeteasy-dataset/version/1\n",
    "\n",
    "[Cross validation과 GridSearch하는 방법] https://techblog-history-younghunjo1.tistory.com/100\n",
    "\n",
    "[사이킷 런 교차 검증] https://dsbook.tistory.com/133?category=761052"
   ]
  },
  {
   "cell_type": "markdown",
   "id": "ca958139-3f1b-43d4-92f7-052f760aebb7",
   "metadata": {},
   "source": [
    "### 필요한 패키지 로드"
   ]
  },
  {
   "cell_type": "code",
   "execution_count": 1,
   "id": "25c410db-020c-4b3f-942a-bc847ccf6367",
   "metadata": {},
   "outputs": [],
   "source": [
    "import pandas as pd\n",
    "import numpy as np\n",
    "import seaborn as sns\n",
    "from sklearn.linear_model import LinearRegression\n",
    "from sklearn.model_selection import train_test_split, cross_validate, cross_val_score\n",
    "from sklearn.metrics import mean_squared_error, r2_score"
   ]
  },
  {
   "cell_type": "markdown",
   "id": "ab7ad566-dae3-41b5-9872-0fde4ce95345",
   "metadata": {},
   "source": [
    "### 데이터 불러오기 및 EDA"
   ]
  },
  {
   "cell_type": "code",
   "execution_count": 2,
   "id": "6eaea463-be06-4866-95f8-94ab3ebb35b8",
   "metadata": {
    "tags": []
   },
   "outputs": [
    {
     "data": {
      "text/html": [
       "<div>\n",
       "<style scoped>\n",
       "    .dataframe tbody tr th:only-of-type {\n",
       "        vertical-align: middle;\n",
       "    }\n",
       "\n",
       "    .dataframe tbody tr th {\n",
       "        vertical-align: top;\n",
       "    }\n",
       "\n",
       "    .dataframe thead th {\n",
       "        text-align: right;\n",
       "    }\n",
       "</style>\n",
       "<table border=\"1\" class=\"dataframe\">\n",
       "  <thead>\n",
       "    <tr style=\"text-align: right;\">\n",
       "      <th></th>\n",
       "      <th>rental_id</th>\n",
       "      <th>rent</th>\n",
       "      <th>bedrooms</th>\n",
       "      <th>bathrooms</th>\n",
       "      <th>size_sqft</th>\n",
       "      <th>min_to_subway</th>\n",
       "      <th>floor</th>\n",
       "      <th>building_age_yrs</th>\n",
       "      <th>no_fee</th>\n",
       "      <th>has_roofdeck</th>\n",
       "      <th>has_washer_dryer</th>\n",
       "      <th>has_doorman</th>\n",
       "      <th>has_elevator</th>\n",
       "      <th>has_dishwasher</th>\n",
       "      <th>has_patio</th>\n",
       "      <th>has_gym</th>\n",
       "      <th>neighborhood</th>\n",
       "      <th>borough</th>\n",
       "    </tr>\n",
       "  </thead>\n",
       "  <tbody>\n",
       "    <tr>\n",
       "      <th>0</th>\n",
       "      <td>1545</td>\n",
       "      <td>2550</td>\n",
       "      <td>0.0</td>\n",
       "      <td>1</td>\n",
       "      <td>480</td>\n",
       "      <td>9</td>\n",
       "      <td>2.0</td>\n",
       "      <td>17</td>\n",
       "      <td>1</td>\n",
       "      <td>1</td>\n",
       "      <td>0</td>\n",
       "      <td>0</td>\n",
       "      <td>1</td>\n",
       "      <td>1</td>\n",
       "      <td>0</td>\n",
       "      <td>1</td>\n",
       "      <td>Upper East Side</td>\n",
       "      <td>Manhattan</td>\n",
       "    </tr>\n",
       "    <tr>\n",
       "      <th>1</th>\n",
       "      <td>2472</td>\n",
       "      <td>11500</td>\n",
       "      <td>2.0</td>\n",
       "      <td>2</td>\n",
       "      <td>2000</td>\n",
       "      <td>4</td>\n",
       "      <td>1.0</td>\n",
       "      <td>96</td>\n",
       "      <td>0</td>\n",
       "      <td>0</td>\n",
       "      <td>0</td>\n",
       "      <td>0</td>\n",
       "      <td>0</td>\n",
       "      <td>0</td>\n",
       "      <td>0</td>\n",
       "      <td>0</td>\n",
       "      <td>Greenwich Village</td>\n",
       "      <td>Manhattan</td>\n",
       "    </tr>\n",
       "    <tr>\n",
       "      <th>2</th>\n",
       "      <td>2919</td>\n",
       "      <td>4500</td>\n",
       "      <td>1.0</td>\n",
       "      <td>1</td>\n",
       "      <td>916</td>\n",
       "      <td>2</td>\n",
       "      <td>51.0</td>\n",
       "      <td>29</td>\n",
       "      <td>0</td>\n",
       "      <td>1</td>\n",
       "      <td>0</td>\n",
       "      <td>1</td>\n",
       "      <td>1</td>\n",
       "      <td>1</td>\n",
       "      <td>0</td>\n",
       "      <td>0</td>\n",
       "      <td>Midtown</td>\n",
       "      <td>Manhattan</td>\n",
       "    </tr>\n",
       "  </tbody>\n",
       "</table>\n",
       "</div>"
      ],
      "text/plain": [
       "   rental_id   rent  bedrooms  bathrooms  size_sqft  min_to_subway  floor  \\\n",
       "0       1545   2550       0.0          1        480              9    2.0   \n",
       "1       2472  11500       2.0          2       2000              4    1.0   \n",
       "2       2919   4500       1.0          1        916              2   51.0   \n",
       "\n",
       "   building_age_yrs  no_fee  has_roofdeck  has_washer_dryer  has_doorman  \\\n",
       "0                17       1             1                 0            0   \n",
       "1                96       0             0                 0            0   \n",
       "2                29       0             1                 0            1   \n",
       "\n",
       "   has_elevator  has_dishwasher  has_patio  has_gym       neighborhood  \\\n",
       "0             1               1          0        1    Upper East Side   \n",
       "1             0               0          0        0  Greenwich Village   \n",
       "2             1               1          0        0            Midtown   \n",
       "\n",
       "     borough  \n",
       "0  Manhattan  \n",
       "1  Manhattan  \n",
       "2  Manhattan  "
      ]
     },
     "execution_count": 2,
     "metadata": {},
     "output_type": "execute_result"
    }
   ],
   "source": [
    "df = pd.read_csv('manhattan.csv')\n",
    "df.head(3)"
   ]
  },
  {
   "cell_type": "code",
   "execution_count": 3,
   "id": "4e07d49b-2580-46e2-9e20-5d96367270c1",
   "metadata": {
    "collapsed": true,
    "jupyter": {
     "outputs_hidden": true
    },
    "tags": []
   },
   "outputs": [
    {
     "name": "stdout",
     "output_type": "stream",
     "text": [
      "<class 'pandas.core.frame.DataFrame'>\n",
      "RangeIndex: 3539 entries, 0 to 3538\n",
      "Data columns (total 18 columns):\n",
      " #   Column            Non-Null Count  Dtype  \n",
      "---  ------            --------------  -----  \n",
      " 0   rental_id         3539 non-null   int64  \n",
      " 1   rent              3539 non-null   int64  \n",
      " 2   bedrooms          3539 non-null   float64\n",
      " 3   bathrooms         3539 non-null   int64  \n",
      " 4   size_sqft         3539 non-null   int64  \n",
      " 5   min_to_subway     3539 non-null   int64  \n",
      " 6   floor             3539 non-null   float64\n",
      " 7   building_age_yrs  3539 non-null   int64  \n",
      " 8   no_fee            3539 non-null   int64  \n",
      " 9   has_roofdeck      3539 non-null   int64  \n",
      " 10  has_washer_dryer  3539 non-null   int64  \n",
      " 11  has_doorman       3539 non-null   int64  \n",
      " 12  has_elevator      3539 non-null   int64  \n",
      " 13  has_dishwasher    3539 non-null   int64  \n",
      " 14  has_patio         3539 non-null   int64  \n",
      " 15  has_gym           3539 non-null   int64  \n",
      " 16  neighborhood      3539 non-null   object \n",
      " 17  borough           3539 non-null   object \n",
      "dtypes: float64(2), int64(14), object(2)\n",
      "memory usage: 497.8+ KB\n"
     ]
    }
   ],
   "source": [
    "df.info()"
   ]
  },
  {
   "cell_type": "code",
   "execution_count": 4,
   "id": "7d61180c-366d-4d89-9344-cf3cc791608e",
   "metadata": {
    "collapsed": true,
    "jupyter": {
     "outputs_hidden": true
    },
    "tags": []
   },
   "outputs": [
    {
     "data": {
      "text/html": [
       "<div>\n",
       "<style scoped>\n",
       "    .dataframe tbody tr th:only-of-type {\n",
       "        vertical-align: middle;\n",
       "    }\n",
       "\n",
       "    .dataframe tbody tr th {\n",
       "        vertical-align: top;\n",
       "    }\n",
       "\n",
       "    .dataframe thead th {\n",
       "        text-align: right;\n",
       "    }\n",
       "</style>\n",
       "<table border=\"1\" class=\"dataframe\">\n",
       "  <thead>\n",
       "    <tr style=\"text-align: right;\">\n",
       "      <th></th>\n",
       "      <th>rental_id</th>\n",
       "      <th>rent</th>\n",
       "      <th>bedrooms</th>\n",
       "      <th>bathrooms</th>\n",
       "      <th>size_sqft</th>\n",
       "      <th>min_to_subway</th>\n",
       "      <th>floor</th>\n",
       "      <th>building_age_yrs</th>\n",
       "      <th>no_fee</th>\n",
       "      <th>has_roofdeck</th>\n",
       "      <th>has_washer_dryer</th>\n",
       "      <th>has_doorman</th>\n",
       "      <th>has_elevator</th>\n",
       "      <th>has_dishwasher</th>\n",
       "      <th>has_patio</th>\n",
       "      <th>has_gym</th>\n",
       "    </tr>\n",
       "  </thead>\n",
       "  <tbody>\n",
       "    <tr>\n",
       "      <th>count</th>\n",
       "      <td>3539.000000</td>\n",
       "      <td>3539.000000</td>\n",
       "      <td>3539.000000</td>\n",
       "      <td>3539.000000</td>\n",
       "      <td>3539.000000</td>\n",
       "      <td>3539.000000</td>\n",
       "      <td>3539.000000</td>\n",
       "      <td>3539.000000</td>\n",
       "      <td>3539.000000</td>\n",
       "      <td>3539.000000</td>\n",
       "      <td>3539.000000</td>\n",
       "      <td>3539.000000</td>\n",
       "      <td>3539.000000</td>\n",
       "      <td>3539.000000</td>\n",
       "      <td>3539.000000</td>\n",
       "      <td>3539.000000</td>\n",
       "    </tr>\n",
       "    <tr>\n",
       "      <th>mean</th>\n",
       "      <td>5332.589997</td>\n",
       "      <td>5138.940379</td>\n",
       "      <td>1.351936</td>\n",
       "      <td>1.366770</td>\n",
       "      <td>939.727324</td>\n",
       "      <td>4.970896</td>\n",
       "      <td>11.908307</td>\n",
       "      <td>51.994914</td>\n",
       "      <td>0.403504</td>\n",
       "      <td>0.154846</td>\n",
       "      <td>0.160215</td>\n",
       "      <td>0.281153</td>\n",
       "      <td>0.294716</td>\n",
       "      <td>0.185646</td>\n",
       "      <td>0.055100</td>\n",
       "      <td>0.174908</td>\n",
       "    </tr>\n",
       "    <tr>\n",
       "      <th>std</th>\n",
       "      <td>3311.552136</td>\n",
       "      <td>3162.824760</td>\n",
       "      <td>0.967595</td>\n",
       "      <td>0.599588</td>\n",
       "      <td>477.949074</td>\n",
       "      <td>5.513589</td>\n",
       "      <td>10.960893</td>\n",
       "      <td>39.380433</td>\n",
       "      <td>0.490669</td>\n",
       "      <td>0.361809</td>\n",
       "      <td>0.366857</td>\n",
       "      <td>0.449625</td>\n",
       "      <td>0.455979</td>\n",
       "      <td>0.388875</td>\n",
       "      <td>0.228208</td>\n",
       "      <td>0.379942</td>\n",
       "    </tr>\n",
       "    <tr>\n",
       "      <th>min</th>\n",
       "      <td>1.000000</td>\n",
       "      <td>1300.000000</td>\n",
       "      <td>0.000000</td>\n",
       "      <td>0.000000</td>\n",
       "      <td>250.000000</td>\n",
       "      <td>0.000000</td>\n",
       "      <td>0.000000</td>\n",
       "      <td>0.000000</td>\n",
       "      <td>0.000000</td>\n",
       "      <td>0.000000</td>\n",
       "      <td>0.000000</td>\n",
       "      <td>0.000000</td>\n",
       "      <td>0.000000</td>\n",
       "      <td>0.000000</td>\n",
       "      <td>0.000000</td>\n",
       "      <td>0.000000</td>\n",
       "    </tr>\n",
       "    <tr>\n",
       "      <th>25%</th>\n",
       "      <td>2443.500000</td>\n",
       "      <td>3150.000000</td>\n",
       "      <td>1.000000</td>\n",
       "      <td>1.000000</td>\n",
       "      <td>613.000000</td>\n",
       "      <td>2.000000</td>\n",
       "      <td>4.000000</td>\n",
       "      <td>15.000000</td>\n",
       "      <td>0.000000</td>\n",
       "      <td>0.000000</td>\n",
       "      <td>0.000000</td>\n",
       "      <td>0.000000</td>\n",
       "      <td>0.000000</td>\n",
       "      <td>0.000000</td>\n",
       "      <td>0.000000</td>\n",
       "      <td>0.000000</td>\n",
       "    </tr>\n",
       "    <tr>\n",
       "      <th>50%</th>\n",
       "      <td>5128.000000</td>\n",
       "      <td>4000.000000</td>\n",
       "      <td>1.000000</td>\n",
       "      <td>1.000000</td>\n",
       "      <td>800.000000</td>\n",
       "      <td>4.000000</td>\n",
       "      <td>8.000000</td>\n",
       "      <td>39.000000</td>\n",
       "      <td>0.000000</td>\n",
       "      <td>0.000000</td>\n",
       "      <td>0.000000</td>\n",
       "      <td>0.000000</td>\n",
       "      <td>0.000000</td>\n",
       "      <td>0.000000</td>\n",
       "      <td>0.000000</td>\n",
       "      <td>0.000000</td>\n",
       "    </tr>\n",
       "    <tr>\n",
       "      <th>75%</th>\n",
       "      <td>8149.500000</td>\n",
       "      <td>6000.000000</td>\n",
       "      <td>2.000000</td>\n",
       "      <td>2.000000</td>\n",
       "      <td>1141.000000</td>\n",
       "      <td>6.000000</td>\n",
       "      <td>17.000000</td>\n",
       "      <td>90.000000</td>\n",
       "      <td>1.000000</td>\n",
       "      <td>0.000000</td>\n",
       "      <td>0.000000</td>\n",
       "      <td>1.000000</td>\n",
       "      <td>1.000000</td>\n",
       "      <td>0.000000</td>\n",
       "      <td>0.000000</td>\n",
       "      <td>0.000000</td>\n",
       "    </tr>\n",
       "    <tr>\n",
       "      <th>max</th>\n",
       "      <td>11349.000000</td>\n",
       "      <td>20000.000000</td>\n",
       "      <td>5.000000</td>\n",
       "      <td>5.000000</td>\n",
       "      <td>4800.000000</td>\n",
       "      <td>43.000000</td>\n",
       "      <td>83.000000</td>\n",
       "      <td>180.000000</td>\n",
       "      <td>1.000000</td>\n",
       "      <td>1.000000</td>\n",
       "      <td>1.000000</td>\n",
       "      <td>1.000000</td>\n",
       "      <td>1.000000</td>\n",
       "      <td>1.000000</td>\n",
       "      <td>1.000000</td>\n",
       "      <td>1.000000</td>\n",
       "    </tr>\n",
       "  </tbody>\n",
       "</table>\n",
       "</div>"
      ],
      "text/plain": [
       "          rental_id          rent     bedrooms    bathrooms    size_sqft  \\\n",
       "count   3539.000000   3539.000000  3539.000000  3539.000000  3539.000000   \n",
       "mean    5332.589997   5138.940379     1.351936     1.366770   939.727324   \n",
       "std     3311.552136   3162.824760     0.967595     0.599588   477.949074   \n",
       "min        1.000000   1300.000000     0.000000     0.000000   250.000000   \n",
       "25%     2443.500000   3150.000000     1.000000     1.000000   613.000000   \n",
       "50%     5128.000000   4000.000000     1.000000     1.000000   800.000000   \n",
       "75%     8149.500000   6000.000000     2.000000     2.000000  1141.000000   \n",
       "max    11349.000000  20000.000000     5.000000     5.000000  4800.000000   \n",
       "\n",
       "       min_to_subway        floor  building_age_yrs       no_fee  \\\n",
       "count    3539.000000  3539.000000       3539.000000  3539.000000   \n",
       "mean        4.970896    11.908307         51.994914     0.403504   \n",
       "std         5.513589    10.960893         39.380433     0.490669   \n",
       "min         0.000000     0.000000          0.000000     0.000000   \n",
       "25%         2.000000     4.000000         15.000000     0.000000   \n",
       "50%         4.000000     8.000000         39.000000     0.000000   \n",
       "75%         6.000000    17.000000         90.000000     1.000000   \n",
       "max        43.000000    83.000000        180.000000     1.000000   \n",
       "\n",
       "       has_roofdeck  has_washer_dryer  has_doorman  has_elevator  \\\n",
       "count   3539.000000       3539.000000  3539.000000   3539.000000   \n",
       "mean       0.154846          0.160215     0.281153      0.294716   \n",
       "std        0.361809          0.366857     0.449625      0.455979   \n",
       "min        0.000000          0.000000     0.000000      0.000000   \n",
       "25%        0.000000          0.000000     0.000000      0.000000   \n",
       "50%        0.000000          0.000000     0.000000      0.000000   \n",
       "75%        0.000000          0.000000     1.000000      1.000000   \n",
       "max        1.000000          1.000000     1.000000      1.000000   \n",
       "\n",
       "       has_dishwasher    has_patio      has_gym  \n",
       "count     3539.000000  3539.000000  3539.000000  \n",
       "mean         0.185646     0.055100     0.174908  \n",
       "std          0.388875     0.228208     0.379942  \n",
       "min          0.000000     0.000000     0.000000  \n",
       "25%          0.000000     0.000000     0.000000  \n",
       "50%          0.000000     0.000000     0.000000  \n",
       "75%          0.000000     0.000000     0.000000  \n",
       "max          1.000000     1.000000     1.000000  "
      ]
     },
     "execution_count": 4,
     "metadata": {},
     "output_type": "execute_result"
    }
   ],
   "source": [
    "df.describe()"
   ]
  },
  {
   "cell_type": "code",
   "execution_count": 5,
   "id": "d98401da-ef9a-42d8-8bbd-98003bf34757",
   "metadata": {
    "collapsed": true,
    "jupyter": {
     "outputs_hidden": true
    },
    "tags": []
   },
   "outputs": [
    {
     "data": {
      "text/plain": [
       "Index(['rental_id', 'rent', 'bedrooms', 'bathrooms', 'size_sqft',\n",
       "       'min_to_subway', 'floor', 'building_age_yrs', 'no_fee', 'has_roofdeck',\n",
       "       'has_washer_dryer', 'has_doorman', 'has_elevator', 'has_dishwasher',\n",
       "       'has_patio', 'has_gym', 'neighborhood', 'borough'],\n",
       "      dtype='object')"
      ]
     },
     "execution_count": 5,
     "metadata": {},
     "output_type": "execute_result"
    }
   ],
   "source": [
    "df.columns"
   ]
  },
  {
   "cell_type": "markdown",
   "id": "68d941c1-ab55-4a78-b44a-4d4a05fac61d",
   "metadata": {},
   "source": [
    "### 데이터 분할"
   ]
  },
  {
   "cell_type": "code",
   "execution_count": 6,
   "id": "d7712b25-f54d-4553-a868-95a7d420065c",
   "metadata": {},
   "outputs": [],
   "source": [
    "x = df.iloc[:, 2:15]  # 독립변수\n",
    "y = df.iloc[:, 1]     # 종속변수\n",
    "\n",
    "x_train, x_test, y_train, y_test = train_test_split(x, y, train_size=.8, random_state=42) "
   ]
  },
  {
   "cell_type": "markdown",
   "id": "35afe8e2-4f5f-4b97-b3ff-799622e8ef0e",
   "metadata": {},
   "source": [
    "### 모델 생성 및 학습"
   ]
  },
  {
   "cell_type": "code",
   "execution_count": 7,
   "id": "a9baf093-1bf2-44c0-ab3a-ba138867a6be",
   "metadata": {},
   "outputs": [
    {
     "data": {
      "text/plain": [
       "LinearRegression()"
      ]
     },
     "execution_count": 7,
     "metadata": {},
     "output_type": "execute_result"
    }
   ],
   "source": [
    "lr = LinearRegression()  # 모델 생성\n",
    "lr.fit(x_train, y_train) # 모델 학습"
   ]
  },
  {
   "cell_type": "code",
   "execution_count": 8,
   "id": "d672fb24-12c7-43b0-8289-8dcdb95cdb16",
   "metadata": {},
   "outputs": [
    {
     "name": "stdout",
     "output_type": "stream",
     "text": [
      "회귀계수:  [-323.231 1100.667    5.068  -18.534   24.058   -7.286  -91.545   28.21\n",
      "   78.745 -143.467   80.202    7.583 -142.742]\n",
      "절편: -466.138\n"
     ]
    }
   ],
   "source": [
    "print('회귀계수: ', np.round(lr.coef_, 3))\n",
    "print('절편: {:.3f}'.format(lr.intercept_))"
   ]
  },
  {
   "cell_type": "code",
   "execution_count": 9,
   "id": "209868b1-6d47-4edb-91fd-9661790f3729",
   "metadata": {
    "tags": []
   },
   "outputs": [
    {
     "data": {
      "text/html": [
       "<div>\n",
       "<style scoped>\n",
       "    .dataframe tbody tr th:only-of-type {\n",
       "        vertical-align: middle;\n",
       "    }\n",
       "\n",
       "    .dataframe tbody tr th {\n",
       "        vertical-align: top;\n",
       "    }\n",
       "\n",
       "    .dataframe thead th {\n",
       "        text-align: right;\n",
       "    }\n",
       "</style>\n",
       "<table border=\"1\" class=\"dataframe\">\n",
       "  <thead>\n",
       "    <tr style=\"text-align: right;\">\n",
       "      <th></th>\n",
       "      <th>회귀계수</th>\n",
       "      <th>회귀계수 절댓값</th>\n",
       "    </tr>\n",
       "  </thead>\n",
       "  <tbody>\n",
       "    <tr>\n",
       "      <th>bathrooms</th>\n",
       "      <td>1100.667</td>\n",
       "      <td>1100.667</td>\n",
       "    </tr>\n",
       "    <tr>\n",
       "      <th>bedrooms</th>\n",
       "      <td>-323.231</td>\n",
       "      <td>323.231</td>\n",
       "    </tr>\n",
       "    <tr>\n",
       "      <th>has_doorman</th>\n",
       "      <td>-143.467</td>\n",
       "      <td>143.467</td>\n",
       "    </tr>\n",
       "    <tr>\n",
       "      <th>has_patio</th>\n",
       "      <td>-142.742</td>\n",
       "      <td>142.742</td>\n",
       "    </tr>\n",
       "    <tr>\n",
       "      <th>no_fee</th>\n",
       "      <td>-91.545</td>\n",
       "      <td>91.545</td>\n",
       "    </tr>\n",
       "    <tr>\n",
       "      <th>has_elevator</th>\n",
       "      <td>80.202</td>\n",
       "      <td>80.202</td>\n",
       "    </tr>\n",
       "    <tr>\n",
       "      <th>has_washer_dryer</th>\n",
       "      <td>78.745</td>\n",
       "      <td>78.745</td>\n",
       "    </tr>\n",
       "    <tr>\n",
       "      <th>has_roofdeck</th>\n",
       "      <td>28.210</td>\n",
       "      <td>28.210</td>\n",
       "    </tr>\n",
       "    <tr>\n",
       "      <th>floor</th>\n",
       "      <td>24.058</td>\n",
       "      <td>24.058</td>\n",
       "    </tr>\n",
       "    <tr>\n",
       "      <th>min_to_subway</th>\n",
       "      <td>-18.534</td>\n",
       "      <td>18.534</td>\n",
       "    </tr>\n",
       "    <tr>\n",
       "      <th>has_dishwasher</th>\n",
       "      <td>7.583</td>\n",
       "      <td>7.583</td>\n",
       "    </tr>\n",
       "    <tr>\n",
       "      <th>building_age_yrs</th>\n",
       "      <td>-7.286</td>\n",
       "      <td>7.286</td>\n",
       "    </tr>\n",
       "    <tr>\n",
       "      <th>size_sqft</th>\n",
       "      <td>5.068</td>\n",
       "      <td>5.068</td>\n",
       "    </tr>\n",
       "  </tbody>\n",
       "</table>\n",
       "</div>"
      ],
      "text/plain": [
       "                      회귀계수  회귀계수 절댓값\n",
       "bathrooms         1100.667  1100.667\n",
       "bedrooms          -323.231   323.231\n",
       "has_doorman       -143.467   143.467\n",
       "has_patio         -142.742   142.742\n",
       "no_fee             -91.545    91.545\n",
       "has_elevator        80.202    80.202\n",
       "has_washer_dryer    78.745    78.745\n",
       "has_roofdeck        28.210    28.210\n",
       "floor               24.058    24.058\n",
       "min_to_subway      -18.534    18.534\n",
       "has_dishwasher       7.583     7.583\n",
       "building_age_yrs    -7.286     7.286\n",
       "size_sqft            5.068     5.068"
      ]
     },
     "execution_count": 9,
     "metadata": {},
     "output_type": "execute_result"
    }
   ],
   "source": [
    "coef_df = pd.DataFrame(np.round(lr.coef_, 3), index=x.columns, columns=['회귀계수'])\n",
    "coef_df['회귀계수 절댓값'] = np.abs(coef_df['회귀계수'])\n",
    "coef_df.sort_values('회귀계수 절댓값', ascending=False, inplace=True)\n",
    "coef_df"
   ]
  },
  {
   "cell_type": "markdown",
   "id": "ebbde594-fac4-4fc3-a0ba-3268a4db8c49",
   "metadata": {},
   "source": [
    "### 모델 평가"
   ]
  },
  {
   "cell_type": "code",
   "execution_count": 11,
   "id": "fcfad09c-3769-4474-8d4f-2083f8b2b1b2",
   "metadata": {},
   "outputs": [
    {
     "name": "stdout",
     "output_type": "stream",
     "text": [
      "mse: 2390862.677\n",
      "rmse: 1546.241\n",
      "r2: 0.747\n",
      "r2: 0.747\n"
     ]
    }
   ],
   "source": [
    "y_pred = lr.predict(x_test)\n",
    "\n",
    "print('mse: {:.3f}'.format(mean_squared_error(y_test, y_pred)))\n",
    "print('rmse: {:.3f}'.format(np.sqrt(mean_squared_error(y_test, y_pred))))\n",
    "print('r2: {:.3f}'.format(r2_score(y_test, y_pred))) # 결정계수 계산 방법1\n",
    "print('r2: {:.3f}'.format(lr.score(x_test, y_test))) # 결정계수 계산 방법2"
   ]
  },
  {
   "cell_type": "markdown",
   "id": "31479734-b986-494f-908f-f77626c9163c",
   "metadata": {},
   "source": [
    "### 시각화를 통한 실제값과 예측값 확인"
   ]
  },
  {
   "cell_type": "code",
   "execution_count": 12,
   "id": "3a6af7df-f29d-4eec-8d1c-6bce5df032e3",
   "metadata": {},
   "outputs": [
    {
     "data": {
      "image/png": "[encoded data removed]",
      "text/plain": [
       "<Figure size 432x288 with 1 Axes>"
      ]
     },
     "metadata": {
      "needs_background": "light"
     },
     "output_type": "display_data"
    }
   ],
   "source": [
    "import matplotlib.pyplot as plt\n",
    "plt.figure(figsize=(6,4))\n",
    "\n",
    "plt.scatter(y_test, y_pred, alpha=.4) # x: 실제 임대료, y: 예측 임대료\n",
    "plt.xlabel(\"Actual Rent\")\n",
    "plt.ylabel(\"Predicted Rent\")\n",
    "plt.title(\"MULTIPLE LINEAR REGRESSION\")\n",
    "plt.show()"
   ]
  },
  {
   "cell_type": "markdown",
   "id": "f113b8f9-e1bd-4b10-9b73-9a7b395275a6",
   "metadata": {},
   "source": [
    "임대료가 낮을수록 예측력이 높지만 높은 임대료에서는 오차가 좀 있는 걸 알 수 있다."
   ]
  },
  {
   "cell_type": "markdown",
   "id": "48e8e22e-f902-43e5-97ef-4c0f8ae1247b",
   "metadata": {},
   "source": [
    "### 교차검증\n",
    "\n",
    "sklearn에서 제공하는 교차 검증 함수: K-Fold, Stratified K-Fold  \n",
    "일반적인 방법은 K-Fold이고, Stratified K-Fold는 원본 데이터의 분포와 동일하게 각 폴드 세트의 데이터를 조절한다."
   ]
  },
  {
   "cell_type": "markdown",
   "id": "1096df5a-d86e-4431-8977-b432be1e65eb",
   "metadata": {},
   "source": [
    "#### (1) cross_validate 함수 사용"
   ]
  },
  {
   "cell_type": "code",
   "execution_count": 13,
   "id": "cd450e72-a8ef-4e13-b0dd-b96bca88c22c",
   "metadata": {},
   "outputs": [
    {
     "data": {
      "text/plain": [
       "{'fit_time': array([0.00897551, 0.01097274, 0.00698113, 0.00997567, 0.00897622]),\n",
       " 'score_time': array([0.0029912 , 0.00498486, 0.01296592, 0.00598192, 0.00598359]),\n",
       " 'test_score': array([-2373068.7534198 , -1955696.66200224, -2233334.12812083,\n",
       "        -2406372.03014713, -2270754.60212454]),\n",
       " 'train_score': array([-2173030.80685561, -2276676.62476566, -2202492.14512612,\n",
       "        -2165143.96144873, -2195688.79302247])}"
      ]
     },
     "execution_count": 13,
     "metadata": {},
     "output_type": "execute_result"
    }
   ],
   "source": [
    "scores = cross_validate(lr, x, y, scoring = \"neg_mean_squared_error\",\n",
    "                       cv = 5, return_train_score = True)\n",
    "scores\n",
    "\n",
    "# fit_time : 훈련 시간\n",
    "# score_time : 테스트 시간\n",
    "# test_score : 훈련 점수\n",
    "# train_score : 테스트 점수"
   ]
  },
  {
   "cell_type": "code",
   "execution_count": 20,
   "id": "b925ff7f-9b39-4915-97de-f0f75ddbda02",
   "metadata": {},
   "outputs": [
    {
     "data": {
      "text/plain": [
       "array([2173030.80685561, 2276676.62476566, 2202492.14512612,\n",
       "       2165143.96144873, 2195688.79302247])"
      ]
     },
     "execution_count": 20,
     "metadata": {},
     "output_type": "execute_result"
    }
   ],
   "source": [
    "mse =  -1 * scores['train_score']\n",
    "mse"
   ]
  },
  {
   "cell_type": "code",
   "execution_count": 21,
   "id": "8c9807b1-934a-4707-8182-133a00c143b6",
   "metadata": {},
   "outputs": [
    {
     "data": {
      "text/plain": [
       "array([1474.12035019, 1508.86600623, 1484.07956159, 1471.44281623,\n",
       "       1481.78567716])"
      ]
     },
     "execution_count": 21,
     "metadata": {},
     "output_type": "execute_result"
    }
   ],
   "source": [
    "rmse = np.sqrt(mse)\n",
    "rmse"
   ]
  },
  {
   "cell_type": "code",
   "execution_count": 22,
   "id": "3251e293-7be6-4318-afea-6c49c8c09c87",
   "metadata": {},
   "outputs": [
    {
     "name": "stdout",
     "output_type": "stream",
     "text": [
      "rmse 평균: 1484.059\n"
     ]
    }
   ],
   "source": [
    "print('rmse 평균: {:.3f}'.format(np.mean(rmse)))"
   ]
  },
  {
   "cell_type": "code",
   "execution_count": 31,
   "id": "670d1d66-a3e1-4c84-85d3-13d4e4c5163b",
   "metadata": {},
   "outputs": [
    {
     "data": {
      "text/html": [
       "<div>\n",
       "<style scoped>\n",
       "    .dataframe tbody tr th:only-of-type {\n",
       "        vertical-align: middle;\n",
       "    }\n",
       "\n",
       "    .dataframe tbody tr th {\n",
       "        vertical-align: top;\n",
       "    }\n",
       "\n",
       "    .dataframe thead th {\n",
       "        text-align: right;\n",
       "    }\n",
       "</style>\n",
       "<table border=\"1\" class=\"dataframe\">\n",
       "  <thead>\n",
       "    <tr style=\"text-align: right;\">\n",
       "      <th></th>\n",
       "      <th>fit_time</th>\n",
       "      <th>score_time</th>\n",
       "      <th>test_score</th>\n",
       "      <th>train_score</th>\n",
       "    </tr>\n",
       "  </thead>\n",
       "  <tbody>\n",
       "    <tr>\n",
       "      <th>case1</th>\n",
       "      <td>0.008976</td>\n",
       "      <td>0.002991</td>\n",
       "      <td>-2.373069e+06</td>\n",
       "      <td>-2.173031e+06</td>\n",
       "    </tr>\n",
       "    <tr>\n",
       "      <th>case2</th>\n",
       "      <td>0.010973</td>\n",
       "      <td>0.004985</td>\n",
       "      <td>-1.955697e+06</td>\n",
       "      <td>-2.276677e+06</td>\n",
       "    </tr>\n",
       "    <tr>\n",
       "      <th>case3</th>\n",
       "      <td>0.006981</td>\n",
       "      <td>0.012966</td>\n",
       "      <td>-2.233334e+06</td>\n",
       "      <td>-2.202492e+06</td>\n",
       "    </tr>\n",
       "    <tr>\n",
       "      <th>case4</th>\n",
       "      <td>0.009976</td>\n",
       "      <td>0.005982</td>\n",
       "      <td>-2.406372e+06</td>\n",
       "      <td>-2.165144e+06</td>\n",
       "    </tr>\n",
       "    <tr>\n",
       "      <th>case5</th>\n",
       "      <td>0.008976</td>\n",
       "      <td>0.005984</td>\n",
       "      <td>-2.270755e+06</td>\n",
       "      <td>-2.195689e+06</td>\n",
       "    </tr>\n",
       "  </tbody>\n",
       "</table>\n",
       "</div>"
      ],
      "text/plain": [
       "       fit_time  score_time    test_score   train_score\n",
       "case1  0.008976    0.002991 -2.373069e+06 -2.173031e+06\n",
       "case2  0.010973    0.004985 -1.955697e+06 -2.276677e+06\n",
       "case3  0.006981    0.012966 -2.233334e+06 -2.202492e+06\n",
       "case4  0.009976    0.005982 -2.406372e+06 -2.165144e+06\n",
       "case5  0.008976    0.005984 -2.270755e+06 -2.195689e+06"
      ]
     },
     "execution_count": 31,
     "metadata": {},
     "output_type": "execute_result"
    }
   ],
   "source": [
    "pd.DataFrame(scores, index=['case1', 'case2', 'case3', 'case4', 'case5'])"
   ]
  },
  {
   "cell_type": "code",
   "execution_count": 24,
   "id": "cb21ac01-c9f9-42e3-8a93-d73a6eeea000",
   "metadata": {},
   "outputs": [
    {
     "data": {
      "text/html": [
       "<div>\n",
       "<style scoped>\n",
       "    .dataframe tbody tr th:only-of-type {\n",
       "        vertical-align: middle;\n",
       "    }\n",
       "\n",
       "    .dataframe tbody tr th {\n",
       "        vertical-align: top;\n",
       "    }\n",
       "\n",
       "    .dataframe thead th {\n",
       "        text-align: right;\n",
       "    }\n",
       "</style>\n",
       "<table border=\"1\" class=\"dataframe\">\n",
       "  <thead>\n",
       "    <tr style=\"text-align: right;\">\n",
       "      <th></th>\n",
       "      <th>fit_time</th>\n",
       "      <th>score_time</th>\n",
       "      <th>test_score</th>\n",
       "      <th>train_score</th>\n",
       "    </tr>\n",
       "  </thead>\n",
       "  <tbody>\n",
       "    <tr>\n",
       "      <th>mean</th>\n",
       "      <td>0.009176</td>\n",
       "      <td>0.006581</td>\n",
       "      <td>-2.247845e+06</td>\n",
       "      <td>-2.202606e+06</td>\n",
       "    </tr>\n",
       "  </tbody>\n",
       "</table>\n",
       "</div>"
      ],
      "text/plain": [
       "      fit_time  score_time    test_score   train_score\n",
       "mean  0.009176    0.006581 -2.247845e+06 -2.202606e+06"
      ]
     },
     "execution_count": 24,
     "metadata": {},
     "output_type": "execute_result"
    }
   ],
   "source": [
    "# 모든 케이스의 평균\n",
    "pd.DataFrame(scores).describe().iloc[[1], :]"
   ]
  },
  {
   "cell_type": "code",
   "execution_count": 28,
   "id": "37626503-9f5f-414c-85af-ca3be55eb01d",
   "metadata": {},
   "outputs": [
    {
     "data": {
      "text/plain": [
       "-2247845.2351629077"
      ]
     },
     "execution_count": 28,
     "metadata": {},
     "output_type": "execute_result"
    }
   ],
   "source": [
    "np.mean(scores['test_score'])"
   ]
  },
  {
   "cell_type": "markdown",
   "id": "95d93113-d764-4cc0-aee0-dc73ef00709c",
   "metadata": {},
   "source": [
    "#### (2) cross_val_score 함수 사용\n",
    "\n",
    "cross_val_score에서 수행해주는 Cross validation방법은 일반적인 K-fold가 아닌 Stratified K-fold 검증방법을 사용한다."
   ]
  },
  {
   "cell_type": "code",
   "execution_count": 29,
   "id": "1aef491b-af6c-4b99-82b9-0561e81a24bd",
   "metadata": {},
   "outputs": [
    {
     "data": {
      "text/plain": [
       "array([0.75489796, 0.7735212 , 0.76280653, 0.79320113, 0.78472062])"
      ]
     },
     "execution_count": 29,
     "metadata": {},
     "output_type": "execute_result"
    }
   ],
   "source": [
    "cross_val_score(lr, x, y, cv=5)"
   ]
  },
  {
   "cell_type": "code",
   "execution_count": 30,
   "id": "48b8fbaf-8f31-436e-a645-54b8f3beced7",
   "metadata": {},
   "outputs": [
    {
     "name": "stdout",
     "output_type": "stream",
     "text": [
      "교차 검증 평균: 0.774\n"
     ]
    }
   ],
   "source": [
    "print('교차 검증 평균: {:.3f}'.format(np.mean(cross_val_score(lr, x, y, cv=5))) )"
   ]
  },
  {
   "cell_type": "code",
   "execution_count": null,
   "id": "46420166-1ff5-4bf3-94e3-c683d90a358d",
   "metadata": {},
   "outputs": [],
   "source": []
  }
 ],
 "metadata": {
  "kernelspec": {
   "display_name": "Python 3",
   "language": "python",
   "name": "python3"
  },
  "language_info": {
   "codemirror_mode": {
    "name": "ipython",
    "version": 3
   },
   "file_extension": ".py",
   "mimetype": "text/x-python",
   "name": "python",
   "nbconvert_exporter": "python",
   "pygments_lexer": "ipython3",
   "version": "3.8.8"
  }
 },
 "nbformat": 4,
 "nbformat_minor": 5
}
