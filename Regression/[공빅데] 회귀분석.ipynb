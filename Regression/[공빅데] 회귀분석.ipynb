{
 "cells": [
  {
   "cell_type": "markdown",
   "metadata": {},
   "source": [
    "## 3. 회귀분석"
   ]
  },
  {
   "cell_type": "markdown",
   "metadata": {
    "jupyter": {
     "outputs_hidden": false
    }
   },
   "source": [
    "### (1) 주가 데이터를 이용한 회귀분석"
   ]
  },
  {
   "cell_type": "code",
   "execution_count": 1,
   "metadata": {
    "collapsed": false,
    "jupyter": {
     "outputs_hidden": false
    }
   },
   "outputs": [
    {
     "name": "stdout",
     "output_type": "stream",
     "text": [
      "기울기 :  [[0.63482159]]\n",
      "절편 :  [0.12628453]\n",
      "결정계수 :  0.1064571423759525\n"
     ]
    },
    {
     "data": {
      "image/png": "[encoded data removed]",
      "text/plain": [
       "<Figure size 432x288 with 1 Axes>"
      ]
     },
     "metadata": {
      "needs_background": "light"
     },
     "output_type": "display_data"
    }
   ],
   "source": [
    "import pandas as pd\n",
    "%matplotlib inline\n",
    "import matplotlib.pyplot as plt\n",
    "import numpy as np\n",
    "from sklearn import linear_model\n",
    "\n",
    "#데이터를 읽어옴\n",
    "h_stock = pd.read_csv('H_stock.csv')\n",
    "s_stock = pd.read_csv('S_stock.csv')\n",
    "k_index = pd.read_csv('K_index.csv')\n",
    "\n",
    "#헤더정보를 제거함\n",
    "h_rate = np.array(h_stock.h_rate[1:]) # ( = h_stock['h_rate'].iloc[1:] )H회사의 주가지수\n",
    "s_rate = np.array(s_stock.s_rate[1:]) # S회사의 주가지수\n",
    "k_rate = np.array(k_index.k_rate[1:]) # 코스피 지수\n",
    "\n",
    "#선형회귀모델함수에 넣기 위하여 reshape으로 차원조정[예:(248,) --> (248,1)]\n",
    "h_rate = h_rate.reshape(h_rate.shape[0],1) \n",
    "s_rate = s_rate.reshape(s_rate.shape[0],1) \n",
    "k_rate = k_rate.reshape(k_rate.shape[0],1)\n",
    "\n",
    "plt.scatter(k_rate, h_rate, c='black', s=30, marker='v',label='train')\n",
    "\n",
    "model = linear_model.LinearRegression() # 모델 생성\n",
    "model.fit(k_rate, h_rate) # k_rate: 독립변수, h_rate: 종속변수 / 학습\n",
    "\n",
    "plt.plot(k_rate, model.predict(k_rate), linestyle='-.',label='h stock' , c='red')\n",
    "\n",
    "print('기울기 : ' , model.coef_) # 회귀분석의 기울기는 매우 중요함\n",
    "print('절편 : ' , model.intercept_) \n",
    "print('결정계수 : ' , model.score(k_rate, h_rate)) # 평가 대상 지표(결정계수)"
   ]
  },
  {
   "cell_type": "markdown",
   "metadata": {},
   "source": [
    "**Insight**\n",
    "\n",
    "기울기 = 0.63: 코스피 지수와 H회사의 주가지수는 서로 63%의 영향력이 있다."
   ]
  },
  {
   "cell_type": "code",
   "execution_count": 4,
   "metadata": {
    "collapsed": true,
    "jupyter": {
     "outputs_hidden": true
    },
    "tags": []
   },
   "outputs": [
    {
     "data": {
      "text/html": [
       "<div>\n",
       "<style scoped>\n",
       "    .dataframe tbody tr th:only-of-type {\n",
       "        vertical-align: middle;\n",
       "    }\n",
       "\n",
       "    .dataframe tbody tr th {\n",
       "        vertical-align: top;\n",
       "    }\n",
       "\n",
       "    .dataframe thead th {\n",
       "        text-align: right;\n",
       "    }\n",
       "</style>\n",
       "<table border=\"1\" class=\"dataframe\">\n",
       "  <thead>\n",
       "    <tr style=\"text-align: right;\">\n",
       "      <th></th>\n",
       "      <th>date</th>\n",
       "      <th>h_price</th>\n",
       "      <th>h_rate</th>\n",
       "    </tr>\n",
       "  </thead>\n",
       "  <tbody>\n",
       "    <tr>\n",
       "      <th>0</th>\n",
       "      <td>2015-03-25</td>\n",
       "      <td>45500</td>\n",
       "      <td>NaN</td>\n",
       "    </tr>\n",
       "    <tr>\n",
       "      <th>1</th>\n",
       "      <td>2015-03-26</td>\n",
       "      <td>45900</td>\n",
       "      <td>0.879</td>\n",
       "    </tr>\n",
       "    <tr>\n",
       "      <th>2</th>\n",
       "      <td>2015-03-27</td>\n",
       "      <td>45000</td>\n",
       "      <td>-1.961</td>\n",
       "    </tr>\n",
       "    <tr>\n",
       "      <th>3</th>\n",
       "      <td>2015-03-30</td>\n",
       "      <td>45600</td>\n",
       "      <td>1.333</td>\n",
       "    </tr>\n",
       "    <tr>\n",
       "      <th>4</th>\n",
       "      <td>2015-03-31</td>\n",
       "      <td>46000</td>\n",
       "      <td>0.877</td>\n",
       "    </tr>\n",
       "  </tbody>\n",
       "</table>\n",
       "</div>"
      ],
      "text/plain": [
       "         date  h_price  h_rate\n",
       "0  2015-03-25    45500     NaN\n",
       "1  2015-03-26    45900   0.879\n",
       "2  2015-03-27    45000  -1.961\n",
       "3  2015-03-30    45600   1.333\n",
       "4  2015-03-31    46000   0.877"
      ]
     },
     "execution_count": 4,
     "metadata": {},
     "output_type": "execute_result"
    }
   ],
   "source": [
    "h_stock.head()"
   ]
  },
  {
   "cell_type": "code",
   "execution_count": 3,
   "metadata": {
    "collapsed": true,
    "jupyter": {
     "outputs_hidden": true
    },
    "tags": []
   },
   "outputs": [
    {
     "data": {
      "text/plain": [
       "array([[-0.991],\n",
       "       [-0.136],\n",
       "       [ 0.507],\n",
       "       [ 0.541],\n",
       "       [-0.616],\n",
       "       [ 0.031],\n",
       "       [ 0.806],\n",
       "       [ 0.049],\n",
       "       [ 0.029],\n",
       "       [ 0.597],\n",
       "       [-0.019],\n",
       "       [ 1.403],\n",
       "       [ 0.535],\n",
       "       [ 0.61 ],\n",
       "       [ 0.39 ],\n",
       "       [ 0.941],\n",
       "       [ 0.168],\n",
       "       [ 0.15 ],\n",
       "       [-0.089],\n",
       "       [-0.042],\n",
       "       [ 1.377],\n",
       "       [-0.626],\n",
       "       [-0.105],\n",
       "       [-0.457],\n",
       "       [-0.235],\n",
       "       [-0.722],\n",
       "       [ 0.238],\n",
       "       [-1.297],\n",
       "       [-0.645],\n",
       "       [-0.262],\n",
       "       [ 0.569],\n",
       "       [-0.029],\n",
       "       [ 0.829],\n",
       "       [ 0.292],\n",
       "       [-0.652],\n",
       "       [ 0.343],\n",
       "       [ 0.337],\n",
       "       [ 0.881],\n",
       "       [-0.782],\n",
       "       [ 1.097],\n",
       "       [-0.121],\n",
       "       [-1.679],\n",
       "       [ 0.161],\n",
       "       [ 0.185],\n",
       "       [-0.588],\n",
       "       [-1.129],\n",
       "       [-0.745],\n",
       "       [ 0.47 ],\n",
       "       [-0.23 ],\n",
       "       [-0.141],\n",
       "       [-0.056],\n",
       "       [-0.616],\n",
       "       [ 0.258],\n",
       "       [-0.216],\n",
       "       [-0.48 ],\n",
       "       [-0.666],\n",
       "       [ 0.303],\n",
       "       [ 0.345],\n",
       "       [ 0.249],\n",
       "       [ 0.401],\n",
       "       [ 1.267],\n",
       "       [ 0.208],\n",
       "       [-0.023],\n",
       "       [ 0.249],\n",
       "       [-1.424],\n",
       "       [ 0.665],\n",
       "       [ 1.142],\n",
       "       [ 0.45 ],\n",
       "       [-0.139],\n",
       "       [-2.399],\n",
       "       [-0.664],\n",
       "       [-1.18 ],\n",
       "       [ 0.575],\n",
       "       [ 0.166],\n",
       "       [ 1.494],\n",
       "       [-0.111],\n",
       "       [ 0.664],\n",
       "       [ 0.723],\n",
       "       [-0.532],\n",
       "       [-0.168],\n",
       "       [ 0.497],\n",
       "       [-0.907],\n",
       "       [ 0.016],\n",
       "       [-0.925],\n",
       "       [-0.349],\n",
       "       [ 0.014],\n",
       "       [-0.073],\n",
       "       [-0.912],\n",
       "       [ 0.551],\n",
       "       [-1.067],\n",
       "       [ 0.971],\n",
       "       [ 0.087],\n",
       "       [-0.811],\n",
       "       [-0.152],\n",
       "       [-0.351],\n",
       "       [-0.825],\n",
       "       [-0.563],\n",
       "       [ 0.404],\n",
       "       [-0.753],\n",
       "       [-0.623],\n",
       "       [-0.863],\n",
       "       [-1.28 ],\n",
       "       [-2.01 ],\n",
       "       [-2.466],\n",
       "       [ 0.919],\n",
       "       [ 2.57 ],\n",
       "       [ 0.734],\n",
       "       [ 1.555],\n",
       "       [ 0.197],\n",
       "       [-1.404],\n",
       "       [ 0.052],\n",
       "       [ 0.016],\n",
       "       [-1.54 ],\n",
       "       [-0.15 ],\n",
       "       [-0.241],\n",
       "       [ 2.955],\n",
       "       [ 1.443],\n",
       "       [-1.057],\n",
       "       [-0.51 ],\n",
       "       [ 0.316],\n",
       "       [ 1.956],\n",
       "       [ 0.053],\n",
       "       [ 0.985],\n",
       "       [-1.567],\n",
       "       [ 0.885],\n",
       "       [-1.888],\n",
       "       [ 0.127],\n",
       "       [-0.218],\n",
       "       [ 1.027],\n",
       "       [ 0.841],\n",
       "       [-0.487],\n",
       "       [ 0.435],\n",
       "       [ 0.627],\n",
       "       [ 0.763],\n",
       "       [ 0.683],\n",
       "       [ 0.104],\n",
       "       [-0.128],\n",
       "       [-0.471],\n",
       "       [ 1.18 ],\n",
       "       [-0.148],\n",
       "       [ 0.   ],\n",
       "       [ 0.448],\n",
       "       [ 0.178],\n",
       "       [-0.978],\n",
       "       [ 0.86 ],\n",
       "       [ 0.376],\n",
       "       [-0.167],\n",
       "       [-0.105],\n",
       "       [-0.409],\n",
       "       [-0.231],\n",
       "       [ 0.284],\n",
       "       [ 0.647],\n",
       "       [ 0.213],\n",
       "       [-0.164],\n",
       "       [-0.407],\n",
       "       [-0.753],\n",
       "       [-1.437],\n",
       "       [ 0.034],\n",
       "       [-0.196],\n",
       "       [-1.007],\n",
       "       [-1.534],\n",
       "       [ 1.058],\n",
       "       [-0.036],\n",
       "       [ 1.326],\n",
       "       [ 0.048],\n",
       "       [ 0.696],\n",
       "       [ 0.628],\n",
       "       [-0.341],\n",
       "       [ 1.058],\n",
       "       [-0.083],\n",
       "       [-1.825],\n",
       "       [ 1.604],\n",
       "       [-0.723],\n",
       "       [-0.757],\n",
       "       [-0.986],\n",
       "       [-0.543],\n",
       "       [-0.745],\n",
       "       [-0.041],\n",
       "       [ 0.197],\n",
       "       [-0.177],\n",
       "       [-1.067],\n",
       "       [ 0.267],\n",
       "       [ 1.885],\n",
       "       [ 0.435],\n",
       "       [-0.133],\n",
       "       [ 0.297],\n",
       "       [ 0.574],\n",
       "       [ 0.334],\n",
       "       [-0.429],\n",
       "       [-1.336],\n",
       "       [ 0.115],\n",
       "       [-0.254],\n",
       "       [-2.169],\n",
       "       [ 0.613],\n",
       "       [-0.264],\n",
       "       [-1.096],\n",
       "       [ 0.698],\n",
       "       [-1.188],\n",
       "       [-0.21 ],\n",
       "       [ 1.344],\n",
       "       [-0.849],\n",
       "       [-1.113],\n",
       "       [-0.022],\n",
       "       [ 0.596],\n",
       "       [-2.339],\n",
       "       [-0.267],\n",
       "       [ 2.114],\n",
       "       [ 0.745],\n",
       "       [-1.148],\n",
       "       [ 1.399],\n",
       "       [ 0.478],\n",
       "       [ 0.268],\n",
       "       [ 0.667],\n",
       "       [-0.947],\n",
       "       [-0.836],\n",
       "       [ 1.353],\n",
       "       [ 0.08 ],\n",
       "       [-2.933],\n",
       "       [-1.411],\n",
       "       [ 1.467],\n",
       "       [ 1.402],\n",
       "       [-0.231],\n",
       "       [ 1.322],\n",
       "       [ 0.388],\n",
       "       [ 0.006],\n",
       "       [-0.112],\n",
       "       [-0.088],\n",
       "       [ 0.316],\n",
       "       [ 0.083],\n",
       "       [-0.182],\n",
       "       [ 1.605],\n",
       "       [ 0.552],\n",
       "       [-0.13 ],\n",
       "       [ 0.115],\n",
       "       [-0.6  ],\n",
       "       [ 0.351],\n",
       "       [ 0.839],\n",
       "       [ 0.106],\n",
       "       [ 0.044],\n",
       "       [-0.117],\n",
       "       [ 0.25 ],\n",
       "       [ 0.663],\n",
       "       [ 0.208],\n",
       "       [-0.118],\n",
       "       [ 0.354],\n",
       "       [-0.085],\n",
       "       [-0.459],\n",
       "       [-0.109]])"
      ]
     },
     "execution_count": 3,
     "metadata": {},
     "output_type": "execute_result"
    }
   ],
   "source": [
    "k_rate"
   ]
  },
  {
   "cell_type": "code",
   "execution_count": 2,
   "metadata": {
    "collapsed": false,
    "jupyter": {
     "outputs_hidden": false
    }
   },
   "outputs": [
    {
     "name": "stdout",
     "output_type": "stream",
     "text": [
      "기울기 :  [[1.00132771]]\n",
      "절편 :  [-0.03500143]\n",
      "결정계수 :  0.2644483831226937\n"
     ]
    },
    {
     "data": {
      "image/png": "[encoded data removed]",
      "text/plain": [
       "<matplotlib.figure.Figure at 0x1eef4a0e3c8>"
      ]
     },
     "metadata": {},
     "output_type": "display_data"
    }
   ],
   "source": [
    "plt.scatter(k_rate, s_rate, c='blue', s=30, marker='x',label='s rate')\n",
    "\n",
    "model = linear_model.LinearRegression()\n",
    "model.fit(k_rate, s_rate)\n",
    "\n",
    "plt.plot(k_rate, model.predict(k_rate), linestyle='-.',label='h stock' , c='red')\n",
    "\n",
    "print('기울기 : ' , model.coef_) \n",
    "print('절편 : ' , model.intercept_) \n",
    "print('결정계수 : ' , model.score(k_rate, s_rate))\n"
   ]
  },
  {
   "cell_type": "markdown",
   "metadata": {},
   "source": [
    "**Insight**\n",
    "\n",
    "기울기 = 1.0: 코스피 지수가 H회사보다 S회사의 주가지수에 미치는 영향력이 더 크다."
   ]
  },
  {
   "cell_type": "markdown",
   "metadata": {},
   "source": [
    "### (2) 비선형 회귀모델을 파이썬으로 나타내기"
   ]
  },
  {
   "cell_type": "code",
   "execution_count": 7,
   "metadata": {},
   "outputs": [],
   "source": [
    "from sklearn import linear_model\n",
    "%matplotlib inline\n",
    "import matplotlib.pyplot as plt\n",
    "import numpy as np\n",
    "from sklearn.metrics import mean_squared_error, r2_score"
   ]
  },
  {
   "cell_type": "code",
   "execution_count": 8,
   "metadata": {},
   "outputs": [
    {
     "data": {
      "image/png": "[encoded data removed]",
      "text/plain": [
       "<Figure size 432x288 with 1 Axes>"
      ]
     },
     "metadata": {
      "needs_background": "light"
     },
     "output_type": "display_data"
    }
   ],
   "source": [
    "#2차 회귀모형을 만들기 위한 가짜데이터 radndom생성(표준정규분포) \n",
    "x_train = np.arange(-10, +10, 1/50.).reshape(-1,1)\n",
    "x_train.shape\n",
    "x_train2 = x_train**2 + np.random.randn(len(x_train), 1) * 30\n",
    "\n",
    "plt.scatter(x_train, x_train2, c='black', s=30, marker='x',label='sample')\n",
    "\n",
    "# 회귀모형에 넣기 위한 트레이닝 데이터셋 만들기 \n",
    "X2_TRAIN = np.c_[x_train**2, x_train]"
   ]
  },
  {
   "cell_type": "code",
   "execution_count": 9,
   "metadata": {
    "collapsed": false,
    "jupyter": {
     "outputs_hidden": false
    }
   },
   "outputs": [
    {
     "name": "stdout",
     "output_type": "stream",
     "text": [
      "[[1.04639491 0.06138623]]\n",
      "[-0.83438156]\n",
      "0.5211045163944111\n"
     ]
    },
    {
     "data": {
      "image/png": "[encoded data removed]",
      "text/plain": [
       "<Figure size 432x288 with 1 Axes>"
      ]
     },
     "metadata": {
      "needs_background": "light"
     },
     "output_type": "display_data"
    }
   ],
   "source": [
    "# 모델을 제작하고 훈련하기\n",
    "model = linear_model.LinearRegression()\n",
    "model.fit(X2_TRAIN, x_train2)\n",
    "\n",
    "# 모델을 사용하여 예측함\n",
    "plt.plot(x_train, model.predict(X2_TRAIN), linestyle='--',label='sample' , c='red')\n",
    "\n",
    "print(model.coef_) \n",
    "print(model.intercept_) \n",
    "print(model.score(X2_TRAIN, x_train2))"
   ]
  },
  {
   "cell_type": "code",
   "execution_count": 15,
   "metadata": {},
   "outputs": [
    {
     "data": {
      "text/plain": [
       "array([[1, 4],\n",
       "       [2, 5],\n",
       "       [3, 6]])"
      ]
     },
     "execution_count": 15,
     "metadata": {},
     "output_type": "execute_result"
    }
   ],
   "source": [
    "a = np.array([1,2,3])\n",
    "b = np.array([4,5,6])\n",
    "\n",
    "np.c_[a, b]"
   ]
  },
  {
   "cell_type": "markdown",
   "metadata": {},
   "source": [
    "---"
   ]
  },
  {
   "cell_type": "markdown",
   "metadata": {},
   "source": [
    "### 실습 문제\n",
    "\n",
    "442 명의 당뇨병 환자 각각에 대해 10 개의 기준 변수, 연령, 성별, 체질량 지수, 평균 혈압 및 6 개의 혈청 측정 값"
   ]
  },
  {
   "cell_type": "code",
   "execution_count": 17,
   "metadata": {},
   "outputs": [],
   "source": [
    "from sklearn import datasets, linear_model\n",
    "from sklearn.metrics import mean_squared_error, r2_score\n",
    "\n",
    "# 당뇨병 환자의 데이터 로드\n",
    "diabetes = datasets.load_diabetes()"
   ]
  },
  {
   "cell_type": "code",
   "execution_count": 18,
   "metadata": {},
   "outputs": [
    {
     "data": {
      "text/plain": [
       "((442, 10),\n",
       " array([[ 0.03807591,  0.05068012,  0.06169621, ..., -0.00259226,\n",
       "          0.01990842, -0.01764613],\n",
       "        [-0.00188202, -0.04464164, -0.05147406, ..., -0.03949338,\n",
       "         -0.06832974, -0.09220405],\n",
       "        [ 0.08529891,  0.05068012,  0.04445121, ..., -0.00259226,\n",
       "          0.00286377, -0.02593034],\n",
       "        ...,\n",
       "        [ 0.04170844,  0.05068012, -0.01590626, ..., -0.01107952,\n",
       "         -0.04687948,  0.01549073],\n",
       "        [-0.04547248, -0.04464164,  0.03906215, ...,  0.02655962,\n",
       "          0.04452837, -0.02593034],\n",
       "        [-0.04547248, -0.04464164, -0.0730303 , ..., -0.03949338,\n",
       "         -0.00421986,  0.00306441]]),\n",
       " 7)"
      ]
     },
     "execution_count": 18,
     "metadata": {},
     "output_type": "execute_result"
    }
   ],
   "source": [
    "diabetes.data.shape, diabetes.data, len(diabetes)"
   ]
  },
  {
   "cell_type": "code",
   "execution_count": 19,
   "metadata": {},
   "outputs": [],
   "source": [
    "diabetes_X = diabetes.data[:, 2].reshape(len(diabetes.data), 1)"
   ]
  },
  {
   "cell_type": "code",
   "execution_count": 20,
   "metadata": {
    "collapsed": true,
    "jupyter": {
     "outputs_hidden": true
    },
    "tags": []
   },
   "outputs": [
    {
     "data": {
      "text/plain": [
       "((442, 1),\n",
       " array([[ 0.06169621],\n",
       "        [-0.05147406],\n",
       "        [ 0.04445121],\n",
       "        [-0.01159501],\n",
       "        [-0.03638469],\n",
       "        [-0.04069594],\n",
       "        [-0.04716281],\n",
       "        [-0.00189471],\n",
       "        [ 0.06169621],\n",
       "        [ 0.03906215],\n",
       "        [-0.08380842],\n",
       "        [ 0.01750591],\n",
       "        [-0.02884001],\n",
       "        [-0.00189471],\n",
       "        [-0.02560657],\n",
       "        [-0.01806189],\n",
       "        [ 0.04229559],\n",
       "        [ 0.01211685],\n",
       "        [-0.0105172 ],\n",
       "        [-0.01806189],\n",
       "        [-0.05686312],\n",
       "        [-0.02237314],\n",
       "        [-0.00405033],\n",
       "        [ 0.06061839],\n",
       "        [ 0.03582872],\n",
       "        [-0.01267283],\n",
       "        [-0.07734155],\n",
       "        [ 0.05954058],\n",
       "        [-0.02129532],\n",
       "        [-0.00620595],\n",
       "        [ 0.04445121],\n",
       "        [-0.06548562],\n",
       "        [ 0.12528712],\n",
       "        [-0.05039625],\n",
       "        [-0.06332999],\n",
       "        [-0.03099563],\n",
       "        [ 0.02289497],\n",
       "        [ 0.01103904],\n",
       "        [ 0.07139652],\n",
       "        [ 0.01427248],\n",
       "        [-0.00836158],\n",
       "        [-0.06764124],\n",
       "        [-0.0105172 ],\n",
       "        [-0.02345095],\n",
       "        [ 0.06816308],\n",
       "        [-0.03530688],\n",
       "        [-0.01159501],\n",
       "        [-0.0730303 ],\n",
       "        [-0.04177375],\n",
       "        [ 0.01427248],\n",
       "        [-0.00728377],\n",
       "        [ 0.0164281 ],\n",
       "        [-0.00943939],\n",
       "        [-0.01590626],\n",
       "        [ 0.0250506 ],\n",
       "        [-0.04931844],\n",
       "        [ 0.04121778],\n",
       "        [-0.06332999],\n",
       "        [-0.06440781],\n",
       "        [-0.02560657],\n",
       "        [-0.00405033],\n",
       "        [ 0.00457217],\n",
       "        [-0.00728377],\n",
       "        [-0.0374625 ],\n",
       "        [-0.02560657],\n",
       "        [-0.02452876],\n",
       "        [-0.01806189],\n",
       "        [-0.01482845],\n",
       "        [-0.02991782],\n",
       "        [-0.046085  ],\n",
       "        [-0.06979687],\n",
       "        [ 0.03367309],\n",
       "        [-0.00405033],\n",
       "        [-0.02021751],\n",
       "        [ 0.00241654],\n",
       "        [-0.03099563],\n",
       "        [ 0.02828403],\n",
       "        [-0.03638469],\n",
       "        [-0.05794093],\n",
       "        [-0.0374625 ],\n",
       "        [ 0.01211685],\n",
       "        [-0.02237314],\n",
       "        [-0.03530688],\n",
       "        [ 0.00996123],\n",
       "        [-0.03961813],\n",
       "        [ 0.07139652],\n",
       "        [-0.07518593],\n",
       "        [-0.00620595],\n",
       "        [-0.04069594],\n",
       "        [-0.04824063],\n",
       "        [-0.02560657],\n",
       "        [ 0.0519959 ],\n",
       "        [ 0.00457217],\n",
       "        [-0.06440781],\n",
       "        [-0.01698407],\n",
       "        [-0.05794093],\n",
       "        [ 0.00996123],\n",
       "        [ 0.08864151],\n",
       "        [-0.00512814],\n",
       "        [-0.06440781],\n",
       "        [ 0.01750591],\n",
       "        [-0.04500719],\n",
       "        [ 0.02828403],\n",
       "        [ 0.04121778],\n",
       "        [ 0.06492964],\n",
       "        [-0.03207344],\n",
       "        [-0.07626374],\n",
       "        [ 0.04984027],\n",
       "        [ 0.04552903],\n",
       "        [-0.00943939],\n",
       "        [-0.03207344],\n",
       "        [ 0.00457217],\n",
       "        [ 0.02073935],\n",
       "        [ 0.01427248],\n",
       "        [ 0.11019775],\n",
       "        [ 0.00133873],\n",
       "        [ 0.05846277],\n",
       "        [-0.02129532],\n",
       "        [-0.0105172 ],\n",
       "        [-0.04716281],\n",
       "        [ 0.00457217],\n",
       "        [ 0.01750591],\n",
       "        [ 0.08109682],\n",
       "        [ 0.0347509 ],\n",
       "        [ 0.02397278],\n",
       "        [-0.00836158],\n",
       "        [-0.06117437],\n",
       "        [-0.00189471],\n",
       "        [-0.06225218],\n",
       "        [ 0.0164281 ],\n",
       "        [ 0.09618619],\n",
       "        [-0.06979687],\n",
       "        [-0.02129532],\n",
       "        [-0.05362969],\n",
       "        [ 0.0433734 ],\n",
       "        [ 0.05630715],\n",
       "        [-0.0816528 ],\n",
       "        [ 0.04984027],\n",
       "        [ 0.11127556],\n",
       "        [ 0.06169621],\n",
       "        [ 0.01427248],\n",
       "        [ 0.04768465],\n",
       "        [ 0.01211685],\n",
       "        [ 0.00564998],\n",
       "        [ 0.04660684],\n",
       "        [ 0.12852056],\n",
       "        [ 0.05954058],\n",
       "        [ 0.09295276],\n",
       "        [ 0.01535029],\n",
       "        [-0.00512814],\n",
       "        [ 0.0703187 ],\n",
       "        [-0.00405033],\n",
       "        [-0.00081689],\n",
       "        [-0.04392938],\n",
       "        [ 0.02073935],\n",
       "        [ 0.06061839],\n",
       "        [-0.0105172 ],\n",
       "        [-0.03315126],\n",
       "        [-0.06548562],\n",
       "        [ 0.0433734 ],\n",
       "        [-0.06225218],\n",
       "        [ 0.06385183],\n",
       "        [ 0.03043966],\n",
       "        [ 0.07247433],\n",
       "        [-0.0191397 ],\n",
       "        [-0.06656343],\n",
       "        [-0.06009656],\n",
       "        [ 0.06924089],\n",
       "        [ 0.05954058],\n",
       "        [-0.02668438],\n",
       "        [-0.02021751],\n",
       "        [-0.046085  ],\n",
       "        [ 0.07139652],\n",
       "        [-0.07949718],\n",
       "        [ 0.00996123],\n",
       "        [-0.03854032],\n",
       "        [ 0.01966154],\n",
       "        [ 0.02720622],\n",
       "        [-0.00836158],\n",
       "        [-0.01590626],\n",
       "        [ 0.00457217],\n",
       "        [-0.04285156],\n",
       "        [ 0.00564998],\n",
       "        [-0.03530688],\n",
       "        [ 0.02397278],\n",
       "        [-0.01806189],\n",
       "        [ 0.04229559],\n",
       "        [-0.0547075 ],\n",
       "        [-0.00297252],\n",
       "        [-0.06656343],\n",
       "        [-0.01267283],\n",
       "        [-0.04177375],\n",
       "        [-0.03099563],\n",
       "        [-0.00512814],\n",
       "        [-0.05901875],\n",
       "        [ 0.0250506 ],\n",
       "        [-0.046085  ],\n",
       "        [ 0.00349435],\n",
       "        [ 0.05415152],\n",
       "        [-0.04500719],\n",
       "        [-0.05794093],\n",
       "        [-0.05578531],\n",
       "        [ 0.00133873],\n",
       "        [ 0.03043966],\n",
       "        [ 0.00672779],\n",
       "        [ 0.04660684],\n",
       "        [ 0.02612841],\n",
       "        [ 0.04552903],\n",
       "        [ 0.04013997],\n",
       "        [-0.01806189],\n",
       "        [ 0.01427248],\n",
       "        [ 0.03690653],\n",
       "        [ 0.00349435],\n",
       "        [-0.07087468],\n",
       "        [-0.03315126],\n",
       "        [ 0.09403057],\n",
       "        [ 0.03582872],\n",
       "        [ 0.03151747],\n",
       "        [-0.06548562],\n",
       "        [-0.04177375],\n",
       "        [-0.03961813],\n",
       "        [-0.03854032],\n",
       "        [-0.02560657],\n",
       "        [-0.02345095],\n",
       "        [-0.06656343],\n",
       "        [ 0.03259528],\n",
       "        [-0.046085  ],\n",
       "        [-0.02991782],\n",
       "        [-0.01267283],\n",
       "        [-0.01590626],\n",
       "        [ 0.07139652],\n",
       "        [-0.03099563],\n",
       "        [ 0.00026092],\n",
       "        [ 0.03690653],\n",
       "        [ 0.03906215],\n",
       "        [-0.01482845],\n",
       "        [ 0.00672779],\n",
       "        [-0.06871905],\n",
       "        [-0.00943939],\n",
       "        [ 0.01966154],\n",
       "        [ 0.07462995],\n",
       "        [-0.00836158],\n",
       "        [-0.02345095],\n",
       "        [-0.046085  ],\n",
       "        [ 0.05415152],\n",
       "        [-0.03530688],\n",
       "        [-0.03207344],\n",
       "        [-0.0816528 ],\n",
       "        [ 0.04768465],\n",
       "        [ 0.06061839],\n",
       "        [ 0.05630715],\n",
       "        [ 0.09834182],\n",
       "        [ 0.05954058],\n",
       "        [ 0.03367309],\n",
       "        [ 0.05630715],\n",
       "        [-0.06548562],\n",
       "        [ 0.16085492],\n",
       "        [-0.05578531],\n",
       "        [-0.02452876],\n",
       "        [-0.03638469],\n",
       "        [-0.00836158],\n",
       "        [-0.04177375],\n",
       "        [ 0.12744274],\n",
       "        [-0.07734155],\n",
       "        [ 0.02828403],\n",
       "        [-0.02560657],\n",
       "        [-0.06225218],\n",
       "        [-0.00081689],\n",
       "        [ 0.08864151],\n",
       "        [-0.03207344],\n",
       "        [ 0.03043966],\n",
       "        [ 0.00888341],\n",
       "        [ 0.00672779],\n",
       "        [-0.02021751],\n",
       "        [-0.02452876],\n",
       "        [-0.01159501],\n",
       "        [ 0.02612841],\n",
       "        [-0.05901875],\n",
       "        [-0.03638469],\n",
       "        [-0.02452876],\n",
       "        [ 0.01858372],\n",
       "        [-0.0902753 ],\n",
       "        [-0.00512814],\n",
       "        [-0.05255187],\n",
       "        [-0.02237314],\n",
       "        [-0.02021751],\n",
       "        [-0.0547075 ],\n",
       "        [-0.00620595],\n",
       "        [-0.01698407],\n",
       "        [ 0.05522933],\n",
       "        [ 0.07678558],\n",
       "        [ 0.01858372],\n",
       "        [-0.02237314],\n",
       "        [ 0.09295276],\n",
       "        [-0.03099563],\n",
       "        [ 0.03906215],\n",
       "        [-0.06117437],\n",
       "        [-0.00836158],\n",
       "        [-0.0374625 ],\n",
       "        [-0.01375064],\n",
       "        [ 0.07355214],\n",
       "        [-0.02452876],\n",
       "        [ 0.03367309],\n",
       "        [ 0.0347509 ],\n",
       "        [-0.03854032],\n",
       "        [-0.03961813],\n",
       "        [-0.00189471],\n",
       "        [-0.03099563],\n",
       "        [-0.046085  ],\n",
       "        [ 0.00133873],\n",
       "        [ 0.06492964],\n",
       "        [ 0.04013997],\n",
       "        [-0.02345095],\n",
       "        [ 0.05307371],\n",
       "        [ 0.04013997],\n",
       "        [-0.02021751],\n",
       "        [ 0.01427248],\n",
       "        [-0.03422907],\n",
       "        [ 0.00672779],\n",
       "        [ 0.00457217],\n",
       "        [ 0.03043966],\n",
       "        [ 0.0519959 ],\n",
       "        [ 0.06169621],\n",
       "        [-0.00728377],\n",
       "        [ 0.00564998],\n",
       "        [ 0.05415152],\n",
       "        [-0.00836158],\n",
       "        [ 0.114509  ],\n",
       "        [ 0.06708527],\n",
       "        [-0.05578531],\n",
       "        [ 0.03043966],\n",
       "        [-0.02560657],\n",
       "        [ 0.10480869],\n",
       "        [-0.00620595],\n",
       "        [-0.04716281],\n",
       "        [-0.04824063],\n",
       "        [ 0.08540807],\n",
       "        [-0.01267283],\n",
       "        [-0.03315126],\n",
       "        [-0.00728377],\n",
       "        [-0.01375064],\n",
       "        [ 0.05954058],\n",
       "        [ 0.02181716],\n",
       "        [ 0.01858372],\n",
       "        [-0.01159501],\n",
       "        [-0.00297252],\n",
       "        [ 0.01750591],\n",
       "        [-0.02991782],\n",
       "        [-0.02021751],\n",
       "        [-0.05794093],\n",
       "        [ 0.06061839],\n",
       "        [-0.04069594],\n",
       "        [-0.07195249],\n",
       "        [-0.05578531],\n",
       "        [ 0.04552903],\n",
       "        [-0.00943939],\n",
       "        [-0.03315126],\n",
       "        [ 0.04984027],\n",
       "        [-0.08488624],\n",
       "        [ 0.00564998],\n",
       "        [ 0.02073935],\n",
       "        [-0.00728377],\n",
       "        [ 0.10480869],\n",
       "        [-0.02452876],\n",
       "        [-0.00620595],\n",
       "        [-0.03854032],\n",
       "        [ 0.13714305],\n",
       "        [ 0.17055523],\n",
       "        [ 0.00241654],\n",
       "        [ 0.03798434],\n",
       "        [-0.05794093],\n",
       "        [-0.00943939],\n",
       "        [-0.02345095],\n",
       "        [-0.0105172 ],\n",
       "        [-0.03422907],\n",
       "        [-0.00297252],\n",
       "        [ 0.06816308],\n",
       "        [ 0.00996123],\n",
       "        [ 0.00241654],\n",
       "        [-0.03854032],\n",
       "        [ 0.02612841],\n",
       "        [-0.08919748],\n",
       "        [ 0.06061839],\n",
       "        [-0.02884001],\n",
       "        [-0.02991782],\n",
       "        [-0.0191397 ],\n",
       "        [-0.04069594],\n",
       "        [ 0.01535029],\n",
       "        [-0.02452876],\n",
       "        [ 0.00133873],\n",
       "        [ 0.06924089],\n",
       "        [-0.06979687],\n",
       "        [-0.02991782],\n",
       "        [-0.046085  ],\n",
       "        [ 0.01858372],\n",
       "        [ 0.00133873],\n",
       "        [-0.03099563],\n",
       "        [-0.00405033],\n",
       "        [ 0.01535029],\n",
       "        [ 0.02289497],\n",
       "        [ 0.04552903],\n",
       "        [-0.04500719],\n",
       "        [-0.03315126],\n",
       "        [ 0.097264  ],\n",
       "        [ 0.05415152],\n",
       "        [ 0.12313149],\n",
       "        [-0.08057499],\n",
       "        [ 0.09295276],\n",
       "        [-0.05039625],\n",
       "        [-0.01159501],\n",
       "        [-0.0277622 ],\n",
       "        [ 0.05846277],\n",
       "        [ 0.08540807],\n",
       "        [-0.00081689],\n",
       "        [ 0.00672779],\n",
       "        [ 0.00888341],\n",
       "        [ 0.08001901],\n",
       "        [ 0.07139652],\n",
       "        [-0.02452876],\n",
       "        [-0.0547075 ],\n",
       "        [-0.03638469],\n",
       "        [ 0.0164281 ],\n",
       "        [ 0.07786339],\n",
       "        [-0.03961813],\n",
       "        [ 0.01103904],\n",
       "        [-0.04069594],\n",
       "        [-0.03422907],\n",
       "        [ 0.00564998],\n",
       "        [ 0.08864151],\n",
       "        [-0.03315126],\n",
       "        [-0.05686312],\n",
       "        [-0.03099563],\n",
       "        [ 0.05522933],\n",
       "        [-0.06009656],\n",
       "        [ 0.00133873],\n",
       "        [-0.02345095],\n",
       "        [-0.07410811],\n",
       "        [ 0.01966154],\n",
       "        [-0.01590626],\n",
       "        [-0.01590626],\n",
       "        [ 0.03906215],\n",
       "        [-0.0730303 ]]))"
      ]
     },
     "execution_count": 20,
     "metadata": {},
     "output_type": "execute_result"
    }
   ],
   "source": [
    "diabetes_X.shape, diabetes_X"
   ]
  },
  {
   "cell_type": "code",
   "execution_count": 24,
   "metadata": {},
   "outputs": [],
   "source": [
    "# 트레이닝 데이터와 테스트 데이터를 나눔\n",
    "\n",
    "diabetes_X_train = diabetes_X[:-20] # 앞의 전체 -20\n",
    "diabetes_X_test = diabetes_X[-20:] # 뒤의 전체 -20\n",
    "\n",
    "diabetes_y_train = diabetes.target[:-20]\n",
    "diabetes_y_test = diabetes.target[-20:]"
   ]
  },
  {
   "cell_type": "code",
   "execution_count": 25,
   "metadata": {},
   "outputs": [
    {
     "data": {
      "text/plain": [
       "LinearRegression()"
      ]
     },
     "execution_count": 25,
     "metadata": {},
     "output_type": "execute_result"
    }
   ],
   "source": [
    "regr = linear_model.LinearRegression() # 모델 생성\n",
    "regr.fit(diabetes_X_train, diabetes_y_train) # 모델 학습"
   ]
  },
  {
   "cell_type": "code",
   "execution_count": 26,
   "metadata": {},
   "outputs": [],
   "source": [
    "diabetes_y_pred = regr.predict(diabetes_X_test)"
   ]
  },
  {
   "cell_type": "code",
   "execution_count": 27,
   "metadata": {},
   "outputs": [
    {
     "data": {
      "text/plain": [
       "array([225.9732401 , 115.74763374, 163.27610621, 114.73638965,\n",
       "       120.80385422, 158.21988574, 236.08568105, 121.81509832,\n",
       "        99.56772822, 123.83758651, 204.73711411,  96.53399594,\n",
       "       154.17490936, 130.91629517,  83.3878227 , 171.36605897,\n",
       "       137.99500384, 137.99500384, 189.56845268,  84.3990668 ])"
      ]
     },
     "execution_count": 27,
     "metadata": {},
     "output_type": "execute_result"
    }
   ],
   "source": [
    "diabetes_y_pred"
   ]
  },
  {
   "cell_type": "code",
   "execution_count": 28,
   "metadata": {},
   "outputs": [
    {
     "name": "stdout",
     "output_type": "stream",
     "text": [
      "Coefficients: \n",
      " [938.23786125]\n"
     ]
    }
   ],
   "source": [
    "# 회귀계수\n",
    "print('Coefficients: \\n', regr.coef_)"
   ]
  },
  {
   "cell_type": "code",
   "execution_count": 29,
   "metadata": {},
   "outputs": [
    {
     "name": "stdout",
     "output_type": "stream",
     "text": [
      "Variance score: 0.47\n"
     ]
    }
   ],
   "source": [
    "# 결정계수\n",
    "print('Variance score: %.2f' % r2_score(diabetes_y_test, diabetes_y_pred))"
   ]
  },
  {
   "cell_type": "code",
   "execution_count": 30,
   "metadata": {},
   "outputs": [
    {
     "data": {
      "image/png": "[encoded data removed]",
      "text/plain": [
       "<Figure size 432x288 with 1 Axes>"
      ]
     },
     "metadata": {},
     "output_type": "display_data"
    }
   ],
   "source": [
    "plt.scatter(diabetes_X_test, diabetes_y_test, color = 'black')\n",
    "plt.plot(diabetes_X_test, diabetes_y_pred, color = 'blue', linewidth=3) # 회귀직선\n",
    "\n",
    "plt.xticks(())\n",
    "plt.yticks(())\n",
    "\n",
    "plt.show()"
   ]
  },
  {
   "cell_type": "markdown",
   "metadata": {},
   "source": [
    "---"
   ]
  },
  {
   "cell_type": "markdown",
   "metadata": {},
   "source": [
    "**reshape( -1, 정수 )** 의미\n",
    "\n",
    "열(column)' 차원의 '정수'에 따라서 원소가 빠짐없이 배치될 수 있도록 '-1'이 들어가 있는 '행(row)' 의 개수가 가변적으로 정해진다. \n",
    "즉, 정수는 열의 개수를 의미한다.\n",
    "\n",
    "출처: https://rfriend.tistory.com/345 [R, Python 분석과 프로그래밍의 친구 (by R Friend)]"
   ]
  },
  {
   "cell_type": "code",
   "execution_count": 68,
   "metadata": {},
   "outputs": [
    {
     "data": {
      "text/plain": [
       "array([[ 0],\n",
       "       [ 1],\n",
       "       [ 2],\n",
       "       [ 3],\n",
       "       [ 4],\n",
       "       [ 5],\n",
       "       [ 6],\n",
       "       [ 7],\n",
       "       [ 8],\n",
       "       [ 9],\n",
       "       [10],\n",
       "       [11]])"
      ]
     },
     "execution_count": 68,
     "metadata": {},
     "output_type": "execute_result"
    }
   ],
   "source": [
    "np.arange(12).reshape(-1,1)"
   ]
  },
  {
   "cell_type": "code",
   "execution_count": 69,
   "metadata": {},
   "outputs": [
    {
     "data": {
      "text/plain": [
       "array([[ 0,  1,  2,  3],\n",
       "       [ 4,  5,  6,  7],\n",
       "       [ 8,  9, 10, 11]])"
      ]
     },
     "execution_count": 69,
     "metadata": {},
     "output_type": "execute_result"
    }
   ],
   "source": [
    "np.arange(12).reshape(-1,4)"
   ]
  },
  {
   "cell_type": "markdown",
   "metadata": {},
   "source": [
    "---"
   ]
  },
  {
   "cell_type": "markdown",
   "metadata": {},
   "source": [
    "**np.random.randn(m, n)** 의미\n",
    "\n",
    "평균0, 표준편차1의 표준정규분포 난수를 matrix array(m,n) 형식으로 생성한다.\n",
    "\n",
    "출처: https://nittaku.tistory.com/443"
   ]
  },
  {
   "cell_type": "code",
   "execution_count": 76,
   "metadata": {},
   "outputs": [
    {
     "data": {
      "text/plain": [
       "array([[ 1.19802523,  1.66810991, -1.82646527],\n",
       "       [ 1.3758994 , -0.79207926, -1.04698507]])"
      ]
     },
     "execution_count": 76,
     "metadata": {},
     "output_type": "execute_result"
    }
   ],
   "source": [
    "np.random.randn(2, 3)"
   ]
  },
  {
   "cell_type": "markdown",
   "metadata": {},
   "source": [
    "---"
   ]
  },
  {
   "cell_type": "markdown",
   "metadata": {},
   "source": [
    "**np.c_** 정의\n",
    "\n",
    "두 개의 1차원 배열을 칼럼으로 세로로 붙여서 2차원 배열 만들기\n",
    "\n",
    "출처: https://rfriend.tistory.com/352 [R, Python 분석과 프로그래밍의 친구 (by R Friend)]"
   ]
  },
  {
   "cell_type": "markdown",
   "metadata": {},
   "source": [
    "---"
   ]
  },
  {
   "cell_type": "markdown",
   "metadata": {},
   "source": [
    "**np.r_** 정의\n",
    "\n",
    "두 배열을 왼쪽에서 오른쪽으로 붙이기"
   ]
  },
  {
   "cell_type": "code",
   "execution_count": 20,
   "metadata": {},
   "outputs": [
    {
     "data": {
      "text/plain": [
       "array([1, 2, 3, 4, 5, 6])"
      ]
     },
     "execution_count": 20,
     "metadata": {},
     "output_type": "execute_result"
    }
   ],
   "source": [
    "np.r_[a,b]"
   ]
  },
  {
   "cell_type": "code",
   "execution_count": 21,
   "metadata": {},
   "outputs": [
    {
     "data": {
      "text/plain": [
       "array([[1, 2, 3],\n",
       "       [4, 5, 6]])"
      ]
     },
     "execution_count": 21,
     "metadata": {},
     "output_type": "execute_result"
    }
   ],
   "source": [
    "# 두 배열을 위에서 아래로 붙이기\n",
    "np.r_[[a], [b]]"
   ]
  },
  {
   "cell_type": "markdown",
   "metadata": {},
   "source": [
    "---"
   ]
  },
  {
   "cell_type": "markdown",
   "metadata": {},
   "source": [
    "**np.arange()**"
   ]
  },
  {
   "cell_type": "code",
   "execution_count": 5,
   "metadata": {},
   "outputs": [
    {
     "data": {
      "text/plain": [
       "(array([5, 6, 7, 8, 9]),\n",
       " array([ 0,  1,  2,  3,  4,  5,  6,  7,  8,  9, 10, 11, 12, 13, 14]))"
      ]
     },
     "execution_count": 5,
     "metadata": {},
     "output_type": "execute_result"
    }
   ],
   "source": [
    "import numpy as np\n",
    "np.arange(10)[-5:], np.arange(20)[:-5]"
   ]
  },
  {
   "cell_type": "markdown",
   "metadata": {},
   "source": [
    "---\n",
    "---\n",
    "\n",
    "# [온아아리포 강의]"
   ]
  },
  {
   "cell_type": "markdown",
   "metadata": {},
   "source": [
    "# 예측모델\n",
    "\n",
    "보스턴 집값 예측을 위한 모델을 생성하여 선형회귀를 사용하여 생성해봅니다 \n",
    "\n",
    "[분석데이터] https://scikit-learn.org/stable/modules/generated/sklearn.datasets.load_boston.html?highlight=boston#sklearn.datasets.load_boston"
   ]
  },
  {
   "cell_type": "markdown",
   "metadata": {},
   "source": [
    "## 1. 기본 예측모델(LinearRegression)"
   ]
  },
  {
   "cell_type": "markdown",
   "metadata": {},
   "source": [
    "### 라이브러리 로딩"
   ]
  },
  {
   "cell_type": "code",
   "execution_count": 1,
   "metadata": {},
   "outputs": [],
   "source": [
    "import numpy as np\n",
    "import matplotlib.pyplot as plt\n",
    "import pandas as pd\n",
    "import seaborn as sns\n",
    "from scipy import stats\n",
    "from sklearn.datasets import load_boston"
   ]
  },
  {
   "cell_type": "markdown",
   "metadata": {},
   "source": [
    "### 데이터 로딩"
   ]
  },
  {
   "cell_type": "code",
   "execution_count": 2,
   "metadata": {},
   "outputs": [
    {
     "data": {
      "text/html": [
       "<div>\n",
       "<style scoped>\n",
       "    .dataframe tbody tr th:only-of-type {\n",
       "        vertical-align: middle;\n",
       "    }\n",
       "\n",
       "    .dataframe tbody tr th {\n",
       "        vertical-align: top;\n",
       "    }\n",
       "\n",
       "    .dataframe thead th {\n",
       "        text-align: right;\n",
       "    }\n",
       "</style>\n",
       "<table border=\"1\" class=\"dataframe\">\n",
       "  <thead>\n",
       "    <tr style=\"text-align: right;\">\n",
       "      <th></th>\n",
       "      <th>CRIM</th>\n",
       "      <th>ZN</th>\n",
       "      <th>INDUS</th>\n",
       "      <th>CHAS</th>\n",
       "      <th>NOX</th>\n",
       "      <th>RM</th>\n",
       "      <th>AGE</th>\n",
       "      <th>DIS</th>\n",
       "      <th>RAD</th>\n",
       "      <th>TAX</th>\n",
       "      <th>PTRATIO</th>\n",
       "      <th>B</th>\n",
       "      <th>LSTAT</th>\n",
       "      <th>PRICE</th>\n",
       "    </tr>\n",
       "  </thead>\n",
       "  <tbody>\n",
       "    <tr>\n",
       "      <th>0</th>\n",
       "      <td>0.00632</td>\n",
       "      <td>18.0</td>\n",
       "      <td>2.31</td>\n",
       "      <td>0.0</td>\n",
       "      <td>0.538</td>\n",
       "      <td>6.575</td>\n",
       "      <td>65.2</td>\n",
       "      <td>4.0900</td>\n",
       "      <td>1.0</td>\n",
       "      <td>296.0</td>\n",
       "      <td>15.3</td>\n",
       "      <td>396.90</td>\n",
       "      <td>4.98</td>\n",
       "      <td>24.0</td>\n",
       "    </tr>\n",
       "    <tr>\n",
       "      <th>1</th>\n",
       "      <td>0.02731</td>\n",
       "      <td>0.0</td>\n",
       "      <td>7.07</td>\n",
       "      <td>0.0</td>\n",
       "      <td>0.469</td>\n",
       "      <td>6.421</td>\n",
       "      <td>78.9</td>\n",
       "      <td>4.9671</td>\n",
       "      <td>2.0</td>\n",
       "      <td>242.0</td>\n",
       "      <td>17.8</td>\n",
       "      <td>396.90</td>\n",
       "      <td>9.14</td>\n",
       "      <td>21.6</td>\n",
       "    </tr>\n",
       "    <tr>\n",
       "      <th>2</th>\n",
       "      <td>0.02729</td>\n",
       "      <td>0.0</td>\n",
       "      <td>7.07</td>\n",
       "      <td>0.0</td>\n",
       "      <td>0.469</td>\n",
       "      <td>7.185</td>\n",
       "      <td>61.1</td>\n",
       "      <td>4.9671</td>\n",
       "      <td>2.0</td>\n",
       "      <td>242.0</td>\n",
       "      <td>17.8</td>\n",
       "      <td>392.83</td>\n",
       "      <td>4.03</td>\n",
       "      <td>34.7</td>\n",
       "    </tr>\n",
       "    <tr>\n",
       "      <th>3</th>\n",
       "      <td>0.03237</td>\n",
       "      <td>0.0</td>\n",
       "      <td>2.18</td>\n",
       "      <td>0.0</td>\n",
       "      <td>0.458</td>\n",
       "      <td>6.998</td>\n",
       "      <td>45.8</td>\n",
       "      <td>6.0622</td>\n",
       "      <td>3.0</td>\n",
       "      <td>222.0</td>\n",
       "      <td>18.7</td>\n",
       "      <td>394.63</td>\n",
       "      <td>2.94</td>\n",
       "      <td>33.4</td>\n",
       "    </tr>\n",
       "    <tr>\n",
       "      <th>4</th>\n",
       "      <td>0.06905</td>\n",
       "      <td>0.0</td>\n",
       "      <td>2.18</td>\n",
       "      <td>0.0</td>\n",
       "      <td>0.458</td>\n",
       "      <td>7.147</td>\n",
       "      <td>54.2</td>\n",
       "      <td>6.0622</td>\n",
       "      <td>3.0</td>\n",
       "      <td>222.0</td>\n",
       "      <td>18.7</td>\n",
       "      <td>396.90</td>\n",
       "      <td>5.33</td>\n",
       "      <td>36.2</td>\n",
       "    </tr>\n",
       "  </tbody>\n",
       "</table>\n",
       "</div>"
      ],
      "text/plain": [
       "      CRIM    ZN  INDUS  CHAS    NOX     RM   AGE     DIS  RAD    TAX  \\\n",
       "0  0.00632  18.0   2.31   0.0  0.538  6.575  65.2  4.0900  1.0  296.0   \n",
       "1  0.02731   0.0   7.07   0.0  0.469  6.421  78.9  4.9671  2.0  242.0   \n",
       "2  0.02729   0.0   7.07   0.0  0.469  7.185  61.1  4.9671  2.0  242.0   \n",
       "3  0.03237   0.0   2.18   0.0  0.458  6.998  45.8  6.0622  3.0  222.0   \n",
       "4  0.06905   0.0   2.18   0.0  0.458  7.147  54.2  6.0622  3.0  222.0   \n",
       "\n",
       "   PTRATIO       B  LSTAT  PRICE  \n",
       "0     15.3  396.90   4.98   24.0  \n",
       "1     17.8  396.90   9.14   21.6  \n",
       "2     17.8  392.83   4.03   34.7  \n",
       "3     18.7  394.63   2.94   33.4  \n",
       "4     18.7  396.90   5.33   36.2  "
      ]
     },
     "execution_count": 2,
     "metadata": {},
     "output_type": "execute_result"
    }
   ],
   "source": [
    "boston = load_boston()\n",
    "\n",
    "boston_df = pd.DataFrame(boston.data , columns = boston.feature_names)\n",
    "boston_df['PRICE'] = boston.target\n",
    "boston_df.head()"
   ]
  },
  {
   "cell_type": "markdown",
   "metadata": {},
   "source": [
    "### EDA"
   ]
  },
  {
   "cell_type": "code",
   "execution_count": 3,
   "metadata": {},
   "outputs": [
    {
     "data": {
      "text/plain": [
       "(506, 14)"
      ]
     },
     "execution_count": 3,
     "metadata": {},
     "output_type": "execute_result"
    }
   ],
   "source": [
    "boston_df.shape"
   ]
  },
  {
   "cell_type": "code",
   "execution_count": 4,
   "metadata": {
    "collapsed": true,
    "jupyter": {
     "outputs_hidden": true
    },
    "tags": []
   },
   "outputs": [
    {
     "data": {
      "text/html": [
       "<div>\n",
       "<style scoped>\n",
       "    .dataframe tbody tr th:only-of-type {\n",
       "        vertical-align: middle;\n",
       "    }\n",
       "\n",
       "    .dataframe tbody tr th {\n",
       "        vertical-align: top;\n",
       "    }\n",
       "\n",
       "    .dataframe thead th {\n",
       "        text-align: right;\n",
       "    }\n",
       "</style>\n",
       "<table border=\"1\" class=\"dataframe\">\n",
       "  <thead>\n",
       "    <tr style=\"text-align: right;\">\n",
       "      <th></th>\n",
       "      <th>CRIM</th>\n",
       "      <th>ZN</th>\n",
       "      <th>INDUS</th>\n",
       "      <th>CHAS</th>\n",
       "      <th>NOX</th>\n",
       "      <th>RM</th>\n",
       "      <th>AGE</th>\n",
       "      <th>DIS</th>\n",
       "      <th>RAD</th>\n",
       "      <th>TAX</th>\n",
       "      <th>PTRATIO</th>\n",
       "      <th>B</th>\n",
       "      <th>LSTAT</th>\n",
       "      <th>PRICE</th>\n",
       "    </tr>\n",
       "  </thead>\n",
       "  <tbody>\n",
       "    <tr>\n",
       "      <th>count</th>\n",
       "      <td>506.000000</td>\n",
       "      <td>506.000000</td>\n",
       "      <td>506.000000</td>\n",
       "      <td>506.000000</td>\n",
       "      <td>506.000000</td>\n",
       "      <td>506.000000</td>\n",
       "      <td>506.000000</td>\n",
       "      <td>506.000000</td>\n",
       "      <td>506.000000</td>\n",
       "      <td>506.000000</td>\n",
       "      <td>506.000000</td>\n",
       "      <td>506.000000</td>\n",
       "      <td>506.000000</td>\n",
       "      <td>506.000000</td>\n",
       "    </tr>\n",
       "    <tr>\n",
       "      <th>mean</th>\n",
       "      <td>3.613524</td>\n",
       "      <td>11.363636</td>\n",
       "      <td>11.136779</td>\n",
       "      <td>0.069170</td>\n",
       "      <td>0.554695</td>\n",
       "      <td>6.284634</td>\n",
       "      <td>68.574901</td>\n",
       "      <td>3.795043</td>\n",
       "      <td>9.549407</td>\n",
       "      <td>408.237154</td>\n",
       "      <td>18.455534</td>\n",
       "      <td>356.674032</td>\n",
       "      <td>12.653063</td>\n",
       "      <td>22.532806</td>\n",
       "    </tr>\n",
       "    <tr>\n",
       "      <th>std</th>\n",
       "      <td>8.601545</td>\n",
       "      <td>23.322453</td>\n",
       "      <td>6.860353</td>\n",
       "      <td>0.253994</td>\n",
       "      <td>0.115878</td>\n",
       "      <td>0.702617</td>\n",
       "      <td>28.148861</td>\n",
       "      <td>2.105710</td>\n",
       "      <td>8.707259</td>\n",
       "      <td>168.537116</td>\n",
       "      <td>2.164946</td>\n",
       "      <td>91.294864</td>\n",
       "      <td>7.141062</td>\n",
       "      <td>9.197104</td>\n",
       "    </tr>\n",
       "    <tr>\n",
       "      <th>min</th>\n",
       "      <td>0.006320</td>\n",
       "      <td>0.000000</td>\n",
       "      <td>0.460000</td>\n",
       "      <td>0.000000</td>\n",
       "      <td>0.385000</td>\n",
       "      <td>3.561000</td>\n",
       "      <td>2.900000</td>\n",
       "      <td>1.129600</td>\n",
       "      <td>1.000000</td>\n",
       "      <td>187.000000</td>\n",
       "      <td>12.600000</td>\n",
       "      <td>0.320000</td>\n",
       "      <td>1.730000</td>\n",
       "      <td>5.000000</td>\n",
       "    </tr>\n",
       "    <tr>\n",
       "      <th>25%</th>\n",
       "      <td>0.082045</td>\n",
       "      <td>0.000000</td>\n",
       "      <td>5.190000</td>\n",
       "      <td>0.000000</td>\n",
       "      <td>0.449000</td>\n",
       "      <td>5.885500</td>\n",
       "      <td>45.025000</td>\n",
       "      <td>2.100175</td>\n",
       "      <td>4.000000</td>\n",
       "      <td>279.000000</td>\n",
       "      <td>17.400000</td>\n",
       "      <td>375.377500</td>\n",
       "      <td>6.950000</td>\n",
       "      <td>17.025000</td>\n",
       "    </tr>\n",
       "    <tr>\n",
       "      <th>50%</th>\n",
       "      <td>0.256510</td>\n",
       "      <td>0.000000</td>\n",
       "      <td>9.690000</td>\n",
       "      <td>0.000000</td>\n",
       "      <td>0.538000</td>\n",
       "      <td>6.208500</td>\n",
       "      <td>77.500000</td>\n",
       "      <td>3.207450</td>\n",
       "      <td>5.000000</td>\n",
       "      <td>330.000000</td>\n",
       "      <td>19.050000</td>\n",
       "      <td>391.440000</td>\n",
       "      <td>11.360000</td>\n",
       "      <td>21.200000</td>\n",
       "    </tr>\n",
       "    <tr>\n",
       "      <th>75%</th>\n",
       "      <td>3.677083</td>\n",
       "      <td>12.500000</td>\n",
       "      <td>18.100000</td>\n",
       "      <td>0.000000</td>\n",
       "      <td>0.624000</td>\n",
       "      <td>6.623500</td>\n",
       "      <td>94.075000</td>\n",
       "      <td>5.188425</td>\n",
       "      <td>24.000000</td>\n",
       "      <td>666.000000</td>\n",
       "      <td>20.200000</td>\n",
       "      <td>396.225000</td>\n",
       "      <td>16.955000</td>\n",
       "      <td>25.000000</td>\n",
       "    </tr>\n",
       "    <tr>\n",
       "      <th>max</th>\n",
       "      <td>88.976200</td>\n",
       "      <td>100.000000</td>\n",
       "      <td>27.740000</td>\n",
       "      <td>1.000000</td>\n",
       "      <td>0.871000</td>\n",
       "      <td>8.780000</td>\n",
       "      <td>100.000000</td>\n",
       "      <td>12.126500</td>\n",
       "      <td>24.000000</td>\n",
       "      <td>711.000000</td>\n",
       "      <td>22.000000</td>\n",
       "      <td>396.900000</td>\n",
       "      <td>37.970000</td>\n",
       "      <td>50.000000</td>\n",
       "    </tr>\n",
       "  </tbody>\n",
       "</table>\n",
       "</div>"
      ],
      "text/plain": [
       "             CRIM          ZN       INDUS        CHAS         NOX          RM  \\\n",
       "count  506.000000  506.000000  506.000000  506.000000  506.000000  506.000000   \n",
       "mean     3.613524   11.363636   11.136779    0.069170    0.554695    6.284634   \n",
       "std      8.601545   23.322453    6.860353    0.253994    0.115878    0.702617   \n",
       "min      0.006320    0.000000    0.460000    0.000000    0.385000    3.561000   \n",
       "25%      0.082045    0.000000    5.190000    0.000000    0.449000    5.885500   \n",
       "50%      0.256510    0.000000    9.690000    0.000000    0.538000    6.208500   \n",
       "75%      3.677083   12.500000   18.100000    0.000000    0.624000    6.623500   \n",
       "max     88.976200  100.000000   27.740000    1.000000    0.871000    8.780000   \n",
       "\n",
       "              AGE         DIS         RAD         TAX     PTRATIO           B  \\\n",
       "count  506.000000  506.000000  506.000000  506.000000  506.000000  506.000000   \n",
       "mean    68.574901    3.795043    9.549407  408.237154   18.455534  356.674032   \n",
       "std     28.148861    2.105710    8.707259  168.537116    2.164946   91.294864   \n",
       "min      2.900000    1.129600    1.000000  187.000000   12.600000    0.320000   \n",
       "25%     45.025000    2.100175    4.000000  279.000000   17.400000  375.377500   \n",
       "50%     77.500000    3.207450    5.000000  330.000000   19.050000  391.440000   \n",
       "75%     94.075000    5.188425   24.000000  666.000000   20.200000  396.225000   \n",
       "max    100.000000   12.126500   24.000000  711.000000   22.000000  396.900000   \n",
       "\n",
       "            LSTAT       PRICE  \n",
       "count  506.000000  506.000000  \n",
       "mean    12.653063   22.532806  \n",
       "std      7.141062    9.197104  \n",
       "min      1.730000    5.000000  \n",
       "25%      6.950000   17.025000  \n",
       "50%     11.360000   21.200000  \n",
       "75%     16.955000   25.000000  \n",
       "max     37.970000   50.000000  "
      ]
     },
     "execution_count": 4,
     "metadata": {},
     "output_type": "execute_result"
    }
   ],
   "source": [
    "boston_df.describe()"
   ]
  },
  {
   "cell_type": "code",
   "execution_count": 5,
   "metadata": {
    "collapsed": true,
    "jupyter": {
     "outputs_hidden": true
    },
    "tags": []
   },
   "outputs": [
    {
     "name": "stdout",
     "output_type": "stream",
     "text": [
      "<class 'pandas.core.frame.DataFrame'>\n",
      "RangeIndex: 506 entries, 0 to 505\n",
      "Data columns (total 14 columns):\n",
      " #   Column   Non-Null Count  Dtype  \n",
      "---  ------   --------------  -----  \n",
      " 0   CRIM     506 non-null    float64\n",
      " 1   ZN       506 non-null    float64\n",
      " 2   INDUS    506 non-null    float64\n",
      " 3   CHAS     506 non-null    float64\n",
      " 4   NOX      506 non-null    float64\n",
      " 5   RM       506 non-null    float64\n",
      " 6   AGE      506 non-null    float64\n",
      " 7   DIS      506 non-null    float64\n",
      " 8   RAD      506 non-null    float64\n",
      " 9   TAX      506 non-null    float64\n",
      " 10  PTRATIO  506 non-null    float64\n",
      " 11  B        506 non-null    float64\n",
      " 12  LSTAT    506 non-null    float64\n",
      " 13  PRICE    506 non-null    float64\n",
      "dtypes: float64(14)\n",
      "memory usage: 55.5 KB\n"
     ]
    }
   ],
   "source": [
    "boston_df.info()"
   ]
  },
  {
   "cell_type": "markdown",
   "metadata": {},
   "source": [
    "### 데이터분할"
   ]
  },
  {
   "cell_type": "code",
   "execution_count": 7,
   "metadata": {},
   "outputs": [],
   "source": [
    "from sklearn.model_selection import train_test_split\n",
    "\n",
    "y = boston_df['PRICE']\n",
    "X = boston_df.drop(['PRICE'],axis=1,inplace=False) # = boston_df.lioc[:, :-1]\n",
    "\n",
    "X_train, X_test, y_train, y_test = train_test_split(X, y, test_size=0.3, random_state=42)"
   ]
  },
  {
   "cell_type": "markdown",
   "metadata": {},
   "source": [
    "### 학습"
   ]
  },
  {
   "cell_type": "code",
   "execution_count": 8,
   "metadata": {},
   "outputs": [
    {
     "name": "stdout",
     "output_type": "stream",
     "text": [
      "weight: [-1.33470103e-01  3.58089136e-02  4.95226452e-02  3.11983512e+00\n",
      " -1.54170609e+01  4.05719923e+00 -1.08208352e-02 -1.38599824e+00\n",
      "  2.42727340e-01 -8.70223437e-03 -9.10685208e-01  1.17941159e-02\n",
      " -5.47113313e-01]\n",
      "bias: 31.63108403569186\n"
     ]
    }
   ],
   "source": [
    "from sklearn.linear_model import LinearRegression\n",
    "\n",
    "lr_model = LinearRegression()  # 모델 생성\n",
    "lr_model.fit(X_train, y_train) # 모델 학습\n",
    "\n",
    "print('weight:', lr_model.coef_)\n",
    "print('bias:',lr_model.intercept_)"
   ]
  },
  {
   "cell_type": "code",
   "execution_count": 9,
   "metadata": {
    "tags": []
   },
   "outputs": [
    {
     "data": {
      "text/plain": [
       "CRIM       -0.1\n",
       "ZN          0.0\n",
       "INDUS       0.0\n",
       "CHAS        3.1\n",
       "NOX       -15.4\n",
       "RM          4.1\n",
       "AGE        -0.0\n",
       "DIS        -1.4\n",
       "RAD         0.2\n",
       "TAX        -0.0\n",
       "PTRATIO    -0.9\n",
       "B           0.0\n",
       "LSTAT      -0.5\n",
       "dtype: float64"
      ]
     },
     "execution_count": 9,
     "metadata": {},
     "output_type": "execute_result"
    }
   ],
   "source": [
    "pd.Series(data=np.round(lr_model.coef_, 1), index=X.columns )"
   ]
  },
  {
   "cell_type": "markdown",
   "metadata": {},
   "source": [
    "### 평가\n",
    "\n",
    "- 모델의 성능을 확인하기 위한 지표: mse, rmse, r2\n",
    "- SSE: 실제값과 예측값의 차이의 제곱합\n",
    "- SSR: 실제값의 평균과 예측값의 차이의 제곱합\n",
    "- SST: 실제 데이터 전체의 분산\n",
    "- MSE: 실제값과 예측값의 차이를 제곱하여 평균 계산(차이가 작을수록 MSE값이 작음, 제곱근 값인 RMSE도 활용, 0에 가까울수록 좋음)\n",
    "- MSE는 하나의 값으로 판단하는 것이 아니라 여러 회귀모델을 만들고 나온 MSE값들을 비교하여 가장 작은 값을 갖는 모델을 선택하는 방식으로 이용된다."
   ]
  },
  {
   "cell_type": "code",
   "execution_count": 16,
   "metadata": {},
   "outputs": [
    {
     "name": "stdout",
     "output_type": "stream",
     "text": [
      "MSE : 21.517 , RMSE : 4.639, r2 : 0.711\n"
     ]
    }
   ],
   "source": [
    "from sklearn.metrics import mean_squared_error, r2_score\n",
    "\n",
    "y_preds = lr_model.predict(X_test)\n",
    "mse = mean_squared_error(y_test, y_preds)\n",
    "rmse = np.sqrt(mse)\n",
    "r2 = r2_score(y_test, y_preds)\n",
    "\n",
    "print('MSE : {0:.3f} , RMSE : {1:.3f}, r2 : {2:.3f}'.format(mse , rmse, r2))"
   ]
  },
  {
   "cell_type": "code",
   "execution_count": 13,
   "metadata": {},
   "outputs": [
    {
     "data": {
      "text/plain": [
       "0.7112260057484903"
      ]
     },
     "execution_count": 13,
     "metadata": {},
     "output_type": "execute_result"
    }
   ],
   "source": [
    "score = lr_model.score(X_test, y_test)\n",
    "score"
   ]
  },
  {
   "cell_type": "code",
   "execution_count": 7,
   "metadata": {
    "collapsed": true,
    "jupyter": {
     "outputs_hidden": true
    },
    "tags": []
   },
   "outputs": [
    {
     "data": {
      "text/html": [
       "<div>\n",
       "<style scoped>\n",
       "    .dataframe tbody tr th:only-of-type {\n",
       "        vertical-align: middle;\n",
       "    }\n",
       "\n",
       "    .dataframe tbody tr th {\n",
       "        vertical-align: top;\n",
       "    }\n",
       "\n",
       "    .dataframe thead th {\n",
       "        text-align: right;\n",
       "    }\n",
       "</style>\n",
       "<table border=\"1\" class=\"dataframe\">\n",
       "  <thead>\n",
       "    <tr style=\"text-align: right;\">\n",
       "      <th></th>\n",
       "      <th>y</th>\n",
       "      <th>y_pred</th>\n",
       "      <th>diff</th>\n",
       "    </tr>\n",
       "  </thead>\n",
       "  <tbody>\n",
       "    <tr>\n",
       "      <th>96</th>\n",
       "      <td>50.0</td>\n",
       "      <td>24.822491</td>\n",
       "      <td>25.177509</td>\n",
       "    </tr>\n",
       "    <tr>\n",
       "      <th>97</th>\n",
       "      <td>17.9</td>\n",
       "      <td>-0.477121</td>\n",
       "      <td>18.377121</td>\n",
       "    </tr>\n",
       "    <tr>\n",
       "      <th>12</th>\n",
       "      <td>7.0</td>\n",
       "      <td>-6.865435</td>\n",
       "      <td>13.865435</td>\n",
       "    </tr>\n",
       "    <tr>\n",
       "      <th>94</th>\n",
       "      <td>27.5</td>\n",
       "      <td>14.032417</td>\n",
       "      <td>13.467583</td>\n",
       "    </tr>\n",
       "    <tr>\n",
       "      <th>32</th>\n",
       "      <td>15.0</td>\n",
       "      <td>25.313725</td>\n",
       "      <td>10.313725</td>\n",
       "    </tr>\n",
       "    <tr>\n",
       "      <th>...</th>\n",
       "      <td>...</td>\n",
       "      <td>...</td>\n",
       "      <td>...</td>\n",
       "    </tr>\n",
       "    <tr>\n",
       "      <th>72</th>\n",
       "      <td>10.8</td>\n",
       "      <td>10.943170</td>\n",
       "      <td>0.143170</td>\n",
       "    </tr>\n",
       "    <tr>\n",
       "      <th>62</th>\n",
       "      <td>31.5</td>\n",
       "      <td>31.635220</td>\n",
       "      <td>0.135220</td>\n",
       "    </tr>\n",
       "    <tr>\n",
       "      <th>139</th>\n",
       "      <td>15.6</td>\n",
       "      <td>15.466213</td>\n",
       "      <td>0.133787</td>\n",
       "    </tr>\n",
       "    <tr>\n",
       "      <th>7</th>\n",
       "      <td>14.0</td>\n",
       "      <td>14.078599</td>\n",
       "      <td>0.078599</td>\n",
       "    </tr>\n",
       "    <tr>\n",
       "      <th>109</th>\n",
       "      <td>24.7</td>\n",
       "      <td>24.695594</td>\n",
       "      <td>0.004406</td>\n",
       "    </tr>\n",
       "  </tbody>\n",
       "</table>\n",
       "<p>152 rows × 3 columns</p>\n",
       "</div>"
      ],
      "text/plain": [
       "        y     y_pred       diff\n",
       "96   50.0  24.822491  25.177509\n",
       "97   17.9  -0.477121  18.377121\n",
       "12    7.0  -6.865435  13.865435\n",
       "94   27.5  14.032417  13.467583\n",
       "32   15.0  25.313725  10.313725\n",
       "..    ...        ...        ...\n",
       "72   10.8  10.943170   0.143170\n",
       "62   31.5  31.635220   0.135220\n",
       "139  15.6  15.466213   0.133787\n",
       "7    14.0  14.078599   0.078599\n",
       "109  24.7  24.695594   0.004406\n",
       "\n",
       "[152 rows x 3 columns]"
      ]
     },
     "execution_count": 7,
     "metadata": {},
     "output_type": "execute_result"
    }
   ],
   "source": [
    "result = pd.DataFrame({'y': y_test.values, 'y_pred': y_preds, 'diff': np.abs(y_test.values - y_preds)}) # 차이의 절댓값\n",
    "result.sort_values(by=['diff'], ascending=False)"
   ]
  },
  {
   "cell_type": "code",
   "execution_count": 11,
   "metadata": {},
   "outputs": [
    {
     "data": {
      "text/plain": [
       "<AxesSubplot:>"
      ]
     },
     "execution_count": 11,
     "metadata": {},
     "output_type": "execute_result"
    },
    {
     "data": {
      "image/png": "[encoded data removed]",
      "text/plain": [
       "<Figure size 432x288 with 1 Axes>"
      ]
     },
     "metadata": {
      "needs_background": "light"
     },
     "output_type": "display_data"
    }
   ],
   "source": [
    "result.plot()"
   ]
  },
  {
   "cell_type": "markdown",
   "metadata": {},
   "source": [
    "## 2. 교차검증(cross_validate)\n",
    "\n",
    "scoring을 진행할 때 \"mean_squared_error\" 앞에 \"neg_\"을 넣는다. mean_squared_error는 작을수록 좋은 모델이다. \n",
    "\n",
    "하지만 socre는 높으면 높을수록 좋은 모델이라는 정책을 따르고 있어서 \"negative\"를 의미하는 \"neg_\"를 붙인다."
   ]
  },
  {
   "cell_type": "code",
   "execution_count": 8,
   "metadata": {},
   "outputs": [
    {
     "data": {
      "text/plain": [
       "{'fit_time': array([0.02214456, 0.00552893, 0.01108646]),\n",
       " 'score_time': array([0.        , 0.00334692, 0.        ]),\n",
       " 'estimator': [LinearRegression(), LinearRegression(), LinearRegression()],\n",
       " 'test_score': array([ -20.63230588,  -34.48294871, -451.90968255]),\n",
       " 'train_score': array([-25.48944924, -21.28413033,  -9.09058754])}"
      ]
     },
     "execution_count": 8,
     "metadata": {},
     "output_type": "execute_result"
    }
   ],
   "source": [
    "from sklearn.model_selection import cross_validate\n",
    "\n",
    "# cv: 3개의 train, test set fold 로 나누어 학습 (회귀모델이 3개 만들어짐)\n",
    "scores = cross_validate(lr_model, X, y, scoring=\"neg_mean_squared_error\", # scoring 매개변수에 원하는 평가 지표 지정\n",
    "                        cv=3, return_train_score=True, return_estimator=True)\n",
    "scores"
   ]
  },
  {
   "cell_type": "code",
   "execution_count": 9,
   "metadata": {},
   "outputs": [
    {
     "data": {
      "text/plain": [
       "array([25.48944924, 21.28413033,  9.09058754])"
      ]
     },
     "execution_count": 9,
     "metadata": {},
     "output_type": "execute_result"
    }
   ],
   "source": [
    "mse = (-1 * scores['train_score'])\n",
    "mse"
   ]
  },
  {
   "cell_type": "code",
   "execution_count": 10,
   "metadata": {},
   "outputs": [
    {
     "data": {
      "text/plain": [
       "array([5.04870768, 4.6134727 , 3.01506012])"
      ]
     },
     "execution_count": 10,
     "metadata": {},
     "output_type": "execute_result"
    }
   ],
   "source": [
    "rmse  = np.sqrt(-1 * scores['train_score'])\n",
    "rmse"
   ]
  },
  {
   "cell_type": "code",
   "execution_count": 11,
   "metadata": {},
   "outputs": [
    {
     "name": "stdout",
     "output_type": "stream",
     "text": [
      "RMSE 평균: 4.226 \n"
     ]
    }
   ],
   "source": [
    "print('RMSE 평균: {0:.3f} '.format(np.mean(rmse)))"
   ]
  },
  {
   "cell_type": "markdown",
   "metadata": {},
   "source": [
    "## 3. 다양한 분류모델"
   ]
  },
  {
   "cell_type": "code",
   "execution_count": 12,
   "metadata": {},
   "outputs": [
    {
     "data": {
      "text/plain": [
       "RandomForestRegressor(random_state=42)"
      ]
     },
     "execution_count": 12,
     "metadata": {},
     "output_type": "execute_result"
    }
   ],
   "source": [
    "from sklearn.ensemble import RandomForestRegressor\n",
    "\n",
    "forest_model = RandomForestRegressor(n_estimators=100, random_state=42) # 나무개수 100개 설정\n",
    "forest_model.fit(X_train, y_train)"
   ]
  },
  {
   "cell_type": "code",
   "execution_count": 13,
   "metadata": {},
   "outputs": [
    {
     "data": {
      "text/plain": [
       "LGBMRegressor(random_state=42)"
      ]
     },
     "execution_count": 13,
     "metadata": {},
     "output_type": "execute_result"
    }
   ],
   "source": [
    "from lightgbm import LGBMRegressor\n",
    "\n",
    "lgb_model = LGBMRegressor(n_estimators=100, random_state=42)\n",
    "lgb_model.fit(X_train, y_train)"
   ]
  },
  {
   "cell_type": "code",
   "execution_count": 14,
   "metadata": {},
   "outputs": [
    {
     "name": "stdout",
     "output_type": "stream",
     "text": [
      "LinearRegression MSE : 21.517 , RMSE : 4.639, r2 : 0.711\n",
      "RandomForestRegressor MSE : 9.620 , RMSE : 3.102, r2 : 0.871\n",
      "LGBMRegressor MSE : 11.346 , RMSE : 3.368, r2 : 0.848\n"
     ]
    }
   ],
   "source": [
    "model_list = [lr_model, forest_model, lgb_model]\n",
    "\n",
    "for model in model_list:\n",
    "    model.fit(X_train , y_train)\n",
    "    y_preds = model.predict(X_test)\n",
    "    mse = mean_squared_error(y_test, y_preds)\n",
    "    rmse = np.sqrt(mse)\n",
    "    r2 = r2_score(y_test, y_preds)\n",
    "    model_name = model.__class__.__name__\n",
    "    print('{0} MSE : {1:.3f} , RMSE : {2:.3f}, r2 : {3:.3f}'.format(model_name, mse , rmse, r2)) "
   ]
  },
  {
   "cell_type": "markdown",
   "metadata": {},
   "source": [
    "## 4. 조기종료(early stop)"
   ]
  },
  {
   "cell_type": "code",
   "execution_count": 19,
   "metadata": {
    "collapsed": true,
    "jupyter": {
     "outputs_hidden": true
    },
    "tags": []
   },
   "outputs": [
    {
     "name": "stdout",
     "output_type": "stream",
     "text": [
      "[1]\tvalid_0's l2: 65.7162\n",
      "Training until validation scores don't improve for 10 rounds\n",
      "[2]\tvalid_0's l2: 56.7131\n",
      "[3]\tvalid_0's l2: 49.159\n",
      "[4]\tvalid_0's l2: 43.0422\n",
      "[5]\tvalid_0's l2: 37.9557\n",
      "[6]\tvalid_0's l2: 33.7043\n",
      "[7]\tvalid_0's l2: 30.4385\n",
      "[8]\tvalid_0's l2: 27.9803\n",
      "[9]\tvalid_0's l2: 25.8819\n",
      "[10]\tvalid_0's l2: 23.9016\n",
      "[11]\tvalid_0's l2: 22.4884\n",
      "[12]\tvalid_0's l2: 20.871\n",
      "[13]\tvalid_0's l2: 19.5505\n",
      "[14]\tvalid_0's l2: 18.6695\n",
      "[15]\tvalid_0's l2: 17.8842\n",
      "[16]\tvalid_0's l2: 17.1739\n",
      "[17]\tvalid_0's l2: 16.6865\n",
      "[18]\tvalid_0's l2: 16.1623\n",
      "[19]\tvalid_0's l2: 15.5649\n",
      "[20]\tvalid_0's l2: 15.4219\n",
      "[21]\tvalid_0's l2: 15.0994\n",
      "[22]\tvalid_0's l2: 14.8441\n",
      "[23]\tvalid_0's l2: 14.5592\n",
      "[24]\tvalid_0's l2: 14.3818\n",
      "[25]\tvalid_0's l2: 14.2751\n",
      "[26]\tvalid_0's l2: 14.1703\n",
      "[27]\tvalid_0's l2: 13.9673\n",
      "[28]\tvalid_0's l2: 13.8556\n",
      "[29]\tvalid_0's l2: 13.6974\n",
      "[30]\tvalid_0's l2: 13.5266\n",
      "[31]\tvalid_0's l2: 13.4615\n",
      "[32]\tvalid_0's l2: 13.3362\n",
      "[33]\tvalid_0's l2: 13.319\n",
      "[34]\tvalid_0's l2: 13.1923\n",
      "[35]\tvalid_0's l2: 13.1317\n",
      "[36]\tvalid_0's l2: 12.992\n",
      "[37]\tvalid_0's l2: 12.9711\n",
      "[38]\tvalid_0's l2: 12.8762\n",
      "[39]\tvalid_0's l2: 12.7971\n",
      "[40]\tvalid_0's l2: 12.7334\n",
      "[41]\tvalid_0's l2: 12.6709\n",
      "[42]\tvalid_0's l2: 12.6978\n",
      "[43]\tvalid_0's l2: 12.6458\n",
      "[44]\tvalid_0's l2: 12.6232\n",
      "[45]\tvalid_0's l2: 12.5719\n",
      "[46]\tvalid_0's l2: 12.5448\n",
      "[47]\tvalid_0's l2: 12.5098\n",
      "[48]\tvalid_0's l2: 12.4046\n",
      "[49]\tvalid_0's l2: 12.3709\n",
      "[50]\tvalid_0's l2: 12.2974\n",
      "[51]\tvalid_0's l2: 12.1855\n",
      "[52]\tvalid_0's l2: 12.1396\n",
      "[53]\tvalid_0's l2: 12.0857\n",
      "[54]\tvalid_0's l2: 12.0915\n",
      "[55]\tvalid_0's l2: 12.112\n",
      "[56]\tvalid_0's l2: 12.0792\n",
      "[57]\tvalid_0's l2: 12.0762\n",
      "[58]\tvalid_0's l2: 12.0869\n",
      "[59]\tvalid_0's l2: 12.0678\n",
      "[60]\tvalid_0's l2: 11.9833\n",
      "[61]\tvalid_0's l2: 12.046\n",
      "[62]\tvalid_0's l2: 11.987\n",
      "[63]\tvalid_0's l2: 11.9997\n",
      "[64]\tvalid_0's l2: 12.0288\n",
      "[65]\tvalid_0's l2: 12.0175\n",
      "[66]\tvalid_0's l2: 11.9972\n",
      "[67]\tvalid_0's l2: 11.9706\n",
      "[68]\tvalid_0's l2: 11.997\n",
      "[69]\tvalid_0's l2: 12.0411\n",
      "[70]\tvalid_0's l2: 12.0102\n",
      "[71]\tvalid_0's l2: 12.0557\n",
      "[72]\tvalid_0's l2: 12.0497\n",
      "[73]\tvalid_0's l2: 12.0226\n",
      "[74]\tvalid_0's l2: 11.9682\n",
      "[75]\tvalid_0's l2: 11.9658\n",
      "[76]\tvalid_0's l2: 11.9219\n",
      "[77]\tvalid_0's l2: 11.8659\n",
      "[78]\tvalid_0's l2: 11.7944\n",
      "[79]\tvalid_0's l2: 11.7533\n",
      "[80]\tvalid_0's l2: 11.7239\n",
      "[81]\tvalid_0's l2: 11.7038\n",
      "[82]\tvalid_0's l2: 11.6471\n",
      "[83]\tvalid_0's l2: 11.6409\n",
      "[84]\tvalid_0's l2: 11.5929\n",
      "[85]\tvalid_0's l2: 11.5497\n",
      "[86]\tvalid_0's l2: 11.5262\n",
      "[87]\tvalid_0's l2: 11.4843\n",
      "[88]\tvalid_0's l2: 11.4829\n",
      "[89]\tvalid_0's l2: 11.4432\n",
      "[90]\tvalid_0's l2: 11.4635\n",
      "[91]\tvalid_0's l2: 11.4362\n",
      "[92]\tvalid_0's l2: 11.4086\n",
      "[93]\tvalid_0's l2: 11.3979\n",
      "[94]\tvalid_0's l2: 11.3659\n",
      "[95]\tvalid_0's l2: 11.3398\n",
      "[96]\tvalid_0's l2: 11.3851\n",
      "[97]\tvalid_0's l2: 11.3802\n",
      "[98]\tvalid_0's l2: 11.3782\n",
      "[99]\tvalid_0's l2: 11.3718\n",
      "[100]\tvalid_0's l2: 11.3462\n",
      "Did not meet early stopping. Best iteration is:\n",
      "[95]\tvalid_0's l2: 11.3398\n",
      "MSE : 11.340 , RMSE : 3.367, r2 : 0.848\n"
     ]
    }
   ],
   "source": [
    "from lightgbm import LGBMRegressor\n",
    "\n",
    "lgb_model2 = LGBMRegressor(n_estimators=100)\n",
    "evals = [(X_test, y_test)]\n",
    "lgb_model2.fit(X_train, y_train, early_stopping_rounds=10, eval_set=evals)\n",
    "y_preds = lgb_model2.predict(X_test)\n",
    "mse = mean_squared_error(y_test, y_preds)\n",
    "rmse = np.sqrt(mse)\n",
    "r2 = r2_score(y_test, y_preds)\n",
    "print('MSE : {0:.3f} , RMSE : {1:.3f}, r2 : {2:.3f}'.format(mse , rmse, r2))"
   ]
  },
  {
   "cell_type": "code",
   "execution_count": null,
   "metadata": {},
   "outputs": [],
   "source": []
  }
 ],
 "metadata": {
  "anaconda-cloud": {},
  "kernelspec": {
   "display_name": "Python 3",
   "language": "python",
   "name": "python3"
  },
  "language_info": {
   "codemirror_mode": {
    "name": "ipython",
    "version": 3
   },
   "file_extension": ".py",
   "mimetype": "text/x-python",
   "name": "python",
   "nbconvert_exporter": "python",
   "pygments_lexer": "ipython3",
   "version": "3.8.8"
  }
 },
 "nbformat": 4,
 "nbformat_minor": 4
}
