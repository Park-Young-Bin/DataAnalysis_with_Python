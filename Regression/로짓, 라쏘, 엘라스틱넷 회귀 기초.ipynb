{
 "cells": [
  {
   "cell_type": "markdown",
   "id": "b58c2ea5-a5d1-4458-829c-72db47f50803",
   "metadata": {},
   "source": [
    "## 릿지 회귀\n",
    "\n",
    "- 선형 모델에 L2 제약조건을 추가한 Ridge 클래스\n",
    "- 주요 생성 파라미터: alpha\n",
    "\n",
    "[L2 제약조건]\n",
    "- 모든 특성에 대한 가중치의 값을 0 주변으로 위치하도록 제어하는 제약조건(0이 되지는 않음)\n",
    "- 데이터의 컬럼들을 하나의 컬럼에 가중치가 극대화되는 것을 막으면서 모든 컬럼들을 최소한으로 사용하여 회귀"
   ]
  },
  {
   "cell_type": "code",
   "execution_count": 11,
   "id": "44561a60-b9fe-413f-95c1-4c330c8b9e77",
   "metadata": {},
   "outputs": [],
   "source": [
    "import pandas as pd\n",
    "import numpy as np\n",
    "from sklearn.datasets import load_boston\n",
    "from sklearn.model_selection import cross_val_score"
   ]
  },
  {
   "cell_type": "code",
   "execution_count": 6,
   "id": "e1ab9210-1dc9-462a-8321-d4bb70273070",
   "metadata": {},
   "outputs": [],
   "source": [
    "boston = load_boston()\n",
    "df = pd.DataFrame(boston.data, columns=boston.feature_names)\n",
    "df['target'] = boston.target"
   ]
  },
  {
   "cell_type": "code",
   "execution_count": 7,
   "id": "63ef143d-aed7-4b4c-b01c-73c435501705",
   "metadata": {},
   "outputs": [
    {
     "data": {
      "text/html": [
       "<div>\n",
       "<style scoped>\n",
       "    .dataframe tbody tr th:only-of-type {\n",
       "        vertical-align: middle;\n",
       "    }\n",
       "\n",
       "    .dataframe tbody tr th {\n",
       "        vertical-align: top;\n",
       "    }\n",
       "\n",
       "    .dataframe thead th {\n",
       "        text-align: right;\n",
       "    }\n",
       "</style>\n",
       "<table border=\"1\" class=\"dataframe\">\n",
       "  <thead>\n",
       "    <tr style=\"text-align: right;\">\n",
       "      <th></th>\n",
       "      <th>CRIM</th>\n",
       "      <th>ZN</th>\n",
       "      <th>INDUS</th>\n",
       "      <th>CHAS</th>\n",
       "      <th>NOX</th>\n",
       "      <th>RM</th>\n",
       "      <th>AGE</th>\n",
       "      <th>DIS</th>\n",
       "      <th>RAD</th>\n",
       "      <th>TAX</th>\n",
       "      <th>PTRATIO</th>\n",
       "      <th>B</th>\n",
       "      <th>LSTAT</th>\n",
       "      <th>target</th>\n",
       "    </tr>\n",
       "  </thead>\n",
       "  <tbody>\n",
       "    <tr>\n",
       "      <th>count</th>\n",
       "      <td>506.000000</td>\n",
       "      <td>506.000000</td>\n",
       "      <td>506.000000</td>\n",
       "      <td>506.000000</td>\n",
       "      <td>506.000000</td>\n",
       "      <td>506.000000</td>\n",
       "      <td>506.000000</td>\n",
       "      <td>506.000000</td>\n",
       "      <td>506.000000</td>\n",
       "      <td>506.000000</td>\n",
       "      <td>506.000000</td>\n",
       "      <td>506.000000</td>\n",
       "      <td>506.000000</td>\n",
       "      <td>506.000000</td>\n",
       "    </tr>\n",
       "    <tr>\n",
       "      <th>mean</th>\n",
       "      <td>3.613524</td>\n",
       "      <td>11.363636</td>\n",
       "      <td>11.136779</td>\n",
       "      <td>0.069170</td>\n",
       "      <td>0.554695</td>\n",
       "      <td>6.284634</td>\n",
       "      <td>68.574901</td>\n",
       "      <td>3.795043</td>\n",
       "      <td>9.549407</td>\n",
       "      <td>408.237154</td>\n",
       "      <td>18.455534</td>\n",
       "      <td>356.674032</td>\n",
       "      <td>12.653063</td>\n",
       "      <td>22.532806</td>\n",
       "    </tr>\n",
       "    <tr>\n",
       "      <th>std</th>\n",
       "      <td>8.601545</td>\n",
       "      <td>23.322453</td>\n",
       "      <td>6.860353</td>\n",
       "      <td>0.253994</td>\n",
       "      <td>0.115878</td>\n",
       "      <td>0.702617</td>\n",
       "      <td>28.148861</td>\n",
       "      <td>2.105710</td>\n",
       "      <td>8.707259</td>\n",
       "      <td>168.537116</td>\n",
       "      <td>2.164946</td>\n",
       "      <td>91.294864</td>\n",
       "      <td>7.141062</td>\n",
       "      <td>9.197104</td>\n",
       "    </tr>\n",
       "    <tr>\n",
       "      <th>min</th>\n",
       "      <td>0.006320</td>\n",
       "      <td>0.000000</td>\n",
       "      <td>0.460000</td>\n",
       "      <td>0.000000</td>\n",
       "      <td>0.385000</td>\n",
       "      <td>3.561000</td>\n",
       "      <td>2.900000</td>\n",
       "      <td>1.129600</td>\n",
       "      <td>1.000000</td>\n",
       "      <td>187.000000</td>\n",
       "      <td>12.600000</td>\n",
       "      <td>0.320000</td>\n",
       "      <td>1.730000</td>\n",
       "      <td>5.000000</td>\n",
       "    </tr>\n",
       "    <tr>\n",
       "      <th>25%</th>\n",
       "      <td>0.082045</td>\n",
       "      <td>0.000000</td>\n",
       "      <td>5.190000</td>\n",
       "      <td>0.000000</td>\n",
       "      <td>0.449000</td>\n",
       "      <td>5.885500</td>\n",
       "      <td>45.025000</td>\n",
       "      <td>2.100175</td>\n",
       "      <td>4.000000</td>\n",
       "      <td>279.000000</td>\n",
       "      <td>17.400000</td>\n",
       "      <td>375.377500</td>\n",
       "      <td>6.950000</td>\n",
       "      <td>17.025000</td>\n",
       "    </tr>\n",
       "    <tr>\n",
       "      <th>50%</th>\n",
       "      <td>0.256510</td>\n",
       "      <td>0.000000</td>\n",
       "      <td>9.690000</td>\n",
       "      <td>0.000000</td>\n",
       "      <td>0.538000</td>\n",
       "      <td>6.208500</td>\n",
       "      <td>77.500000</td>\n",
       "      <td>3.207450</td>\n",
       "      <td>5.000000</td>\n",
       "      <td>330.000000</td>\n",
       "      <td>19.050000</td>\n",
       "      <td>391.440000</td>\n",
       "      <td>11.360000</td>\n",
       "      <td>21.200000</td>\n",
       "    </tr>\n",
       "    <tr>\n",
       "      <th>75%</th>\n",
       "      <td>3.677083</td>\n",
       "      <td>12.500000</td>\n",
       "      <td>18.100000</td>\n",
       "      <td>0.000000</td>\n",
       "      <td>0.624000</td>\n",
       "      <td>6.623500</td>\n",
       "      <td>94.075000</td>\n",
       "      <td>5.188425</td>\n",
       "      <td>24.000000</td>\n",
       "      <td>666.000000</td>\n",
       "      <td>20.200000</td>\n",
       "      <td>396.225000</td>\n",
       "      <td>16.955000</td>\n",
       "      <td>25.000000</td>\n",
       "    </tr>\n",
       "    <tr>\n",
       "      <th>max</th>\n",
       "      <td>88.976200</td>\n",
       "      <td>100.000000</td>\n",
       "      <td>27.740000</td>\n",
       "      <td>1.000000</td>\n",
       "      <td>0.871000</td>\n",
       "      <td>8.780000</td>\n",
       "      <td>100.000000</td>\n",
       "      <td>12.126500</td>\n",
       "      <td>24.000000</td>\n",
       "      <td>711.000000</td>\n",
       "      <td>22.000000</td>\n",
       "      <td>396.900000</td>\n",
       "      <td>37.970000</td>\n",
       "      <td>50.000000</td>\n",
       "    </tr>\n",
       "  </tbody>\n",
       "</table>\n",
       "</div>"
      ],
      "text/plain": [
       "             CRIM          ZN       INDUS        CHAS         NOX          RM  \\\n",
       "count  506.000000  506.000000  506.000000  506.000000  506.000000  506.000000   \n",
       "mean     3.613524   11.363636   11.136779    0.069170    0.554695    6.284634   \n",
       "std      8.601545   23.322453    6.860353    0.253994    0.115878    0.702617   \n",
       "min      0.006320    0.000000    0.460000    0.000000    0.385000    3.561000   \n",
       "25%      0.082045    0.000000    5.190000    0.000000    0.449000    5.885500   \n",
       "50%      0.256510    0.000000    9.690000    0.000000    0.538000    6.208500   \n",
       "75%      3.677083   12.500000   18.100000    0.000000    0.624000    6.623500   \n",
       "max     88.976200  100.000000   27.740000    1.000000    0.871000    8.780000   \n",
       "\n",
       "              AGE         DIS         RAD         TAX     PTRATIO           B  \\\n",
       "count  506.000000  506.000000  506.000000  506.000000  506.000000  506.000000   \n",
       "mean    68.574901    3.795043    9.549407  408.237154   18.455534  356.674032   \n",
       "std     28.148861    2.105710    8.707259  168.537116    2.164946   91.294864   \n",
       "min      2.900000    1.129600    1.000000  187.000000   12.600000    0.320000   \n",
       "25%     45.025000    2.100175    4.000000  279.000000   17.400000  375.377500   \n",
       "50%     77.500000    3.207450    5.000000  330.000000   19.050000  391.440000   \n",
       "75%     94.075000    5.188425   24.000000  666.000000   20.200000  396.225000   \n",
       "max    100.000000   12.126500   24.000000  711.000000   22.000000  396.900000   \n",
       "\n",
       "            LSTAT      target  \n",
       "count  506.000000  506.000000  \n",
       "mean    12.653063   22.532806  \n",
       "std      7.141062    9.197104  \n",
       "min      1.730000    5.000000  \n",
       "25%      6.950000   17.025000  \n",
       "50%     11.360000   21.200000  \n",
       "75%     16.955000   25.000000  \n",
       "max     37.970000   50.000000  "
      ]
     },
     "execution_count": 7,
     "metadata": {},
     "output_type": "execute_result"
    }
   ],
   "source": [
    "df.describe()"
   ]
  },
  {
   "cell_type": "markdown",
   "id": "81cd52c7-b53b-47d2-a017-7e22c87ab89b",
   "metadata": {},
   "source": [
    "### 규제 없이 머신 러닝 성능 파악"
   ]
  },
  {
   "cell_type": "code",
   "execution_count": 25,
   "id": "408d8acf-1cd6-451c-a377-b24c0c098224",
   "metadata": {},
   "outputs": [
    {
     "name": "stdout",
     "output_type": "stream",
     "text": [
      "NMSE: [-12.46030057 -26.04862111 -33.07413798 -80.76237112 -33.31360656]\n",
      "MSE: [12.46030057 26.04862111 33.07413798 80.76237112 33.31360656]\n",
      "MSE Mean: 37.132\n"
     ]
    }
   ],
   "source": [
    "model = LinearRegression()\n",
    "scores = cross_val_score(model, boston.data, boston.target, cv=5,\n",
    "                        scoring = 'neg_mean_squared_error')\n",
    "print('NMSE: {}'.format(scores))\n",
    "print('MSE: {}'.format(-1 * scores))\n",
    "print('MSE Mean: {:.3f}'.format(np.mean(-1 * scores)))"
   ]
  },
  {
   "cell_type": "markdown",
   "id": "ebaf32e9-efd9-41a1-b41c-0fccac16fc63",
   "metadata": {},
   "source": [
    "교차 검증 결과 평균 MSE의 값이 37.132로 나왔다."
   ]
  },
  {
   "cell_type": "markdown",
   "id": "d0920637-bb80-48aa-8797-1fa485e0a104",
   "metadata": {},
   "source": [
    "### 규제를 가하여 머신 러닝 성능 파악(릿지 회귀)"
   ]
  },
  {
   "cell_type": "code",
   "execution_count": 18,
   "id": "466976ea-3349-4927-9298-bd5928958ccd",
   "metadata": {},
   "outputs": [
    {
     "name": "stdout",
     "output_type": "stream",
     "text": [
      "NMSE: [-11.4217962  -24.29446706 -28.14355069 -74.59916618 -28.51714218]\n",
      "MSE: [11.4217962  24.29446706 28.14355069 74.59916618 28.51714218]\n",
      "MSE Mean: 33.395\n"
     ]
    }
   ],
   "source": [
    "from sklearn.linear_model import Ridge\n",
    "\n",
    "model = Ridge(alpha = 10)\n",
    "scores = cross_val_score(model, boston.data, boston.target, cv=5,\n",
    "                        scoring = 'neg_mean_squared_error')\n",
    "print('NMSE: {}'.format(scores))\n",
    "print('MSE: {}'.format(-1 * scores))\n",
    "print('MSE Mean: {:.3f}'.format(np.mean(-1 * scores)))"
   ]
  },
  {
   "cell_type": "markdown",
   "id": "bdffc63f-ed34-41eb-80f5-72ac157a39a6",
   "metadata": {},
   "source": [
    "교차 검증 결과 평균 MSE의 값이 33.395로 나왔다. 규제가 없는 것보다 좋은 예측 성능을 보여준다.\n",
    "\n",
    "이번에는 릿지의 alpha 값을 바꾸면서 변화를 파악했다."
   ]
  },
  {
   "cell_type": "code",
   "execution_count": 21,
   "id": "5401210b-891d-4fbe-9252-3df349890294",
   "metadata": {},
   "outputs": [
    {
     "name": "stdout",
     "output_type": "stream",
     "text": [
      "alpha 값이 0일 때, MSE Mean: 37.132\n",
      "alpha 값이 0.1일 때, MSE Mean: 36.707\n",
      "alpha 값이 1일 때, MSE Mean: 35.267\n",
      "alpha 값이 10일 때, MSE Mean: 33.395\n",
      "alpha 값이 100일 때, MSE Mean: 29.906\n"
     ]
    }
   ],
   "source": [
    "alpha = [0, .1, 1, 10, 100]\n",
    "\n",
    "for a in alpha:\n",
    "    model = Ridge(alpha = a)\n",
    "    \n",
    "    scores = cross_val_score(model, boston.data, boston.target, cv = 5,\n",
    "                            scoring = 'neg_mean_squared_error')\n",
    "    print('alpha 값이 {1}일 때, MSE Mean: {:.3f}'.format(a, np.mean(-1 * scores)))"
   ]
  },
  {
   "cell_type": "markdown",
   "id": "518789bb-7d44-4628-9005-9e73e7150829",
   "metadata": {},
   "source": [
    "alpha 값이 커질수록 회귀 계수 값을 작게 만드는 것을 볼 수 있다."
   ]
  },
  {
   "cell_type": "code",
   "execution_count": 41,
   "id": "b36ead33-0c1e-4b3e-8eb7-fe1b6bd90cc1",
   "metadata": {},
   "outputs": [
    {
     "name": "stdout",
     "output_type": "stream",
     "text": [
      "[-9.10922498e-02  3.95639653e-02 -2.12734706e-02  3.27109209e+00\n",
      " -2.07404196e+01  3.57832532e+00  5.86983480e-03 -1.61077020e+00\n",
      "  3.93213279e-01 -1.45846590e-02 -1.09755810e+00  9.65732659e-03\n",
      " -5.17373988e-01]\n",
      "[-9.00231089e-02  3.98647953e-02 -2.68748348e-02  3.24542544e+00\n",
      " -1.91485555e+01  3.59001169e+00  4.49910511e-03 -1.58395593e+00\n",
      "  3.91195705e-01 -1.47856637e-02 -1.08031578e+00  9.75552085e-03\n",
      " -5.19631560e-01]\n",
      "[-8.49025411e-02  4.14261867e-02 -5.42525787e-02  3.07488762e+00\n",
      " -1.13217006e+01  3.63482018e+00 -2.07935701e-03 -1.45234889e+00\n",
      "  3.82076565e-01 -1.58105968e-02 -9.96674553e-01  1.02396984e-02\n",
      " -5.31814393e-01]\n",
      "[-0.08099298  0.04460015 -0.0843765   2.25829476 -2.21383317  3.45682226\n",
      " -0.00700764 -1.30057419  0.38412978 -0.01756888 -0.91665889  0.01079708\n",
      " -0.5647637 ]\n",
      "[-0.08560172  0.05102423 -0.08959335  0.68192712 -0.23047521  2.04635637\n",
      "  0.00738724 -1.18310748  0.43299357 -0.02003122 -0.94266899  0.0104626\n",
      " -0.67310067]\n"
     ]
    }
   ],
   "source": [
    "from sklearn.model_selection import train_test_split\n",
    "X_train, X_test, y_train, y_test = train_test_split(boston.data, boston.target, test_size=.2)\n",
    "\n",
    "alpha = [0, .1, 1, 10, 100]\n",
    "\n",
    "for a in alpha:\n",
    "    model = Ridge(alpha = a)\n",
    "    model.fit(X_train, y_train)\n",
    "    print(model.coef_)"
   ]
  },
  {
   "cell_type": "markdown",
   "id": "1e6e6e3b-a589-45aa-a394-e7bf02f2e459",
   "metadata": {},
   "source": [
    "alpha 값이 증가하면서 회귀 계수가 지속적으로 작아지고 있음을 알 수 있으며, 릿지 회귀의 경우에는 회귀 계수를 0 으로 만들지는 않는다는 특징을 발견할 수 있다."
   ]
  },
  {
   "cell_type": "markdown",
   "id": "c5abbfac-d758-4633-abf6-4800cfa246d7",
   "metadata": {},
   "source": [
    "---"
   ]
  },
  {
   "cell_type": "markdown",
   "id": "45185531-68bf-4835-b426-0d6d0230295d",
   "metadata": {},
   "source": [
    "## 라쏘 회귀\n",
    "\n",
    "- 선형 모델에 L1 제약조건으 추가한 Lasso 클래스\n",
    "- 주요 생성 파라미터: alpha\n",
    "\n",
    "[L1 제약조건]\n",
    "- 중요하지 않은 항목(특성, 칼럼)의 coefficient를 0으로 바꿈\n",
    "- 대다수의 특성에 대해서는 coefficient를 0으로 바꾸고, 유의미한 종속관계가 보이는 것만 남기는 역할"
   ]
  },
  {
   "cell_type": "markdown",
   "id": "0e4a0462-6e45-40ae-a8c0-204e09ea0834",
   "metadata": {},
   "source": [
    "### 규제 없이 머신 러닝 성능 파악"
   ]
  },
  {
   "cell_type": "code",
   "execution_count": 42,
   "id": "e12b8e56-161f-4caa-88d2-975add1c3149",
   "metadata": {},
   "outputs": [
    {
     "name": "stdout",
     "output_type": "stream",
     "text": [
      "NMSE: [-12.46030057 -26.04862111 -33.07413798 -80.76237112 -33.31360656]\n",
      "MSE: [12.46030057 26.04862111 33.07413798 80.76237112 33.31360656]\n",
      "MSE Mean: 37.132\n"
     ]
    }
   ],
   "source": [
    "model = LinearRegression()\n",
    "scores = cross_val_score(model, boston.data, boston.target, cv=5,\n",
    "                        scoring = 'neg_mean_squared_error')\n",
    "print('NMSE: {}'.format(scores))\n",
    "print('MSE: {}'.format(-1 * scores))\n",
    "print('MSE Mean: {:.3f}'.format(np.mean(-1 * scores)))"
   ]
  },
  {
   "cell_type": "markdown",
   "id": "758be88a-8746-466e-b759-6bdba5ecdbed",
   "metadata": {},
   "source": [
    "교차 검증 결과 평균 MSE의 값이 37.132로 나왔다."
   ]
  },
  {
   "cell_type": "markdown",
   "id": "6e66b351-1ae1-46ee-b94e-b65120432cff",
   "metadata": {},
   "source": [
    "### 규제를 가하여 머신 러닝 성능 파악(라쏘 회귀)"
   ]
  },
  {
   "cell_type": "code",
   "execution_count": 49,
   "id": "3a1cc153-051d-4ff9-98c6-0f35a6960d81",
   "metadata": {},
   "outputs": [
    {
     "name": "stdout",
     "output_type": "stream",
     "text": [
      "NMSE: [-11.22162227 -24.34502474 -29.42629614 -79.36695204 -29.79226639]\n",
      "MSE: [11.22162227 24.34502474 29.42629614 79.36695204 29.79226639]\n",
      "MSE Mean: 34.830\n"
     ]
    }
   ],
   "source": [
    "from sklearn.linear_model import Lasso\n",
    "\n",
    "model = Lasso(alpha = 0.1)\n",
    "scores = cross_val_score(model, boston.data, boston.target, cv=5,\n",
    "                        scoring = 'neg_mean_squared_error')\n",
    "print('NMSE: {}'.format(scores))\n",
    "print('MSE: {}'.format(-1 * scores))\n",
    "print('MSE Mean: {:.3f}'.format(np.mean(-1 * scores)))"
   ]
  },
  {
   "cell_type": "markdown",
   "id": "bf95c559-297e-41e0-bb56-2daab12aacd1",
   "metadata": {},
   "source": [
    "교차 검증 결과 평균 MSE의 값이 34.830로 나왔다. 규제가 없는 것보다 좋은 예측 성능을 보여준다.\n",
    "\n",
    "이번에는 라쏘의 alpha 값을 바꾸면서 변화를 파악했다."
   ]
  },
  {
   "cell_type": "code",
   "execution_count": 53,
   "id": "adedd3d9-c0df-4ad6-b6a8-7286e6cd29c1",
   "metadata": {},
   "outputs": [
    {
     "name": "stdout",
     "output_type": "stream",
     "text": [
      "alpha 값이 0.0001일 때, MSE Mean: 37.121\n",
      "alpha 값이 0.001일 때, MSE Mean: 37.026\n",
      "alpha 값이 0.01일 때, MSE Mean: 36.201\n",
      "alpha 값이 0.1일 때, MSE Mean: 34.830\n"
     ]
    }
   ],
   "source": [
    "alpha = [.0001, .001, .01, .1]\n",
    "\n",
    "for a in alpha:\n",
    "    model = Lasso(alpha = a)\n",
    "    \n",
    "    scores = cross_val_score(model, boston.data, boston.target, cv = 5,\n",
    "                            scoring = 'neg_mean_squared_error')\n",
    "    print('alpha 값이 {:}일 때, MSE Mean: {:.3f}'.format(a, np.mean(-1 * scores)))"
   ]
  },
  {
   "cell_type": "markdown",
   "id": "2968d1c2-88f7-4384-829f-9a01cba6bcbf",
   "metadata": {},
   "source": [
    "alpha 값이 커질수록 회귀 계수 값을 작게 만드는 것을 볼 수 있다."
   ]
  },
  {
   "cell_type": "markdown",
   "id": "f61c67d9-a108-4138-a1d4-13e5ff82dc92",
   "metadata": {},
   "source": [
    "---"
   ]
  },
  {
   "cell_type": "markdown",
   "id": "8401800d-be96-48fc-b1bc-386f6306e7c0",
   "metadata": {},
   "source": [
    "## 엘라스틱넷 회귀\n",
    "\n",
    "- L2 규제와 L1 규제를 결합한 회귀\n",
    "- 라쏘 회귀가 서로 상관관계가 높은 피처들의 경우에 이들 중에서 중요 피처만을 선택하고 다른 피처들은 모두 회귀 계수를 0으로 만드는 성향이 강하며, 특히 이러한 특징으로 인해 alpha 값에 따라 회귀 계수의 값이 급격히 변하는 것을 완화함\n",
    "- 주요 생성 파라미터: alpha와 l1_ratio"
   ]
  },
  {
   "cell_type": "markdown",
   "id": "1ce284b7-052f-4ab5-846c-f60b89434abd",
   "metadata": {},
   "source": [
    "### 규제 없이 머신 러닝 성능 파악"
   ]
  },
  {
   "cell_type": "code",
   "execution_count": 42,
   "id": "9687f455-285d-476d-9ee0-3cf23d526b0f",
   "metadata": {},
   "outputs": [
    {
     "name": "stdout",
     "output_type": "stream",
     "text": [
      "NMSE: [-12.46030057 -26.04862111 -33.07413798 -80.76237112 -33.31360656]\n",
      "MSE: [12.46030057 26.04862111 33.07413798 80.76237112 33.31360656]\n",
      "MSE Mean: 37.132\n"
     ]
    }
   ],
   "source": [
    "model = LinearRegression()\n",
    "scores = cross_val_score(model, boston.data, boston.target, cv=5,\n",
    "                        scoring = 'neg_mean_squared_error')\n",
    "print('NMSE: {}'.format(scores))\n",
    "print('MSE: {}'.format(-1 * scores))\n",
    "print('MSE Mean: {:.3f}'.format(np.mean(-1 * scores)))"
   ]
  },
  {
   "cell_type": "markdown",
   "id": "e61cfcaf-bdec-4476-a57c-65caada4237a",
   "metadata": {},
   "source": [
    "### 규제를 가하여 머신 러닝 성능 파악(엘라스틱넷 회귀)"
   ]
  },
  {
   "cell_type": "code",
   "execution_count": 56,
   "id": "b26a4788-5dee-421a-9ddf-6a88b1085c1b",
   "metadata": {},
   "outputs": [
    {
     "name": "stdout",
     "output_type": "stream",
     "text": [
      "NMSE: [-11.67670794 -25.05332614 -30.30410068 -68.92807929 -26.64921508]\n",
      "MSE: [11.67670794 25.05332614 30.30410068 68.92807929 26.64921508]\n",
      "MSE Mean: 32.522\n"
     ]
    }
   ],
   "source": [
    "from sklearn.linear_model import ElasticNet\n",
    "\n",
    "model = ElasticNet(alpha = 0.1, l1_ratio=0.5)\n",
    "scores = cross_val_score(model, boston.data, boston.target, cv = 5,\n",
    "                        scoring = 'neg_mean_squared_error')\n",
    "print('NMSE: {}'.format(scores))\n",
    "print('MSE: {}'.format(-1 * scores))\n",
    "print('MSE Mean: {:.3f}'.format(np.mean(-1 * scores)))"
   ]
  },
  {
   "cell_type": "markdown",
   "id": "92f593b9-af2a-4ca8-9048-d6de174c8cbc",
   "metadata": {},
   "source": [
    "교차 검증 결과 평균 MSE의 값이 32.522로 나왔다. 규제가 없는 것보다 좋은 예측 성능을 보여준다.\n",
    "\n",
    "이번에는 엘라스틱넷 회귀의 alpha 값을 바꾸면서 변화를 파악했다."
   ]
  },
  {
   "cell_type": "code",
   "execution_count": 61,
   "id": "72749f6d-3998-4f3f-986c-6583fcb64de1",
   "metadata": {},
   "outputs": [
    {
     "name": "stdout",
     "output_type": "stream",
     "text": [
      "alpha 값이 0.001이고 l1_ratio 값이 0.1일 때, MSE Mean: 36.002\n",
      "alpha 값이 0.001이고 l1_ratio 값이 0.3일 때, MSE Mean: 36.158\n",
      "alpha 값이 0.001이고 l1_ratio 값이 0.5일 때, MSE Mean: 36.345\n",
      "alpha 값이 0.01이고 l1_ratio 값이 0.1일 때, MSE Mean: 34.360\n",
      "alpha 값이 0.01이고 l1_ratio 값이 0.3일 때, MSE Mean: 34.526\n",
      "alpha 값이 0.01이고 l1_ratio 값이 0.5일 때, MSE Mean: 34.723\n",
      "alpha 값이 0.1이고 l1_ratio 값이 0.1일 때, MSE Mean: 31.351\n",
      "alpha 값이 0.1이고 l1_ratio 값이 0.3일 때, MSE Mean: 31.873\n",
      "alpha 값이 0.1이고 l1_ratio 값이 0.5일 때, MSE Mean: 32.522\n",
      "alpha 값이 1이고 l1_ratio 값이 0.1일 때, MSE Mean: 30.861\n",
      "alpha 값이 1이고 l1_ratio 값이 0.3일 때, MSE Mean: 31.359\n",
      "alpha 값이 1이고 l1_ratio 값이 0.5일 때, MSE Mean: 32.054\n"
     ]
    }
   ],
   "source": [
    "alpha = [ .001, .01, .1, 1]\n",
    "l1_ratio = [.1, .3, .5]\n",
    "\n",
    "for a in alpha:\n",
    "    for l in l1_ratio:\n",
    "        model = ElasticNet(alpha = a, l1_ratio = l)\n",
    "        scores = cross_val_score(model, boston.data, boston.target, cv = 5,\n",
    "                             scoring = 'neg_mean_squared_error')\n",
    "        print('alpha 값이 {:}이고 l1_ratio 값이 {:}일 때, MSE Mean: {:.3f}'.format(a, l, np.mean(-1 * scores)))"
   ]
  },
  {
   "cell_type": "markdown",
   "id": "4ad32668-82f6-4fbb-8cac-f08162daa78b",
   "metadata": {},
   "source": [
    "alpha 값이 1이고 l1_ratio 값이 0.1일 때, MSE의 평균값이 가장 작다."
   ]
  },
  {
   "cell_type": "code",
   "execution_count": null,
   "id": "f9fb6b32-2267-49c3-8480-a971638b0fb3",
   "metadata": {},
   "outputs": [],
   "source": []
  }
 ],
 "metadata": {
  "kernelspec": {
   "display_name": "Python 3",
   "language": "python",
   "name": "python3"
  },
  "language_info": {
   "codemirror_mode": {
    "name": "ipython",
    "version": 3
   },
   "file_extension": ".py",
   "mimetype": "text/x-python",
   "name": "python",
   "nbconvert_exporter": "python",
   "pygments_lexer": "ipython3",
   "version": "3.8.8"
  }
 },
 "nbformat": 4,
 "nbformat_minor": 5
}
