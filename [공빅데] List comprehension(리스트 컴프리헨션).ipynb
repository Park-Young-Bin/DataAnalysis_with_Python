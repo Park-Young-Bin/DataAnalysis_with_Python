{
 "cells": [
  {
   "cell_type": "markdown",
   "id": "6a684e7e-6f12-4318-9619-cdf540d33a28",
   "metadata": {},
   "source": [
    "# [[공빅데]List comprehension(리스트 컴프리헨션)](https://wonhwa.tistory.com/3?category=996516)"
   ]
  },
  {
   "cell_type": "markdown",
   "id": "7c6cf70f-350b-4fe4-b5c5-7af5303dd73e",
   "metadata": {},
   "source": [
    "### List Comprehension이란?\n",
    "\n",
    "**List Comprehension(리스트 컴프리헨션)** 은\n",
    "리스트를 한 줄의 코딩으로 빠르게, 효율적으로 만들 수 있는 파이썬 문법입니다.\n",
    "\n",
    "예를 들어 1~10까지의 정수를 가지는 리스트를 만들어 봅시다.\n",
    "\n",
    "물론 list = [1,2,3,4,5,6,7,8,9,10] 이렇게 표현을 해도 되지만 더 큰 숫자를 쓸 때를 대비하여 \n",
    "\n",
    "아래와 같이 표현해 보도록 하겠습니다."
   ]
  },
  {
   "cell_type": "code",
   "execution_count": 4,
   "id": "e5f0d7d8-806f-4316-a33e-1e6cbe9647d4",
   "metadata": {},
   "outputs": [
    {
     "name": "stdout",
     "output_type": "stream",
     "text": [
      "[0, 0, 0, 0, 0, 0, 0, 0, 0, 0]\n",
      "------------------------------\n"
     ]
    },
    {
     "data": {
      "text/plain": [
       "[1, 2, 3, 4, 5, 6, 7, 8, 9, 10]"
      ]
     },
     "execution_count": 4,
     "metadata": {},
     "output_type": "execute_result"
    }
   ],
   "source": [
    "# 배열의 사이즈를 지정하는 변수 생성\n",
    "arr_num = 10\n",
    "\n",
    "# 변수 arr_num의 개수만큼 배열을 생성하는 리스트 생성\n",
    "arr = [0] * arr_num\n",
    "\n",
    "# 생성된 arr 확인\n",
    "print(arr)\n",
    "print('------------------------------')\n",
    "\n",
    "# 1~10의 배열을 가지는 arr값으로 변환하기\n",
    "for i in range(arr_num):\n",
    "    arr[i] = i + 1\n",
    "arr"
   ]
  },
  {
   "cell_type": "markdown",
   "id": "c343f205-4c04-46d0-b8b2-eb6121060367",
   "metadata": {},
   "source": [
    "이렇게 1~10까지 값을 차례로 가지는 리스트를 만드는 것에도 3줄 이상의 코드가 작성이 됩니다.\n",
    "\n",
    "이때 List comprehension을 사용하면 리스트 만드는 줄의 코드를 1줄로 줄일 수 있습니다.\n",
    "\n",
    "**List comprehension의 기본 규칙: [(변수에 적용할 수식) for (변수) in (for문이 돌아가는 범위)]**"
   ]
  },
  {
   "cell_type": "code",
   "execution_count": 7,
   "id": "d64b2396-97aa-4e6f-846a-0663bf8a160d",
   "metadata": {},
   "outputs": [
    {
     "data": {
      "text/plain": [
       "[1, 2, 3, 4, 5, 6, 7, 8, 9, 10]"
      ]
     },
     "execution_count": 7,
     "metadata": {},
     "output_type": "execute_result"
    }
   ],
   "source": [
    "#배열의 사이즈를 지정하는 변수 arr_num 생성\n",
    "arr_num = 10\n",
    "\n",
    "\"\"\"\n",
    "list comprehension을 사용하여\n",
    "변수 arr_num의 갯수만큼 배열을 생성하는 리스트 생성\n",
    "\"\"\"\n",
    "\n",
    "arr = [i+1 for i in range(arr_num)]\n",
    "arr"
   ]
  },
  {
   "cell_type": "markdown",
   "id": "a56dc2e4-8b4f-4e32-963f-a348855c5faf",
   "metadata": {},
   "source": [
    "### 조건문을 사용하여 arr 만들기\n",
    "\n",
    "List comprehension을 사용할 때 조건문(if)을 추가하여 리스트 생성이 가능합니다.\n",
    "\n",
    "예를 들어 1~30의 범위 안에서 홀수의 배열을 가지는 list를 만들어 봅시다.\n",
    "\n",
    "**조건문 arr : [(변수에 적용할 수식) for (변수) in (for문이 돌아가는 범위) if (조건문)]**"
   ]
  },
  {
   "cell_type": "code",
   "execution_count": 10,
   "id": "59c7878d-482a-4d5a-b247-97039b1a28ce",
   "metadata": {},
   "outputs": [
    {
     "data": {
      "text/plain": [
       "[1, 3, 5, 7, 9, 11, 13, 15, 17, 19, 21, 23, 25, 27, 29]"
      ]
     },
     "execution_count": 10,
     "metadata": {},
     "output_type": "execute_result"
    }
   ],
   "source": [
    "# 1~30 중에 홀수(2로 나눴을 때 나머지가 1인 수) arr만들기\n",
    "arr = [i for i in range(30) if i % 2 == 1]\n",
    "arr"
   ]
  },
  {
   "cell_type": "markdown",
   "id": "92dc97e4-0f37-4a4e-8fdb-6d2752b5c68d",
   "metadata": {},
   "source": [
    "### AND , OR 조건 추가하기\n",
    "마찬가지로 List Comprehension의 AND, OR 조건을 추가하여 List 생성이 가능합니다.\n",
    "\n",
    "**AND 조건: [(변수에 적용할 수식) for (변수) in (for문이 돌아가는 범위) if (조건문) if (조건문)]**\n",
    "\n",
    "**OR 조건: [(변수에 적용할 수식) for (변수) in (for문이 돌아가는 범위) if (조건문) or (조건문)]**\n",
    "\n",
    "예제로 각각 1-30 중 홀수의 배열이고 3의 배수인 배열,\n",
    "1~30 중 3의 배수 또는 2로 나눴을 때 몫이 3인 배열을 생성해봅시다."
   ]
  },
  {
   "cell_type": "code",
   "execution_count": 14,
   "id": "b98f3f0d-6a28-4c0a-8494-5e7678440b04",
   "metadata": {},
   "outputs": [
    {
     "data": {
      "text/plain": [
       "[3, 9, 15, 21, 27]"
      ]
     },
     "execution_count": 14,
     "metadata": {},
     "output_type": "execute_result"
    }
   ],
   "source": [
    "arr = [i for i in range(1, 30) if i%2 == 1 and i%3 == 0]\n",
    "arr"
   ]
  },
  {
   "cell_type": "code",
   "execution_count": 15,
   "id": "1e9ef413-1610-45fb-950a-bd03b10e3b50",
   "metadata": {},
   "outputs": [
    {
     "data": {
      "text/plain": [
       "[3, 6, 9, 12, 15, 18, 21, 24, 27]"
      ]
     },
     "execution_count": 15,
     "metadata": {},
     "output_type": "execute_result"
    }
   ],
   "source": [
    "arr = [i for i in range(1, 30) if i%3 == 0 or i%2 == 3]\n",
    "arr"
   ]
  },
  {
   "cell_type": "markdown",
   "id": "340dca1a-3d81-4a38-808d-2c9b0d96a2a3",
   "metadata": {},
   "source": [
    "### 다차원 매트릭스 리스트 만들기\n",
    "\n",
    "list comnprehension으로 리스트 안의 리스트를 만들 수 있습니다.\n",
    "\n",
    "예시로 1, 2, 3의 값을 한 행으로 갖는 2차원의 매트릭스 행렬 (3x3) 리스트를 만들어 보도록 하겠습니다.\n",
    "\n",
    "**MATRIX : [[(변수에 적용할 수식) for (컬럼 변수) in (for문이 돌아가는 범위)] for (행 변수) in (for문의 범위)]**"
   ]
  },
  {
   "cell_type": "code",
   "execution_count": 20,
   "id": "cd0d5da4-86eb-442f-8e90-a85d4c4d1001",
   "metadata": {},
   "outputs": [
    {
     "data": {
      "text/plain": [
       "[[1, 2, 3], [1, 2, 3], [1, 2, 3]]"
      ]
     },
     "execution_count": 20,
     "metadata": {},
     "output_type": "execute_result"
    }
   ],
   "source": [
    "#3x3 행렬을 가지는 2차원 리스트 만들기\n",
    "matrix = [[i+1 for i in range(3)] for n in range(3)]\n",
    "matrix"
   ]
  },
  {
   "cell_type": "markdown",
   "id": "016200fe-cdf2-4587-8a16-8de579a84ae0",
   "metadata": {},
   "source": [
    "위의 리스트를 다시 1차원 리스트로 바꿀 수도 있습니다."
   ]
  },
  {
   "cell_type": "code",
   "execution_count": 22,
   "id": "8ff03c66-46b8-469a-a6af-c5db65ef63a7",
   "metadata": {},
   "outputs": [
    {
     "data": {
      "text/plain": [
       "[1, 2, 3, 1, 2, 3, 1, 2, 3]"
      ]
     },
     "execution_count": 22,
     "metadata": {},
     "output_type": "execute_result"
    }
   ],
   "source": [
    "# 2차원 행렬(matrix)을 1차원 리스트로 변환하기\n",
    "row = [r for i in matrix for r in i] # 첫번째 for문은 행, 두 번째 for문은 행 안의 열을 다룬다.\n",
    "row"
   ]
  },
  {
   "cell_type": "markdown",
   "id": "64758562-9795-4369-952f-249c3d7ef88c",
   "metadata": {},
   "source": [
    "#### Reference\n",
    "\n",
    "[참고1](https://shoark7.github.io/programming/python/about-list-comprehension-python)  \n",
    "[참고2](https://wikidocs.net/46742)  \n",
    "[참고3](http://pythonstudy.xyz/python/article/22-Python-Comprehension)  \n",
    "[참고4](https://wonhwa.tistory.com/)"
   ]
  }
 ],
 "metadata": {
  "kernelspec": {
   "display_name": "Python 3",
   "language": "python",
   "name": "python3"
  },
  "language_info": {
   "codemirror_mode": {
    "name": "ipython",
    "version": 3
   },
   "file_extension": ".py",
   "mimetype": "text/x-python",
   "name": "python",
   "nbconvert_exporter": "python",
   "pygments_lexer": "ipython3",
   "version": "3.8.8"
  }
 },
 "nbformat": 4,
 "nbformat_minor": 5
}
