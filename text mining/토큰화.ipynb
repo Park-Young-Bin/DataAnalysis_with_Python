{
 "cells": [
  {
   "cell_type": "markdown",
   "id": "985424dd-fbb6-44d9-8399-c5d1c1ac110c",
   "metadata": {},
   "source": [
    "## 토큰화\n",
    "[02-01 토큰화(Tokenization)](https://wikidocs.net/21698)\n",
    "\n",
    "- 토큰화: 주어진 코퍼스(corpus)에서 토큰(token)이라 불리는 단위로 나누는 작업"
   ]
  },
  {
   "cell_type": "markdown",
   "id": "87915ac3-b8e6-49da-8932-97c5e85f8bcb",
   "metadata": {},
   "source": [
    "### 1. 단어 토큰화"
   ]
  },
  {
   "cell_type": "code",
   "execution_count": 2,
   "id": "95c03fb3-a8d2-4542-81ff-8d6bb32c88d3",
   "metadata": {},
   "outputs": [],
   "source": [
    "# 같은 문장에 대해서 다른 토큰화 결과 확인\n",
    "from nltk.tokenize import word_tokenize # 토큰화 도구1\n",
    "from nltk.tokenize import WordPunctTokenizer # 토큰화 도구2\n",
    "from tensorflow.keras.preprocessing.text import text_to_word_sequence # 토큰화 도구2"
   ]
  },
  {
   "cell_type": "code",
   "execution_count": 3,
   "id": "01e2ce3b-0f0d-43ef-a459-4f56955d2561",
   "metadata": {},
   "outputs": [
    {
     "name": "stdout",
     "output_type": "stream",
     "text": [
      "단어 토큰화1 : ['Do', \"n't\", 'be', 'fooled', 'by', 'the', 'dark', 'sounding', 'name', ',', 'Mr.', 'Jone', \"'s\", 'Orphanage', 'is', 'as', 'cheery', 'as', 'cheery', 'goes', 'for', 'a', 'pastry', 'shop', '.']\n"
     ]
    }
   ],
   "source": [
    "print('단어 토큰화1 :',word_tokenize(\"Don't be fooled by the dark sounding name, Mr. Jone's Orphanage is as cheery as cheery goes for a pastry shop.\"))"
   ]
  },
  {
   "cell_type": "code",
   "execution_count": 4,
   "id": "6372f13e-2731-4d8d-9bae-fb69eb157be0",
   "metadata": {},
   "outputs": [
    {
     "name": "stdout",
     "output_type": "stream",
     "text": [
      "단어 토큰화2 : ['Don', \"'\", 't', 'be', 'fooled', 'by', 'the', 'dark', 'sounding', 'name', ',', 'Mr', '.', 'Jone', \"'\", 's', 'Orphanage', 'is', 'as', 'cheery', 'as', 'cheery', 'goes', 'for', 'a', 'pastry', 'shop', '.']\n"
     ]
    }
   ],
   "source": [
    "print('단어 토큰화2 :',WordPunctTokenizer().tokenize(\"Don't be fooled by the dark sounding name, Mr. Jone's Orphanage is as cheery as cheery goes for a pastry shop.\"))"
   ]
  },
  {
   "cell_type": "code",
   "execution_count": 5,
   "id": "ffe4f04b-623b-4283-84e8-f61dd114f75f",
   "metadata": {},
   "outputs": [
    {
     "name": "stdout",
     "output_type": "stream",
     "text": [
      "단어 토큰화3 : [\"don't\", 'be', 'fooled', 'by', 'the', 'dark', 'sounding', 'name', 'mr', \"jone's\", 'orphanage', 'is', 'as', 'cheery', 'as', 'cheery', 'goes', 'for', 'a', 'pastry', 'shop']\n"
     ]
    }
   ],
   "source": [
    "print('단어 토큰화3 :',text_to_word_sequence(\"Don't be fooled by the dark sounding name, Mr. Jone's Orphanage is as cheery as cheery goes for a pastry shop.\"))"
   ]
  },
  {
   "cell_type": "code",
   "execution_count": 8,
   "id": "8c7f6a75-5ab8-4342-adf5-0c4e3b693ca5",
   "metadata": {},
   "outputs": [
    {
     "name": "stdout",
     "output_type": "stream",
     "text": [
      "트리뱅크 워드토크나이저 : ['Starting', 'a', 'home-based', 'restaurant', 'may', 'be', 'an', 'ideal.', 'it', 'does', \"n't\", 'have', 'a', 'food', 'chain', 'or', 'restaurant', 'of', 'their', 'own', '.']\n"
     ]
    }
   ],
   "source": [
    "# 표준 토큰화\n",
    "# 1) 하이푼으로 구성된 단어는 하나로 유지\n",
    "# 2) doesn't와 같이 아포스트로피로 '접어'(We're에서 re를 '접어'라고 함)가 함께하는 단어는 분리\n",
    "from nltk.tokenize import TreebankWordTokenizer\n",
    "\n",
    "tokenizer = TreebankWordTokenizer()\n",
    "\n",
    "text = \"Starting a home-based restaurant may be an ideal. it doesn't have a food chain or restaurant of their own.\"\n",
    "print('트리뱅크 워드토크나이저 :',tokenizer.tokenize(text))"
   ]
  },
  {
   "cell_type": "markdown",
   "id": "0dd6acfa-ee7a-46f3-81ad-03e4f674144c",
   "metadata": {},
   "source": [
    "home-based는 하나의 토큰으로 취급하고 있으며, doesn't은 does와 n't로 분리되었음"
   ]
  },
  {
   "cell_type": "markdown",
   "id": "ee817ee4-2a7d-4579-9350-77d87e390a5e",
   "metadata": {},
   "source": [
    "### 2. 문장 토큰화"
   ]
  },
  {
   "cell_type": "code",
   "execution_count": null,
   "id": "c4925eb2-107f-47ef-b107-a2d2f6a0ae8e",
   "metadata": {},
   "outputs": [],
   "source": []
  }
 ],
 "metadata": {
  "kernelspec": {
   "display_name": "Python 3",
   "language": "python",
   "name": "python3"
  },
  "language_info": {
   "codemirror_mode": {
    "name": "ipython",
    "version": 3
   },
   "file_extension": ".py",
   "mimetype": "text/x-python",
   "name": "python",
   "nbconvert_exporter": "python",
   "pygments_lexer": "ipython3",
   "version": "3.8.8"
  }
 },
 "nbformat": 4,
 "nbformat_minor": 5
}
