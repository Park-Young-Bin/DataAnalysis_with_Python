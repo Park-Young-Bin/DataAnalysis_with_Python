{
 "cells": [
  {
   "cell_type": "markdown",
   "id": "f9715164",
   "metadata": {},
   "source": [
    "## 문서 단어 행렬(DTM)\n",
    "[04-03 문서 단어 행렬(Document-Term Matrix, DTM)](https://wikidocs.net/24559)\n",
    "- 다수의 문서에서 등장하는 각 단어들의 빈도를 행렬로 표현한 것\n",
    "- BoW 표현을 다수의 문서에 대해서 행렬로 표현한 것\n",
    "- 문서들을 서로 비교할 수 있도록 수치화할 수 있음.\n",
    "- 한계점\n",
    "    1. 희소 표현\n",
    "        - 0 값이 더 많이 나타나기 때문에 많은 양의 저장 공간과 높은 계산 복잡도를 요구함.\n",
    "    1. 단순 빈도 수 기반 접근\n",
    "        - 'the'는 어떤 문서이든 자주 등장하는데, 문서1, 문서2, 문서3에서 동일하게 'the'의 빈도가 높다고 해서 이 문서들이 유사한 문서라고 할 수 없음.\n",
    "        - 따라서 DTM에 불용어를 처리하고 중요한 단어에 **가중치**를 부여할 수 있는 TF-IDF 방법을 사용할 수 있음."
   ]
  },
  {
   "cell_type": "markdown",
   "id": "29550ae6",
   "metadata": {},
   "source": [
    "## TF-IDF(Term Frequency-Inverse Document Frequency)\n",
    "[04-04 TF-IDF(Term Frequency-Inverse Document Frequency)](https://wikidocs.net/31698)\n",
    "- DTM 내에 있는 각 단어에 대한 중요도를 계산함.\n",
    "- 문서의 유사도를 구하는 작업, 검색 시스템에서 검색 결과의 중요도를 정하는 작업, 문서 내에서 특정 단어의 중요도를 구하는 작업 등에 쓰임."
   ]
  },
  {
   "cell_type": "markdown",
   "id": "d75bca00",
   "metadata": {},
   "source": [
    "### 사이킷런을 이용한 DTM과 TF-IDF 실습"
   ]
  },
  {
   "cell_type": "code",
   "execution_count": 2,
   "id": "5d212d6e",
   "metadata": {},
   "outputs": [
    {
     "name": "stdout",
     "output_type": "stream",
     "text": [
      "[[0 1 0 1 0 1 0 1 1]\n",
      " [0 0 1 0 0 0 0 1 0]\n",
      " [1 0 0 0 1 0 1 0 0]]\n",
      "{'you': 7, 'know': 1, 'want': 5, 'your': 8, 'love': 3, 'like': 2, 'what': 6, 'should': 4, 'do': 0}\n"
     ]
    }
   ],
   "source": [
    "# DTM 만들기\n",
    "from sklearn.feature_extraction.text import CountVectorizer\n",
    "\n",
    "corpus = [\n",
    "    'you know I want your love',\n",
    "    'I like you',\n",
    "    'what should I do ',    \n",
    "]\n",
    "\n",
    "vector = CountVectorizer()\n",
    "\n",
    "# 코퍼스로부터 각 단어의 빈도수를 기록\n",
    "print(vector.fit_transform(corpus).toarray())\n",
    "\n",
    "# 각 단어와 맵핑된 인덱스 출력\n",
    "print(vector.vocabulary_)"
   ]
  },
  {
   "cell_type": "code",
   "execution_count": 3,
   "id": "50d51207",
   "metadata": {},
   "outputs": [
    {
     "name": "stdout",
     "output_type": "stream",
     "text": [
      "[[0.         0.46735098 0.         0.46735098 0.         0.46735098\n",
      "  0.         0.35543247 0.46735098]\n",
      " [0.         0.         0.79596054 0.         0.         0.\n",
      "  0.         0.60534851 0.        ]\n",
      " [0.57735027 0.         0.         0.         0.57735027 0.\n",
      "  0.57735027 0.         0.        ]]\n",
      "{'you': 7, 'know': 1, 'want': 5, 'your': 8, 'love': 3, 'like': 2, 'what': 6, 'should': 4, 'do': 0}\n"
     ]
    }
   ],
   "source": [
    "# TF-IDF 계산하기\n",
    "from sklearn.feature_extraction.text import TfidfVectorizer\n",
    "\n",
    "corpus = [\n",
    "    'you know I want your love',\n",
    "    'I like you',\n",
    "    'what should I do ',    \n",
    "]\n",
    "\n",
    "tfidfv = TfidfVectorizer()\n",
    "print(tfidfv.fit_transform(corpus).toarray())\n",
    "print(tfidfv.vocabulary_)"
   ]
  },
  {
   "cell_type": "code",
   "execution_count": null,
   "id": "9bcfc6cd",
   "metadata": {},
   "outputs": [],
   "source": []
  }
 ],
 "metadata": {
  "kernelspec": {
   "display_name": "Python 3",
   "language": "python",
   "name": "python3"
  },
  "language_info": {
   "codemirror_mode": {
    "name": "ipython",
    "version": 3
   },
   "file_extension": ".py",
   "mimetype": "text/x-python",
   "name": "python",
   "nbconvert_exporter": "python",
   "pygments_lexer": "ipython3",
   "version": "3.8.8"
  }
 },
 "nbformat": 4,
 "nbformat_minor": 5
}
