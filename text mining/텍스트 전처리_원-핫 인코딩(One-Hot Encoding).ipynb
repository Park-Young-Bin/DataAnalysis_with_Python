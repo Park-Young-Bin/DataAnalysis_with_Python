{
 "cells": [
  {
   "cell_type": "markdown",
   "id": "a9423045-a0aa-47ec-815f-68735bdfed41",
   "metadata": {},
   "source": [
    "## 원-핫 인코딩(One-Hot Encoding)\n",
    "[02-08 원-핫 인코딩(One-Hot Encoding)](https://wikidocs.net/22647)\n",
    "\n",
    "- 문자를 숫자로 표현하는 방법 중 하나\n",
    "- 원-핫 인코딩을 하기 전에 **단어 집합(vocabulary)** 을 만들어야 함.\n",
    "    - ★단어 집합★: 서로 다른 단어들의 집합(단어 중복 허용x)\n",
    "        - 텍스트에 단어가 총 5,000개 있다면 단어 집합의 크기는 5,000임.\n",
    "        - 그 후, 각 단어에 인덱스 번호를 부여할 수 있음."
   ]
  },
  {
   "cell_type": "markdown",
   "id": "a53daa80-33ad-4115-ad68-09100e7b718d",
   "metadata": {},
   "source": [
    "## 1. 원-핫 인코딩이란?\n",
    "- 단어 집합의 크기를 벡터의 차원으로 하고, 표현하고픈 단어의 인덱스에 1 값을 부여함(다른 인덱스에는 0을 부여함).\n",
    "- 원-핫 인코딩 과정\n",
    "    1. 정수 인코딩\n",
    "    2.  표현하고 싶은 단어의 고유한 정수를 인덱스로 간주하고 해당 위치에 1을 부여하고, 다른 단어의 인덱스의 위치에는 0을 부여함."
   ]
  },
  {
   "cell_type": "markdown",
   "id": "638b7ad7-9c55-4976-a3ac-e0779a5a2ab4",
   "metadata": {},
   "source": [
    "## 2. 케라스를 이용한 원-핫 인코딩"
   ]
  },
  {
   "cell_type": "code",
   "execution_count": 1,
   "id": "5a07f28a-8743-488d-a19b-1fe0b8b39c59",
   "metadata": {},
   "outputs": [
    {
     "name": "stdout",
     "output_type": "stream",
     "text": [
      "단어 집합 :  {'갈래': 1, '점심': 2, '햄버거': 3, '나랑': 4, '먹으러': 5, '메뉴는': 6, '최고야': 7}\n"
     ]
    }
   ],
   "source": [
    "from tensorflow.keras.preprocessing.text import Tokenizer\n",
    "from tensorflow.keras.utils import to_categorical\n",
    "\n",
    "text = \"나랑 점심 먹으러 갈래 점심 메뉴는 햄버거 갈래 갈래 햄버거 최고야\"\n",
    "\n",
    "tokenizer = Tokenizer()\n",
    "tokenizer.fit_on_texts([text])\n",
    "print('단어 집합 : ', tokenizer.word_index)"
   ]
  },
  {
   "cell_type": "markdown",
   "id": "5418228c-9767-4683-ad83-1bca220f4cc3",
   "metadata": {},
   "source": [
    "위와 같이 생성된 단어 집합(vocabulary)에 있는 단어들로만 구성된 텍스트가 있다면, texts_to_sequence()를 통해서 이를 정수 시퀀스로 변환 가능함."
   ]
  },
  {
   "cell_type": "code",
   "execution_count": 2,
   "id": "005a3c3a-9e96-4b98-85b7-8f56c771157b",
   "metadata": {},
   "outputs": [
    {
     "name": "stdout",
     "output_type": "stream",
     "text": [
      "[2, 5, 1, 6, 3, 7]\n"
     ]
    }
   ],
   "source": [
    "sub_text = \"점심 먹으러 갈래 메뉴는 햄버거 최고야\"\n",
    "encoded = tokenizer.texts_to_sequences([sub_text])[0]\n",
    "print(encoded)"
   ]
  },
  {
   "cell_type": "code",
   "execution_count": 7,
   "id": "fcedcb24-1b1e-49fd-9866-a035d4bb7e43",
   "metadata": {},
   "outputs": [
    {
     "name": "stdout",
     "output_type": "stream",
     "text": [
      "[[0. 0. 1. 0. 0. 0. 0. 0.]\n",
      " [0. 0. 0. 0. 0. 1. 0. 0.]\n",
      " [0. 1. 0. 0. 0. 0. 0. 0.]\n",
      " [0. 0. 0. 0. 0. 0. 1. 0.]\n",
      " [0. 0. 0. 1. 0. 0. 0. 0.]\n",
      " [0. 0. 0. 0. 0. 0. 0. 1.]]\n"
     ]
    }
   ],
   "source": [
    "# 원-핫 인코딩 진행\n",
    "one_hot = to_categorical(encoded)\n",
    "print(one_hot)"
   ]
  },
  {
   "cell_type": "markdown",
   "id": "84e29254-0707-40c9-aefc-6c77373ade41",
   "metadata": {},
   "source": [
    "## 3. 원-핫 인코딩의 한계\n",
    "- 단어 개수가 늘어날수록 벡터를 저장하기 위한 공간이 계속 늘어남.\n",
    "    - 단어가 1,000개인 corpus로 원-핫 벡터를 만들면 모든 단어가 각각 1,000개의 차원을 갖는 벡터가 됨.\n",
    "- 단어 간 유사도 파악 불가\n",
    "- 이같은 단점 해결을 위해 카운트 기반 벡터화 방법, 예측 기반 벡터화, GolVe 방법이 존재함."
   ]
  },
  {
   "cell_type": "code",
   "execution_count": null,
   "id": "8744aa2b-e39b-4215-805d-4eae93f2e19c",
   "metadata": {},
   "outputs": [],
   "source": []
  }
 ],
 "metadata": {
  "kernelspec": {
   "display_name": "Python 3",
   "language": "python",
   "name": "python3"
  },
  "language_info": {
   "codemirror_mode": {
    "name": "ipython",
    "version": 3
   },
   "file_extension": ".py",
   "mimetype": "text/x-python",
   "name": "python",
   "nbconvert_exporter": "python",
   "pygments_lexer": "ipython3",
   "version": "3.8.8"
  }
 },
 "nbformat": 4,
 "nbformat_minor": 5
}
