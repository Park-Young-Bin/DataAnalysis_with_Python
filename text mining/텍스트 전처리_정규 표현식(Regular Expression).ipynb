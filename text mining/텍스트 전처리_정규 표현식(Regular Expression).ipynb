{
 "cells": [
  {
   "cell_type": "markdown",
   "id": "3761dcde-6c6f-4a35-bf0a-da935349b27e",
   "metadata": {},
   "source": [
    "## 텍스트 전처리_정규 표현식(Regular Expression)\n",
    "[02-05 정규 표현식(Regular Expression)](https://wikidocs.net/21703)\n",
    "\n",
    "- 불용어: 실제 의미 분석을 하는데 거의 기여하는 바가 없는 단어"
   ]
  },
  {
   "cell_type": "code",
   "execution_count": 1,
   "id": "5af21b91-e8ff-4b7b-8809-3eaf49933a8e",
   "metadata": {},
   "outputs": [],
   "source": [
    "import re"
   ]
  },
  {
   "cell_type": "markdown",
   "id": "6995beae-ab42-4826-baa5-0ce4b5d6cd87",
   "metadata": {},
   "source": [
    "## 1. 정규 표현식 실습\n",
    "### 1) . 기호\n",
    "- . 은 한 개의 임의의 문자를 나타냄."
   ]
  },
  {
   "cell_type": "code",
   "execution_count": 2,
   "id": "a3a53232-6007-41b5-b7ea-35562ae95031",
   "metadata": {},
   "outputs": [],
   "source": [
    "r = re.compile(\"a.c\") # a와 c 사이에 어떤 1개의 문자라도 올 수 있음\n",
    "r.search(\"kkk\") # 아무런 결과x"
   ]
  },
  {
   "cell_type": "code",
   "execution_count": 5,
   "id": "35fe357c-b59e-446f-943d-ddff679fb1ad",
   "metadata": {},
   "outputs": [
    {
     "data": {
      "text/plain": [
       "<re.Match object; span=(0, 3), match='abc'>"
      ]
     },
     "execution_count": 5,
     "metadata": {},
     "output_type": "execute_result"
    }
   ],
   "source": [
    "r.search(\"abc\")"
   ]
  },
  {
   "cell_type": "markdown",
   "id": "7056874c-68cd-4708-a090-8ee626a451ba",
   "metadata": {},
   "source": [
    "### 2) ? 기호\n",
    "- ? 는 ?앞의 문자가 존재할 수 있고, 없을 수 있음."
   ]
  },
  {
   "cell_type": "code",
   "execution_count": 8,
   "id": "377b129f-a303-4b93-bd5c-a3363c8649ea",
   "metadata": {},
   "outputs": [],
   "source": [
    "r = re.compile(\"ab?c\") # abc와 ac 모두 매치 가능함.\n",
    "r.search(\"abbc\") # 아무런 결과x"
   ]
  },
  {
   "cell_type": "code",
   "execution_count": 9,
   "id": "c86893ec-a302-4ab8-8ec2-caeaa9c35a92",
   "metadata": {},
   "outputs": [
    {
     "data": {
      "text/plain": [
       "<re.Match object; span=(0, 3), match='abc'>"
      ]
     },
     "execution_count": 9,
     "metadata": {},
     "output_type": "execute_result"
    }
   ],
   "source": [
    "r.search(\"abc\") # b가 있는 것으로 판단하여 abc를 매치함."
   ]
  },
  {
   "cell_type": "code",
   "execution_count": 10,
   "id": "20213d37-cff9-48b5-ba81-352d5719db81",
   "metadata": {},
   "outputs": [
    {
     "data": {
      "text/plain": [
       "<re.Match object; span=(0, 2), match='ac'>"
      ]
     },
     "execution_count": 10,
     "metadata": {},
     "output_type": "execute_result"
    }
   ],
   "source": [
    "r.search(\"ac\") # b가 없는 것으로 판단하여 ac를 매치함."
   ]
  },
  {
   "cell_type": "markdown",
   "id": "e86cd657-d302-485e-8735-62f3884aee7b",
   "metadata": {},
   "source": [
    "### 3) * 기호\n",
    "- 바로 앞의 문자가 0개 이상일 경우를 나타냄"
   ]
  },
  {
   "cell_type": "code",
   "execution_count": 11,
   "id": "300220f9-290e-4acd-a4b1-93cea51e5528",
   "metadata": {},
   "outputs": [],
   "source": [
    "r = re.compile(\"ab*c\") # ac, abc, abbc, abbbbc 등 모두 매치 가능함.\n",
    "r.search(\"a\") # 아무런 결과x"
   ]
  },
  {
   "cell_type": "code",
   "execution_count": 12,
   "id": "c97ec561-4909-4b1e-a003-31603aa25c12",
   "metadata": {},
   "outputs": [
    {
     "data": {
      "text/plain": [
       "<re.Match object; span=(0, 2), match='ac'>"
      ]
     },
     "execution_count": 12,
     "metadata": {},
     "output_type": "execute_result"
    }
   ],
   "source": [
    "r.search(\"ac\")"
   ]
  },
  {
   "cell_type": "code",
   "execution_count": 13,
   "id": "9c5ffd19-fa4b-4527-9b23-771210d04761",
   "metadata": {},
   "outputs": [
    {
     "data": {
      "text/plain": [
       "<re.Match object; span=(0, 3), match='abc'>"
      ]
     },
     "execution_count": 13,
     "metadata": {},
     "output_type": "execute_result"
    }
   ],
   "source": [
    "r.search(\"abc\") "
   ]
  },
  {
   "cell_type": "code",
   "execution_count": 14,
   "id": "539acb57-58e8-4abc-bb11-e2cbde61e114",
   "metadata": {},
   "outputs": [
    {
     "data": {
      "text/plain": [
       "<re.Match object; span=(0, 6), match='abbbbc'>"
      ]
     },
     "execution_count": 14,
     "metadata": {},
     "output_type": "execute_result"
    }
   ],
   "source": [
    "r.search(\"abbbbc\") "
   ]
  },
  {
   "cell_type": "markdown",
   "id": "c428b846-7e95-40b5-bb68-4d07b5e8b1d5",
   "metadata": {},
   "source": [
    "### 4) + 기호\n",
    "- 바로 앞의 문자가 최소 1개 이상일 경우를 나타냄"
   ]
  },
  {
   "cell_type": "code",
   "execution_count": 15,
   "id": "617b6c23-ebcc-47c1-bab2-541164bbf191",
   "metadata": {},
   "outputs": [],
   "source": [
    "r = re.compile(\"ab+c\")\n",
    "r.search(\"ac\") # 아무런 결과x"
   ]
  },
  {
   "cell_type": "code",
   "execution_count": 16,
   "id": "7ca0d2db-e5fa-49b8-84db-131fe14930bb",
   "metadata": {},
   "outputs": [
    {
     "data": {
      "text/plain": [
       "<re.Match object; span=(0, 3), match='abc'>"
      ]
     },
     "execution_count": 16,
     "metadata": {},
     "output_type": "execute_result"
    }
   ],
   "source": [
    "r.search(\"abc\")"
   ]
  },
  {
   "cell_type": "code",
   "execution_count": 18,
   "id": "152f3115-8662-40d8-86a7-fe19a94bc14c",
   "metadata": {},
   "outputs": [
    {
     "data": {
      "text/plain": [
       "<re.Match object; span=(0, 6), match='abbbbc'>"
      ]
     },
     "execution_count": 18,
     "metadata": {},
     "output_type": "execute_result"
    }
   ],
   "source": [
    "r.search(\"abbbbc\") "
   ]
  },
  {
   "cell_type": "markdown",
   "id": "44b05019-177f-417f-afc9-cbdf7247c8b2",
   "metadata": {},
   "source": [
    "### 5) ^ 기호\n",
    "- 시작되는 문자열을 지정함."
   ]
  },
  {
   "cell_type": "code",
   "execution_count": 19,
   "id": "14e6adee-7ead-4e31-b1dc-5ce6b4e57cd4",
   "metadata": {},
   "outputs": [],
   "source": [
    "r = re.compile(\"^ab\")\n",
    "\n",
    "# 아무런 결과x\n",
    "r.search(\"bbc\")\n",
    "r.search(\"zab\")"
   ]
  },
  {
   "cell_type": "code",
   "execution_count": 20,
   "id": "e2b00164-b6e4-40bf-a557-09b9a92400d5",
   "metadata": {},
   "outputs": [
    {
     "data": {
      "text/plain": [
       "<re.Match object; span=(0, 2), match='ab'>"
      ]
     },
     "execution_count": 20,
     "metadata": {},
     "output_type": "execute_result"
    }
   ],
   "source": [
    "r.search(\"abz\")"
   ]
  },
  {
   "cell_type": "markdown",
   "id": "8b82674e-277a-4cb6-9b7b-399ca436c8fd",
   "metadata": {},
   "source": [
    "### 6) {숫자} 기호\n",
    "- 해당 문자를 숫자만큼 반복한 것을 나타냄."
   ]
  },
  {
   "cell_type": "code",
   "execution_count": 21,
   "id": "c11aa7d3-a90d-4460-8891-e8df0ae34abe",
   "metadata": {},
   "outputs": [],
   "source": [
    "r = re.compile(\"ab{2}c\") # a, c 사이에 b가 2개인 문자열에 대해서만 매치함.\n",
    "\n",
    "# 아무런 결과x\n",
    "r.search(\"ac\")\n",
    "r.search(\"abc\")\n",
    "r.search(\"abbbbbbc\")"
   ]
  },
  {
   "cell_type": "code",
   "execution_count": 22,
   "id": "eeab1306-14c9-409a-9627-4a5ffe00c06d",
   "metadata": {},
   "outputs": [
    {
     "data": {
      "text/plain": [
       "<re.Match object; span=(0, 4), match='abbc'>"
      ]
     },
     "execution_count": 22,
     "metadata": {},
     "output_type": "execute_result"
    }
   ],
   "source": [
    "r.search(\"abbc\")"
   ]
  },
  {
   "cell_type": "markdown",
   "id": "75d2b6d2-c312-4337-a8dc-62f939962492",
   "metadata": {},
   "source": [
    "### 7) {숫자1, 숫자2} 기호\n",
    "- 해당 문자를 숫자1 이상 숫자2 이하만틈 반복함."
   ]
  },
  {
   "cell_type": "code",
   "execution_count": 23,
   "id": "a629ea2c-87fd-4802-8765-e5dd3decb95f",
   "metadata": {},
   "outputs": [],
   "source": [
    "r = re.compile(\"ab{2,8}c\")\n",
    "\n",
    "# 아무런 결과x\n",
    "r.search(\"ac\")\n",
    "r.search(\"abc\")\n",
    "r.search(\"abbbbbbbbbc\")"
   ]
  },
  {
   "cell_type": "code",
   "execution_count": 24,
   "id": "6ae2e0c0-b753-4793-ac5e-7c8a8a5bb252",
   "metadata": {},
   "outputs": [
    {
     "data": {
      "text/plain": [
       "<re.Match object; span=(0, 4), match='abbc'>"
      ]
     },
     "execution_count": 24,
     "metadata": {},
     "output_type": "execute_result"
    }
   ],
   "source": [
    "r.search(\"abbc\")"
   ]
  },
  {
   "cell_type": "code",
   "execution_count": 25,
   "id": "5a54aaa0-6895-4d86-a97b-ccb6014eb61f",
   "metadata": {},
   "outputs": [
    {
     "data": {
      "text/plain": [
       "<re.Match object; span=(0, 10), match='abbbbbbbbc'>"
      ]
     },
     "execution_count": 25,
     "metadata": {},
     "output_type": "execute_result"
    }
   ],
   "source": [
    "r.search(\"abbbbbbbbc\")"
   ]
  },
  {
   "cell_type": "markdown",
   "id": "86e8c104-12d3-43f8-b57b-dd99039a754f",
   "metadata": {},
   "source": [
    "### 8) {숫자,} 기호\n",
    "- 문자에 해당 기호를 붙이면 해당 문자를 숫자 이상 만큼 반복함."
   ]
  },
  {
   "cell_type": "code",
   "execution_count": 27,
   "id": "cfc40523-006e-4679-9b1d-7aee002790d3",
   "metadata": {},
   "outputs": [],
   "source": [
    "r = re.compile(\"a{2,}bc\")\n",
    "\n",
    "# 아무런 결과x\n",
    "r.search(\"bc\")\n",
    "r.search(\"aa\")"
   ]
  },
  {
   "cell_type": "code",
   "execution_count": 28,
   "id": "a58bf8fc-e5d3-4886-b1c9-1cec2a5fa284",
   "metadata": {},
   "outputs": [
    {
     "data": {
      "text/plain": [
       "<re.Match object; span=(0, 4), match='aabc'>"
      ]
     },
     "execution_count": 28,
     "metadata": {},
     "output_type": "execute_result"
    }
   ],
   "source": [
    "r.search('aabc')"
   ]
  },
  {
   "cell_type": "code",
   "execution_count": 29,
   "id": "6eec82d5-7b3c-4b11-a93f-7c0e7c63fdb8",
   "metadata": {},
   "outputs": [
    {
     "data": {
      "text/plain": [
       "<re.Match object; span=(0, 10), match='aaaaaaaabc'>"
      ]
     },
     "execution_count": 29,
     "metadata": {},
     "output_type": "execute_result"
    }
   ],
   "source": [
    "r.search(\"aaaaaaaabc\")"
   ]
  },
  {
   "cell_type": "markdown",
   "id": "8cfd9bee-a176-47f8-ab2e-bf65c56466fe",
   "metadata": {},
   "source": [
    "### 9) [] 기호\n",
    "- [] 안에 문자를 넣으면 그 문자들 중 한 개의 문자와 매치함.\n",
    "- 범위 지정도 가능함\n",
    "    - [a-zA-Z]: 알파벳 전부\n",
    "    - [0-9]: 숫자 전부"
   ]
  },
  {
   "cell_type": "code",
   "execution_count": 30,
   "id": "1b86a789-36cb-4ee5-a0ab-56ecd3574813",
   "metadata": {},
   "outputs": [],
   "source": [
    "r = re.compile(\"[abc]\") # [abc]는 [a-c]와 같음\n",
    "r.search(\"zzz\") # 아무런 결과x"
   ]
  },
  {
   "cell_type": "code",
   "execution_count": 31,
   "id": "3e95185a-1933-4099-adc2-fdd3e78c562f",
   "metadata": {},
   "outputs": [
    {
     "data": {
      "text/plain": [
       "<re.Match object; span=(0, 1), match='a'>"
      ]
     },
     "execution_count": 31,
     "metadata": {},
     "output_type": "execute_result"
    }
   ],
   "source": [
    "r.search(\"aaaaaaa\")"
   ]
  },
  {
   "cell_type": "code",
   "execution_count": 32,
   "id": "bd6b08b2-b8c3-4447-8d4d-0f027f70b900",
   "metadata": {},
   "outputs": [
    {
     "data": {
      "text/plain": [
       "<re.Match object; span=(0, 1), match='b'>"
      ]
     },
     "execution_count": 32,
     "metadata": {},
     "output_type": "execute_result"
    }
   ],
   "source": [
    "r.search(\"baac\")"
   ]
  },
  {
   "cell_type": "code",
   "execution_count": 33,
   "id": "a7e3cbc6-036c-42ba-b1bd-e471e69b5f7f",
   "metadata": {},
   "outputs": [],
   "source": [
    "r = re.compile(\"[a-z]\") # 소문자에 대한 범위 지정\n",
    "\n",
    "# 아무런 결과x\n",
    "r.search(\"AAA\")\n",
    "r.search(\"111\")"
   ]
  },
  {
   "cell_type": "code",
   "execution_count": 34,
   "id": "03ae3347-25c6-45b6-9192-761bfbc8ce59",
   "metadata": {},
   "outputs": [
    {
     "data": {
      "text/plain": [
       "<re.Match object; span=(0, 1), match='a'>"
      ]
     },
     "execution_count": 34,
     "metadata": {},
     "output_type": "execute_result"
    }
   ],
   "source": [
    "r.search(\"aBC\")"
   ]
  },
  {
   "cell_type": "markdown",
   "id": "9b34f68b-3966-43fd-b6d3-06a07da7d7e2",
   "metadata": {},
   "source": [
    "### 10) [^문자] 기호\n",
    "- ^ 기호 뒤에 붙은 문자들을 제외한 모든 문자를 매치함."
   ]
  },
  {
   "cell_type": "code",
   "execution_count": 35,
   "id": "e26ac6a1-2bc3-4a1d-adb7-37a0e818ebd8",
   "metadata": {},
   "outputs": [],
   "source": [
    "r = re.compile(\"[^abc]\") # a 또는 b 또는 c가 들어간 문자열을 제외한 모든 문자열을 매치함.\n",
    "\n",
    "# 아무런 결과x\n",
    "r.search(\"a\")\n",
    "r.search(\"ab\") \n",
    "r.search(\"b\")"
   ]
  },
  {
   "cell_type": "code",
   "execution_count": 36,
   "id": "a8a8c4ed-13aa-4ad5-b743-2e410c327f4c",
   "metadata": {},
   "outputs": [
    {
     "data": {
      "text/plain": [
       "<re.Match object; span=(0, 1), match='d'>"
      ]
     },
     "execution_count": 36,
     "metadata": {},
     "output_type": "execute_result"
    }
   ],
   "source": [
    "r.search(\"d\")"
   ]
  },
  {
   "cell_type": "code",
   "execution_count": 37,
   "id": "f33268ec-c497-477d-b194-943eb82c424a",
   "metadata": {},
   "outputs": [
    {
     "data": {
      "text/plain": [
       "<re.Match object; span=(0, 1), match='1'>"
      ]
     },
     "execution_count": 37,
     "metadata": {},
     "output_type": "execute_result"
    }
   ],
   "source": [
    "r.search(\"1\")"
   ]
  },
  {
   "cell_type": "markdown",
   "id": "6a6320a5-acab-4704-b679-8e3a5eca7b27",
   "metadata": {},
   "source": [
    "## 2. 정규 표현식 모듈 함수 예제"
   ]
  },
  {
   "cell_type": "markdown",
   "id": "7ea29a13-6707-4409-83ca-5ece6a535ee2",
   "metadata": {},
   "source": [
    "### 1) re.macth()와 re.search() 차이\n",
    "- search(): 정규 표현식 전체에 대해서 문자열이 매치하는지 확인\n",
    "- match(): 문자열의 첫 부분부터 정규표현식과 매치하는지 확인\n",
    "    - 문자열 중간에 찾을 패턴이 있더라도 match 함수는 문자열의 시작에서 패턴이 일치하지 않으면 찾지 않음."
   ]
  },
  {
   "cell_type": "code",
   "execution_count": 38,
   "id": "964a861c-5aca-49b1-8ef4-f7bec5ece6e0",
   "metadata": {},
   "outputs": [],
   "source": [
    "r = re.compile(\"ab.\")\n",
    "r.match(\"kkkabc\") # 아무런 결과x"
   ]
  },
  {
   "cell_type": "code",
   "execution_count": 40,
   "id": "921f8ca3-89a9-4c0a-b346-84a2a3af7bc3",
   "metadata": {},
   "outputs": [
    {
     "data": {
      "text/plain": [
       "<re.Match object; span=(3, 6), match='abc'>"
      ]
     },
     "execution_count": 40,
     "metadata": {},
     "output_type": "execute_result"
    }
   ],
   "source": [
    "r.search(\"kkkabc\")"
   ]
  },
  {
   "cell_type": "code",
   "execution_count": 39,
   "id": "ba2fa657-5f81-4687-9a18-b0ef0c02831c",
   "metadata": {},
   "outputs": [
    {
     "data": {
      "text/plain": [
       "<re.Match object; span=(0, 3), match='abc'>"
      ]
     },
     "execution_count": 39,
     "metadata": {},
     "output_type": "execute_result"
    }
   ],
   "source": [
    "r.match(\"abckkk\")"
   ]
  },
  {
   "cell_type": "markdown",
   "id": "6ad0b793-1adf-4359-9bbd-19270b57dc5a",
   "metadata": {},
   "source": [
    "### 2) re.split()\n",
    "- 입력된 정규 표현식을 기준으로 문자열들을 분리하여 리스트로 return함.\n",
    "- 토큰화에 유용하게 쓰임."
   ]
  },
  {
   "cell_type": "code",
   "execution_count": 41,
   "id": "e2002031-86cf-4781-939d-90e786fc851e",
   "metadata": {},
   "outputs": [
    {
     "data": {
      "text/plain": [
       "['사과', '딸기', '수박', '메론', '바나나']"
      ]
     },
     "execution_count": 41,
     "metadata": {},
     "output_type": "execute_result"
    }
   ],
   "source": [
    "# 공백 기준 분리\n",
    "text = \"사과 딸기 수박 메론 바나나\"\n",
    "re.split(\" \", text)"
   ]
  },
  {
   "cell_type": "code",
   "execution_count": 42,
   "id": "f5f594a9-4504-44a8-b028-1bdb5ac1954b",
   "metadata": {},
   "outputs": [
    {
     "data": {
      "text/plain": [
       "['사과', '딸기', '수박', '메론', '바나나']"
      ]
     },
     "execution_count": 42,
     "metadata": {},
     "output_type": "execute_result"
    }
   ],
   "source": [
    "# 줄바꿈 기준 분리\n",
    "text = \"\"\"사과\n",
    "딸기\n",
    "수박\n",
    "메론\n",
    "바나나\"\"\"\n",
    "\n",
    "re.split(\"\\n\", text)"
   ]
  },
  {
   "cell_type": "code",
   "execution_count": 43,
   "id": "7359fd85-8393-4f72-a26f-a18cceb3c711",
   "metadata": {},
   "outputs": [
    {
     "data": {
      "text/plain": [
       "['사과', '딸기', '수박', '메론', '바나나']"
      ]
     },
     "execution_count": 43,
     "metadata": {},
     "output_type": "execute_result"
    }
   ],
   "source": [
    "# '+'를 기준으로 분리\n",
    "text = \"사과+딸기+수박+메론+바나나\"\n",
    "\n",
    "re.split(\"\\+\", text)"
   ]
  },
  {
   "cell_type": "markdown",
   "id": "24a365a6-f6e5-400a-885f-cd0f61749afd",
   "metadata": {},
   "source": [
    "### 3) re.findall()\n",
    "- 정규 표현식과 매치되는 모든 문자열들을 리스트로 return함.\n",
    "- 매치되는 문자열이 없으면 빈 리스트를 반환함."
   ]
  },
  {
   "cell_type": "code",
   "execution_count": 45,
   "id": "e2f72ca2-918d-46a1-a017-aebfc5462f69",
   "metadata": {},
   "outputs": [
    {
     "data": {
      "text/plain": [
       "['010', '1234', '1234', '30']"
      ]
     },
     "execution_count": 45,
     "metadata": {},
     "output_type": "execute_result"
    }
   ],
   "source": [
    "text = \"\"\"이름 : 김철수\n",
    "전화번호 : 010 - 1234 - 1234\n",
    "나이 : 30\n",
    "성별 : 남\"\"\"\n",
    "\n",
    "re.findall(\"\\d+\", text)"
   ]
  },
  {
   "cell_type": "code",
   "execution_count": 46,
   "id": "190cb82c-956c-413a-9322-00251d246743",
   "metadata": {},
   "outputs": [
    {
     "data": {
      "text/plain": [
       "[]"
      ]
     },
     "execution_count": 46,
     "metadata": {},
     "output_type": "execute_result"
    }
   ],
   "source": [
    "re.findall(\"\\d+\", \"문자열입니다.\")"
   ]
  },
  {
   "cell_type": "markdown",
   "id": "cbf29c87-3bbe-4321-8b2e-16b4bde1d936",
   "metadata": {},
   "source": [
    "### 4) re.sub()\n",
    "- 정규 표현식 패턴과 일치하는 문자열을 다른 문자열로 대체\n",
    "- 예를 들어, 특수 문자를 제거하기 위해 알파벳 외의 문자는 공백으로 처리하는 등의 용도로 사용 가능"
   ]
  },
  {
   "cell_type": "code",
   "execution_count": 50,
   "id": "4eda0800-48ca-4ee8-a003-e2b0c2c4f9bf",
   "metadata": {},
   "outputs": [
    {
     "name": "stdout",
     "output_type": "stream",
     "text": [
      "Regular expression   A regular expression  regex or regexp     sometimes called a rational expression        is  in theoretical computer science and formal language theory  a sequence of characters that define a search pattern \n"
     ]
    }
   ],
   "source": [
    "text = \"Regular expression : A regular expression, regex or regexp[1] (sometimes called a rational expression)[2][3] is, in theoretical computer science and formal language theory, a sequence of characters that define a search pattern.\"\n",
    "\n",
    "preprocessed_text = re.sub('[^a-zA-Z]', ' ', text)\n",
    "print(preprocessed_text)"
   ]
  },
  {
   "cell_type": "markdown",
   "id": "c0dc5f81-a281-4e37-8436-d16ceae2564e",
   "metadata": {},
   "source": [
    "## 4. 정규 표현식 텍스트 전처리 예제"
   ]
  },
  {
   "cell_type": "code",
   "execution_count": 57,
   "id": "af4ff633-6c3f-497f-b915-430cc06e5ebb",
   "metadata": {},
   "outputs": [],
   "source": [
    "text = \"\"\"100 John    PROF\n",
    "101 James   STUD\n",
    "102 Mac   STUD\"\"\""
   ]
  },
  {
   "cell_type": "code",
   "execution_count": 58,
   "id": "ced43ffb-72b1-47a2-bcc8-289250d875c9",
   "metadata": {},
   "outputs": [
    {
     "data": {
      "text/plain": [
       "['100', 'John', 'PROF', '101', 'James', 'STUD', '102', 'Mac', 'STUD']"
      ]
     },
     "execution_count": 58,
     "metadata": {},
     "output_type": "execute_result"
    }
   ],
   "source": [
    "re.split('\\s+', text) # 최소 1개 이상의 공백인 패턴을 찾음."
   ]
  },
  {
   "cell_type": "code",
   "execution_count": 59,
   "id": "576832c5-052a-4c32-94fe-ed0f1bcc243c",
   "metadata": {},
   "outputs": [
    {
     "data": {
      "text/plain": [
       "['100', '101', '102']"
      ]
     },
     "execution_count": 59,
     "metadata": {},
     "output_type": "execute_result"
    }
   ],
   "source": [
    "re.findall('\\d+',text) # 최소 1개 이상의 숫자에 해당하는 값을 찾음."
   ]
  },
  {
   "cell_type": "code",
   "execution_count": 60,
   "id": "0f2895a1-82bf-4392-8e91-53de0dd7e6a7",
   "metadata": {},
   "outputs": [
    {
     "data": {
      "text/plain": [
       "['J', 'P', 'R', 'O', 'F', 'J', 'S', 'T', 'U', 'D', 'M', 'S', 'T', 'U', 'D']"
      ]
     },
     "execution_count": 60,
     "metadata": {},
     "output_type": "execute_result"
    }
   ],
   "source": [
    "re.findall('[A-Z]',text) # 대문자만 매칭, 하지만 정규 표현식에서는 문자열을 가져오지 않고 모든 대문자를 각각 가져옴."
   ]
  },
  {
   "cell_type": "code",
   "execution_count": 61,
   "id": "82c4bf77-3496-4f43-9a62-c40b3d0f42ad",
   "metadata": {},
   "outputs": [
    {
     "data": {
      "text/plain": [
       "['PROF', 'STUD', 'STUD']"
      ]
     },
     "execution_count": 61,
     "metadata": {},
     "output_type": "execute_result"
    }
   ],
   "source": [
    "re.findall('[A-Z]{4}',text) # 대문자가 연속 4번 등장하는 경우"
   ]
  },
  {
   "cell_type": "code",
   "execution_count": 62,
   "id": "0b6811b4-3bd9-4538-97c6-e85f0d4c499f",
   "metadata": {},
   "outputs": [
    {
     "data": {
      "text/plain": [
       "['John', 'James', 'Mac']"
      ]
     },
     "execution_count": 62,
     "metadata": {},
     "output_type": "execute_result"
    }
   ],
   "source": [
    "re.findall('[A-Z][a-z]+',text) # 처음 대문자 등장, 그 후에 최소 1개 이상의 소문자 등장"
   ]
  },
  {
   "cell_type": "markdown",
   "id": "5186daad-c37d-4576-8ec4-23318d6a68c6",
   "metadata": {},
   "source": [
    "## 5. 정규 표현식을 이용한 토큰화\n",
    "- NLTK에서 정규 표현식을 사용해서 단어 토큰화를 수행하는 RegexpTokenizer를 지원함.\n",
    "- 괄호 안에 하나의 토큰으로 규정하고 싶은 정규 표현식을 넣음."
   ]
  },
  {
   "cell_type": "code",
   "execution_count": 64,
   "id": "bd5bc549-eee2-4a51-8155-1d1e444b5a9a",
   "metadata": {},
   "outputs": [
    {
     "name": "stdout",
     "output_type": "stream",
     "text": [
      "['Don', 't', 'be', 'fooled', 'by', 'the', 'dark', 'sounding', 'name', 'Mr', 'Jone', 's', 'Orphanage', 'is', 'as', 'cheery', 'as', 'cheery', 'goes', 'for', 'a', 'pastry', 'shop']\n",
      "[\"Don't\", 'be', 'fooled', 'by', 'the', 'dark', 'sounding', 'name,', 'Mr.', \"Jone's\", 'Orphanage', 'is', 'as', 'cheery', 'as', 'cheery', 'goes', 'for', 'a', 'pastry', 'shop']\n"
     ]
    }
   ],
   "source": [
    "from nltk.tokenize import RegexpTokenizer\n",
    "\n",
    "text = \"Don't be fooled by the dark sounding name, Mr. Jone's Orphanage is as cheery as cheery goes for a pastry shop\"\n",
    "\n",
    "tokenizer1 = RegexpTokenizer(\"[\\w]+\") # 문자 또는 숫자가 1개 이상인 경우\n",
    "tokenizer2 = RegexpTokenizer(\"\\s+\", gaps = True) # 최소 1개 이상의 공백인 패턴을 찾음.\n",
    "\n",
    "print(tokenizer1.tokenize(text))\n",
    "print(tokenizer2.tokenize(text))"
   ]
  },
  {
   "cell_type": "code",
   "execution_count": null,
   "id": "9bc5b3e9-c1a3-4d17-88a4-9c61eb04d91b",
   "metadata": {},
   "outputs": [],
   "source": []
  }
 ],
 "metadata": {
  "kernelspec": {
   "display_name": "Python 3",
   "language": "python",
   "name": "python3"
  },
  "language_info": {
   "codemirror_mode": {
    "name": "ipython",
    "version": 3
   },
   "file_extension": ".py",
   "mimetype": "text/x-python",
   "name": "python",
   "nbconvert_exporter": "python",
   "pygments_lexer": "ipython3",
   "version": "3.8.8"
  }
 },
 "nbformat": 4,
 "nbformat_minor": 5
}
