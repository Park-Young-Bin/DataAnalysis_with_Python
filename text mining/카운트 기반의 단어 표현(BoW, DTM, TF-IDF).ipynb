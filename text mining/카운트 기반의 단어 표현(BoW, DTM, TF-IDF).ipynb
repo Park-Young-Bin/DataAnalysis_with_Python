{
 "cells": [
  {
   "cell_type": "markdown",
   "id": "3b0f1f78-47f1-410e-96f6-a95d43296c95",
   "metadata": {},
   "source": [
    "# [Bag of Words](https://wikidocs.net/22650)"
   ]
  },
  {
   "cell_type": "markdown",
   "id": "958263fc-103b-4a0c-af1b-b673b63bf863",
   "metadata": {},
   "source": [
    "Bag of Words란 단어들의 순서는 전혀 고려하지 않고, 단어들의 출현 빈도(frequency)에만 집중하는 텍스트 데이터의 수치화 표현 방법\n",
    "\n",
    "[BoW를 만드는 과정]\n",
    "1. 각 단어에 고유한 정수 인덱스를 부여  # 단어 집합 생성.\n",
    "2. 각 인덱스의 위치에 단어 토큰의 등장 횟수를 기록한 벡터를 만듦."
   ]
  },
  {
   "cell_type": "markdown",
   "id": "eb6965c1-1bd7-405c-b7a8-cf51efbd6164",
   "metadata": {},
   "source": [
    "### step1. CountVectorizer 클래스로 BoW 만들기"
   ]
  },
  {
   "cell_type": "markdown",
   "id": "77f18614-109e-45e0-9bff-f371cb4d9bfe",
   "metadata": {},
   "source": [
    "#### 문서1: 정부가 발표하는 물가상승률과 소비자가 느끼는 물가상승률은 다르다.\n",
    "\n",
    "문서1에 대해 BoW를 만든다. 아래의 함수는 입력된 문서에 대해서 단어 집합을 만들어 각 단어에 정수 인덱스를 할당하고, BoW를 만든다."
   ]
  },
  {
   "cell_type": "code",
   "execution_count": 8,
   "id": "50ff13a8-6f60-41e2-bafe-a30b7ad7b52e",
   "metadata": {},
   "outputs": [
    {
     "name": "stdout",
     "output_type": "stream",
     "text": [
      "bag of words vector : [[1 1 2 1 2 1]]\n",
      "vocabulary : {'you': 4, 'know': 1, 'want': 3, 'your': 5, 'love': 2, 'because': 0}\n"
     ]
    }
   ],
   "source": [
    "from sklearn.feature_extraction.text import CountVectorizer\n",
    "\n",
    "corpus = ['you know I want your love. because I love you.']\n",
    "vector = CountVectorizer()\n",
    "\n",
    "# 코퍼스로부터 각 단어의 빈도수 기록\n",
    "print('bag of words vector :', vector.fit_transform(corpus).toarray())\n",
    "\n",
    "# 각 단어의 인덱스가 어떻게 부여되었는지 출력\n",
    "print('vocabulary :', vector.vocabulary_)"
   ]
  },
  {
   "cell_type": "markdown",
   "id": "9fec5a8f-efd8-48b1-8f5b-3814e7bc30f4",
   "metadata": {},
   "source": [
    "you와 love는 두 번씩 언급되었으므로 각각 인덱스 2와 4에서 2의 값을 가지며, 그 외의 값에서는 1의 값을 갖는다.  \n",
    "또한 알파벳 I는 BoW를 만드는 과정에서 사라졌는데, 이는 CounterVectorizer가 기본적으로 길이가 2 이상인 문자에 대해서만 토큰으로 인식한다.  \n",
    "영어에서는 길이가 짧은 문자를 제거하는 것도 전처리 작업으로 고려된다.\n",
    "\n",
    "주의할 것은 **CountVectorizer는 단지 띄어쓰기만을 기준**으로 단어를 자르는 낮은 수준의 토큰화를 진행하고 BoW를 만든다는 점이다. 따라서 한국어에 적용하면 BoW가 제대로 만들어지지 않는다."
   ]
  },
  {
   "cell_type": "markdown",
   "id": "211036f4-ea87-419e-aa67-a7ebf141b8ed",
   "metadata": {},
   "source": [
    "### step2. 불용어를 제거한 BoW 만들기\n",
    "\n",
    "CountVectorizer는 불용어를 지정하면, 불용어는 제외하고 BoW를 만들 수 있도록 불용어 제거 기능을 지원한다."
   ]
  },
  {
   "cell_type": "markdown",
   "id": "20ffe3c4-804d-48a1-841f-88496e453501",
   "metadata": {},
   "source": [
    "#### (1) 사용자 정의 불용어 사용"
   ]
  },
  {
   "cell_type": "code",
   "execution_count": 10,
   "id": "31896dd9-1ef5-4188-910a-4e5f55d2b742",
   "metadata": {},
   "outputs": [],
   "source": [
    "from sklearn.feature_extraction.text import CountVectorizer\n",
    "from nltk.corpus import stopwords"
   ]
  },
  {
   "cell_type": "code",
   "execution_count": 18,
   "id": "2526b82c-8938-475d-a056-86d1d8f4f7fb",
   "metadata": {},
   "outputs": [
    {
     "name": "stdout",
     "output_type": "stream",
     "text": [
      "bag of words vector:  [[1 1 1 1 1]]\n",
      "vocabulary:  {'family': 1, 'important': 2, 'thing': 4, 'it': 3, 'everything': 0}\n"
     ]
    }
   ],
   "source": [
    "text = [\"Family is not an important thing. It's everything.\"]\n",
    "vect = CountVectorizer(stop_words=['the', 'a', 'an', 'is', 'not'])\n",
    "print('bag of words vector: ', vect.fit_transform(text).toarray())\n",
    "print('vocabulary: ', vect.vocabulary_)"
   ]
  },
  {
   "cell_type": "markdown",
   "id": "9e40b6af-0e16-4ead-bdb2-74ac86178c41",
   "metadata": {},
   "source": [
    "#### (2) CountVectorizer에서 제공하는 자체 불용어 사용"
   ]
  },
  {
   "cell_type": "code",
   "execution_count": 19,
   "id": "3735ab33-27a6-47a1-bd79-bd4c2b748134",
   "metadata": {},
   "outputs": [
    {
     "name": "stdout",
     "output_type": "stream",
     "text": [
      "bag of words vector : [[1 1 1]]\n",
      "vocabulary : {'family': 0, 'important': 1, 'thing': 2}\n"
     ]
    }
   ],
   "source": [
    "text = [\"Family is not an important thing. It's everything.\"]\n",
    "vect = CountVectorizer(stop_words=\"english\")\n",
    "print('bag of words vector :',vect.fit_transform(text).toarray())\n",
    "print('vocabulary :',vect.vocabulary_)"
   ]
  },
  {
   "cell_type": "markdown",
   "id": "3bc6c720-2ac5-4587-b100-355344b032fa",
   "metadata": {},
   "source": [
    "#### (3) NLTK에서 지원하는 불용어 사용"
   ]
  },
  {
   "cell_type": "code",
   "execution_count": 21,
   "id": "2da694e3-5e5f-4265-a839-f518a8ca1bc5",
   "metadata": {},
   "outputs": [
    {
     "name": "stdout",
     "output_type": "stream",
     "text": [
      "bag of words vector : [[1 1 1 1]]\n",
      "vocabulary : {'family': 1, 'important': 2, 'thing': 3, 'everything': 0}\n"
     ]
    }
   ],
   "source": [
    "text = [\"Family is not an important thing. It's everything.\"]\n",
    "stop_words = stopwords.words(\"english\")\n",
    "vect = CountVectorizer(stop_words=stop_words)\n",
    "print('bag of words vector :',vect.fit_transform(text).toarray()) \n",
    "print('vocabulary :',vect.vocabulary_)"
   ]
  },
  {
   "cell_type": "code",
   "execution_count": null,
   "id": "01a28ad1-4903-4645-aa7f-fd80ad3267f0",
   "metadata": {},
   "outputs": [],
   "source": []
  }
 ],
 "metadata": {
  "kernelspec": {
   "display_name": "Python 3",
   "language": "python",
   "name": "python3"
  },
  "language_info": {
   "codemirror_mode": {
    "name": "ipython",
    "version": 3
   },
   "file_extension": ".py",
   "mimetype": "text/x-python",
   "name": "python",
   "nbconvert_exporter": "python",
   "pygments_lexer": "ipython3",
   "version": "3.8.8"
  }
 },
 "nbformat": 4,
 "nbformat_minor": 5
}
