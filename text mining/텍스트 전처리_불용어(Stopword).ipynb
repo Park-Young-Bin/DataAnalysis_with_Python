{
 "cells": [
  {
   "cell_type": "markdown",
   "id": "4b605ac8-5b99-4c0c-9bd1-b5fd5087d5b1",
   "metadata": {},
   "source": [
    "## 텍스트 전처리_불용어(Stopword)\n",
    "[02-04 불용어(Stopword)](https://wikidocs.net/22530)\n",
    "\n",
    "- 불용어: 실제 의미 분석을 하는데 거의 기여하는 바가 없는 단어"
   ]
  },
  {
   "cell_type": "code",
   "execution_count": 21,
   "id": "b488d21c-71b6-42c9-a838-9b953e97d11c",
   "metadata": {},
   "outputs": [],
   "source": [
    "from nltk.corpus import stopwords\n",
    "from nltk.tokenize import word_tokenize\n",
    "from konlpy.tag import Okt"
   ]
  },
  {
   "cell_type": "code",
   "execution_count": 22,
   "id": "462deb8a-63d9-4b3e-b51e-1d14aa23ea41",
   "metadata": {},
   "outputs": [
    {
     "name": "stdout",
     "output_type": "stream",
     "text": [
      "불용어 개수:  179\n",
      "불용어 10개 출력:  ['i', 'me', 'my', 'myself', 'we', 'our', 'ours', 'ourselves', 'you', \"you're\"]\n"
     ]
    }
   ],
   "source": [
    "# NLTK에서 불용어 확인하기\n",
    "stop_words_list = stopwords.words('english')\n",
    "print('불용어 개수: ', len(stop_words_list))\n",
    "print('불용어 10개 출력: ', stop_words_list[:10])"
   ]
  },
  {
   "cell_type": "code",
   "execution_count": 24,
   "id": "5a130497-5aaa-4dc7-8073-782950275dde",
   "metadata": {},
   "outputs": [
    {
     "name": "stdout",
     "output_type": "stream",
     "text": [
      "불용어 제거 전 : ['Family', 'is', 'not', 'an', 'important', 'thing', '.', 'It', \"'s\", 'everything', '.']\n",
      "불용어 제거 후 : ['Family', 'important', 'thing', '.', 'It', \"'s\", 'everything', '.']\n"
     ]
    }
   ],
   "source": [
    "# NLTK를 통해서 불용어 제거하기\n",
    "sentence = \"Family is not an important thing. It's everything.\"\n",
    "tokens = word_tokenize(sentence)\n",
    "\n",
    "result = []\n",
    "for word in tokens: \n",
    "    if word not in stop_words_list: \n",
    "        result.append(word)\n",
    "        \n",
    "print('불용어 제거 전 :',tokens) \n",
    "print('불용어 제거 후 :',result)"
   ]
  },
  {
   "cell_type": "code",
   "execution_count": 25,
   "id": "54df9ea5-3bdb-4db5-9864-4c61e1db3744",
   "metadata": {},
   "outputs": [
    {
     "name": "stdout",
     "output_type": "stream",
     "text": [
      "불용어 제거 전 : ['고기를', '아무렇게나', '구우려고', '하면', '안', '돼', '.', '고기라고', '다', '같은', '게', '아니거든', '.', '예컨대', '삼겹살을', '구울', '때는', '중요한', '게', '있지', '.']\n",
      "불용어 제거 후 : ['고기를', '구우려고', '하면', '.', '고기라고', '다', '아니거든', '.', '예컨대', '삼겹살을', '때는', '중요한', '있지', '.']\n"
     ]
    }
   ],
   "source": [
    "# 한국어에서 불용어 제거하기\n",
    "# 직접 불용어 제거\n",
    "okt = Okt()\n",
    "\n",
    "example = \"고기를 아무렇게나 구우려고 하면 안 돼. 고기라고 다 같은 게 아니거든. 예컨대 삼겹살을 구울 때는 중요한 게 있지.\"\n",
    "stop_words = \"를 아무렇게나 구 우려 고 안 돼 같은 게 구울 때 는\"\n",
    "\n",
    "stop_words = set(stop_words.split(' '))\n",
    "word_tokens = word_tokenize(example)\n",
    "\n",
    "result = [word for word in word_tokens if not word in stop_words]\n",
    "\n",
    "print('불용어 제거 전 :',word_tokens) \n",
    "print('불용어 제거 후 :',result)"
   ]
  },
  {
   "cell_type": "markdown",
   "id": "dfcd4e14-ac05-4f06-9b0c-229cb73d8009",
   "metadata": {},
   "source": [
    "[보편적으로 선택할 수 있는 한국어 불용어 리스트](https://www.ranks.nl/stopwords/korean)"
   ]
  }
 ],
 "metadata": {
  "kernelspec": {
   "display_name": "Python 3",
   "language": "python",
   "name": "python3"
  },
  "language_info": {
   "codemirror_mode": {
    "name": "ipython",
    "version": 3
   },
   "file_extension": ".py",
   "mimetype": "text/x-python",
   "name": "python",
   "nbconvert_exporter": "python",
   "pygments_lexer": "ipython3",
   "version": "3.8.8"
  }
 },
 "nbformat": 4,
 "nbformat_minor": 5
}
