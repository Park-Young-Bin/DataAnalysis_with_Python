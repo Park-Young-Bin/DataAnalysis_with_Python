{
 "cells": [
  {
   "cell_type": "markdown",
   "id": "0767170c",
   "metadata": {},
   "source": [
    "# 2014년 ~ 2016년 졸음운전 교통사고 데이터 분석"
   ]
  },
  {
   "cell_type": "markdown",
   "id": "7e37038b",
   "metadata": {},
   "source": [
    "## 1. 준비과정 및 데이터 불러오기"
   ]
  },
  {
   "cell_type": "code",
   "execution_count": 1,
   "id": "d7e7b68e",
   "metadata": {},
   "outputs": [],
   "source": [
    "import pandas as pd\n",
    "import numpy as np\n",
    "import seaborn as sns\n",
    "import matplotlib.pyplot as plt\n",
    "import matplotlib as mpl\n",
    "\n",
    "mpl.rc('font', family = 'Malgun Gothic')\n",
    "plt.rcParams['axes.unicode_minus'] = False"
   ]
  },
  {
   "cell_type": "code",
   "execution_count": 2,
   "id": "5d9c5911",
   "metadata": {},
   "outputs": [
    {
     "data": {
      "text/plain": [
       "['.git',\n",
       " '.ipynb_checkpoints',\n",
       " '2014~2016년 졸음운전 교통사고 데이터 분석.ipynb',\n",
       " '2014년 졸음운전 교통사고.csv',\n",
       " '2015년 졸음운전 교통사고.csv',\n",
       " '2016년 졸음운전 교통사고.csv',\n",
       " 'crime_2016.csv',\n",
       " 'image',\n",
       " 'iris 데이터 분석.ipynb',\n",
       " 'Seaborn 그래프 연습.ipynb',\n",
       " 'test.csv',\n",
       " 'Titanic_DataAnalysis.ipynb',\n",
       " 'train.csv',\n",
       " '한국 범죄 데이터 분석.ipynb']"
      ]
     },
     "execution_count": 2,
     "metadata": {},
     "output_type": "execute_result"
    }
   ],
   "source": [
    "import os\n",
    "os.listdir()"
   ]
  },
  {
   "cell_type": "markdown",
   "id": "1cee2dd2",
   "metadata": {},
   "source": [
    "os 모듈을 불러와서 os.listdir() 함수로 현재 디렉토리 안에 있는 파일명을 확인할 수 있다."
   ]
  },
  {
   "cell_type": "code",
   "execution_count": 3,
   "id": "71565efb",
   "metadata": {},
   "outputs": [],
   "source": [
    "df_2014 = pd.read_csv('2014년 졸음운전 교통사고.csv', encoding = 'cp949')\n",
    "df_2015 = pd.read_csv('2015년 졸음운전 교통사고.csv', encoding = 'cp949')\n",
    "df_2016 = pd.read_csv('2016년 졸음운전 교통사고.csv', encoding = 'cp949')"
   ]
  },
  {
   "cell_type": "markdown",
   "id": "67fa33d9",
   "metadata": {},
   "source": [
    "세 개의 데이터를 각각 불러와서 데이터의 기본 정보를 파악한다."
   ]
  },
  {
   "cell_type": "code",
   "execution_count": 4,
   "id": "c3a4d325",
   "metadata": {},
   "outputs": [
    {
     "data": {
      "text/html": [
       "<div>\n",
       "<style scoped>\n",
       "    .dataframe tbody tr th:only-of-type {\n",
       "        vertical-align: middle;\n",
       "    }\n",
       "\n",
       "    .dataframe tbody tr th {\n",
       "        vertical-align: top;\n",
       "    }\n",
       "\n",
       "    .dataframe thead th {\n",
       "        text-align: right;\n",
       "    }\n",
       "</style>\n",
       "<table border=\"1\" class=\"dataframe\">\n",
       "  <thead>\n",
       "    <tr style=\"text-align: right;\">\n",
       "      <th></th>\n",
       "      <th>구분</th>\n",
       "      <th>사고(건)</th>\n",
       "      <th>사망(명)</th>\n",
       "      <th>부상(명)</th>\n",
       "    </tr>\n",
       "  </thead>\n",
       "  <tbody>\n",
       "    <tr>\n",
       "      <th>0</th>\n",
       "      <td>2014년1월</td>\n",
       "      <td>169</td>\n",
       "      <td>7</td>\n",
       "      <td>347</td>\n",
       "    </tr>\n",
       "    <tr>\n",
       "      <th>1</th>\n",
       "      <td>2014년2월</td>\n",
       "      <td>145</td>\n",
       "      <td>3</td>\n",
       "      <td>268</td>\n",
       "    </tr>\n",
       "    <tr>\n",
       "      <th>2</th>\n",
       "      <td>2014년3월</td>\n",
       "      <td>206</td>\n",
       "      <td>12</td>\n",
       "      <td>358</td>\n",
       "    </tr>\n",
       "    <tr>\n",
       "      <th>3</th>\n",
       "      <td>2014년4월</td>\n",
       "      <td>182</td>\n",
       "      <td>4</td>\n",
       "      <td>360</td>\n",
       "    </tr>\n",
       "    <tr>\n",
       "      <th>4</th>\n",
       "      <td>2014년5월</td>\n",
       "      <td>218</td>\n",
       "      <td>17</td>\n",
       "      <td>474</td>\n",
       "    </tr>\n",
       "  </tbody>\n",
       "</table>\n",
       "</div>"
      ],
      "text/plain": [
       "        구분  사고(건)  사망(명)  부상(명)\n",
       "0  2014년1월    169      7    347\n",
       "1  2014년2월    145      3    268\n",
       "2  2014년3월    206     12    358\n",
       "3  2014년4월    182      4    360\n",
       "4  2014년5월    218     17    474"
      ]
     },
     "execution_count": 4,
     "metadata": {},
     "output_type": "execute_result"
    }
   ],
   "source": [
    "df_2014.head()"
   ]
  },
  {
   "cell_type": "code",
   "execution_count": 5,
   "id": "ba888228",
   "metadata": {},
   "outputs": [
    {
     "name": "stdout",
     "output_type": "stream",
     "text": [
      "<class 'pandas.core.frame.DataFrame'>\n",
      "RangeIndex: 12 entries, 0 to 11\n",
      "Data columns (total 4 columns):\n",
      " #   Column  Non-Null Count  Dtype \n",
      "---  ------  --------------  ----- \n",
      " 0   구분      12 non-null     object\n",
      " 1   사고(건)   12 non-null     int64 \n",
      " 2   사망(명)   12 non-null     int64 \n",
      " 3   부상(명)   12 non-null     int64 \n",
      "dtypes: int64(3), object(1)\n",
      "memory usage: 512.0+ bytes\n"
     ]
    }
   ],
   "source": [
    "df_2014.info()"
   ]
  },
  {
   "cell_type": "code",
   "execution_count": 6,
   "id": "8992dff7",
   "metadata": {},
   "outputs": [
    {
     "data": {
      "text/plain": [
       "(12, 4)"
      ]
     },
     "execution_count": 6,
     "metadata": {},
     "output_type": "execute_result"
    }
   ],
   "source": [
    "df_2014.shape"
   ]
  },
  {
   "cell_type": "code",
   "execution_count": 7,
   "id": "131a0bf9",
   "metadata": {
    "scrolled": true
   },
   "outputs": [
    {
     "data": {
      "text/plain": [
       "Index(['구분', '사고(건)', '사망(명)', '부상(명)'], dtype='object')"
      ]
     },
     "execution_count": 7,
     "metadata": {},
     "output_type": "execute_result"
    }
   ],
   "source": [
    "df_2014.columns"
   ]
  },
  {
   "cell_type": "code",
   "execution_count": 8,
   "id": "ead7bc88",
   "metadata": {},
   "outputs": [
    {
     "data": {
      "text/plain": [
       "RangeIndex(start=0, stop=12, step=1)"
      ]
     },
     "execution_count": 8,
     "metadata": {},
     "output_type": "execute_result"
    }
   ],
   "source": [
    "df_2014.index"
   ]
  },
  {
   "cell_type": "code",
   "execution_count": 9,
   "id": "7bc249e9",
   "metadata": {},
   "outputs": [
    {
     "data": {
      "text/html": [
       "<div>\n",
       "<style scoped>\n",
       "    .dataframe tbody tr th:only-of-type {\n",
       "        vertical-align: middle;\n",
       "    }\n",
       "\n",
       "    .dataframe tbody tr th {\n",
       "        vertical-align: top;\n",
       "    }\n",
       "\n",
       "    .dataframe thead th {\n",
       "        text-align: right;\n",
       "    }\n",
       "</style>\n",
       "<table border=\"1\" class=\"dataframe\">\n",
       "  <thead>\n",
       "    <tr style=\"text-align: right;\">\n",
       "      <th></th>\n",
       "      <th>사고(건)</th>\n",
       "      <th>사망(명)</th>\n",
       "      <th>부상(명)</th>\n",
       "    </tr>\n",
       "  </thead>\n",
       "  <tbody>\n",
       "    <tr>\n",
       "      <th>count</th>\n",
       "      <td>12.000000</td>\n",
       "      <td>12.000000</td>\n",
       "      <td>12.000000</td>\n",
       "    </tr>\n",
       "    <tr>\n",
       "      <th>mean</th>\n",
       "      <td>202.166667</td>\n",
       "      <td>10.833333</td>\n",
       "      <td>389.916667</td>\n",
       "    </tr>\n",
       "    <tr>\n",
       "      <th>std</th>\n",
       "      <td>27.498209</td>\n",
       "      <td>4.365845</td>\n",
       "      <td>60.657696</td>\n",
       "    </tr>\n",
       "    <tr>\n",
       "      <th>min</th>\n",
       "      <td>145.000000</td>\n",
       "      <td>3.000000</td>\n",
       "      <td>268.000000</td>\n",
       "    </tr>\n",
       "    <tr>\n",
       "      <th>25%</th>\n",
       "      <td>181.000000</td>\n",
       "      <td>8.500000</td>\n",
       "      <td>355.250000</td>\n",
       "    </tr>\n",
       "    <tr>\n",
       "      <th>50%</th>\n",
       "      <td>209.500000</td>\n",
       "      <td>12.000000</td>\n",
       "      <td>389.000000</td>\n",
       "    </tr>\n",
       "    <tr>\n",
       "      <th>75%</th>\n",
       "      <td>222.750000</td>\n",
       "      <td>14.000000</td>\n",
       "      <td>435.000000</td>\n",
       "    </tr>\n",
       "    <tr>\n",
       "      <th>max</th>\n",
       "      <td>233.000000</td>\n",
       "      <td>17.000000</td>\n",
       "      <td>474.000000</td>\n",
       "    </tr>\n",
       "  </tbody>\n",
       "</table>\n",
       "</div>"
      ],
      "text/plain": [
       "            사고(건)      사망(명)       부상(명)\n",
       "count   12.000000  12.000000   12.000000\n",
       "mean   202.166667  10.833333  389.916667\n",
       "std     27.498209   4.365845   60.657696\n",
       "min    145.000000   3.000000  268.000000\n",
       "25%    181.000000   8.500000  355.250000\n",
       "50%    209.500000  12.000000  389.000000\n",
       "75%    222.750000  14.000000  435.000000\n",
       "max    233.000000  17.000000  474.000000"
      ]
     },
     "execution_count": 9,
     "metadata": {},
     "output_type": "execute_result"
    }
   ],
   "source": [
    "df_2014.describe()"
   ]
  },
  {
   "cell_type": "code",
   "execution_count": 10,
   "id": "aabc164e",
   "metadata": {},
   "outputs": [
    {
     "data": {
      "text/html": [
       "<div>\n",
       "<style scoped>\n",
       "    .dataframe tbody tr th:only-of-type {\n",
       "        vertical-align: middle;\n",
       "    }\n",
       "\n",
       "    .dataframe tbody tr th {\n",
       "        vertical-align: top;\n",
       "    }\n",
       "\n",
       "    .dataframe thead th {\n",
       "        text-align: right;\n",
       "    }\n",
       "</style>\n",
       "<table border=\"1\" class=\"dataframe\">\n",
       "  <thead>\n",
       "    <tr style=\"text-align: right;\">\n",
       "      <th></th>\n",
       "      <th>구분</th>\n",
       "      <th>사고(건)</th>\n",
       "      <th>사망(명)</th>\n",
       "      <th>부상(명)</th>\n",
       "    </tr>\n",
       "  </thead>\n",
       "  <tbody>\n",
       "    <tr>\n",
       "      <th>0</th>\n",
       "      <td>2015년1월</td>\n",
       "      <td>205</td>\n",
       "      <td>8</td>\n",
       "      <td>375</td>\n",
       "    </tr>\n",
       "    <tr>\n",
       "      <th>1</th>\n",
       "      <td>2015년2월</td>\n",
       "      <td>175</td>\n",
       "      <td>8</td>\n",
       "      <td>375</td>\n",
       "    </tr>\n",
       "    <tr>\n",
       "      <th>2</th>\n",
       "      <td>2015년3월</td>\n",
       "      <td>237</td>\n",
       "      <td>4</td>\n",
       "      <td>492</td>\n",
       "    </tr>\n",
       "    <tr>\n",
       "      <th>3</th>\n",
       "      <td>2015년4월</td>\n",
       "      <td>227</td>\n",
       "      <td>10</td>\n",
       "      <td>486</td>\n",
       "    </tr>\n",
       "    <tr>\n",
       "      <th>4</th>\n",
       "      <td>2015년5월</td>\n",
       "      <td>231</td>\n",
       "      <td>9</td>\n",
       "      <td>504</td>\n",
       "    </tr>\n",
       "  </tbody>\n",
       "</table>\n",
       "</div>"
      ],
      "text/plain": [
       "        구분  사고(건)  사망(명)  부상(명)\n",
       "0  2015년1월    205      8    375\n",
       "1  2015년2월    175      8    375\n",
       "2  2015년3월    237      4    492\n",
       "3  2015년4월    227     10    486\n",
       "4  2015년5월    231      9    504"
      ]
     },
     "execution_count": 10,
     "metadata": {},
     "output_type": "execute_result"
    }
   ],
   "source": [
    "df_2015.head()"
   ]
  },
  {
   "cell_type": "code",
   "execution_count": 11,
   "id": "9bdf578e",
   "metadata": {},
   "outputs": [
    {
     "name": "stdout",
     "output_type": "stream",
     "text": [
      "<class 'pandas.core.frame.DataFrame'>\n",
      "RangeIndex: 12 entries, 0 to 11\n",
      "Data columns (total 4 columns):\n",
      " #   Column  Non-Null Count  Dtype \n",
      "---  ------  --------------  ----- \n",
      " 0   구분      12 non-null     object\n",
      " 1   사고(건)   12 non-null     int64 \n",
      " 2   사망(명)   12 non-null     int64 \n",
      " 3   부상(명)   12 non-null     int64 \n",
      "dtypes: int64(3), object(1)\n",
      "memory usage: 512.0+ bytes\n"
     ]
    }
   ],
   "source": [
    "df_2015.info()"
   ]
  },
  {
   "cell_type": "code",
   "execution_count": 12,
   "id": "2863684d",
   "metadata": {},
   "outputs": [
    {
     "data": {
      "text/html": [
       "<div>\n",
       "<style scoped>\n",
       "    .dataframe tbody tr th:only-of-type {\n",
       "        vertical-align: middle;\n",
       "    }\n",
       "\n",
       "    .dataframe tbody tr th {\n",
       "        vertical-align: top;\n",
       "    }\n",
       "\n",
       "    .dataframe thead th {\n",
       "        text-align: right;\n",
       "    }\n",
       "</style>\n",
       "<table border=\"1\" class=\"dataframe\">\n",
       "  <thead>\n",
       "    <tr style=\"text-align: right;\">\n",
       "      <th></th>\n",
       "      <th>사고(건)</th>\n",
       "      <th>사망(명)</th>\n",
       "      <th>부상(명)</th>\n",
       "    </tr>\n",
       "  </thead>\n",
       "  <tbody>\n",
       "    <tr>\n",
       "      <th>count</th>\n",
       "      <td>12.000000</td>\n",
       "      <td>12.000000</td>\n",
       "      <td>12.000000</td>\n",
       "    </tr>\n",
       "    <tr>\n",
       "      <th>mean</th>\n",
       "      <td>225.083333</td>\n",
       "      <td>9.000000</td>\n",
       "      <td>460.416667</td>\n",
       "    </tr>\n",
       "    <tr>\n",
       "      <th>std</th>\n",
       "      <td>28.968504</td>\n",
       "      <td>4.221159</td>\n",
       "      <td>62.545196</td>\n",
       "    </tr>\n",
       "    <tr>\n",
       "      <th>min</th>\n",
       "      <td>175.000000</td>\n",
       "      <td>3.000000</td>\n",
       "      <td>375.000000</td>\n",
       "    </tr>\n",
       "    <tr>\n",
       "      <th>25%</th>\n",
       "      <td>206.500000</td>\n",
       "      <td>7.750000</td>\n",
       "      <td>400.250000</td>\n",
       "    </tr>\n",
       "    <tr>\n",
       "      <th>50%</th>\n",
       "      <td>220.500000</td>\n",
       "      <td>8.000000</td>\n",
       "      <td>480.500000</td>\n",
       "    </tr>\n",
       "    <tr>\n",
       "      <th>75%</th>\n",
       "      <td>240.750000</td>\n",
       "      <td>10.000000</td>\n",
       "      <td>501.750000</td>\n",
       "    </tr>\n",
       "    <tr>\n",
       "      <th>max</th>\n",
       "      <td>273.000000</td>\n",
       "      <td>19.000000</td>\n",
       "      <td>556.000000</td>\n",
       "    </tr>\n",
       "  </tbody>\n",
       "</table>\n",
       "</div>"
      ],
      "text/plain": [
       "            사고(건)      사망(명)       부상(명)\n",
       "count   12.000000  12.000000   12.000000\n",
       "mean   225.083333   9.000000  460.416667\n",
       "std     28.968504   4.221159   62.545196\n",
       "min    175.000000   3.000000  375.000000\n",
       "25%    206.500000   7.750000  400.250000\n",
       "50%    220.500000   8.000000  480.500000\n",
       "75%    240.750000  10.000000  501.750000\n",
       "max    273.000000  19.000000  556.000000"
      ]
     },
     "execution_count": 12,
     "metadata": {},
     "output_type": "execute_result"
    }
   ],
   "source": [
    "df_2015.describe()"
   ]
  },
  {
   "cell_type": "code",
   "execution_count": 13,
   "id": "40566a20",
   "metadata": {},
   "outputs": [
    {
     "data": {
      "text/html": [
       "<div>\n",
       "<style scoped>\n",
       "    .dataframe tbody tr th:only-of-type {\n",
       "        vertical-align: middle;\n",
       "    }\n",
       "\n",
       "    .dataframe tbody tr th {\n",
       "        vertical-align: top;\n",
       "    }\n",
       "\n",
       "    .dataframe thead th {\n",
       "        text-align: right;\n",
       "    }\n",
       "</style>\n",
       "<table border=\"1\" class=\"dataframe\">\n",
       "  <thead>\n",
       "    <tr style=\"text-align: right;\">\n",
       "      <th></th>\n",
       "      <th>구분</th>\n",
       "      <th>사고(건)</th>\n",
       "      <th>사망(명)</th>\n",
       "      <th>부상(명)</th>\n",
       "    </tr>\n",
       "  </thead>\n",
       "  <tbody>\n",
       "    <tr>\n",
       "      <th>0</th>\n",
       "      <td>2016년1월</td>\n",
       "      <td>192</td>\n",
       "      <td>5</td>\n",
       "      <td>387</td>\n",
       "    </tr>\n",
       "    <tr>\n",
       "      <th>1</th>\n",
       "      <td>2016년2월</td>\n",
       "      <td>174</td>\n",
       "      <td>6</td>\n",
       "      <td>328</td>\n",
       "    </tr>\n",
       "    <tr>\n",
       "      <th>2</th>\n",
       "      <td>2016년3월</td>\n",
       "      <td>217</td>\n",
       "      <td>7</td>\n",
       "      <td>435</td>\n",
       "    </tr>\n",
       "    <tr>\n",
       "      <th>3</th>\n",
       "      <td>2016년4월</td>\n",
       "      <td>216</td>\n",
       "      <td>7</td>\n",
       "      <td>419</td>\n",
       "    </tr>\n",
       "    <tr>\n",
       "      <th>4</th>\n",
       "      <td>2016년5월</td>\n",
       "      <td>239</td>\n",
       "      <td>13</td>\n",
       "      <td>522</td>\n",
       "    </tr>\n",
       "  </tbody>\n",
       "</table>\n",
       "</div>"
      ],
      "text/plain": [
       "        구분  사고(건)  사망(명)  부상(명)\n",
       "0  2016년1월    192      5    387\n",
       "1  2016년2월    174      6    328\n",
       "2  2016년3월    217      7    435\n",
       "3  2016년4월    216      7    419\n",
       "4  2016년5월    239     13    522"
      ]
     },
     "execution_count": 13,
     "metadata": {},
     "output_type": "execute_result"
    }
   ],
   "source": [
    "df_2016.head()"
   ]
  },
  {
   "cell_type": "code",
   "execution_count": 14,
   "id": "9ed7aaf7",
   "metadata": {},
   "outputs": [
    {
     "data": {
      "text/html": [
       "<div>\n",
       "<style scoped>\n",
       "    .dataframe tbody tr th:only-of-type {\n",
       "        vertical-align: middle;\n",
       "    }\n",
       "\n",
       "    .dataframe tbody tr th {\n",
       "        vertical-align: top;\n",
       "    }\n",
       "\n",
       "    .dataframe thead th {\n",
       "        text-align: right;\n",
       "    }\n",
       "</style>\n",
       "<table border=\"1\" class=\"dataframe\">\n",
       "  <thead>\n",
       "    <tr style=\"text-align: right;\">\n",
       "      <th></th>\n",
       "      <th>사고(건)</th>\n",
       "      <th>사망(명)</th>\n",
       "      <th>부상(명)</th>\n",
       "    </tr>\n",
       "  </thead>\n",
       "  <tbody>\n",
       "    <tr>\n",
       "      <th>count</th>\n",
       "      <td>12.000000</td>\n",
       "      <td>12.000000</td>\n",
       "      <td>12.000000</td>\n",
       "    </tr>\n",
       "    <tr>\n",
       "      <th>mean</th>\n",
       "      <td>202.750000</td>\n",
       "      <td>8.166667</td>\n",
       "      <td>408.250000</td>\n",
       "    </tr>\n",
       "    <tr>\n",
       "      <th>std</th>\n",
       "      <td>23.014324</td>\n",
       "      <td>3.186144</td>\n",
       "      <td>60.051682</td>\n",
       "    </tr>\n",
       "    <tr>\n",
       "      <th>min</th>\n",
       "      <td>168.000000</td>\n",
       "      <td>4.000000</td>\n",
       "      <td>328.000000</td>\n",
       "    </tr>\n",
       "    <tr>\n",
       "      <th>25%</th>\n",
       "      <td>186.000000</td>\n",
       "      <td>5.750000</td>\n",
       "      <td>363.500000</td>\n",
       "    </tr>\n",
       "    <tr>\n",
       "      <th>50%</th>\n",
       "      <td>200.000000</td>\n",
       "      <td>7.000000</td>\n",
       "      <td>402.500000</td>\n",
       "    </tr>\n",
       "    <tr>\n",
       "      <th>75%</th>\n",
       "      <td>219.500000</td>\n",
       "      <td>10.500000</td>\n",
       "      <td>441.250000</td>\n",
       "    </tr>\n",
       "    <tr>\n",
       "      <th>max</th>\n",
       "      <td>239.000000</td>\n",
       "      <td>13.000000</td>\n",
       "      <td>522.000000</td>\n",
       "    </tr>\n",
       "  </tbody>\n",
       "</table>\n",
       "</div>"
      ],
      "text/plain": [
       "            사고(건)      사망(명)       부상(명)\n",
       "count   12.000000  12.000000   12.000000\n",
       "mean   202.750000   8.166667  408.250000\n",
       "std     23.014324   3.186144   60.051682\n",
       "min    168.000000   4.000000  328.000000\n",
       "25%    186.000000   5.750000  363.500000\n",
       "50%    200.000000   7.000000  402.500000\n",
       "75%    219.500000  10.500000  441.250000\n",
       "max    239.000000  13.000000  522.000000"
      ]
     },
     "execution_count": 14,
     "metadata": {},
     "output_type": "execute_result"
    }
   ],
   "source": [
    "df_2016.describe()"
   ]
  },
  {
   "cell_type": "markdown",
   "id": "c2e88d06",
   "metadata": {},
   "source": [
    "## 2. 세 개의 데이터를 하나로 병합하기"
   ]
  },
  {
   "cell_type": "markdown",
   "id": "e209f67a",
   "metadata": {},
   "source": [
    "pd.concat( [ ] ) 함수는 데이터프레임을 말그대로 물리적으로 이어 붙여주는 함수이다.\n",
    "\n",
    "[ ] (중괄호) 안에 합칠 데이터프레임 명을 넣는다. \n",
    "\n",
    "유의할 점은 원본 데이터의 인덱스가 유지된다는 것이다.  \n",
    "아래 예시를 보면 11번 인덱스 다음 번에는 12번이 와야하는데 df2의 첫 번째 인덱스인 0이 나왔다.\n",
    "\n",
    "따라서 **ignore_index = True** 옵션을 이용해서 인덱스를 다시 설정한다.\n",
    "\n",
    "row를 합칠 때는 별다른 옵션은 없고 columns을 합칠 때는 axis = 1 옵션을 입력한다."
   ]
  },
  {
   "cell_type": "code",
   "execution_count": 15,
   "id": "818988cf",
   "metadata": {},
   "outputs": [
    {
     "data": {
      "text/html": [
       "<div>\n",
       "<style scoped>\n",
       "    .dataframe tbody tr th:only-of-type {\n",
       "        vertical-align: middle;\n",
       "    }\n",
       "\n",
       "    .dataframe tbody tr th {\n",
       "        vertical-align: top;\n",
       "    }\n",
       "\n",
       "    .dataframe thead th {\n",
       "        text-align: right;\n",
       "    }\n",
       "</style>\n",
       "<table border=\"1\" class=\"dataframe\">\n",
       "  <thead>\n",
       "    <tr style=\"text-align: right;\">\n",
       "      <th></th>\n",
       "      <th>구분</th>\n",
       "      <th>사고(건)</th>\n",
       "      <th>사망(명)</th>\n",
       "      <th>부상(명)</th>\n",
       "    </tr>\n",
       "  </thead>\n",
       "  <tbody>\n",
       "    <tr>\n",
       "      <th>0</th>\n",
       "      <td>2014년1월</td>\n",
       "      <td>169</td>\n",
       "      <td>7</td>\n",
       "      <td>347</td>\n",
       "    </tr>\n",
       "    <tr>\n",
       "      <th>1</th>\n",
       "      <td>2014년2월</td>\n",
       "      <td>145</td>\n",
       "      <td>3</td>\n",
       "      <td>268</td>\n",
       "    </tr>\n",
       "    <tr>\n",
       "      <th>2</th>\n",
       "      <td>2014년3월</td>\n",
       "      <td>206</td>\n",
       "      <td>12</td>\n",
       "      <td>358</td>\n",
       "    </tr>\n",
       "    <tr>\n",
       "      <th>3</th>\n",
       "      <td>2014년4월</td>\n",
       "      <td>182</td>\n",
       "      <td>4</td>\n",
       "      <td>360</td>\n",
       "    </tr>\n",
       "    <tr>\n",
       "      <th>4</th>\n",
       "      <td>2014년5월</td>\n",
       "      <td>218</td>\n",
       "      <td>17</td>\n",
       "      <td>474</td>\n",
       "    </tr>\n",
       "    <tr>\n",
       "      <th>5</th>\n",
       "      <td>2014년6월</td>\n",
       "      <td>233</td>\n",
       "      <td>13</td>\n",
       "      <td>457</td>\n",
       "    </tr>\n",
       "    <tr>\n",
       "      <th>6</th>\n",
       "      <td>2014년7월</td>\n",
       "      <td>229</td>\n",
       "      <td>14</td>\n",
       "      <td>431</td>\n",
       "    </tr>\n",
       "    <tr>\n",
       "      <th>7</th>\n",
       "      <td>2014년8월</td>\n",
       "      <td>222</td>\n",
       "      <td>9</td>\n",
       "      <td>447</td>\n",
       "    </tr>\n",
       "    <tr>\n",
       "      <th>8</th>\n",
       "      <td>2014년9월</td>\n",
       "      <td>225</td>\n",
       "      <td>15</td>\n",
       "      <td>430</td>\n",
       "    </tr>\n",
       "    <tr>\n",
       "      <th>9</th>\n",
       "      <td>2014년10월</td>\n",
       "      <td>210</td>\n",
       "      <td>14</td>\n",
       "      <td>392</td>\n",
       "    </tr>\n",
       "    <tr>\n",
       "      <th>10</th>\n",
       "      <td>2014년11월</td>\n",
       "      <td>209</td>\n",
       "      <td>10</td>\n",
       "      <td>386</td>\n",
       "    </tr>\n",
       "    <tr>\n",
       "      <th>11</th>\n",
       "      <td>2014년12월</td>\n",
       "      <td>178</td>\n",
       "      <td>12</td>\n",
       "      <td>329</td>\n",
       "    </tr>\n",
       "    <tr>\n",
       "      <th>0</th>\n",
       "      <td>2015년1월</td>\n",
       "      <td>205</td>\n",
       "      <td>8</td>\n",
       "      <td>375</td>\n",
       "    </tr>\n",
       "    <tr>\n",
       "      <th>1</th>\n",
       "      <td>2015년2월</td>\n",
       "      <td>175</td>\n",
       "      <td>8</td>\n",
       "      <td>375</td>\n",
       "    </tr>\n",
       "  </tbody>\n",
       "</table>\n",
       "</div>"
      ],
      "text/plain": [
       "          구분  사고(건)  사망(명)  부상(명)\n",
       "0    2014년1월    169      7    347\n",
       "1    2014년2월    145      3    268\n",
       "2    2014년3월    206     12    358\n",
       "3    2014년4월    182      4    360\n",
       "4    2014년5월    218     17    474\n",
       "5    2014년6월    233     13    457\n",
       "6    2014년7월    229     14    431\n",
       "7    2014년8월    222      9    447\n",
       "8    2014년9월    225     15    430\n",
       "9   2014년10월    210     14    392\n",
       "10  2014년11월    209     10    386\n",
       "11  2014년12월    178     12    329\n",
       "0    2015년1월    205      8    375\n",
       "1    2015년2월    175      8    375"
      ]
     },
     "execution_count": 15,
     "metadata": {},
     "output_type": "execute_result"
    }
   ],
   "source": [
    "pd.concat([df_2014, df_2015, df_2016]).head(14)"
   ]
  },
  {
   "cell_type": "code",
   "execution_count": 16,
   "id": "12989577",
   "metadata": {},
   "outputs": [
    {
     "data": {
      "text/html": [
       "<div>\n",
       "<style scoped>\n",
       "    .dataframe tbody tr th:only-of-type {\n",
       "        vertical-align: middle;\n",
       "    }\n",
       "\n",
       "    .dataframe tbody tr th {\n",
       "        vertical-align: top;\n",
       "    }\n",
       "\n",
       "    .dataframe thead th {\n",
       "        text-align: right;\n",
       "    }\n",
       "</style>\n",
       "<table border=\"1\" class=\"dataframe\">\n",
       "  <thead>\n",
       "    <tr style=\"text-align: right;\">\n",
       "      <th></th>\n",
       "      <th>구분</th>\n",
       "      <th>사고(건)</th>\n",
       "      <th>사망(명)</th>\n",
       "      <th>부상(명)</th>\n",
       "    </tr>\n",
       "  </thead>\n",
       "  <tbody>\n",
       "    <tr>\n",
       "      <th>0</th>\n",
       "      <td>2014년1월</td>\n",
       "      <td>169</td>\n",
       "      <td>7</td>\n",
       "      <td>347</td>\n",
       "    </tr>\n",
       "    <tr>\n",
       "      <th>1</th>\n",
       "      <td>2014년2월</td>\n",
       "      <td>145</td>\n",
       "      <td>3</td>\n",
       "      <td>268</td>\n",
       "    </tr>\n",
       "    <tr>\n",
       "      <th>2</th>\n",
       "      <td>2014년3월</td>\n",
       "      <td>206</td>\n",
       "      <td>12</td>\n",
       "      <td>358</td>\n",
       "    </tr>\n",
       "    <tr>\n",
       "      <th>3</th>\n",
       "      <td>2014년4월</td>\n",
       "      <td>182</td>\n",
       "      <td>4</td>\n",
       "      <td>360</td>\n",
       "    </tr>\n",
       "    <tr>\n",
       "      <th>4</th>\n",
       "      <td>2014년5월</td>\n",
       "      <td>218</td>\n",
       "      <td>17</td>\n",
       "      <td>474</td>\n",
       "    </tr>\n",
       "    <tr>\n",
       "      <th>5</th>\n",
       "      <td>2014년6월</td>\n",
       "      <td>233</td>\n",
       "      <td>13</td>\n",
       "      <td>457</td>\n",
       "    </tr>\n",
       "    <tr>\n",
       "      <th>6</th>\n",
       "      <td>2014년7월</td>\n",
       "      <td>229</td>\n",
       "      <td>14</td>\n",
       "      <td>431</td>\n",
       "    </tr>\n",
       "    <tr>\n",
       "      <th>7</th>\n",
       "      <td>2014년8월</td>\n",
       "      <td>222</td>\n",
       "      <td>9</td>\n",
       "      <td>447</td>\n",
       "    </tr>\n",
       "    <tr>\n",
       "      <th>8</th>\n",
       "      <td>2014년9월</td>\n",
       "      <td>225</td>\n",
       "      <td>15</td>\n",
       "      <td>430</td>\n",
       "    </tr>\n",
       "    <tr>\n",
       "      <th>9</th>\n",
       "      <td>2014년10월</td>\n",
       "      <td>210</td>\n",
       "      <td>14</td>\n",
       "      <td>392</td>\n",
       "    </tr>\n",
       "    <tr>\n",
       "      <th>10</th>\n",
       "      <td>2014년11월</td>\n",
       "      <td>209</td>\n",
       "      <td>10</td>\n",
       "      <td>386</td>\n",
       "    </tr>\n",
       "    <tr>\n",
       "      <th>11</th>\n",
       "      <td>2014년12월</td>\n",
       "      <td>178</td>\n",
       "      <td>12</td>\n",
       "      <td>329</td>\n",
       "    </tr>\n",
       "    <tr>\n",
       "      <th>12</th>\n",
       "      <td>2015년1월</td>\n",
       "      <td>205</td>\n",
       "      <td>8</td>\n",
       "      <td>375</td>\n",
       "    </tr>\n",
       "    <tr>\n",
       "      <th>13</th>\n",
       "      <td>2015년2월</td>\n",
       "      <td>175</td>\n",
       "      <td>8</td>\n",
       "      <td>375</td>\n",
       "    </tr>\n",
       "  </tbody>\n",
       "</table>\n",
       "</div>"
      ],
      "text/plain": [
       "          구분  사고(건)  사망(명)  부상(명)\n",
       "0    2014년1월    169      7    347\n",
       "1    2014년2월    145      3    268\n",
       "2    2014년3월    206     12    358\n",
       "3    2014년4월    182      4    360\n",
       "4    2014년5월    218     17    474\n",
       "5    2014년6월    233     13    457\n",
       "6    2014년7월    229     14    431\n",
       "7    2014년8월    222      9    447\n",
       "8    2014년9월    225     15    430\n",
       "9   2014년10월    210     14    392\n",
       "10  2014년11월    209     10    386\n",
       "11  2014년12월    178     12    329\n",
       "12   2015년1월    205      8    375\n",
       "13   2015년2월    175      8    375"
      ]
     },
     "execution_count": 16,
     "metadata": {},
     "output_type": "execute_result"
    }
   ],
   "source": [
    "pd.concat([df_2014, df_2015, df_2016], ignore_index = True).head(14)"
   ]
  },
  {
   "cell_type": "code",
   "execution_count": 17,
   "id": "6ea1ab60",
   "metadata": {},
   "outputs": [
    {
     "data": {
      "text/html": [
       "<div>\n",
       "<style scoped>\n",
       "    .dataframe tbody tr th:only-of-type {\n",
       "        vertical-align: middle;\n",
       "    }\n",
       "\n",
       "    .dataframe tbody tr th {\n",
       "        vertical-align: top;\n",
       "    }\n",
       "\n",
       "    .dataframe thead th {\n",
       "        text-align: right;\n",
       "    }\n",
       "</style>\n",
       "<table border=\"1\" class=\"dataframe\">\n",
       "  <thead>\n",
       "    <tr style=\"text-align: right;\">\n",
       "      <th></th>\n",
       "      <th>사고(건)</th>\n",
       "      <th>사망(명)</th>\n",
       "      <th>부상(명)</th>\n",
       "    </tr>\n",
       "    <tr>\n",
       "      <th>구분</th>\n",
       "      <th></th>\n",
       "      <th></th>\n",
       "      <th></th>\n",
       "    </tr>\n",
       "  </thead>\n",
       "  <tbody>\n",
       "    <tr>\n",
       "      <th>2014년1월</th>\n",
       "      <td>169</td>\n",
       "      <td>7</td>\n",
       "      <td>347</td>\n",
       "    </tr>\n",
       "    <tr>\n",
       "      <th>2014년2월</th>\n",
       "      <td>145</td>\n",
       "      <td>3</td>\n",
       "      <td>268</td>\n",
       "    </tr>\n",
       "    <tr>\n",
       "      <th>2014년3월</th>\n",
       "      <td>206</td>\n",
       "      <td>12</td>\n",
       "      <td>358</td>\n",
       "    </tr>\n",
       "    <tr>\n",
       "      <th>2014년4월</th>\n",
       "      <td>182</td>\n",
       "      <td>4</td>\n",
       "      <td>360</td>\n",
       "    </tr>\n",
       "    <tr>\n",
       "      <th>2014년5월</th>\n",
       "      <td>218</td>\n",
       "      <td>17</td>\n",
       "      <td>474</td>\n",
       "    </tr>\n",
       "  </tbody>\n",
       "</table>\n",
       "</div>"
      ],
      "text/plain": [
       "         사고(건)  사망(명)  부상(명)\n",
       "구분                          \n",
       "2014년1월    169      7    347\n",
       "2014년2월    145      3    268\n",
       "2014년3월    206     12    358\n",
       "2014년4월    182      4    360\n",
       "2014년5월    218     17    474"
      ]
     },
     "execution_count": 17,
     "metadata": {},
     "output_type": "execute_result"
    }
   ],
   "source": [
    "df1 = pd.concat([df_2014, df_2015, df_2016], ignore_index = True).set_index('구분')\n",
    "df1.head()"
   ]
  },
  {
   "cell_type": "code",
   "execution_count": 18,
   "id": "a875fee0",
   "metadata": {},
   "outputs": [
    {
     "name": "stdout",
     "output_type": "stream",
     "text": [
      "<class 'pandas.core.frame.DataFrame'>\n",
      "Index: 36 entries, 2014년1월 to 2016년12월\n",
      "Data columns (total 3 columns):\n",
      " #   Column  Non-Null Count  Dtype\n",
      "---  ------  --------------  -----\n",
      " 0   사고(건)   36 non-null     int64\n",
      " 1   사망(명)   36 non-null     int64\n",
      " 2   부상(명)   36 non-null     int64\n",
      "dtypes: int64(3)\n",
      "memory usage: 1.1+ KB\n"
     ]
    }
   ],
   "source": [
    "df1.info()"
   ]
  },
  {
   "cell_type": "markdown",
   "id": "81ab4880",
   "metadata": {},
   "source": [
    "## 3. 년도, 월별로 인덱스를 설정(멀티 인덱스)하기"
   ]
  },
  {
   "cell_type": "code",
   "execution_count": 19,
   "id": "11aceb94",
   "metadata": {},
   "outputs": [],
   "source": [
    "# 복사본 생성\n",
    "df2 = df1.copy()"
   ]
  },
  {
   "cell_type": "markdown",
   "id": "71950352",
   "metadata": {},
   "source": [
    "copy() 함수를 이용해서 데이터 프레임의 복사본을 생성한다."
   ]
  },
  {
   "cell_type": "code",
   "execution_count": 20,
   "id": "13f4c9d9",
   "metadata": {},
   "outputs": [
    {
     "data": {
      "text/plain": [
       "Index(['2014년1월', '2014년2월', '2014년3월', '2014년4월', '2014년5월', '2014년6월',\n",
       "       '2014년7월', '2014년8월', '2014년9월', '2014년10월', '2014년11월', '2014년12월',\n",
       "       '2015년1월', '2015년2월', '2015년3월', '2015년4월', '2015년5월', '2015년6월',\n",
       "       '2015년7월', '2015년8월', '2015년9월', '2015년10월', '2015년11월', '2015년12월',\n",
       "       '2016년1월', '2016년2월', '2016년3월', '2016년4월', '2016년5월', '2016년6월',\n",
       "       '2016년7월', '2016년8월', '2016년9월', '2016년10월', '2016년11월', '2016년12월'],\n",
       "      dtype='object', name='구분')"
      ]
     },
     "execution_count": 20,
     "metadata": {},
     "output_type": "execute_result"
    }
   ],
   "source": [
    "# 복사본의 인덱스 값 출력\n",
    "df2.index"
   ]
  },
  {
   "cell_type": "code",
   "execution_count": 21,
   "id": "1b106da4",
   "metadata": {},
   "outputs": [
    {
     "data": {
      "text/plain": [
       "DatetimeIndex(['2014-01-01', '2014-02-01', '2014-03-01', '2014-04-01',\n",
       "               '2014-05-01', '2014-06-01', '2014-07-01', '2014-08-01',\n",
       "               '2014-09-01', '2014-10-01', '2014-11-01', '2014-12-01',\n",
       "               '2015-01-01', '2015-02-01', '2015-03-01', '2015-04-01',\n",
       "               '2015-05-01', '2015-06-01', '2015-07-01', '2015-08-01',\n",
       "               '2015-09-01', '2015-10-01', '2015-11-01', '2015-12-01',\n",
       "               '2016-01-01', '2016-02-01', '2016-03-01', '2016-04-01',\n",
       "               '2016-05-01', '2016-06-01', '2016-07-01', '2016-08-01',\n",
       "               '2016-09-01', '2016-10-01', '2016-11-01', '2016-12-01'],\n",
       "              dtype='datetime64[ns]', name='구분', freq=None)"
      ]
     },
     "execution_count": 21,
     "metadata": {},
     "output_type": "execute_result"
    }
   ],
   "source": [
    "# 인덱스 값을 날짜 형식으로 변환\n",
    "df2.index = pd.to_datetime(df2.index, format = '%Y년%m월')\n",
    "df2.index"
   ]
  },
  {
   "cell_type": "markdown",
   "id": "83012be9",
   "metadata": {},
   "source": [
    "여기서는 %Y년%m월 형식으로 된 df2.index를 pandas의 to_datetime 함수를 통해 datetime object로 변환한다.\n",
    "\n",
    "만약 원본값이 2015-01-01이라면 format을 %Y-%m-%d로 바꾸면 된다."
   ]
  },
  {
   "cell_type": "code",
   "execution_count": 22,
   "id": "5fef0da5",
   "metadata": {},
   "outputs": [
    {
     "data": {
      "text/plain": [
       "DatetimeIndex(['2014-01-01', '2014-02-01', '2014-03-01', '2014-04-01',\n",
       "               '2014-05-01', '2014-06-01', '2014-07-01', '2014-08-01',\n",
       "               '2014-09-01', '2014-10-01', '2014-11-01', '2014-12-01',\n",
       "               '2015-01-01', '2015-02-01', '2015-03-01', '2015-04-01',\n",
       "               '2015-05-01', '2015-06-01', '2015-07-01', '2015-08-01',\n",
       "               '2015-09-01', '2015-10-01', '2015-11-01', '2015-12-01',\n",
       "               '2016-01-01', '2016-02-01', '2016-03-01', '2016-04-01',\n",
       "               '2016-05-01', '2016-06-01', '2016-07-01', '2016-08-01',\n",
       "               '2016-09-01', '2016-10-01', '2016-11-01', '2016-12-01'],\n",
       "              dtype='datetime64[ns]', name='구분', freq=None)"
      ]
     },
     "execution_count": 22,
     "metadata": {},
     "output_type": "execute_result"
    }
   ],
   "source": [
    "df2.index"
   ]
  },
  {
   "cell_type": "markdown",
   "id": "bdbbd21b",
   "metadata": {},
   "source": [
    "dtype이 'object'에서 'datetime64[ns]'로 바뀐 것을 알 수 있다."
   ]
  },
  {
   "cell_type": "code",
   "execution_count": 23,
   "id": "9f1d9cab",
   "metadata": {},
   "outputs": [],
   "source": [
    "df2.set_index([df2.index.year, df2.index.month], inplace = True)"
   ]
  },
  {
   "cell_type": "markdown",
   "id": "a5490526",
   "metadata": {},
   "source": [
    "**set_index( [ A , B , ... ] )** 형식을 이용하면 인덱스를 두 개 이상 설정할 수 있다.\n",
    "\n",
    "본 분석에서는 날짜 형식으로 변환한 한 개의 인덱스를 년도와 월별로 변환해서 두 개의 인덱스를 설정했다.\n",
    "\n",
    "**inplace = True**는 변경 사항을 바로 적용한다는 의미이다."
   ]
  },
  {
   "cell_type": "code",
   "execution_count": 24,
   "id": "a7c6f7fc",
   "metadata": {},
   "outputs": [],
   "source": [
    "# 인덱스명 변경(names)\n",
    "df2.index.names = ['년도', '월']"
   ]
  },
  {
   "cell_type": "markdown",
   "id": "b8ad9b4e",
   "metadata": {},
   "source": [
    "데이터 프레임명.index.names = [ 'A', 'B' ] 함수를 이용해서 인덱스 명을 변경할 수 있다."
   ]
  },
  {
   "cell_type": "code",
   "execution_count": 25,
   "id": "0c49a14a",
   "metadata": {},
   "outputs": [
    {
     "data": {
      "text/html": [
       "<div>\n",
       "<style scoped>\n",
       "    .dataframe tbody tr th:only-of-type {\n",
       "        vertical-align: middle;\n",
       "    }\n",
       "\n",
       "    .dataframe tbody tr th {\n",
       "        vertical-align: top;\n",
       "    }\n",
       "\n",
       "    .dataframe thead th {\n",
       "        text-align: right;\n",
       "    }\n",
       "</style>\n",
       "<table border=\"1\" class=\"dataframe\">\n",
       "  <thead>\n",
       "    <tr style=\"text-align: right;\">\n",
       "      <th></th>\n",
       "      <th></th>\n",
       "      <th>사고(건)</th>\n",
       "      <th>사망(명)</th>\n",
       "      <th>부상(명)</th>\n",
       "    </tr>\n",
       "    <tr>\n",
       "      <th>년도</th>\n",
       "      <th>월</th>\n",
       "      <th></th>\n",
       "      <th></th>\n",
       "      <th></th>\n",
       "    </tr>\n",
       "  </thead>\n",
       "  <tbody>\n",
       "    <tr>\n",
       "      <th rowspan=\"5\" valign=\"top\">2014</th>\n",
       "      <th>1</th>\n",
       "      <td>169</td>\n",
       "      <td>7</td>\n",
       "      <td>347</td>\n",
       "    </tr>\n",
       "    <tr>\n",
       "      <th>2</th>\n",
       "      <td>145</td>\n",
       "      <td>3</td>\n",
       "      <td>268</td>\n",
       "    </tr>\n",
       "    <tr>\n",
       "      <th>3</th>\n",
       "      <td>206</td>\n",
       "      <td>12</td>\n",
       "      <td>358</td>\n",
       "    </tr>\n",
       "    <tr>\n",
       "      <th>4</th>\n",
       "      <td>182</td>\n",
       "      <td>4</td>\n",
       "      <td>360</td>\n",
       "    </tr>\n",
       "    <tr>\n",
       "      <th>5</th>\n",
       "      <td>218</td>\n",
       "      <td>17</td>\n",
       "      <td>474</td>\n",
       "    </tr>\n",
       "  </tbody>\n",
       "</table>\n",
       "</div>"
      ],
      "text/plain": [
       "        사고(건)  사망(명)  부상(명)\n",
       "년도   월                     \n",
       "2014 1    169      7    347\n",
       "     2    145      3    268\n",
       "     3    206     12    358\n",
       "     4    182      4    360\n",
       "     5    218     17    474"
      ]
     },
     "execution_count": 25,
     "metadata": {},
     "output_type": "execute_result"
    }
   ],
   "source": [
    "df2.head()"
   ]
  },
  {
   "cell_type": "markdown",
   "id": "e192d40c",
   "metadata": {},
   "source": [
    "## 4. 년도 및 월별 평균 사망자 수 확인"
   ]
  },
  {
   "cell_type": "markdown",
   "id": "54f19464",
   "metadata": {},
   "source": [
    "### 방법1"
   ]
  },
  {
   "cell_type": "code",
   "execution_count": 26,
   "id": "3e8765d5",
   "metadata": {},
   "outputs": [
    {
     "data": {
      "text/html": [
       "<div>\n",
       "<style scoped>\n",
       "    .dataframe tbody tr th:only-of-type {\n",
       "        vertical-align: middle;\n",
       "    }\n",
       "\n",
       "    .dataframe tbody tr th {\n",
       "        vertical-align: top;\n",
       "    }\n",
       "\n",
       "    .dataframe thead th {\n",
       "        text-align: right;\n",
       "    }\n",
       "</style>\n",
       "<table border=\"1\" class=\"dataframe\">\n",
       "  <thead>\n",
       "    <tr style=\"text-align: right;\">\n",
       "      <th></th>\n",
       "      <th>사망(명)</th>\n",
       "    </tr>\n",
       "    <tr>\n",
       "      <th>년도</th>\n",
       "      <th></th>\n",
       "    </tr>\n",
       "  </thead>\n",
       "  <tbody>\n",
       "    <tr>\n",
       "      <th>2014</th>\n",
       "      <td>10.833333</td>\n",
       "    </tr>\n",
       "    <tr>\n",
       "      <th>2015</th>\n",
       "      <td>9.000000</td>\n",
       "    </tr>\n",
       "    <tr>\n",
       "      <th>2016</th>\n",
       "      <td>8.166667</td>\n",
       "    </tr>\n",
       "  </tbody>\n",
       "</table>\n",
       "</div>"
      ],
      "text/plain": [
       "          사망(명)\n",
       "년도             \n",
       "2014  10.833333\n",
       "2015   9.000000\n",
       "2016   8.166667"
      ]
     },
     "execution_count": 26,
     "metadata": {},
     "output_type": "execute_result"
    }
   ],
   "source": [
    "pd.pivot_table(data = df2.reset_index(), index = '년도', values = '사망(명)', aggfunc='mean')"
   ]
  },
  {
   "cell_type": "code",
   "execution_count": 27,
   "id": "ab2d18f1",
   "metadata": {},
   "outputs": [
    {
     "data": {
      "text/html": [
       "<div>\n",
       "<style scoped>\n",
       "    .dataframe tbody tr th:only-of-type {\n",
       "        vertical-align: middle;\n",
       "    }\n",
       "\n",
       "    .dataframe tbody tr th {\n",
       "        vertical-align: top;\n",
       "    }\n",
       "\n",
       "    .dataframe thead th {\n",
       "        text-align: right;\n",
       "    }\n",
       "</style>\n",
       "<table border=\"1\" class=\"dataframe\">\n",
       "  <thead>\n",
       "    <tr style=\"text-align: right;\">\n",
       "      <th></th>\n",
       "      <th>사망(명)</th>\n",
       "    </tr>\n",
       "    <tr>\n",
       "      <th>월</th>\n",
       "      <th></th>\n",
       "    </tr>\n",
       "  </thead>\n",
       "  <tbody>\n",
       "    <tr>\n",
       "      <th>1</th>\n",
       "      <td>6.666667</td>\n",
       "    </tr>\n",
       "    <tr>\n",
       "      <th>2</th>\n",
       "      <td>5.666667</td>\n",
       "    </tr>\n",
       "    <tr>\n",
       "      <th>3</th>\n",
       "      <td>7.666667</td>\n",
       "    </tr>\n",
       "    <tr>\n",
       "      <th>4</th>\n",
       "      <td>7.000000</td>\n",
       "    </tr>\n",
       "    <tr>\n",
       "      <th>5</th>\n",
       "      <td>13.000000</td>\n",
       "    </tr>\n",
       "    <tr>\n",
       "      <th>6</th>\n",
       "      <td>11.000000</td>\n",
       "    </tr>\n",
       "    <tr>\n",
       "      <th>7</th>\n",
       "      <td>10.000000</td>\n",
       "    </tr>\n",
       "    <tr>\n",
       "      <th>8</th>\n",
       "      <td>11.666667</td>\n",
       "    </tr>\n",
       "    <tr>\n",
       "      <th>9</th>\n",
       "      <td>12.666667</td>\n",
       "    </tr>\n",
       "    <tr>\n",
       "      <th>10</th>\n",
       "      <td>12.666667</td>\n",
       "    </tr>\n",
       "    <tr>\n",
       "      <th>11</th>\n",
       "      <td>6.000000</td>\n",
       "    </tr>\n",
       "    <tr>\n",
       "      <th>12</th>\n",
       "      <td>8.000000</td>\n",
       "    </tr>\n",
       "  </tbody>\n",
       "</table>\n",
       "</div>"
      ],
      "text/plain": [
       "        사망(명)\n",
       "월            \n",
       "1    6.666667\n",
       "2    5.666667\n",
       "3    7.666667\n",
       "4    7.000000\n",
       "5   13.000000\n",
       "6   11.000000\n",
       "7   10.000000\n",
       "8   11.666667\n",
       "9   12.666667\n",
       "10  12.666667\n",
       "11   6.000000\n",
       "12   8.000000"
      ]
     },
     "execution_count": 27,
     "metadata": {},
     "output_type": "execute_result"
    }
   ],
   "source": [
    "pd.pivot_table(data=df2.reset_index(), index = '월', values = '사망(명)', aggfunc='mean')"
   ]
  },
  {
   "cell_type": "markdown",
   "id": "e6ec114f",
   "metadata": {},
   "source": [
    "방법1은 해당 데이터 프레임의 인덱스를 재설정해서 피벗 테이블을 구하는 방법이다."
   ]
  },
  {
   "cell_type": "markdown",
   "id": "a7236208",
   "metadata": {},
   "source": [
    "### 방법2\n",
    "groupby() 함수를 이용해서 그룹별로 통계량을 구할 수 있다.\n",
    "- 사용법: groupby( '기준 컬럼명' ).요약통계함수( )[ '집계될 컬럼명' ]\n",
    "- '기준 컬럼명'별 '계산될 컬럼명'을 파악한다.\n",
    "\n",
    "- 중괄호를 두 번( [ [ ] ] )하면 데이터 프레임 형식으로 얻을 수 있다."
   ]
  },
  {
   "cell_type": "code",
   "execution_count": 43,
   "id": "39006732",
   "metadata": {},
   "outputs": [
    {
     "data": {
      "text/plain": [
       "년도\n",
       "2014    10.833333\n",
       "2015     9.000000\n",
       "2016     8.166667\n",
       "Name: 사망(명), dtype: float64"
      ]
     },
     "execution_count": 43,
     "metadata": {},
     "output_type": "execute_result"
    }
   ],
   "source": [
    "df2.groupby('년도').mean()['사망(명)']"
   ]
  },
  {
   "cell_type": "code",
   "execution_count": 42,
   "id": "b94d2100",
   "metadata": {},
   "outputs": [
    {
     "data": {
      "text/html": [
       "<div>\n",
       "<style scoped>\n",
       "    .dataframe tbody tr th:only-of-type {\n",
       "        vertical-align: middle;\n",
       "    }\n",
       "\n",
       "    .dataframe tbody tr th {\n",
       "        vertical-align: top;\n",
       "    }\n",
       "\n",
       "    .dataframe thead th {\n",
       "        text-align: right;\n",
       "    }\n",
       "</style>\n",
       "<table border=\"1\" class=\"dataframe\">\n",
       "  <thead>\n",
       "    <tr style=\"text-align: right;\">\n",
       "      <th></th>\n",
       "      <th>사망(명)</th>\n",
       "    </tr>\n",
       "    <tr>\n",
       "      <th>월</th>\n",
       "      <th></th>\n",
       "    </tr>\n",
       "  </thead>\n",
       "  <tbody>\n",
       "    <tr>\n",
       "      <th>1</th>\n",
       "      <td>6.666667</td>\n",
       "    </tr>\n",
       "    <tr>\n",
       "      <th>2</th>\n",
       "      <td>5.666667</td>\n",
       "    </tr>\n",
       "    <tr>\n",
       "      <th>3</th>\n",
       "      <td>7.666667</td>\n",
       "    </tr>\n",
       "    <tr>\n",
       "      <th>4</th>\n",
       "      <td>7.000000</td>\n",
       "    </tr>\n",
       "    <tr>\n",
       "      <th>5</th>\n",
       "      <td>13.000000</td>\n",
       "    </tr>\n",
       "    <tr>\n",
       "      <th>6</th>\n",
       "      <td>11.000000</td>\n",
       "    </tr>\n",
       "    <tr>\n",
       "      <th>7</th>\n",
       "      <td>10.000000</td>\n",
       "    </tr>\n",
       "    <tr>\n",
       "      <th>8</th>\n",
       "      <td>11.666667</td>\n",
       "    </tr>\n",
       "    <tr>\n",
       "      <th>9</th>\n",
       "      <td>12.666667</td>\n",
       "    </tr>\n",
       "    <tr>\n",
       "      <th>10</th>\n",
       "      <td>12.666667</td>\n",
       "    </tr>\n",
       "    <tr>\n",
       "      <th>11</th>\n",
       "      <td>6.000000</td>\n",
       "    </tr>\n",
       "    <tr>\n",
       "      <th>12</th>\n",
       "      <td>8.000000</td>\n",
       "    </tr>\n",
       "  </tbody>\n",
       "</table>\n",
       "</div>"
      ],
      "text/plain": [
       "        사망(명)\n",
       "월            \n",
       "1    6.666667\n",
       "2    5.666667\n",
       "3    7.666667\n",
       "4    7.000000\n",
       "5   13.000000\n",
       "6   11.000000\n",
       "7   10.000000\n",
       "8   11.666667\n",
       "9   12.666667\n",
       "10  12.666667\n",
       "11   6.000000\n",
       "12   8.000000"
      ]
     },
     "execution_count": 42,
     "metadata": {},
     "output_type": "execute_result"
    }
   ],
   "source": [
    "df2.groupby('월').mean()[['사망(명)']]"
   ]
  },
  {
   "cell_type": "code",
   "execution_count": 30,
   "id": "c27665ef",
   "metadata": {},
   "outputs": [
    {
     "data": {
      "text/html": [
       "<div>\n",
       "<style scoped>\n",
       "    .dataframe tbody tr th:only-of-type {\n",
       "        vertical-align: middle;\n",
       "    }\n",
       "\n",
       "    .dataframe tbody tr th {\n",
       "        vertical-align: top;\n",
       "    }\n",
       "\n",
       "    .dataframe thead th {\n",
       "        text-align: right;\n",
       "    }\n",
       "</style>\n",
       "<table border=\"1\" class=\"dataframe\">\n",
       "  <thead>\n",
       "    <tr style=\"text-align: right;\">\n",
       "      <th></th>\n",
       "      <th>사고(건)</th>\n",
       "      <th>사망(명)</th>\n",
       "      <th>부상(명)</th>\n",
       "    </tr>\n",
       "    <tr>\n",
       "      <th>년도</th>\n",
       "      <th></th>\n",
       "      <th></th>\n",
       "      <th></th>\n",
       "    </tr>\n",
       "  </thead>\n",
       "  <tbody>\n",
       "    <tr>\n",
       "      <th>2014</th>\n",
       "      <td>202.166667</td>\n",
       "      <td>10.833333</td>\n",
       "      <td>389.916667</td>\n",
       "    </tr>\n",
       "    <tr>\n",
       "      <th>2015</th>\n",
       "      <td>225.083333</td>\n",
       "      <td>9.000000</td>\n",
       "      <td>460.416667</td>\n",
       "    </tr>\n",
       "    <tr>\n",
       "      <th>2016</th>\n",
       "      <td>202.750000</td>\n",
       "      <td>8.166667</td>\n",
       "      <td>408.250000</td>\n",
       "    </tr>\n",
       "  </tbody>\n",
       "</table>\n",
       "</div>"
      ],
      "text/plain": [
       "           사고(건)      사망(명)       부상(명)\n",
       "년도                                     \n",
       "2014  202.166667  10.833333  389.916667\n",
       "2015  225.083333   9.000000  460.416667\n",
       "2016  202.750000   8.166667  408.250000"
      ]
     },
     "execution_count": 30,
     "metadata": {},
     "output_type": "execute_result"
    }
   ],
   "source": [
    "df2.groupby('년도').mean()"
   ]
  },
  {
   "cell_type": "code",
   "execution_count": 31,
   "id": "5f396a4a",
   "metadata": {},
   "outputs": [
    {
     "data": {
      "text/html": [
       "<div>\n",
       "<style scoped>\n",
       "    .dataframe tbody tr th:only-of-type {\n",
       "        vertical-align: middle;\n",
       "    }\n",
       "\n",
       "    .dataframe tbody tr th {\n",
       "        vertical-align: top;\n",
       "    }\n",
       "\n",
       "    .dataframe thead th {\n",
       "        text-align: right;\n",
       "    }\n",
       "</style>\n",
       "<table border=\"1\" class=\"dataframe\">\n",
       "  <thead>\n",
       "    <tr style=\"text-align: right;\">\n",
       "      <th></th>\n",
       "      <th>사망(명)</th>\n",
       "    </tr>\n",
       "    <tr>\n",
       "      <th>월</th>\n",
       "      <th></th>\n",
       "    </tr>\n",
       "  </thead>\n",
       "  <tbody>\n",
       "    <tr>\n",
       "      <th>1</th>\n",
       "      <td>6.666667</td>\n",
       "    </tr>\n",
       "    <tr>\n",
       "      <th>2</th>\n",
       "      <td>5.666667</td>\n",
       "    </tr>\n",
       "    <tr>\n",
       "      <th>3</th>\n",
       "      <td>7.666667</td>\n",
       "    </tr>\n",
       "    <tr>\n",
       "      <th>4</th>\n",
       "      <td>7.000000</td>\n",
       "    </tr>\n",
       "    <tr>\n",
       "      <th>5</th>\n",
       "      <td>13.000000</td>\n",
       "    </tr>\n",
       "    <tr>\n",
       "      <th>6</th>\n",
       "      <td>11.000000</td>\n",
       "    </tr>\n",
       "    <tr>\n",
       "      <th>7</th>\n",
       "      <td>10.000000</td>\n",
       "    </tr>\n",
       "    <tr>\n",
       "      <th>8</th>\n",
       "      <td>11.666667</td>\n",
       "    </tr>\n",
       "    <tr>\n",
       "      <th>9</th>\n",
       "      <td>12.666667</td>\n",
       "    </tr>\n",
       "    <tr>\n",
       "      <th>10</th>\n",
       "      <td>12.666667</td>\n",
       "    </tr>\n",
       "    <tr>\n",
       "      <th>11</th>\n",
       "      <td>6.000000</td>\n",
       "    </tr>\n",
       "    <tr>\n",
       "      <th>12</th>\n",
       "      <td>8.000000</td>\n",
       "    </tr>\n",
       "  </tbody>\n",
       "</table>\n",
       "</div>"
      ],
      "text/plain": [
       "        사망(명)\n",
       "월            \n",
       "1    6.666667\n",
       "2    5.666667\n",
       "3    7.666667\n",
       "4    7.000000\n",
       "5   13.000000\n",
       "6   11.000000\n",
       "7   10.000000\n",
       "8   11.666667\n",
       "9   12.666667\n",
       "10  12.666667\n",
       "11   6.000000\n",
       "12   8.000000"
      ]
     },
     "execution_count": 31,
     "metadata": {},
     "output_type": "execute_result"
    }
   ],
   "source": [
    "df2.groupby('월').mean()[['사망(명)']]"
   ]
  },
  {
   "cell_type": "markdown",
   "id": "a514f3f8",
   "metadata": {},
   "source": [
    "## 5. 2016년 사고대비 사망율 구하기"
   ]
  },
  {
   "cell_type": "code",
   "execution_count": 32,
   "id": "5f6fa8ec",
   "metadata": {},
   "outputs": [
    {
     "data": {
      "text/html": [
       "<div>\n",
       "<style scoped>\n",
       "    .dataframe tbody tr th:only-of-type {\n",
       "        vertical-align: middle;\n",
       "    }\n",
       "\n",
       "    .dataframe tbody tr th {\n",
       "        vertical-align: top;\n",
       "    }\n",
       "\n",
       "    .dataframe thead th {\n",
       "        text-align: right;\n",
       "    }\n",
       "</style>\n",
       "<table border=\"1\" class=\"dataframe\">\n",
       "  <thead>\n",
       "    <tr style=\"text-align: right;\">\n",
       "      <th></th>\n",
       "      <th>사고(건)</th>\n",
       "      <th>사망(명)</th>\n",
       "      <th>부상(명)</th>\n",
       "    </tr>\n",
       "    <tr>\n",
       "      <th>월</th>\n",
       "      <th></th>\n",
       "      <th></th>\n",
       "      <th></th>\n",
       "    </tr>\n",
       "  </thead>\n",
       "  <tbody>\n",
       "    <tr>\n",
       "      <th>1</th>\n",
       "      <td>192</td>\n",
       "      <td>5</td>\n",
       "      <td>387</td>\n",
       "    </tr>\n",
       "    <tr>\n",
       "      <th>2</th>\n",
       "      <td>174</td>\n",
       "      <td>6</td>\n",
       "      <td>328</td>\n",
       "    </tr>\n",
       "    <tr>\n",
       "      <th>3</th>\n",
       "      <td>217</td>\n",
       "      <td>7</td>\n",
       "      <td>435</td>\n",
       "    </tr>\n",
       "    <tr>\n",
       "      <th>4</th>\n",
       "      <td>216</td>\n",
       "      <td>7</td>\n",
       "      <td>419</td>\n",
       "    </tr>\n",
       "    <tr>\n",
       "      <th>5</th>\n",
       "      <td>239</td>\n",
       "      <td>13</td>\n",
       "      <td>522</td>\n",
       "    </tr>\n",
       "    <tr>\n",
       "      <th>6</th>\n",
       "      <td>200</td>\n",
       "      <td>12</td>\n",
       "      <td>362</td>\n",
       "    </tr>\n",
       "    <tr>\n",
       "      <th>7</th>\n",
       "      <td>227</td>\n",
       "      <td>9</td>\n",
       "      <td>460</td>\n",
       "    </tr>\n",
       "    <tr>\n",
       "      <th>8</th>\n",
       "      <td>230</td>\n",
       "      <td>7</td>\n",
       "      <td>490</td>\n",
       "    </tr>\n",
       "    <tr>\n",
       "      <th>9</th>\n",
       "      <td>187</td>\n",
       "      <td>13</td>\n",
       "      <td>347</td>\n",
       "    </tr>\n",
       "    <tr>\n",
       "      <th>10</th>\n",
       "      <td>183</td>\n",
       "      <td>10</td>\n",
       "      <td>367</td>\n",
       "    </tr>\n",
       "    <tr>\n",
       "      <th>11</th>\n",
       "      <td>200</td>\n",
       "      <td>5</td>\n",
       "      <td>418</td>\n",
       "    </tr>\n",
       "    <tr>\n",
       "      <th>12</th>\n",
       "      <td>168</td>\n",
       "      <td>4</td>\n",
       "      <td>364</td>\n",
       "    </tr>\n",
       "  </tbody>\n",
       "</table>\n",
       "</div>"
      ],
      "text/plain": [
       "    사고(건)  사망(명)  부상(명)\n",
       "월                      \n",
       "1     192      5    387\n",
       "2     174      6    328\n",
       "3     217      7    435\n",
       "4     216      7    419\n",
       "5     239     13    522\n",
       "6     200     12    362\n",
       "7     227      9    460\n",
       "8     230      7    490\n",
       "9     187     13    347\n",
       "10    183     10    367\n",
       "11    200      5    418\n",
       "12    168      4    364"
      ]
     },
     "execution_count": 32,
     "metadata": {},
     "output_type": "execute_result"
    }
   ],
   "source": [
    "# 2016년만 추출\n",
    "df2.loc[2016]"
   ]
  },
  {
   "cell_type": "code",
   "execution_count": 33,
   "id": "08d4ea8e",
   "metadata": {},
   "outputs": [
    {
     "data": {
      "text/plain": [
       "0.04027949034114262"
      ]
     },
     "execution_count": 33,
     "metadata": {},
     "output_type": "execute_result"
    }
   ],
   "source": [
    "# 2016년 사망자 수의 총합 / 2016년 사고 건수의 총합\n",
    "df2.loc[2016]['사망(명)'].sum() / df2.loc[2016]['사고(건)'].sum()"
   ]
  },
  {
   "cell_type": "markdown",
   "id": "67b1ce50",
   "metadata": {},
   "source": [
    "## 6. 2014년도 월별 사망, 부상 데이터를 BarChart로 그리기"
   ]
  },
  {
   "cell_type": "code",
   "execution_count": 34,
   "id": "47fdb816",
   "metadata": {},
   "outputs": [
    {
     "data": {
      "text/html": [
       "<div>\n",
       "<style scoped>\n",
       "    .dataframe tbody tr th:only-of-type {\n",
       "        vertical-align: middle;\n",
       "    }\n",
       "\n",
       "    .dataframe tbody tr th {\n",
       "        vertical-align: top;\n",
       "    }\n",
       "\n",
       "    .dataframe thead th {\n",
       "        text-align: right;\n",
       "    }\n",
       "</style>\n",
       "<table border=\"1\" class=\"dataframe\">\n",
       "  <thead>\n",
       "    <tr style=\"text-align: right;\">\n",
       "      <th></th>\n",
       "      <th>사고(건)</th>\n",
       "      <th>사망(명)</th>\n",
       "      <th>부상(명)</th>\n",
       "    </tr>\n",
       "    <tr>\n",
       "      <th>월</th>\n",
       "      <th></th>\n",
       "      <th></th>\n",
       "      <th></th>\n",
       "    </tr>\n",
       "  </thead>\n",
       "  <tbody>\n",
       "    <tr>\n",
       "      <th>1</th>\n",
       "      <td>169</td>\n",
       "      <td>7</td>\n",
       "      <td>347</td>\n",
       "    </tr>\n",
       "    <tr>\n",
       "      <th>2</th>\n",
       "      <td>145</td>\n",
       "      <td>3</td>\n",
       "      <td>268</td>\n",
       "    </tr>\n",
       "    <tr>\n",
       "      <th>3</th>\n",
       "      <td>206</td>\n",
       "      <td>12</td>\n",
       "      <td>358</td>\n",
       "    </tr>\n",
       "    <tr>\n",
       "      <th>4</th>\n",
       "      <td>182</td>\n",
       "      <td>4</td>\n",
       "      <td>360</td>\n",
       "    </tr>\n",
       "    <tr>\n",
       "      <th>5</th>\n",
       "      <td>218</td>\n",
       "      <td>17</td>\n",
       "      <td>474</td>\n",
       "    </tr>\n",
       "    <tr>\n",
       "      <th>6</th>\n",
       "      <td>233</td>\n",
       "      <td>13</td>\n",
       "      <td>457</td>\n",
       "    </tr>\n",
       "    <tr>\n",
       "      <th>7</th>\n",
       "      <td>229</td>\n",
       "      <td>14</td>\n",
       "      <td>431</td>\n",
       "    </tr>\n",
       "    <tr>\n",
       "      <th>8</th>\n",
       "      <td>222</td>\n",
       "      <td>9</td>\n",
       "      <td>447</td>\n",
       "    </tr>\n",
       "    <tr>\n",
       "      <th>9</th>\n",
       "      <td>225</td>\n",
       "      <td>15</td>\n",
       "      <td>430</td>\n",
       "    </tr>\n",
       "    <tr>\n",
       "      <th>10</th>\n",
       "      <td>210</td>\n",
       "      <td>14</td>\n",
       "      <td>392</td>\n",
       "    </tr>\n",
       "    <tr>\n",
       "      <th>11</th>\n",
       "      <td>209</td>\n",
       "      <td>10</td>\n",
       "      <td>386</td>\n",
       "    </tr>\n",
       "    <tr>\n",
       "      <th>12</th>\n",
       "      <td>178</td>\n",
       "      <td>12</td>\n",
       "      <td>329</td>\n",
       "    </tr>\n",
       "  </tbody>\n",
       "</table>\n",
       "</div>"
      ],
      "text/plain": [
       "    사고(건)  사망(명)  부상(명)\n",
       "월                      \n",
       "1     169      7    347\n",
       "2     145      3    268\n",
       "3     206     12    358\n",
       "4     182      4    360\n",
       "5     218     17    474\n",
       "6     233     13    457\n",
       "7     229     14    431\n",
       "8     222      9    447\n",
       "9     225     15    430\n",
       "10    210     14    392\n",
       "11    209     10    386\n",
       "12    178     12    329"
      ]
     },
     "execution_count": 34,
     "metadata": {},
     "output_type": "execute_result"
    }
   ],
   "source": [
    "# 2014년만 추출\n",
    "df3 = df2.loc[2014]\n",
    "df3"
   ]
  },
  {
   "cell_type": "code",
   "execution_count": 35,
   "id": "d9b01272",
   "metadata": {},
   "outputs": [
    {
     "data": {
      "image/png": "[encoded data removed]",
      "text/plain": [
       "<Figure size 432x288 with 1 Axes>"
      ]
     },
     "metadata": {},
     "output_type": "display_data"
    }
   ],
   "source": [
    "plt.style.use('ggplot')\n",
    "df3[['사망(명)', '부상(명)']].plot(kind = 'bar', rot=0)\n",
    "plt.title('2014년 월별 사망자와 부상자 수')\n",
    "plt.show()"
   ]
  },
  {
   "cell_type": "markdown",
   "id": "b1a2e6db",
   "metadata": {},
   "source": [
    "rot 는 X축 라벨의 회전(rotation) 각도를 설정하는데 사용한다.\n",
    "\n",
    "**결과**\n",
    "\n",
    "2014년 1년동안 졸음운전으로 발생한 피해자 수는 사망자보다 부상자가 압도적으로 많다.\n",
    "\n",
    "가장 많은 달은 5월과 6월이고 가장 적은 달은 2월이다.\n",
    "\n",
    "사망자 수는 큰 차이는 없고 가장 많은 사망자 수가 있는 달은 5월이다. 가장 적은 달은 2월과 4월로 보인다."
   ]
  },
  {
   "cell_type": "markdown",
   "id": "5b81034b",
   "metadata": {},
   "source": [
    "## 7. 2015년 대비  사망이 가장 많이 증가/감소한 2016년도 월을 구하기\n",
    "\n",
    "- 방법: 2015년보다 2016년에 더 많은 사망자가 발생한 달을 구해야 하므로 (2016년의 사망자 수 - 2015년의 사망자 수)를 해서 가장 높은 양수 값을 갖는 달을 찾는다.\n",
    "\n",
    "### 값이 높은 n번째까지 출력 : nlargest\n",
    "\n",
    "- 형식: 데이터프레임.nlargest(n, columns, keep='first')\n",
    "\n",
    "    - n : 상위 몇개까지 나타낼 것인가\n",
    "\n",
    "    - keep='first' : 동등한 값이 있다면 제일 먼저 나온 값을 보여준다.\n",
    "\n",
    "    - keep='all' : 동등한 값을 모두 표시한다.\n",
    "\n",
    "데이터프레임의 경우 우선 순위에 따라 컬럼(columns)을 명시해 줄 수 있다.\n",
    "\n",
    "\n",
    "### 값이 작은 n번째까지 출력 : nsmallest\n",
    "\n",
    "nlargest() 함수와 정반대의 개념이고 형식은 똑같다."
   ]
  },
  {
   "cell_type": "code",
   "execution_count": 36,
   "id": "88c66e0e",
   "metadata": {},
   "outputs": [
    {
     "data": {
      "text/plain": [
       "월\n",
       "1     -3\n",
       "2     -2\n",
       "3      3\n",
       "4     -3\n",
       "5      4\n",
       "6      4\n",
       "7      2\n",
       "8    -12\n",
       "9      3\n",
       "10    -4\n",
       "11     2\n",
       "12    -4\n",
       "Name: 사망(명), dtype: int64"
      ]
     },
     "execution_count": 36,
     "metadata": {},
     "output_type": "execute_result"
    }
   ],
   "source": [
    "df2.loc[2016, '사망(명)'] - df2.loc[2015, '사망(명)']"
   ]
  },
  {
   "cell_type": "code",
   "execution_count": 37,
   "id": "b63ebb78",
   "metadata": {},
   "outputs": [
    {
     "data": {
      "text/plain": [
       "월\n",
       "5    4\n",
       "6    4\n",
       "Name: 사망(명), dtype: int64"
      ]
     },
     "execution_count": 37,
     "metadata": {},
     "output_type": "execute_result"
    }
   ],
   "source": [
    "(df2.loc[2016, '사망(명)'] - df2.loc[2015, '사망(명)']).nlargest(1, keep='all')"
   ]
  },
  {
   "cell_type": "code",
   "execution_count": 38,
   "id": "b7de1660",
   "metadata": {},
   "outputs": [
    {
     "data": {
      "text/plain": [
       "월\n",
       "8    -12\n",
       "10    -4\n",
       "12    -4\n",
       "Name: 사망(명), dtype: int64"
      ]
     },
     "execution_count": 38,
     "metadata": {},
     "output_type": "execute_result"
    }
   ],
   "source": [
    "(df2.loc[2016, '사망(명)'] - df2.loc[2015, '사망(명)']).nsmallest(2, keep='all')"
   ]
  },
  {
   "cell_type": "markdown",
   "id": "0ab0705f",
   "metadata": {},
   "source": [
    "**결과**\n",
    "\n",
    "2015년에 비해 2016년에 사망자 수가 가장 많이 증가한 달은 5월과 6월이다. 작년보다 4명 더 사망했다.\n",
    "\n",
    "반대로 2015년에 비해 2016에 사망자 수가 많이 감소한 달은 8월이다. 작년과 12명이 차이가 난다."
   ]
  },
  {
   "cell_type": "markdown",
   "id": "5dfe6bbc",
   "metadata": {},
   "source": [
    "## 8. 3년간 졸음운전 교통사고 추이(선 그래프)"
   ]
  },
  {
   "cell_type": "code",
   "execution_count": 39,
   "id": "e871efb3",
   "metadata": {},
   "outputs": [
    {
     "data": {
      "text/html": [
       "<div>\n",
       "<style scoped>\n",
       "    .dataframe tbody tr th:only-of-type {\n",
       "        vertical-align: middle;\n",
       "    }\n",
       "\n",
       "    .dataframe tbody tr th {\n",
       "        vertical-align: top;\n",
       "    }\n",
       "\n",
       "    .dataframe thead th {\n",
       "        text-align: right;\n",
       "    }\n",
       "</style>\n",
       "<table border=\"1\" class=\"dataframe\">\n",
       "  <thead>\n",
       "    <tr style=\"text-align: right;\">\n",
       "      <th></th>\n",
       "      <th>사고(건)</th>\n",
       "      <th>사망(명)</th>\n",
       "      <th>부상(명)</th>\n",
       "    </tr>\n",
       "    <tr>\n",
       "      <th>구분</th>\n",
       "      <th></th>\n",
       "      <th></th>\n",
       "      <th></th>\n",
       "    </tr>\n",
       "  </thead>\n",
       "  <tbody>\n",
       "    <tr>\n",
       "      <th>2014년1월</th>\n",
       "      <td>169</td>\n",
       "      <td>7</td>\n",
       "      <td>347</td>\n",
       "    </tr>\n",
       "    <tr>\n",
       "      <th>2014년2월</th>\n",
       "      <td>145</td>\n",
       "      <td>3</td>\n",
       "      <td>268</td>\n",
       "    </tr>\n",
       "    <tr>\n",
       "      <th>2014년3월</th>\n",
       "      <td>206</td>\n",
       "      <td>12</td>\n",
       "      <td>358</td>\n",
       "    </tr>\n",
       "    <tr>\n",
       "      <th>2014년4월</th>\n",
       "      <td>182</td>\n",
       "      <td>4</td>\n",
       "      <td>360</td>\n",
       "    </tr>\n",
       "    <tr>\n",
       "      <th>2014년5월</th>\n",
       "      <td>218</td>\n",
       "      <td>17</td>\n",
       "      <td>474</td>\n",
       "    </tr>\n",
       "  </tbody>\n",
       "</table>\n",
       "</div>"
      ],
      "text/plain": [
       "         사고(건)  사망(명)  부상(명)\n",
       "구분                          \n",
       "2014년1월    169      7    347\n",
       "2014년2월    145      3    268\n",
       "2014년3월    206     12    358\n",
       "2014년4월    182      4    360\n",
       "2014년5월    218     17    474"
      ]
     },
     "execution_count": 39,
     "metadata": {},
     "output_type": "execute_result"
    }
   ],
   "source": [
    "df1.head()"
   ]
  },
  {
   "cell_type": "code",
   "execution_count": 40,
   "id": "6ca6ff1b",
   "metadata": {},
   "outputs": [
    {
     "data": {
      "image/png": "[encoded data removed]",
      "text/plain": [
       "<Figure size 4760x1960 with 1 Axes>"
      ]
     },
     "metadata": {},
     "output_type": "display_data"
    }
   ],
   "source": [
    "plt.figure(figsize=(17, 7), dpi=280)\n",
    "sns.lineplot(data=df1, palette = 'colorblind', linewidth=2)\n",
    "plt.rc('font', family = 'Malgun Gothic')\n",
    "\n",
    "plt.title('2014년~2016년 졸음운전 교통사고 추이', fontsize = 20)\n",
    "plt.xlabel('시간', fontsize=15)\n",
    "plt.xticks(rotation = 30) # x축 값 30도 회전\n",
    "plt.ylabel('피해자', fontsize=15)\n",
    "plt.legend(fontsize=11, loc='best') # loc='best': 범례를 그래프 상에서 최적의 위치로 자동으로 지정\n",
    "\n",
    "plt.show()"
   ]
  },
  {
   "cell_type": "markdown",
   "id": "70fbc63d",
   "metadata": {},
   "source": [
    "선 그래프 색상은 palette 옵션의 'colorblind' 색상을 이용했다. 선 굵기를 지정하는 옵션은 linewidth이며\n",
    "\n",
    "plt.xticks() 함수의 rotation 옵션으로 x축값을 회전시킬 수 있다.\n",
    "\n",
    "그리고 plt.legend() 함수의 loc= 'best'옵션으로 범례를 그래프 상에서 최적의 위치로 자동으로 지정할 수 있다.\n",
    "\n",
    "**결과**\n",
    "\n",
    "2014년 초부터 2016년 말까지 부상자 수는 큰 변동을 겪었지만 최종적으로 2014년 1월과 2016년 12월을 비교하면 큰 변화는 없다. \n",
    "\n",
    "부상자 수는 2015년 7월경에 가장 많고 2014년 2월에 가장 적다.\n",
    "\n",
    "사고 건수도 마찬가지로 양 끝 값을 보았을 때 큰 변화는 없다. 최대 사고 건수가 있던 날은 2015년 7월이며 최저는 2014년 2월이다. \n",
    "\n",
    "이는 부상자 수 그래프와 같은 결과이고 부상자 수 그래프와 사고 건수 그래프의 경향이 비슷하다는 것을 확인할 수 있다.\n",
    "\n",
    "사망자 수와 부상자 수는 약 300배 정도 차이가 난다. 2015년 8월에 사망자 수가 가장 높게 나왔고 가장 낮은 날은 현재 그래프에서 정확하게 확인하기 어렵다."
   ]
  }
 ],
 "metadata": {
  "kernelspec": {
   "display_name": "Python 3",
   "language": "python",
   "name": "python3"
  },
  "language_info": {
   "codemirror_mode": {
    "name": "ipython",
    "version": 3
   },
   "file_extension": ".py",
   "mimetype": "text/x-python",
   "name": "python",
   "nbconvert_exporter": "python",
   "pygments_lexer": "ipython3",
   "version": "3.8.8"
  }
 },
 "nbformat": 4,
 "nbformat_minor": 5
}
