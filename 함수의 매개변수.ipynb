{
 "cells": [
  {
   "cell_type": "markdown",
   "id": "26e9bd4c-3aa1-4e49-87b7-5a06371d1b44",
   "metadata": {},
   "source": [
    "# 함수의 매개변수 parameter\n",
    "- 함수 내부에서 만든 코드에서 필요한 값을 전달해야 할 때, 이를 매개변수로 받을 수 있다.\n",
    "- 함수를 호출할 때 매개변수를 전달할 수 있고, 전달된 값은 함수에서 정의된 변수에 담긴다."
   ]
  },
  {
   "cell_type": "code",
   "execution_count": 7,
   "id": "16d51f3f-11a6-463c-8c19-db6b3d0e2e47",
   "metadata": {},
   "outputs": [],
   "source": [
    "def func(a, b):\n",
    "    print('parameter:', a, b)"
   ]
  },
  {
   "cell_type": "code",
   "execution_count": 12,
   "id": "1a3d205d-d7e0-4596-943b-06072239a01a",
   "metadata": {},
   "outputs": [
    {
     "name": "stdout",
     "output_type": "stream",
     "text": [
      "parameter: 10 20\n",
      "parameter: Hello Bye\n"
     ]
    }
   ],
   "source": [
    "func(10, 20)\n",
    "func('Hello', 'Bye')"
   ]
  },
  {
   "cell_type": "markdown",
   "id": "bc0e3ac2-0cca-457e-be94-fcfe7a42bd23",
   "metadata": {
    "tags": []
   },
   "source": [
    "## 1) 기본값\n",
    "\n",
    "- 기본값을 설정해놓으면 함수 호출 시 값을 전달하지 않았을 경우, 기본값이 매개변수에 저장된다."
   ]
  },
  {
   "cell_type": "code",
   "execution_count": 13,
   "id": "ce4aa736-61aa-4ba8-940f-e67b57178204",
   "metadata": {},
   "outputs": [
    {
     "name": "stdout",
     "output_type": "stream",
     "text": [
      "6 2 8\n",
      "2 4 3\n"
     ]
    }
   ],
   "source": [
    "def fun1(a=1, b=2, c=3) : # 기본값: 1, 2, 3\n",
    "    print(a,b,c)\n",
    "\n",
    "fun1(6,2,8)   # 6 2 8\n",
    "fun1(2,4)      # 2 4 3"
   ]
  },
  {
   "cell_type": "markdown",
   "id": "5bfac724-ccd5-4c22-8e35-b6d4f06ac400",
   "metadata": {},
   "source": [
    "- 매개변수의 개수에 맞게 전달되면 전달된 값이 변수에 저장된다.\n",
    "- 개수에 맞지 않게 값이 전달되면 c에 설정된 기본값 3이 변수에 저장된다.\n",
    "- 모든 변수에 기본값으 주지 않을 거라면 기본값이 설정되지 않은 매개변수가 앞쪽으로 와야한다. ★"
   ]
  },
  {
   "cell_type": "code",
   "execution_count": 16,
   "id": "f86d2e1f-6846-406f-8be9-d3a98f9b05c6",
   "metadata": {},
   "outputs": [
    {
     "ename": "SyntaxError",
     "evalue": "non-default argument follows default argument (<ipython-input-16-ae45613ddffa>, line 1)",
     "output_type": "error",
     "traceback": [
      "\u001b[1;36m  File \u001b[1;32m\"<ipython-input-16-ae45613ddffa>\"\u001b[1;36m, line \u001b[1;32m1\u001b[0m\n\u001b[1;33m    def fun1(a=2, b, c):\u001b[0m\n\u001b[1;37m             ^\u001b[0m\n\u001b[1;31mSyntaxError\u001b[0m\u001b[1;31m:\u001b[0m non-default argument follows default argument\n"
     ]
    }
   ],
   "source": [
    "def fun1(a=2, b, c):\n",
    "    print(a,b,c)"
   ]
  },
  {
   "cell_type": "markdown",
   "id": "9e3669f0-4f99-4032-bdc2-1e0ad9d87526",
   "metadata": {},
   "source": [
    "기본값이 설정되지 않은 b와 c가 앞쪽으로 와야한다."
   ]
  },
  {
   "cell_type": "code",
   "execution_count": 17,
   "id": "add5da66-f035-485f-8dcd-954aec02db70",
   "metadata": {},
   "outputs": [],
   "source": [
    "def func1(a, b=1, c=2):\n",
    "    print(a,b,c)"
   ]
  },
  {
   "cell_type": "markdown",
   "id": "990dd5bb-b959-4839-b5fb-54ad31dbe2c4",
   "metadata": {},
   "source": [
    "바르게 작성된 함수 구문이다. 기본값이 지정된 b와 c가 뒤에 와야 한다."
   ]
  },
  {
   "cell_type": "markdown",
   "id": "fbbe19ac-641b-4661-890d-4e973f6f4431",
   "metadata": {},
   "source": [
    "### 매개변수의 이름으로 값을 지정하고 호출하기\n",
    "- 함수를 호출하 때, 값을 순서대로 적지 않고 매개변수의 이름을 적고 값을 전달할 수도 있다.\n",
    "- 기본값이 설정되지 않은 변수가 앞에 와야하고, 한 변수에 중복해서 값을 넣을 수 없다."
   ]
  },
  {
   "cell_type": "markdown",
   "id": "53abc762-fb7e-4812-b8ef-3aa5c86d0eab",
   "metadata": {},
   "source": [
    "fun1(b=3, a=4, 1)   # 에러 _ 기본값이 정의되지 않은 변수가 앞에 와야 함\n",
    "\n",
    "fun1(a=1, 3, c=5)   # 에러 _ 기본값이 정의되지 않은 변수가 앞에 와야 함"
   ]
  },
  {
   "cell_type": "markdown",
   "id": "0c877c1a-0757-4342-82f8-3f9939ca8140",
   "metadata": {},
   "source": [
    "fun1(2, b=1, a=3) # 에러 _ a에 중복된 값 2, 3이 들어갔고, c에 해당하는 값이 없음"
   ]
  },
  {
   "cell_type": "markdown",
   "id": "d7ab9085-6d36-47e4-81e8-ed522f85ee3d",
   "metadata": {},
   "source": [
    "fun1(10, c=2, b=7)   # 10, 7, 2  \n",
    "\n",
    "fun1(a2=1, a1=4)     # 4,1,3 _ c는 기본값이 들어감"
   ]
  },
  {
   "cell_type": "markdown",
   "id": "d63bc4f7-4038-40f2-ac20-633e6b35832d",
   "metadata": {},
   "source": [
    "---"
   ]
  },
  {
   "cell_type": "markdown",
   "id": "5171c0cd-3fe0-4664-91ae-fa48dc3b9e07",
   "metadata": {},
   "source": [
    "## 2) 가변형 매개변수\n",
    "- 함수 호출 시 넘겨주는 값에 따라 형태가 결정되는 매개변수\n",
    "- 값으로 몇 개를 넘겨줘야 할 지 모를 때 사용한다"
   ]
  },
  {
   "cell_type": "markdown",
   "id": "42683eca-b97a-4a33-a1e1-5129744ec456",
   "metadata": {},
   "source": [
    "### 리스트 & 딕셔너리\n",
    "- 파이썬은 모든 변수들이 객체라서 리스트와 딕셔너리 등을 그대로 넘겨줘도 된다."
   ]
  },
  {
   "cell_type": "code",
   "execution_count": 19,
   "id": "615f67e0-11c5-4330-a407-9d457ed3f6ae",
   "metadata": {},
   "outputs": [
    {
     "data": {
      "text/plain": [
       "15"
      ]
     },
     "execution_count": 19,
     "metadata": {},
     "output_type": "execute_result"
    }
   ],
   "source": [
    "# 리스트\n",
    "def sumAllelements(list1):\n",
    "    result = 0\n",
    "    for num in list1:\n",
    "        result += num\n",
    "    return result\n",
    "\n",
    "example = [1,2,3,4,5]\n",
    "sumAllelements(example) # 15"
   ]
  },
  {
   "cell_type": "code",
   "execution_count": 20,
   "id": "3b30f791-deda-4a2e-8a8d-ef21653fbab4",
   "metadata": {},
   "outputs": [
    {
     "name": "stdout",
     "output_type": "stream",
     "text": [
      "a : 10\n",
      "b : 20\n"
     ]
    }
   ],
   "source": [
    "# 딕셔너리\n",
    "def dictionary(dic):\n",
    "    for key, values in dic.items():\n",
    "        print(f'{key} : {values}')\n",
    "        \n",
    "example = {'a':10, 'b':20}\n",
    "dictionary(example)"
   ]
  },
  {
   "cell_type": "markdown",
   "id": "9f0f29b6-404a-4f5b-9330-9f41e1bd100b",
   "metadata": {},
   "source": [
    "### 리스트 포인터*\n",
    "- 리스트 주소값을 넘겨준다."
   ]
  },
  {
   "cell_type": "code",
   "execution_count": 24,
   "id": "fb2b0c43-0f23-4554-9f87-fbd3ea17e041",
   "metadata": {},
   "outputs": [],
   "source": [
    "def sumAllpointer(*list1) :\n",
    "    return sum(list1)"
   ]
  },
  {
   "cell_type": "code",
   "execution_count": 24,
   "id": "9852bd86-57b3-4b57-a6f3-764a17a8107e",
   "metadata": {},
   "outputs": [
    {
     "data": {
      "text/plain": [
       "15"
      ]
     },
     "execution_count": 24,
     "metadata": {},
     "output_type": "execute_result"
    }
   ],
   "source": [
    "# 방법1\n",
    "example= [1,2,3,4,5]\n",
    "sumAllpointer(*example)"
   ]
  },
  {
   "cell_type": "code",
   "execution_count": 23,
   "id": "38f5c3e1-0c6f-42e8-86ad-1c50572222d9",
   "metadata": {},
   "outputs": [
    {
     "data": {
      "text/plain": [
       "15"
      ]
     },
     "execution_count": 23,
     "metadata": {},
     "output_type": "execute_result"
    }
   ],
   "source": [
    "# 방법2\n",
    "sumAllpointer(1,2,3,4,5)"
   ]
  },
  {
   "cell_type": "markdown",
   "id": "9ecd6a32-05e5-4807-8ae1-c0e8759007f3",
   "metadata": {},
   "source": [
    "### 딕셔너리 포인터**\n",
    "- 리스트 포인터와 달리 ** 두 개!"
   ]
  },
  {
   "cell_type": "code",
   "execution_count": 27,
   "id": "d82e948a-c6b2-48db-b144-cce7230051ac",
   "metadata": {},
   "outputs": [
    {
     "name": "stdout",
     "output_type": "stream",
     "text": [
      "a : 1\n",
      "b : 2\n",
      "c : 3\n"
     ]
    }
   ],
   "source": [
    "# 방법1\n",
    "def dicPointer1(**dic):\n",
    "    for key, value in dic.items():\n",
    "        print(f'{key} : {value}')\n",
    "        \n",
    "dic1 = {'a':1, 'b':2, 'c':3}\n",
    "dicPointer1(**dic1)"
   ]
  },
  {
   "cell_type": "code",
   "execution_count": 30,
   "id": "1ff3351d-ef55-4073-83c8-c1eb9640bb9a",
   "metadata": {},
   "outputs": [
    {
     "name": "stdout",
     "output_type": "stream",
     "text": [
      "a1 : 10\n",
      "b1 : 10\n",
      "b2 : 20\n",
      "b3 : 49\n"
     ]
    }
   ],
   "source": [
    "# 방법2\n",
    "def dicPointer2(**dic):\n",
    "    for key, value in dic.items():\n",
    "        print(f'{key} : {value}')\n",
    "        \n",
    "dicPointer2(a1 = 10)\n",
    "dicPointer2(b1 = 10, b2 = 20, b3 = 49)"
   ]
  },
  {
   "cell_type": "markdown",
   "id": "471779f0-b1ad-4359-87b6-34452924dedb",
   "metadata": {},
   "source": [
    "---"
   ]
  },
  {
   "cell_type": "markdown",
   "id": "0c8fec96-ac94-4e87-844c-fb58f2ddc473",
   "metadata": {},
   "source": [
    "## 3) 가변형 매개변수 작성 순서 및 규칙\n",
    "\n",
    "- 순서: 일반변수, 일반변수, ... 리스트형 매개변수, 딕셔너리형 매개변수\n",
    "- 규칙\n",
    "    - 일반 매개변수를 먼저 작성\n",
    "    - 리스트 포인터 매개변수가 먼저, 그 다음에 딕셔너리 포인터 매개변수\n",
    "    - 같은 종류의 포인터 가변형 매개변수를 여러 개 사용할 수 없음  (리스트 포인터 / 딕셔너리 포인터 **한 번씩만** 사용 가능)"
   ]
  },
  {
   "cell_type": "code",
   "execution_count": 31,
   "id": "a1537311-62c4-40f2-8a9a-a63430fc358e",
   "metadata": {},
   "outputs": [
    {
     "ename": "SyntaxError",
     "evalue": "invalid syntax (<ipython-input-31-616cf3fc209e>, line 1)",
     "output_type": "error",
     "traceback": [
      "\u001b[1;36m  File \u001b[1;32m\"<ipython-input-31-616cf3fc209e>\"\u001b[1;36m, line \u001b[1;32m1\u001b[0m\n\u001b[1;33m    def func1(*a1, **a2, a3, a4):\u001b[0m\n\u001b[1;37m                         ^\u001b[0m\n\u001b[1;31mSyntaxError\u001b[0m\u001b[1;31m:\u001b[0m invalid syntax\n"
     ]
    }
   ],
   "source": [
    "def func1(*a1, **a2, a3, a4):\n",
    "    print(a1, a2, a3, a4, sep='\\n')"
   ]
  },
  {
   "cell_type": "markdown",
   "id": "6301bf3a-3262-4dd6-8380-0935c03ab6a8",
   "metadata": {},
   "source": [
    "오류발생: 일반 변수를 앞에 써야한다."
   ]
  },
  {
   "cell_type": "code",
   "execution_count": 32,
   "id": "cbc9a14f-837a-435e-bdf8-904f008e0e81",
   "metadata": {},
   "outputs": [
    {
     "ename": "SyntaxError",
     "evalue": "invalid syntax (<ipython-input-32-a163fb5c3102>, line 1)",
     "output_type": "error",
     "traceback": [
      "\u001b[1;36m  File \u001b[1;32m\"<ipython-input-32-a163fb5c3102>\"\u001b[1;36m, line \u001b[1;32m1\u001b[0m\n\u001b[1;33m    def fun2(**a3, *a4) :\u001b[0m\n\u001b[1;37m                   ^\u001b[0m\n\u001b[1;31mSyntaxError\u001b[0m\u001b[1;31m:\u001b[0m invalid syntax\n"
     ]
    }
   ],
   "source": [
    "def fun2(**a3, *a4) :\n",
    "    print(a3, a4, sep=\"\\n\") "
   ]
  },
  {
   "cell_type": "markdown",
   "id": "18dd7691-8a50-49b1-a556-05a5ac2592b7",
   "metadata": {},
   "source": [
    "오류발생: 리스트형 매개변수가 먼저 와야한다."
   ]
  },
  {
   "cell_type": "code",
   "execution_count": 33,
   "id": "7b3c86f5-9f12-4df8-9a58-a5d8bdce3d7b",
   "metadata": {},
   "outputs": [],
   "source": [
    "def fun3(a1, a2, *a3, **a4) :\n",
    "    print(a1, a2, a3, a4, sep=\"\\n\")"
   ]
  },
  {
   "cell_type": "markdown",
   "id": "9fbb985e-11d4-4433-a4c9-b73b9b391e7d",
   "metadata": {},
   "source": [
    "올바른 순서이다."
   ]
  },
  {
   "cell_type": "code",
   "execution_count": 34,
   "id": "ded923a2-5c39-46b6-a893-a192143cd1fa",
   "metadata": {},
   "outputs": [
    {
     "ename": "SyntaxError",
     "evalue": "invalid syntax (<ipython-input-34-aa4a9862254a>, line 1)",
     "output_type": "error",
     "traceback": [
      "\u001b[1;36m  File \u001b[1;32m\"<ipython-input-34-aa4a9862254a>\"\u001b[1;36m, line \u001b[1;32m1\u001b[0m\n\u001b[1;33m    def fun4(*a, *b) :\u001b[0m\n\u001b[1;37m                 ^\u001b[0m\n\u001b[1;31mSyntaxError\u001b[0m\u001b[1;31m:\u001b[0m invalid syntax\n"
     ]
    }
   ],
   "source": [
    "def fun4(*a, *b) :\n",
    "    print(a,b)"
   ]
  },
  {
   "cell_type": "markdown",
   "id": "0dd1ba65-2ac3-4ad3-914d-026fae53e204",
   "metadata": {},
   "source": [
    "오류발생: 같은 종류의 포인터 가변형 매개변수를 사용할 수 없음"
   ]
  },
  {
   "cell_type": "code",
   "execution_count": 35,
   "id": "95d1dafa-c3b5-4365-b5db-84e038a286e3",
   "metadata": {},
   "outputs": [
    {
     "name": "stdout",
     "output_type": "stream",
     "text": [
      "[1, 2, 3] [4, 5, 6]\n"
     ]
    }
   ],
   "source": [
    "def fun5(a, b, *c) :\n",
    "    print(a,b)\n",
    "\n",
    "list1 = [1,2,3]\n",
    "list2 = [4,5,6]\n",
    "list3 = [7,8,9]\n",
    "\n",
    "fun5(list1, list2, *list3)"
   ]
  },
  {
   "cell_type": "markdown",
   "id": "975ec78d-4350-4490-8248-b92c4a257cbc",
   "metadata": {},
   "source": [
    "올바른 작성이다. 리스트 포인터를 한 번 사용했다."
   ]
  },
  {
   "cell_type": "markdown",
   "id": "416b7a65-aede-4a81-9ad3-8143cf8a48dd",
   "metadata": {},
   "source": [
    "---"
   ]
  },
  {
   "cell_type": "markdown",
   "id": "ab5b5e47-4532-4782-b360-697b21f2b9f7",
   "metadata": {},
   "source": [
    "**[참고문헌]**\n",
    "\n",
    "[[Python] 함수의 매개변수(parameter) 특징 - 기본값 & 가변형 매개변수](https://ychae-leah.tistory.com/65)\n",
    "\n",
    "\n",
    "[[Python] 파이썬 가변/기본/키워드 매개변수에 대하여](https://devpouch.tistory.com/82)"
   ]
  }
 ],
 "metadata": {
  "kernelspec": {
   "display_name": "Python 3",
   "language": "python",
   "name": "python3"
  },
  "language_info": {
   "codemirror_mode": {
    "name": "ipython",
    "version": 3
   },
   "file_extension": ".py",
   "mimetype": "text/x-python",
   "name": "python",
   "nbconvert_exporter": "python",
   "pygments_lexer": "ipython3",
   "version": "3.8.8"
  }
 },
 "nbformat": 4,
 "nbformat_minor": 5
}
