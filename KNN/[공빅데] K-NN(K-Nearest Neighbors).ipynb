{
 "cells": [
  {
   "cell_type": "markdown",
   "id": "cbd80ee5-7dea-48aa-aeb1-238806adfba4",
   "metadata": {},
   "source": [
    "# K-NN(K-Nearest Neighbors) 알고리즘\n",
    "\n",
    "유유상종 = 끼리끼리 = K-NN 알고리즘 = 서로 비슷한 속성끼리 모이는 경향\n",
    "\n",
    "- 지도 학습\n",
    "- 거리 기반 분류분석 모델(비지도 학습인 K-means와 다름)\n",
    "- 거리 측정 시, 일반적으로 '유클라디안 거리' 계산법 사용\n",
    "- 측정한 거리가 작은 순으로 k 개수의 데이터를 찾는다.\n",
    "- 판별하고 싶은 데이터와 인접한 K 개수의 데이터를 찾아, 해당 데이터의 라벨이 다수인 범주로 데이터를 분류하는 방식\n",
    "\n",
    "\n",
    "[K의 의미]\n",
    "- 이웃의 개수 or 주변 데이터의 개수\n",
    "- 홀수로 설정(2:2와 같은 동점 상황 피하기 위함)\n",
    "- 주관적이므로 적당한 값을 정해야 함\n",
    "- K값에 따라 분류결과, 정확도, 신뢰도 다름\n",
    "- K값을 선택하면서 시행착오 필수\n",
    "\n",
    "[장단점]\n",
    "- 장점: 간단한 구조 / 이해 용이 / 구현 용이 / 강력한 결과 / 데이터가 적어도 모델 구현 가능\n",
    "- 단점: 특징과 클래스 간 관계 이해 제한 / 적절한 K값 선택 필요 / 데이터가 많으면 분류 단계 느림 / 명목 특징 및 누락 데이터를 위한 추가 처리 필요(ex. 더미 코딩)\n",
    "\n",
    "[주의점]\n",
    "- 각 변수마다 범위 상이하여 재조정 필요(ex. 몸무게 단위 =/= 키 단위)\n",
    "- '최소-최대 정규화' 또는 'z-점수 표준화'\n",
    "- 실무에서는 'z-점수 표준화' 많이 사용\n",
    "\n",
    "[모델 종류]\n",
    "- KNeighborsClassifier() = 범주형 분류기로 사용  \n",
    "- KNeighborsRegressor = 연속형 값 예측\n",
    "\n",
    "![knn](knn.png)"
   ]
  },
  {
   "cell_type": "code",
   "execution_count": null,
   "id": "5835db8a-c7b1-4ecc-b9f2-d0665928af1f",
   "metadata": {},
   "outputs": [],
   "source": []
  },
  {
   "cell_type": "code",
   "execution_count": null,
   "id": "960482f5-1b06-42ff-b47e-d0c3a5d9b5a0",
   "metadata": {},
   "outputs": [],
   "source": []
  },
  {
   "cell_type": "code",
   "execution_count": null,
   "id": "74e04d40-567d-4503-9298-812f8f5f064e",
   "metadata": {},
   "outputs": [],
   "source": []
  },
  {
   "cell_type": "code",
   "execution_count": null,
   "id": "f693369e-7385-4ad1-a691-73b26f9fc0d1",
   "metadata": {},
   "outputs": [],
   "source": []
  },
  {
   "cell_type": "markdown",
   "id": "fe1ab842-9b8c-43ef-85d8-ae32c90d70ff",
   "metadata": {},
   "source": [
    "### references\n",
    "\n",
    "[데이터 마케팅 공부방](https://m.blog.naver.com/bestinall/221760380344)  \n",
    "[K-NN 알고리즘](https://velog.io/@jhlee508/%EB%A8%B8%EC%8B%A0%EB%9F%AC%EB%8B%9D-KNNK-Nearest-Neighbor-%EC%95%8C%EA%B3%A0%EB%A6%AC%EC%A6%98)  \n",
    "[2. 지도 학습 알고리즘 (1) k-Nearest Neighbors(k-NN)](https://jhryu1208.github.io/data/2020/10/25/SUPERVISED_LEARNING_1_k-NN.md/)"
   ]
  },
  {
   "cell_type": "code",
   "execution_count": null,
   "id": "c3917a9c-14b3-4dab-a013-53168b506bf3",
   "metadata": {},
   "outputs": [],
   "source": []
  }
 ],
 "metadata": {
  "kernelspec": {
   "display_name": "Python 3",
   "language": "python",
   "name": "python3"
  },
  "language_info": {
   "codemirror_mode": {
    "name": "ipython",
    "version": 3
   },
   "file_extension": ".py",
   "mimetype": "text/x-python",
   "name": "python",
   "nbconvert_exporter": "python",
   "pygments_lexer": "ipython3",
   "version": "3.8.8"
  }
 },
 "nbformat": 4,
 "nbformat_minor": 5
}
