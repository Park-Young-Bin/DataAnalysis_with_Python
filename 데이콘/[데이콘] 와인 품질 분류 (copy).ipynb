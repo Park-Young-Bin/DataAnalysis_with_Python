{
 "cells": [
  {
   "cell_type": "markdown",
   "id": "3d5dd585-132a-40a1-9835-89772e175b11",
   "metadata": {},
   "source": [
    "[참고](https://dacon.io/competitions/official/235840/codeshare/3812?page=1&dtype=recent)"
   ]
  },
  {
   "cell_type": "markdown",
   "id": "2424eac1-8e18-42fd-943f-030d7472362d",
   "metadata": {},
   "source": [
    "## 1. Packages"
   ]
  },
  {
   "cell_type": "code",
   "execution_count": 1,
   "id": "e12d8089-9082-4a89-b095-045e2605fee7",
   "metadata": {},
   "outputs": [],
   "source": [
    "import pandas as pd\n",
    "import matplotlib.pyplot as plt\n",
    "import seaborn as sns"
   ]
  },
  {
   "cell_type": "markdown",
   "id": "8713f706-9777-415e-9ad7-9c656ac3df1a",
   "metadata": {},
   "source": [
    "## 2. Data loading"
   ]
  },
  {
   "cell_type": "code",
   "execution_count": 2,
   "id": "16eda6f9-87d9-43a5-8078-06ef817149f9",
   "metadata": {},
   "outputs": [
    {
     "name": "stdout",
     "output_type": "stream",
     "text": [
      "(5497, 13)\n"
     ]
    },
    {
     "data": {
      "text/html": [
       "<div>\n",
       "<style scoped>\n",
       "    .dataframe tbody tr th:only-of-type {\n",
       "        vertical-align: middle;\n",
       "    }\n",
       "\n",
       "    .dataframe tbody tr th {\n",
       "        vertical-align: top;\n",
       "    }\n",
       "\n",
       "    .dataframe thead th {\n",
       "        text-align: right;\n",
       "    }\n",
       "</style>\n",
       "<table border=\"1\" class=\"dataframe\">\n",
       "  <thead>\n",
       "    <tr style=\"text-align: right;\">\n",
       "      <th></th>\n",
       "      <th>quality</th>\n",
       "      <th>fixed acidity</th>\n",
       "      <th>volatile acidity</th>\n",
       "      <th>citric acid</th>\n",
       "      <th>residual sugar</th>\n",
       "      <th>chlorides</th>\n",
       "      <th>free sulfur dioxide</th>\n",
       "      <th>total sulfur dioxide</th>\n",
       "      <th>density</th>\n",
       "      <th>pH</th>\n",
       "      <th>sulphates</th>\n",
       "      <th>alcohol</th>\n",
       "      <th>type</th>\n",
       "    </tr>\n",
       "    <tr>\n",
       "      <th>index</th>\n",
       "      <th></th>\n",
       "      <th></th>\n",
       "      <th></th>\n",
       "      <th></th>\n",
       "      <th></th>\n",
       "      <th></th>\n",
       "      <th></th>\n",
       "      <th></th>\n",
       "      <th></th>\n",
       "      <th></th>\n",
       "      <th></th>\n",
       "      <th></th>\n",
       "      <th></th>\n",
       "    </tr>\n",
       "  </thead>\n",
       "  <tbody>\n",
       "    <tr>\n",
       "      <th>0</th>\n",
       "      <td>5</td>\n",
       "      <td>5.6</td>\n",
       "      <td>0.695</td>\n",
       "      <td>0.06</td>\n",
       "      <td>6.8</td>\n",
       "      <td>0.042</td>\n",
       "      <td>9.0</td>\n",
       "      <td>84.0</td>\n",
       "      <td>0.99432</td>\n",
       "      <td>3.44</td>\n",
       "      <td>0.44</td>\n",
       "      <td>10.2</td>\n",
       "      <td>white</td>\n",
       "    </tr>\n",
       "    <tr>\n",
       "      <th>1</th>\n",
       "      <td>5</td>\n",
       "      <td>8.8</td>\n",
       "      <td>0.610</td>\n",
       "      <td>0.14</td>\n",
       "      <td>2.4</td>\n",
       "      <td>0.067</td>\n",
       "      <td>10.0</td>\n",
       "      <td>42.0</td>\n",
       "      <td>0.99690</td>\n",
       "      <td>3.19</td>\n",
       "      <td>0.59</td>\n",
       "      <td>9.5</td>\n",
       "      <td>red</td>\n",
       "    </tr>\n",
       "    <tr>\n",
       "      <th>2</th>\n",
       "      <td>5</td>\n",
       "      <td>7.9</td>\n",
       "      <td>0.210</td>\n",
       "      <td>0.39</td>\n",
       "      <td>2.0</td>\n",
       "      <td>0.057</td>\n",
       "      <td>21.0</td>\n",
       "      <td>138.0</td>\n",
       "      <td>0.99176</td>\n",
       "      <td>3.05</td>\n",
       "      <td>0.52</td>\n",
       "      <td>10.9</td>\n",
       "      <td>white</td>\n",
       "    </tr>\n",
       "    <tr>\n",
       "      <th>3</th>\n",
       "      <td>6</td>\n",
       "      <td>7.0</td>\n",
       "      <td>0.210</td>\n",
       "      <td>0.31</td>\n",
       "      <td>6.0</td>\n",
       "      <td>0.046</td>\n",
       "      <td>29.0</td>\n",
       "      <td>108.0</td>\n",
       "      <td>0.99390</td>\n",
       "      <td>3.26</td>\n",
       "      <td>0.50</td>\n",
       "      <td>10.8</td>\n",
       "      <td>white</td>\n",
       "    </tr>\n",
       "    <tr>\n",
       "      <th>4</th>\n",
       "      <td>6</td>\n",
       "      <td>7.8</td>\n",
       "      <td>0.400</td>\n",
       "      <td>0.26</td>\n",
       "      <td>9.5</td>\n",
       "      <td>0.059</td>\n",
       "      <td>32.0</td>\n",
       "      <td>178.0</td>\n",
       "      <td>0.99550</td>\n",
       "      <td>3.04</td>\n",
       "      <td>0.43</td>\n",
       "      <td>10.9</td>\n",
       "      <td>white</td>\n",
       "    </tr>\n",
       "  </tbody>\n",
       "</table>\n",
       "</div>"
      ],
      "text/plain": [
       "       quality  fixed acidity  volatile acidity  citric acid  residual sugar  \\\n",
       "index                                                                          \n",
       "0            5            5.6             0.695         0.06             6.8   \n",
       "1            5            8.8             0.610         0.14             2.4   \n",
       "2            5            7.9             0.210         0.39             2.0   \n",
       "3            6            7.0             0.210         0.31             6.0   \n",
       "4            6            7.8             0.400         0.26             9.5   \n",
       "\n",
       "       chlorides  free sulfur dioxide  total sulfur dioxide  density    pH  \\\n",
       "index                                                                        \n",
       "0          0.042                  9.0                  84.0  0.99432  3.44   \n",
       "1          0.067                 10.0                  42.0  0.99690  3.19   \n",
       "2          0.057                 21.0                 138.0  0.99176  3.05   \n",
       "3          0.046                 29.0                 108.0  0.99390  3.26   \n",
       "4          0.059                 32.0                 178.0  0.99550  3.04   \n",
       "\n",
       "       sulphates  alcohol   type  \n",
       "index                             \n",
       "0           0.44     10.2  white  \n",
       "1           0.59      9.5    red  \n",
       "2           0.52     10.9  white  \n",
       "3           0.50     10.8  white  \n",
       "4           0.43     10.9  white  "
      ]
     },
     "execution_count": 2,
     "metadata": {},
     "output_type": "execute_result"
    }
   ],
   "source": [
    "train = pd.read_csv('dacondata/train_wine.csv', index_col='index')\n",
    "print(train.shape)\n",
    "train.head()"
   ]
  },
  {
   "cell_type": "code",
   "execution_count": 3,
   "id": "e88cccf6-2289-4e98-b336-56c624a9b293",
   "metadata": {},
   "outputs": [
    {
     "name": "stdout",
     "output_type": "stream",
     "text": [
      "(1000, 12)\n"
     ]
    },
    {
     "data": {
      "text/html": [
       "<div>\n",
       "<style scoped>\n",
       "    .dataframe tbody tr th:only-of-type {\n",
       "        vertical-align: middle;\n",
       "    }\n",
       "\n",
       "    .dataframe tbody tr th {\n",
       "        vertical-align: top;\n",
       "    }\n",
       "\n",
       "    .dataframe thead th {\n",
       "        text-align: right;\n",
       "    }\n",
       "</style>\n",
       "<table border=\"1\" class=\"dataframe\">\n",
       "  <thead>\n",
       "    <tr style=\"text-align: right;\">\n",
       "      <th></th>\n",
       "      <th>fixed acidity</th>\n",
       "      <th>volatile acidity</th>\n",
       "      <th>citric acid</th>\n",
       "      <th>residual sugar</th>\n",
       "      <th>chlorides</th>\n",
       "      <th>free sulfur dioxide</th>\n",
       "      <th>total sulfur dioxide</th>\n",
       "      <th>density</th>\n",
       "      <th>pH</th>\n",
       "      <th>sulphates</th>\n",
       "      <th>alcohol</th>\n",
       "      <th>type</th>\n",
       "    </tr>\n",
       "    <tr>\n",
       "      <th>index</th>\n",
       "      <th></th>\n",
       "      <th></th>\n",
       "      <th></th>\n",
       "      <th></th>\n",
       "      <th></th>\n",
       "      <th></th>\n",
       "      <th></th>\n",
       "      <th></th>\n",
       "      <th></th>\n",
       "      <th></th>\n",
       "      <th></th>\n",
       "      <th></th>\n",
       "    </tr>\n",
       "  </thead>\n",
       "  <tbody>\n",
       "    <tr>\n",
       "      <th>0</th>\n",
       "      <td>9.0</td>\n",
       "      <td>0.31</td>\n",
       "      <td>0.48</td>\n",
       "      <td>6.6</td>\n",
       "      <td>0.043</td>\n",
       "      <td>11.0</td>\n",
       "      <td>73.0</td>\n",
       "      <td>0.99380</td>\n",
       "      <td>2.90</td>\n",
       "      <td>0.38</td>\n",
       "      <td>11.6</td>\n",
       "      <td>white</td>\n",
       "    </tr>\n",
       "    <tr>\n",
       "      <th>1</th>\n",
       "      <td>13.3</td>\n",
       "      <td>0.43</td>\n",
       "      <td>0.58</td>\n",
       "      <td>1.9</td>\n",
       "      <td>0.070</td>\n",
       "      <td>15.0</td>\n",
       "      <td>40.0</td>\n",
       "      <td>1.00040</td>\n",
       "      <td>3.06</td>\n",
       "      <td>0.49</td>\n",
       "      <td>9.0</td>\n",
       "      <td>red</td>\n",
       "    </tr>\n",
       "    <tr>\n",
       "      <th>2</th>\n",
       "      <td>6.5</td>\n",
       "      <td>0.28</td>\n",
       "      <td>0.27</td>\n",
       "      <td>5.2</td>\n",
       "      <td>0.040</td>\n",
       "      <td>44.0</td>\n",
       "      <td>179.0</td>\n",
       "      <td>0.99480</td>\n",
       "      <td>3.19</td>\n",
       "      <td>0.69</td>\n",
       "      <td>9.4</td>\n",
       "      <td>white</td>\n",
       "    </tr>\n",
       "    <tr>\n",
       "      <th>3</th>\n",
       "      <td>7.2</td>\n",
       "      <td>0.15</td>\n",
       "      <td>0.39</td>\n",
       "      <td>1.8</td>\n",
       "      <td>0.043</td>\n",
       "      <td>21.0</td>\n",
       "      <td>159.0</td>\n",
       "      <td>0.99480</td>\n",
       "      <td>3.52</td>\n",
       "      <td>0.47</td>\n",
       "      <td>10.0</td>\n",
       "      <td>white</td>\n",
       "    </tr>\n",
       "    <tr>\n",
       "      <th>4</th>\n",
       "      <td>6.8</td>\n",
       "      <td>0.26</td>\n",
       "      <td>0.26</td>\n",
       "      <td>2.0</td>\n",
       "      <td>0.019</td>\n",
       "      <td>23.5</td>\n",
       "      <td>72.0</td>\n",
       "      <td>0.99041</td>\n",
       "      <td>3.16</td>\n",
       "      <td>0.47</td>\n",
       "      <td>11.8</td>\n",
       "      <td>white</td>\n",
       "    </tr>\n",
       "  </tbody>\n",
       "</table>\n",
       "</div>"
      ],
      "text/plain": [
       "       fixed acidity  volatile acidity  citric acid  residual sugar  \\\n",
       "index                                                                 \n",
       "0                9.0              0.31         0.48             6.6   \n",
       "1               13.3              0.43         0.58             1.9   \n",
       "2                6.5              0.28         0.27             5.2   \n",
       "3                7.2              0.15         0.39             1.8   \n",
       "4                6.8              0.26         0.26             2.0   \n",
       "\n",
       "       chlorides  free sulfur dioxide  total sulfur dioxide  density    pH  \\\n",
       "index                                                                        \n",
       "0          0.043                 11.0                  73.0  0.99380  2.90   \n",
       "1          0.070                 15.0                  40.0  1.00040  3.06   \n",
       "2          0.040                 44.0                 179.0  0.99480  3.19   \n",
       "3          0.043                 21.0                 159.0  0.99480  3.52   \n",
       "4          0.019                 23.5                  72.0  0.99041  3.16   \n",
       "\n",
       "       sulphates  alcohol   type  \n",
       "index                             \n",
       "0           0.38     11.6  white  \n",
       "1           0.49      9.0    red  \n",
       "2           0.69      9.4  white  \n",
       "3           0.47     10.0  white  \n",
       "4           0.47     11.8  white  "
      ]
     },
     "execution_count": 3,
     "metadata": {},
     "output_type": "execute_result"
    }
   ],
   "source": [
    "test = pd.read_csv('dacondata/test_wine.csv', index_col='index')\n",
    "print(test.shape)\n",
    "test.head()"
   ]
  },
  {
   "cell_type": "code",
   "execution_count": 4,
   "id": "8f9ad05d-4c6a-4fef-96c1-cee4f7f8afbc",
   "metadata": {},
   "outputs": [
    {
     "name": "stdout",
     "output_type": "stream",
     "text": [
      "(1000, 1)\n"
     ]
    },
    {
     "data": {
      "text/html": [
       "<div>\n",
       "<style scoped>\n",
       "    .dataframe tbody tr th:only-of-type {\n",
       "        vertical-align: middle;\n",
       "    }\n",
       "\n",
       "    .dataframe tbody tr th {\n",
       "        vertical-align: top;\n",
       "    }\n",
       "\n",
       "    .dataframe thead th {\n",
       "        text-align: right;\n",
       "    }\n",
       "</style>\n",
       "<table border=\"1\" class=\"dataframe\">\n",
       "  <thead>\n",
       "    <tr style=\"text-align: right;\">\n",
       "      <th></th>\n",
       "      <th>quality</th>\n",
       "    </tr>\n",
       "    <tr>\n",
       "      <th>index</th>\n",
       "      <th></th>\n",
       "    </tr>\n",
       "  </thead>\n",
       "  <tbody>\n",
       "    <tr>\n",
       "      <th>0</th>\n",
       "      <td>0</td>\n",
       "    </tr>\n",
       "    <tr>\n",
       "      <th>1</th>\n",
       "      <td>0</td>\n",
       "    </tr>\n",
       "    <tr>\n",
       "      <th>2</th>\n",
       "      <td>0</td>\n",
       "    </tr>\n",
       "  </tbody>\n",
       "</table>\n",
       "</div>"
      ],
      "text/plain": [
       "       quality\n",
       "index         \n",
       "0            0\n",
       "1            0\n",
       "2            0"
      ]
     },
     "execution_count": 4,
     "metadata": {},
     "output_type": "execute_result"
    }
   ],
   "source": [
    "submission = pd.read_csv(\"dacondata/sample_submission_wine.csv\", index_col='index')\n",
    "print(submission.shape)\n",
    "submission.head(3)"
   ]
  },
  {
   "cell_type": "markdown",
   "id": "9c33d513-de28-4219-98df-a63291a2426f",
   "metadata": {},
   "source": [
    "## 3. Preprocessing"
   ]
  },
  {
   "cell_type": "markdown",
   "id": "7548cf00-e29f-4a1a-9acf-de17b681ca69",
   "metadata": {},
   "source": [
    "### 3-0) Missing values"
   ]
  },
  {
   "cell_type": "code",
   "execution_count": 5,
   "id": "a73176a4-61a9-4dd9-9086-1d0c823f8342",
   "metadata": {
    "collapsed": true,
    "jupyter": {
     "outputs_hidden": true
    },
    "tags": []
   },
   "outputs": [
    {
     "name": "stdout",
     "output_type": "stream",
     "text": [
      "<class 'pandas.core.frame.DataFrame'>\n",
      "Int64Index: 5497 entries, 0 to 5496\n",
      "Data columns (total 13 columns):\n",
      " #   Column                Non-Null Count  Dtype  \n",
      "---  ------                --------------  -----  \n",
      " 0   quality               5497 non-null   int64  \n",
      " 1   fixed acidity         5497 non-null   float64\n",
      " 2   volatile acidity      5497 non-null   float64\n",
      " 3   citric acid           5497 non-null   float64\n",
      " 4   residual sugar        5497 non-null   float64\n",
      " 5   chlorides             5497 non-null   float64\n",
      " 6   free sulfur dioxide   5497 non-null   float64\n",
      " 7   total sulfur dioxide  5497 non-null   float64\n",
      " 8   density               5497 non-null   float64\n",
      " 9   pH                    5497 non-null   float64\n",
      " 10  sulphates             5497 non-null   float64\n",
      " 11  alcohol               5497 non-null   float64\n",
      " 12  type                  5497 non-null   object \n",
      "dtypes: float64(11), int64(1), object(1)\n",
      "memory usage: 601.2+ KB\n"
     ]
    }
   ],
   "source": [
    "train.info()"
   ]
  },
  {
   "cell_type": "code",
   "execution_count": 6,
   "id": "8ea5aab8-abc9-4061-a5a7-f0bafb0d9929",
   "metadata": {
    "collapsed": true,
    "jupyter": {
     "outputs_hidden": true
    },
    "tags": []
   },
   "outputs": [
    {
     "data": {
      "text/html": [
       "<div>\n",
       "<style scoped>\n",
       "    .dataframe tbody tr th:only-of-type {\n",
       "        vertical-align: middle;\n",
       "    }\n",
       "\n",
       "    .dataframe tbody tr th {\n",
       "        vertical-align: top;\n",
       "    }\n",
       "\n",
       "    .dataframe thead th {\n",
       "        text-align: right;\n",
       "    }\n",
       "</style>\n",
       "<table border=\"1\" class=\"dataframe\">\n",
       "  <thead>\n",
       "    <tr style=\"text-align: right;\">\n",
       "      <th></th>\n",
       "      <th>quality</th>\n",
       "      <th>fixed acidity</th>\n",
       "      <th>volatile acidity</th>\n",
       "      <th>citric acid</th>\n",
       "      <th>residual sugar</th>\n",
       "      <th>chlorides</th>\n",
       "      <th>free sulfur dioxide</th>\n",
       "      <th>total sulfur dioxide</th>\n",
       "      <th>density</th>\n",
       "      <th>pH</th>\n",
       "      <th>sulphates</th>\n",
       "      <th>alcohol</th>\n",
       "    </tr>\n",
       "  </thead>\n",
       "  <tbody>\n",
       "    <tr>\n",
       "      <th>count</th>\n",
       "      <td>5497.000000</td>\n",
       "      <td>5497.000000</td>\n",
       "      <td>5497.000000</td>\n",
       "      <td>5497.000000</td>\n",
       "      <td>5497.000000</td>\n",
       "      <td>5497.000000</td>\n",
       "      <td>5497.000000</td>\n",
       "      <td>5497.000000</td>\n",
       "      <td>5497.000000</td>\n",
       "      <td>5497.000000</td>\n",
       "      <td>5497.000000</td>\n",
       "      <td>5497.000000</td>\n",
       "    </tr>\n",
       "    <tr>\n",
       "      <th>mean</th>\n",
       "      <td>5.818992</td>\n",
       "      <td>7.210115</td>\n",
       "      <td>0.338163</td>\n",
       "      <td>0.318543</td>\n",
       "      <td>5.438075</td>\n",
       "      <td>0.055808</td>\n",
       "      <td>30.417682</td>\n",
       "      <td>115.566491</td>\n",
       "      <td>0.994673</td>\n",
       "      <td>3.219502</td>\n",
       "      <td>0.530524</td>\n",
       "      <td>10.504918</td>\n",
       "    </tr>\n",
       "    <tr>\n",
       "      <th>std</th>\n",
       "      <td>0.870311</td>\n",
       "      <td>1.287579</td>\n",
       "      <td>0.163224</td>\n",
       "      <td>0.145104</td>\n",
       "      <td>4.756676</td>\n",
       "      <td>0.034653</td>\n",
       "      <td>17.673881</td>\n",
       "      <td>56.288223</td>\n",
       "      <td>0.003014</td>\n",
       "      <td>0.160713</td>\n",
       "      <td>0.149396</td>\n",
       "      <td>1.194524</td>\n",
       "    </tr>\n",
       "    <tr>\n",
       "      <th>min</th>\n",
       "      <td>3.000000</td>\n",
       "      <td>3.800000</td>\n",
       "      <td>0.080000</td>\n",
       "      <td>0.000000</td>\n",
       "      <td>0.600000</td>\n",
       "      <td>0.009000</td>\n",
       "      <td>1.000000</td>\n",
       "      <td>6.000000</td>\n",
       "      <td>0.987110</td>\n",
       "      <td>2.740000</td>\n",
       "      <td>0.220000</td>\n",
       "      <td>8.000000</td>\n",
       "    </tr>\n",
       "    <tr>\n",
       "      <th>25%</th>\n",
       "      <td>5.000000</td>\n",
       "      <td>6.400000</td>\n",
       "      <td>0.230000</td>\n",
       "      <td>0.250000</td>\n",
       "      <td>1.800000</td>\n",
       "      <td>0.038000</td>\n",
       "      <td>17.000000</td>\n",
       "      <td>78.000000</td>\n",
       "      <td>0.992300</td>\n",
       "      <td>3.110000</td>\n",
       "      <td>0.430000</td>\n",
       "      <td>9.500000</td>\n",
       "    </tr>\n",
       "    <tr>\n",
       "      <th>50%</th>\n",
       "      <td>6.000000</td>\n",
       "      <td>7.000000</td>\n",
       "      <td>0.290000</td>\n",
       "      <td>0.310000</td>\n",
       "      <td>3.000000</td>\n",
       "      <td>0.047000</td>\n",
       "      <td>29.000000</td>\n",
       "      <td>118.000000</td>\n",
       "      <td>0.994800</td>\n",
       "      <td>3.210000</td>\n",
       "      <td>0.510000</td>\n",
       "      <td>10.300000</td>\n",
       "    </tr>\n",
       "    <tr>\n",
       "      <th>75%</th>\n",
       "      <td>6.000000</td>\n",
       "      <td>7.700000</td>\n",
       "      <td>0.400000</td>\n",
       "      <td>0.390000</td>\n",
       "      <td>8.100000</td>\n",
       "      <td>0.064000</td>\n",
       "      <td>41.000000</td>\n",
       "      <td>155.000000</td>\n",
       "      <td>0.996930</td>\n",
       "      <td>3.320000</td>\n",
       "      <td>0.600000</td>\n",
       "      <td>11.300000</td>\n",
       "    </tr>\n",
       "    <tr>\n",
       "      <th>max</th>\n",
       "      <td>9.000000</td>\n",
       "      <td>15.900000</td>\n",
       "      <td>1.580000</td>\n",
       "      <td>1.660000</td>\n",
       "      <td>65.800000</td>\n",
       "      <td>0.610000</td>\n",
       "      <td>289.000000</td>\n",
       "      <td>440.000000</td>\n",
       "      <td>1.038980</td>\n",
       "      <td>4.010000</td>\n",
       "      <td>2.000000</td>\n",
       "      <td>14.900000</td>\n",
       "    </tr>\n",
       "  </tbody>\n",
       "</table>\n",
       "</div>"
      ],
      "text/plain": [
       "           quality  fixed acidity  volatile acidity  citric acid  \\\n",
       "count  5497.000000    5497.000000       5497.000000  5497.000000   \n",
       "mean      5.818992       7.210115          0.338163     0.318543   \n",
       "std       0.870311       1.287579          0.163224     0.145104   \n",
       "min       3.000000       3.800000          0.080000     0.000000   \n",
       "25%       5.000000       6.400000          0.230000     0.250000   \n",
       "50%       6.000000       7.000000          0.290000     0.310000   \n",
       "75%       6.000000       7.700000          0.400000     0.390000   \n",
       "max       9.000000      15.900000          1.580000     1.660000   \n",
       "\n",
       "       residual sugar    chlorides  free sulfur dioxide  total sulfur dioxide  \\\n",
       "count     5497.000000  5497.000000          5497.000000           5497.000000   \n",
       "mean         5.438075     0.055808            30.417682            115.566491   \n",
       "std          4.756676     0.034653            17.673881             56.288223   \n",
       "min          0.600000     0.009000             1.000000              6.000000   \n",
       "25%          1.800000     0.038000            17.000000             78.000000   \n",
       "50%          3.000000     0.047000            29.000000            118.000000   \n",
       "75%          8.100000     0.064000            41.000000            155.000000   \n",
       "max         65.800000     0.610000           289.000000            440.000000   \n",
       "\n",
       "           density           pH    sulphates      alcohol  \n",
       "count  5497.000000  5497.000000  5497.000000  5497.000000  \n",
       "mean      0.994673     3.219502     0.530524    10.504918  \n",
       "std       0.003014     0.160713     0.149396     1.194524  \n",
       "min       0.987110     2.740000     0.220000     8.000000  \n",
       "25%       0.992300     3.110000     0.430000     9.500000  \n",
       "50%       0.994800     3.210000     0.510000    10.300000  \n",
       "75%       0.996930     3.320000     0.600000    11.300000  \n",
       "max       1.038980     4.010000     2.000000    14.900000  "
      ]
     },
     "execution_count": 6,
     "metadata": {},
     "output_type": "execute_result"
    }
   ],
   "source": [
    "train.describe()"
   ]
  },
  {
   "cell_type": "code",
   "execution_count": 7,
   "id": "796fffd1-1b70-47ab-baba-8db4fba70b7b",
   "metadata": {
    "collapsed": true,
    "jupyter": {
     "outputs_hidden": true
    },
    "tags": []
   },
   "outputs": [
    {
     "name": "stdout",
     "output_type": "stream",
     "text": [
      "<class 'pandas.core.frame.DataFrame'>\n",
      "Int64Index: 1000 entries, 0 to 999\n",
      "Data columns (total 12 columns):\n",
      " #   Column                Non-Null Count  Dtype  \n",
      "---  ------                --------------  -----  \n",
      " 0   fixed acidity         1000 non-null   float64\n",
      " 1   volatile acidity      1000 non-null   float64\n",
      " 2   citric acid           1000 non-null   float64\n",
      " 3   residual sugar        1000 non-null   float64\n",
      " 4   chlorides             1000 non-null   float64\n",
      " 5   free sulfur dioxide   1000 non-null   float64\n",
      " 6   total sulfur dioxide  1000 non-null   float64\n",
      " 7   density               1000 non-null   float64\n",
      " 8   pH                    1000 non-null   float64\n",
      " 9   sulphates             1000 non-null   float64\n",
      " 10  alcohol               1000 non-null   float64\n",
      " 11  type                  1000 non-null   object \n",
      "dtypes: float64(11), object(1)\n",
      "memory usage: 101.6+ KB\n"
     ]
    }
   ],
   "source": [
    "test.info()"
   ]
  },
  {
   "cell_type": "markdown",
   "id": "07fe4307-e419-4d22-ac12-e92c43c74ecc",
   "metadata": {},
   "source": [
    "### 3-1) quality"
   ]
  },
  {
   "cell_type": "code",
   "execution_count": 8,
   "id": "dce57222-bedb-49b2-b138-f13f3c6da7b9",
   "metadata": {},
   "outputs": [
    {
     "data": {
      "text/plain": [
       "6    2416\n",
       "5    1788\n",
       "7     924\n",
       "4     186\n",
       "8     152\n",
       "3      26\n",
       "9       5\n",
       "Name: quality, dtype: int64"
      ]
     },
     "execution_count": 8,
     "metadata": {},
     "output_type": "execute_result"
    }
   ],
   "source": [
    "train['quality'].value_counts()"
   ]
  },
  {
   "cell_type": "code",
   "execution_count": 9,
   "id": "2dcec9c1-c68c-4096-81fa-4da90bd58d41",
   "metadata": {},
   "outputs": [
    {
     "data": {
      "text/plain": [
       "<seaborn.axisgrid.FacetGrid at 0x1f29a610070>"
      ]
     },
     "execution_count": 9,
     "metadata": {},
     "output_type": "execute_result"
    },
    {
     "data": {
      "image/png": "[encoded data removed]",
      "text/plain": [
       "<Figure size 360x360 with 1 Axes>"
      ]
     },
     "metadata": {
      "needs_background": "light"
     },
     "output_type": "display_data"
    }
   ],
   "source": [
    "sns.displot(train['quality'], kind='kde')"
   ]
  },
  {
   "cell_type": "code",
   "execution_count": 10,
   "id": "534e468f-a810-4b80-8fe4-11fe83feff4c",
   "metadata": {},
   "outputs": [
    {
     "data": {
      "text/plain": [
       "count    5497.000000\n",
       "mean        5.818992\n",
       "std         0.870311\n",
       "min         3.000000\n",
       "25%         5.000000\n",
       "50%         6.000000\n",
       "75%         6.000000\n",
       "max         9.000000\n",
       "Name: quality, dtype: float64"
      ]
     },
     "execution_count": 10,
     "metadata": {},
     "output_type": "execute_result"
    }
   ],
   "source": [
    "train['quality'].describe()"
   ]
  },
  {
   "cell_type": "code",
   "execution_count": 11,
   "id": "aef2ed2f-5dcf-43d9-b68c-a813e13a0c4b",
   "metadata": {},
   "outputs": [],
   "source": [
    "# 6 기준으로 0 or 1 범주화\n",
    "train.loc[train['quality'] <= 6, 'qual_grade'] = 0\n",
    "train.loc[train['quality'] > 6, 'qual_grade'] = 1"
   ]
  },
  {
   "cell_type": "code",
   "execution_count": 12,
   "id": "997ca062-fcc9-4725-b67e-8d0f0d3636b7",
   "metadata": {},
   "outputs": [
    {
     "data": {
      "text/plain": [
       "(0.0    4416\n",
       " 1.0    1081\n",
       " Name: qual_grade, dtype: int64,\n",
       " 0.0    0.803347\n",
       " 1.0    0.196653\n",
       " Name: qual_grade, dtype: float64)"
      ]
     },
     "execution_count": 12,
     "metadata": {},
     "output_type": "execute_result"
    }
   ],
   "source": [
    "# 빈도 및 비율 확인\n",
    "train['qual_grade'].value_counts(), train['qual_grade'].value_counts(normalize=True) # normalize=True: 비율 계산"
   ]
  },
  {
   "cell_type": "markdown",
   "id": "d1cc0696-6219-4e7c-90f5-78d3221c75ba",
   "metadata": {},
   "source": [
    "### 3-2) type"
   ]
  },
  {
   "cell_type": "code",
   "execution_count": 13,
   "id": "74ef696c-46f8-4fd3-816c-78be75f3e28f",
   "metadata": {},
   "outputs": [
    {
     "data": {
      "text/plain": [
       "(white    0.756595\n",
       " red      0.243405\n",
       " Name: type, dtype: float64,\n",
       " white    0.739\n",
       " red      0.261\n",
       " Name: type, dtype: float64)"
      ]
     },
     "execution_count": 13,
     "metadata": {},
     "output_type": "execute_result"
    }
   ],
   "source": [
    "train['type'].value_counts(normalize=True), test['type'].value_counts(normalize=True) # normalize=True: 비율 계산"
   ]
  },
  {
   "cell_type": "code",
   "execution_count": 14,
   "id": "bc60d1cd-6031-46cf-9a44-afa69f9ffcdb",
   "metadata": {},
   "outputs": [
    {
     "data": {
      "text/plain": [
       "(white    4159\n",
       " red      1338\n",
       " Name: type, dtype: int64,\n",
       " 0    4159\n",
       " 1    1338\n",
       " Name: type(encode), dtype: int64)"
      ]
     },
     "execution_count": 14,
     "metadata": {},
     "output_type": "execute_result"
    }
   ],
   "source": [
    "# train_type 값 변경\n",
    "train['type(encode)'] = train['type'].replace({'white':0, 'red':1}) # white → 0, red → 1\n",
    "train['type'].value_counts(), train['type(encode)'].value_counts()"
   ]
  },
  {
   "cell_type": "code",
   "execution_count": 15,
   "id": "b2bf3e5c-7195-4593-8aef-484ca79d8261",
   "metadata": {},
   "outputs": [],
   "source": [
    "# test_type 값 변경\n",
    "test['type(encode)'] = test['type'].replace({'white':0, 'red':1})"
   ]
  },
  {
   "cell_type": "markdown",
   "id": "67cc5523-7be1-4eef-a16b-32c5ae15b909",
   "metadata": {},
   "source": [
    "## 4. Analysis\n",
    "### 4-0) Correlation analysis"
   ]
  },
  {
   "cell_type": "code",
   "execution_count": 16,
   "id": "616a70b4-89e5-41a0-8075-6ba7894842ba",
   "metadata": {},
   "outputs": [
    {
     "data": {
      "text/plain": [
       "<AxesSubplot:>"
      ]
     },
     "execution_count": 16,
     "metadata": {},
     "output_type": "execute_result"
    },
    {
     "data": {
      "image/png": "[encoded data removed]",
      "text/plain": [
       "<Figure size 720x432 with 2 Axes>"
      ]
     },
     "metadata": {
      "needs_background": "light"
     },
     "output_type": "display_data"
    }
   ],
   "source": [
    "plt.figure(figsize=(10,6))\n",
    "sns.heatmap(train.corr(), annot=True)"
   ]
  },
  {
   "cell_type": "code",
   "execution_count": 17,
   "id": "5953e4aa-2e43-4663-af10-98d4d5a7d10f",
   "metadata": {},
   "outputs": [
    {
     "data": {
      "text/plain": [
       "quality                 1.000000\n",
       "fixed acidity          -0.076506\n",
       "volatile acidity       -0.261557\n",
       "citric acid             0.079157\n",
       "residual sugar         -0.032848\n",
       "chlorides              -0.198148\n",
       "free sulfur dioxide     0.055574\n",
       "total sulfur dioxide   -0.039732\n",
       "density                -0.299831\n",
       "pH                      0.017931\n",
       "sulphates               0.042068\n",
       "alcohol                 0.439615\n",
       "qual_grade              0.756656\n",
       "type(encode)           -0.118280\n",
       "Name: quality, dtype: float64"
      ]
     },
     "execution_count": 17,
     "metadata": {},
     "output_type": "execute_result"
    }
   ],
   "source": [
    "train.corr()['quality']"
   ]
  },
  {
   "cell_type": "code",
   "execution_count": 18,
   "id": "e736881b-adc3-4b3c-94b6-a20ddb929d34",
   "metadata": {},
   "outputs": [
    {
     "data": {
      "text/plain": [
       "Index(['quality', 'fixed acidity', 'volatile acidity', 'citric acid',\n",
       "       'residual sugar', 'chlorides', 'free sulfur dioxide',\n",
       "       'total sulfur dioxide', 'density', 'pH', 'sulphates', 'alcohol', 'type',\n",
       "       'qual_grade', 'type(encode)'],\n",
       "      dtype='object')"
      ]
     },
     "execution_count": 18,
     "metadata": {},
     "output_type": "execute_result"
    }
   ],
   "source": [
    "train.columns"
   ]
  },
  {
   "cell_type": "markdown",
   "id": "4e54c38b-5775-4fec-a511-97c8b0ee2b1b",
   "metadata": {},
   "source": [
    "### 4-1) Visualization by each feature"
   ]
  },
  {
   "cell_type": "code",
   "execution_count": 19,
   "id": "e7f6aa46-a9cc-4d63-868a-f7e401b5920b",
   "metadata": {},
   "outputs": [
    {
     "data": {
      "image/png": "[encoded data removed]",
      "text/plain": [
       "<Figure size 1008x648 with 12 Axes>"
      ]
     },
     "metadata": {
      "needs_background": "light"
     },
     "output_type": "display_data"
    }
   ],
   "source": [
    "figure, ax = plt.subplots(3, 4)\n",
    "figure.set_size_inches(14,9)\n",
    "\n",
    "sns.histplot(data=train, y=\"fixed acidity\", x=\"quality\", ax=ax[0][0])\n",
    "sns.histplot(data=train, y=\"volatile acidity\", x=\"quality\", ax=ax[0][1])\n",
    "sns.histplot(data=train, y=\"citric acid\", x=\"quality\", ax=ax[0][2])\n",
    "sns.histplot(data=train, y=\"residual sugar\", x=\"quality\", ax=ax[0][3])\n",
    "\n",
    "sns.histplot(data=train, y=\"chlorides\", x=\"quality\", ax=ax[1][0])\n",
    "sns.histplot(data=train, y=\"free sulfur dioxide\", x=\"quality\", ax=ax[1][1])\n",
    "sns.histplot(data=train, y=\"total sulfur dioxide\", x=\"quality\", ax=ax[1][2])\n",
    "sns.histplot(data=train, y=\"density\", x=\"quality\", ax=ax[1][3])\n",
    "\n",
    "sns.histplot(data=train, y=\"pH\", x=\"quality\", ax=ax[2][0])\n",
    "sns.histplot(data=train, y=\"sulphates\", x=\"quality\", ax=ax[2][1])\n",
    "sns.histplot(data=train, y=\"alcohol\", x=\"quality\", ax=ax[2][2])\n",
    "sns.countplot(data=train, x='type', hue='quality', ax=ax[2][3])\n",
    "\n",
    "plt.tight_layout()\n",
    "plt.show()"
   ]
  },
  {
   "cell_type": "code",
   "execution_count": 20,
   "id": "b9bf8e3a-4ba6-415d-bcda-34104c688879",
   "metadata": {},
   "outputs": [
    {
     "data": {
      "image/png": "[encoded data removed]",
      "text/plain": [
       "<Figure size 1008x648 with 12 Axes>"
      ]
     },
     "metadata": {
      "needs_background": "light"
     },
     "output_type": "display_data"
    }
   ],
   "source": [
    "figure, ax = plt.subplots(3, 4)\n",
    "figure.set_size_inches(14,9)\n",
    "\n",
    "sns.lineplot(data=train, y=\"fixed acidity\", x=\"quality\", ax=ax[0][0])\n",
    "sns.lineplot(data=train, y=\"volatile acidity\", x=\"quality\", ax=ax[0][1])\n",
    "sns.lineplot(data=train, y=\"citric acid\", x=\"quality\", ax=ax[0][2])\n",
    "sns.lineplot(data=train, y=\"residual sugar\", x=\"quality\", ax=ax[0][3])\n",
    "\n",
    "sns.lineplot(data=train, y=\"chlorides\", x=\"quality\", ax=ax[1][0])\n",
    "sns.lineplot(data=train, y=\"free sulfur dioxide\", x=\"quality\", ax=ax[1][1])\n",
    "sns.lineplot(data=train, y=\"total sulfur dioxide\", x=\"quality\", ax=ax[1][2])\n",
    "sns.lineplot(data=train, y=\"density\", x=\"quality\", ax=ax[1][3])\n",
    "\n",
    "sns.lineplot(data=train, y=\"pH\", x=\"quality\", ax=ax[2][0])\n",
    "sns.lineplot(data=train, y=\"sulphates\", x=\"quality\", ax=ax[2][1])\n",
    "sns.lineplot(data=train, y=\"alcohol\", x=\"quality\", ax=ax[2][2])\n",
    "sns.countplot(data=train, x='type', hue='quality', ax=ax[2][3])\n",
    "\n",
    "plt.tight_layout()\n",
    "plt.show()"
   ]
  },
  {
   "cell_type": "markdown",
   "id": "4f792936-e894-4d00-a5a2-e0ca2d9b3e89",
   "metadata": {},
   "source": [
    "### 4-3) Data Standardization (Normalization)"
   ]
  },
  {
   "cell_type": "code",
   "execution_count": 21,
   "id": "63b2aff6-d79f-48e7-8e8c-c728a07a96ef",
   "metadata": {},
   "outputs": [],
   "source": [
    "from sklearn.preprocessing import StandardScaler, MinMaxScaler"
   ]
  },
  {
   "cell_type": "code",
   "execution_count": 22,
   "id": "af603d4c-b0c6-48a3-b013-e30d3e71629f",
   "metadata": {},
   "outputs": [],
   "source": [
    "s_scaler = StandardScaler()\n",
    "m_scaler = MinMaxScaler()"
   ]
  },
  {
   "cell_type": "code",
   "execution_count": 23,
   "id": "dc47059b-8d64-4979-9125-ee214bc3d427",
   "metadata": {},
   "outputs": [
    {
     "data": {
      "text/plain": [
       "Index(['fixed acidity', 'volatile acidity', 'citric acid', 'residual sugar',\n",
       "       'chlorides', 'free sulfur dioxide', 'total sulfur dioxide', 'density',\n",
       "       'pH', 'sulphates', 'alcohol'],\n",
       "      dtype='object')"
      ]
     },
     "execution_count": 23,
     "metadata": {},
     "output_type": "execute_result"
    }
   ],
   "source": [
    "train.iloc[ : , 1:12].columns"
   ]
  },
  {
   "cell_type": "code",
   "execution_count": 24,
   "id": "3189e211-91a8-4d80-bc82-899c56499b6b",
   "metadata": {},
   "outputs": [],
   "source": [
    "s_col = ['fixed acidity', 'volatile acidity', 'citric acid', 'residual sugar',\n",
    "       'chlorides', 'free sulfur dioxide', 'total sulfur dioxide', 'density',\n",
    "       'pH', 'sulphates', 'alcohol']"
   ]
  },
  {
   "cell_type": "code",
   "execution_count": 25,
   "id": "07d7a8f0-45b8-45e5-9542-c6598c6c8c53",
   "metadata": {},
   "outputs": [
    {
     "name": "stdout",
     "output_type": "stream",
     "text": [
      "(5497, 11)\n"
     ]
    },
    {
     "data": {
      "text/html": [
       "<div>\n",
       "<style scoped>\n",
       "    .dataframe tbody tr th:only-of-type {\n",
       "        vertical-align: middle;\n",
       "    }\n",
       "\n",
       "    .dataframe tbody tr th {\n",
       "        vertical-align: top;\n",
       "    }\n",
       "\n",
       "    .dataframe thead th {\n",
       "        text-align: right;\n",
       "    }\n",
       "</style>\n",
       "<table border=\"1\" class=\"dataframe\">\n",
       "  <thead>\n",
       "    <tr style=\"text-align: right;\">\n",
       "      <th></th>\n",
       "      <th>fixed acidity</th>\n",
       "      <th>volatile acidity</th>\n",
       "      <th>citric acid</th>\n",
       "      <th>residual sugar</th>\n",
       "      <th>chlorides</th>\n",
       "      <th>free sulfur dioxide</th>\n",
       "      <th>total sulfur dioxide</th>\n",
       "      <th>density</th>\n",
       "      <th>pH</th>\n",
       "      <th>sulphates</th>\n",
       "      <th>alcohol</th>\n",
       "    </tr>\n",
       "    <tr>\n",
       "      <th>index</th>\n",
       "      <th></th>\n",
       "      <th></th>\n",
       "      <th></th>\n",
       "      <th></th>\n",
       "      <th></th>\n",
       "      <th></th>\n",
       "      <th></th>\n",
       "      <th></th>\n",
       "      <th></th>\n",
       "      <th></th>\n",
       "      <th></th>\n",
       "    </tr>\n",
       "  </thead>\n",
       "  <tbody>\n",
       "    <tr>\n",
       "      <th>0</th>\n",
       "      <td>5.6</td>\n",
       "      <td>0.695</td>\n",
       "      <td>0.06</td>\n",
       "      <td>6.8</td>\n",
       "      <td>0.042</td>\n",
       "      <td>9.0</td>\n",
       "      <td>84.0</td>\n",
       "      <td>0.99432</td>\n",
       "      <td>3.44</td>\n",
       "      <td>0.44</td>\n",
       "      <td>10.2</td>\n",
       "    </tr>\n",
       "    <tr>\n",
       "      <th>1</th>\n",
       "      <td>8.8</td>\n",
       "      <td>0.610</td>\n",
       "      <td>0.14</td>\n",
       "      <td>2.4</td>\n",
       "      <td>0.067</td>\n",
       "      <td>10.0</td>\n",
       "      <td>42.0</td>\n",
       "      <td>0.99690</td>\n",
       "      <td>3.19</td>\n",
       "      <td>0.59</td>\n",
       "      <td>9.5</td>\n",
       "    </tr>\n",
       "    <tr>\n",
       "      <th>2</th>\n",
       "      <td>7.9</td>\n",
       "      <td>0.210</td>\n",
       "      <td>0.39</td>\n",
       "      <td>2.0</td>\n",
       "      <td>0.057</td>\n",
       "      <td>21.0</td>\n",
       "      <td>138.0</td>\n",
       "      <td>0.99176</td>\n",
       "      <td>3.05</td>\n",
       "      <td>0.52</td>\n",
       "      <td>10.9</td>\n",
       "    </tr>\n",
       "    <tr>\n",
       "      <th>3</th>\n",
       "      <td>7.0</td>\n",
       "      <td>0.210</td>\n",
       "      <td>0.31</td>\n",
       "      <td>6.0</td>\n",
       "      <td>0.046</td>\n",
       "      <td>29.0</td>\n",
       "      <td>108.0</td>\n",
       "      <td>0.99390</td>\n",
       "      <td>3.26</td>\n",
       "      <td>0.50</td>\n",
       "      <td>10.8</td>\n",
       "    </tr>\n",
       "    <tr>\n",
       "      <th>4</th>\n",
       "      <td>7.8</td>\n",
       "      <td>0.400</td>\n",
       "      <td>0.26</td>\n",
       "      <td>9.5</td>\n",
       "      <td>0.059</td>\n",
       "      <td>32.0</td>\n",
       "      <td>178.0</td>\n",
       "      <td>0.99550</td>\n",
       "      <td>3.04</td>\n",
       "      <td>0.43</td>\n",
       "      <td>10.9</td>\n",
       "    </tr>\n",
       "  </tbody>\n",
       "</table>\n",
       "</div>"
      ],
      "text/plain": [
       "       fixed acidity  volatile acidity  citric acid  residual sugar  \\\n",
       "index                                                                 \n",
       "0                5.6             0.695         0.06             6.8   \n",
       "1                8.8             0.610         0.14             2.4   \n",
       "2                7.9             0.210         0.39             2.0   \n",
       "3                7.0             0.210         0.31             6.0   \n",
       "4                7.8             0.400         0.26             9.5   \n",
       "\n",
       "       chlorides  free sulfur dioxide  total sulfur dioxide  density    pH  \\\n",
       "index                                                                        \n",
       "0          0.042                  9.0                  84.0  0.99432  3.44   \n",
       "1          0.067                 10.0                  42.0  0.99690  3.19   \n",
       "2          0.057                 21.0                 138.0  0.99176  3.05   \n",
       "3          0.046                 29.0                 108.0  0.99390  3.26   \n",
       "4          0.059                 32.0                 178.0  0.99550  3.04   \n",
       "\n",
       "       sulphates  alcohol  \n",
       "index                      \n",
       "0           0.44     10.2  \n",
       "1           0.59      9.5  \n",
       "2           0.52     10.9  \n",
       "3           0.50     10.8  \n",
       "4           0.43     10.9  "
      ]
     },
     "execution_count": 25,
     "metadata": {},
     "output_type": "execute_result"
    }
   ],
   "source": [
    "print(train[s_col].shape)\n",
    "train[s_col].head()"
   ]
  },
  {
   "cell_type": "code",
   "execution_count": 26,
   "id": "4af92c91-9f9e-41d7-80d7-f1ee3c188f78",
   "metadata": {},
   "outputs": [],
   "source": [
    "# Standardization scaler\n",
    "train_sscale = s_scaler.fit_transform(train[s_col])\n",
    "df_train = pd.DataFrame(train_sscale, columns=s_col)"
   ]
  },
  {
   "cell_type": "code",
   "execution_count": 27,
   "id": "64f01c88-3000-4d9a-afa1-260a06347688",
   "metadata": {},
   "outputs": [],
   "source": [
    "# Nomalization (Min-Max) scaler\n",
    "train_mscale = m_scaler.fit_transform(train[s_col])\n",
    "df_train = pd.DataFrame(train_mscale, columns=s_col)"
   ]
  },
  {
   "cell_type": "code",
   "execution_count": 28,
   "id": "09e2daca-a1c2-4c29-9bb1-f95a577ef1b6",
   "metadata": {},
   "outputs": [
    {
     "data": {
      "text/html": [
       "<div>\n",
       "<style scoped>\n",
       "    .dataframe tbody tr th:only-of-type {\n",
       "        vertical-align: middle;\n",
       "    }\n",
       "\n",
       "    .dataframe tbody tr th {\n",
       "        vertical-align: top;\n",
       "    }\n",
       "\n",
       "    .dataframe thead th {\n",
       "        text-align: right;\n",
       "    }\n",
       "</style>\n",
       "<table border=\"1\" class=\"dataframe\">\n",
       "  <thead>\n",
       "    <tr style=\"text-align: right;\">\n",
       "      <th></th>\n",
       "      <th>fixed acidity</th>\n",
       "      <th>volatile acidity</th>\n",
       "      <th>citric acid</th>\n",
       "      <th>residual sugar</th>\n",
       "      <th>chlorides</th>\n",
       "      <th>free sulfur dioxide</th>\n",
       "      <th>total sulfur dioxide</th>\n",
       "      <th>density</th>\n",
       "      <th>pH</th>\n",
       "      <th>sulphates</th>\n",
       "      <th>alcohol</th>\n",
       "    </tr>\n",
       "    <tr>\n",
       "      <th>index</th>\n",
       "      <th></th>\n",
       "      <th></th>\n",
       "      <th></th>\n",
       "      <th></th>\n",
       "      <th></th>\n",
       "      <th></th>\n",
       "      <th></th>\n",
       "      <th></th>\n",
       "      <th></th>\n",
       "      <th></th>\n",
       "      <th></th>\n",
       "    </tr>\n",
       "  </thead>\n",
       "  <tbody>\n",
       "    <tr>\n",
       "      <th>0</th>\n",
       "      <td>0.148760</td>\n",
       "      <td>0.410000</td>\n",
       "      <td>0.036145</td>\n",
       "      <td>0.095092</td>\n",
       "      <td>0.054908</td>\n",
       "      <td>0.027778</td>\n",
       "      <td>0.179724</td>\n",
       "      <td>0.139001</td>\n",
       "      <td>0.551181</td>\n",
       "      <td>0.123596</td>\n",
       "      <td>0.318841</td>\n",
       "    </tr>\n",
       "    <tr>\n",
       "      <th>1</th>\n",
       "      <td>0.413223</td>\n",
       "      <td>0.353333</td>\n",
       "      <td>0.084337</td>\n",
       "      <td>0.027607</td>\n",
       "      <td>0.096506</td>\n",
       "      <td>0.031250</td>\n",
       "      <td>0.082949</td>\n",
       "      <td>0.188741</td>\n",
       "      <td>0.354331</td>\n",
       "      <td>0.207865</td>\n",
       "      <td>0.217391</td>\n",
       "    </tr>\n",
       "    <tr>\n",
       "      <th>2</th>\n",
       "      <td>0.338843</td>\n",
       "      <td>0.086667</td>\n",
       "      <td>0.234940</td>\n",
       "      <td>0.021472</td>\n",
       "      <td>0.079867</td>\n",
       "      <td>0.069444</td>\n",
       "      <td>0.304147</td>\n",
       "      <td>0.089647</td>\n",
       "      <td>0.244094</td>\n",
       "      <td>0.168539</td>\n",
       "      <td>0.420290</td>\n",
       "    </tr>\n",
       "  </tbody>\n",
       "</table>\n",
       "</div>"
      ],
      "text/plain": [
       "       fixed acidity  volatile acidity  citric acid  residual sugar  \\\n",
       "index                                                                 \n",
       "0           0.148760          0.410000     0.036145        0.095092   \n",
       "1           0.413223          0.353333     0.084337        0.027607   \n",
       "2           0.338843          0.086667     0.234940        0.021472   \n",
       "\n",
       "       chlorides  free sulfur dioxide  total sulfur dioxide   density  \\\n",
       "index                                                                   \n",
       "0       0.054908             0.027778              0.179724  0.139001   \n",
       "1       0.096506             0.031250              0.082949  0.188741   \n",
       "2       0.079867             0.069444              0.304147  0.089647   \n",
       "\n",
       "             pH  sulphates   alcohol  \n",
       "index                                 \n",
       "0      0.551181   0.123596  0.318841  \n",
       "1      0.354331   0.207865  0.217391  \n",
       "2      0.244094   0.168539  0.420290  "
      ]
     },
     "execution_count": 28,
     "metadata": {},
     "output_type": "execute_result"
    }
   ],
   "source": [
    "df_train = pd.concat([df_train, train[s_col].reset_index()['index']], axis=1)\n",
    "df_train.set_index('index', inplace=True)\n",
    "\n",
    "df_train.head(3)"
   ]
  },
  {
   "cell_type": "code",
   "execution_count": 29,
   "id": "e14d0cbe-90be-401a-bc0d-b3bcadd53099",
   "metadata": {},
   "outputs": [],
   "source": [
    "# Standardization scaler\n",
    "test_sscale = s_scaler.fit_transform(test[s_col])\n",
    "df_test = pd.DataFrame(test_sscale, columns=s_col)"
   ]
  },
  {
   "cell_type": "code",
   "execution_count": 30,
   "id": "bc32203b-190d-4a24-a4de-df9372492876",
   "metadata": {},
   "outputs": [],
   "source": [
    "# Nomalization (Min-Max) scaler\n",
    "test_mscale = m_scaler.fit_transform(test[s_col])\n",
    "df_test = pd.DataFrame(test_mscale, columns=s_col)"
   ]
  },
  {
   "cell_type": "code",
   "execution_count": 31,
   "id": "ef2b71f8-86fe-4659-90ad-d7255dc34bf1",
   "metadata": {},
   "outputs": [
    {
     "data": {
      "text/html": [
       "<div>\n",
       "<style scoped>\n",
       "    .dataframe tbody tr th:only-of-type {\n",
       "        vertical-align: middle;\n",
       "    }\n",
       "\n",
       "    .dataframe tbody tr th {\n",
       "        vertical-align: top;\n",
       "    }\n",
       "\n",
       "    .dataframe thead th {\n",
       "        text-align: right;\n",
       "    }\n",
       "</style>\n",
       "<table border=\"1\" class=\"dataframe\">\n",
       "  <thead>\n",
       "    <tr style=\"text-align: right;\">\n",
       "      <th></th>\n",
       "      <th>fixed acidity</th>\n",
       "      <th>volatile acidity</th>\n",
       "      <th>citric acid</th>\n",
       "      <th>residual sugar</th>\n",
       "      <th>chlorides</th>\n",
       "      <th>free sulfur dioxide</th>\n",
       "      <th>total sulfur dioxide</th>\n",
       "      <th>density</th>\n",
       "      <th>pH</th>\n",
       "      <th>sulphates</th>\n",
       "      <th>alcohol</th>\n",
       "    </tr>\n",
       "    <tr>\n",
       "      <th>index</th>\n",
       "      <th></th>\n",
       "      <th></th>\n",
       "      <th></th>\n",
       "      <th></th>\n",
       "      <th></th>\n",
       "      <th></th>\n",
       "      <th></th>\n",
       "      <th></th>\n",
       "      <th></th>\n",
       "      <th></th>\n",
       "      <th></th>\n",
       "    </tr>\n",
       "  </thead>\n",
       "  <tbody>\n",
       "    <tr>\n",
       "      <th>0</th>\n",
       "      <td>0.421053</td>\n",
       "      <td>0.198276</td>\n",
       "      <td>0.592593</td>\n",
       "      <td>0.269406</td>\n",
       "      <td>0.048576</td>\n",
       "      <td>0.082305</td>\n",
       "      <td>0.234043</td>\n",
       "      <td>0.376667</td>\n",
       "      <td>0.169811</td>\n",
       "      <td>0.138889</td>\n",
       "      <td>0.571429</td>\n",
       "    </tr>\n",
       "    <tr>\n",
       "      <th>1</th>\n",
       "      <td>0.798246</td>\n",
       "      <td>0.301724</td>\n",
       "      <td>0.716049</td>\n",
       "      <td>0.054795</td>\n",
       "      <td>0.093802</td>\n",
       "      <td>0.115226</td>\n",
       "      <td>0.117021</td>\n",
       "      <td>0.816667</td>\n",
       "      <td>0.320755</td>\n",
       "      <td>0.240741</td>\n",
       "      <td>0.107143</td>\n",
       "    </tr>\n",
       "    <tr>\n",
       "      <th>2</th>\n",
       "      <td>0.201754</td>\n",
       "      <td>0.172414</td>\n",
       "      <td>0.333333</td>\n",
       "      <td>0.205479</td>\n",
       "      <td>0.043551</td>\n",
       "      <td>0.353909</td>\n",
       "      <td>0.609929</td>\n",
       "      <td>0.443333</td>\n",
       "      <td>0.443396</td>\n",
       "      <td>0.425926</td>\n",
       "      <td>0.178571</td>\n",
       "    </tr>\n",
       "  </tbody>\n",
       "</table>\n",
       "</div>"
      ],
      "text/plain": [
       "       fixed acidity  volatile acidity  citric acid  residual sugar  \\\n",
       "index                                                                 \n",
       "0           0.421053          0.198276     0.592593        0.269406   \n",
       "1           0.798246          0.301724     0.716049        0.054795   \n",
       "2           0.201754          0.172414     0.333333        0.205479   \n",
       "\n",
       "       chlorides  free sulfur dioxide  total sulfur dioxide   density  \\\n",
       "index                                                                   \n",
       "0       0.048576             0.082305              0.234043  0.376667   \n",
       "1       0.093802             0.115226              0.117021  0.816667   \n",
       "2       0.043551             0.353909              0.609929  0.443333   \n",
       "\n",
       "             pH  sulphates   alcohol  \n",
       "index                                 \n",
       "0      0.169811   0.138889  0.571429  \n",
       "1      0.320755   0.240741  0.107143  \n",
       "2      0.443396   0.425926  0.178571  "
      ]
     },
     "execution_count": 31,
     "metadata": {},
     "output_type": "execute_result"
    }
   ],
   "source": [
    "df_test = pd.concat([df_test, test[s_col].reset_index()['index']], axis = 1)\n",
    "df_test.set_index('index', inplace=True)\n",
    "\n",
    "df_test.head(3)"
   ]
  },
  {
   "cell_type": "markdown",
   "id": "1550f4ad-aebe-4898-895b-3b4fed654021",
   "metadata": {},
   "source": [
    "## 5. Modeling"
   ]
  },
  {
   "cell_type": "code",
   "execution_count": 32,
   "id": "742731d3-aad9-4bf5-811c-a86ccbe58e48",
   "metadata": {},
   "outputs": [],
   "source": [
    "from sklearn.linear_model import LogisticRegression\n",
    "from sklearn.ensemble import RandomForestClassifier\n",
    "from sklearn.ensemble import GradientBoostingClassifier"
   ]
  },
  {
   "cell_type": "markdown",
   "id": "220b46f6-2ed0-46ec-8aa6-ecf82f90a652",
   "metadata": {},
   "source": [
    "### 5-0) Feature selection (the first approach)"
   ]
  },
  {
   "cell_type": "code",
   "execution_count": 33,
   "id": "5ab29665-d07b-443b-8a5e-1c98b53ec55b",
   "metadata": {},
   "outputs": [],
   "source": [
    "X_train = train.drop(columns = ['type', 'quality', 'qual_grade'])\n",
    "y_train = train['quality']"
   ]
  },
  {
   "cell_type": "code",
   "execution_count": 34,
   "id": "db2cecc2-8333-4666-8b26-f43adf8cdd9c",
   "metadata": {},
   "outputs": [
    {
     "data": {
      "text/html": [
       "<div>\n",
       "<style scoped>\n",
       "    .dataframe tbody tr th:only-of-type {\n",
       "        vertical-align: middle;\n",
       "    }\n",
       "\n",
       "    .dataframe tbody tr th {\n",
       "        vertical-align: top;\n",
       "    }\n",
       "\n",
       "    .dataframe thead th {\n",
       "        text-align: right;\n",
       "    }\n",
       "</style>\n",
       "<table border=\"1\" class=\"dataframe\">\n",
       "  <thead>\n",
       "    <tr style=\"text-align: right;\">\n",
       "      <th></th>\n",
       "      <th>fixed acidity</th>\n",
       "      <th>volatile acidity</th>\n",
       "      <th>citric acid</th>\n",
       "      <th>residual sugar</th>\n",
       "      <th>chlorides</th>\n",
       "      <th>free sulfur dioxide</th>\n",
       "      <th>total sulfur dioxide</th>\n",
       "      <th>density</th>\n",
       "      <th>pH</th>\n",
       "      <th>sulphates</th>\n",
       "      <th>alcohol</th>\n",
       "      <th>type</th>\n",
       "      <th>type(encode)</th>\n",
       "    </tr>\n",
       "    <tr>\n",
       "      <th>index</th>\n",
       "      <th></th>\n",
       "      <th></th>\n",
       "      <th></th>\n",
       "      <th></th>\n",
       "      <th></th>\n",
       "      <th></th>\n",
       "      <th></th>\n",
       "      <th></th>\n",
       "      <th></th>\n",
       "      <th></th>\n",
       "      <th></th>\n",
       "      <th></th>\n",
       "      <th></th>\n",
       "    </tr>\n",
       "  </thead>\n",
       "  <tbody>\n",
       "    <tr>\n",
       "      <th>0</th>\n",
       "      <td>9.0</td>\n",
       "      <td>0.31</td>\n",
       "      <td>0.48</td>\n",
       "      <td>6.6</td>\n",
       "      <td>0.043</td>\n",
       "      <td>11.0</td>\n",
       "      <td>73.0</td>\n",
       "      <td>0.9938</td>\n",
       "      <td>2.90</td>\n",
       "      <td>0.38</td>\n",
       "      <td>11.6</td>\n",
       "      <td>white</td>\n",
       "      <td>0</td>\n",
       "    </tr>\n",
       "    <tr>\n",
       "      <th>1</th>\n",
       "      <td>13.3</td>\n",
       "      <td>0.43</td>\n",
       "      <td>0.58</td>\n",
       "      <td>1.9</td>\n",
       "      <td>0.070</td>\n",
       "      <td>15.0</td>\n",
       "      <td>40.0</td>\n",
       "      <td>1.0004</td>\n",
       "      <td>3.06</td>\n",
       "      <td>0.49</td>\n",
       "      <td>9.0</td>\n",
       "      <td>red</td>\n",
       "      <td>1</td>\n",
       "    </tr>\n",
       "    <tr>\n",
       "      <th>2</th>\n",
       "      <td>6.5</td>\n",
       "      <td>0.28</td>\n",
       "      <td>0.27</td>\n",
       "      <td>5.2</td>\n",
       "      <td>0.040</td>\n",
       "      <td>44.0</td>\n",
       "      <td>179.0</td>\n",
       "      <td>0.9948</td>\n",
       "      <td>3.19</td>\n",
       "      <td>0.69</td>\n",
       "      <td>9.4</td>\n",
       "      <td>white</td>\n",
       "      <td>0</td>\n",
       "    </tr>\n",
       "  </tbody>\n",
       "</table>\n",
       "</div>"
      ],
      "text/plain": [
       "       fixed acidity  volatile acidity  citric acid  residual sugar  \\\n",
       "index                                                                 \n",
       "0                9.0              0.31         0.48             6.6   \n",
       "1               13.3              0.43         0.58             1.9   \n",
       "2                6.5              0.28         0.27             5.2   \n",
       "\n",
       "       chlorides  free sulfur dioxide  total sulfur dioxide  density    pH  \\\n",
       "index                                                                        \n",
       "0          0.043                 11.0                  73.0   0.9938  2.90   \n",
       "1          0.070                 15.0                  40.0   1.0004  3.06   \n",
       "2          0.040                 44.0                 179.0   0.9948  3.19   \n",
       "\n",
       "       sulphates  alcohol   type  type(encode)  \n",
       "index                                           \n",
       "0           0.38     11.6  white             0  \n",
       "1           0.49      9.0    red             1  \n",
       "2           0.69      9.4  white             0  "
      ]
     },
     "execution_count": 34,
     "metadata": {},
     "output_type": "execute_result"
    }
   ],
   "source": [
    "test.head(3)"
   ]
  },
  {
   "cell_type": "code",
   "execution_count": 35,
   "id": "edeba160-1ed5-4627-b6f3-2410ac68562f",
   "metadata": {},
   "outputs": [],
   "source": [
    "X_test = test.drop(columns = ['type'])"
   ]
  },
  {
   "cell_type": "code",
   "execution_count": 36,
   "id": "e3888d53-852c-4c29-908f-9849ceec67af",
   "metadata": {},
   "outputs": [
    {
     "data": {
      "text/html": [
       "<div>\n",
       "<style scoped>\n",
       "    .dataframe tbody tr th:only-of-type {\n",
       "        vertical-align: middle;\n",
       "    }\n",
       "\n",
       "    .dataframe tbody tr th {\n",
       "        vertical-align: top;\n",
       "    }\n",
       "\n",
       "    .dataframe thead th {\n",
       "        text-align: right;\n",
       "    }\n",
       "</style>\n",
       "<table border=\"1\" class=\"dataframe\">\n",
       "  <thead>\n",
       "    <tr style=\"text-align: right;\">\n",
       "      <th></th>\n",
       "      <th>fixed acidity</th>\n",
       "      <th>volatile acidity</th>\n",
       "      <th>citric acid</th>\n",
       "      <th>residual sugar</th>\n",
       "      <th>chlorides</th>\n",
       "      <th>free sulfur dioxide</th>\n",
       "      <th>total sulfur dioxide</th>\n",
       "      <th>density</th>\n",
       "      <th>pH</th>\n",
       "      <th>sulphates</th>\n",
       "      <th>alcohol</th>\n",
       "      <th>type(encode)</th>\n",
       "    </tr>\n",
       "    <tr>\n",
       "      <th>index</th>\n",
       "      <th></th>\n",
       "      <th></th>\n",
       "      <th></th>\n",
       "      <th></th>\n",
       "      <th></th>\n",
       "      <th></th>\n",
       "      <th></th>\n",
       "      <th></th>\n",
       "      <th></th>\n",
       "      <th></th>\n",
       "      <th></th>\n",
       "      <th></th>\n",
       "    </tr>\n",
       "  </thead>\n",
       "  <tbody>\n",
       "    <tr>\n",
       "      <th>0</th>\n",
       "      <td>5.6</td>\n",
       "      <td>0.695</td>\n",
       "      <td>0.06</td>\n",
       "      <td>6.8</td>\n",
       "      <td>0.042</td>\n",
       "      <td>9.0</td>\n",
       "      <td>84.0</td>\n",
       "      <td>0.99432</td>\n",
       "      <td>3.44</td>\n",
       "      <td>0.44</td>\n",
       "      <td>10.2</td>\n",
       "      <td>0</td>\n",
       "    </tr>\n",
       "  </tbody>\n",
       "</table>\n",
       "</div>"
      ],
      "text/plain": [
       "       fixed acidity  volatile acidity  citric acid  residual sugar  \\\n",
       "index                                                                 \n",
       "0                5.6             0.695         0.06             6.8   \n",
       "\n",
       "       chlorides  free sulfur dioxide  total sulfur dioxide  density    pH  \\\n",
       "index                                                                        \n",
       "0          0.042                  9.0                  84.0  0.99432  3.44   \n",
       "\n",
       "       sulphates  alcohol  type(encode)  \n",
       "index                                    \n",
       "0           0.44     10.2             0  "
      ]
     },
     "execution_count": 36,
     "metadata": {},
     "output_type": "execute_result"
    }
   ],
   "source": [
    "X_train.head(1)"
   ]
  },
  {
   "cell_type": "code",
   "execution_count": 37,
   "id": "90ee267e-883c-4297-9974-8a8c08e22aaa",
   "metadata": {},
   "outputs": [
    {
     "data": {
      "text/html": [
       "<div>\n",
       "<style scoped>\n",
       "    .dataframe tbody tr th:only-of-type {\n",
       "        vertical-align: middle;\n",
       "    }\n",
       "\n",
       "    .dataframe tbody tr th {\n",
       "        vertical-align: top;\n",
       "    }\n",
       "\n",
       "    .dataframe thead th {\n",
       "        text-align: right;\n",
       "    }\n",
       "</style>\n",
       "<table border=\"1\" class=\"dataframe\">\n",
       "  <thead>\n",
       "    <tr style=\"text-align: right;\">\n",
       "      <th></th>\n",
       "      <th>fixed acidity</th>\n",
       "      <th>volatile acidity</th>\n",
       "      <th>citric acid</th>\n",
       "      <th>residual sugar</th>\n",
       "      <th>chlorides</th>\n",
       "      <th>free sulfur dioxide</th>\n",
       "      <th>total sulfur dioxide</th>\n",
       "      <th>density</th>\n",
       "      <th>pH</th>\n",
       "      <th>sulphates</th>\n",
       "      <th>alcohol</th>\n",
       "      <th>type(encode)</th>\n",
       "    </tr>\n",
       "    <tr>\n",
       "      <th>index</th>\n",
       "      <th></th>\n",
       "      <th></th>\n",
       "      <th></th>\n",
       "      <th></th>\n",
       "      <th></th>\n",
       "      <th></th>\n",
       "      <th></th>\n",
       "      <th></th>\n",
       "      <th></th>\n",
       "      <th></th>\n",
       "      <th></th>\n",
       "      <th></th>\n",
       "    </tr>\n",
       "  </thead>\n",
       "  <tbody>\n",
       "    <tr>\n",
       "      <th>0</th>\n",
       "      <td>9.0</td>\n",
       "      <td>0.31</td>\n",
       "      <td>0.48</td>\n",
       "      <td>6.6</td>\n",
       "      <td>0.043</td>\n",
       "      <td>11.0</td>\n",
       "      <td>73.0</td>\n",
       "      <td>0.9938</td>\n",
       "      <td>2.9</td>\n",
       "      <td>0.38</td>\n",
       "      <td>11.6</td>\n",
       "      <td>0</td>\n",
       "    </tr>\n",
       "  </tbody>\n",
       "</table>\n",
       "</div>"
      ],
      "text/plain": [
       "       fixed acidity  volatile acidity  citric acid  residual sugar  \\\n",
       "index                                                                 \n",
       "0                9.0              0.31         0.48             6.6   \n",
       "\n",
       "       chlorides  free sulfur dioxide  total sulfur dioxide  density   pH  \\\n",
       "index                                                                       \n",
       "0          0.043                 11.0                  73.0   0.9938  2.9   \n",
       "\n",
       "       sulphates  alcohol  type(encode)  \n",
       "index                                    \n",
       "0           0.38     11.6             0  "
      ]
     },
     "execution_count": 37,
     "metadata": {},
     "output_type": "execute_result"
    }
   ],
   "source": [
    "X_test.head(1)"
   ]
  },
  {
   "cell_type": "markdown",
   "id": "fbc5989e-ff45-4b20-9f4f-4f54647e0d88",
   "metadata": {},
   "source": [
    "### 5-1) Feature selection (for standardization)"
   ]
  },
  {
   "cell_type": "code",
   "execution_count": 38,
   "id": "3a32aea0-7619-4a2a-ab05-7cacc24362a9",
   "metadata": {},
   "outputs": [
    {
     "data": {
      "text/plain": [
       "Index(['fixed acidity', 'volatile acidity', 'citric acid', 'residual sugar',\n",
       "       'chlorides', 'free sulfur dioxide', 'total sulfur dioxide', 'density',\n",
       "       'pH', 'sulphates', 'alcohol'],\n",
       "      dtype='object')"
      ]
     },
     "execution_count": 38,
     "metadata": {},
     "output_type": "execute_result"
    }
   ],
   "source": [
    "df_train.columns"
   ]
  },
  {
   "cell_type": "code",
   "execution_count": 39,
   "id": "8c5fb650-1aef-4272-82ab-d9125dfb3455",
   "metadata": {},
   "outputs": [
    {
     "name": "stdout",
     "output_type": "stream",
     "text": [
      "['fixed acidity', 'volatile acidity', 'citric acid', 'residual sugar', 'chlorides', 'free sulfur dioxide', 'total sulfur dioxide', 'density', 'pH', 'sulphates', 'alcohol']\n"
     ]
    }
   ],
   "source": [
    "f_names = ['fixed acidity', 'volatile acidity', 'citric acid', 'residual sugar',\n",
    "       'chlorides', 'free sulfur dioxide', 'total sulfur dioxide', 'density',\n",
    "       'pH', 'sulphates', 'alcohol']\n",
    "print(f_names)"
   ]
  },
  {
   "cell_type": "code",
   "execution_count": 40,
   "id": "67a0355f-a196-4ff2-b7f2-0d69db0bdec2",
   "metadata": {},
   "outputs": [],
   "source": [
    "X_train = df_train[f_names] # Nomalization (Min-Max) scaler 적용한  train 데이터 셋\n",
    "y_train = train['quality']"
   ]
  },
  {
   "cell_type": "code",
   "execution_count": 41,
   "id": "179f10f2-4bd2-413d-9c81-a72b103e891b",
   "metadata": {},
   "outputs": [],
   "source": [
    "X_test = df_test[f_names]"
   ]
  },
  {
   "cell_type": "markdown",
   "id": "0433114f-5dbc-4c7a-b50b-1d9040ec37bf",
   "metadata": {},
   "source": [
    "#### 5-1)-1) Models: Logistic Regression"
   ]
  },
  {
   "cell_type": "code",
   "execution_count": 42,
   "id": "c4190022-99ee-4e29-9a80-7fea8886ad09",
   "metadata": {},
   "outputs": [],
   "source": [
    "l_reg = LogisticRegression(solver='liblinear', random_state=30) # solver: 최적화에 사용할 알고리즘 결정"
   ]
  },
  {
   "cell_type": "code",
   "execution_count": 43,
   "id": "dcd3d235-08d3-43ca-9ae0-2b803fe400c4",
   "metadata": {},
   "outputs": [
    {
     "data": {
      "text/plain": [
       "LogisticRegression(random_state=30, solver='liblinear')"
      ]
     },
     "execution_count": 43,
     "metadata": {},
     "output_type": "execute_result"
    }
   ],
   "source": [
    "l_reg.fit(X_train, y_train)"
   ]
  },
  {
   "cell_type": "code",
   "execution_count": 44,
   "id": "7718e198-fd85-406c-9eae-1a52b75da5c0",
   "metadata": {
    "scrolled": true,
    "tags": []
   },
   "outputs": [
    {
     "data": {
      "text/plain": [
       "array([6, 5, 6, 6, 6, 6, 6, 6, 6, 6, 6, 5, 6, 6, 6, 5, 6, 7, 6, 5, 6, 6,\n",
       "       5, 6, 6, 5, 5, 5, 6, 6, 7, 6, 5, 5, 6, 6, 5, 5, 6, 6, 6, 6, 6, 6,\n",
       "       6, 7, 5, 6, 6, 6, 5, 5, 6, 5, 5, 6, 6, 5, 5, 6, 5, 6, 5, 6, 6, 6,\n",
       "       5, 6, 6, 5, 6, 5, 6, 5, 6, 5, 6, 6, 6, 6, 6, 6, 5, 5, 6, 6, 6, 6,\n",
       "       6, 6, 6, 6, 5, 6, 6, 6, 6, 6, 6, 6, 5, 5, 6, 5, 5, 6, 6, 6, 6, 6,\n",
       "       6, 6, 6, 6, 5, 6, 5, 7, 6, 6, 6, 5, 6, 6, 6, 5, 6, 6, 6, 6, 5, 5,\n",
       "       6, 5, 6, 6, 6, 7, 5, 5, 5, 5, 6, 5, 5, 5, 6, 6, 6, 6, 6, 7, 6, 5,\n",
       "       6, 5, 5, 6, 6, 5, 5, 6, 6, 6, 6, 5, 6, 6, 6, 5, 5, 5, 6, 5, 6, 6,\n",
       "       6, 5, 6, 5, 5, 5, 5, 7, 5, 6, 6, 6, 6, 6, 6, 6, 6, 6, 5, 6, 7, 5,\n",
       "       6, 6, 6, 6, 5, 5, 5, 5, 6, 6, 6, 6, 7, 6, 5, 6, 6, 6, 6, 5, 6, 6,\n",
       "       6, 6, 6, 6, 7, 6, 6, 5, 6, 5, 7, 6, 6, 6, 6, 6, 6, 6, 6, 6, 6, 6,\n",
       "       6, 6, 6, 6, 5, 7, 5, 7, 6, 6, 6, 6, 6, 6, 6, 7, 6, 6, 6, 6, 5, 6,\n",
       "       6, 6, 6, 6, 6, 6, 6, 6, 5, 5, 6, 6, 6, 6, 5, 5, 6, 6, 6, 6, 6, 6,\n",
       "       6, 6, 5, 6, 6, 5, 5, 6, 5, 6, 6, 6, 5, 7, 6, 6, 5, 6, 6, 6, 5, 7,\n",
       "       5, 5, 6, 6, 6, 6, 6, 6, 5, 5, 6, 6, 6, 5, 6, 5, 5, 5, 5, 6, 7, 5,\n",
       "       5, 6, 6, 5, 5, 6, 6, 6, 6, 5, 6, 6, 6, 6, 5, 6, 6, 7, 6, 6, 5, 5,\n",
       "       5, 6, 6, 5, 6, 6, 6, 6, 5, 6, 5, 6, 7, 6, 6, 5, 7, 5, 6, 5, 5, 6,\n",
       "       6, 5, 6, 6, 6, 6, 6, 6, 6, 7, 5, 6, 6, 6, 6, 6, 7, 5, 7, 6, 5, 6,\n",
       "       6, 6, 7, 6, 7, 5, 6, 6, 6, 6, 5, 6, 6, 5, 6, 5, 5, 5, 5, 6, 6, 6,\n",
       "       6, 6, 6, 6, 5, 6, 6, 6, 6, 6, 5, 6, 6, 6, 5, 6, 7, 5, 6, 5, 5, 5,\n",
       "       5, 6, 6, 6, 6, 6, 5, 5, 5, 6, 6, 6, 5, 6, 6, 5, 7, 6, 6, 5, 6, 6,\n",
       "       6, 5, 5, 5, 6, 6, 6, 5, 5, 5, 5, 6, 5, 6, 7, 6, 6, 6, 6, 6, 6, 5,\n",
       "       6, 6, 6, 6, 6, 6, 6, 6, 6, 6, 5, 6, 6, 5, 6, 6, 6, 6, 6, 7, 6, 6,\n",
       "       6, 6, 6, 6, 5, 6, 6, 6, 6, 5, 6, 7, 6, 5, 6, 6, 5, 6, 6, 5, 6, 6,\n",
       "       6, 6, 5, 6, 6, 6, 6, 7, 6, 5, 5, 5, 5, 5, 6, 6, 7, 6, 6, 5, 6, 6,\n",
       "       5, 6, 6, 6, 5, 6, 5, 6, 5, 6, 5, 6, 5, 6, 6, 6, 6, 7, 5, 5, 6, 5,\n",
       "       5, 6, 6, 5, 6, 5, 5, 5, 6, 6, 5, 6, 6, 6, 6, 6, 6, 6, 7, 5, 7, 6,\n",
       "       5, 5, 6, 7, 5, 6, 6, 7, 6, 6, 5, 6, 5, 6, 6, 5, 7, 5, 6, 5, 6, 6,\n",
       "       6, 6, 7, 6, 6, 6, 6, 7, 5, 6, 5, 6, 5, 5, 6, 6, 5, 5, 6, 6, 5, 6,\n",
       "       6, 5, 5, 6, 6, 5, 6, 6, 6, 6, 6, 5, 6, 5, 6, 6, 6, 5, 7, 6, 6, 5,\n",
       "       6, 6, 5, 6, 6, 5, 6, 6, 6, 5, 6, 5, 6, 6, 6, 5, 6, 6, 6, 6, 6, 6,\n",
       "       7, 5, 6, 6, 6, 7, 5, 6, 7, 6, 5, 7, 6, 6, 5, 6, 5, 6, 6, 6, 6, 6,\n",
       "       5, 6, 5, 6, 6, 5, 6, 5, 6, 6, 6, 6, 5, 6, 6, 6, 6, 6, 6, 6, 6, 6,\n",
       "       6, 6, 7, 6, 5, 6, 5, 6, 7, 6, 5, 6, 6, 5, 6, 6, 6, 5, 5, 5, 6, 5,\n",
       "       5, 5, 6, 5, 5, 5, 6, 7, 6, 6, 5, 6, 5, 5, 6, 7, 6, 6, 6, 6, 5, 6,\n",
       "       6, 6, 7, 6, 6, 6, 6, 6, 6, 5, 7, 6, 6, 5, 5, 5, 5, 6, 5, 6, 5, 6,\n",
       "       7, 6, 6, 6, 6, 5, 6, 6, 5, 6, 6, 6, 6, 6, 5, 6, 7, 6, 6, 6, 6, 6,\n",
       "       6, 5, 6, 6, 5, 5, 6, 5, 6, 5, 6, 6, 6, 5, 6, 7, 6, 7, 7, 5, 6, 6,\n",
       "       6, 7, 6, 6, 5, 5, 6, 6, 6, 5, 6, 6, 7, 6, 5, 6, 6, 6, 5, 5, 6, 6,\n",
       "       5, 6, 6, 6, 5, 6, 6, 6, 6, 6, 6, 6, 7, 6, 6, 7, 5, 5, 6, 6, 6, 6,\n",
       "       6, 7, 5, 5, 6, 7, 6, 6, 6, 5, 6, 7, 7, 6, 5, 5, 5, 6, 6, 6, 6, 6,\n",
       "       5, 6, 6, 6, 6, 6, 5, 7, 6, 6, 5, 6, 6, 6, 7, 6, 6, 5, 6, 6, 6, 6,\n",
       "       6, 6, 6, 5, 6, 6, 5, 6, 5, 6, 5, 6, 6, 6, 5, 7, 5, 6, 6, 5, 6, 6,\n",
       "       6, 5, 6, 5, 6, 6, 6, 6, 6, 6, 6, 7, 6, 6, 5, 5, 6, 6, 6, 6, 5, 5,\n",
       "       6, 6, 6, 6, 7, 6, 6, 6, 7, 6, 6, 6, 6, 6, 6, 5, 5, 6, 6, 5, 5, 5,\n",
       "       5, 6, 6, 5, 7, 5, 6, 5, 6, 6], dtype=int64)"
      ]
     },
     "execution_count": 44,
     "metadata": {},
     "output_type": "execute_result"
    }
   ],
   "source": [
    "pred = l_reg.predict(X_test)\n",
    "pred"
   ]
  },
  {
   "cell_type": "markdown",
   "id": "1ff97d71-2c3f-4544-9e00-75959ab11c92",
   "metadata": {},
   "source": [
    "#### 5-1)-2) Models: RandomForest"
   ]
  },
  {
   "cell_type": "code",
   "execution_count": 45,
   "id": "a161e878-485f-4c0b-9a63-882291eac348",
   "metadata": {},
   "outputs": [],
   "source": [
    "rf_clf = RandomForestClassifier(random_state=30)"
   ]
  },
  {
   "cell_type": "code",
   "execution_count": 46,
   "id": "1dc2b506-4819-4440-89f5-ccc2c425bddb",
   "metadata": {},
   "outputs": [
    {
     "data": {
      "text/plain": [
       "RandomForestClassifier(random_state=30)"
      ]
     },
     "execution_count": 46,
     "metadata": {},
     "output_type": "execute_result"
    }
   ],
   "source": [
    "rf_clf.fit(X_train, y_train)"
   ]
  },
  {
   "cell_type": "code",
   "execution_count": 47,
   "id": "7cf59c7a-f574-45e6-86f8-750bb567e8ce",
   "metadata": {
    "scrolled": true,
    "tags": []
   },
   "outputs": [
    {
     "data": {
      "text/plain": [
       "array([6, 6, 6, 5, 7, 6, 6, 6, 6, 6, 5, 5, 6, 6, 6, 5, 5, 6, 5, 5, 7, 6,\n",
       "       5, 6, 6, 6, 5, 5, 6, 5, 7, 6, 5, 5, 6, 6, 5, 5, 6, 5, 6, 6, 6, 6,\n",
       "       6, 6, 6, 6, 6, 5, 6, 5, 5, 6, 5, 5, 6, 6, 6, 6, 5, 5, 5, 6, 6, 5,\n",
       "       5, 5, 5, 5, 5, 5, 5, 5, 6, 5, 5, 6, 6, 6, 6, 6, 5, 5, 6, 5, 5, 5,\n",
       "       6, 6, 6, 6, 5, 6, 6, 6, 5, 6, 6, 6, 5, 5, 6, 5, 5, 6, 6, 6, 6, 6,\n",
       "       7, 6, 6, 5, 7, 6, 5, 6, 7, 5, 6, 5, 6, 7, 6, 6, 6, 6, 6, 6, 6, 5,\n",
       "       5, 5, 5, 6, 5, 6, 6, 5, 5, 6, 6, 6, 5, 5, 6, 5, 6, 6, 6, 7, 6, 5,\n",
       "       5, 5, 5, 6, 5, 5, 5, 5, 6, 6, 6, 6, 6, 6, 6, 6, 5, 6, 6, 5, 6, 6,\n",
       "       6, 6, 5, 6, 6, 5, 6, 6, 5, 6, 6, 6, 5, 6, 6, 6, 6, 6, 6, 6, 7, 6,\n",
       "       5, 6, 6, 6, 6, 6, 6, 5, 7, 6, 6, 5, 6, 5, 6, 6, 6, 6, 6, 6, 6, 6,\n",
       "       6, 6, 6, 6, 6, 6, 6, 5, 5, 5, 6, 7, 7, 6, 6, 6, 6, 6, 6, 6, 7, 6,\n",
       "       6, 6, 7, 6, 6, 7, 6, 7, 6, 5, 6, 7, 6, 6, 6, 7, 6, 6, 7, 6, 6, 6,\n",
       "       5, 7, 6, 6, 6, 6, 7, 5, 6, 5, 6, 6, 7, 6, 6, 5, 6, 6, 6, 6, 6, 6,\n",
       "       6, 6, 5, 5, 5, 5, 6, 6, 5, 5, 5, 5, 5, 7, 6, 5, 5, 5, 5, 6, 5, 6,\n",
       "       6, 5, 5, 6, 6, 5, 6, 6, 6, 5, 5, 6, 5, 5, 5, 5, 5, 6, 5, 6, 7, 5,\n",
       "       6, 6, 6, 6, 5, 6, 5, 6, 6, 5, 6, 6, 5, 6, 6, 7, 5, 7, 6, 6, 5, 5,\n",
       "       5, 6, 6, 5, 5, 6, 6, 6, 5, 6, 5, 6, 6, 6, 5, 5, 6, 6, 6, 5, 6, 6,\n",
       "       6, 5, 5, 5, 6, 5, 6, 6, 6, 7, 5, 6, 6, 5, 6, 5, 6, 5, 7, 5, 5, 6,\n",
       "       6, 6, 6, 6, 6, 6, 5, 6, 6, 6, 6, 6, 6, 6, 6, 6, 5, 5, 6, 6, 6, 5,\n",
       "       5, 6, 6, 6, 5, 6, 5, 6, 5, 6, 5, 6, 7, 5, 5, 6, 6, 5, 6, 5, 5, 5,\n",
       "       5, 6, 6, 6, 6, 6, 6, 5, 5, 6, 6, 6, 5, 6, 5, 5, 6, 6, 6, 5, 6, 6,\n",
       "       6, 5, 5, 5, 6, 6, 6, 5, 5, 6, 5, 6, 5, 6, 6, 6, 6, 6, 6, 6, 6, 5,\n",
       "       6, 6, 6, 7, 6, 5, 6, 6, 6, 6, 5, 6, 5, 5, 6, 5, 6, 6, 7, 6, 6, 6,\n",
       "       6, 6, 6, 6, 6, 6, 6, 6, 6, 5, 6, 6, 6, 6, 6, 6, 5, 6, 6, 5, 6, 6,\n",
       "       6, 6, 6, 6, 6, 6, 7, 6, 6, 6, 6, 6, 6, 5, 6, 6, 7, 6, 6, 5, 5, 6,\n",
       "       6, 6, 7, 6, 5, 5, 5, 6, 6, 6, 6, 5, 5, 6, 6, 7, 6, 6, 5, 6, 6, 5,\n",
       "       5, 6, 6, 6, 6, 6, 6, 5, 6, 6, 6, 5, 6, 7, 7, 6, 6, 6, 6, 5, 6, 6,\n",
       "       5, 5, 6, 6, 5, 6, 6, 7, 6, 6, 6, 6, 5, 5, 6, 6, 6, 5, 6, 5, 6, 6,\n",
       "       5, 6, 7, 6, 6, 6, 5, 6, 5, 6, 5, 6, 6, 6, 5, 6, 5, 5, 5, 6, 6, 6,\n",
       "       6, 5, 5, 6, 6, 5, 5, 6, 6, 6, 5, 5, 6, 5, 6, 6, 6, 6, 7, 6, 6, 5,\n",
       "       6, 6, 6, 6, 6, 6, 7, 5, 5, 5, 6, 5, 5, 7, 6, 5, 6, 6, 6, 6, 6, 6,\n",
       "       6, 5, 6, 7, 6, 6, 6, 7, 7, 6, 6, 6, 6, 5, 6, 6, 5, 5, 6, 6, 5, 6,\n",
       "       6, 6, 5, 7, 5, 5, 6, 5, 6, 6, 6, 6, 5, 6, 6, 7, 6, 6, 6, 6, 6, 6,\n",
       "       5, 6, 7, 6, 5, 6, 6, 6, 7, 6, 5, 6, 6, 5, 6, 6, 6, 5, 5, 6, 6, 5,\n",
       "       6, 5, 6, 5, 6, 6, 6, 7, 5, 6, 6, 6, 6, 6, 6, 8, 6, 6, 5, 5, 6, 6,\n",
       "       6, 6, 6, 5, 6, 6, 6, 6, 7, 5, 6, 5, 5, 5, 5, 6, 6, 5, 5, 6, 6, 6,\n",
       "       6, 6, 6, 6, 7, 5, 6, 6, 5, 5, 6, 6, 6, 6, 5, 5, 6, 6, 6, 6, 6, 6,\n",
       "       7, 5, 6, 6, 5, 6, 6, 6, 5, 6, 5, 6, 6, 5, 6, 6, 6, 7, 6, 6, 6, 6,\n",
       "       7, 7, 5, 6, 5, 5, 7, 5, 7, 6, 6, 6, 6, 6, 5, 6, 5, 6, 5, 6, 6, 5,\n",
       "       5, 5, 6, 6, 6, 5, 5, 6, 6, 6, 6, 6, 7, 6, 6, 6, 5, 6, 6, 6, 7, 6,\n",
       "       6, 6, 6, 5, 5, 7, 6, 6, 6, 5, 5, 6, 6, 6, 6, 6, 5, 7, 6, 6, 6, 5,\n",
       "       5, 7, 5, 5, 5, 6, 5, 6, 6, 5, 6, 6, 6, 6, 6, 7, 5, 5, 7, 6, 7, 6,\n",
       "       6, 6, 6, 5, 5, 6, 6, 6, 6, 6, 6, 6, 5, 6, 5, 6, 5, 6, 6, 5, 6, 6,\n",
       "       6, 6, 6, 6, 6, 6, 5, 5, 6, 6, 6, 7, 6, 6, 5, 6, 6, 5, 5, 6, 5, 6,\n",
       "       6, 6, 6, 6, 6, 6, 6, 6, 7, 6, 5, 6, 6, 6, 5, 5, 5, 6, 6, 5, 5, 5,\n",
       "       6, 6, 6, 6, 6, 5, 6, 6, 6, 6], dtype=int64)"
      ]
     },
     "execution_count": 47,
     "metadata": {},
     "output_type": "execute_result"
    }
   ],
   "source": [
    "pred = rf_clf.predict(X_test)\n",
    "pred"
   ]
  },
  {
   "cell_type": "markdown",
   "id": "4f64c4cb-accf-41b8-b923-66b67e4c67be",
   "metadata": {},
   "source": [
    "#### 5-1)-3) Models: GradientBoosting"
   ]
  },
  {
   "cell_type": "code",
   "execution_count": 48,
   "id": "54abb1ab-8a5b-4ba0-8f07-92e5a4868237",
   "metadata": {},
   "outputs": [],
   "source": [
    "gb_clf = GradientBoostingClassifier(n_estimators=300, random_state=30)"
   ]
  },
  {
   "cell_type": "code",
   "execution_count": 49,
   "id": "ca1b3937-e50e-472e-b866-855cdce6b71b",
   "metadata": {},
   "outputs": [
    {
     "data": {
      "text/plain": [
       "GradientBoostingClassifier(n_estimators=300, random_state=30)"
      ]
     },
     "execution_count": 49,
     "metadata": {},
     "output_type": "execute_result"
    }
   ],
   "source": [
    "gb_clf.fit(X_train, y_train)"
   ]
  },
  {
   "cell_type": "code",
   "execution_count": 50,
   "id": "54e75660-faa1-45ae-a848-a7819c33b956",
   "metadata": {
    "scrolled": true,
    "tags": []
   },
   "outputs": [
    {
     "data": {
      "text/plain": [
       "array([6, 6, 6, 4, 7, 6, 6, 6, 6, 8, 6, 6, 6, 5, 6, 5, 6, 8, 6, 5, 6, 6,\n",
       "       6, 8, 6, 5, 4, 5, 3, 5, 8, 4, 4, 5, 4, 6, 5, 6, 6, 6, 6, 6, 6, 4,\n",
       "       6, 8, 6, 7, 5, 5, 6, 5, 6, 5, 5, 6, 6, 6, 5, 6, 6, 6, 6, 6, 6, 5,\n",
       "       6, 6, 6, 6, 6, 6, 5, 6, 6, 5, 6, 7, 6, 7, 6, 6, 5, 6, 8, 6, 5, 5,\n",
       "       6, 6, 6, 6, 6, 6, 6, 5, 5, 6, 6, 6, 6, 5, 6, 5, 5, 6, 6, 6, 6, 6,\n",
       "       7, 8, 6, 5, 6, 6, 6, 6, 6, 6, 8, 5, 6, 6, 6, 5, 6, 6, 6, 6, 6, 5,\n",
       "       5, 5, 6, 8, 6, 7, 6, 5, 6, 6, 6, 6, 6, 6, 7, 6, 8, 6, 6, 7, 5, 3,\n",
       "       4, 6, 6, 6, 6, 3, 6, 6, 6, 4, 5, 5, 6, 6, 6, 6, 5, 5, 6, 6, 6, 6,\n",
       "       6, 5, 6, 6, 6, 4, 6, 3, 5, 6, 6, 6, 5, 5, 6, 6, 5, 6, 3, 4, 9, 5,\n",
       "       6, 5, 6, 6, 6, 6, 6, 6, 7, 6, 6, 6, 7, 5, 6, 6, 6, 6, 6, 4, 6, 7,\n",
       "       5, 6, 6, 6, 8, 6, 6, 5, 6, 5, 6, 5, 7, 6, 6, 6, 6, 6, 6, 5, 6, 6,\n",
       "       6, 6, 8, 6, 6, 8, 6, 8, 6, 3, 8, 6, 6, 6, 6, 8, 6, 6, 7, 6, 5, 3,\n",
       "       3, 7, 6, 6, 6, 6, 8, 6, 5, 5, 3, 5, 6, 6, 6, 6, 7, 6, 6, 6, 6, 6,\n",
       "       6, 7, 6, 5, 6, 5, 6, 3, 5, 6, 5, 6, 5, 3, 7, 6, 5, 5, 6, 6, 3, 7,\n",
       "       5, 5, 6, 6, 6, 5, 6, 6, 6, 6, 3, 6, 6, 6, 6, 5, 5, 5, 5, 4, 9, 6,\n",
       "       5, 6, 7, 5, 5, 7, 4, 6, 7, 6, 6, 5, 6, 6, 5, 6, 6, 8, 5, 6, 5, 4,\n",
       "       6, 6, 6, 6, 5, 6, 5, 6, 6, 5, 6, 8, 6, 6, 5, 5, 6, 6, 6, 5, 6, 6,\n",
       "       6, 5, 4, 6, 6, 6, 6, 8, 8, 9, 5, 6, 6, 3, 6, 6, 8, 5, 8, 6, 6, 6,\n",
       "       6, 7, 8, 3, 8, 5, 6, 5, 6, 5, 4, 6, 6, 5, 5, 6, 6, 5, 5, 6, 6, 6,\n",
       "       5, 6, 6, 5, 7, 6, 6, 6, 5, 4, 6, 3, 8, 6, 6, 8, 3, 4, 6, 5, 5, 6,\n",
       "       5, 6, 6, 6, 6, 6, 5, 5, 3, 6, 6, 7, 6, 6, 5, 6, 6, 5, 6, 5, 6, 6,\n",
       "       6, 5, 5, 5, 6, 6, 6, 5, 5, 6, 6, 6, 3, 7, 8, 7, 8, 6, 6, 6, 6, 5,\n",
       "       6, 6, 6, 6, 6, 4, 4, 3, 6, 5, 5, 6, 6, 6, 6, 6, 4, 5, 6, 6, 3, 6,\n",
       "       4, 6, 6, 8, 6, 5, 6, 6, 6, 5, 5, 7, 6, 5, 3, 5, 6, 6, 6, 6, 6, 6,\n",
       "       6, 7, 6, 6, 6, 3, 8, 8, 4, 6, 4, 6, 6, 6, 7, 6, 8, 6, 5, 6, 5, 6,\n",
       "       4, 6, 6, 6, 5, 6, 6, 6, 5, 6, 6, 6, 6, 6, 6, 8, 6, 6, 6, 6, 6, 5,\n",
       "       5, 7, 6, 4, 6, 6, 6, 5, 5, 6, 6, 5, 6, 8, 7, 8, 5, 8, 8, 4, 6, 6,\n",
       "       6, 6, 6, 6, 6, 3, 6, 8, 6, 8, 6, 6, 5, 5, 3, 6, 8, 5, 4, 6, 5, 7,\n",
       "       5, 6, 8, 5, 3, 6, 6, 6, 6, 6, 6, 6, 5, 6, 5, 3, 6, 5, 6, 6, 6, 4,\n",
       "       6, 5, 5, 6, 6, 6, 6, 7, 5, 6, 6, 5, 7, 5, 8, 5, 6, 6, 8, 6, 6, 5,\n",
       "       6, 6, 6, 5, 6, 5, 5, 6, 6, 6, 6, 6, 6, 6, 7, 5, 6, 6, 6, 4, 6, 6,\n",
       "       8, 5, 8, 8, 6, 6, 6, 6, 8, 6, 6, 8, 6, 6, 6, 6, 3, 6, 6, 6, 6, 6,\n",
       "       5, 3, 5, 6, 5, 6, 6, 5, 6, 6, 6, 6, 5, 6, 5, 6, 6, 6, 4, 5, 6, 6,\n",
       "       6, 6, 8, 6, 6, 6, 6, 6, 8, 6, 5, 6, 8, 5, 5, 6, 6, 4, 5, 6, 8, 5,\n",
       "       6, 6, 6, 4, 6, 6, 6, 8, 5, 7, 6, 6, 6, 6, 6, 8, 6, 7, 6, 6, 6, 6,\n",
       "       6, 6, 8, 3, 6, 6, 6, 6, 7, 3, 6, 5, 6, 5, 5, 5, 6, 6, 5, 6, 7, 5,\n",
       "       6, 6, 5, 6, 6, 3, 6, 6, 5, 5, 7, 7, 3, 6, 5, 6, 9, 8, 6, 8, 6, 6,\n",
       "       6, 6, 6, 6, 4, 5, 6, 5, 6, 3, 5, 6, 6, 5, 8, 3, 6, 7, 9, 3, 6, 7,\n",
       "       7, 8, 4, 6, 3, 5, 6, 6, 5, 6, 8, 6, 8, 6, 4, 8, 6, 5, 5, 6, 4, 5,\n",
       "       6, 5, 6, 7, 5, 6, 5, 6, 6, 8, 6, 6, 8, 6, 6, 8, 5, 5, 3, 6, 6, 6,\n",
       "       4, 4, 6, 6, 6, 7, 6, 6, 6, 6, 6, 6, 6, 6, 3, 5, 6, 6, 3, 8, 6, 6,\n",
       "       5, 7, 6, 6, 5, 5, 3, 8, 6, 5, 6, 6, 6, 6, 8, 7, 5, 6, 7, 6, 6, 6,\n",
       "       6, 6, 6, 5, 6, 6, 6, 6, 6, 6, 6, 4, 5, 6, 5, 7, 5, 6, 6, 6, 6, 6,\n",
       "       5, 3, 6, 6, 8, 6, 6, 6, 5, 6, 6, 7, 6, 5, 4, 6, 6, 6, 6, 3, 5, 6,\n",
       "       6, 6, 6, 6, 7, 6, 6, 6, 7, 6, 5, 6, 6, 5, 6, 5, 6, 6, 6, 6, 5, 5,\n",
       "       6, 6, 6, 5, 7, 5, 6, 6, 6, 6], dtype=int64)"
      ]
     },
     "execution_count": 50,
     "metadata": {},
     "output_type": "execute_result"
    }
   ],
   "source": [
    "pred = gb_clf.predict(X_test)\n",
    "pred"
   ]
  },
  {
   "cell_type": "code",
   "execution_count": 51,
   "id": "375986c7-e19c-4dff-8657-befca1659f52",
   "metadata": {},
   "outputs": [
    {
     "data": {
      "text/plain": [
       "(5497, 11)"
      ]
     },
     "execution_count": 51,
     "metadata": {},
     "output_type": "execute_result"
    }
   ],
   "source": [
    "X_train.shape"
   ]
  },
  {
   "cell_type": "markdown",
   "id": "350f6560-d2cd-4414-af85-a4ccb74d7566",
   "metadata": {},
   "source": [
    "## 6. Validation (Evaluation)\n",
    "### 6-1) Validation"
   ]
  },
  {
   "cell_type": "code",
   "execution_count": 52,
   "id": "4e32f700-e504-4bcf-94e8-8150bd28c107",
   "metadata": {},
   "outputs": [],
   "source": [
    "from sklearn.model_selection import train_test_split\n",
    "from sklearn.metrics import classification_report\n",
    "from sklearn.metrics import accuracy_score"
   ]
  },
  {
   "cell_type": "code",
   "execution_count": 53,
   "id": "f2d04d16-4474-4db2-8f0a-f0fccef72e68",
   "metadata": {},
   "outputs": [],
   "source": [
    "def ACCURACY(true, pred):   \n",
    "    score = np.mean(true==pred)\n",
    "    return score"
   ]
  },
  {
   "cell_type": "code",
   "execution_count": 54,
   "id": "0d1078b3-f372-4009-b02a-e40e6d31e426",
   "metadata": {},
   "outputs": [
    {
     "data": {
      "text/plain": [
       "(       fixed acidity  volatile acidity  citric acid  residual sugar  \\\n",
       " index                                                                 \n",
       " 0           0.148760          0.410000     0.036145        0.095092   \n",
       " 1           0.413223          0.353333     0.084337        0.027607   \n",
       " \n",
       "        chlorides  free sulfur dioxide  total sulfur dioxide   density  \\\n",
       " index                                                                   \n",
       " 0       0.054908             0.027778              0.179724  0.139001   \n",
       " 1       0.096506             0.031250              0.082949  0.188741   \n",
       " \n",
       "              pH  sulphates   alcohol  \n",
       " index                                 \n",
       " 0      0.551181   0.123596  0.318841  \n",
       " 1      0.354331   0.207865  0.217391  ,\n",
       " index\n",
       " 0    5\n",
       " 1    5\n",
       " Name: quality, dtype: int64)"
      ]
     },
     "execution_count": 54,
     "metadata": {},
     "output_type": "execute_result"
    }
   ],
   "source": [
    "X_train.head(2), y_train.head(2)"
   ]
  },
  {
   "cell_type": "code",
   "execution_count": 55,
   "id": "b6c770c0-10cd-4a1d-b6fa-7cf562b08a44",
   "metadata": {},
   "outputs": [],
   "source": [
    "X_fit, X_val, y_fit, y_val = train_test_split(X_train, y_train, test_size=0.3, stratify=y_train, \n",
    "                                              random_state=30)"
   ]
  },
  {
   "cell_type": "code",
   "execution_count": 56,
   "id": "5fd5c6bf-e8ed-49b6-9efa-ad14518bd6c3",
   "metadata": {},
   "outputs": [
    {
     "data": {
      "text/plain": [
       "RandomForestClassifier(random_state=30)"
      ]
     },
     "execution_count": 56,
     "metadata": {},
     "output_type": "execute_result"
    }
   ],
   "source": [
    "# l_reg.fit(X_fit, y_fit)\n",
    "rf_clf.fit(X_fit, y_fit)\n",
    "# gb_clf.fit(X_fit, y_fit)"
   ]
  },
  {
   "cell_type": "code",
   "execution_count": 57,
   "id": "88f7abd4-abb9-4ea7-aa82-3dd1d72bc396",
   "metadata": {},
   "outputs": [],
   "source": [
    "# pred_val = l_reg.predict(X_val)\n",
    "pred_val = rf_clf.predict(X_val)\n",
    "# pred_val = gb_clf.predict(X_val)"
   ]
  },
  {
   "cell_type": "code",
   "execution_count": 58,
   "id": "99ff7a47-fe5d-49d2-b2cf-dfba05e5fe8b",
   "metadata": {},
   "outputs": [
    {
     "data": {
      "text/plain": [
       "0.6551515151515152"
      ]
     },
     "execution_count": 58,
     "metadata": {},
     "output_type": "execute_result"
    }
   ],
   "source": [
    "accuracy_score(y_val, pred_val)"
   ]
  },
  {
   "cell_type": "markdown",
   "id": "559bea67-dc8a-4c69-ac9c-775ad5eae3db",
   "metadata": {},
   "source": [
    "[분류 성능 평가](https://datascienceschool.net/03%20machine%20learning/09.04%20%EB%B6%84%EB%A5%98%20%EC%84%B1%EB%8A%A5%ED%8F%89%EA%B0%80.html)"
   ]
  },
  {
   "cell_type": "code",
   "execution_count": 59,
   "id": "4651f5ea-658c-4bdf-9a99-37be50d979c9",
   "metadata": {},
   "outputs": [
    {
     "name": "stdout",
     "output_type": "stream",
     "text": [
      "              precision    recall  f1-score   support\n",
      "\n",
      "           3       0.00      0.00      0.00         8\n",
      "           4       0.64      0.12      0.21        56\n",
      "           5       0.69      0.69      0.69       537\n",
      "           6       0.63      0.74      0.68       725\n",
      "           7       0.65      0.54      0.59       277\n",
      "           8       0.86      0.26      0.40        46\n",
      "           9       0.00      0.00      0.00         1\n",
      "\n",
      "    accuracy                           0.66      1650\n",
      "   macro avg       0.50      0.34      0.37      1650\n",
      "weighted avg       0.66      0.66      0.64      1650\n",
      "\n"
     ]
    },
    {
     "name": "stderr",
     "output_type": "stream",
     "text": [
      "C:\\Users\\user\\anaconda3\\lib\\site-packages\\sklearn\\metrics\\_classification.py:1245: UndefinedMetricWarning: Precision and F-score are ill-defined and being set to 0.0 in labels with no predicted samples. Use `zero_division` parameter to control this behavior.\n",
      "  _warn_prf(average, modifier, msg_start, len(result))\n",
      "C:\\Users\\user\\anaconda3\\lib\\site-packages\\sklearn\\metrics\\_classification.py:1245: UndefinedMetricWarning: Precision and F-score are ill-defined and being set to 0.0 in labels with no predicted samples. Use `zero_division` parameter to control this behavior.\n",
      "  _warn_prf(average, modifier, msg_start, len(result))\n",
      "C:\\Users\\user\\anaconda3\\lib\\site-packages\\sklearn\\metrics\\_classification.py:1245: UndefinedMetricWarning: Precision and F-score are ill-defined and being set to 0.0 in labels with no predicted samples. Use `zero_division` parameter to control this behavior.\n",
      "  _warn_prf(average, modifier, msg_start, len(result))\n"
     ]
    }
   ],
   "source": [
    "# macro avg: 단순 평균\n",
    "# weighted avg: 각 클래스에 속하는 표본의 갯수로 가중평균\n",
    "print(classification_report(y_val, pred_val))"
   ]
  },
  {
   "cell_type": "code",
   "execution_count": 60,
   "id": "1802a180-ce79-452a-b30b-f738b91c12a6",
   "metadata": {},
   "outputs": [
    {
     "data": {
      "text/html": [
       "<div>\n",
       "<style scoped>\n",
       "    .dataframe tbody tr th:only-of-type {\n",
       "        vertical-align: middle;\n",
       "    }\n",
       "\n",
       "    .dataframe tbody tr th {\n",
       "        vertical-align: top;\n",
       "    }\n",
       "\n",
       "    .dataframe thead th {\n",
       "        text-align: right;\n",
       "    }\n",
       "</style>\n",
       "<table border=\"1\" class=\"dataframe\">\n",
       "  <thead>\n",
       "    <tr style=\"text-align: right;\">\n",
       "      <th></th>\n",
       "      <th>f_Importances</th>\n",
       "    </tr>\n",
       "  </thead>\n",
       "  <tbody>\n",
       "    <tr>\n",
       "      <th>alcohol</th>\n",
       "      <td>0.125685</td>\n",
       "    </tr>\n",
       "    <tr>\n",
       "      <th>density</th>\n",
       "      <td>0.102720</td>\n",
       "    </tr>\n",
       "    <tr>\n",
       "      <th>volatile acidity</th>\n",
       "      <td>0.099372</td>\n",
       "    </tr>\n",
       "    <tr>\n",
       "      <th>chlorides</th>\n",
       "      <td>0.089439</td>\n",
       "    </tr>\n",
       "    <tr>\n",
       "      <th>total sulfur dioxide</th>\n",
       "      <td>0.089145</td>\n",
       "    </tr>\n",
       "    <tr>\n",
       "      <th>sulphates</th>\n",
       "      <td>0.086522</td>\n",
       "    </tr>\n",
       "    <tr>\n",
       "      <th>free sulfur dioxide</th>\n",
       "      <td>0.084862</td>\n",
       "    </tr>\n",
       "    <tr>\n",
       "      <th>residual sugar</th>\n",
       "      <td>0.084820</td>\n",
       "    </tr>\n",
       "    <tr>\n",
       "      <th>pH</th>\n",
       "      <td>0.083358</td>\n",
       "    </tr>\n",
       "    <tr>\n",
       "      <th>citric acid</th>\n",
       "      <td>0.080387</td>\n",
       "    </tr>\n",
       "    <tr>\n",
       "      <th>fixed acidity</th>\n",
       "      <td>0.073691</td>\n",
       "    </tr>\n",
       "  </tbody>\n",
       "</table>\n",
       "</div>"
      ],
      "text/plain": [
       "                      f_Importances\n",
       "alcohol                    0.125685\n",
       "density                    0.102720\n",
       "volatile acidity           0.099372\n",
       "chlorides                  0.089439\n",
       "total sulfur dioxide       0.089145\n",
       "sulphates                  0.086522\n",
       "free sulfur dioxide        0.084862\n",
       "residual sugar             0.084820\n",
       "pH                         0.083358\n",
       "citric acid                0.080387\n",
       "fixed acidity              0.073691"
      ]
     },
     "execution_count": 60,
     "metadata": {},
     "output_type": "execute_result"
    }
   ],
   "source": [
    "# Feature importances\n",
    "pd.DataFrame(rf_clf.feature_importances_, \n",
    "             index=X_train.columns, \n",
    "             columns=[\"f_Importances\"]).sort_values(by=\"f_Importances\", ascending=False)"
   ]
  },
  {
   "cell_type": "markdown",
   "id": "8cfede75-679e-48fa-b0ea-9a41452e04e3",
   "metadata": {},
   "source": [
    "### 6-2) Tuning"
   ]
  },
  {
   "cell_type": "code",
   "execution_count": 61,
   "id": "ae77eedc-9e1d-42ee-b2ac-f8bc38845ee9",
   "metadata": {},
   "outputs": [],
   "source": [
    "from sklearn.model_selection import GridSearchCV\n",
    "from sklearn.metrics import roc_auc_score, roc_curve, auc\n",
    "import matplotlib.pyplot as plt"
   ]
  },
  {
   "cell_type": "code",
   "execution_count": 62,
   "id": "7fd01495-cdfb-4cda-ae5f-4ff785add1ad",
   "metadata": {},
   "outputs": [],
   "source": [
    "params = {\n",
    "\n",
    "}"
   ]
  },
  {
   "cell_type": "code",
   "execution_count": 63,
   "id": "51e569ee-f303-4989-8591-cbf0428f869e",
   "metadata": {},
   "outputs": [],
   "source": [
    "rf_clf_grid = RandomForestClassifier(random_state=30)"
   ]
  },
  {
   "cell_type": "code",
   "execution_count": 64,
   "id": "f8a2e516-421a-4bfa-a686-3026009be92a",
   "metadata": {},
   "outputs": [],
   "source": [
    "grid_rf_clf = GridSearchCV(estimator=rf_clf_grid, param_grid=params, cv=3,\n",
    "                           scoring='accuracy', verbose=1, n_jobs=-1)"
   ]
  },
  {
   "cell_type": "code",
   "execution_count": 65,
   "id": "4854ab4d-9609-4a8c-956b-5e2d9cad6865",
   "metadata": {},
   "outputs": [
    {
     "name": "stdout",
     "output_type": "stream",
     "text": [
      "Fitting 3 folds for each of 1 candidates, totalling 3 fits\n"
     ]
    },
    {
     "data": {
      "text/plain": [
       "GridSearchCV(cv=3, estimator=RandomForestClassifier(random_state=30), n_jobs=-1,\n",
       "             param_grid={}, scoring='accuracy', verbose=1)"
      ]
     },
     "execution_count": 65,
     "metadata": {},
     "output_type": "execute_result"
    }
   ],
   "source": [
    "grid_rf_clf.fit(X_train, y_train)"
   ]
  },
  {
   "cell_type": "code",
   "execution_count": 66,
   "id": "a01452ed-6dd6-43c5-8460-9c99cda1fefe",
   "metadata": {},
   "outputs": [
    {
     "name": "stdout",
     "output_type": "stream",
     "text": [
      "0.6505340192857614\n",
      "RandomForestClassifier(random_state=30)\n"
     ]
    }
   ],
   "source": [
    "print(grid_rf_clf.best_score_)\n",
    "print(grid_rf_clf.best_estimator_)"
   ]
  },
  {
   "cell_type": "markdown",
   "id": "f19dc910-595b-4216-a45f-cdc944775c7a",
   "metadata": {},
   "source": [
    "#### 6-2)-1) max_depth"
   ]
  },
  {
   "cell_type": "code",
   "execution_count": 77,
   "id": "baed150c-1514-4d43-b878-0e1f06eb386d",
   "metadata": {
    "scrolled": true,
    "tags": []
   },
   "outputs": [
    {
     "name": "stdout",
     "output_type": "stream",
     "text": [
      "max_depth = 2, score(train) = 0.53678, score(test) = 0.53818, score(mean) = 0.53748\n",
      "max_depth = 3, score(train) = 0.54926, score(test) = 0.54242, score(mean) = 0.54584\n",
      "max_depth = 4, score(train) = 0.57395, score(test) = 0.54545, score(mean) = 0.55970\n",
      "max_depth = 5, score(train) = 0.59293, score(test) = 0.55576, score(mean) = 0.57434\n",
      "max_depth = 6, score(train) = 0.62828, score(test) = 0.57212, score(mean) = 0.60020\n",
      "max_depth = 7, score(train) = 0.67299, score(test) = 0.57939, score(mean) = 0.62619\n",
      "max_depth = 8, score(train) = 0.72316, score(test) = 0.59273, score(mean) = 0.65794\n",
      "max_depth = 9, score(train) = 0.78711, score(test) = 0.61273, score(mean) = 0.69992\n",
      "max_depth = 10, score(train) = 0.84845, score(test) = 0.62303, score(mean) = 0.73574\n",
      "max_depth = 11, score(train) = 0.90226, score(test) = 0.63576, score(mean) = 0.76901\n",
      "max_depth = 12, score(train) = 0.94307, score(test) = 0.64364, score(mean) = 0.79335\n",
      "max_depth = 13, score(train) = 0.97349, score(test) = 0.65818, score(mean) = 0.81583\n",
      "max_depth = 14, score(train) = 0.98882, score(test) = 0.65697, score(mean) = 0.82290\n",
      "max_depth = 15, score(train) = 0.99558, score(test) = 0.65636, score(mean) = 0.82597\n",
      "max_depth = 16, score(train) = 0.99922, score(test) = 0.65455, score(mean) = 0.82688\n",
      "max_depth = 17, score(train) = 0.99974, score(test) = 0.66364, score(mean) = 0.83169\n",
      "max_depth = 18, score(train) = 1.00000, score(test) = 0.65818, score(mean) = 0.82909\n",
      "max_depth = 19, score(train) = 1.00000, score(test) = 0.66788, score(mean) = 0.83394\n",
      "max_depth = 20, score(train) = 1.00000, score(test) = 0.65758, score(mean) = 0.82879\n",
      "max_depth = 21, score(train) = 1.00000, score(test) = 0.65333, score(mean) = 0.82667\n",
      "max_depth = 22, score(train) = 1.00000, score(test) = 0.65576, score(mean) = 0.82788\n",
      "max_depth = 23, score(train) = 1.00000, score(test) = 0.65636, score(mean) = 0.82818\n",
      "max_depth = 24, score(train) = 1.00000, score(test) = 0.64848, score(mean) = 0.82424\n",
      "max_depth = 25, score(train) = 1.00000, score(test) = 0.65515, score(mean) = 0.82758\n",
      "max_depth = 26, score(train) = 1.00000, score(test) = 0.65697, score(mean) = 0.82848\n",
      "max_depth = 27, score(train) = 1.00000, score(test) = 0.65697, score(mean) = 0.82848\n",
      "max_depth = 28, score(train) = 1.00000, score(test) = 0.65515, score(mean) = 0.82758\n",
      "max_depth = 29, score(train) = 1.00000, score(test) = 0.65515, score(mean) = 0.82758\n",
      "max_depth = 30, score(train) = 1.00000, score(test) = 0.65515, score(mean) = 0.82758\n",
      "max_depth = 31, score(train) = 1.00000, score(test) = 0.65515, score(mean) = 0.82758\n",
      "max_depth = 32, score(train) = 1.00000, score(test) = 0.65515, score(mean) = 0.82758\n",
      "max_depth = 33, score(train) = 1.00000, score(test) = 0.65515, score(mean) = 0.82758\n",
      "max_depth = 34, score(train) = 1.00000, score(test) = 0.65515, score(mean) = 0.82758\n",
      "max_depth = 35, score(train) = 1.00000, score(test) = 0.65515, score(mean) = 0.82758\n",
      "max_depth = 36, score(train) = 1.00000, score(test) = 0.65515, score(mean) = 0.82758\n",
      "max_depth = 37, score(train) = 1.00000, score(test) = 0.65515, score(mean) = 0.82758\n",
      "max_depth = 38, score(train) = 1.00000, score(test) = 0.65515, score(mean) = 0.82758\n",
      "max_depth = 39, score(train) = 1.00000, score(test) = 0.65515, score(mean) = 0.82758\n",
      "max_depth = 40, score(train) = 1.00000, score(test) = 0.65515, score(mean) = 0.82758\n",
      "max_depth = 41, score(train) = 1.00000, score(test) = 0.65515, score(mean) = 0.82758\n",
      "max_depth = 42, score(train) = 1.00000, score(test) = 0.65515, score(mean) = 0.82758\n",
      "max_depth = 43, score(train) = 1.00000, score(test) = 0.65515, score(mean) = 0.82758\n",
      "max_depth = 44, score(train) = 1.00000, score(test) = 0.65515, score(mean) = 0.82758\n",
      "max_depth = 45, score(train) = 1.00000, score(test) = 0.65515, score(mean) = 0.82758\n",
      "max_depth = 46, score(train) = 1.00000, score(test) = 0.65515, score(mean) = 0.82758\n",
      "max_depth = 47, score(train) = 1.00000, score(test) = 0.65515, score(mean) = 0.82758\n",
      "max_depth = 48, score(train) = 1.00000, score(test) = 0.65515, score(mean) = 0.82758\n",
      "max_depth = 49, score(train) = 1.00000, score(test) = 0.65515, score(mean) = 0.82758\n",
      "max_depth = 50, score(train) = 1.00000, score(test) = 0.65515, score(mean) = 0.82758\n"
     ]
    }
   ],
   "source": [
    "lst_max_depth = range(2, 51)\n",
    "log_max_depth = []\n",
    "\n",
    "for hp in lst_max_depth:\n",
    "    rf_clf_tun = RandomForestClassifier(max_depth=hp, random_state=30)\n",
    "    \n",
    "    rf_clf_tun.fit(X_fit, y_fit)\n",
    "    pred_fit = rf_clf_tun.predict(X_fit) # 훈련 데이터의 예측 데이터\n",
    "    pred_val = rf_clf_tun.predict(X_val) # 평가 데이터의 예측 데이터\n",
    "    \n",
    "    score_fit = accuracy_score(y_fit, pred_fit) # 훈련 데이터 점수\n",
    "    score_val = accuracy_score(y_val, pred_val) # 평가 데이터 점수\n",
    "    \n",
    "    print(f\"max_depth = {hp}, score(train) = {score_fit:.5f}, score(test) = {score_val:.5f}, score(mean) = {(score_fit + score_val) / 2:.5f}\")\n",
    "    log_max_depth.append({\n",
    "        \"max_depth\" : hp,\n",
    "        \"train\" : score_fit,\n",
    "        \"test\" : score_val\n",
    "    })\n",
    "\n",
    "df_log = pd.DataFrame(log_max_depth)"
   ]
  },
  {
   "cell_type": "code",
   "execution_count": 79,
   "id": "60caa476-ef84-406e-8143-960bfbefe6fd",
   "metadata": {},
   "outputs": [
    {
     "data": {
      "text/plain": [
       "<matplotlib.legend.Legend at 0x1f2a05b2160>"
      ]
     },
     "execution_count": 79,
     "metadata": {},
     "output_type": "execute_result"
    },
    {
     "data": {
      "image/png": "[encoded data removed]",
      "text/plain": [
       "<Figure size 432x288 with 1 Axes>"
      ]
     },
     "metadata": {
      "needs_background": "light"
     },
     "output_type": "display_data"
    }
   ],
   "source": [
    "plt.plot(df_log[\"max_depth\"], df_log[\"train\"], label=\"train\", color='b')\n",
    "plt.plot(df_log[\"max_depth\"], df_log[\"test\"], label=\"test\", color='r')\n",
    "plt.xlabel('max_depth')\n",
    "plt.ylabel('accuracy')\n",
    "plt.legend()"
   ]
  },
  {
   "cell_type": "markdown",
   "id": "c55a686a-df15-48be-a3bf-2ee12e1a8fcc",
   "metadata": {},
   "source": [
    "#### 6-2)-2) n_estimators"
   ]
  },
  {
   "cell_type": "code",
   "execution_count": 69,
   "id": "10fc3a47-343a-4e29-99a0-d4bfbc9f8ead",
   "metadata": {
    "scrolled": true,
    "tags": []
   },
   "outputs": [
    {
     "name": "stdout",
     "output_type": "stream",
     "text": [
      "n_estimators = 345, score(train) = 1.00000, score(test) = 0.65818, score(mean) = 0.82909\n",
      "n_estimators = 350, score(train) = 1.00000, score(test) = 0.65758, score(mean) = 0.82879\n",
      "n_estimators = 355, score(train) = 1.00000, score(test) = 0.65879, score(mean) = 0.82939\n",
      "n_estimators = 360, score(train) = 1.00000, score(test) = 0.65818, score(mean) = 0.82909\n",
      "n_estimators = 365, score(train) = 1.00000, score(test) = 0.65758, score(mean) = 0.82879\n",
      "n_estimators = 370, score(train) = 1.00000, score(test) = 0.65818, score(mean) = 0.82909\n",
      "n_estimators = 375, score(train) = 1.00000, score(test) = 0.65818, score(mean) = 0.82909\n",
      "n_estimators = 380, score(train) = 1.00000, score(test) = 0.66000, score(mean) = 0.83000\n",
      "n_estimators = 385, score(train) = 1.00000, score(test) = 0.66061, score(mean) = 0.83030\n",
      "n_estimators = 390, score(train) = 1.00000, score(test) = 0.66061, score(mean) = 0.83030\n",
      "n_estimators = 395, score(train) = 1.00000, score(test) = 0.66182, score(mean) = 0.83091\n",
      "n_estimators = 400, score(train) = 1.00000, score(test) = 0.65939, score(mean) = 0.82970\n",
      "n_estimators = 405, score(train) = 1.00000, score(test) = 0.66182, score(mean) = 0.83091\n",
      "n_estimators = 410, score(train) = 1.00000, score(test) = 0.65879, score(mean) = 0.82939\n",
      "n_estimators = 415, score(train) = 1.00000, score(test) = 0.65758, score(mean) = 0.82879\n",
      "n_estimators = 420, score(train) = 1.00000, score(test) = 0.65697, score(mean) = 0.82848\n",
      "n_estimators = 425, score(train) = 1.00000, score(test) = 0.65697, score(mean) = 0.82848\n",
      "n_estimators = 430, score(train) = 1.00000, score(test) = 0.65758, score(mean) = 0.82879\n",
      "n_estimators = 435, score(train) = 1.00000, score(test) = 0.65939, score(mean) = 0.82970\n"
     ]
    }
   ],
   "source": [
    "lst_n_estimators = range(345,440,5)\n",
    "log_n_estimators = [] \n",
    "\n",
    "for hp in lst_n_estimators:  \n",
    "    rf_clf_tun = RandomForestClassifier(n_estimators=hp, random_state=30)\n",
    "    \n",
    "    rf_clf_tun.fit(X_fit, y_fit)\n",
    "    pred_fit = rf_clf_tun.predict(X_fit)\n",
    "    pred_val = rf_clf_tun.predict(X_val)\n",
    "\n",
    "    score_fit = accuracy_score(y_fit, pred_fit)\n",
    "    score_val = accuracy_score(y_val, pred_val)\n",
    "    \n",
    "    print(f\"n_estimators = {hp}, score(train) = {score_fit:.5f}, score(test) = {score_val:.5f}, score(mean) = {(score_fit + score_val) / 2:.5f}\")\n",
    "    log_n_estimators.append({ \n",
    "        \"n_estimators\" : hp,  \n",
    "        \"train\" : score_fit,\n",
    "        \"test\" : score_val\n",
    "    })\n",
    "    \n",
    "df_log = pd.DataFrame(log_n_estimators)"
   ]
  },
  {
   "cell_type": "code",
   "execution_count": 70,
   "id": "4ea264e2-4417-4281-a25a-093d9c3bd88b",
   "metadata": {},
   "outputs": [
    {
     "data": {
      "text/plain": [
       "<matplotlib.legend.Legend at 0x1f2a0161250>"
      ]
     },
     "execution_count": 70,
     "metadata": {},
     "output_type": "execute_result"
    },
    {
     "data": {
      "image/png": "[encoded data removed]",
      "text/plain": [
       "<Figure size 432x288 with 1 Axes>"
      ]
     },
     "metadata": {
      "needs_background": "light"
     },
     "output_type": "display_data"
    }
   ],
   "source": [
    "plt.plot(df_log[\"n_estimators\"], df_log[\"test\"], label=\"test\", color='r') \n",
    "plt.xlabel('n_estimators')                                                  \n",
    "plt.ylabel('accuracy')\n",
    "plt.legend()"
   ]
  },
  {
   "cell_type": "markdown",
   "id": "0f309bfe-9bb7-4c9d-9f59-d5f7b8765400",
   "metadata": {},
   "source": [
    "#### 6-2-3) max_features"
   ]
  },
  {
   "cell_type": "code",
   "execution_count": 71,
   "id": "270494dd-8431-4b67-bb4e-e91eb65e18d7",
   "metadata": {
    "tags": []
   },
   "outputs": [
    {
     "name": "stdout",
     "output_type": "stream",
     "text": [
      "max_features = auto, score(train) = 1.00000, score(test) = 0.65515, score(mean) = 0.82758\n",
      "max_features = sqrt, score(train) = 1.00000, score(test) = 0.65515, score(mean) = 0.82758\n",
      "max_features = log2, score(train) = 1.00000, score(test) = 0.65515, score(mean) = 0.82758\n"
     ]
    }
   ],
   "source": [
    "lst_max_features = ['auto', 'sqrt', 'log2']\n",
    "log_max_features = []\n",
    "\n",
    "for hp in lst_max_features:             \n",
    "    rf_clf_tun = RandomForestClassifier(max_features=hp, random_state=30)\n",
    "    \n",
    "    rf_clf_tun.fit(X_fit, y_fit)\n",
    "    pred_fit = rf_clf_tun.predict(X_fit)\n",
    "    pred_val = rf_clf_tun.predict(X_val)\n",
    "    \n",
    "    score_fit = accuracy_score(y_fit, pred_fit)\n",
    "    score_val = accuracy_score(y_val, pred_val)\n",
    "    \n",
    "    print(f\"max_features = {hp}, score(train) = {score_fit:.5f}, score(test) = {score_val:.5f}, score(mean) = {(score_fit + score_val) / 2:.5f}\")\n",
    "    log_max_features.append({  \n",
    "        \"max_features\" : hp,  \n",
    "        \"train\" : score_fit,\n",
    "        \"test\" : score_val\n",
    "    })\n",
    "    \n",
    "df_log = pd.DataFrame(log_max_features)"
   ]
  },
  {
   "cell_type": "code",
   "execution_count": 72,
   "id": "513aaff7-f8d3-4ec8-85a7-f35b85900306",
   "metadata": {},
   "outputs": [
    {
     "data": {
      "text/plain": [
       "<matplotlib.legend.Legend at 0x1f29fd347c0>"
      ]
     },
     "execution_count": 72,
     "metadata": {},
     "output_type": "execute_result"
    },
    {
     "data": {
      "image/png": "[encoded data removed]",
      "text/plain": [
       "<Figure size 432x288 with 1 Axes>"
      ]
     },
     "metadata": {
      "needs_background": "light"
     },
     "output_type": "display_data"
    }
   ],
   "source": [
    "# plt.plot(df_log[\"max_features\"], df_log[\"train\"], label=\"train\", color='b')\n",
    "plt.plot(df_log[\"max_features\"], df_log[\"test\"], label=\"test\", color='r')\n",
    "plt.xlabel('max_features')                     \n",
    "plt.ylabel('accuracy')\n",
    "plt.legend()"
   ]
  },
  {
   "cell_type": "markdown",
   "id": "d25a56ad-094c-44bf-9be6-8f7461b9b84e",
   "metadata": {},
   "source": [
    "#### 6-2-4) min_samples_split"
   ]
  },
  {
   "cell_type": "code",
   "execution_count": 73,
   "id": "77e6ef4d-e2cc-42cc-805c-dd45bcf2802c",
   "metadata": {},
   "outputs": [
    {
     "name": "stdout",
     "output_type": "stream",
     "text": [
      "min_samples_split = 2, score(train) = 1.00000, score(test) = 0.65515, score(mean) = 0.82758\n",
      "min_samples_split = 3, score(train) = 1.00000, score(test) = 0.65697, score(mean) = 0.82848\n",
      "min_samples_split = 4, score(train) = 0.99844, score(test) = 0.65455, score(mean) = 0.82649\n",
      "min_samples_split = 5, score(train) = 0.99714, score(test) = 0.66364, score(mean) = 0.83039\n",
      "min_samples_split = 6, score(train) = 0.98674, score(test) = 0.65758, score(mean) = 0.82216\n",
      "min_samples_split = 7, score(train) = 0.97401, score(test) = 0.64667, score(mean) = 0.81034\n",
      "min_samples_split = 8, score(train) = 0.96075, score(test) = 0.64364, score(mean) = 0.80219\n",
      "min_samples_split = 9, score(train) = 0.94827, score(test) = 0.64667, score(mean) = 0.79747\n",
      "min_samples_split = 10, score(train) = 0.93371, score(test) = 0.64121, score(mean) = 0.78746\n",
      "min_samples_split = 11, score(train) = 0.91942, score(test) = 0.64121, score(mean) = 0.78031\n",
      "min_samples_split = 12, score(train) = 0.90434, score(test) = 0.63697, score(mean) = 0.77066\n",
      "min_samples_split = 13, score(train) = 0.89732, score(test) = 0.63576, score(mean) = 0.76654\n",
      "min_samples_split = 14, score(train) = 0.88225, score(test) = 0.63273, score(mean) = 0.75749\n",
      "min_samples_split = 15, score(train) = 0.87341, score(test) = 0.62424, score(mean) = 0.74883\n",
      "min_samples_split = 16, score(train) = 0.85989, score(test) = 0.63152, score(mean) = 0.74570\n",
      "min_samples_split = 17, score(train) = 0.85313, score(test) = 0.61515, score(mean) = 0.73414\n",
      "min_samples_split = 18, score(train) = 0.84429, score(test) = 0.62303, score(mean) = 0.73366\n",
      "min_samples_split = 19, score(train) = 0.83494, score(test) = 0.62424, score(mean) = 0.72959\n",
      "min_samples_split = 20, score(train) = 0.82584, score(test) = 0.61394, score(mean) = 0.71989\n",
      "min_samples_split = 21, score(train) = 0.81856, score(test) = 0.61455, score(mean) = 0.71655\n",
      "min_samples_split = 22, score(train) = 0.80712, score(test) = 0.61636, score(mean) = 0.71174\n",
      "min_samples_split = 23, score(train) = 0.80270, score(test) = 0.60970, score(mean) = 0.70620\n",
      "min_samples_split = 24, score(train) = 0.79205, score(test) = 0.60545, score(mean) = 0.69875\n",
      "min_samples_split = 25, score(train) = 0.78971, score(test) = 0.60545, score(mean) = 0.69758\n",
      "min_samples_split = 26, score(train) = 0.78737, score(test) = 0.60788, score(mean) = 0.69762\n",
      "min_samples_split = 27, score(train) = 0.78113, score(test) = 0.60667, score(mean) = 0.69390\n",
      "min_samples_split = 28, score(train) = 0.76917, score(test) = 0.60364, score(mean) = 0.68640\n",
      "min_samples_split = 29, score(train) = 0.76865, score(test) = 0.59818, score(mean) = 0.68342\n"
     ]
    }
   ],
   "source": [
    "lst_min_samples_split = range(2,30)\n",
    "log_min_samples_split = []\n",
    "\n",
    "for hp in lst_min_samples_split:    \n",
    "    rf_clf_tun = RandomForestClassifier(min_samples_split=hp, random_state=30)\n",
    "    \n",
    "    rf_clf_tun.fit(X_fit, y_fit)\n",
    "    pred_fit = rf_clf_tun.predict(X_fit)\n",
    "    pred_val = rf_clf_tun.predict(X_val)\n",
    "    \n",
    "    score_fit = accuracy_score(y_fit, pred_fit)\n",
    "    score_val = accuracy_score(y_val, pred_val)\n",
    "    \n",
    "    print(f\"min_samples_split = {hp}, score(train) = {score_fit:.5f}, score(test) = {score_val:.5f}, score(mean) = {(score_fit + score_val) / 2:.5f}\")\n",
    "    log_min_samples_split.append({   ##\n",
    "        \"min_samples_split\" : hp,       ##\n",
    "        \"train\" : score_fit,\n",
    "        \"test\" : score_val\n",
    "    })\n",
    "    \n",
    "df_log = pd.DataFrame(log_min_samples_split)"
   ]
  },
  {
   "cell_type": "code",
   "execution_count": 74,
   "id": "0e224cb9-68f4-4229-8e18-0926cfc09020",
   "metadata": {},
   "outputs": [
    {
     "data": {
      "text/plain": [
       "<matplotlib.legend.Legend at 0x1f29fcca250>"
      ]
     },
     "execution_count": 74,
     "metadata": {},
     "output_type": "execute_result"
    },
    {
     "data": {
      "image/png": "[encoded data removed]",
      "text/plain": [
       "<Figure size 432x288 with 1 Axes>"
      ]
     },
     "metadata": {
      "needs_background": "light"
     },
     "output_type": "display_data"
    }
   ],
   "source": [
    "plt.plot(df_log[\"min_samples_split\"], df_log[\"train\"], label=\"train\", color='b')   ##\n",
    "plt.plot(df_log[\"min_samples_split\"], df_log[\"test\"], label=\"test\", color='r')     ##\n",
    "plt.xlabel('min_samples_split')                                                    ##\n",
    "plt.ylabel('accuracy')\n",
    "plt.legend()"
   ]
  },
  {
   "cell_type": "markdown",
   "id": "622480d7-c966-4c98-8a3a-956e33be8fc8",
   "metadata": {},
   "source": [
    "#### 6-2-5) max_leaf_nodes"
   ]
  },
  {
   "cell_type": "code",
   "execution_count": 80,
   "id": "c4ad504d-3ee9-4513-ae36-9277fde24bda",
   "metadata": {},
   "outputs": [
    {
     "name": "stdout",
     "output_type": "stream",
     "text": [
      "max_leaf_nodes = 570, score(train) = 0.98232, score(test) = 0.65636, score(mean) = 0.81934\n",
      "max_leaf_nodes = 580, score(train) = 0.98362, score(test) = 0.66182, score(mean) = 0.82272\n",
      "max_leaf_nodes = 590, score(train) = 0.98518, score(test) = 0.66121, score(mean) = 0.82320\n",
      "max_leaf_nodes = 600, score(train) = 0.98570, score(test) = 0.66182, score(mean) = 0.82376\n",
      "max_leaf_nodes = 610, score(train) = 0.98648, score(test) = 0.66182, score(mean) = 0.82415\n",
      "max_leaf_nodes = 620, score(train) = 0.98908, score(test) = 0.66061, score(mean) = 0.82484\n",
      "max_leaf_nodes = 630, score(train) = 0.99090, score(test) = 0.66121, score(mean) = 0.82606\n",
      "max_leaf_nodes = 640, score(train) = 0.99194, score(test) = 0.66000, score(mean) = 0.82597\n",
      "max_leaf_nodes = 650, score(train) = 0.99324, score(test) = 0.66242, score(mean) = 0.82783\n",
      "max_leaf_nodes = 660, score(train) = 0.99428, score(test) = 0.66364, score(mean) = 0.82896\n",
      "max_leaf_nodes = 670, score(train) = 0.99454, score(test) = 0.66424, score(mean) = 0.82939\n",
      "max_leaf_nodes = 680, score(train) = 0.99454, score(test) = 0.66303, score(mean) = 0.82879\n",
      "max_leaf_nodes = 690, score(train) = 0.99558, score(test) = 0.66364, score(mean) = 0.82961\n"
     ]
    }
   ],
   "source": [
    "lst_max_leaf_nodes = range(570,700,10)     \n",
    "log_max_leaf_nodes = []                   \n",
    "\n",
    "for hp in lst_max_leaf_nodes:            \n",
    "    rf_clf_tun = RandomForestClassifier(max_leaf_nodes=hp, random_state=30) \n",
    "    \n",
    "    rf_clf_tun.fit(X_fit, y_fit)\n",
    "    pred_fit = rf_clf_tun.predict(X_fit)\n",
    "    pred_val = rf_clf_tun.predict(X_val)\n",
    "\n",
    "    score_fit = accuracy_score(y_fit, pred_fit)\n",
    "    score_val = accuracy_score(y_val, pred_val)\n",
    "    \n",
    "    print(f\"max_leaf_nodes = {hp}, score(train) = {score_fit:.5f}, score(test) = {score_val:.5f}, score(mean) = {(score_fit + score_val) / 2:.5f}\") \n",
    "    log_max_leaf_nodes.append({ \n",
    "        \"max_leaf_nodes\" : hp,      \n",
    "        \"train\" : score_fit,\n",
    "        \"test\" : score_val\n",
    "    })\n",
    "    \n",
    "df_log = pd.DataFrame(log_max_leaf_nodes)  "
   ]
  },
  {
   "cell_type": "code",
   "execution_count": 81,
   "id": "2ee63913-0b70-4678-abe4-314c6e038086",
   "metadata": {},
   "outputs": [
    {
     "data": {
      "text/plain": [
       "<matplotlib.legend.Legend at 0x1f2a023f310>"
      ]
     },
     "execution_count": 81,
     "metadata": {},
     "output_type": "execute_result"
    },
    {
     "data": {
      "image/png": "[encoded data removed]",
      "text/plain": [
       "<Figure size 432x288 with 1 Axes>"
      ]
     },
     "metadata": {
      "needs_background": "light"
     },
     "output_type": "display_data"
    }
   ],
   "source": [
    "# plt.plot(df_log[\"max_leaf_nodes\"], df_log[\"train\"], label=\"train\", color='b')   ##\n",
    "plt.plot(df_log[\"max_leaf_nodes\"], df_log[\"test\"], label=\"test\", color='r')     ##\n",
    "plt.xlabel('max_leaf_nodes')                                                    ##\n",
    "plt.ylabel('accuracy')\n",
    "plt.legend()"
   ]
  },
  {
   "cell_type": "markdown",
   "id": "f3c56089-6ada-4e09-8108-402b7c7aaeae",
   "metadata": {},
   "source": [
    "#### 6-2-6) min_samples_leaf"
   ]
  },
  {
   "cell_type": "code",
   "execution_count": 82,
   "id": "e8528576-dd17-4280-a3a8-8b41c2a59ff2",
   "metadata": {},
   "outputs": [
    {
     "name": "stdout",
     "output_type": "stream",
     "text": [
      "min_samples_leaf = 1, score(train) = 1.00000, score(test) = 0.65515, score(mean) = 0.82758\n",
      "min_samples_leaf = 2, score(train) = 0.98310, score(test) = 0.65939, score(mean) = 0.82125\n",
      "min_samples_leaf = 3, score(train) = 0.92670, score(test) = 0.64303, score(mean) = 0.78486\n",
      "min_samples_leaf = 4, score(train) = 0.88095, score(test) = 0.62788, score(mean) = 0.75441\n",
      "min_samples_leaf = 5, score(train) = 0.84377, score(test) = 0.61697, score(mean) = 0.73037\n",
      "min_samples_leaf = 6, score(train) = 0.81310, score(test) = 0.61273, score(mean) = 0.71291\n",
      "min_samples_leaf = 7, score(train) = 0.79335, score(test) = 0.60424, score(mean) = 0.69879\n",
      "min_samples_leaf = 8, score(train) = 0.76839, score(test) = 0.60667, score(mean) = 0.68753\n",
      "min_samples_leaf = 9, score(train) = 0.75695, score(test) = 0.60364, score(mean) = 0.68029\n"
     ]
    }
   ],
   "source": [
    "lst_min_samples_leaf = range(1,10)     ##\n",
    "log_min_samples_leaf = []                    ##\n",
    "\n",
    "for hp in lst_min_samples_leaf:              ##\n",
    "    rf_clf_tun = RandomForestClassifier(min_samples_leaf=hp, random_state=30)  ##\n",
    "    \n",
    "    rf_clf_tun.fit(X_fit, y_fit)\n",
    "    pred_fit = rf_clf_tun.predict(X_fit)\n",
    "    pred_val = rf_clf_tun.predict(X_val)\n",
    "\n",
    "    score_fit = accuracy_score(y_fit, pred_fit)\n",
    "    score_val = accuracy_score(y_val, pred_val)\n",
    "    \n",
    "    print(f\"min_samples_leaf = {hp}, score(train) = {score_fit:.5f}, score(test) = {score_val:.5f}, score(mean) = {(score_fit + score_val) / 2:.5f}\")  ##\n",
    "    log_min_samples_leaf.append({   ##\n",
    "        \"min_samples_leaf\" : hp,       ##\n",
    "        \"train\" : score_fit,\n",
    "        \"test\" : score_val\n",
    "    })\n",
    "    \n",
    "df_log = pd.DataFrame(log_min_samples_leaf)    ##"
   ]
  },
  {
   "cell_type": "code",
   "execution_count": 83,
   "id": "3efd80d9-3dc8-4ee0-a446-2bc6f5af7e1e",
   "metadata": {},
   "outputs": [
    {
     "data": {
      "text/plain": [
       "<matplotlib.legend.Legend at 0x1f29fcb6bb0>"
      ]
     },
     "execution_count": 83,
     "metadata": {},
     "output_type": "execute_result"
    },
    {
     "data": {
      "image/png": "[encoded data removed]",
      "text/plain": [
       "<Figure size 432x288 with 1 Axes>"
      ]
     },
     "metadata": {
      "needs_background": "light"
     },
     "output_type": "display_data"
    }
   ],
   "source": [
    "plt.plot(df_log[\"min_samples_leaf\"], df_log[\"train\"], label=\"train\", color='b')   ##\n",
    "plt.plot(df_log[\"min_samples_leaf\"], df_log[\"test\"], label=\"test\", color='r')     ##\n",
    "plt.xlabel('min_samples_leaf')                                                    ##\n",
    "plt.ylabel('accuracy')\n",
    "plt.legend()"
   ]
  },
  {
   "cell_type": "markdown",
   "id": "fe0b999b-7ffa-4621-9c15-b3ceacc53850",
   "metadata": {},
   "source": [
    "## 7. Submission"
   ]
  },
  {
   "cell_type": "code",
   "execution_count": 84,
   "id": "7f76f7a5-5009-4c8d-9cd2-14ee2d822a28",
   "metadata": {},
   "outputs": [
    {
     "data": {
      "text/html": [
       "<div>\n",
       "<style scoped>\n",
       "    .dataframe tbody tr th:only-of-type {\n",
       "        vertical-align: middle;\n",
       "    }\n",
       "\n",
       "    .dataframe tbody tr th {\n",
       "        vertical-align: top;\n",
       "    }\n",
       "\n",
       "    .dataframe thead th {\n",
       "        text-align: right;\n",
       "    }\n",
       "</style>\n",
       "<table border=\"1\" class=\"dataframe\">\n",
       "  <thead>\n",
       "    <tr style=\"text-align: right;\">\n",
       "      <th></th>\n",
       "      <th>quality</th>\n",
       "    </tr>\n",
       "    <tr>\n",
       "      <th>index</th>\n",
       "      <th></th>\n",
       "    </tr>\n",
       "  </thead>\n",
       "  <tbody>\n",
       "    <tr>\n",
       "      <th>0</th>\n",
       "      <td>6</td>\n",
       "    </tr>\n",
       "    <tr>\n",
       "      <th>1</th>\n",
       "      <td>6</td>\n",
       "    </tr>\n",
       "    <tr>\n",
       "      <th>2</th>\n",
       "      <td>6</td>\n",
       "    </tr>\n",
       "  </tbody>\n",
       "</table>\n",
       "</div>"
      ],
      "text/plain": [
       "       quality\n",
       "index         \n",
       "0            6\n",
       "1            6\n",
       "2            6"
      ]
     },
     "execution_count": 84,
     "metadata": {},
     "output_type": "execute_result"
    }
   ],
   "source": [
    "submission['quality'] = pred\n",
    "submission.head(3)"
   ]
  },
  {
   "cell_type": "code",
   "execution_count": null,
   "id": "b3e3d7eb-db68-4975-b636-0cfe1aac7124",
   "metadata": {},
   "outputs": [],
   "source": [
    "# submission.to_csv(\"dacon_wine-211207-1440.csv\")"
   ]
  }
 ],
 "metadata": {
  "kernelspec": {
   "display_name": "Python 3",
   "language": "python",
   "name": "python3"
  },
  "language_info": {
   "codemirror_mode": {
    "name": "ipython",
    "version": 3
   },
   "file_extension": ".py",
   "mimetype": "text/x-python",
   "name": "python",
   "nbconvert_exporter": "python",
   "pygments_lexer": "ipython3",
   "version": "3.8.8"
  }
 },
 "nbformat": 4,
 "nbformat_minor": 5
}
