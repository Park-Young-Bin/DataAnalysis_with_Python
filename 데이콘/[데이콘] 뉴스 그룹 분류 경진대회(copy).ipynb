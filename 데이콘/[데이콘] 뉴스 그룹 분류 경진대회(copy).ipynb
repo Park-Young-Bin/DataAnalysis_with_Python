{
 "cells": [
  {
   "cell_type": "markdown",
   "id": "58d3ffe6-44e3-4503-bfd0-7682cb0cf2b2",
   "metadata": {},
   "source": [
    "# [[데이콘] 뉴스 그룹 분류 경진대회](https://dacon.io/competitions/official/235884/overview/description)\n",
    "스포츠, 사회, 과학, 정치, 종교 등 20개의 카테고리의 토픽을 분류하는 대회  \n",
    "대회를 시작하기 앞서 어떤 데이터가 주어졌고, 어떤 방식으로 활용할 수 있을지  \n",
    "데이터를 분석하고 시각화하며 인사이트를 얻어내는 작업 필요\n",
    "\n",
    "target : 뉴스 그룹 (20개의 그룹)\n",
    "- 1 : alt.atheism\n",
    "- 2 : comp.graphics\n",
    "- 3 : comp.os.ms-windows.misc\n",
    "- 4 : comp.sys.ibm.pc.hardware\n",
    "- 5 : comp.sys.mac.hardware\n",
    "- 6 : comp.windows.x\n",
    "- 7 : misc.forsale\n",
    "- 8 : rec.autos\n",
    "- 9 : rec.motorcycles\n",
    "- 10 : rec.sport.baseball\n",
    "- 11 : rec.sport.hockey\n",
    "- 12 : sci.crypt\n",
    "- 13 : sci.electronics\n",
    "- 14 : sci.med\n",
    "- 15 : sci.space\n",
    "- 16 : soc.religion.christian\n",
    "- 17 : talk.politics.guns\n",
    "- 18 : talk.politics.mideast\n",
    "- 19 : talk.politics.misc\n",
    "- 20 : talk.religion.misc"
   ]
  },
  {
   "cell_type": "code",
   "execution_count": 1,
   "id": "637b530e-9a96-4748-9da7-1bfa7543babc",
   "metadata": {},
   "outputs": [],
   "source": [
    "import pandas as pd\n",
    "import numpy as np\n",
    "import matplotlib.pyplot as plt\n",
    "%matplotlib inline"
   ]
  },
  {
   "cell_type": "markdown",
   "id": "7844382c-f250-4e76-b3ec-84249f322f07",
   "metadata": {},
   "source": [
    "## 1. 데이터 불러오기"
   ]
  },
  {
   "cell_type": "code",
   "execution_count": 2,
   "id": "5aa48581-59ed-4e4a-a960-2c920e5a5b4f",
   "metadata": {},
   "outputs": [
    {
     "data": {
      "text/html": [
       "<div>\n",
       "<style scoped>\n",
       "    .dataframe tbody tr th:only-of-type {\n",
       "        vertical-align: middle;\n",
       "    }\n",
       "\n",
       "    .dataframe tbody tr th {\n",
       "        vertical-align: top;\n",
       "    }\n",
       "\n",
       "    .dataframe thead th {\n",
       "        text-align: right;\n",
       "    }\n",
       "</style>\n",
       "<table border=\"1\" class=\"dataframe\">\n",
       "  <thead>\n",
       "    <tr style=\"text-align: right;\">\n",
       "      <th></th>\n",
       "      <th>id</th>\n",
       "      <th>text</th>\n",
       "      <th>target</th>\n",
       "    </tr>\n",
       "  </thead>\n",
       "  <tbody>\n",
       "    <tr>\n",
       "      <th>0</th>\n",
       "      <td>0</td>\n",
       "      <td>\\nThey were, and even if Washington might cons...</td>\n",
       "      <td>10</td>\n",
       "    </tr>\n",
       "    <tr>\n",
       "      <th>1</th>\n",
       "      <td>1</td>\n",
       "      <td>We run \"SpaceNews &amp; Views\" on our STAREACH BBS...</td>\n",
       "      <td>14</td>\n",
       "    </tr>\n",
       "    <tr>\n",
       "      <th>2</th>\n",
       "      <td>2</td>\n",
       "      <td>\\n\\n\\nNot to worry.  The Masons have been demo...</td>\n",
       "      <td>19</td>\n",
       "    </tr>\n",
       "    <tr>\n",
       "      <th>3</th>\n",
       "      <td>3</td>\n",
       "      <td>Only Brendan McKay, or maybe ARF, would come t...</td>\n",
       "      <td>17</td>\n",
       "    </tr>\n",
       "    <tr>\n",
       "      <th>4</th>\n",
       "      <td>4</td>\n",
       "      <td>Help: I am running some sample problems from O...</td>\n",
       "      <td>5</td>\n",
       "    </tr>\n",
       "  </tbody>\n",
       "</table>\n",
       "</div>"
      ],
      "text/plain": [
       "   id                                               text  target\n",
       "0   0  \\nThey were, and even if Washington might cons...      10\n",
       "1   1  We run \"SpaceNews & Views\" on our STAREACH BBS...      14\n",
       "2   2  \\n\\n\\nNot to worry.  The Masons have been demo...      19\n",
       "3   3  Only Brendan McKay, or maybe ARF, would come t...      17\n",
       "4   4  Help: I am running some sample problems from O...       5"
      ]
     },
     "execution_count": 2,
     "metadata": {},
     "output_type": "execute_result"
    }
   ],
   "source": [
    "train = pd.read_csv('data/뉴스 그룹 분류 경진대회/train.csv')\n",
    "train.head()"
   ]
  },
  {
   "cell_type": "code",
   "execution_count": 3,
   "id": "a9613037-525c-45e4-8ef0-f6cd64d9b4f3",
   "metadata": {},
   "outputs": [
    {
     "data": {
      "text/plain": [
       "array([ 0,  1,  2,  3,  4,  5,  6,  7,  8,  9, 10, 11, 12, 13, 14, 15, 16,\n",
       "       17, 18, 19], dtype=int64)"
      ]
     },
     "execution_count": 3,
     "metadata": {},
     "output_type": "execute_result"
    }
   ],
   "source": [
    "temp = train.target.unique()\n",
    "np.sort(temp)"
   ]
  },
  {
   "cell_type": "markdown",
   "id": "680b20c6-d20a-41fa-a336-578aef965f89",
   "metadata": {},
   "source": [
    "데이터를 살펴보니 text에서 영어로 된 문자열이 주를 이루며, 각 뉴스 text는 0~19까지 스무가리로 그룹이 라벨링 되어있음"
   ]
  },
  {
   "cell_type": "markdown",
   "id": "424ea0ce-2121-453b-abc4-802c2d683f1a",
   "metadata": {},
   "source": [
    "## 2. 결측치 확인"
   ]
  },
  {
   "cell_type": "code",
   "execution_count": 4,
   "id": "e18ef22b-a718-4a3f-882a-31fa2864fe69",
   "metadata": {},
   "outputs": [
    {
     "name": "stdout",
     "output_type": "stream",
     "text": [
      "결측치가 존재하지 않습니다\n"
     ]
    }
   ],
   "source": [
    "# 결측치 존재 여부를 확인해주는 함수\n",
    "def check_missing_col(dataframe):\n",
    "    missing_col = []\n",
    "    counted_missing_col = 0\n",
    "    for i, col in enumerate(dataframe.columns):\n",
    "        missing_values = sum(dataframe[col].isna())\n",
    "        is_missing = True if missing_values >= 1 else False\n",
    "        if is_missing:\n",
    "            counted_missing_col += 1\n",
    "            print(f'결측치가 있는 컬럼은: {col}입니다')\n",
    "            print(f'해당 컬럼에 총 {missing_values}개의 결측치가 존재합니다.')\n",
    "            missing_col.append([col, dataframe[col].dtype])\n",
    "    if counted_missing_col == 0:\n",
    "        print('결측치가 존재하지 않습니다')\n",
    "    return missing_col\n",
    "\n",
    "missing_col = check_missing_col(train)"
   ]
  },
  {
   "cell_type": "markdown",
   "id": "12b842a7-a821-4ad6-97cf-a3bd6742cb9d",
   "metadata": {},
   "source": [
    "## 3. 기초 통계 분석"
   ]
  },
  {
   "cell_type": "code",
   "execution_count": 5,
   "id": "12e592ee-2206-4306-b32d-e642788ddc56",
   "metadata": {},
   "outputs": [
    {
     "name": "stdout",
     "output_type": "stream",
     "text": [
      "<class 'pandas.core.frame.DataFrame'>\n",
      "RangeIndex: 9233 entries, 0 to 9232\n",
      "Data columns (total 3 columns):\n",
      " #   Column  Non-Null Count  Dtype \n",
      "---  ------  --------------  ----- \n",
      " 0   id      9233 non-null   int64 \n",
      " 1   text    9233 non-null   object\n",
      " 2   target  9233 non-null   int64 \n",
      "dtypes: int64(2), object(1)\n",
      "memory usage: 216.5+ KB\n"
     ]
    }
   ],
   "source": [
    "train.info()"
   ]
  },
  {
   "cell_type": "markdown",
   "id": "a4b85ccd-ebae-4c08-bb57-01fd3f2c4165",
   "metadata": {},
   "source": [
    "## 4. Text 기초 전처리"
   ]
  },
  {
   "cell_type": "code",
   "execution_count": 6,
   "id": "8f82a26d-87b7-4be7-a48e-919cc19c9a97",
   "metadata": {},
   "outputs": [
    {
     "data": {
      "text/plain": [
       "0       \\nThey were, and even if Washington might cons...\n",
       "1       We run \"SpaceNews & Views\" on our STAREACH BBS...\n",
       "2       \\n\\n\\nNot to worry.  The Masons have been demo...\n",
       "3       Only Brendan McKay, or maybe ARF, would come t...\n",
       "4       Help: I am running some sample problems from O...\n",
       "                              ...                        \n",
       "9228    \\n\\nPrecisely, why not Cuba??  Why not???  The...\n",
       "9229    Your Custom Resume On Disk!\\n \\n              ...\n",
       "9230    Throughout the years of the Israel/Arab-Palest...\n",
       "9231    Does anyone know if there are any devices avai...\n",
       "9232    \\n\\n      Give ME a break, chum.  Are you tell...\n",
       "Name: text, Length: 9233, dtype: object"
      ]
     },
     "execution_count": 6,
     "metadata": {},
     "output_type": "execute_result"
    }
   ],
   "source": [
    "train.text"
   ]
  },
  {
   "cell_type": "markdown",
   "id": "0c62933e-7789-48f3-97c1-2782932685b6",
   "metadata": {},
   "source": [
    "text 내용을 보면 \\n, & 등 불필요한 문자가 들어있다.  \n",
    "정규표현식을 이용해 이를 전처리하여 깔끔한 문장을 만들어야 한다."
   ]
  },
  {
   "cell_type": "code",
   "execution_count": 7,
   "id": "0e1033f3-c306-4722-b04a-87fdf0b4fb6a",
   "metadata": {},
   "outputs": [],
   "source": [
    "import re \n",
    "\n",
    "def clean_text(texts): \n",
    "  corpus = [] \n",
    "  for i in range(0, len(texts)): # 0~9232 인덱스 순서대로 적용\n",
    "\n",
    "    review = re.sub(r'[@%\\\\*=()/~#&\\+á?\\xc3\\xa1\\-\\|\\.\\:\\;\\!\\-\\,\\_\\~\\$\\'\\\"\\n\\]\\[\\>]', '',texts[i]) # @%*=()/+ 와 같은 문장부호 제거\n",
    "    review = re.sub(r'\\d+','', review) # 숫자 제거\n",
    "    review = review.lower() # 소문자 변환\n",
    "    review = re.sub(r'\\s+', ' ', review) # extra space 제거\n",
    "    review = re.sub(r'<[^>]+>','',review) # Html tags 제거\n",
    "    review = re.sub(r'\\s+', ' ', review) # spaces 제거\n",
    "    review = re.sub(r\"^\\s+\", '', review) # space from start 제거\n",
    "    review = re.sub(r'\\s+$', '', review) # space from the end 제거\n",
    "    review = re.sub(r'_', ' ', review) # space from the end 제거\n",
    "    corpus.append(review) \n",
    "  \n",
    "  return corpus"
   ]
  },
  {
   "cell_type": "code",
   "execution_count": 8,
   "id": "1129264e-2464-476f-b80e-2105d0adf556",
   "metadata": {},
   "outputs": [
    {
     "data": {
      "text/html": [
       "<div>\n",
       "<style scoped>\n",
       "    .dataframe tbody tr th:only-of-type {\n",
       "        vertical-align: middle;\n",
       "    }\n",
       "\n",
       "    .dataframe tbody tr th {\n",
       "        vertical-align: top;\n",
       "    }\n",
       "\n",
       "    .dataframe thead th {\n",
       "        text-align: right;\n",
       "    }\n",
       "</style>\n",
       "<table border=\"1\" class=\"dataframe\">\n",
       "  <thead>\n",
       "    <tr style=\"text-align: right;\">\n",
       "      <th></th>\n",
       "      <th>id</th>\n",
       "      <th>text</th>\n",
       "      <th>target</th>\n",
       "    </tr>\n",
       "  </thead>\n",
       "  <tbody>\n",
       "    <tr>\n",
       "      <th>0</th>\n",
       "      <td>0</td>\n",
       "      <td>they were and even if washington might conside...</td>\n",
       "      <td>10</td>\n",
       "    </tr>\n",
       "    <tr>\n",
       "      <th>1</th>\n",
       "      <td>1</td>\n",
       "      <td>we run spacenews views on our stareach bbs a l...</td>\n",
       "      <td>14</td>\n",
       "    </tr>\n",
       "    <tr>\n",
       "      <th>2</th>\n",
       "      <td>2</td>\n",
       "      <td>not to worry the masons have been demonized an...</td>\n",
       "      <td>19</td>\n",
       "    </tr>\n",
       "    <tr>\n",
       "      <th>3</th>\n",
       "      <td>3</td>\n",
       "      <td>only brendan mckay or maybe arf would come to ...</td>\n",
       "      <td>17</td>\n",
       "    </tr>\n",
       "    <tr>\n",
       "      <th>4</th>\n",
       "      <td>4</td>\n",
       "      <td>help i am running some sample problems from or...</td>\n",
       "      <td>5</td>\n",
       "    </tr>\n",
       "  </tbody>\n",
       "</table>\n",
       "</div>"
      ],
      "text/plain": [
       "   id                                               text  target\n",
       "0   0  they were and even if washington might conside...      10\n",
       "1   1  we run spacenews views on our stareach bbs a l...      14\n",
       "2   2  not to worry the masons have been demonized an...      19\n",
       "3   3  only brendan mckay or maybe arf would come to ...      17\n",
       "4   4  help i am running some sample problems from or...       5"
      ]
     },
     "execution_count": 8,
     "metadata": {},
     "output_type": "execute_result"
    }
   ],
   "source": [
    "temp = clean_text(train['text']) #메소드 적용\n",
    "train['text'] = temp\n",
    "train.head()"
   ]
  },
  {
   "cell_type": "markdown",
   "id": "c305c6dc-7c1d-4593-ac7a-369080e8df05",
   "metadata": {},
   "source": [
    "## 5. 뉴스 그룹 비율 확인"
   ]
  },
  {
   "cell_type": "code",
   "execution_count": 9,
   "id": "4e95e4de-168e-42b0-a847-8d97b8f92ebf",
   "metadata": {},
   "outputs": [
    {
     "name": "stdout",
     "output_type": "stream",
     "text": [
      "라벨이 0인 리뷰 개수:  386\n",
      "라벨이 1인 리뷰 개수:  480\n",
      "라벨이 2인 리뷰 개수:  458\n",
      "라벨이 3인 리뷰 개수:  467\n",
      "라벨이 4인 리뷰 개수:  490\n",
      "라벨이 5인 리뷰 개수:  496\n",
      "라벨이 6인 리뷰 개수:  494\n",
      "라벨이 7인 리뷰 개수:  493\n",
      "라벨이 8인 리뷰 개수:  475\n",
      "라벨이 9인 리뷰 개수:  490\n",
      "라벨이 10인 리뷰 개수:  482\n",
      "라벨이 11인 리뷰 개수:  488\n",
      "라벨이 12인 리뷰 개수:  483\n",
      "라벨이 13인 리뷰 개수:  490\n",
      "라벨이 14인 리뷰 개수:  467\n",
      "라벨이 15인 리뷰 개수:  515\n",
      "라벨이 16인 리뷰 개수:  428\n",
      "라벨이 17인 리뷰 개수:  455\n",
      "라벨이 18인 리뷰 개수:  387\n",
      "라벨이 19인 리뷰 개수:  309\n"
     ]
    }
   ],
   "source": [
    "val_count = train.target.value_counts()\n",
    "\n",
    "for i in range(0, 20):\n",
    "    print(f'라벨이 {i}인 리뷰 개수: ', val_count[i])\n",
    "\n",
    "# for i in range(0, 20):\n",
    "#     print('라벨이 {}인 리뷰 개수: {}'.format(i, val_count[i]))"
   ]
  },
  {
   "cell_type": "markdown",
   "id": "ef2c9bd3-bc04-4ea1-8827-ba59f3862953",
   "metadata": {},
   "source": [
    "## 6. 데이터 시각화"
   ]
  },
  {
   "cell_type": "code",
   "execution_count": 10,
   "id": "ce2c0065-6cde-40b0-a695-7df8bb5af6f4",
   "metadata": {},
   "outputs": [
    {
     "data": {
      "image/png": "[encoded data removed]",
      "text/plain": [
       "<Figure size 720x540 with 1 Axes>"
      ]
     },
     "metadata": {},
     "output_type": "display_data"
    }
   ],
   "source": [
    "%matplotlib inline\n",
    "plt.style.use('ggplot')\n",
    "\n",
    "# 히스토그램을 사용해서 데이터 분포 확인\n",
    "feature = train['target']\n",
    "\n",
    "plt.figure(figsize = (10, 7.5)) # 그래프 이미지 크기 설정\n",
    "plt.suptitle('Bar Plot', fontsize = 30) # 부제목과 폰트 크기 설정\n",
    "\n",
    "plt.title('label', fontsize=20) # 제목과 폰트 크기 설정\n",
    "temp = feature.value_counts() # feature 변수의 변수별 개수 계산\n",
    "plt.bar(temp.keys(), temp.values, width = 0.5, color='b', alpha = 0.5) # 막대그래프 생성\n",
    "plt.xticks(temp.keys(), fontsize=12) # x축 값, 폰트 크기 설정\n",
    "plt.tight_layout(rect=[0, 0.03, 1, 0.95]) # 레이아웃 설정\n",
    "plt.show() # 그래프 나타내기"
   ]
  },
  {
   "cell_type": "markdown",
   "id": "9828c5ee-b352-4138-8a5e-4afbfcc93672",
   "metadata": {},
   "source": [
    "## 7. 뉴스 text 길이 확인"
   ]
  },
  {
   "cell_type": "code",
   "execution_count": 11,
   "id": "353c7936-e7f6-4cf7-a23a-b8a9579743b1",
   "metadata": {},
   "outputs": [
    {
     "name": "stdout",
     "output_type": "stream",
     "text": [
      "뉴스의 평균 길이: 1020.0\n"
     ]
    }
   ],
   "source": [
    "str_len_mean = np.mean(train['text'].str.len()) # 리뷰 길이의 평균값 계산\n",
    "print(f'뉴스의 평균 길이:', round(str_len_mean, 0))"
   ]
  },
  {
   "cell_type": "code",
   "execution_count": 15,
   "id": "6463ad9f-92a3-44a3-915d-548e68b3d215",
   "metadata": {},
   "outputs": [],
   "source": [
    "# 데이터 필터링을 위한 마스크 설정\n",
    "for i in range(0, 20):\n",
    "    globals()['mask_{}'.format(i)] = (train.target == i)\n",
    "    \n",
    "# 전체 및 그룹 집합 설정\n",
    "df_train = train.text.copy() # 전체 train 데이터\n",
    "\n",
    "for i in range(0, 20):\n",
    "    globals()['df_{}'.format(i)] = train.loc[globals()['mask_{}'.format(i)],:].text # 20가지 라벨 각각에 해당하는 데이터를 df0~19로 할당\n",
    "    \n",
    "# 스무가지로 나뉜 집합을 리스트로 묶음\n",
    "compare = [df_0, df_1, df_2, df_3, df_4, df_5, \n",
    "           df_6, df_7, df_8, df_9, df_10, df_11,\n",
    "           df_12, df_13, df_14, df_15, df_16, df_17,\n",
    "           df_18, df_19]"
   ]
  },
  {
   "cell_type": "code",
   "execution_count": null,
   "id": "6261bd69-07c1-4b3a-9783-c40efac1c40d",
   "metadata": {},
   "outputs": [],
   "source": [
    "plt.figure(figsize=(40,20))\n",
    "plt.suptitle(\"Histogram: news length\", fontsize=40)\n",
    "name = ['alt.atheism',\n",
    "        'comp.graphics',\n",
    "        'comp.os.ms-windows.misc',\n",
    "        'comp.sys.ibm.pc.hardware',\n",
    "        'comp.sys.mac.hardware',\n",
    "        'comp.windows.x',\n",
    "        'misc.forsale',\n",
    "        'rec.autos',\n",
    "        'rec.motorcycles',\n",
    "        'rec.sport.baseball',\n",
    "        'rec.sport.hockey',\n",
    "        'sci.crypt',\n",
    "        'sci.electronics',\n",
    "        'sci.med',\n",
    "        'sci.space',\n",
    "        'soc.religion.christian',\n",
    "        'talk.politics.guns',\n",
    "        'talk.politics.mideast',\n",
    "        'talk.politics.misc',\n",
    "        'talk.religion.misc'] # 제목으로 사용할 문자열 (라벨의 실제 이름)\n",
    "\n",
    "for i in range(len(compare)):\n",
    "    text = compare[i]\n",
    "    string_len = [len(x) for x in text]\n",
    "    plt.subplot(5, 4, i+1) # 행 개수/ 열 개수/ 해당 그래프 표시 순서\n",
    "    plt.title(name[i], fontsize=20)\n",
    "    plt.axis([0, 50000, 0, 10])   # x축 시작, 끝 / y축 시작, 끝\n",
    "    plt.hist(string_len, alpha=0.5, color='orange') # 히스토그램 생성, alpha: 그래프의 투명도 조절\n",
    "    \n",
    "plt.tight_layout(rect=[0, 0.03, 1, 0.95])\n",
    "plt.show()"
   ]
  },
  {
   "cell_type": "code",
   "execution_count": null,
   "id": "80ddbc99-9b00-482c-8d0c-c88c7e9800ed",
   "metadata": {},
   "outputs": [],
   "source": []
  }
 ],
 "metadata": {
  "kernelspec": {
   "display_name": "Python 3",
   "language": "python",
   "name": "python3"
  },
  "language_info": {
   "codemirror_mode": {
    "name": "ipython",
    "version": 3
   },
   "file_extension": ".py",
   "mimetype": "text/x-python",
   "name": "python",
   "nbconvert_exporter": "python",
   "pygments_lexer": "ipython3",
   "version": "3.8.8"
  }
 },
 "nbformat": 4,
 "nbformat_minor": 5
}
