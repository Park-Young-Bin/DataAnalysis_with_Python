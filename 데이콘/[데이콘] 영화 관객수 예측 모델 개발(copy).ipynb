{
 "cells": [
  {
   "cell_type": "markdown",
   "id": "4a1da56d-0949-482e-a0ea-02c350c3a29d",
   "metadata": {},
   "source": [
    "# [[데이콘] 영화 관객수 예측 모델 개발](https://dacon.io/competitions/open/235536/overview/description)\n",
    "\n",
    "- [코드 공유](https://dacon.io/competitions/open/235536/codeshare/3713?page=1&dtype=recent)에 올라온 예측 모델 개발 코드 참조 \n",
    "- [동영상](https://dacon.io/competitions/open/235536/talkboard/401139?page=1&dtype=recent)"
   ]
  },
  {
   "cell_type": "code",
   "execution_count": 1,
   "id": "6edb86c9-93e6-4aba-89af-3a571bbbe679",
   "metadata": {
    "tags": []
   },
   "outputs": [],
   "source": [
    "# !pip install lightgbm"
   ]
  },
  {
   "cell_type": "markdown",
   "id": "f9825879-e955-4226-ad40-e230cf248eb5",
   "metadata": {},
   "source": [
    "### step1. 필요한 패키지 및 데이터 로드"
   ]
  },
  {
   "cell_type": "code",
   "execution_count": 2,
   "id": "d074658b-3485-4151-a822-71b0d32bb1de",
   "metadata": {},
   "outputs": [],
   "source": [
    "from lightgbm import LGBMRegressor\n",
    "from sklearn.model_selection import KFold\n",
    "from sklearn.model_selection import train_test_split, GridSearchCV\n",
    "import multiprocessing\n",
    "import pandas as pd\n",
    "import numpy as np\n",
    "import seaborn as sns\n",
    "import matplotlib.pyplot as plt\n",
    "%matplotlib inline"
   ]
  },
  {
   "cell_type": "code",
   "execution_count": 3,
   "id": "5879966e-27e5-41ff-b3a7-3b386c0dee23",
   "metadata": {},
   "outputs": [],
   "source": [
    "train = pd.read_csv('pydata/movies_train.csv')\n",
    "test = pd.read_csv('pydata/movies_test.csv')\n",
    "submission = pd.read_csv('pydata/submission.csv')"
   ]
  },
  {
   "cell_type": "markdown",
   "id": "0cec2cd0-db9c-455f-84ea-5ec3b6b323a7",
   "metadata": {},
   "source": [
    "### step2. EDA 및 전처리"
   ]
  },
  {
   "cell_type": "code",
   "execution_count": 4,
   "id": "246ab983-7022-47c9-bd6b-63f9448ab8bd",
   "metadata": {
    "tags": []
   },
   "outputs": [
    {
     "name": "stdout",
     "output_type": "stream",
     "text": [
      "<class 'pandas.core.frame.DataFrame'>\n",
      "RangeIndex: 600 entries, 0 to 599\n",
      "Data columns (total 12 columns):\n",
      " #   Column          Non-Null Count  Dtype  \n",
      "---  ------          --------------  -----  \n",
      " 0   title           600 non-null    object \n",
      " 1   distributor     600 non-null    object \n",
      " 2   genre           600 non-null    object \n",
      " 3   release_time    600 non-null    object \n",
      " 4   time            600 non-null    int64  \n",
      " 5   screening_rat   600 non-null    object \n",
      " 6   director        600 non-null    object \n",
      " 7   dir_prev_bfnum  270 non-null    float64\n",
      " 8   dir_prev_num    600 non-null    int64  \n",
      " 9   num_staff       600 non-null    int64  \n",
      " 10  num_actor       600 non-null    int64  \n",
      " 11  box_off_num     600 non-null    int64  \n",
      "dtypes: float64(1), int64(5), object(6)\n",
      "memory usage: 56.4+ KB\n",
      "None\n",
      "(600, 12)\n"
     ]
    }
   ],
   "source": [
    "# train 데이터 기본 정보 확인\n",
    "print(train.info())\n",
    "print(train.shape)"
   ]
  },
  {
   "cell_type": "code",
   "execution_count": 5,
   "id": "c63f5a8b-999e-4b38-af8d-da75016508b9",
   "metadata": {
    "tags": []
   },
   "outputs": [
    {
     "data": {
      "text/plain": [
       "title               0\n",
       "distributor         0\n",
       "genre               0\n",
       "release_time        0\n",
       "time                0\n",
       "screening_rat       0\n",
       "director            0\n",
       "dir_prev_bfnum    330\n",
       "dir_prev_num        0\n",
       "num_staff           0\n",
       "num_actor           0\n",
       "box_off_num         0\n",
       "dtype: int64"
      ]
     },
     "execution_count": 5,
     "metadata": {},
     "output_type": "execute_result"
    }
   ],
   "source": [
    "# train 데이터 셋 결측치 확인\n",
    "train.isnull().sum()"
   ]
  },
  {
   "cell_type": "code",
   "execution_count": 6,
   "id": "dc4edb36-340a-4f52-a3b8-403b7e818d1d",
   "metadata": {},
   "outputs": [
    {
     "data": {
      "text/html": [
       "<div>\n",
       "<style scoped>\n",
       "    .dataframe tbody tr th:only-of-type {\n",
       "        vertical-align: middle;\n",
       "    }\n",
       "\n",
       "    .dataframe tbody tr th {\n",
       "        vertical-align: top;\n",
       "    }\n",
       "\n",
       "    .dataframe thead th {\n",
       "        text-align: right;\n",
       "    }\n",
       "</style>\n",
       "<table border=\"1\" class=\"dataframe\">\n",
       "  <thead>\n",
       "    <tr style=\"text-align: right;\">\n",
       "      <th></th>\n",
       "      <th>title</th>\n",
       "      <th>distributor</th>\n",
       "      <th>genre</th>\n",
       "      <th>release_time</th>\n",
       "      <th>time</th>\n",
       "      <th>screening_rat</th>\n",
       "      <th>director</th>\n",
       "      <th>dir_prev_bfnum</th>\n",
       "      <th>dir_prev_num</th>\n",
       "      <th>num_staff</th>\n",
       "      <th>num_actor</th>\n",
       "      <th>box_off_num</th>\n",
       "    </tr>\n",
       "  </thead>\n",
       "  <tbody>\n",
       "    <tr>\n",
       "      <th>0</th>\n",
       "      <td>개들의 전쟁</td>\n",
       "      <td>롯데엔터테인먼트</td>\n",
       "      <td>액션</td>\n",
       "      <td>2012-11-22</td>\n",
       "      <td>96</td>\n",
       "      <td>청소년 관람불가</td>\n",
       "      <td>조병옥</td>\n",
       "      <td>0.00</td>\n",
       "      <td>0</td>\n",
       "      <td>91</td>\n",
       "      <td>2</td>\n",
       "      <td>23398</td>\n",
       "    </tr>\n",
       "    <tr>\n",
       "      <th>1</th>\n",
       "      <td>내부자들</td>\n",
       "      <td>(주)쇼박스</td>\n",
       "      <td>느와르</td>\n",
       "      <td>2015-11-19</td>\n",
       "      <td>130</td>\n",
       "      <td>청소년 관람불가</td>\n",
       "      <td>우민호</td>\n",
       "      <td>1161602.50</td>\n",
       "      <td>2</td>\n",
       "      <td>387</td>\n",
       "      <td>3</td>\n",
       "      <td>7072501</td>\n",
       "    </tr>\n",
       "    <tr>\n",
       "      <th>2</th>\n",
       "      <td>은밀하게 위대하게</td>\n",
       "      <td>(주)쇼박스</td>\n",
       "      <td>액션</td>\n",
       "      <td>2013-06-05</td>\n",
       "      <td>123</td>\n",
       "      <td>15세 관람가</td>\n",
       "      <td>장철수</td>\n",
       "      <td>220775.25</td>\n",
       "      <td>4</td>\n",
       "      <td>343</td>\n",
       "      <td>4</td>\n",
       "      <td>6959083</td>\n",
       "    </tr>\n",
       "    <tr>\n",
       "      <th>3</th>\n",
       "      <td>나는 공무원이다</td>\n",
       "      <td>(주)NEW</td>\n",
       "      <td>코미디</td>\n",
       "      <td>2012-07-12</td>\n",
       "      <td>101</td>\n",
       "      <td>전체 관람가</td>\n",
       "      <td>구자홍</td>\n",
       "      <td>23894.00</td>\n",
       "      <td>2</td>\n",
       "      <td>20</td>\n",
       "      <td>6</td>\n",
       "      <td>217866</td>\n",
       "    </tr>\n",
       "    <tr>\n",
       "      <th>4</th>\n",
       "      <td>불량남녀</td>\n",
       "      <td>쇼박스(주)미디어플렉스</td>\n",
       "      <td>코미디</td>\n",
       "      <td>2010-11-04</td>\n",
       "      <td>108</td>\n",
       "      <td>15세 관람가</td>\n",
       "      <td>신근호</td>\n",
       "      <td>1.00</td>\n",
       "      <td>1</td>\n",
       "      <td>251</td>\n",
       "      <td>2</td>\n",
       "      <td>483387</td>\n",
       "    </tr>\n",
       "  </tbody>\n",
       "</table>\n",
       "</div>"
      ],
      "text/plain": [
       "       title   distributor genre release_time  time screening_rat director  \\\n",
       "0     개들의 전쟁      롯데엔터테인먼트    액션   2012-11-22    96      청소년 관람불가      조병옥   \n",
       "1       내부자들        (주)쇼박스   느와르   2015-11-19   130      청소년 관람불가      우민호   \n",
       "2  은밀하게 위대하게        (주)쇼박스    액션   2013-06-05   123       15세 관람가      장철수   \n",
       "3   나는 공무원이다        (주)NEW   코미디   2012-07-12   101        전체 관람가      구자홍   \n",
       "4       불량남녀  쇼박스(주)미디어플렉스   코미디   2010-11-04   108       15세 관람가      신근호   \n",
       "\n",
       "   dir_prev_bfnum  dir_prev_num  num_staff  num_actor  box_off_num  \n",
       "0            0.00             0         91          2        23398  \n",
       "1      1161602.50             2        387          3      7072501  \n",
       "2       220775.25             4        343          4      6959083  \n",
       "3        23894.00             2         20          6       217866  \n",
       "4            1.00             1        251          2       483387  "
      ]
     },
     "execution_count": 6,
     "metadata": {},
     "output_type": "execute_result"
    }
   ],
   "source": [
    "# dir_prev_bfnum 컬럼 결측치 대체\n",
    "train.fillna(value=0, inplace=True)\n",
    "train.head()"
   ]
  },
  {
   "cell_type": "code",
   "execution_count": 7,
   "id": "ac59b714-ace5-4a70-b2ae-bc64822a8830",
   "metadata": {
    "tags": []
   },
   "outputs": [
    {
     "data": {
      "text/html": [
       "<div>\n",
       "<style scoped>\n",
       "    .dataframe tbody tr th:only-of-type {\n",
       "        vertical-align: middle;\n",
       "    }\n",
       "\n",
       "    .dataframe tbody tr th {\n",
       "        vertical-align: top;\n",
       "    }\n",
       "\n",
       "    .dataframe thead th {\n",
       "        text-align: right;\n",
       "    }\n",
       "</style>\n",
       "<table border=\"1\" class=\"dataframe\">\n",
       "  <thead>\n",
       "    <tr style=\"text-align: right;\">\n",
       "      <th></th>\n",
       "      <th>time</th>\n",
       "      <th>dir_prev_bfnum</th>\n",
       "      <th>dir_prev_num</th>\n",
       "      <th>num_staff</th>\n",
       "      <th>num_actor</th>\n",
       "      <th>box_off_num</th>\n",
       "    </tr>\n",
       "  </thead>\n",
       "  <tbody>\n",
       "    <tr>\n",
       "      <th>count</th>\n",
       "      <td>600.000000</td>\n",
       "      <td>6.000000e+02</td>\n",
       "      <td>600.000000</td>\n",
       "      <td>600.000000</td>\n",
       "      <td>600.000000</td>\n",
       "      <td>6.000000e+02</td>\n",
       "    </tr>\n",
       "    <tr>\n",
       "      <th>mean</th>\n",
       "      <td>100.863333</td>\n",
       "      <td>4.726993e+05</td>\n",
       "      <td>0.876667</td>\n",
       "      <td>151.118333</td>\n",
       "      <td>3.706667</td>\n",
       "      <td>7.081818e+05</td>\n",
       "    </tr>\n",
       "    <tr>\n",
       "      <th>std</th>\n",
       "      <td>18.097528</td>\n",
       "      <td>1.309474e+06</td>\n",
       "      <td>1.183409</td>\n",
       "      <td>165.654671</td>\n",
       "      <td>2.446889</td>\n",
       "      <td>1.828006e+06</td>\n",
       "    </tr>\n",
       "    <tr>\n",
       "      <th>min</th>\n",
       "      <td>45.000000</td>\n",
       "      <td>0.000000e+00</td>\n",
       "      <td>0.000000</td>\n",
       "      <td>0.000000</td>\n",
       "      <td>0.000000</td>\n",
       "      <td>1.000000e+00</td>\n",
       "    </tr>\n",
       "    <tr>\n",
       "      <th>25%</th>\n",
       "      <td>89.000000</td>\n",
       "      <td>0.000000e+00</td>\n",
       "      <td>0.000000</td>\n",
       "      <td>17.000000</td>\n",
       "      <td>2.000000</td>\n",
       "      <td>1.297250e+03</td>\n",
       "    </tr>\n",
       "    <tr>\n",
       "      <th>50%</th>\n",
       "      <td>100.000000</td>\n",
       "      <td>0.000000e+00</td>\n",
       "      <td>0.000000</td>\n",
       "      <td>82.500000</td>\n",
       "      <td>3.000000</td>\n",
       "      <td>1.259100e+04</td>\n",
       "    </tr>\n",
       "    <tr>\n",
       "      <th>75%</th>\n",
       "      <td>114.000000</td>\n",
       "      <td>3.761416e+05</td>\n",
       "      <td>2.000000</td>\n",
       "      <td>264.000000</td>\n",
       "      <td>4.000000</td>\n",
       "      <td>4.798868e+05</td>\n",
       "    </tr>\n",
       "    <tr>\n",
       "      <th>max</th>\n",
       "      <td>180.000000</td>\n",
       "      <td>1.761531e+07</td>\n",
       "      <td>5.000000</td>\n",
       "      <td>869.000000</td>\n",
       "      <td>25.000000</td>\n",
       "      <td>1.426277e+07</td>\n",
       "    </tr>\n",
       "  </tbody>\n",
       "</table>\n",
       "</div>"
      ],
      "text/plain": [
       "             time  dir_prev_bfnum  dir_prev_num   num_staff   num_actor  \\\n",
       "count  600.000000    6.000000e+02    600.000000  600.000000  600.000000   \n",
       "mean   100.863333    4.726993e+05      0.876667  151.118333    3.706667   \n",
       "std     18.097528    1.309474e+06      1.183409  165.654671    2.446889   \n",
       "min     45.000000    0.000000e+00      0.000000    0.000000    0.000000   \n",
       "25%     89.000000    0.000000e+00      0.000000   17.000000    2.000000   \n",
       "50%    100.000000    0.000000e+00      0.000000   82.500000    3.000000   \n",
       "75%    114.000000    3.761416e+05      2.000000  264.000000    4.000000   \n",
       "max    180.000000    1.761531e+07      5.000000  869.000000   25.000000   \n",
       "\n",
       "        box_off_num  \n",
       "count  6.000000e+02  \n",
       "mean   7.081818e+05  \n",
       "std    1.828006e+06  \n",
       "min    1.000000e+00  \n",
       "25%    1.297250e+03  \n",
       "50%    1.259100e+04  \n",
       "75%    4.798868e+05  \n",
       "max    1.426277e+07  "
      ]
     },
     "execution_count": 7,
     "metadata": {},
     "output_type": "execute_result"
    }
   ],
   "source": [
    "# 수치형 변수의 기초통계량 확인\n",
    "train.describe()"
   ]
  },
  {
   "cell_type": "code",
   "execution_count": 8,
   "id": "e22b7b08-80b9-47cf-a9a8-471321c36d12",
   "metadata": {
    "tags": []
   },
   "outputs": [
    {
     "data": {
      "text/plain": [
       "title               0\n",
       "distributor         0\n",
       "genre               0\n",
       "release_time        0\n",
       "time                0\n",
       "screening_rat       0\n",
       "director            0\n",
       "dir_prev_bfnum    136\n",
       "dir_prev_num        0\n",
       "num_staff           0\n",
       "num_actor           0\n",
       "dtype: int64"
      ]
     },
     "execution_count": 8,
     "metadata": {},
     "output_type": "execute_result"
    }
   ],
   "source": [
    "# test 데이터 셋에서도 결측치가 있는지 확인\n",
    "# isna()와 isnull()은 같은 함수이다.\n",
    "test.isnull().sum()"
   ]
  },
  {
   "cell_type": "code",
   "execution_count": 9,
   "id": "e938124f-4584-4be2-a07f-bd1c0e9d85b3",
   "metadata": {
    "tags": []
   },
   "outputs": [
    {
     "data": {
      "text/plain": [
       "title             0\n",
       "distributor       0\n",
       "genre             0\n",
       "release_time      0\n",
       "time              0\n",
       "screening_rat     0\n",
       "director          0\n",
       "dir_prev_bfnum    0\n",
       "dir_prev_num      0\n",
       "num_staff         0\n",
       "num_actor         0\n",
       "dtype: int64"
      ]
     },
     "execution_count": 9,
     "metadata": {},
     "output_type": "execute_result"
    }
   ],
   "source": [
    "# test 데이터 셋의 dir_prev_bfnum 컬럼 결측치 대체\n",
    "test['dir_prev_bfnum'].fillna(value=0, inplace=True)\n",
    "test.isnull().sum()"
   ]
  },
  {
   "cell_type": "markdown",
   "id": "65542536-363a-4110-8d40-1b28933a4f79",
   "metadata": {},
   "source": [
    "### step3. EDA"
   ]
  },
  {
   "cell_type": "markdown",
   "id": "585605a6-8d26-4f9c-89da-2538292a3acb",
   "metadata": {},
   "source": [
    "#### **관람객 수가 가장 많은 10개 영화 목록**"
   ]
  },
  {
   "cell_type": "code",
   "execution_count": 10,
   "id": "ea6f64f0-be01-4f35-a4ee-22a48b1ce786",
   "metadata": {},
   "outputs": [
    {
     "data": {
      "text/html": [
       "<div>\n",
       "<style scoped>\n",
       "    .dataframe tbody tr th:only-of-type {\n",
       "        vertical-align: middle;\n",
       "    }\n",
       "\n",
       "    .dataframe tbody tr th {\n",
       "        vertical-align: top;\n",
       "    }\n",
       "\n",
       "    .dataframe thead th {\n",
       "        text-align: right;\n",
       "    }\n",
       "</style>\n",
       "<table border=\"1\" class=\"dataframe\">\n",
       "  <thead>\n",
       "    <tr style=\"text-align: right;\">\n",
       "      <th></th>\n",
       "      <th>title</th>\n",
       "      <th>distributor</th>\n",
       "      <th>genre</th>\n",
       "      <th>release_time</th>\n",
       "      <th>time</th>\n",
       "      <th>screening_rat</th>\n",
       "      <th>director</th>\n",
       "      <th>dir_prev_bfnum</th>\n",
       "      <th>dir_prev_num</th>\n",
       "      <th>num_staff</th>\n",
       "      <th>num_actor</th>\n",
       "      <th>box_off_num</th>\n",
       "    </tr>\n",
       "  </thead>\n",
       "  <tbody>\n",
       "    <tr>\n",
       "      <th>372</th>\n",
       "      <td>국제시장</td>\n",
       "      <td>CJ 엔터테인먼트</td>\n",
       "      <td>드라마</td>\n",
       "      <td>2014-12-17</td>\n",
       "      <td>126</td>\n",
       "      <td>12세 관람가</td>\n",
       "      <td>윤제균</td>\n",
       "      <td>0.000000e+00</td>\n",
       "      <td>0</td>\n",
       "      <td>869</td>\n",
       "      <td>4</td>\n",
       "      <td>14262766</td>\n",
       "    </tr>\n",
       "    <tr>\n",
       "      <th>362</th>\n",
       "      <td>도둑들</td>\n",
       "      <td>(주)쇼박스</td>\n",
       "      <td>느와르</td>\n",
       "      <td>2012-07-25</td>\n",
       "      <td>135</td>\n",
       "      <td>15세 관람가</td>\n",
       "      <td>최동훈</td>\n",
       "      <td>2.564692e+06</td>\n",
       "      <td>3</td>\n",
       "      <td>462</td>\n",
       "      <td>10</td>\n",
       "      <td>12983841</td>\n",
       "    </tr>\n",
       "    <tr>\n",
       "      <th>530</th>\n",
       "      <td>7번방의 선물</td>\n",
       "      <td>(주)NEW</td>\n",
       "      <td>코미디</td>\n",
       "      <td>2013-01-23</td>\n",
       "      <td>127</td>\n",
       "      <td>15세 관람가</td>\n",
       "      <td>이환경</td>\n",
       "      <td>8.190495e+05</td>\n",
       "      <td>2</td>\n",
       "      <td>300</td>\n",
       "      <td>8</td>\n",
       "      <td>12811435</td>\n",
       "    </tr>\n",
       "    <tr>\n",
       "      <th>498</th>\n",
       "      <td>암살</td>\n",
       "      <td>(주)쇼박스</td>\n",
       "      <td>액션</td>\n",
       "      <td>2015-07-22</td>\n",
       "      <td>139</td>\n",
       "      <td>15세 관람가</td>\n",
       "      <td>최동훈</td>\n",
       "      <td>5.169479e+06</td>\n",
       "      <td>4</td>\n",
       "      <td>628</td>\n",
       "      <td>3</td>\n",
       "      <td>12706663</td>\n",
       "    </tr>\n",
       "    <tr>\n",
       "      <th>460</th>\n",
       "      <td>광해, 왕이 된 남자</td>\n",
       "      <td>CJ 엔터테인먼트</td>\n",
       "      <td>드라마</td>\n",
       "      <td>2012-09-13</td>\n",
       "      <td>131</td>\n",
       "      <td>15세 관람가</td>\n",
       "      <td>추창민</td>\n",
       "      <td>1.552541e+06</td>\n",
       "      <td>2</td>\n",
       "      <td>402</td>\n",
       "      <td>3</td>\n",
       "      <td>12323595</td>\n",
       "    </tr>\n",
       "    <tr>\n",
       "      <th>122</th>\n",
       "      <td>변호인</td>\n",
       "      <td>(주)NEW</td>\n",
       "      <td>드라마</td>\n",
       "      <td>2013-12-18</td>\n",
       "      <td>127</td>\n",
       "      <td>15세 관람가</td>\n",
       "      <td>양우석</td>\n",
       "      <td>0.000000e+00</td>\n",
       "      <td>0</td>\n",
       "      <td>311</td>\n",
       "      <td>5</td>\n",
       "      <td>11374879</td>\n",
       "    </tr>\n",
       "    <tr>\n",
       "      <th>496</th>\n",
       "      <td>설국열차</td>\n",
       "      <td>CJ 엔터테인먼트</td>\n",
       "      <td>SF</td>\n",
       "      <td>2013-08-01</td>\n",
       "      <td>125</td>\n",
       "      <td>15세 관람가</td>\n",
       "      <td>봉준호</td>\n",
       "      <td>0.000000e+00</td>\n",
       "      <td>0</td>\n",
       "      <td>67</td>\n",
       "      <td>10</td>\n",
       "      <td>9350351</td>\n",
       "    </tr>\n",
       "    <tr>\n",
       "      <th>101</th>\n",
       "      <td>관상</td>\n",
       "      <td>(주)쇼박스</td>\n",
       "      <td>드라마</td>\n",
       "      <td>2013-09-11</td>\n",
       "      <td>139</td>\n",
       "      <td>15세 관람가</td>\n",
       "      <td>한재림</td>\n",
       "      <td>1.242778e+06</td>\n",
       "      <td>2</td>\n",
       "      <td>298</td>\n",
       "      <td>6</td>\n",
       "      <td>9135806</td>\n",
       "    </tr>\n",
       "    <tr>\n",
       "      <th>505</th>\n",
       "      <td>해적: 바다로 간 산적</td>\n",
       "      <td>롯데엔터테인먼트</td>\n",
       "      <td>SF</td>\n",
       "      <td>2014-08-06</td>\n",
       "      <td>130</td>\n",
       "      <td>12세 관람가</td>\n",
       "      <td>이석훈</td>\n",
       "      <td>1.843895e+06</td>\n",
       "      <td>3</td>\n",
       "      <td>868</td>\n",
       "      <td>2</td>\n",
       "      <td>8666208</td>\n",
       "    </tr>\n",
       "    <tr>\n",
       "      <th>476</th>\n",
       "      <td>수상한 그녀</td>\n",
       "      <td>CJ 엔터테인먼트</td>\n",
       "      <td>코미디</td>\n",
       "      <td>2014-01-22</td>\n",
       "      <td>124</td>\n",
       "      <td>15세 관람가</td>\n",
       "      <td>황동혁</td>\n",
       "      <td>2.781990e+06</td>\n",
       "      <td>2</td>\n",
       "      <td>437</td>\n",
       "      <td>5</td>\n",
       "      <td>8659725</td>\n",
       "    </tr>\n",
       "  </tbody>\n",
       "</table>\n",
       "</div>"
      ],
      "text/plain": [
       "            title distributor genre release_time  time screening_rat director  \\\n",
       "372          국제시장   CJ 엔터테인먼트   드라마   2014-12-17   126       12세 관람가      윤제균   \n",
       "362           도둑들      (주)쇼박스   느와르   2012-07-25   135       15세 관람가      최동훈   \n",
       "530       7번방의 선물      (주)NEW   코미디   2013-01-23   127       15세 관람가      이환경   \n",
       "498            암살      (주)쇼박스    액션   2015-07-22   139       15세 관람가      최동훈   \n",
       "460   광해, 왕이 된 남자   CJ 엔터테인먼트   드라마   2012-09-13   131       15세 관람가      추창민   \n",
       "122           변호인      (주)NEW   드라마   2013-12-18   127       15세 관람가      양우석   \n",
       "496          설국열차   CJ 엔터테인먼트    SF   2013-08-01   125       15세 관람가      봉준호   \n",
       "101            관상      (주)쇼박스   드라마   2013-09-11   139       15세 관람가      한재림   \n",
       "505  해적: 바다로 간 산적    롯데엔터테인먼트    SF   2014-08-06   130       12세 관람가      이석훈   \n",
       "476        수상한 그녀   CJ 엔터테인먼트   코미디   2014-01-22   124       15세 관람가      황동혁   \n",
       "\n",
       "     dir_prev_bfnum  dir_prev_num  num_staff  num_actor  box_off_num  \n",
       "372    0.000000e+00             0        869          4     14262766  \n",
       "362    2.564692e+06             3        462         10     12983841  \n",
       "530    8.190495e+05             2        300          8     12811435  \n",
       "498    5.169479e+06             4        628          3     12706663  \n",
       "460    1.552541e+06             2        402          3     12323595  \n",
       "122    0.000000e+00             0        311          5     11374879  \n",
       "496    0.000000e+00             0         67         10      9350351  \n",
       "101    1.242778e+06             2        298          6      9135806  \n",
       "505    1.843895e+06             3        868          2      8666208  \n",
       "476    2.781990e+06             2        437          5      8659725  "
      ]
     },
     "execution_count": 10,
     "metadata": {},
     "output_type": "execute_result"
    }
   ],
   "source": [
    "train.sort_values(by='box_off_num', ascending=False).head(10)"
   ]
  },
  {
   "cell_type": "markdown",
   "id": "4a71545d-deb5-4b4c-9508-e03c35f9c7b6",
   "metadata": {},
   "source": [
    "#### **영화 장르별 평균 관람객 수**"
   ]
  },
  {
   "cell_type": "code",
   "execution_count": 11,
   "id": "2e196210-e12a-4d8d-91cb-60850ccef426",
   "metadata": {},
   "outputs": [
    {
     "data": {
      "text/html": [
       "<div>\n",
       "<style scoped>\n",
       "    .dataframe tbody tr th:only-of-type {\n",
       "        vertical-align: middle;\n",
       "    }\n",
       "\n",
       "    .dataframe tbody tr th {\n",
       "        vertical-align: top;\n",
       "    }\n",
       "\n",
       "    .dataframe thead th {\n",
       "        text-align: right;\n",
       "    }\n",
       "</style>\n",
       "<table border=\"1\" class=\"dataframe\">\n",
       "  <thead>\n",
       "    <tr style=\"text-align: right;\">\n",
       "      <th></th>\n",
       "      <th>box_off_num</th>\n",
       "    </tr>\n",
       "    <tr>\n",
       "      <th>genre</th>\n",
       "      <th></th>\n",
       "    </tr>\n",
       "  </thead>\n",
       "  <tbody>\n",
       "    <tr>\n",
       "      <th>코미디</th>\n",
       "      <td>1.193914e+06</td>\n",
       "    </tr>\n",
       "    <tr>\n",
       "      <th>액션</th>\n",
       "      <td>2.203974e+06</td>\n",
       "    </tr>\n",
       "    <tr>\n",
       "      <th>애니메이션</th>\n",
       "      <td>1.819267e+05</td>\n",
       "    </tr>\n",
       "    <tr>\n",
       "      <th>서스펜스</th>\n",
       "      <td>8.261100e+04</td>\n",
       "    </tr>\n",
       "    <tr>\n",
       "      <th>미스터리</th>\n",
       "      <td>5.275482e+05</td>\n",
       "    </tr>\n",
       "    <tr>\n",
       "      <th>뮤지컬</th>\n",
       "      <td>6.627000e+03</td>\n",
       "    </tr>\n",
       "    <tr>\n",
       "      <th>멜로/로맨스</th>\n",
       "      <td>4.259680e+05</td>\n",
       "    </tr>\n",
       "    <tr>\n",
       "      <th>드라마</th>\n",
       "      <td>6.256898e+05</td>\n",
       "    </tr>\n",
       "    <tr>\n",
       "      <th>다큐멘터리</th>\n",
       "      <td>6.717226e+04</td>\n",
       "    </tr>\n",
       "    <tr>\n",
       "      <th>느와르</th>\n",
       "      <td>2.263695e+06</td>\n",
       "    </tr>\n",
       "    <tr>\n",
       "      <th>공포</th>\n",
       "      <td>5.908325e+05</td>\n",
       "    </tr>\n",
       "    <tr>\n",
       "      <th>SF</th>\n",
       "      <td>1.788346e+06</td>\n",
       "    </tr>\n",
       "  </tbody>\n",
       "</table>\n",
       "</div>"
      ],
      "text/plain": [
       "         box_off_num\n",
       "genre               \n",
       "코미디     1.193914e+06\n",
       "액션      2.203974e+06\n",
       "애니메이션   1.819267e+05\n",
       "서스펜스    8.261100e+04\n",
       "미스터리    5.275482e+05\n",
       "뮤지컬     6.627000e+03\n",
       "멜로/로맨스  4.259680e+05\n",
       "드라마     6.256898e+05\n",
       "다큐멘터리   6.717226e+04\n",
       "느와르     2.263695e+06\n",
       "공포      5.908325e+05\n",
       "SF      1.788346e+06"
      ]
     },
     "execution_count": 11,
     "metadata": {},
     "output_type": "execute_result"
    }
   ],
   "source": [
    "# 장르별로 내림차순\n",
    "train[['genre', 'box_off_num']].groupby('genre').mean().sort_values(by='genre', ascending=False)"
   ]
  },
  {
   "cell_type": "markdown",
   "id": "0a062a73-65ed-4a60-b1e1-733923511771",
   "metadata": {},
   "source": [
    "#### **변수들의 분포 파악(히스토그램)**"
   ]
  },
  {
   "cell_type": "code",
   "execution_count": 12,
   "id": "4eb4dece-14cb-4307-92b7-77f8f6512ee4",
   "metadata": {},
   "outputs": [
    {
     "data": {
      "image/png": "[encoded data removed]",
      "text/plain": [
       "<Figure size 1224x864 with 6 Axes>"
      ]
     },
     "metadata": {
      "needs_background": "light"
     },
     "output_type": "display_data"
    }
   ],
   "source": [
    "train.hist(bins=30, figsize = (17, 12))\n",
    "plt.show()"
   ]
  },
  {
   "cell_type": "markdown",
   "id": "79768da7-c3bc-44b6-a654-30bc2c400730",
   "metadata": {},
   "source": [
    "#### **변수간 상관관계 파악(+ 히트맵)**"
   ]
  },
  {
   "cell_type": "code",
   "execution_count": 13,
   "id": "d05a744f-e367-4450-8cf7-2135071d78c0",
   "metadata": {},
   "outputs": [],
   "source": [
    "#상관분석은 숫자로 계산할 수 있으므로 데이터에서 숫자로 이루어진 컬럼만을 뽑는다\n",
    "train_number = train.select_dtypes(np.number)"
   ]
  },
  {
   "cell_type": "code",
   "execution_count": 14,
   "id": "a37fdb9a-f545-43f4-ad25-f9a0180ddc95",
   "metadata": {},
   "outputs": [],
   "source": [
    "corr = train_number.corr()"
   ]
  },
  {
   "cell_type": "code",
   "execution_count": 15,
   "id": "054a7f5f-bd5d-4807-9109-af6bbe68dc36",
   "metadata": {},
   "outputs": [
    {
     "data": {
      "image/png": "[encoded data removed]",
      "text/plain": [
       "<Figure size 1080x576 with 2 Axes>"
      ]
     },
     "metadata": {
      "needs_background": "light"
     },
     "output_type": "display_data"
    }
   ],
   "source": [
    "plt.colormap = plt.cm.PuBu\n",
    "plt.figure(figsize=(15,8))\n",
    "ax = sns.heatmap(\n",
    "    corr, vmin=-1, vmax=1, center=0,\n",
    "    cmap=sns.diverging_palette(20, 220, n=200),\n",
    "    square = True, annot = True\n",
    "    )\n",
    "ax.set_xticklabels(\n",
    "    ax.get_xticklabels(),\n",
    "    rotation=45,\n",
    "    horizontalalignment='right'\n",
    "    )\n",
    "\n",
    "plt.title('Correlation heatmap', fontsize=30)\n",
    "plt.show()"
   ]
  },
  {
   "cell_type": "code",
   "execution_count": 16,
   "id": "ad5f75bd-ae93-4745-b3bc-239436147893",
   "metadata": {},
   "outputs": [
    {
     "data": {
      "image/png": "[encoded data removed]",
      "text/plain": [
       "<Figure size 576x576 with 1 Axes>"
      ]
     },
     "metadata": {
      "needs_background": "light"
     },
     "output_type": "display_data"
    }
   ],
   "source": [
    "plt.figure(figsize=(8,8))\n",
    "ax = sns.scatterplot(data=train, x='num_staff', y='box_off_num')\n",
    "ax.set_title('Num_staff & Box_off_num Scatter plot', fontsize=20)\n",
    "plt.show()"
   ]
  },
  {
   "cell_type": "code",
   "execution_count": 17,
   "id": "ca7798a5-dd4d-4731-8e3e-6b4bec5cb6d4",
   "metadata": {},
   "outputs": [
    {
     "data": {
      "image/png": "[encoded data removed]",
      "text/plain": [
       "<Figure size 576x576 with 1 Axes>"
      ]
     },
     "metadata": {
      "needs_background": "light"
     },
     "output_type": "display_data"
    }
   ],
   "source": [
    "plt.figure(figsize=(8, 8))\n",
    "ax = sns.scatterplot(data=train, x='time', y='box_off_num')\n",
    "ax.set_title('Time & Box_off_num Scatter plot', fontsize=20)\n",
    "plt.show()"
   ]
  },
  {
   "cell_type": "markdown",
   "id": "d99c84ec-3a26-4c31-9c5c-fef5f38dc05c",
   "metadata": {},
   "source": [
    "여기까지 전처리 작업과 EDA를 해보았다."
   ]
  },
  {
   "cell_type": "markdown",
   "id": "5b16f5d5-679a-4220-a24e-25edd9bb592d",
   "metadata": {},
   "source": [
    "### step3. 변수 선택 및 모델 구축(Feature Engineering & Initial Modeling)"
   ]
  },
  {
   "cell_type": "markdown",
   "id": "f2c07a49-f0c9-4052-9b21-fb774a439eab",
   "metadata": {},
   "source": [
    "#### **1. 첫 번째 모델**"
   ]
  },
  {
   "cell_type": "code",
   "execution_count": 18,
   "id": "63b29d73-bf65-456a-a6ba-fedf9a581471",
   "metadata": {},
   "outputs": [
    {
     "data": {
      "text/plain": [
       "LGBMRegressor(random_state=777)"
      ]
     },
     "execution_count": 18,
     "metadata": {},
     "output_type": "execute_result"
    }
   ],
   "source": [
    "# 모델 생성\n",
    "model = LGBMRegressor(random_state = 777, n_estimators = 100)\n",
    "\n",
    "# 데이터 분할\n",
    "features = ['time', 'dir_prev_num', 'num_staff', 'num_actor']\n",
    "target = ['box_off_num']\n",
    "\n",
    "X_train, X_test, y_train = train[features], test[features], train[target]\n",
    "\n",
    "# 모델 학습\n",
    "model.fit(X_train, y_train)"
   ]
  },
  {
   "cell_type": "code",
   "execution_count": 19,
   "id": "d96090fb-6f33-4597-90ef-03bcdf0d4be6",
   "metadata": {},
   "outputs": [
    {
     "data": {
      "text/html": [
       "<div>\n",
       "<style scoped>\n",
       "    .dataframe tbody tr th:only-of-type {\n",
       "        vertical-align: middle;\n",
       "    }\n",
       "\n",
       "    .dataframe tbody tr th {\n",
       "        vertical-align: top;\n",
       "    }\n",
       "\n",
       "    .dataframe thead th {\n",
       "        text-align: right;\n",
       "    }\n",
       "</style>\n",
       "<table border=\"1\" class=\"dataframe\">\n",
       "  <thead>\n",
       "    <tr style=\"text-align: right;\">\n",
       "      <th></th>\n",
       "      <th>title</th>\n",
       "      <th>box_off_num</th>\n",
       "    </tr>\n",
       "  </thead>\n",
       "  <tbody>\n",
       "    <tr>\n",
       "      <th>0</th>\n",
       "      <td>용서는 없다</td>\n",
       "      <td>0</td>\n",
       "    </tr>\n",
       "    <tr>\n",
       "      <th>1</th>\n",
       "      <td>아빠가 여자를 좋아해</td>\n",
       "      <td>0</td>\n",
       "    </tr>\n",
       "    <tr>\n",
       "      <th>2</th>\n",
       "      <td>하모니</td>\n",
       "      <td>0</td>\n",
       "    </tr>\n",
       "    <tr>\n",
       "      <th>3</th>\n",
       "      <td>의형제</td>\n",
       "      <td>0</td>\n",
       "    </tr>\n",
       "    <tr>\n",
       "      <th>4</th>\n",
       "      <td>평행 이론</td>\n",
       "      <td>0</td>\n",
       "    </tr>\n",
       "  </tbody>\n",
       "</table>\n",
       "</div>"
      ],
      "text/plain": [
       "         title  box_off_num\n",
       "0       용서는 없다            0\n",
       "1  아빠가 여자를 좋아해            0\n",
       "2          하모니            0\n",
       "3          의형제            0\n",
       "4        평행 이론            0"
      ]
     },
     "execution_count": 19,
     "metadata": {},
     "output_type": "execute_result"
    }
   ],
   "source": [
    "# submission 데이터 셋 복사\n",
    "singleLGBM = submission.copy()\n",
    "singleLGBM.head()"
   ]
  },
  {
   "cell_type": "code",
   "execution_count": 20,
   "id": "142139ab-bfeb-4db8-820a-9ce351c5e8b4",
   "metadata": {},
   "outputs": [
    {
     "data": {
      "text/html": [
       "<div>\n",
       "<style scoped>\n",
       "    .dataframe tbody tr th:only-of-type {\n",
       "        vertical-align: middle;\n",
       "    }\n",
       "\n",
       "    .dataframe tbody tr th {\n",
       "        vertical-align: top;\n",
       "    }\n",
       "\n",
       "    .dataframe thead th {\n",
       "        text-align: right;\n",
       "    }\n",
       "</style>\n",
       "<table border=\"1\" class=\"dataframe\">\n",
       "  <thead>\n",
       "    <tr style=\"text-align: right;\">\n",
       "      <th></th>\n",
       "      <th>title</th>\n",
       "      <th>box_off_num</th>\n",
       "    </tr>\n",
       "  </thead>\n",
       "  <tbody>\n",
       "    <tr>\n",
       "      <th>0</th>\n",
       "      <td>용서는 없다</td>\n",
       "      <td>3.760144e+06</td>\n",
       "    </tr>\n",
       "    <tr>\n",
       "      <th>1</th>\n",
       "      <td>아빠가 여자를 좋아해</td>\n",
       "      <td>7.579988e+05</td>\n",
       "    </tr>\n",
       "    <tr>\n",
       "      <th>2</th>\n",
       "      <td>하모니</td>\n",
       "      <td>-1.091700e+04</td>\n",
       "    </tr>\n",
       "    <tr>\n",
       "      <th>3</th>\n",
       "      <td>의형제</td>\n",
       "      <td>1.490854e+06</td>\n",
       "    </tr>\n",
       "    <tr>\n",
       "      <th>4</th>\n",
       "      <td>평행 이론</td>\n",
       "      <td>8.458000e+05</td>\n",
       "    </tr>\n",
       "  </tbody>\n",
       "</table>\n",
       "</div>"
      ],
      "text/plain": [
       "         title   box_off_num\n",
       "0       용서는 없다  3.760144e+06\n",
       "1  아빠가 여자를 좋아해  7.579988e+05\n",
       "2          하모니 -1.091700e+04\n",
       "3          의형제  1.490854e+06\n",
       "4        평행 이론  8.458000e+05"
      ]
     },
     "execution_count": 20,
     "metadata": {},
     "output_type": "execute_result"
    }
   ],
   "source": [
    "# 예측 값을 singleLGBM에 대입\n",
    "singleLGBM['box_off_num'] = model.predict(X_test)\n",
    "singleLGBM.head()"
   ]
  },
  {
   "cell_type": "code",
   "execution_count": 21,
   "id": "ae7ebae6-9321-4a9d-81df-dcd0b8f17a11",
   "metadata": {},
   "outputs": [],
   "source": [
    "singleLGBM.to_csv('pydata/singleLGBM.csv', index = False)"
   ]
  },
  {
   "cell_type": "markdown",
   "id": "81d1ea4a-f6bc-4d0c-93cd-3a87bdd72df1",
   "metadata": {},
   "source": [
    "많이 잘못 됬다는것을 볼 수 있다. 관객수가 음수값이 나올수가 없는데 음수가 나오는것을 확인할수있다. 이 모델은 성능이 별로 안좋은거 같다. 다른 모델로 넘어가보도록 하자."
   ]
  },
  {
   "cell_type": "markdown",
   "id": "de2770e3-4305-405d-9b6b-886bb19cc6dc",
   "metadata": {},
   "source": [
    "\n",
    "#### **2. 두번째 모델(KFold 교차검증)**"
   ]
  },
  {
   "cell_type": "code",
   "execution_count": 22,
   "id": "7763eb17-61f9-4e5b-b344-8fa597c7e3f1",
   "metadata": {},
   "outputs": [],
   "source": [
    "kfold = KFold(n_splits = 5, shuffle = True, random_state = 777)"
   ]
  },
  {
   "cell_type": "markdown",
   "id": "c43585f9-03b4-497e-961a-dfce650e893c",
   "metadata": {},
   "source": [
    "n_splits = 5은 몇 등분 할지 설정후 shuffle = True는 섞어서 5등분을 시킨다는 의미이다. 섞는 이유는 순서에 대한 영향력이 있을수 있기에 섞어준다고 생각하자."
   ]
  },
  {
   "cell_type": "code",
   "execution_count": 23,
   "id": "baa934a7-8dcf-435c-b2e7-abd24b426ad8",
   "metadata": {},
   "outputs": [
    {
     "name": "stdout",
     "output_type": "stream",
     "text": [
      "480 120\n"
     ]
    }
   ],
   "source": [
    "for train_idx, val_idx in kfold.split(X_train):\n",
    "    print(len(train_idx), len(val_idx))\n",
    "    break"
   ]
  },
  {
   "cell_type": "markdown",
   "id": "37266ecd-d5f9-40e2-8a97-6d4ffad822c9",
   "metadata": {},
   "source": [
    "위 결과를 보면 5등분이 되었다는 것을 알 수 있다. train_idx은 600개중 4등분인 480개 val_idx는 120개로 나눠져있다."
   ]
  },
  {
   "cell_type": "code",
   "execution_count": 24,
   "id": "8985d056-695c-430c-860c-aad46e8a0782",
   "metadata": {},
   "outputs": [
    {
     "name": "stdout",
     "output_type": "stream",
     "text": [
      "[100]\tvalid_0's l2: 2.70572e+12\n"
     ]
    },
    {
     "name": "stderr",
     "output_type": "stream",
     "text": [
      "C:\\Users\\user\\anaconda3\\lib\\site-packages\\lightgbm\\sklearn.py:726: UserWarning: 'early_stopping_rounds' argument is deprecated and will be removed in a future release of LightGBM. Pass 'early_stopping()' callback via 'callbacks' argument instead.\n",
      "  _log_warning(\"'early_stopping_rounds' argument is deprecated and will be removed in a future release of LightGBM. \"\n",
      "C:\\Users\\user\\anaconda3\\lib\\site-packages\\lightgbm\\sklearn.py:736: UserWarning: 'verbose' argument is deprecated and will be removed in a future release of LightGBM. Pass 'log_evaluation()' callback via 'callbacks' argument instead.\n",
      "  _log_warning(\"'verbose' argument is deprecated and will be removed in a future release of LightGBM. \"\n"
     ]
    },
    {
     "name": "stdout",
     "output_type": "stream",
     "text": [
      "[100]\tvalid_0's l2: 3.90847e+12\n",
      "[100]\tvalid_0's l2: 3.50344e+12\n",
      "[100]\tvalid_0's l2: 1.45977e+12\n",
      "[100]\tvalid_0's l2: 1.77214e+12\n"
     ]
    }
   ],
   "source": [
    "model = LGBMRegressor(random_state=777, n_estimators=1000)\n",
    "\n",
    "models = [] # 모델을 담을 바구니라 생각하자.\n",
    "\n",
    "for train_idx, val_idx in kfold.split(X_train):\n",
    "    x_t = X_train.iloc[train_idx]\n",
    "    y_t = y_train.iloc[train_idx]\n",
    "    x_val = X_train.iloc[val_idx]\n",
    "    y_val = y_train.iloc[val_idx]\n",
    "    \n",
    "    models.append(model.fit(x_t, y_t, eval_set=(x_val, y_val), early_stopping_rounds=100, verbose = 100))"
   ]
  },
  {
   "cell_type": "markdown",
   "id": "6e509d33-28a7-4103-8469-56a85e5e4e78",
   "metadata": {},
   "source": [
    "early_stopping_rounds=100은 100번의 과정동안 오차율이 감소되지 않으면 멈춰라라는 명령어이다. 그이상하면 과적합이 발생하기 때문에 설정해 준다고 생각하자.  \n",
    "verbose = 100 은 우리가 1000번 학습을 하는데 100번째 모델마다 출력값을 산출해 달라라는 뜻이라 이해하자."
   ]
  },
  {
   "cell_type": "code",
   "execution_count": 25,
   "id": "432f61d7-9531-4752-8dcd-e6b9d9115bd2",
   "metadata": {},
   "outputs": [
    {
     "data": {
      "text/plain": [
       "[LGBMRegressor(n_estimators=1000, random_state=777),\n",
       " LGBMRegressor(n_estimators=1000, random_state=777),\n",
       " LGBMRegressor(n_estimators=1000, random_state=777),\n",
       " LGBMRegressor(n_estimators=1000, random_state=777),\n",
       " LGBMRegressor(n_estimators=1000, random_state=777)]"
      ]
     },
     "execution_count": 25,
     "metadata": {},
     "output_type": "execute_result"
    }
   ],
   "source": [
    "models"
   ]
  },
  {
   "cell_type": "code",
   "execution_count": 26,
   "id": "51031d51-ca67-4ff4-a802-e03d0e0a8ae0",
   "metadata": {},
   "outputs": [
    {
     "data": {
      "text/plain": [
       "5"
      ]
     },
     "execution_count": 26,
     "metadata": {},
     "output_type": "execute_result"
    }
   ],
   "source": [
    "preds = []\n",
    "for model in models:\n",
    "    preds.append(model.predict(X_test))\n",
    "len(preds)"
   ]
  },
  {
   "cell_type": "code",
   "execution_count": 27,
   "id": "73986215-f27b-4250-80eb-4a762cfc6fb0",
   "metadata": {
    "scrolled": true,
    "tags": []
   },
   "outputs": [
    {
     "data": {
      "text/plain": [
       "[array([3367422.08211024,  961138.88337016, 1097929.67851313,\n",
       "        2097270.81999921,  781476.31131047,  123133.23396977,\n",
       "          84085.01896248,  199222.92670303,  124854.97973097,\n",
       "        1072684.78820647,  657040.55769984, 1644701.47160779,\n",
       "         924735.72080619,  191699.58415836,  723218.39948755,\n",
       "        2395613.42888462,  113180.54906592, 1882765.92812296,\n",
       "          97286.47282983,  417270.42113431,  161482.3367577 ,\n",
       "          63495.73363115,  598057.42337284,  249411.25868881,\n",
       "         308424.71884273, 1319518.60852241,  202273.52740684,\n",
       "        1076683.13768137,  491636.41945325,  183406.6380314 ,\n",
       "        1740233.45816734,   86696.17528125,  440430.29773088,\n",
       "        2040944.13061099,  113375.45695331,  531746.29484356,\n",
       "         106207.35971699,  169560.79581187,  158101.0895316 ,\n",
       "          95037.29701059,  466355.50624629,  197548.63265325,\n",
       "         198810.0901353 ,  682743.4340129 ,  679265.22397749,\n",
       "         617812.91125278,  219182.85833837,   83712.10602149,\n",
       "        1206257.86593038,  213886.45118276,  225829.13565632,\n",
       "         573638.25784044,  213008.72404464, 1256363.95636108,\n",
       "        1114803.4971861 ,  743531.85320002,  491360.56067236,\n",
       "         844903.11979141, 1294842.58551457, 3224861.58056056,\n",
       "         620636.85839868, 1997931.01104478,  425408.70724227,\n",
       "         187911.96484382,  146932.14876274,   60290.34778046,\n",
       "        1553051.98103674,   61273.32234969,  434403.58150991,\n",
       "         295641.77082639, 3270724.75199692,  956695.86295249,\n",
       "          52421.39380137, 1193829.08957371,  109115.94774032,\n",
       "         114532.36574566, 1889840.31759081,  263117.7221664 ,\n",
       "         110722.44800397,  129405.69463079,  295288.27657346,\n",
       "        2208289.14524844,  127156.40131508, 2356552.01519359,\n",
       "          52421.39380137, 1582094.56763018,  450263.02347743,\n",
       "         180314.7209139 ,  207866.80825891,  237980.96274482,\n",
       "          92809.10191796,  217726.13148671,  588167.04361702,\n",
       "        2269569.15414991,  413549.08320869,  504238.61127942,\n",
       "         121235.38111888,  294348.6064813 ,  365600.03475309,\n",
       "        1021310.81474734, 1255348.78654001, 1121695.37239584,\n",
       "         236858.1355381 ,  180837.57476421,  390892.54870688,\n",
       "         112045.06953824, 3091294.61560971,   71489.84756224,\n",
       "        3949551.73068699,  117269.53815136,   76582.3994148 ,\n",
       "        1933601.27793109, 1675206.65522009,  294348.6064813 ,\n",
       "          97940.27258456,  945839.01956416,  610770.20862757,\n",
       "        1804885.34137216,  199766.90646407,   70766.27122776,\n",
       "          81754.00329429, 1021310.81474734,  846364.16218315,\n",
       "          77206.4852859 ,  598474.09814662,  169200.18001164,\n",
       "          73757.25966134,   68560.19329018,  363573.18970532,\n",
       "         439100.02360785,   53273.19743239,  883179.93430519,\n",
       "          96841.00528099,   69705.57216142,  720189.94864194,\n",
       "        4682200.86959811,  157547.86592702,  598577.33917498,\n",
       "         103530.67260964,  219913.31885361,   69705.57216142,\n",
       "        3393838.48355355, 3747750.51209052,  137237.96352743,\n",
       "         205694.9146793 , 1343063.74316061,  105778.55398733,\n",
       "         113406.67661411, 2090467.44678197,  676486.18009377,\n",
       "        1653182.84275506,  151567.24115244,   82132.69602781,\n",
       "         450200.37816199,  123824.9061514 ,  841869.56483077,\n",
       "          95800.41312684,  118291.73959934, 2085585.62459758,\n",
       "        2372839.45720666,  247688.59858277, 1334681.62533764,\n",
       "         101692.7552419 ,  503472.70498147,   64636.19839218,\n",
       "         320805.50593895, 2623266.33617439,  174088.14927962,\n",
       "          72116.10600518,   80293.56098003,   89828.86338213,\n",
       "         219193.02374581,  328023.58124177,   60290.34778046,\n",
       "         516294.37658866,  236774.09865655,  163101.99672652,\n",
       "          95037.29701059, 4401076.73195112, 3540272.0939466 ,\n",
       "          80652.10214941,   64007.05829165,   91088.74649744,\n",
       "         451288.50611234, 2108891.7577948 ,  222324.39435632,\n",
       "         230969.76551419,  119869.73646973,  202629.14049356,\n",
       "        3372525.98485469,  194055.24146137,   82570.78055486,\n",
       "         107755.73232124,   98100.67856341,   64007.05829165,\n",
       "        1960017.88124655,  439387.54981251, 1311678.25959343,\n",
       "          52266.56751161,  612357.4359533 ,  277611.14005727,\n",
       "         100834.87848026,   52421.39380137,  320518.12600116,\n",
       "         622991.23928914,  905631.603816  , 2927834.24849227,\n",
       "         562358.56357488,  111381.83047422,  781476.31131047,\n",
       "         798596.64645281, 2310966.59797285, 5133725.87086224,\n",
       "        1281440.30372974,  171353.72979582,   89630.73883889,\n",
       "        1555941.58912764,  124073.12498191,   66108.35792552,\n",
       "         201459.85880026,  108993.88378627, 3134539.90969621,\n",
       "         148239.45542642,   53451.2389687 , 1307718.56304709,\n",
       "         214406.20173983,  194835.86837801, 3367422.08211024,\n",
       "         199766.90646407, 3823577.41600747,   68447.35094925,\n",
       "         739960.30606392,  506712.38290343,  150255.49362263,\n",
       "          62093.65018694,   64707.81660264,  151784.52074685,\n",
       "          80757.16568265,  177095.84545845,  210255.47503947,\n",
       "         360547.62990175,  181508.22558258,   55171.21699634]),\n",
       " array([3367422.08211024,  961138.88337016, 1097929.67851313,\n",
       "        2097270.81999921,  781476.31131047,  123133.23396977,\n",
       "          84085.01896248,  199222.92670303,  124854.97973097,\n",
       "        1072684.78820647,  657040.55769984, 1644701.47160779,\n",
       "         924735.72080619,  191699.58415836,  723218.39948755,\n",
       "        2395613.42888462,  113180.54906592, 1882765.92812296,\n",
       "          97286.47282983,  417270.42113431,  161482.3367577 ,\n",
       "          63495.73363115,  598057.42337284,  249411.25868881,\n",
       "         308424.71884273, 1319518.60852241,  202273.52740684,\n",
       "        1076683.13768137,  491636.41945325,  183406.6380314 ,\n",
       "        1740233.45816734,   86696.17528125,  440430.29773088,\n",
       "        2040944.13061099,  113375.45695331,  531746.29484356,\n",
       "         106207.35971699,  169560.79581187,  158101.0895316 ,\n",
       "          95037.29701059,  466355.50624629,  197548.63265325,\n",
       "         198810.0901353 ,  682743.4340129 ,  679265.22397749,\n",
       "         617812.91125278,  219182.85833837,   83712.10602149,\n",
       "        1206257.86593038,  213886.45118276,  225829.13565632,\n",
       "         573638.25784044,  213008.72404464, 1256363.95636108,\n",
       "        1114803.4971861 ,  743531.85320002,  491360.56067236,\n",
       "         844903.11979141, 1294842.58551457, 3224861.58056056,\n",
       "         620636.85839868, 1997931.01104478,  425408.70724227,\n",
       "         187911.96484382,  146932.14876274,   60290.34778046,\n",
       "        1553051.98103674,   61273.32234969,  434403.58150991,\n",
       "         295641.77082639, 3270724.75199692,  956695.86295249,\n",
       "          52421.39380137, 1193829.08957371,  109115.94774032,\n",
       "         114532.36574566, 1889840.31759081,  263117.7221664 ,\n",
       "         110722.44800397,  129405.69463079,  295288.27657346,\n",
       "        2208289.14524844,  127156.40131508, 2356552.01519359,\n",
       "          52421.39380137, 1582094.56763018,  450263.02347743,\n",
       "         180314.7209139 ,  207866.80825891,  237980.96274482,\n",
       "          92809.10191796,  217726.13148671,  588167.04361702,\n",
       "        2269569.15414991,  413549.08320869,  504238.61127942,\n",
       "         121235.38111888,  294348.6064813 ,  365600.03475309,\n",
       "        1021310.81474734, 1255348.78654001, 1121695.37239584,\n",
       "         236858.1355381 ,  180837.57476421,  390892.54870688,\n",
       "         112045.06953824, 3091294.61560971,   71489.84756224,\n",
       "        3949551.73068699,  117269.53815136,   76582.3994148 ,\n",
       "        1933601.27793109, 1675206.65522009,  294348.6064813 ,\n",
       "          97940.27258456,  945839.01956416,  610770.20862757,\n",
       "        1804885.34137216,  199766.90646407,   70766.27122776,\n",
       "          81754.00329429, 1021310.81474734,  846364.16218315,\n",
       "          77206.4852859 ,  598474.09814662,  169200.18001164,\n",
       "          73757.25966134,   68560.19329018,  363573.18970532,\n",
       "         439100.02360785,   53273.19743239,  883179.93430519,\n",
       "          96841.00528099,   69705.57216142,  720189.94864194,\n",
       "        4682200.86959811,  157547.86592702,  598577.33917498,\n",
       "         103530.67260964,  219913.31885361,   69705.57216142,\n",
       "        3393838.48355355, 3747750.51209052,  137237.96352743,\n",
       "         205694.9146793 , 1343063.74316061,  105778.55398733,\n",
       "         113406.67661411, 2090467.44678197,  676486.18009377,\n",
       "        1653182.84275506,  151567.24115244,   82132.69602781,\n",
       "         450200.37816199,  123824.9061514 ,  841869.56483077,\n",
       "          95800.41312684,  118291.73959934, 2085585.62459758,\n",
       "        2372839.45720666,  247688.59858277, 1334681.62533764,\n",
       "         101692.7552419 ,  503472.70498147,   64636.19839218,\n",
       "         320805.50593895, 2623266.33617439,  174088.14927962,\n",
       "          72116.10600518,   80293.56098003,   89828.86338213,\n",
       "         219193.02374581,  328023.58124177,   60290.34778046,\n",
       "         516294.37658866,  236774.09865655,  163101.99672652,\n",
       "          95037.29701059, 4401076.73195112, 3540272.0939466 ,\n",
       "          80652.10214941,   64007.05829165,   91088.74649744,\n",
       "         451288.50611234, 2108891.7577948 ,  222324.39435632,\n",
       "         230969.76551419,  119869.73646973,  202629.14049356,\n",
       "        3372525.98485469,  194055.24146137,   82570.78055486,\n",
       "         107755.73232124,   98100.67856341,   64007.05829165,\n",
       "        1960017.88124655,  439387.54981251, 1311678.25959343,\n",
       "          52266.56751161,  612357.4359533 ,  277611.14005727,\n",
       "         100834.87848026,   52421.39380137,  320518.12600116,\n",
       "         622991.23928914,  905631.603816  , 2927834.24849227,\n",
       "         562358.56357488,  111381.83047422,  781476.31131047,\n",
       "         798596.64645281, 2310966.59797285, 5133725.87086224,\n",
       "        1281440.30372974,  171353.72979582,   89630.73883889,\n",
       "        1555941.58912764,  124073.12498191,   66108.35792552,\n",
       "         201459.85880026,  108993.88378627, 3134539.90969621,\n",
       "         148239.45542642,   53451.2389687 , 1307718.56304709,\n",
       "         214406.20173983,  194835.86837801, 3367422.08211024,\n",
       "         199766.90646407, 3823577.41600747,   68447.35094925,\n",
       "         739960.30606392,  506712.38290343,  150255.49362263,\n",
       "          62093.65018694,   64707.81660264,  151784.52074685,\n",
       "          80757.16568265,  177095.84545845,  210255.47503947,\n",
       "         360547.62990175,  181508.22558258,   55171.21699634]),\n",
       " array([3367422.08211024,  961138.88337016, 1097929.67851313,\n",
       "        2097270.81999921,  781476.31131047,  123133.23396977,\n",
       "          84085.01896248,  199222.92670303,  124854.97973097,\n",
       "        1072684.78820647,  657040.55769984, 1644701.47160779,\n",
       "         924735.72080619,  191699.58415836,  723218.39948755,\n",
       "        2395613.42888462,  113180.54906592, 1882765.92812296,\n",
       "          97286.47282983,  417270.42113431,  161482.3367577 ,\n",
       "          63495.73363115,  598057.42337284,  249411.25868881,\n",
       "         308424.71884273, 1319518.60852241,  202273.52740684,\n",
       "        1076683.13768137,  491636.41945325,  183406.6380314 ,\n",
       "        1740233.45816734,   86696.17528125,  440430.29773088,\n",
       "        2040944.13061099,  113375.45695331,  531746.29484356,\n",
       "         106207.35971699,  169560.79581187,  158101.0895316 ,\n",
       "          95037.29701059,  466355.50624629,  197548.63265325,\n",
       "         198810.0901353 ,  682743.4340129 ,  679265.22397749,\n",
       "         617812.91125278,  219182.85833837,   83712.10602149,\n",
       "        1206257.86593038,  213886.45118276,  225829.13565632,\n",
       "         573638.25784044,  213008.72404464, 1256363.95636108,\n",
       "        1114803.4971861 ,  743531.85320002,  491360.56067236,\n",
       "         844903.11979141, 1294842.58551457, 3224861.58056056,\n",
       "         620636.85839868, 1997931.01104478,  425408.70724227,\n",
       "         187911.96484382,  146932.14876274,   60290.34778046,\n",
       "        1553051.98103674,   61273.32234969,  434403.58150991,\n",
       "         295641.77082639, 3270724.75199692,  956695.86295249,\n",
       "          52421.39380137, 1193829.08957371,  109115.94774032,\n",
       "         114532.36574566, 1889840.31759081,  263117.7221664 ,\n",
       "         110722.44800397,  129405.69463079,  295288.27657346,\n",
       "        2208289.14524844,  127156.40131508, 2356552.01519359,\n",
       "          52421.39380137, 1582094.56763018,  450263.02347743,\n",
       "         180314.7209139 ,  207866.80825891,  237980.96274482,\n",
       "          92809.10191796,  217726.13148671,  588167.04361702,\n",
       "        2269569.15414991,  413549.08320869,  504238.61127942,\n",
       "         121235.38111888,  294348.6064813 ,  365600.03475309,\n",
       "        1021310.81474734, 1255348.78654001, 1121695.37239584,\n",
       "         236858.1355381 ,  180837.57476421,  390892.54870688,\n",
       "         112045.06953824, 3091294.61560971,   71489.84756224,\n",
       "        3949551.73068699,  117269.53815136,   76582.3994148 ,\n",
       "        1933601.27793109, 1675206.65522009,  294348.6064813 ,\n",
       "          97940.27258456,  945839.01956416,  610770.20862757,\n",
       "        1804885.34137216,  199766.90646407,   70766.27122776,\n",
       "          81754.00329429, 1021310.81474734,  846364.16218315,\n",
       "          77206.4852859 ,  598474.09814662,  169200.18001164,\n",
       "          73757.25966134,   68560.19329018,  363573.18970532,\n",
       "         439100.02360785,   53273.19743239,  883179.93430519,\n",
       "          96841.00528099,   69705.57216142,  720189.94864194,\n",
       "        4682200.86959811,  157547.86592702,  598577.33917498,\n",
       "         103530.67260964,  219913.31885361,   69705.57216142,\n",
       "        3393838.48355355, 3747750.51209052,  137237.96352743,\n",
       "         205694.9146793 , 1343063.74316061,  105778.55398733,\n",
       "         113406.67661411, 2090467.44678197,  676486.18009377,\n",
       "        1653182.84275506,  151567.24115244,   82132.69602781,\n",
       "         450200.37816199,  123824.9061514 ,  841869.56483077,\n",
       "          95800.41312684,  118291.73959934, 2085585.62459758,\n",
       "        2372839.45720666,  247688.59858277, 1334681.62533764,\n",
       "         101692.7552419 ,  503472.70498147,   64636.19839218,\n",
       "         320805.50593895, 2623266.33617439,  174088.14927962,\n",
       "          72116.10600518,   80293.56098003,   89828.86338213,\n",
       "         219193.02374581,  328023.58124177,   60290.34778046,\n",
       "         516294.37658866,  236774.09865655,  163101.99672652,\n",
       "          95037.29701059, 4401076.73195112, 3540272.0939466 ,\n",
       "          80652.10214941,   64007.05829165,   91088.74649744,\n",
       "         451288.50611234, 2108891.7577948 ,  222324.39435632,\n",
       "         230969.76551419,  119869.73646973,  202629.14049356,\n",
       "        3372525.98485469,  194055.24146137,   82570.78055486,\n",
       "         107755.73232124,   98100.67856341,   64007.05829165,\n",
       "        1960017.88124655,  439387.54981251, 1311678.25959343,\n",
       "          52266.56751161,  612357.4359533 ,  277611.14005727,\n",
       "         100834.87848026,   52421.39380137,  320518.12600116,\n",
       "         622991.23928914,  905631.603816  , 2927834.24849227,\n",
       "         562358.56357488,  111381.83047422,  781476.31131047,\n",
       "         798596.64645281, 2310966.59797285, 5133725.87086224,\n",
       "        1281440.30372974,  171353.72979582,   89630.73883889,\n",
       "        1555941.58912764,  124073.12498191,   66108.35792552,\n",
       "         201459.85880026,  108993.88378627, 3134539.90969621,\n",
       "         148239.45542642,   53451.2389687 , 1307718.56304709,\n",
       "         214406.20173983,  194835.86837801, 3367422.08211024,\n",
       "         199766.90646407, 3823577.41600747,   68447.35094925,\n",
       "         739960.30606392,  506712.38290343,  150255.49362263,\n",
       "          62093.65018694,   64707.81660264,  151784.52074685,\n",
       "          80757.16568265,  177095.84545845,  210255.47503947,\n",
       "         360547.62990175,  181508.22558258,   55171.21699634]),\n",
       " array([3367422.08211024,  961138.88337016, 1097929.67851313,\n",
       "        2097270.81999921,  781476.31131047,  123133.23396977,\n",
       "          84085.01896248,  199222.92670303,  124854.97973097,\n",
       "        1072684.78820647,  657040.55769984, 1644701.47160779,\n",
       "         924735.72080619,  191699.58415836,  723218.39948755,\n",
       "        2395613.42888462,  113180.54906592, 1882765.92812296,\n",
       "          97286.47282983,  417270.42113431,  161482.3367577 ,\n",
       "          63495.73363115,  598057.42337284,  249411.25868881,\n",
       "         308424.71884273, 1319518.60852241,  202273.52740684,\n",
       "        1076683.13768137,  491636.41945325,  183406.6380314 ,\n",
       "        1740233.45816734,   86696.17528125,  440430.29773088,\n",
       "        2040944.13061099,  113375.45695331,  531746.29484356,\n",
       "         106207.35971699,  169560.79581187,  158101.0895316 ,\n",
       "          95037.29701059,  466355.50624629,  197548.63265325,\n",
       "         198810.0901353 ,  682743.4340129 ,  679265.22397749,\n",
       "         617812.91125278,  219182.85833837,   83712.10602149,\n",
       "        1206257.86593038,  213886.45118276,  225829.13565632,\n",
       "         573638.25784044,  213008.72404464, 1256363.95636108,\n",
       "        1114803.4971861 ,  743531.85320002,  491360.56067236,\n",
       "         844903.11979141, 1294842.58551457, 3224861.58056056,\n",
       "         620636.85839868, 1997931.01104478,  425408.70724227,\n",
       "         187911.96484382,  146932.14876274,   60290.34778046,\n",
       "        1553051.98103674,   61273.32234969,  434403.58150991,\n",
       "         295641.77082639, 3270724.75199692,  956695.86295249,\n",
       "          52421.39380137, 1193829.08957371,  109115.94774032,\n",
       "         114532.36574566, 1889840.31759081,  263117.7221664 ,\n",
       "         110722.44800397,  129405.69463079,  295288.27657346,\n",
       "        2208289.14524844,  127156.40131508, 2356552.01519359,\n",
       "          52421.39380137, 1582094.56763018,  450263.02347743,\n",
       "         180314.7209139 ,  207866.80825891,  237980.96274482,\n",
       "          92809.10191796,  217726.13148671,  588167.04361702,\n",
       "        2269569.15414991,  413549.08320869,  504238.61127942,\n",
       "         121235.38111888,  294348.6064813 ,  365600.03475309,\n",
       "        1021310.81474734, 1255348.78654001, 1121695.37239584,\n",
       "         236858.1355381 ,  180837.57476421,  390892.54870688,\n",
       "         112045.06953824, 3091294.61560971,   71489.84756224,\n",
       "        3949551.73068699,  117269.53815136,   76582.3994148 ,\n",
       "        1933601.27793109, 1675206.65522009,  294348.6064813 ,\n",
       "          97940.27258456,  945839.01956416,  610770.20862757,\n",
       "        1804885.34137216,  199766.90646407,   70766.27122776,\n",
       "          81754.00329429, 1021310.81474734,  846364.16218315,\n",
       "          77206.4852859 ,  598474.09814662,  169200.18001164,\n",
       "          73757.25966134,   68560.19329018,  363573.18970532,\n",
       "         439100.02360785,   53273.19743239,  883179.93430519,\n",
       "          96841.00528099,   69705.57216142,  720189.94864194,\n",
       "        4682200.86959811,  157547.86592702,  598577.33917498,\n",
       "         103530.67260964,  219913.31885361,   69705.57216142,\n",
       "        3393838.48355355, 3747750.51209052,  137237.96352743,\n",
       "         205694.9146793 , 1343063.74316061,  105778.55398733,\n",
       "         113406.67661411, 2090467.44678197,  676486.18009377,\n",
       "        1653182.84275506,  151567.24115244,   82132.69602781,\n",
       "         450200.37816199,  123824.9061514 ,  841869.56483077,\n",
       "          95800.41312684,  118291.73959934, 2085585.62459758,\n",
       "        2372839.45720666,  247688.59858277, 1334681.62533764,\n",
       "         101692.7552419 ,  503472.70498147,   64636.19839218,\n",
       "         320805.50593895, 2623266.33617439,  174088.14927962,\n",
       "          72116.10600518,   80293.56098003,   89828.86338213,\n",
       "         219193.02374581,  328023.58124177,   60290.34778046,\n",
       "         516294.37658866,  236774.09865655,  163101.99672652,\n",
       "          95037.29701059, 4401076.73195112, 3540272.0939466 ,\n",
       "          80652.10214941,   64007.05829165,   91088.74649744,\n",
       "         451288.50611234, 2108891.7577948 ,  222324.39435632,\n",
       "         230969.76551419,  119869.73646973,  202629.14049356,\n",
       "        3372525.98485469,  194055.24146137,   82570.78055486,\n",
       "         107755.73232124,   98100.67856341,   64007.05829165,\n",
       "        1960017.88124655,  439387.54981251, 1311678.25959343,\n",
       "          52266.56751161,  612357.4359533 ,  277611.14005727,\n",
       "         100834.87848026,   52421.39380137,  320518.12600116,\n",
       "         622991.23928914,  905631.603816  , 2927834.24849227,\n",
       "         562358.56357488,  111381.83047422,  781476.31131047,\n",
       "         798596.64645281, 2310966.59797285, 5133725.87086224,\n",
       "        1281440.30372974,  171353.72979582,   89630.73883889,\n",
       "        1555941.58912764,  124073.12498191,   66108.35792552,\n",
       "         201459.85880026,  108993.88378627, 3134539.90969621,\n",
       "         148239.45542642,   53451.2389687 , 1307718.56304709,\n",
       "         214406.20173983,  194835.86837801, 3367422.08211024,\n",
       "         199766.90646407, 3823577.41600747,   68447.35094925,\n",
       "         739960.30606392,  506712.38290343,  150255.49362263,\n",
       "          62093.65018694,   64707.81660264,  151784.52074685,\n",
       "          80757.16568265,  177095.84545845,  210255.47503947,\n",
       "         360547.62990175,  181508.22558258,   55171.21699634]),\n",
       " array([3367422.08211024,  961138.88337016, 1097929.67851313,\n",
       "        2097270.81999921,  781476.31131047,  123133.23396977,\n",
       "          84085.01896248,  199222.92670303,  124854.97973097,\n",
       "        1072684.78820647,  657040.55769984, 1644701.47160779,\n",
       "         924735.72080619,  191699.58415836,  723218.39948755,\n",
       "        2395613.42888462,  113180.54906592, 1882765.92812296,\n",
       "          97286.47282983,  417270.42113431,  161482.3367577 ,\n",
       "          63495.73363115,  598057.42337284,  249411.25868881,\n",
       "         308424.71884273, 1319518.60852241,  202273.52740684,\n",
       "        1076683.13768137,  491636.41945325,  183406.6380314 ,\n",
       "        1740233.45816734,   86696.17528125,  440430.29773088,\n",
       "        2040944.13061099,  113375.45695331,  531746.29484356,\n",
       "         106207.35971699,  169560.79581187,  158101.0895316 ,\n",
       "          95037.29701059,  466355.50624629,  197548.63265325,\n",
       "         198810.0901353 ,  682743.4340129 ,  679265.22397749,\n",
       "         617812.91125278,  219182.85833837,   83712.10602149,\n",
       "        1206257.86593038,  213886.45118276,  225829.13565632,\n",
       "         573638.25784044,  213008.72404464, 1256363.95636108,\n",
       "        1114803.4971861 ,  743531.85320002,  491360.56067236,\n",
       "         844903.11979141, 1294842.58551457, 3224861.58056056,\n",
       "         620636.85839868, 1997931.01104478,  425408.70724227,\n",
       "         187911.96484382,  146932.14876274,   60290.34778046,\n",
       "        1553051.98103674,   61273.32234969,  434403.58150991,\n",
       "         295641.77082639, 3270724.75199692,  956695.86295249,\n",
       "          52421.39380137, 1193829.08957371,  109115.94774032,\n",
       "         114532.36574566, 1889840.31759081,  263117.7221664 ,\n",
       "         110722.44800397,  129405.69463079,  295288.27657346,\n",
       "        2208289.14524844,  127156.40131508, 2356552.01519359,\n",
       "          52421.39380137, 1582094.56763018,  450263.02347743,\n",
       "         180314.7209139 ,  207866.80825891,  237980.96274482,\n",
       "          92809.10191796,  217726.13148671,  588167.04361702,\n",
       "        2269569.15414991,  413549.08320869,  504238.61127942,\n",
       "         121235.38111888,  294348.6064813 ,  365600.03475309,\n",
       "        1021310.81474734, 1255348.78654001, 1121695.37239584,\n",
       "         236858.1355381 ,  180837.57476421,  390892.54870688,\n",
       "         112045.06953824, 3091294.61560971,   71489.84756224,\n",
       "        3949551.73068699,  117269.53815136,   76582.3994148 ,\n",
       "        1933601.27793109, 1675206.65522009,  294348.6064813 ,\n",
       "          97940.27258456,  945839.01956416,  610770.20862757,\n",
       "        1804885.34137216,  199766.90646407,   70766.27122776,\n",
       "          81754.00329429, 1021310.81474734,  846364.16218315,\n",
       "          77206.4852859 ,  598474.09814662,  169200.18001164,\n",
       "          73757.25966134,   68560.19329018,  363573.18970532,\n",
       "         439100.02360785,   53273.19743239,  883179.93430519,\n",
       "          96841.00528099,   69705.57216142,  720189.94864194,\n",
       "        4682200.86959811,  157547.86592702,  598577.33917498,\n",
       "         103530.67260964,  219913.31885361,   69705.57216142,\n",
       "        3393838.48355355, 3747750.51209052,  137237.96352743,\n",
       "         205694.9146793 , 1343063.74316061,  105778.55398733,\n",
       "         113406.67661411, 2090467.44678197,  676486.18009377,\n",
       "        1653182.84275506,  151567.24115244,   82132.69602781,\n",
       "         450200.37816199,  123824.9061514 ,  841869.56483077,\n",
       "          95800.41312684,  118291.73959934, 2085585.62459758,\n",
       "        2372839.45720666,  247688.59858277, 1334681.62533764,\n",
       "         101692.7552419 ,  503472.70498147,   64636.19839218,\n",
       "         320805.50593895, 2623266.33617439,  174088.14927962,\n",
       "          72116.10600518,   80293.56098003,   89828.86338213,\n",
       "         219193.02374581,  328023.58124177,   60290.34778046,\n",
       "         516294.37658866,  236774.09865655,  163101.99672652,\n",
       "          95037.29701059, 4401076.73195112, 3540272.0939466 ,\n",
       "          80652.10214941,   64007.05829165,   91088.74649744,\n",
       "         451288.50611234, 2108891.7577948 ,  222324.39435632,\n",
       "         230969.76551419,  119869.73646973,  202629.14049356,\n",
       "        3372525.98485469,  194055.24146137,   82570.78055486,\n",
       "         107755.73232124,   98100.67856341,   64007.05829165,\n",
       "        1960017.88124655,  439387.54981251, 1311678.25959343,\n",
       "          52266.56751161,  612357.4359533 ,  277611.14005727,\n",
       "         100834.87848026,   52421.39380137,  320518.12600116,\n",
       "         622991.23928914,  905631.603816  , 2927834.24849227,\n",
       "         562358.56357488,  111381.83047422,  781476.31131047,\n",
       "         798596.64645281, 2310966.59797285, 5133725.87086224,\n",
       "        1281440.30372974,  171353.72979582,   89630.73883889,\n",
       "        1555941.58912764,  124073.12498191,   66108.35792552,\n",
       "         201459.85880026,  108993.88378627, 3134539.90969621,\n",
       "         148239.45542642,   53451.2389687 , 1307718.56304709,\n",
       "         214406.20173983,  194835.86837801, 3367422.08211024,\n",
       "         199766.90646407, 3823577.41600747,   68447.35094925,\n",
       "         739960.30606392,  506712.38290343,  150255.49362263,\n",
       "          62093.65018694,   64707.81660264,  151784.52074685,\n",
       "          80757.16568265,  177095.84545845,  210255.47503947,\n",
       "         360547.62990175,  181508.22558258,   55171.21699634])]"
      ]
     },
     "execution_count": 27,
     "metadata": {},
     "output_type": "execute_result"
    }
   ],
   "source": [
    "preds"
   ]
  },
  {
   "cell_type": "markdown",
   "id": "808a05df-e9bf-4ef6-b470-0d696b18e6ff",
   "metadata": {},
   "source": [
    "이렇게 예측값들이 5세트가 있는 것을 볼 수 있다."
   ]
  },
  {
   "cell_type": "code",
   "execution_count": 28,
   "id": "4e87dc16-d51e-47c9-9dc5-44925ef01ddc",
   "metadata": {},
   "outputs": [],
   "source": [
    " # 답안지 복사\n",
    "kfoldLightGBM = submission.copy()"
   ]
  },
  {
   "cell_type": "code",
   "execution_count": 29,
   "id": "5f36a2fe-55a0-498f-954f-e76a5b15fc26",
   "metadata": {
    "scrolled": true,
    "tags": []
   },
   "outputs": [
    {
     "data": {
      "text/plain": [
       "array([3367422.08211024,  961138.88337016, 1097929.67851313,\n",
       "       2097270.81999921,  781476.31131047,  123133.23396977,\n",
       "         84085.01896248,  199222.92670303,  124854.97973097,\n",
       "       1072684.78820647,  657040.55769984, 1644701.47160779,\n",
       "        924735.72080619,  191699.58415836,  723218.39948755,\n",
       "       2395613.42888462,  113180.54906592, 1882765.92812296,\n",
       "         97286.47282983,  417270.42113431,  161482.3367577 ,\n",
       "         63495.73363115,  598057.42337284,  249411.25868881,\n",
       "        308424.71884273, 1319518.60852241,  202273.52740684,\n",
       "       1076683.13768137,  491636.41945325,  183406.6380314 ,\n",
       "       1740233.45816734,   86696.17528125,  440430.29773088,\n",
       "       2040944.13061099,  113375.45695331,  531746.29484356,\n",
       "        106207.35971699,  169560.79581187,  158101.0895316 ,\n",
       "         95037.29701059,  466355.50624629,  197548.63265325,\n",
       "        198810.0901353 ,  682743.4340129 ,  679265.22397749,\n",
       "        617812.91125278,  219182.85833837,   83712.10602149,\n",
       "       1206257.86593038,  213886.45118276,  225829.13565632,\n",
       "        573638.25784044,  213008.72404464, 1256363.95636108,\n",
       "       1114803.4971861 ,  743531.85320002,  491360.56067236,\n",
       "        844903.11979141, 1294842.58551457, 3224861.58056056,\n",
       "        620636.85839868, 1997931.01104478,  425408.70724227,\n",
       "        187911.96484382,  146932.14876274,   60290.34778046,\n",
       "       1553051.98103674,   61273.32234969,  434403.58150991,\n",
       "        295641.77082639, 3270724.75199692,  956695.86295249,\n",
       "         52421.39380137, 1193829.08957371,  109115.94774032,\n",
       "        114532.36574566, 1889840.31759081,  263117.7221664 ,\n",
       "        110722.44800397,  129405.69463079,  295288.27657346,\n",
       "       2208289.14524844,  127156.40131508, 2356552.01519359,\n",
       "         52421.39380137, 1582094.56763018,  450263.02347743,\n",
       "        180314.7209139 ,  207866.80825891,  237980.96274482,\n",
       "         92809.10191796,  217726.13148671,  588167.04361702,\n",
       "       2269569.15414991,  413549.08320869,  504238.61127942,\n",
       "        121235.38111888,  294348.6064813 ,  365600.03475309,\n",
       "       1021310.81474734, 1255348.78654001, 1121695.37239584,\n",
       "        236858.1355381 ,  180837.57476421,  390892.54870688,\n",
       "        112045.06953824, 3091294.61560971,   71489.84756224,\n",
       "       3949551.73068699,  117269.53815136,   76582.3994148 ,\n",
       "       1933601.27793109, 1675206.65522009,  294348.6064813 ,\n",
       "         97940.27258456,  945839.01956417,  610770.20862757,\n",
       "       1804885.34137216,  199766.90646407,   70766.27122776,\n",
       "         81754.00329429, 1021310.81474734,  846364.16218315,\n",
       "         77206.4852859 ,  598474.09814662,  169200.18001164,\n",
       "         73757.25966134,   68560.19329018,  363573.18970532,\n",
       "        439100.02360785,   53273.19743239,  883179.93430519,\n",
       "         96841.00528099,   69705.57216142,  720189.94864194,\n",
       "       4682200.86959811,  157547.86592702,  598577.33917498,\n",
       "        103530.67260964,  219913.31885361,   69705.57216142,\n",
       "       3393838.48355355, 3747750.51209052,  137237.96352743,\n",
       "        205694.9146793 , 1343063.74316061,  105778.55398733,\n",
       "        113406.67661411, 2090467.44678197,  676486.18009377,\n",
       "       1653182.84275506,  151567.24115244,   82132.69602781,\n",
       "        450200.37816199,  123824.9061514 ,  841869.56483077,\n",
       "         95800.41312684,  118291.73959934, 2085585.62459758,\n",
       "       2372839.45720666,  247688.59858277, 1334681.62533764,\n",
       "        101692.7552419 ,  503472.70498147,   64636.19839218,\n",
       "        320805.50593895, 2623266.33617439,  174088.14927962,\n",
       "         72116.10600518,   80293.56098003,   89828.86338213,\n",
       "        219193.02374581,  328023.58124177,   60290.34778046,\n",
       "        516294.37658866,  236774.09865655,  163101.99672652,\n",
       "         95037.29701059, 4401076.73195112, 3540272.0939466 ,\n",
       "         80652.10214941,   64007.05829165,   91088.74649744,\n",
       "        451288.50611234, 2108891.7577948 ,  222324.39435632,\n",
       "        230969.76551419,  119869.73646973,  202629.14049356,\n",
       "       3372525.98485469,  194055.24146137,   82570.78055486,\n",
       "        107755.73232124,   98100.67856341,   64007.05829165,\n",
       "       1960017.88124655,  439387.54981251, 1311678.25959343,\n",
       "         52266.56751161,  612357.4359533 ,  277611.14005727,\n",
       "        100834.87848026,   52421.39380137,  320518.12600116,\n",
       "        622991.23928914,  905631.603816  , 2927834.24849227,\n",
       "        562358.56357488,  111381.83047422,  781476.31131047,\n",
       "        798596.64645281, 2310966.59797285, 5133725.87086224,\n",
       "       1281440.30372974,  171353.72979582,   89630.73883889,\n",
       "       1555941.58912764,  124073.12498191,   66108.35792552,\n",
       "        201459.85880026,  108993.88378627, 3134539.90969621,\n",
       "        148239.45542642,   53451.2389687 , 1307718.56304709,\n",
       "        214406.20173983,  194835.86837801, 3367422.08211024,\n",
       "        199766.90646407, 3823577.41600747,   68447.35094925,\n",
       "        739960.30606392,  506712.38290343,  150255.49362263,\n",
       "         62093.65018694,   64707.81660264,  151784.52074685,\n",
       "         80757.16568265,  177095.84545845,  210255.47503947,\n",
       "        360547.62990175,  181508.22558258,   55171.21699634])"
      ]
     },
     "execution_count": 29,
     "metadata": {},
     "output_type": "execute_result"
    }
   ],
   "source": [
    "np.mean(preds, axis=0)"
   ]
  },
  {
   "cell_type": "code",
   "execution_count": 30,
   "id": "a743b38f-14fa-419a-9031-01e7c41aa2ea",
   "metadata": {},
   "outputs": [],
   "source": [
    "# mean 평균값함수, axis 축\n",
    "kfoldLightGBM['box_off_num'] = np.mean(preds, axis=0)"
   ]
  },
  {
   "cell_type": "code",
   "execution_count": 31,
   "id": "295d60de-f602-4f83-ba3f-1b31f6443713",
   "metadata": {},
   "outputs": [
    {
     "data": {
      "text/html": [
       "<div>\n",
       "<style scoped>\n",
       "    .dataframe tbody tr th:only-of-type {\n",
       "        vertical-align: middle;\n",
       "    }\n",
       "\n",
       "    .dataframe tbody tr th {\n",
       "        vertical-align: top;\n",
       "    }\n",
       "\n",
       "    .dataframe thead th {\n",
       "        text-align: right;\n",
       "    }\n",
       "</style>\n",
       "<table border=\"1\" class=\"dataframe\">\n",
       "  <thead>\n",
       "    <tr style=\"text-align: right;\">\n",
       "      <th></th>\n",
       "      <th>title</th>\n",
       "      <th>box_off_num</th>\n",
       "    </tr>\n",
       "  </thead>\n",
       "  <tbody>\n",
       "    <tr>\n",
       "      <th>0</th>\n",
       "      <td>용서는 없다</td>\n",
       "      <td>3.367422e+06</td>\n",
       "    </tr>\n",
       "    <tr>\n",
       "      <th>1</th>\n",
       "      <td>아빠가 여자를 좋아해</td>\n",
       "      <td>9.611389e+05</td>\n",
       "    </tr>\n",
       "    <tr>\n",
       "      <th>2</th>\n",
       "      <td>하모니</td>\n",
       "      <td>1.097930e+06</td>\n",
       "    </tr>\n",
       "    <tr>\n",
       "      <th>3</th>\n",
       "      <td>의형제</td>\n",
       "      <td>2.097271e+06</td>\n",
       "    </tr>\n",
       "    <tr>\n",
       "      <th>4</th>\n",
       "      <td>평행 이론</td>\n",
       "      <td>7.814763e+05</td>\n",
       "    </tr>\n",
       "  </tbody>\n",
       "</table>\n",
       "</div>"
      ],
      "text/plain": [
       "         title   box_off_num\n",
       "0       용서는 없다  3.367422e+06\n",
       "1  아빠가 여자를 좋아해  9.611389e+05\n",
       "2          하모니  1.097930e+06\n",
       "3          의형제  2.097271e+06\n",
       "4        평행 이론  7.814763e+05"
      ]
     },
     "execution_count": 31,
     "metadata": {},
     "output_type": "execute_result"
    }
   ],
   "source": [
    "kfoldLightGBM.head()"
   ]
  },
  {
   "cell_type": "code",
   "execution_count": 32,
   "id": "a816e124-602a-4a49-a694-ddf7626e1e51",
   "metadata": {},
   "outputs": [],
   "source": [
    "kfoldLightGBM.to_csv('pydata/kfoldLightGBM.csv', index = False)"
   ]
  },
  {
   "cell_type": "markdown",
   "id": "007eb89b-1a21-4ad3-aa24-5dd54a76cdef",
   "metadata": {},
   "source": [
    "#### **3. 세번째 모델**"
   ]
  },
  {
   "cell_type": "code",
   "execution_count": 33,
   "id": "3d9e5ebf-55a0-44da-a814-0de5a0fbd43a",
   "metadata": {},
   "outputs": [
    {
     "data": {
      "text/plain": [
       "['time', 'dir_prev_num', 'num_staff', 'num_actor']"
      ]
     },
     "execution_count": 33,
     "metadata": {},
     "output_type": "execute_result"
    }
   ],
   "source": [
    "features"
   ]
  },
  {
   "cell_type": "markdown",
   "id": "e0a07df3-3cd0-4868-aa9d-de37ffd81148",
   "metadata": {},
   "source": [
    "genre와dir_prev_bfnum를 포함해서 활용해보도록 하자. 문제는 genre 데이터는 글자로 되어있으니 숫자로 변환하여 사용해야한다."
   ]
  },
  {
   "cell_type": "code",
   "execution_count": 34,
   "id": "68480566-0822-4abc-bdf0-e14e917e87ca",
   "metadata": {},
   "outputs": [
    {
     "data": {
      "text/plain": [
       "0       액션\n",
       "1      느와르\n",
       "2       액션\n",
       "3      코미디\n",
       "4      코미디\n",
       "      ... \n",
       "595    드라마\n",
       "596    드라마\n",
       "597     공포\n",
       "598    느와르\n",
       "599     액션\n",
       "Name: genre, Length: 600, dtype: object"
      ]
     },
     "execution_count": 34,
     "metadata": {},
     "output_type": "execute_result"
    }
   ],
   "source": [
    "train.genre"
   ]
  },
  {
   "cell_type": "code",
   "execution_count": 35,
   "id": "c33ba88d-0441-4eca-aec8-68728c3f3138",
   "metadata": {},
   "outputs": [
    {
     "data": {
      "text/plain": [
       "0      10\n",
       "1       2\n",
       "2      10\n",
       "3      11\n",
       "4      11\n",
       "       ..\n",
       "595     4\n",
       "596     4\n",
       "597     1\n",
       "598     2\n",
       "599    10\n",
       "Name: genre, Length: 600, dtype: int32"
      ]
     },
     "execution_count": 35,
     "metadata": {},
     "output_type": "execute_result"
    }
   ],
   "source": [
    "# sklearn에서 제공하는 labelEncoder를 활용해서 문자열을 숫자로 변환\n",
    "\n",
    "from sklearn.preprocessing import LabelEncoder\n",
    "le = LabelEncoder()\n",
    "train['genre'] = le.fit_transform(train['genre'])\n",
    "train['genre']"
   ]
  },
  {
   "cell_type": "markdown",
   "id": "8975c194-32ff-4e17-88f2-43e30b60078c",
   "metadata": {},
   "source": [
    "숫자로 변환되있는걸 확인 할 수 있다. test셋도 변환해주자."
   ]
  },
  {
   "cell_type": "code",
   "execution_count": 36,
   "id": "9308b553-594c-4001-8948-484cca542cb7",
   "metadata": {},
   "outputs": [
    {
     "data": {
      "text/plain": [
       "0       2\n",
       "1       5\n",
       "2       4\n",
       "3      10\n",
       "4       1\n",
       "       ..\n",
       "238     4\n",
       "239     3\n",
       "240     2\n",
       "241     4\n",
       "242     5\n",
       "Name: genre, Length: 243, dtype: int32"
      ]
     },
     "execution_count": 36,
     "metadata": {},
     "output_type": "execute_result"
    }
   ],
   "source": [
    "test['genre'] = le.transform(test['genre'])\n",
    "test['genre']"
   ]
  },
  {
   "cell_type": "markdown",
   "id": "3e5af661-d666-4c53-8ec7-d3bbf6ed6463",
   "metadata": {},
   "source": [
    "test셋도 변환될걸 확인 할 수 있다.  \n",
    "다음은 features에 전처리된 dir_prev_bfnum와 문자열을 숫자로 변환한 genre를 추가해주자."
   ]
  },
  {
   "cell_type": "code",
   "execution_count": 38,
   "id": "20f4ec0e-bea3-4309-baec-8c0826000748",
   "metadata": {},
   "outputs": [
    {
     "name": "stderr",
     "output_type": "stream",
     "text": [
      "C:\\Users\\user\\anaconda3\\lib\\site-packages\\lightgbm\\sklearn.py:726: UserWarning: 'early_stopping_rounds' argument is deprecated and will be removed in a future release of LightGBM. Pass 'early_stopping()' callback via 'callbacks' argument instead.\n",
      "  _log_warning(\"'early_stopping_rounds' argument is deprecated and will be removed in a future release of LightGBM. \"\n",
      "C:\\Users\\user\\anaconda3\\lib\\site-packages\\lightgbm\\sklearn.py:736: UserWarning: 'verbose' argument is deprecated and will be removed in a future release of LightGBM. Pass 'log_evaluation()' callback via 'callbacks' argument instead.\n",
      "  _log_warning(\"'verbose' argument is deprecated and will be removed in a future release of LightGBM. \"\n"
     ]
    },
    {
     "name": "stdout",
     "output_type": "stream",
     "text": [
      "[100]\tvalid_0's l2: 2.62067e+12\n",
      "[100]\tvalid_0's l2: 4.39227e+12\n",
      "[100]\tvalid_0's l2: 3.29841e+12\n",
      "[100]\tvalid_0's l2: 1.56499e+12\n",
      "[100]\tvalid_0's l2: 1.60118e+12\n"
     ]
    }
   ],
   "source": [
    "features = ['time', 'dir_prev_num', 'num_staff', 'num_actor','dir_prev_bfnum', 'genre']\n",
    "X_train, X_test, y_train = train[features], test[features], train[target]\n",
    "\n",
    "model = LGBMRegressor(random_state=777, n_estimators=1000)\n",
    "\n",
    "models = []\n",
    "\n",
    "for train_idx, val_idx in kfold.split(X_train):\n",
    "    x_t = X_train.iloc[train_idx]\n",
    "    y_t = y_train.iloc[train_idx]\n",
    "    x_val = X_train.iloc[val_idx]\n",
    "    y_val = y_train.iloc[val_idx]\n",
    "    \n",
    "    models.append(model.fit(x_t, y_t, eval_set=(x_val, y_val), early_stopping_rounds=100, verbose = 100))"
   ]
  },
  {
   "cell_type": "code",
   "execution_count": 39,
   "id": "88b7dc2c-e9ba-4069-b6c8-63c847f26571",
   "metadata": {},
   "outputs": [
    {
     "data": {
      "text/html": [
       "<div>\n",
       "<style scoped>\n",
       "    .dataframe tbody tr th:only-of-type {\n",
       "        vertical-align: middle;\n",
       "    }\n",
       "\n",
       "    .dataframe tbody tr th {\n",
       "        vertical-align: top;\n",
       "    }\n",
       "\n",
       "    .dataframe thead th {\n",
       "        text-align: right;\n",
       "    }\n",
       "</style>\n",
       "<table border=\"1\" class=\"dataframe\">\n",
       "  <thead>\n",
       "    <tr style=\"text-align: right;\">\n",
       "      <th></th>\n",
       "      <th>time</th>\n",
       "      <th>dir_prev_num</th>\n",
       "      <th>num_staff</th>\n",
       "      <th>num_actor</th>\n",
       "      <th>dir_prev_bfnum</th>\n",
       "      <th>genre</th>\n",
       "    </tr>\n",
       "  </thead>\n",
       "  <tbody>\n",
       "    <tr>\n",
       "      <th>0</th>\n",
       "      <td>125</td>\n",
       "      <td>2</td>\n",
       "      <td>304</td>\n",
       "      <td>3</td>\n",
       "      <td>3.005290e+05</td>\n",
       "      <td>2</td>\n",
       "    </tr>\n",
       "    <tr>\n",
       "      <th>1</th>\n",
       "      <td>113</td>\n",
       "      <td>4</td>\n",
       "      <td>275</td>\n",
       "      <td>3</td>\n",
       "      <td>3.427002e+05</td>\n",
       "      <td>5</td>\n",
       "    </tr>\n",
       "    <tr>\n",
       "      <th>2</th>\n",
       "      <td>115</td>\n",
       "      <td>3</td>\n",
       "      <td>419</td>\n",
       "      <td>7</td>\n",
       "      <td>4.206611e+06</td>\n",
       "      <td>4</td>\n",
       "    </tr>\n",
       "    <tr>\n",
       "      <th>3</th>\n",
       "      <td>116</td>\n",
       "      <td>2</td>\n",
       "      <td>408</td>\n",
       "      <td>2</td>\n",
       "      <td>6.913420e+05</td>\n",
       "      <td>10</td>\n",
       "    </tr>\n",
       "    <tr>\n",
       "      <th>4</th>\n",
       "      <td>110</td>\n",
       "      <td>1</td>\n",
       "      <td>380</td>\n",
       "      <td>1</td>\n",
       "      <td>3.173800e+04</td>\n",
       "      <td>1</td>\n",
       "    </tr>\n",
       "  </tbody>\n",
       "</table>\n",
       "</div>"
      ],
      "text/plain": [
       "   time  dir_prev_num  num_staff  num_actor  dir_prev_bfnum  genre\n",
       "0   125             2        304          3    3.005290e+05      2\n",
       "1   113             4        275          3    3.427002e+05      5\n",
       "2   115             3        419          7    4.206611e+06      4\n",
       "3   116             2        408          2    6.913420e+05     10\n",
       "4   110             1        380          1    3.173800e+04      1"
      ]
     },
     "execution_count": 39,
     "metadata": {},
     "output_type": "execute_result"
    }
   ],
   "source": [
    "X_test.head()"
   ]
  },
  {
   "cell_type": "code",
   "execution_count": 40,
   "id": "888d26ca-0670-46bf-a841-f9b2503267e4",
   "metadata": {},
   "outputs": [
    {
     "data": {
      "text/plain": [
       "5"
      ]
     },
     "execution_count": 40,
     "metadata": {},
     "output_type": "execute_result"
    }
   ],
   "source": [
    "preds = []\n",
    "for model in models:\n",
    "    preds.append(model.predict(X_test))\n",
    "len(preds)"
   ]
  },
  {
   "cell_type": "code",
   "execution_count": 41,
   "id": "e036e8fd-a6b4-4761-aa41-1aeed5f64410",
   "metadata": {},
   "outputs": [
    {
     "data": {
      "text/html": [
       "<div>\n",
       "<style scoped>\n",
       "    .dataframe tbody tr th:only-of-type {\n",
       "        vertical-align: middle;\n",
       "    }\n",
       "\n",
       "    .dataframe tbody tr th {\n",
       "        vertical-align: top;\n",
       "    }\n",
       "\n",
       "    .dataframe thead th {\n",
       "        text-align: right;\n",
       "    }\n",
       "</style>\n",
       "<table border=\"1\" class=\"dataframe\">\n",
       "  <thead>\n",
       "    <tr style=\"text-align: right;\">\n",
       "      <th></th>\n",
       "      <th>title</th>\n",
       "      <th>box_off_num</th>\n",
       "    </tr>\n",
       "  </thead>\n",
       "  <tbody>\n",
       "    <tr>\n",
       "      <th>0</th>\n",
       "      <td>용서는 없다</td>\n",
       "      <td>3.395493e+06</td>\n",
       "    </tr>\n",
       "    <tr>\n",
       "      <th>1</th>\n",
       "      <td>아빠가 여자를 좋아해</td>\n",
       "      <td>8.235439e+05</td>\n",
       "    </tr>\n",
       "    <tr>\n",
       "      <th>2</th>\n",
       "      <td>하모니</td>\n",
       "      <td>1.162055e+06</td>\n",
       "    </tr>\n",
       "    <tr>\n",
       "      <th>3</th>\n",
       "      <td>의형제</td>\n",
       "      <td>2.184689e+06</td>\n",
       "    </tr>\n",
       "    <tr>\n",
       "      <th>4</th>\n",
       "      <td>평행 이론</td>\n",
       "      <td>8.093288e+05</td>\n",
       "    </tr>\n",
       "  </tbody>\n",
       "</table>\n",
       "</div>"
      ],
      "text/plain": [
       "         title   box_off_num\n",
       "0       용서는 없다  3.395493e+06\n",
       "1  아빠가 여자를 좋아해  8.235439e+05\n",
       "2          하모니  1.162055e+06\n",
       "3          의형제  2.184689e+06\n",
       "4        평행 이론  8.093288e+05"
      ]
     },
     "execution_count": 41,
     "metadata": {},
     "output_type": "execute_result"
    }
   ],
   "source": [
    "feLightGBM = submission.copy()\n",
    "feLightGBM['box_off_num'] = np.mean(preds, axis = 0)\n",
    "feLightGBM.head()"
   ]
  },
  {
   "cell_type": "code",
   "execution_count": 42,
   "id": "2d341a88-49e0-46ab-935a-c68461916dfe",
   "metadata": {},
   "outputs": [],
   "source": [
    "feLightGBM.to_csv('pydata/feLightGBM.csv', index = False)"
   ]
  },
  {
   "cell_type": "markdown",
   "id": "03863c02-227b-42b2-ad8c-285fbbd9143e",
   "metadata": {},
   "source": [
    "#### **4. 네번째 모델**"
   ]
  },
  {
   "cell_type": "code",
   "execution_count": 46,
   "id": "7dcb4b3a-2bfb-43c3-8d6a-120c4e1c4d90",
   "metadata": {},
   "outputs": [
    {
     "data": {
      "text/plain": [
       "GridSearchCV(cv=KFold(n_splits=5, random_state=777, shuffle=True),\n",
       "             estimator=LGBMRegressor(n_estimators=1000, random_state=777),\n",
       "             param_grid={'learning_rate': [0.1, 0.001, 0.003],\n",
       "                         'min_child_samples': [20, 30]},\n",
       "             scoring='neg_mean_squared_error')"
      ]
     },
     "execution_count": 46,
     "metadata": {},
     "output_type": "execute_result"
    }
   ],
   "source": [
    "model = LGBMRegressor(random_state=777, n_estimators=1000)\n",
    "\n",
    "param_grid = {'learning_rate': [.1, .001, .003],\n",
    "             'min_child_samples': [20, 30]}\n",
    "\n",
    "gs = GridSearchCV(estimator=model,\n",
    "                 param_grid=param_grid,\n",
    "                  scoring= 'neg_mean_squared_error',\n",
    "                  cv = kfold # 5라고 작성해도 됨\n",
    "                 )\n",
    "gs.fit(X_train, y_train)"
   ]
  },
  {
   "cell_type": "markdown",
   "id": "ba754cb8-2bb5-4356-8ce6-30f77c78ab07",
   "metadata": {},
   "source": [
    "params에서 learning_rate는 모델링을 하는 간격으로, 값이 적을수록 점점 더 미세하게 모델의 변화가 이루어진다로 생각하면 된다.  \n",
    "scoring을 rmse로 한 이후는 현재 이 대회의 평가지표가 rmse값이기 때문에 이렇게 설정했다."
   ]
  },
  {
   "cell_type": "code",
   "execution_count": 47,
   "id": "190dd584-f1b7-43ba-99f7-c89356aaf24f",
   "metadata": {},
   "outputs": [
    {
     "data": {
      "text/plain": [
       "{'learning_rate': 0.003, 'min_child_samples': 30}"
      ]
     },
     "execution_count": 47,
     "metadata": {},
     "output_type": "execute_result"
    }
   ],
   "source": [
    "gs.best_params_"
   ]
  },
  {
   "cell_type": "markdown",
   "id": "b4b316c5-5a94-49de-9502-fa8da462422b",
   "metadata": {},
   "source": [
    "gs.best_params_ 6개의 조합중 가장 좋았던 조합을 확인 할 수 있다. 위 가장 좋은 성능을 적용하여 모델링을 해주었다."
   ]
  },
  {
   "cell_type": "code",
   "execution_count": 52,
   "id": "6d453f73-366e-4451-b3c5-14ad36bac461",
   "metadata": {},
   "outputs": [],
   "source": [
    "model = gs.best_estimator_\n",
    "preds = model.predict(X_test)"
   ]
  },
  {
   "cell_type": "code",
   "execution_count": 54,
   "id": "7665d54b-d029-4c52-bebf-58970510edf3",
   "metadata": {},
   "outputs": [
    {
     "data": {
      "text/html": [
       "<div>\n",
       "<style scoped>\n",
       "    .dataframe tbody tr th:only-of-type {\n",
       "        vertical-align: middle;\n",
       "    }\n",
       "\n",
       "    .dataframe tbody tr th {\n",
       "        vertical-align: top;\n",
       "    }\n",
       "\n",
       "    .dataframe thead th {\n",
       "        text-align: right;\n",
       "    }\n",
       "</style>\n",
       "<table border=\"1\" class=\"dataframe\">\n",
       "  <thead>\n",
       "    <tr style=\"text-align: right;\">\n",
       "      <th></th>\n",
       "      <th>title</th>\n",
       "      <th>box_off_num</th>\n",
       "    </tr>\n",
       "  </thead>\n",
       "  <tbody>\n",
       "    <tr>\n",
       "      <th>0</th>\n",
       "      <td>용서는 없다</td>\n",
       "      <td>3.160220e+06</td>\n",
       "    </tr>\n",
       "    <tr>\n",
       "      <th>1</th>\n",
       "      <td>아빠가 여자를 좋아해</td>\n",
       "      <td>1.087365e+06</td>\n",
       "    </tr>\n",
       "    <tr>\n",
       "      <th>2</th>\n",
       "      <td>하모니</td>\n",
       "      <td>1.468196e+06</td>\n",
       "    </tr>\n",
       "    <tr>\n",
       "      <th>3</th>\n",
       "      <td>의형제</td>\n",
       "      <td>1.639070e+06</td>\n",
       "    </tr>\n",
       "    <tr>\n",
       "      <th>4</th>\n",
       "      <td>평행 이론</td>\n",
       "      <td>9.470239e+05</td>\n",
       "    </tr>\n",
       "  </tbody>\n",
       "</table>\n",
       "</div>"
      ],
      "text/plain": [
       "         title   box_off_num\n",
       "0       용서는 없다  3.160220e+06\n",
       "1  아빠가 여자를 좋아해  1.087365e+06\n",
       "2          하모니  1.468196e+06\n",
       "3          의형제  1.639070e+06\n",
       "4        평행 이론  9.470239e+05"
      ]
     },
     "execution_count": 54,
     "metadata": {},
     "output_type": "execute_result"
    }
   ],
   "source": [
    "gslgbm = submission.copy()\n",
    "gslgbm['box_off_num'] = preds\n",
    "gslgbm.head()"
   ]
  },
  {
   "cell_type": "code",
   "execution_count": 56,
   "id": "e3d975b7-07d4-435b-b890-6ec8f4c0adb7",
   "metadata": {},
   "outputs": [],
   "source": [
    "gslgbm.to_csv('pydata/gslgbm.csv', index=False)"
   ]
  },
  {
   "cell_type": "code",
   "execution_count": null,
   "id": "c8d9ff78-82da-4aae-9045-57b09ada1b3a",
   "metadata": {},
   "outputs": [],
   "source": []
  }
 ],
 "metadata": {
  "kernelspec": {
   "display_name": "Python 3",
   "language": "python",
   "name": "python3"
  },
  "language_info": {
   "codemirror_mode": {
    "name": "ipython",
    "version": 3
   },
   "file_extension": ".py",
   "mimetype": "text/x-python",
   "name": "python",
   "nbconvert_exporter": "python",
   "pygments_lexer": "ipython3",
   "version": "3.8.8"
  }
 },
 "nbformat": 4,
 "nbformat_minor": 5
}
