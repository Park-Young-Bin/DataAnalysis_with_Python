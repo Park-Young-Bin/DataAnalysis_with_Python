{
  "nbformat": 4,
  "nbformat_minor": 0,
  "metadata": {
    "colab": {
      "provenance": []
    },
    "kernelspec": {
      "name": "python3",
      "display_name": "Python 3"
    },
    "language_info": {
      "name": "python"
    },
    "accelerator": "GPU",
    "gpuClass": "standard"
  },
  "cells": [
    {
      "cell_type": "markdown",
      "source": [
        "# [[데이콘] 영화 리뷰 감성 분석 PBL2](https://dacon.io/competitions/official/235995/codeshare/6529?page=1&dtype=recent)"
      ],
      "metadata": {
        "id": "RY6t0YRIuF1M"
      }
    },
    {
      "cell_type": "code",
      "source": [
        "!pip install konlpy\n",
        "\n",
        "import pandas as pd\n",
        "import numpy as np\n",
        "import matplotlib.pyplot as plt\n",
        "%matplotlib inline\n",
        "\n",
        "import re\n",
        "import sys\n",
        "import nltk\n",
        "from collections import Counter\n",
        "from wordcloud import WordCloud\n",
        "from tqdm import tqdm\n",
        "from tensorflow.keras.preprocessing.text import Tokenizer\n",
        "nltk.download('all')"
      ],
      "metadata": {
        "id": "fz0GObRwdMyK"
      },
      "execution_count": null,
      "outputs": []
    },
    {
      "cell_type": "code",
      "execution_count": 2,
      "metadata": {
        "id": "dIPHGBrIcg-a"
      },
      "outputs": [],
      "source": [
        "train = pd.read_csv('/content/drive/MyDrive/Colab Notebooks/data/train.csv')[['document', 'label']]\n",
        "test = pd.read_csv('/content/drive/MyDrive/Colab Notebooks/data/test.csv')[['document']]\n",
        "submission = pd.read_csv('/content/drive/MyDrive/Colab Notebooks/data/sample_submission.csv')"
      ]
    },
    {
      "cell_type": "code",
      "source": [
        "train"
      ],
      "metadata": {
        "id": "oK7ZJz9Xcsl8"
      },
      "execution_count": null,
      "outputs": []
    },
    {
      "cell_type": "code",
      "source": [
        "test"
      ],
      "metadata": {
        "id": "bQ6eUdCPdoNm"
      },
      "execution_count": null,
      "outputs": []
    },
    {
      "cell_type": "code",
      "source": [
        "# train/test 결측치 확인\n",
        "print('train 결측치 개수\\n',train.isnull().sum())\n",
        "print(train[train['document'].isnull()])\n",
        "print('\\n')\n",
        "print('test 결측치 개수\\n',test.isnull().sum())\n",
        "print(test[test['document'].isnull()])"
      ],
      "metadata": {
        "id": "r7t-jE2kdsu9"
      },
      "execution_count": null,
      "outputs": []
    },
    {
      "cell_type": "code",
      "source": [
        "# train/test 결측치 대체\n",
        "train = train.fillna(method='ffill')\n",
        "test = test.fillna(method='ffill')"
      ],
      "metadata": {
        "id": "cM4CY7CFfEap"
      },
      "execution_count": 6,
      "outputs": []
    },
    {
      "cell_type": "code",
      "source": [
        "# 결측치 개수 확인\n",
        "print(train.isnull().sum())\n",
        "print(test.isnull().sum())"
      ],
      "metadata": {
        "id": "xzSSDdvSfy78"
      },
      "execution_count": null,
      "outputs": []
    },
    {
      "cell_type": "markdown",
      "source": [
        "### 1-3. Feature & Target 설정"
      ],
      "metadata": {
        "id": "H2FV8Xf8ihqS"
      }
    },
    {
      "cell_type": "code",
      "source": [
        "train_feature = train.document\n",
        "train_label = train.label"
      ],
      "metadata": {
        "id": "ZCiEocUgicRE"
      },
      "execution_count": 8,
      "outputs": []
    },
    {
      "cell_type": "code",
      "source": [
        "train_feature.head()"
      ],
      "metadata": {
        "colab": {
          "base_uri": "https://localhost:8080/"
        },
        "id": "-ZaigizQg3Xa",
        "outputId": "dbffe891-8ee4-4587-a234-4add3d05ebbd"
      },
      "execution_count": 9,
      "outputs": [
        {
          "output_type": "execute_result",
          "data": {
            "text/plain": [
              "0                                  아 더빙.. 진짜 짜증나네요 목소리\n",
              "1                    흠...포스터보고 초딩영화줄....오버연기조차 가볍지 않구나\n",
              "2                                    너무재밓었다그래서보는것을추천한다\n",
              "3                        교도소 이야기구먼 ..솔직히 재미는 없다..평점 조정\n",
              "4    사이몬페그의 익살스런 연기가 돋보였던 영화!스파이더맨에서 늙어보이기만 했던 커스틴 ...\n",
              "Name: document, dtype: object"
            ]
          },
          "metadata": {},
          "execution_count": 9
        }
      ]
    },
    {
      "cell_type": "code",
      "source": [
        "train_feature.tail()"
      ],
      "metadata": {
        "id": "kHG10uatiqgg"
      },
      "execution_count": null,
      "outputs": []
    },
    {
      "cell_type": "markdown",
      "source": [
        "## 2. 텍스트 전처리\n",
        "### 2-1. CountVectorizer의 이해\n",
        "- 워드 임베딩 진행\n",
        "  - 워드 임베딩: 컴퓨터가 계산하기 위해 문장을 숫자로 바꾸는 것(단어를 벡터로 표현)\n",
        "- 본 분석에서는 CountVectorizer를 이용해 문장을 숫자로 표현\n",
        "  - CountVectorizer: 입력된 문장을 **토큰화**하여 토큰의 **등장 빈도 벡터**로 바꾸는 기법\n"
      ],
      "metadata": {
        "id": "nY4yCkWyjSOF"
      }
    },
    {
      "cell_type": "code",
      "source": [
        "# 예시\n",
        "from sklearn.feature_extraction.text import CountVectorizer\n",
        "\n",
        "sample_vectorizer = CountVectorizer()\n",
        "sample_text1 = [\"hello, my name is dacon and I am a data scientist!\"]\n",
        "sample_vectorizer.fit(sample_text1) # CountVectorizer 학습\n",
        "\n",
        "print(sample_vectorizer.vocabulary_) # sample_vectorizer가 학습한 단어 목록"
      ],
      "metadata": {
        "colab": {
          "base_uri": "https://localhost:8080/"
        },
        "id": "zP3_vzVkir3a",
        "outputId": "4e45ab67-5873-479f-880b-5e48b5c61e16"
      },
      "execution_count": 11,
      "outputs": [
        {
          "output_type": "stream",
          "name": "stdout",
          "text": [
            "{'hello': 4, 'my': 6, 'name': 7, 'is': 5, 'dacon': 2, 'and': 1, 'am': 0, 'data': 3, 'scientist': 8}\n"
          ]
        }
      ]
    },
    {
      "cell_type": "markdown",
      "source": [
        "길이가 1개인 단어들과 특수문자는 의미가 적다고 판단하여 제외되었음"
      ],
      "metadata": {
        "id": "-1ZKzBRfnWcu"
      }
    },
    {
      "cell_type": "code",
      "source": [
        "# 다른 문장을 활용해 벡터로 transform 진행\n",
        "sample_text2 = [\"you are learning dacon data science\"]\n",
        "\n",
        "sample_vector = sample_vectorizer.transform(sample_text2)\n",
        "print(sample_vector.toarray())"
      ],
      "metadata": {
        "colab": {
          "base_uri": "https://localhost:8080/"
        },
        "id": "gRT_r5gKkzNT",
        "outputId": "87fee744-26cc-4d36-8050-b7847c70a70d"
      },
      "execution_count": 12,
      "outputs": [
        {
          "output_type": "stream",
          "name": "stdout",
          "text": [
            "[[0 0 1 1 0 0 0 0 0]]\n"
          ]
        }
      ]
    },
    {
      "cell_type": "markdown",
      "source": [
        "↑ transform의 결과, 단어들의 출현 빈도로 이루어진 크기 9의 벡터 출력됨\n",
        "\n",
        "이 벡터를 BoW라고 하는데, BoW란 CountVectorizer로 변환된 단어의 집합을 의미함\n",
        "\n",
        "sample_text2에는 dacon과 data가 1번씩 출현했기에 해당 인덱스 값이 1로 표현되었고, 등장하지 않은 단어들은 0으로 표시됨"
      ],
      "metadata": {
        "id": "__z-jMful3oL"
      }
    },
    {
      "cell_type": "code",
      "source": [
        "sample_text3 = [\"you are learning dacon data science with movie data\"]\n",
        "\n",
        "sample_vector = sample_vectorizer.transform(sample_text3)\n",
        "print(sample_vector.toarray())"
      ],
      "metadata": {
        "colab": {
          "base_uri": "https://localhost:8080/"
        },
        "id": "NEDl3D2NlTGR",
        "outputId": "daf2fd20-3bce-4e8b-fc4a-d198b0472e2b"
      },
      "execution_count": 13,
      "outputs": [
        {
          "output_type": "stream",
          "name": "stdout",
          "text": [
            "[[0 0 1 2 0 0 0 0 0]]\n"
          ]
        }
      ]
    },
    {
      "cell_type": "markdown",
      "source": [
        "\"dacon\" 단어가 1번, \"data\" 단어가 2번 출현했기에 \"dacon\" 단어에 해당하는 인덱스에는 1의 값이, \"data\" 에 해당하는 인덱스에는 2의 값이 할당됨\n",
        "\n",
        "CountVectorizer 를 하나의 문장을 사용해 학습 시켰기에 생성된 Vocab과 BoW 의 크기는 모두 9였음\n",
        "\n",
        "큰 데이터를 사용해 CountVectorizer를 학습시키면 Vocab과 BoW의 크기는 증가할 것"
      ],
      "metadata": {
        "id": "VH0Lj86-m2-E"
      }
    },
    {
      "cell_type": "code",
      "source": [
        "vectorizer = CountVectorizer() # countvectorizer 생성\n",
        "vectorizer.fit(train_feature) # countvectorizer 학습(fit)\n",
        "train_X = vectorizer.transform(train_feature) # transform"
      ],
      "metadata": {
        "id": "n8S0Hg7FlbNi"
      },
      "execution_count": 14,
      "outputs": []
    },
    {
      "cell_type": "code",
      "source": [
        "from sklearn.linear_model import LogisticRegression\n",
        "\n",
        "model = LogisticRegression()\n",
        "model.fit(train_X, train_label)"
      ],
      "metadata": {
        "colab": {
          "base_uri": "https://localhost:8080/"
        },
        "id": "6tiPOukJqO3Z",
        "outputId": "1ca3af85-cbf3-45cb-e022-b7fdf5402e07"
      },
      "execution_count": 15,
      "outputs": [
        {
          "output_type": "stream",
          "name": "stderr",
          "text": [
            "/usr/local/lib/python3.8/dist-packages/sklearn/linear_model/_logistic.py:814: ConvergenceWarning: lbfgs failed to converge (status=1):\n",
            "STOP: TOTAL NO. of ITERATIONS REACHED LIMIT.\n",
            "\n",
            "Increase the number of iterations (max_iter) or scale the data as shown in:\n",
            "    https://scikit-learn.org/stable/modules/preprocessing.html\n",
            "Please also refer to the documentation for alternative solver options:\n",
            "    https://scikit-learn.org/stable/modules/linear_model.html#logistic-regression\n",
            "  n_iter_i = _check_optimize_result(\n"
          ]
        },
        {
          "output_type": "execute_result",
          "data": {
            "text/plain": [
              "LogisticRegression()"
            ]
          },
          "metadata": {},
          "execution_count": 15
        }
      ]
    },
    {
      "cell_type": "markdown",
      "source": [
        "위에서 train 데이터로 학습한 모델로 test data를 넣어 예측값을 도출함\n",
        "\n",
        "fit_transform() 매서드는 학습을 위한 train data에 사용되고 test data에는 transform() 매서드만 사용해야 함\n",
        "\n",
        "test data에도 fit_transform() 매서드를 사용하는 것은 모델이 test data에 대해서도 학습을 한다는 것을 의미함 → No!!"
      ],
      "metadata": {
        "id": "uC4jTi0rsUzl"
      }
    },
    {
      "cell_type": "code",
      "source": [
        "test_X_vect = vectorizer.transform(test['document']) # test data는 transform() 매서드만 적용\n",
        "\n",
        "pred = model.predict(test_X_vect)\n",
        "print(pred)"
      ],
      "metadata": {
        "colab": {
          "base_uri": "https://localhost:8080/"
        },
        "id": "3RAwwiM1rgX6",
        "outputId": "e32a4cd8-a682-4d7d-8ff5-4ec93672cb2e"
      },
      "execution_count": 16,
      "outputs": [
        {
          "output_type": "stream",
          "name": "stdout",
          "text": [
            "[0 0 0 ... 1 0 0]\n"
          ]
        }
      ]
    },
    {
      "cell_type": "markdown",
      "source": [
        "### 2-2. 데이터 정제\n"
      ],
      "metadata": {
        "id": "J5jTG0vctgeP"
      }
    },
    {
      "cell_type": "code",
      "source": [
        "from sklearn.model_selection import train_test_split\n",
        "\n",
        "train, val = train_test_split(train)\n",
        "\n",
        "# 전처리 과정에서 데이터가 뒤섞이지 않도록 인덱스를 초기화\n",
        "train.reset_index(inplace=True)\n",
        "test.reset_index(inplace=True)"
      ],
      "metadata": {
        "id": "IUCqQOr_uS3O"
      },
      "execution_count": 18,
      "outputs": []
    },
    {
      "cell_type": "code",
      "source": [
        "train.head()"
      ],
      "metadata": {
        "colab": {
          "base_uri": "https://localhost:8080/",
          "height": 206
        },
        "id": "iXwRRB6wv1Gj",
        "outputId": "c27fc20e-a055-4203-f52a-4aa0b2ab4c97"
      },
      "execution_count": 20,
      "outputs": [
        {
          "output_type": "execute_result",
          "data": {
            "text/plain": [
              "    index                                           document  label\n",
              "0  138275             감동적입니다. 저런 따뜻한 선생님들만 있으면 우리나라 엄청 발전하겠죠      1\n",
              "1  148248  왠 영화난지도... 이 소모품에 자신의 이름이 들어 갔다는 것이 평생을 후회할 듯....      0\n",
              "2    4033                                 똥파스틱. . . . 후. . .      0\n",
              "3   38107                     재미만 있구만ㅋ 근데 전설이라는 것들이 비교적 약해보임      1\n",
              "4   84018  최고 재밌네요 밑에 다들 경쟁작 알바에요꼭 보세요!!!두번보세요!!!이렇게 재밌는 ...      1"
            ],
            "text/html": [
              "\n",
              "  <div id=\"df-230ecf80-68f8-42f1-bdda-25c5df0a3ec5\">\n",
              "    <div class=\"colab-df-container\">\n",
              "      <div>\n",
              "<style scoped>\n",
              "    .dataframe tbody tr th:only-of-type {\n",
              "        vertical-align: middle;\n",
              "    }\n",
              "\n",
              "    .dataframe tbody tr th {\n",
              "        vertical-align: top;\n",
              "    }\n",
              "\n",
              "    .dataframe thead th {\n",
              "        text-align: right;\n",
              "    }\n",
              "</style>\n",
              "<table border=\"1\" class=\"dataframe\">\n",
              "  <thead>\n",
              "    <tr style=\"text-align: right;\">\n",
              "      <th></th>\n",
              "      <th>index</th>\n",
              "      <th>document</th>\n",
              "      <th>label</th>\n",
              "    </tr>\n",
              "  </thead>\n",
              "  <tbody>\n",
              "    <tr>\n",
              "      <th>0</th>\n",
              "      <td>138275</td>\n",
              "      <td>감동적입니다. 저런 따뜻한 선생님들만 있으면 우리나라 엄청 발전하겠죠</td>\n",
              "      <td>1</td>\n",
              "    </tr>\n",
              "    <tr>\n",
              "      <th>1</th>\n",
              "      <td>148248</td>\n",
              "      <td>왠 영화난지도... 이 소모품에 자신의 이름이 들어 갔다는 것이 평생을 후회할 듯....</td>\n",
              "      <td>0</td>\n",
              "    </tr>\n",
              "    <tr>\n",
              "      <th>2</th>\n",
              "      <td>4033</td>\n",
              "      <td>똥파스틱. . . . 후. . .</td>\n",
              "      <td>0</td>\n",
              "    </tr>\n",
              "    <tr>\n",
              "      <th>3</th>\n",
              "      <td>38107</td>\n",
              "      <td>재미만 있구만ㅋ 근데 전설이라는 것들이 비교적 약해보임</td>\n",
              "      <td>1</td>\n",
              "    </tr>\n",
              "    <tr>\n",
              "      <th>4</th>\n",
              "      <td>84018</td>\n",
              "      <td>최고 재밌네요 밑에 다들 경쟁작 알바에요꼭 보세요!!!두번보세요!!!이렇게 재밌는 ...</td>\n",
              "      <td>1</td>\n",
              "    </tr>\n",
              "  </tbody>\n",
              "</table>\n",
              "</div>\n",
              "      <button class=\"colab-df-convert\" onclick=\"convertToInteractive('df-230ecf80-68f8-42f1-bdda-25c5df0a3ec5')\"\n",
              "              title=\"Convert this dataframe to an interactive table.\"\n",
              "              style=\"display:none;\">\n",
              "        \n",
              "  <svg xmlns=\"http://www.w3.org/2000/svg\" height=\"24px\"viewBox=\"0 0 24 24\"\n",
              "       width=\"24px\">\n",
              "    <path d=\"M0 0h24v24H0V0z\" fill=\"none\"/>\n",
              "    <path d=\"M18.56 5.44l.94 2.06.94-2.06 2.06-.94-2.06-.94-.94-2.06-.94 2.06-2.06.94zm-11 1L8.5 8.5l.94-2.06 2.06-.94-2.06-.94L8.5 2.5l-.94 2.06-2.06.94zm10 10l.94 2.06.94-2.06 2.06-.94-2.06-.94-.94-2.06-.94 2.06-2.06.94z\"/><path d=\"M17.41 7.96l-1.37-1.37c-.4-.4-.92-.59-1.43-.59-.52 0-1.04.2-1.43.59L10.3 9.45l-7.72 7.72c-.78.78-.78 2.05 0 2.83L4 21.41c.39.39.9.59 1.41.59.51 0 1.02-.2 1.41-.59l7.78-7.78 2.81-2.81c.8-.78.8-2.07 0-2.86zM5.41 20L4 18.59l7.72-7.72 1.47 1.35L5.41 20z\"/>\n",
              "  </svg>\n",
              "      </button>\n",
              "      \n",
              "  <style>\n",
              "    .colab-df-container {\n",
              "      display:flex;\n",
              "      flex-wrap:wrap;\n",
              "      gap: 12px;\n",
              "    }\n",
              "\n",
              "    .colab-df-convert {\n",
              "      background-color: #E8F0FE;\n",
              "      border: none;\n",
              "      border-radius: 50%;\n",
              "      cursor: pointer;\n",
              "      display: none;\n",
              "      fill: #1967D2;\n",
              "      height: 32px;\n",
              "      padding: 0 0 0 0;\n",
              "      width: 32px;\n",
              "    }\n",
              "\n",
              "    .colab-df-convert:hover {\n",
              "      background-color: #E2EBFA;\n",
              "      box-shadow: 0px 1px 2px rgba(60, 64, 67, 0.3), 0px 1px 3px 1px rgba(60, 64, 67, 0.15);\n",
              "      fill: #174EA6;\n",
              "    }\n",
              "\n",
              "    [theme=dark] .colab-df-convert {\n",
              "      background-color: #3B4455;\n",
              "      fill: #D2E3FC;\n",
              "    }\n",
              "\n",
              "    [theme=dark] .colab-df-convert:hover {\n",
              "      background-color: #434B5C;\n",
              "      box-shadow: 0px 1px 3px 1px rgba(0, 0, 0, 0.15);\n",
              "      filter: drop-shadow(0px 1px 2px rgba(0, 0, 0, 0.3));\n",
              "      fill: #FFFFFF;\n",
              "    }\n",
              "  </style>\n",
              "\n",
              "      <script>\n",
              "        const buttonEl =\n",
              "          document.querySelector('#df-230ecf80-68f8-42f1-bdda-25c5df0a3ec5 button.colab-df-convert');\n",
              "        buttonEl.style.display =\n",
              "          google.colab.kernel.accessAllowed ? 'block' : 'none';\n",
              "\n",
              "        async function convertToInteractive(key) {\n",
              "          const element = document.querySelector('#df-230ecf80-68f8-42f1-bdda-25c5df0a3ec5');\n",
              "          const dataTable =\n",
              "            await google.colab.kernel.invokeFunction('convertToInteractive',\n",
              "                                                     [key], {});\n",
              "          if (!dataTable) return;\n",
              "\n",
              "          const docLinkHtml = 'Like what you see? Visit the ' +\n",
              "            '<a target=\"_blank\" href=https://colab.research.google.com/notebooks/data_table.ipynb>data table notebook</a>'\n",
              "            + ' to learn more about interactive tables.';\n",
              "          element.innerHTML = '';\n",
              "          dataTable['output_type'] = 'display_data';\n",
              "          await google.colab.output.renderOutput(dataTable, element);\n",
              "          const docLink = document.createElement('div');\n",
              "          docLink.innerHTML = docLinkHtml;\n",
              "          element.appendChild(docLink);\n",
              "        }\n",
              "      </script>\n",
              "    </div>\n",
              "  </div>\n",
              "  "
            ]
          },
          "metadata": {},
          "execution_count": 20
        }
      ]
    },
    {
      "cell_type": "code",
      "source": [
        "val.head()"
      ],
      "metadata": {
        "colab": {
          "base_uri": "https://localhost:8080/",
          "height": 206
        },
        "id": "oFEJoFwbv1gy",
        "outputId": "4276e34a-221e-4f93-88f6-17fa8220139e"
      },
      "execution_count": 23,
      "outputs": [
        {
          "output_type": "execute_result",
          "data": {
            "text/plain": [
              "                                                 document  label\n",
              "116785                                            엄......      0\n",
              "129766             마이너스 별은 없녜 ㅋㅋㅋㅋㅋㅋㅋ 진짜 인내심 필요한 영화네요 ㅋㅋㅋ      0\n",
              "90422                                        여운이 남는다 ....      1\n",
              "77639                           요즘들어 질질 끄는게 보여서 재미가업어여...      0\n",
              "24621   만점까진아니고.. 일단 이건 개봉후부터 지금까지 7번인가봤는데 볼때마다 새로운거같음...      1"
            ],
            "text/html": [
              "\n",
              "  <div id=\"df-713ac838-f168-4138-8f2a-5c6d9c81b896\">\n",
              "    <div class=\"colab-df-container\">\n",
              "      <div>\n",
              "<style scoped>\n",
              "    .dataframe tbody tr th:only-of-type {\n",
              "        vertical-align: middle;\n",
              "    }\n",
              "\n",
              "    .dataframe tbody tr th {\n",
              "        vertical-align: top;\n",
              "    }\n",
              "\n",
              "    .dataframe thead th {\n",
              "        text-align: right;\n",
              "    }\n",
              "</style>\n",
              "<table border=\"1\" class=\"dataframe\">\n",
              "  <thead>\n",
              "    <tr style=\"text-align: right;\">\n",
              "      <th></th>\n",
              "      <th>document</th>\n",
              "      <th>label</th>\n",
              "    </tr>\n",
              "  </thead>\n",
              "  <tbody>\n",
              "    <tr>\n",
              "      <th>116785</th>\n",
              "      <td>엄......</td>\n",
              "      <td>0</td>\n",
              "    </tr>\n",
              "    <tr>\n",
              "      <th>129766</th>\n",
              "      <td>마이너스 별은 없녜 ㅋㅋㅋㅋㅋㅋㅋ 진짜 인내심 필요한 영화네요 ㅋㅋㅋ</td>\n",
              "      <td>0</td>\n",
              "    </tr>\n",
              "    <tr>\n",
              "      <th>90422</th>\n",
              "      <td>여운이 남는다 ....</td>\n",
              "      <td>1</td>\n",
              "    </tr>\n",
              "    <tr>\n",
              "      <th>77639</th>\n",
              "      <td>요즘들어 질질 끄는게 보여서 재미가업어여...</td>\n",
              "      <td>0</td>\n",
              "    </tr>\n",
              "    <tr>\n",
              "      <th>24621</th>\n",
              "      <td>만점까진아니고.. 일단 이건 개봉후부터 지금까지 7번인가봤는데 볼때마다 새로운거같음...</td>\n",
              "      <td>1</td>\n",
              "    </tr>\n",
              "  </tbody>\n",
              "</table>\n",
              "</div>\n",
              "      <button class=\"colab-df-convert\" onclick=\"convertToInteractive('df-713ac838-f168-4138-8f2a-5c6d9c81b896')\"\n",
              "              title=\"Convert this dataframe to an interactive table.\"\n",
              "              style=\"display:none;\">\n",
              "        \n",
              "  <svg xmlns=\"http://www.w3.org/2000/svg\" height=\"24px\"viewBox=\"0 0 24 24\"\n",
              "       width=\"24px\">\n",
              "    <path d=\"M0 0h24v24H0V0z\" fill=\"none\"/>\n",
              "    <path d=\"M18.56 5.44l.94 2.06.94-2.06 2.06-.94-2.06-.94-.94-2.06-.94 2.06-2.06.94zm-11 1L8.5 8.5l.94-2.06 2.06-.94-2.06-.94L8.5 2.5l-.94 2.06-2.06.94zm10 10l.94 2.06.94-2.06 2.06-.94-2.06-.94-.94-2.06-.94 2.06-2.06.94z\"/><path d=\"M17.41 7.96l-1.37-1.37c-.4-.4-.92-.59-1.43-.59-.52 0-1.04.2-1.43.59L10.3 9.45l-7.72 7.72c-.78.78-.78 2.05 0 2.83L4 21.41c.39.39.9.59 1.41.59.51 0 1.02-.2 1.41-.59l7.78-7.78 2.81-2.81c.8-.78.8-2.07 0-2.86zM5.41 20L4 18.59l7.72-7.72 1.47 1.35L5.41 20z\"/>\n",
              "  </svg>\n",
              "      </button>\n",
              "      \n",
              "  <style>\n",
              "    .colab-df-container {\n",
              "      display:flex;\n",
              "      flex-wrap:wrap;\n",
              "      gap: 12px;\n",
              "    }\n",
              "\n",
              "    .colab-df-convert {\n",
              "      background-color: #E8F0FE;\n",
              "      border: none;\n",
              "      border-radius: 50%;\n",
              "      cursor: pointer;\n",
              "      display: none;\n",
              "      fill: #1967D2;\n",
              "      height: 32px;\n",
              "      padding: 0 0 0 0;\n",
              "      width: 32px;\n",
              "    }\n",
              "\n",
              "    .colab-df-convert:hover {\n",
              "      background-color: #E2EBFA;\n",
              "      box-shadow: 0px 1px 2px rgba(60, 64, 67, 0.3), 0px 1px 3px 1px rgba(60, 64, 67, 0.15);\n",
              "      fill: #174EA6;\n",
              "    }\n",
              "\n",
              "    [theme=dark] .colab-df-convert {\n",
              "      background-color: #3B4455;\n",
              "      fill: #D2E3FC;\n",
              "    }\n",
              "\n",
              "    [theme=dark] .colab-df-convert:hover {\n",
              "      background-color: #434B5C;\n",
              "      box-shadow: 0px 1px 3px 1px rgba(0, 0, 0, 0.15);\n",
              "      filter: drop-shadow(0px 1px 2px rgba(0, 0, 0, 0.3));\n",
              "      fill: #FFFFFF;\n",
              "    }\n",
              "  </style>\n",
              "\n",
              "      <script>\n",
              "        const buttonEl =\n",
              "          document.querySelector('#df-713ac838-f168-4138-8f2a-5c6d9c81b896 button.colab-df-convert');\n",
              "        buttonEl.style.display =\n",
              "          google.colab.kernel.accessAllowed ? 'block' : 'none';\n",
              "\n",
              "        async function convertToInteractive(key) {\n",
              "          const element = document.querySelector('#df-713ac838-f168-4138-8f2a-5c6d9c81b896');\n",
              "          const dataTable =\n",
              "            await google.colab.kernel.invokeFunction('convertToInteractive',\n",
              "                                                     [key], {});\n",
              "          if (!dataTable) return;\n",
              "\n",
              "          const docLinkHtml = 'Like what you see? Visit the ' +\n",
              "            '<a target=\"_blank\" href=https://colab.research.google.com/notebooks/data_table.ipynb>data table notebook</a>'\n",
              "            + ' to learn more about interactive tables.';\n",
              "          element.innerHTML = '';\n",
              "          dataTable['output_type'] = 'display_data';\n",
              "          await google.colab.output.renderOutput(dataTable, element);\n",
              "          const docLink = document.createElement('div');\n",
              "          docLink.innerHTML = docLinkHtml;\n",
              "          element.appendChild(docLink);\n",
              "        }\n",
              "      </script>\n",
              "    </div>\n",
              "  </div>\n",
              "  "
            ]
          },
          "metadata": {},
          "execution_count": 23
        }
      ]
    },
    {
      "cell_type": "code",
      "source": [
        "train['preprocessed'] = train['document'].str.replace('[^ㄱ-ㅎㅏ-ㅣ가-힣 ]', '') # 한글과 공백을 제외하고 모두 제거\n",
        "train[:5]"
      ],
      "metadata": {
        "colab": {
          "base_uri": "https://localhost:8080/",
          "height": 243
        },
        "id": "RMVojYnxwEv9",
        "outputId": "d41f8570-586a-4eab-8be6-19929d996cf2"
      },
      "execution_count": 28,
      "outputs": [
        {
          "output_type": "stream",
          "name": "stderr",
          "text": [
            "<ipython-input-28-f2548bcc9f40>:1: FutureWarning: The default value of regex will change from True to False in a future version.\n",
            "  train['preprocessed'] = train['document'].str.replace('[^ㄱ-ㅎㅏ-ㅣ가-힣 ]', '') # 한글과 공백을 제외하고 모두 제거\n"
          ]
        },
        {
          "output_type": "execute_result",
          "data": {
            "text/plain": [
              "    index                                           document  label  \\\n",
              "0  138275             감동적입니다. 저런 따뜻한 선생님들만 있으면 우리나라 엄청 발전하겠죠      1   \n",
              "1  148248  왠 영화난지도... 이 소모품에 자신의 이름이 들어 갔다는 것이 평생을 후회할 듯....      0   \n",
              "2    4033                                 똥파스틱. . . . 후. . .      0   \n",
              "3   38107                     재미만 있구만ㅋ 근데 전설이라는 것들이 비교적 약해보임      1   \n",
              "4   84018  최고 재밌네요 밑에 다들 경쟁작 알바에요꼭 보세요!!!두번보세요!!!이렇게 재밌는 ...      1   \n",
              "\n",
              "                                        preprocessed  \n",
              "0              감동적입니다 저런 따뜻한 선생님들만 있으면 우리나라 엄청 발전하겠죠  \n",
              "1  왠 영화난지도 이 소모품에 자신의 이름이 들어 갔다는 것이 평생을 후회할 듯 별의 ...  \n",
              "2                                        똥파스틱    후    \n",
              "3                     재미만 있구만ㅋ 근데 전설이라는 것들이 비교적 약해보임  \n",
              "4  최고 재밌네요 밑에 다들 경쟁작 알바에요꼭 보세요두번보세요이렇게 재밌는 영화 놓치시...  "
            ],
            "text/html": [
              "\n",
              "  <div id=\"df-cf0b8138-f21e-45fa-bdfa-74ea0907fdfb\">\n",
              "    <div class=\"colab-df-container\">\n",
              "      <div>\n",
              "<style scoped>\n",
              "    .dataframe tbody tr th:only-of-type {\n",
              "        vertical-align: middle;\n",
              "    }\n",
              "\n",
              "    .dataframe tbody tr th {\n",
              "        vertical-align: top;\n",
              "    }\n",
              "\n",
              "    .dataframe thead th {\n",
              "        text-align: right;\n",
              "    }\n",
              "</style>\n",
              "<table border=\"1\" class=\"dataframe\">\n",
              "  <thead>\n",
              "    <tr style=\"text-align: right;\">\n",
              "      <th></th>\n",
              "      <th>index</th>\n",
              "      <th>document</th>\n",
              "      <th>label</th>\n",
              "      <th>preprocessed</th>\n",
              "    </tr>\n",
              "  </thead>\n",
              "  <tbody>\n",
              "    <tr>\n",
              "      <th>0</th>\n",
              "      <td>138275</td>\n",
              "      <td>감동적입니다. 저런 따뜻한 선생님들만 있으면 우리나라 엄청 발전하겠죠</td>\n",
              "      <td>1</td>\n",
              "      <td>감동적입니다 저런 따뜻한 선생님들만 있으면 우리나라 엄청 발전하겠죠</td>\n",
              "    </tr>\n",
              "    <tr>\n",
              "      <th>1</th>\n",
              "      <td>148248</td>\n",
              "      <td>왠 영화난지도... 이 소모품에 자신의 이름이 들어 갔다는 것이 평생을 후회할 듯....</td>\n",
              "      <td>0</td>\n",
              "      <td>왠 영화난지도 이 소모품에 자신의 이름이 들어 갔다는 것이 평생을 후회할 듯 별의 ...</td>\n",
              "    </tr>\n",
              "    <tr>\n",
              "      <th>2</th>\n",
              "      <td>4033</td>\n",
              "      <td>똥파스틱. . . . 후. . .</td>\n",
              "      <td>0</td>\n",
              "      <td>똥파스틱    후</td>\n",
              "    </tr>\n",
              "    <tr>\n",
              "      <th>3</th>\n",
              "      <td>38107</td>\n",
              "      <td>재미만 있구만ㅋ 근데 전설이라는 것들이 비교적 약해보임</td>\n",
              "      <td>1</td>\n",
              "      <td>재미만 있구만ㅋ 근데 전설이라는 것들이 비교적 약해보임</td>\n",
              "    </tr>\n",
              "    <tr>\n",
              "      <th>4</th>\n",
              "      <td>84018</td>\n",
              "      <td>최고 재밌네요 밑에 다들 경쟁작 알바에요꼭 보세요!!!두번보세요!!!이렇게 재밌는 ...</td>\n",
              "      <td>1</td>\n",
              "      <td>최고 재밌네요 밑에 다들 경쟁작 알바에요꼭 보세요두번보세요이렇게 재밌는 영화 놓치시...</td>\n",
              "    </tr>\n",
              "  </tbody>\n",
              "</table>\n",
              "</div>\n",
              "      <button class=\"colab-df-convert\" onclick=\"convertToInteractive('df-cf0b8138-f21e-45fa-bdfa-74ea0907fdfb')\"\n",
              "              title=\"Convert this dataframe to an interactive table.\"\n",
              "              style=\"display:none;\">\n",
              "        \n",
              "  <svg xmlns=\"http://www.w3.org/2000/svg\" height=\"24px\"viewBox=\"0 0 24 24\"\n",
              "       width=\"24px\">\n",
              "    <path d=\"M0 0h24v24H0V0z\" fill=\"none\"/>\n",
              "    <path d=\"M18.56 5.44l.94 2.06.94-2.06 2.06-.94-2.06-.94-.94-2.06-.94 2.06-2.06.94zm-11 1L8.5 8.5l.94-2.06 2.06-.94-2.06-.94L8.5 2.5l-.94 2.06-2.06.94zm10 10l.94 2.06.94-2.06 2.06-.94-2.06-.94-.94-2.06-.94 2.06-2.06.94z\"/><path d=\"M17.41 7.96l-1.37-1.37c-.4-.4-.92-.59-1.43-.59-.52 0-1.04.2-1.43.59L10.3 9.45l-7.72 7.72c-.78.78-.78 2.05 0 2.83L4 21.41c.39.39.9.59 1.41.59.51 0 1.02-.2 1.41-.59l7.78-7.78 2.81-2.81c.8-.78.8-2.07 0-2.86zM5.41 20L4 18.59l7.72-7.72 1.47 1.35L5.41 20z\"/>\n",
              "  </svg>\n",
              "      </button>\n",
              "      \n",
              "  <style>\n",
              "    .colab-df-container {\n",
              "      display:flex;\n",
              "      flex-wrap:wrap;\n",
              "      gap: 12px;\n",
              "    }\n",
              "\n",
              "    .colab-df-convert {\n",
              "      background-color: #E8F0FE;\n",
              "      border: none;\n",
              "      border-radius: 50%;\n",
              "      cursor: pointer;\n",
              "      display: none;\n",
              "      fill: #1967D2;\n",
              "      height: 32px;\n",
              "      padding: 0 0 0 0;\n",
              "      width: 32px;\n",
              "    }\n",
              "\n",
              "    .colab-df-convert:hover {\n",
              "      background-color: #E2EBFA;\n",
              "      box-shadow: 0px 1px 2px rgba(60, 64, 67, 0.3), 0px 1px 3px 1px rgba(60, 64, 67, 0.15);\n",
              "      fill: #174EA6;\n",
              "    }\n",
              "\n",
              "    [theme=dark] .colab-df-convert {\n",
              "      background-color: #3B4455;\n",
              "      fill: #D2E3FC;\n",
              "    }\n",
              "\n",
              "    [theme=dark] .colab-df-convert:hover {\n",
              "      background-color: #434B5C;\n",
              "      box-shadow: 0px 1px 3px 1px rgba(0, 0, 0, 0.15);\n",
              "      filter: drop-shadow(0px 1px 2px rgba(0, 0, 0, 0.3));\n",
              "      fill: #FFFFFF;\n",
              "    }\n",
              "  </style>\n",
              "\n",
              "      <script>\n",
              "        const buttonEl =\n",
              "          document.querySelector('#df-cf0b8138-f21e-45fa-bdfa-74ea0907fdfb button.colab-df-convert');\n",
              "        buttonEl.style.display =\n",
              "          google.colab.kernel.accessAllowed ? 'block' : 'none';\n",
              "\n",
              "        async function convertToInteractive(key) {\n",
              "          const element = document.querySelector('#df-cf0b8138-f21e-45fa-bdfa-74ea0907fdfb');\n",
              "          const dataTable =\n",
              "            await google.colab.kernel.invokeFunction('convertToInteractive',\n",
              "                                                     [key], {});\n",
              "          if (!dataTable) return;\n",
              "\n",
              "          const docLinkHtml = 'Like what you see? Visit the ' +\n",
              "            '<a target=\"_blank\" href=https://colab.research.google.com/notebooks/data_table.ipynb>data table notebook</a>'\n",
              "            + ' to learn more about interactive tables.';\n",
              "          element.innerHTML = '';\n",
              "          dataTable['output_type'] = 'display_data';\n",
              "          await google.colab.output.renderOutput(dataTable, element);\n",
              "          const docLink = document.createElement('div');\n",
              "          docLink.innerHTML = docLinkHtml;\n",
              "          element.appendChild(docLink);\n",
              "        }\n",
              "      </script>\n",
              "    </div>\n",
              "  </div>\n",
              "  "
            ]
          },
          "metadata": {},
          "execution_count": 28
        }
      ]
    },
    {
      "cell_type": "code",
      "source": [
        "train['preprocessed'] = train['preprocessed'].str.replace(' +', ' ') # 다중 공백 제거\n",
        "train[:5]"
      ],
      "metadata": {
        "colab": {
          "base_uri": "https://localhost:8080/",
          "height": 243
        },
        "id": "WiN3NcRLwa2O",
        "outputId": "d54cf110-6e49-4898-d5ec-d6a8673333d3"
      },
      "execution_count": 29,
      "outputs": [
        {
          "output_type": "stream",
          "name": "stderr",
          "text": [
            "<ipython-input-29-382d39dcefb0>:1: FutureWarning: The default value of regex will change from True to False in a future version.\n",
            "  train['preprocessed'] = train['preprocessed'].str.replace(' +', ' ') # 다중 공백 제거\n"
          ]
        },
        {
          "output_type": "execute_result",
          "data": {
            "text/plain": [
              "    index                                           document  label  \\\n",
              "0  138275             감동적입니다. 저런 따뜻한 선생님들만 있으면 우리나라 엄청 발전하겠죠      1   \n",
              "1  148248  왠 영화난지도... 이 소모품에 자신의 이름이 들어 갔다는 것이 평생을 후회할 듯....      0   \n",
              "2    4033                                 똥파스틱. . . . 후. . .      0   \n",
              "3   38107                     재미만 있구만ㅋ 근데 전설이라는 것들이 비교적 약해보임      1   \n",
              "4   84018  최고 재밌네요 밑에 다들 경쟁작 알바에요꼭 보세요!!!두번보세요!!!이렇게 재밌는 ...      1   \n",
              "\n",
              "                                        preprocessed  \n",
              "0              감동적입니다 저런 따뜻한 선생님들만 있으면 우리나라 엄청 발전하겠죠  \n",
              "1  왠 영화난지도 이 소모품에 자신의 이름이 들어 갔다는 것이 평생을 후회할 듯 별의 ...  \n",
              "2                                            똥파스틱 후   \n",
              "3                     재미만 있구만ㅋ 근데 전설이라는 것들이 비교적 약해보임  \n",
              "4  최고 재밌네요 밑에 다들 경쟁작 알바에요꼭 보세요두번보세요이렇게 재밌는 영화 놓치시...  "
            ],
            "text/html": [
              "\n",
              "  <div id=\"df-6ee88332-d195-49b2-9781-b28f19b41c85\">\n",
              "    <div class=\"colab-df-container\">\n",
              "      <div>\n",
              "<style scoped>\n",
              "    .dataframe tbody tr th:only-of-type {\n",
              "        vertical-align: middle;\n",
              "    }\n",
              "\n",
              "    .dataframe tbody tr th {\n",
              "        vertical-align: top;\n",
              "    }\n",
              "\n",
              "    .dataframe thead th {\n",
              "        text-align: right;\n",
              "    }\n",
              "</style>\n",
              "<table border=\"1\" class=\"dataframe\">\n",
              "  <thead>\n",
              "    <tr style=\"text-align: right;\">\n",
              "      <th></th>\n",
              "      <th>index</th>\n",
              "      <th>document</th>\n",
              "      <th>label</th>\n",
              "      <th>preprocessed</th>\n",
              "    </tr>\n",
              "  </thead>\n",
              "  <tbody>\n",
              "    <tr>\n",
              "      <th>0</th>\n",
              "      <td>138275</td>\n",
              "      <td>감동적입니다. 저런 따뜻한 선생님들만 있으면 우리나라 엄청 발전하겠죠</td>\n",
              "      <td>1</td>\n",
              "      <td>감동적입니다 저런 따뜻한 선생님들만 있으면 우리나라 엄청 발전하겠죠</td>\n",
              "    </tr>\n",
              "    <tr>\n",
              "      <th>1</th>\n",
              "      <td>148248</td>\n",
              "      <td>왠 영화난지도... 이 소모품에 자신의 이름이 들어 갔다는 것이 평생을 후회할 듯....</td>\n",
              "      <td>0</td>\n",
              "      <td>왠 영화난지도 이 소모품에 자신의 이름이 들어 갔다는 것이 평생을 후회할 듯 별의 ...</td>\n",
              "    </tr>\n",
              "    <tr>\n",
              "      <th>2</th>\n",
              "      <td>4033</td>\n",
              "      <td>똥파스틱. . . . 후. . .</td>\n",
              "      <td>0</td>\n",
              "      <td>똥파스틱 후</td>\n",
              "    </tr>\n",
              "    <tr>\n",
              "      <th>3</th>\n",
              "      <td>38107</td>\n",
              "      <td>재미만 있구만ㅋ 근데 전설이라는 것들이 비교적 약해보임</td>\n",
              "      <td>1</td>\n",
              "      <td>재미만 있구만ㅋ 근데 전설이라는 것들이 비교적 약해보임</td>\n",
              "    </tr>\n",
              "    <tr>\n",
              "      <th>4</th>\n",
              "      <td>84018</td>\n",
              "      <td>최고 재밌네요 밑에 다들 경쟁작 알바에요꼭 보세요!!!두번보세요!!!이렇게 재밌는 ...</td>\n",
              "      <td>1</td>\n",
              "      <td>최고 재밌네요 밑에 다들 경쟁작 알바에요꼭 보세요두번보세요이렇게 재밌는 영화 놓치시...</td>\n",
              "    </tr>\n",
              "  </tbody>\n",
              "</table>\n",
              "</div>\n",
              "      <button class=\"colab-df-convert\" onclick=\"convertToInteractive('df-6ee88332-d195-49b2-9781-b28f19b41c85')\"\n",
              "              title=\"Convert this dataframe to an interactive table.\"\n",
              "              style=\"display:none;\">\n",
              "        \n",
              "  <svg xmlns=\"http://www.w3.org/2000/svg\" height=\"24px\"viewBox=\"0 0 24 24\"\n",
              "       width=\"24px\">\n",
              "    <path d=\"M0 0h24v24H0V0z\" fill=\"none\"/>\n",
              "    <path d=\"M18.56 5.44l.94 2.06.94-2.06 2.06-.94-2.06-.94-.94-2.06-.94 2.06-2.06.94zm-11 1L8.5 8.5l.94-2.06 2.06-.94-2.06-.94L8.5 2.5l-.94 2.06-2.06.94zm10 10l.94 2.06.94-2.06 2.06-.94-2.06-.94-.94-2.06-.94 2.06-2.06.94z\"/><path d=\"M17.41 7.96l-1.37-1.37c-.4-.4-.92-.59-1.43-.59-.52 0-1.04.2-1.43.59L10.3 9.45l-7.72 7.72c-.78.78-.78 2.05 0 2.83L4 21.41c.39.39.9.59 1.41.59.51 0 1.02-.2 1.41-.59l7.78-7.78 2.81-2.81c.8-.78.8-2.07 0-2.86zM5.41 20L4 18.59l7.72-7.72 1.47 1.35L5.41 20z\"/>\n",
              "  </svg>\n",
              "      </button>\n",
              "      \n",
              "  <style>\n",
              "    .colab-df-container {\n",
              "      display:flex;\n",
              "      flex-wrap:wrap;\n",
              "      gap: 12px;\n",
              "    }\n",
              "\n",
              "    .colab-df-convert {\n",
              "      background-color: #E8F0FE;\n",
              "      border: none;\n",
              "      border-radius: 50%;\n",
              "      cursor: pointer;\n",
              "      display: none;\n",
              "      fill: #1967D2;\n",
              "      height: 32px;\n",
              "      padding: 0 0 0 0;\n",
              "      width: 32px;\n",
              "    }\n",
              "\n",
              "    .colab-df-convert:hover {\n",
              "      background-color: #E2EBFA;\n",
              "      box-shadow: 0px 1px 2px rgba(60, 64, 67, 0.3), 0px 1px 3px 1px rgba(60, 64, 67, 0.15);\n",
              "      fill: #174EA6;\n",
              "    }\n",
              "\n",
              "    [theme=dark] .colab-df-convert {\n",
              "      background-color: #3B4455;\n",
              "      fill: #D2E3FC;\n",
              "    }\n",
              "\n",
              "    [theme=dark] .colab-df-convert:hover {\n",
              "      background-color: #434B5C;\n",
              "      box-shadow: 0px 1px 3px 1px rgba(0, 0, 0, 0.15);\n",
              "      filter: drop-shadow(0px 1px 2px rgba(0, 0, 0, 0.3));\n",
              "      fill: #FFFFFF;\n",
              "    }\n",
              "  </style>\n",
              "\n",
              "      <script>\n",
              "        const buttonEl =\n",
              "          document.querySelector('#df-6ee88332-d195-49b2-9781-b28f19b41c85 button.colab-df-convert');\n",
              "        buttonEl.style.display =\n",
              "          google.colab.kernel.accessAllowed ? 'block' : 'none';\n",
              "\n",
              "        async function convertToInteractive(key) {\n",
              "          const element = document.querySelector('#df-6ee88332-d195-49b2-9781-b28f19b41c85');\n",
              "          const dataTable =\n",
              "            await google.colab.kernel.invokeFunction('convertToInteractive',\n",
              "                                                     [key], {});\n",
              "          if (!dataTable) return;\n",
              "\n",
              "          const docLinkHtml = 'Like what you see? Visit the ' +\n",
              "            '<a target=\"_blank\" href=https://colab.research.google.com/notebooks/data_table.ipynb>data table notebook</a>'\n",
              "            + ' to learn more about interactive tables.';\n",
              "          element.innerHTML = '';\n",
              "          dataTable['output_type'] = 'display_data';\n",
              "          await google.colab.output.renderOutput(dataTable, element);\n",
              "          const docLink = document.createElement('div');\n",
              "          docLink.innerHTML = docLinkHtml;\n",
              "          element.appendChild(docLink);\n",
              "        }\n",
              "      </script>\n",
              "    </div>\n",
              "  </div>\n",
              "  "
            ]
          },
          "metadata": {},
          "execution_count": 29
        }
      ]
    },
    {
      "cell_type": "markdown",
      "source": [
        "### 2-3. 토큰화\n",
        "- 토큰화(Tokenization): 말뭉치(Corpus)를 주어진 단위(Token)로 나누는 과정\n",
        "  1. 문장 토큰화\n",
        "  1. 단어 토큰화"
      ],
      "metadata": {
        "id": "vbCdop1UxB7c"
      }
    },
    {
      "cell_type": "code",
      "source": [
        "text = \"Hello, nice to meet you. What's your name? Have a nice day! See you soon.\" \n",
        "\n",
        "from nltk.tokenize import sent_tokenize\n",
        "\n",
        "print('문장 토큰화 결과 ==>',sent_tokenize(text))\n",
        "\n",
        "from nltk.tokenize import word_tokenize\n",
        "\n",
        "print('단어 토큰화 결과 ==>', word_tokenize(text))"
      ],
      "metadata": {
        "colab": {
          "base_uri": "https://localhost:8080/"
        },
        "id": "H41R4VN9yhiZ",
        "outputId": "e305f43d-a63c-4595-ef31-f68fdb5c362c"
      },
      "execution_count": 33,
      "outputs": [
        {
          "output_type": "stream",
          "name": "stdout",
          "text": [
            "문장 토큰화 결과 ==> ['Hello, nice to meet you.', \"What's your name?\", 'Have a nice day!', 'See you soon.']\n",
            "단어 토큰화 결과 ==> ['Hello', ',', 'nice', 'to', 'meet', 'you', '.', 'What', \"'s\", 'your', 'name', '?', 'Have', 'a', 'nice', 'day', '!', 'See', 'you', 'soon', '.']\n"
          ]
        }
      ]
    },
    {
      "cell_type": "code",
      "source": [
        "from konlpy.tag import Okt \n",
        "\n",
        "han_sentence = \"오늘도 열심히 코딩을 해볼까요? 같이 힘내서 자연어 처리 고수가 됩시다! ㅎㅎ\"\n",
        "okt = Okt() # 인스턴스 할당\n",
        "print(\"한국어 형태소 분석 결과(어간 추출X) ==>\", okt.morphs(han_sentence, stem = False)) # 형태소 단위로 분리\n",
        "print(\"한국어 형태소 분석 결과(어간 추출O) ==>\", okt.morphs(han_sentence, stem = True)) # 형태소 단위로 분리 후 어간 추출"
      ],
      "metadata": {
        "colab": {
          "base_uri": "https://localhost:8080/"
        },
        "id": "_lm9g3mvyhcX",
        "outputId": "986ace89-c603-4eb7-dd4b-f43afd89e28f"
      },
      "execution_count": 34,
      "outputs": [
        {
          "output_type": "stream",
          "name": "stdout",
          "text": [
            "한국어 형태소 분석 결과(어간 추출X) ==> ['오늘', '도', '열심히', '코딩', '을', '해볼까', '요', '?', '같이', '힘내서', '자연어', '처리', '고수', '가', '됩시다', '!', 'ㅎㅎ']\n",
            "한국어 형태소 분석 결과(어간 추출O) ==> ['오늘', '도', '열심히', '코딩', '을', '해보다', '요', '?', '같이', '힘내다', '자연어', '처리', '고수', '가', '되다', '!', 'ㅎㅎ']\n"
          ]
        }
      ]
    },
    {
      "cell_type": "code",
      "source": [
        "tokenized = [] # 데이터프레임의 한 칼럼의 추가할 리스트\n",
        "for sentence in train['preprocessed']: # 전처리된 리뷰들을 하나씩 꺼내어기\n",
        "  tokens = okt.morphs(sentence, stem=True) # 형태소 분석(stem=True로 어간 추출 진행)\n",
        "  tokenize = \" \".join(tokens) # tokens라는 리스트 안에 형태소들을 띄어쓰기로 분리된 하나의 문자열로 join\n",
        "  tokenized.append(tokenize) # 형태소 단위로 띄어쓰기된 문자열을 최종 리스트에 추가\n",
        "train['tokenized_stem'] = pd.DataFrame(tokenized) # 리스트를 데이터프레임으로 변환해 tokenized_stem라는 칼럼명으로 추가\n",
        "\n",
        "train.head() # 데이터 확인"
      ],
      "metadata": {
        "colab": {
          "base_uri": "https://localhost:8080/",
          "height": 285
        },
        "id": "sdwlo9V0wzwK",
        "outputId": "6f982029-9e13-4309-b397-a63dfa4369e1"
      },
      "execution_count": 35,
      "outputs": [
        {
          "output_type": "execute_result",
          "data": {
            "text/plain": [
              "    index                                           document  label  \\\n",
              "0  138275             감동적입니다. 저런 따뜻한 선생님들만 있으면 우리나라 엄청 발전하겠죠      1   \n",
              "1  148248  왠 영화난지도... 이 소모품에 자신의 이름이 들어 갔다는 것이 평생을 후회할 듯....      0   \n",
              "2    4033                                 똥파스틱. . . . 후. . .      0   \n",
              "3   38107                     재미만 있구만ㅋ 근데 전설이라는 것들이 비교적 약해보임      1   \n",
              "4   84018  최고 재밌네요 밑에 다들 경쟁작 알바에요꼭 보세요!!!두번보세요!!!이렇게 재밌는 ...      1   \n",
              "\n",
              "                                        preprocessed  \\\n",
              "0              감동적입니다 저런 따뜻한 선생님들만 있으면 우리나라 엄청 발전하겠죠   \n",
              "1  왠 영화난지도 이 소모품에 자신의 이름이 들어 갔다는 것이 평생을 후회할 듯 별의 ...   \n",
              "2                                            똥파스틱 후    \n",
              "3                     재미만 있구만ㅋ 근데 전설이라는 것들이 비교적 약해보임   \n",
              "4  최고 재밌네요 밑에 다들 경쟁작 알바에요꼭 보세요두번보세요이렇게 재밌는 영화 놓치시...   \n",
              "\n",
              "                                      tokenized_stem  \n",
              "0           감동 적 이다 저런 따뜻하다 선생님 들 만 있다 우리나라 엄청 발전 하다  \n",
              "1  왠 영화 난지도 이 소모품 에 자신 의 이름 이 들다 가다 것 이 평생 을 후회 하...  \n",
              "2                                           똥 파스 틱 후  \n",
              "3              재미 만 있다 ㅋ 근데 전설 이라는 것 들 이 비교 적 약하다 보임  \n",
              "4  최고 재밌다 밑 에 다 들다 경쟁 작 알바 에요 꼭 보다 두 번 보다 이렇게 재밌다...  "
            ],
            "text/html": [
              "\n",
              "  <div id=\"df-e7ea5e91-fa92-46bd-89ac-981d8c7b1b16\">\n",
              "    <div class=\"colab-df-container\">\n",
              "      <div>\n",
              "<style scoped>\n",
              "    .dataframe tbody tr th:only-of-type {\n",
              "        vertical-align: middle;\n",
              "    }\n",
              "\n",
              "    .dataframe tbody tr th {\n",
              "        vertical-align: top;\n",
              "    }\n",
              "\n",
              "    .dataframe thead th {\n",
              "        text-align: right;\n",
              "    }\n",
              "</style>\n",
              "<table border=\"1\" class=\"dataframe\">\n",
              "  <thead>\n",
              "    <tr style=\"text-align: right;\">\n",
              "      <th></th>\n",
              "      <th>index</th>\n",
              "      <th>document</th>\n",
              "      <th>label</th>\n",
              "      <th>preprocessed</th>\n",
              "      <th>tokenized_stem</th>\n",
              "    </tr>\n",
              "  </thead>\n",
              "  <tbody>\n",
              "    <tr>\n",
              "      <th>0</th>\n",
              "      <td>138275</td>\n",
              "      <td>감동적입니다. 저런 따뜻한 선생님들만 있으면 우리나라 엄청 발전하겠죠</td>\n",
              "      <td>1</td>\n",
              "      <td>감동적입니다 저런 따뜻한 선생님들만 있으면 우리나라 엄청 발전하겠죠</td>\n",
              "      <td>감동 적 이다 저런 따뜻하다 선생님 들 만 있다 우리나라 엄청 발전 하다</td>\n",
              "    </tr>\n",
              "    <tr>\n",
              "      <th>1</th>\n",
              "      <td>148248</td>\n",
              "      <td>왠 영화난지도... 이 소모품에 자신의 이름이 들어 갔다는 것이 평생을 후회할 듯....</td>\n",
              "      <td>0</td>\n",
              "      <td>왠 영화난지도 이 소모품에 자신의 이름이 들어 갔다는 것이 평생을 후회할 듯 별의 ...</td>\n",
              "      <td>왠 영화 난지도 이 소모품 에 자신 의 이름 이 들다 가다 것 이 평생 을 후회 하...</td>\n",
              "    </tr>\n",
              "    <tr>\n",
              "      <th>2</th>\n",
              "      <td>4033</td>\n",
              "      <td>똥파스틱. . . . 후. . .</td>\n",
              "      <td>0</td>\n",
              "      <td>똥파스틱 후</td>\n",
              "      <td>똥 파스 틱 후</td>\n",
              "    </tr>\n",
              "    <tr>\n",
              "      <th>3</th>\n",
              "      <td>38107</td>\n",
              "      <td>재미만 있구만ㅋ 근데 전설이라는 것들이 비교적 약해보임</td>\n",
              "      <td>1</td>\n",
              "      <td>재미만 있구만ㅋ 근데 전설이라는 것들이 비교적 약해보임</td>\n",
              "      <td>재미 만 있다 ㅋ 근데 전설 이라는 것 들 이 비교 적 약하다 보임</td>\n",
              "    </tr>\n",
              "    <tr>\n",
              "      <th>4</th>\n",
              "      <td>84018</td>\n",
              "      <td>최고 재밌네요 밑에 다들 경쟁작 알바에요꼭 보세요!!!두번보세요!!!이렇게 재밌는 ...</td>\n",
              "      <td>1</td>\n",
              "      <td>최고 재밌네요 밑에 다들 경쟁작 알바에요꼭 보세요두번보세요이렇게 재밌는 영화 놓치시...</td>\n",
              "      <td>최고 재밌다 밑 에 다 들다 경쟁 작 알바 에요 꼭 보다 두 번 보다 이렇게 재밌다...</td>\n",
              "    </tr>\n",
              "  </tbody>\n",
              "</table>\n",
              "</div>\n",
              "      <button class=\"colab-df-convert\" onclick=\"convertToInteractive('df-e7ea5e91-fa92-46bd-89ac-981d8c7b1b16')\"\n",
              "              title=\"Convert this dataframe to an interactive table.\"\n",
              "              style=\"display:none;\">\n",
              "        \n",
              "  <svg xmlns=\"http://www.w3.org/2000/svg\" height=\"24px\"viewBox=\"0 0 24 24\"\n",
              "       width=\"24px\">\n",
              "    <path d=\"M0 0h24v24H0V0z\" fill=\"none\"/>\n",
              "    <path d=\"M18.56 5.44l.94 2.06.94-2.06 2.06-.94-2.06-.94-.94-2.06-.94 2.06-2.06.94zm-11 1L8.5 8.5l.94-2.06 2.06-.94-2.06-.94L8.5 2.5l-.94 2.06-2.06.94zm10 10l.94 2.06.94-2.06 2.06-.94-2.06-.94-.94-2.06-.94 2.06-2.06.94z\"/><path d=\"M17.41 7.96l-1.37-1.37c-.4-.4-.92-.59-1.43-.59-.52 0-1.04.2-1.43.59L10.3 9.45l-7.72 7.72c-.78.78-.78 2.05 0 2.83L4 21.41c.39.39.9.59 1.41.59.51 0 1.02-.2 1.41-.59l7.78-7.78 2.81-2.81c.8-.78.8-2.07 0-2.86zM5.41 20L4 18.59l7.72-7.72 1.47 1.35L5.41 20z\"/>\n",
              "  </svg>\n",
              "      </button>\n",
              "      \n",
              "  <style>\n",
              "    .colab-df-container {\n",
              "      display:flex;\n",
              "      flex-wrap:wrap;\n",
              "      gap: 12px;\n",
              "    }\n",
              "\n",
              "    .colab-df-convert {\n",
              "      background-color: #E8F0FE;\n",
              "      border: none;\n",
              "      border-radius: 50%;\n",
              "      cursor: pointer;\n",
              "      display: none;\n",
              "      fill: #1967D2;\n",
              "      height: 32px;\n",
              "      padding: 0 0 0 0;\n",
              "      width: 32px;\n",
              "    }\n",
              "\n",
              "    .colab-df-convert:hover {\n",
              "      background-color: #E2EBFA;\n",
              "      box-shadow: 0px 1px 2px rgba(60, 64, 67, 0.3), 0px 1px 3px 1px rgba(60, 64, 67, 0.15);\n",
              "      fill: #174EA6;\n",
              "    }\n",
              "\n",
              "    [theme=dark] .colab-df-convert {\n",
              "      background-color: #3B4455;\n",
              "      fill: #D2E3FC;\n",
              "    }\n",
              "\n",
              "    [theme=dark] .colab-df-convert:hover {\n",
              "      background-color: #434B5C;\n",
              "      box-shadow: 0px 1px 3px 1px rgba(0, 0, 0, 0.15);\n",
              "      filter: drop-shadow(0px 1px 2px rgba(0, 0, 0, 0.3));\n",
              "      fill: #FFFFFF;\n",
              "    }\n",
              "  </style>\n",
              "\n",
              "      <script>\n",
              "        const buttonEl =\n",
              "          document.querySelector('#df-e7ea5e91-fa92-46bd-89ac-981d8c7b1b16 button.colab-df-convert');\n",
              "        buttonEl.style.display =\n",
              "          google.colab.kernel.accessAllowed ? 'block' : 'none';\n",
              "\n",
              "        async function convertToInteractive(key) {\n",
              "          const element = document.querySelector('#df-e7ea5e91-fa92-46bd-89ac-981d8c7b1b16');\n",
              "          const dataTable =\n",
              "            await google.colab.kernel.invokeFunction('convertToInteractive',\n",
              "                                                     [key], {});\n",
              "          if (!dataTable) return;\n",
              "\n",
              "          const docLinkHtml = 'Like what you see? Visit the ' +\n",
              "            '<a target=\"_blank\" href=https://colab.research.google.com/notebooks/data_table.ipynb>data table notebook</a>'\n",
              "            + ' to learn more about interactive tables.';\n",
              "          element.innerHTML = '';\n",
              "          dataTable['output_type'] = 'display_data';\n",
              "          await google.colab.output.renderOutput(dataTable, element);\n",
              "          const docLink = document.createElement('div');\n",
              "          docLink.innerHTML = docLinkHtml;\n",
              "          element.appendChild(docLink);\n",
              "        }\n",
              "      </script>\n",
              "    </div>\n",
              "  </div>\n",
              "  "
            ]
          },
          "metadata": {},
          "execution_count": 35
        }
      ]
    },
    {
      "cell_type": "markdown",
      "source": [
        "### 2-4. 품사 태깅(POP Tagging)\n",
        "- 품사 태깅: 주어진 텍스트를 형태소 단위로 나눈 뒤, 각 형태소에 해당 품사를 태깅하여 리스트화 하는 것"
      ],
      "metadata": {
        "id": "9gxAZ2IJytpm"
      }
    },
    {
      "cell_type": "code",
      "source": [
        "# 품사 태깅\n",
        "print(okt.pos(\"오늘도 열심히 재밌는 코딩을 해볼까? 같이 힘내서 자연어 처리 고수들이 됩시다! ㅎㅎ\"))"
      ],
      "metadata": {
        "colab": {
          "base_uri": "https://localhost:8080/"
        },
        "id": "_UfZqTegyhSl",
        "outputId": "0e177bc4-2ed9-41c4-bb5e-7a72e219fe71"
      },
      "execution_count": 36,
      "outputs": [
        {
          "output_type": "stream",
          "name": "stdout",
          "text": [
            "[('오늘', 'Noun'), ('도', 'Josa'), ('열심히', 'Adverb'), ('재밌는', 'Adjective'), ('코딩', 'Noun'), ('을', 'Josa'), ('해볼까', 'Verb'), ('?', 'Punctuation'), ('같이', 'Adverb'), ('힘내서', 'Verb'), ('자연어', 'Noun'), ('처리', 'Noun'), ('고수', 'Noun'), ('들', 'Suffix'), ('이', 'Josa'), ('됩시다', 'Verb'), ('!', 'Punctuation'), ('ㅎㅎ', 'KoreanParticle')]\n"
          ]
        }
      ]
    },
    {
      "cell_type": "code",
      "source": [
        "print(okt.pos(\"이것은 1점이 아니다 11점을 주고싶은 내 간절한 마음이다\"))"
      ],
      "metadata": {
        "colab": {
          "base_uri": "https://localhost:8080/"
        },
        "id": "mQka7DlmytfG",
        "outputId": "d69720e2-cbfe-4d7b-adcc-26db0fe59139"
      },
      "execution_count": 37,
      "outputs": [
        {
          "output_type": "stream",
          "name": "stdout",
          "text": [
            "[('이', 'Determiner'), ('것', 'Noun'), ('은', 'Josa'), ('1', 'Number'), ('점', 'Noun'), ('이', 'Josa'), ('아니다', 'Adjective'), ('11', 'Number'), ('점', 'Noun'), ('을', 'Josa'), ('주고싶은', 'Verb'), ('내', 'Noun'), ('간절한', 'Adjective'), ('마음', 'Noun'), ('이다', 'Josa')]\n"
          ]
        }
      ]
    },
    {
      "cell_type": "code",
      "source": [
        "# 명사 추출\n",
        "print(okt.nouns(\"오늘도 열심히 재밌는 코딩을 해볼까? 같이 힘내서 자연어 처리 고수들이 됩시다! ㅎㅎ\"))"
      ],
      "metadata": {
        "colab": {
          "base_uri": "https://localhost:8080/"
        },
        "id": "WCQAfDBwxjr2",
        "outputId": "9bfc9e1a-4aea-45e7-c363-394a11de3823"
      },
      "execution_count": 38,
      "outputs": [
        {
          "output_type": "stream",
          "name": "stdout",
          "text": [
            "['오늘', '코딩', '자연어', '처리', '고수']\n"
          ]
        }
      ]
    },
    {
      "cell_type": "code",
      "source": [
        "main_pos = []\n",
        "for sentence in train['document']:\n",
        "  pos = okt.pos(sentence)\n",
        "  main_words = [word_pos[0] for word_pos in pos if word_pos[1] in (\"Noun\", \"Adverb\", \"Adjective\", \"Verb\")]\n",
        "  main_words_str = \" \".join(main_words)\n",
        "  main_pos.append(main_words_str)\n",
        "train[\"main_pos\"] = pd.DataFrame(main_pos)\n",
        "\n",
        "train.head() "
      ],
      "metadata": {
        "colab": {
          "base_uri": "https://localhost:8080/",
          "height": 319
        },
        "id": "60-PcgmFzQd6",
        "outputId": "00e1a153-3d49-4d9c-9560-a09f38fb3441"
      },
      "execution_count": 40,
      "outputs": [
        {
          "output_type": "execute_result",
          "data": {
            "text/plain": [
              "    index                                           document  label  \\\n",
              "0  138275             감동적입니다. 저런 따뜻한 선생님들만 있으면 우리나라 엄청 발전하겠죠      1   \n",
              "1  148248  왠 영화난지도... 이 소모품에 자신의 이름이 들어 갔다는 것이 평생을 후회할 듯....      0   \n",
              "2    4033                                 똥파스틱. . . . 후. . .      0   \n",
              "3   38107                     재미만 있구만ㅋ 근데 전설이라는 것들이 비교적 약해보임      1   \n",
              "4   84018  최고 재밌네요 밑에 다들 경쟁작 알바에요꼭 보세요!!!두번보세요!!!이렇게 재밌는 ...      1   \n",
              "\n",
              "                                        preprocessed  \\\n",
              "0              감동적입니다 저런 따뜻한 선생님들만 있으면 우리나라 엄청 발전하겠죠   \n",
              "1  왠 영화난지도 이 소모품에 자신의 이름이 들어 갔다는 것이 평생을 후회할 듯 별의 ...   \n",
              "2                                            똥파스틱 후    \n",
              "3                     재미만 있구만ㅋ 근데 전설이라는 것들이 비교적 약해보임   \n",
              "4  최고 재밌네요 밑에 다들 경쟁작 알바에요꼭 보세요두번보세요이렇게 재밌는 영화 놓치시...   \n",
              "\n",
              "                                      tokenized_stem  \\\n",
              "0           감동 적 이다 저런 따뜻하다 선생님 들 만 있다 우리나라 엄청 발전 하다   \n",
              "1  왠 영화 난지도 이 소모품 에 자신 의 이름 이 들다 가다 것 이 평생 을 후회 하...   \n",
              "2                                           똥 파스 틱 후   \n",
              "3              재미 만 있다 ㅋ 근데 전설 이라는 것 들 이 비교 적 약하다 보임   \n",
              "4  최고 재밌다 밑 에 다 들다 경쟁 작 알바 에요 꼭 보다 두 번 보다 이렇게 재밌다...   \n",
              "\n",
              "                                            main_pos  \n",
              "0               감동 입니다 저런 따뜻한 선생님 있으면 우리나라 엄청 발전 하겠죠  \n",
              "1  영화 난지도 이 소모품 자신 이름 들어 갔다는 것 평생 후회 할 듯 별 반쪽 너무 ...  \n",
              "2                                             똥 파스 후  \n",
              "3                            재미 있구만 근데 전설 것 비교 약해 보임  \n",
              "4  최고 재밌네요 밑 다 들 경쟁 작 알바 꼭 보세요 번 보세요 이렇게 재밌는 영화 놓...  "
            ],
            "text/html": [
              "\n",
              "  <div id=\"df-60f1a585-40e9-434b-84b0-594e8dfb3ad5\">\n",
              "    <div class=\"colab-df-container\">\n",
              "      <div>\n",
              "<style scoped>\n",
              "    .dataframe tbody tr th:only-of-type {\n",
              "        vertical-align: middle;\n",
              "    }\n",
              "\n",
              "    .dataframe tbody tr th {\n",
              "        vertical-align: top;\n",
              "    }\n",
              "\n",
              "    .dataframe thead th {\n",
              "        text-align: right;\n",
              "    }\n",
              "</style>\n",
              "<table border=\"1\" class=\"dataframe\">\n",
              "  <thead>\n",
              "    <tr style=\"text-align: right;\">\n",
              "      <th></th>\n",
              "      <th>index</th>\n",
              "      <th>document</th>\n",
              "      <th>label</th>\n",
              "      <th>preprocessed</th>\n",
              "      <th>tokenized_stem</th>\n",
              "      <th>main_pos</th>\n",
              "    </tr>\n",
              "  </thead>\n",
              "  <tbody>\n",
              "    <tr>\n",
              "      <th>0</th>\n",
              "      <td>138275</td>\n",
              "      <td>감동적입니다. 저런 따뜻한 선생님들만 있으면 우리나라 엄청 발전하겠죠</td>\n",
              "      <td>1</td>\n",
              "      <td>감동적입니다 저런 따뜻한 선생님들만 있으면 우리나라 엄청 발전하겠죠</td>\n",
              "      <td>감동 적 이다 저런 따뜻하다 선생님 들 만 있다 우리나라 엄청 발전 하다</td>\n",
              "      <td>감동 입니다 저런 따뜻한 선생님 있으면 우리나라 엄청 발전 하겠죠</td>\n",
              "    </tr>\n",
              "    <tr>\n",
              "      <th>1</th>\n",
              "      <td>148248</td>\n",
              "      <td>왠 영화난지도... 이 소모품에 자신의 이름이 들어 갔다는 것이 평생을 후회할 듯....</td>\n",
              "      <td>0</td>\n",
              "      <td>왠 영화난지도 이 소모품에 자신의 이름이 들어 갔다는 것이 평생을 후회할 듯 별의 ...</td>\n",
              "      <td>왠 영화 난지도 이 소모품 에 자신 의 이름 이 들다 가다 것 이 평생 을 후회 하...</td>\n",
              "      <td>영화 난지도 이 소모품 자신 이름 들어 갔다는 것 평생 후회 할 듯 별 반쪽 너무 ...</td>\n",
              "    </tr>\n",
              "    <tr>\n",
              "      <th>2</th>\n",
              "      <td>4033</td>\n",
              "      <td>똥파스틱. . . . 후. . .</td>\n",
              "      <td>0</td>\n",
              "      <td>똥파스틱 후</td>\n",
              "      <td>똥 파스 틱 후</td>\n",
              "      <td>똥 파스 후</td>\n",
              "    </tr>\n",
              "    <tr>\n",
              "      <th>3</th>\n",
              "      <td>38107</td>\n",
              "      <td>재미만 있구만ㅋ 근데 전설이라는 것들이 비교적 약해보임</td>\n",
              "      <td>1</td>\n",
              "      <td>재미만 있구만ㅋ 근데 전설이라는 것들이 비교적 약해보임</td>\n",
              "      <td>재미 만 있다 ㅋ 근데 전설 이라는 것 들 이 비교 적 약하다 보임</td>\n",
              "      <td>재미 있구만 근데 전설 것 비교 약해 보임</td>\n",
              "    </tr>\n",
              "    <tr>\n",
              "      <th>4</th>\n",
              "      <td>84018</td>\n",
              "      <td>최고 재밌네요 밑에 다들 경쟁작 알바에요꼭 보세요!!!두번보세요!!!이렇게 재밌는 ...</td>\n",
              "      <td>1</td>\n",
              "      <td>최고 재밌네요 밑에 다들 경쟁작 알바에요꼭 보세요두번보세요이렇게 재밌는 영화 놓치시...</td>\n",
              "      <td>최고 재밌다 밑 에 다 들다 경쟁 작 알바 에요 꼭 보다 두 번 보다 이렇게 재밌다...</td>\n",
              "      <td>최고 재밌네요 밑 다 들 경쟁 작 알바 꼭 보세요 번 보세요 이렇게 재밌는 영화 놓...</td>\n",
              "    </tr>\n",
              "  </tbody>\n",
              "</table>\n",
              "</div>\n",
              "      <button class=\"colab-df-convert\" onclick=\"convertToInteractive('df-60f1a585-40e9-434b-84b0-594e8dfb3ad5')\"\n",
              "              title=\"Convert this dataframe to an interactive table.\"\n",
              "              style=\"display:none;\">\n",
              "        \n",
              "  <svg xmlns=\"http://www.w3.org/2000/svg\" height=\"24px\"viewBox=\"0 0 24 24\"\n",
              "       width=\"24px\">\n",
              "    <path d=\"M0 0h24v24H0V0z\" fill=\"none\"/>\n",
              "    <path d=\"M18.56 5.44l.94 2.06.94-2.06 2.06-.94-2.06-.94-.94-2.06-.94 2.06-2.06.94zm-11 1L8.5 8.5l.94-2.06 2.06-.94-2.06-.94L8.5 2.5l-.94 2.06-2.06.94zm10 10l.94 2.06.94-2.06 2.06-.94-2.06-.94-.94-2.06-.94 2.06-2.06.94z\"/><path d=\"M17.41 7.96l-1.37-1.37c-.4-.4-.92-.59-1.43-.59-.52 0-1.04.2-1.43.59L10.3 9.45l-7.72 7.72c-.78.78-.78 2.05 0 2.83L4 21.41c.39.39.9.59 1.41.59.51 0 1.02-.2 1.41-.59l7.78-7.78 2.81-2.81c.8-.78.8-2.07 0-2.86zM5.41 20L4 18.59l7.72-7.72 1.47 1.35L5.41 20z\"/>\n",
              "  </svg>\n",
              "      </button>\n",
              "      \n",
              "  <style>\n",
              "    .colab-df-container {\n",
              "      display:flex;\n",
              "      flex-wrap:wrap;\n",
              "      gap: 12px;\n",
              "    }\n",
              "\n",
              "    .colab-df-convert {\n",
              "      background-color: #E8F0FE;\n",
              "      border: none;\n",
              "      border-radius: 50%;\n",
              "      cursor: pointer;\n",
              "      display: none;\n",
              "      fill: #1967D2;\n",
              "      height: 32px;\n",
              "      padding: 0 0 0 0;\n",
              "      width: 32px;\n",
              "    }\n",
              "\n",
              "    .colab-df-convert:hover {\n",
              "      background-color: #E2EBFA;\n",
              "      box-shadow: 0px 1px 2px rgba(60, 64, 67, 0.3), 0px 1px 3px 1px rgba(60, 64, 67, 0.15);\n",
              "      fill: #174EA6;\n",
              "    }\n",
              "\n",
              "    [theme=dark] .colab-df-convert {\n",
              "      background-color: #3B4455;\n",
              "      fill: #D2E3FC;\n",
              "    }\n",
              "\n",
              "    [theme=dark] .colab-df-convert:hover {\n",
              "      background-color: #434B5C;\n",
              "      box-shadow: 0px 1px 3px 1px rgba(0, 0, 0, 0.15);\n",
              "      filter: drop-shadow(0px 1px 2px rgba(0, 0, 0, 0.3));\n",
              "      fill: #FFFFFF;\n",
              "    }\n",
              "  </style>\n",
              "\n",
              "      <script>\n",
              "        const buttonEl =\n",
              "          document.querySelector('#df-60f1a585-40e9-434b-84b0-594e8dfb3ad5 button.colab-df-convert');\n",
              "        buttonEl.style.display =\n",
              "          google.colab.kernel.accessAllowed ? 'block' : 'none';\n",
              "\n",
              "        async function convertToInteractive(key) {\n",
              "          const element = document.querySelector('#df-60f1a585-40e9-434b-84b0-594e8dfb3ad5');\n",
              "          const dataTable =\n",
              "            await google.colab.kernel.invokeFunction('convertToInteractive',\n",
              "                                                     [key], {});\n",
              "          if (!dataTable) return;\n",
              "\n",
              "          const docLinkHtml = 'Like what you see? Visit the ' +\n",
              "            '<a target=\"_blank\" href=https://colab.research.google.com/notebooks/data_table.ipynb>data table notebook</a>'\n",
              "            + ' to learn more about interactive tables.';\n",
              "          element.innerHTML = '';\n",
              "          dataTable['output_type'] = 'display_data';\n",
              "          await google.colab.output.renderOutput(dataTable, element);\n",
              "          const docLink = document.createElement('div');\n",
              "          docLink.innerHTML = docLinkHtml;\n",
              "          element.appendChild(docLink);\n",
              "        }\n",
              "      </script>\n",
              "    </div>\n",
              "  </div>\n",
              "  "
            ]
          },
          "metadata": {},
          "execution_count": 40
        }
      ]
    },
    {
      "cell_type": "markdown",
      "source": [
        "마지막에 생성된 main_pos 칼럼을 이용해 모델 학습\n",
        "\n",
        "## 3. 모델링"
      ],
      "metadata": {
        "id": "af8CUu7b1HUx"
      }
    },
    {
      "cell_type": "code",
      "source": [
        "X_train = train.main_pos\n",
        "y_train = train.label"
      ],
      "metadata": {
        "id": "p5-PPJw6094b"
      },
      "execution_count": 41,
      "outputs": []
    },
    {
      "cell_type": "markdown",
      "source": [
        "### 3.1 검증 데이터셋 전처리\n",
        "먼저 검증 셋 val에 train 셋과 동일한 전처리 과정을 거쳐줍니다."
      ],
      "metadata": {
        "id": "1OrN1LUL1Yp6"
      }
    },
    {
      "cell_type": "code",
      "source": [
        "val['preprocessed'] = val['document'].str.replace(\"[^ㄱ-ㅎㅏ-ㅣ가-힣 ]\", \"\")\n",
        "val['preprocessed'] = val['preprocessed'].str.replace(\"[ +]\", \" \")\n",
        "\n",
        "tokenized = []\n",
        "for sentence in val['preprocessed']:\n",
        "  tokens = okt.morphs(sentence)\n",
        "  tokenize = \" \".join(tokens)\n",
        "  tokenized.append(tokenize)\n",
        "val['tokenized_stem'] = pd.DataFrame(tokenized)\n",
        "\n",
        "main_pos = []\n",
        "for sentence in val['document']:\n",
        "  pos = okt.pos(sentence)\n",
        "  main_words = [word_pos[0] for word_pos in pos if word_pos[1] in (\"Noun\", \"Adverb\", \"Adjective\", \"Verb\")]\n",
        "  main_words_str = \" \".join(main_words)\n",
        "  main_pos.append(main_words_str)\n",
        "val[\"main_pos\"] = pd.DataFrame(main_pos)\n",
        "val.head()"
      ],
      "metadata": {
        "colab": {
          "base_uri": "https://localhost:8080/",
          "height": 280
        },
        "id": "EgNwScqE1XFi",
        "outputId": "b3dce80c-1085-4144-fd16-19e1bf704b35"
      },
      "execution_count": 47,
      "outputs": [
        {
          "output_type": "stream",
          "name": "stderr",
          "text": [
            "<ipython-input-47-b5bf1a72a988>:1: FutureWarning: The default value of regex will change from True to False in a future version.\n",
            "  val['preprocessed'] = val['document'].str.replace(\"[^ㄱ-ㅎㅏ-ㅣ가-힣 ]\", \"\")\n",
            "<ipython-input-47-b5bf1a72a988>:2: FutureWarning: The default value of regex will change from True to False in a future version.\n",
            "  val['preprocessed'] = val['preprocessed'].str.replace(\"[ +]\", \" \")\n"
          ]
        },
        {
          "output_type": "execute_result",
          "data": {
            "text/plain": [
              "                                                 document  label  \\\n",
              "116785                                            엄......      0   \n",
              "129766             마이너스 별은 없녜 ㅋㅋㅋㅋㅋㅋㅋ 진짜 인내심 필요한 영화네요 ㅋㅋㅋ      0   \n",
              "90422                                        여운이 남는다 ....      1   \n",
              "77639                           요즘들어 질질 끄는게 보여서 재미가업어여...      0   \n",
              "24621   만점까진아니고.. 일단 이건 개봉후부터 지금까지 7번인가봤는데 볼때마다 새로운거같음...      1   \n",
              "\n",
              "                                             preprocessed tokenized_stem  \\\n",
              "116785                                                  엄            NaN   \n",
              "129766             마이너스 별은 없녜 ㅋㅋㅋㅋㅋㅋㅋ 진짜 인내심 필요한 영화네요 ㅋㅋㅋ            NaN   \n",
              "90422                                            여운이 남는다             NaN   \n",
              "77639                              요즘들어 질질 끄는게 보여서 재미가업어여            NaN   \n",
              "24621   만점까진아니고 일단 이건 개봉후부터 지금까지 번인가봤는데 볼때마다 새로운거같음 연기...    진짜 재밌게 봄 ㅋㅋ   \n",
              "\n",
              "        main_pos  \n",
              "116785       NaN  \n",
              "129766       NaN  \n",
              "90422        NaN  \n",
              "77639        NaN  \n",
              "24621   진짜 재밌게 봄  "
            ],
            "text/html": [
              "\n",
              "  <div id=\"df-0eb8c62e-1761-4f6d-8d45-31e59c506799\">\n",
              "    <div class=\"colab-df-container\">\n",
              "      <div>\n",
              "<style scoped>\n",
              "    .dataframe tbody tr th:only-of-type {\n",
              "        vertical-align: middle;\n",
              "    }\n",
              "\n",
              "    .dataframe tbody tr th {\n",
              "        vertical-align: top;\n",
              "    }\n",
              "\n",
              "    .dataframe thead th {\n",
              "        text-align: right;\n",
              "    }\n",
              "</style>\n",
              "<table border=\"1\" class=\"dataframe\">\n",
              "  <thead>\n",
              "    <tr style=\"text-align: right;\">\n",
              "      <th></th>\n",
              "      <th>document</th>\n",
              "      <th>label</th>\n",
              "      <th>preprocessed</th>\n",
              "      <th>tokenized_stem</th>\n",
              "      <th>main_pos</th>\n",
              "    </tr>\n",
              "  </thead>\n",
              "  <tbody>\n",
              "    <tr>\n",
              "      <th>116785</th>\n",
              "      <td>엄......</td>\n",
              "      <td>0</td>\n",
              "      <td>엄</td>\n",
              "      <td>NaN</td>\n",
              "      <td>NaN</td>\n",
              "    </tr>\n",
              "    <tr>\n",
              "      <th>129766</th>\n",
              "      <td>마이너스 별은 없녜 ㅋㅋㅋㅋㅋㅋㅋ 진짜 인내심 필요한 영화네요 ㅋㅋㅋ</td>\n",
              "      <td>0</td>\n",
              "      <td>마이너스 별은 없녜 ㅋㅋㅋㅋㅋㅋㅋ 진짜 인내심 필요한 영화네요 ㅋㅋㅋ</td>\n",
              "      <td>NaN</td>\n",
              "      <td>NaN</td>\n",
              "    </tr>\n",
              "    <tr>\n",
              "      <th>90422</th>\n",
              "      <td>여운이 남는다 ....</td>\n",
              "      <td>1</td>\n",
              "      <td>여운이 남는다</td>\n",
              "      <td>NaN</td>\n",
              "      <td>NaN</td>\n",
              "    </tr>\n",
              "    <tr>\n",
              "      <th>77639</th>\n",
              "      <td>요즘들어 질질 끄는게 보여서 재미가업어여...</td>\n",
              "      <td>0</td>\n",
              "      <td>요즘들어 질질 끄는게 보여서 재미가업어여</td>\n",
              "      <td>NaN</td>\n",
              "      <td>NaN</td>\n",
              "    </tr>\n",
              "    <tr>\n",
              "      <th>24621</th>\n",
              "      <td>만점까진아니고.. 일단 이건 개봉후부터 지금까지 7번인가봤는데 볼때마다 새로운거같음...</td>\n",
              "      <td>1</td>\n",
              "      <td>만점까진아니고 일단 이건 개봉후부터 지금까지 번인가봤는데 볼때마다 새로운거같음 연기...</td>\n",
              "      <td>진짜 재밌게 봄 ㅋㅋ</td>\n",
              "      <td>진짜 재밌게 봄</td>\n",
              "    </tr>\n",
              "  </tbody>\n",
              "</table>\n",
              "</div>\n",
              "      <button class=\"colab-df-convert\" onclick=\"convertToInteractive('df-0eb8c62e-1761-4f6d-8d45-31e59c506799')\"\n",
              "              title=\"Convert this dataframe to an interactive table.\"\n",
              "              style=\"display:none;\">\n",
              "        \n",
              "  <svg xmlns=\"http://www.w3.org/2000/svg\" height=\"24px\"viewBox=\"0 0 24 24\"\n",
              "       width=\"24px\">\n",
              "    <path d=\"M0 0h24v24H0V0z\" fill=\"none\"/>\n",
              "    <path d=\"M18.56 5.44l.94 2.06.94-2.06 2.06-.94-2.06-.94-.94-2.06-.94 2.06-2.06.94zm-11 1L8.5 8.5l.94-2.06 2.06-.94-2.06-.94L8.5 2.5l-.94 2.06-2.06.94zm10 10l.94 2.06.94-2.06 2.06-.94-2.06-.94-.94-2.06-.94 2.06-2.06.94z\"/><path d=\"M17.41 7.96l-1.37-1.37c-.4-.4-.92-.59-1.43-.59-.52 0-1.04.2-1.43.59L10.3 9.45l-7.72 7.72c-.78.78-.78 2.05 0 2.83L4 21.41c.39.39.9.59 1.41.59.51 0 1.02-.2 1.41-.59l7.78-7.78 2.81-2.81c.8-.78.8-2.07 0-2.86zM5.41 20L4 18.59l7.72-7.72 1.47 1.35L5.41 20z\"/>\n",
              "  </svg>\n",
              "      </button>\n",
              "      \n",
              "  <style>\n",
              "    .colab-df-container {\n",
              "      display:flex;\n",
              "      flex-wrap:wrap;\n",
              "      gap: 12px;\n",
              "    }\n",
              "\n",
              "    .colab-df-convert {\n",
              "      background-color: #E8F0FE;\n",
              "      border: none;\n",
              "      border-radius: 50%;\n",
              "      cursor: pointer;\n",
              "      display: none;\n",
              "      fill: #1967D2;\n",
              "      height: 32px;\n",
              "      padding: 0 0 0 0;\n",
              "      width: 32px;\n",
              "    }\n",
              "\n",
              "    .colab-df-convert:hover {\n",
              "      background-color: #E2EBFA;\n",
              "      box-shadow: 0px 1px 2px rgba(60, 64, 67, 0.3), 0px 1px 3px 1px rgba(60, 64, 67, 0.15);\n",
              "      fill: #174EA6;\n",
              "    }\n",
              "\n",
              "    [theme=dark] .colab-df-convert {\n",
              "      background-color: #3B4455;\n",
              "      fill: #D2E3FC;\n",
              "    }\n",
              "\n",
              "    [theme=dark] .colab-df-convert:hover {\n",
              "      background-color: #434B5C;\n",
              "      box-shadow: 0px 1px 3px 1px rgba(0, 0, 0, 0.15);\n",
              "      filter: drop-shadow(0px 1px 2px rgba(0, 0, 0, 0.3));\n",
              "      fill: #FFFFFF;\n",
              "    }\n",
              "  </style>\n",
              "\n",
              "      <script>\n",
              "        const buttonEl =\n",
              "          document.querySelector('#df-0eb8c62e-1761-4f6d-8d45-31e59c506799 button.colab-df-convert');\n",
              "        buttonEl.style.display =\n",
              "          google.colab.kernel.accessAllowed ? 'block' : 'none';\n",
              "\n",
              "        async function convertToInteractive(key) {\n",
              "          const element = document.querySelector('#df-0eb8c62e-1761-4f6d-8d45-31e59c506799');\n",
              "          const dataTable =\n",
              "            await google.colab.kernel.invokeFunction('convertToInteractive',\n",
              "                                                     [key], {});\n",
              "          if (!dataTable) return;\n",
              "\n",
              "          const docLinkHtml = 'Like what you see? Visit the ' +\n",
              "            '<a target=\"_blank\" href=https://colab.research.google.com/notebooks/data_table.ipynb>data table notebook</a>'\n",
              "            + ' to learn more about interactive tables.';\n",
              "          element.innerHTML = '';\n",
              "          dataTable['output_type'] = 'display_data';\n",
              "          await google.colab.output.renderOutput(dataTable, element);\n",
              "          const docLink = document.createElement('div');\n",
              "          docLink.innerHTML = docLinkHtml;\n",
              "          element.appendChild(docLink);\n",
              "        }\n",
              "      </script>\n",
              "    </div>\n",
              "  </div>\n",
              "  "
            ]
          },
          "metadata": {},
          "execution_count": 47
        }
      ]
    },
    {
      "cell_type": "markdown",
      "source": [
        "### 3-2. LogisticRegression 모델 정의"
      ],
      "metadata": {
        "id": "MZJAlJOg30yM"
      }
    },
    {
      "cell_type": "code",
      "source": [
        "from sklearn.feature_extraction.text import CountVectorizer\n",
        "\n",
        "vectorizer = CountVectorizer() # countvectorizer 생성\n",
        "vectorizer.fit(X_train) # countvectorizer 학습\n",
        "X_train_vec = vectorizer.transform(X_train) # transform"
      ],
      "metadata": {
        "id": "3z-_haJN1TMV"
      },
      "execution_count": 49,
      "outputs": []
    },
    {
      "cell_type": "markdown",
      "source": [
        "# 3-3. 모델 학습"
      ],
      "metadata": {
        "id": "Kp8omIay4G2r"
      }
    },
    {
      "cell_type": "code",
      "source": [
        "from sklearn.linear_model import LogisticRegression #모델 불러오기\n",
        "\n",
        "model = LogisticRegression()\n",
        "model.fit(X_train_vec, y_train) # 모델 학습"
      ],
      "metadata": {
        "colab": {
          "base_uri": "https://localhost:8080/"
        },
        "id": "lDis7-Ti34tI",
        "outputId": "3d243f30-b6f9-4239-adac-436f7e8eda81"
      },
      "execution_count": 50,
      "outputs": [
        {
          "output_type": "stream",
          "name": "stderr",
          "text": [
            "/usr/local/lib/python3.8/dist-packages/sklearn/linear_model/_logistic.py:814: ConvergenceWarning: lbfgs failed to converge (status=1):\n",
            "STOP: TOTAL NO. of ITERATIONS REACHED LIMIT.\n",
            "\n",
            "Increase the number of iterations (max_iter) or scale the data as shown in:\n",
            "    https://scikit-learn.org/stable/modules/preprocessing.html\n",
            "Please also refer to the documentation for alternative solver options:\n",
            "    https://scikit-learn.org/stable/modules/linear_model.html#logistic-regression\n",
            "  n_iter_i = _check_optimize_result(\n"
          ]
        },
        {
          "output_type": "execute_result",
          "data": {
            "text/plain": [
              "LogisticRegression()"
            ]
          },
          "metadata": {},
          "execution_count": 50
        }
      ]
    },
    {
      "cell_type": "code",
      "source": [
        "# 학습한 모델로 에측할 X를 벡터화 진행\n",
        "X_val = val.main_pos\n",
        "y_val = val.label\n",
        "\n",
        "X_val_vec = vectorizer.transform(X_val) # train셋으로 fit한 벡터라이저 이용해 transform"
      ],
      "metadata": {
        "colab": {
          "base_uri": "https://localhost:8080/",
          "height": 364
        },
        "id": "wOSX8cKT4Kq1",
        "outputId": "9c4cf869-0b38-4b0b-e357-40794ccf5e16"
      },
      "execution_count": 52,
      "outputs": [
        {
          "output_type": "error",
          "ename": "ValueError",
          "evalue": "ignored",
          "traceback": [
            "\u001b[0;31m---------------------------------------------------------------------------\u001b[0m",
            "\u001b[0;31mValueError\u001b[0m                                Traceback (most recent call last)",
            "\u001b[0;32m<ipython-input-52-4581395395ba>\u001b[0m in \u001b[0;36m<module>\u001b[0;34m\u001b[0m\n\u001b[1;32m      3\u001b[0m \u001b[0my_val\u001b[0m \u001b[0;34m=\u001b[0m \u001b[0mval\u001b[0m\u001b[0;34m.\u001b[0m\u001b[0mlabel\u001b[0m\u001b[0;34m\u001b[0m\u001b[0;34m\u001b[0m\u001b[0m\n\u001b[1;32m      4\u001b[0m \u001b[0;34m\u001b[0m\u001b[0m\n\u001b[0;32m----> 5\u001b[0;31m \u001b[0mX_val_vec\u001b[0m \u001b[0;34m=\u001b[0m \u001b[0mvectorizer\u001b[0m\u001b[0;34m.\u001b[0m\u001b[0mtransform\u001b[0m\u001b[0;34m(\u001b[0m\u001b[0mX_val\u001b[0m\u001b[0;34m)\u001b[0m \u001b[0;31m# train셋으로 fit한 벡터라이저 이용해 transform\u001b[0m\u001b[0;34m\u001b[0m\u001b[0;34m\u001b[0m\u001b[0m\n\u001b[0m",
            "\u001b[0;32m/usr/local/lib/python3.8/dist-packages/sklearn/feature_extraction/text.py\u001b[0m in \u001b[0;36mtransform\u001b[0;34m(self, raw_documents)\u001b[0m\n\u001b[1;32m   1377\u001b[0m \u001b[0;34m\u001b[0m\u001b[0m\n\u001b[1;32m   1378\u001b[0m         \u001b[0;31m# use the same matrix-building strategy as fit_transform\u001b[0m\u001b[0;34m\u001b[0m\u001b[0;34m\u001b[0m\u001b[0;34m\u001b[0m\u001b[0m\n\u001b[0;32m-> 1379\u001b[0;31m         \u001b[0m_\u001b[0m\u001b[0;34m,\u001b[0m \u001b[0mX\u001b[0m \u001b[0;34m=\u001b[0m \u001b[0mself\u001b[0m\u001b[0;34m.\u001b[0m\u001b[0m_count_vocab\u001b[0m\u001b[0;34m(\u001b[0m\u001b[0mraw_documents\u001b[0m\u001b[0;34m,\u001b[0m \u001b[0mfixed_vocab\u001b[0m\u001b[0;34m=\u001b[0m\u001b[0;32mTrue\u001b[0m\u001b[0;34m)\u001b[0m\u001b[0;34m\u001b[0m\u001b[0;34m\u001b[0m\u001b[0m\n\u001b[0m\u001b[1;32m   1380\u001b[0m         \u001b[0;32mif\u001b[0m \u001b[0mself\u001b[0m\u001b[0;34m.\u001b[0m\u001b[0mbinary\u001b[0m\u001b[0;34m:\u001b[0m\u001b[0;34m\u001b[0m\u001b[0;34m\u001b[0m\u001b[0m\n\u001b[1;32m   1381\u001b[0m             \u001b[0mX\u001b[0m\u001b[0;34m.\u001b[0m\u001b[0mdata\u001b[0m\u001b[0;34m.\u001b[0m\u001b[0mfill\u001b[0m\u001b[0;34m(\u001b[0m\u001b[0;36m1\u001b[0m\u001b[0;34m)\u001b[0m\u001b[0;34m\u001b[0m\u001b[0;34m\u001b[0m\u001b[0m\n",
            "\u001b[0;32m/usr/local/lib/python3.8/dist-packages/sklearn/feature_extraction/text.py\u001b[0m in \u001b[0;36m_count_vocab\u001b[0;34m(self, raw_documents, fixed_vocab)\u001b[0m\n\u001b[1;32m   1199\u001b[0m         \u001b[0;32mfor\u001b[0m \u001b[0mdoc\u001b[0m \u001b[0;32min\u001b[0m \u001b[0mraw_documents\u001b[0m\u001b[0;34m:\u001b[0m\u001b[0;34m\u001b[0m\u001b[0;34m\u001b[0m\u001b[0m\n\u001b[1;32m   1200\u001b[0m             \u001b[0mfeature_counter\u001b[0m \u001b[0;34m=\u001b[0m \u001b[0;34m{\u001b[0m\u001b[0;34m}\u001b[0m\u001b[0;34m\u001b[0m\u001b[0;34m\u001b[0m\u001b[0m\n\u001b[0;32m-> 1201\u001b[0;31m             \u001b[0;32mfor\u001b[0m \u001b[0mfeature\u001b[0m \u001b[0;32min\u001b[0m \u001b[0manalyze\u001b[0m\u001b[0;34m(\u001b[0m\u001b[0mdoc\u001b[0m\u001b[0;34m)\u001b[0m\u001b[0;34m:\u001b[0m\u001b[0;34m\u001b[0m\u001b[0;34m\u001b[0m\u001b[0m\n\u001b[0m\u001b[1;32m   1202\u001b[0m                 \u001b[0;32mtry\u001b[0m\u001b[0;34m:\u001b[0m\u001b[0;34m\u001b[0m\u001b[0;34m\u001b[0m\u001b[0m\n\u001b[1;32m   1203\u001b[0m                     \u001b[0mfeature_idx\u001b[0m \u001b[0;34m=\u001b[0m \u001b[0mvocabulary\u001b[0m\u001b[0;34m[\u001b[0m\u001b[0mfeature\u001b[0m\u001b[0;34m]\u001b[0m\u001b[0;34m\u001b[0m\u001b[0;34m\u001b[0m\u001b[0m\n",
            "\u001b[0;32m/usr/local/lib/python3.8/dist-packages/sklearn/feature_extraction/text.py\u001b[0m in \u001b[0;36m_analyze\u001b[0;34m(doc, analyzer, tokenizer, ngrams, preprocessor, decoder, stop_words)\u001b[0m\n\u001b[1;32m    106\u001b[0m \u001b[0;34m\u001b[0m\u001b[0m\n\u001b[1;32m    107\u001b[0m     \u001b[0;32mif\u001b[0m \u001b[0mdecoder\u001b[0m \u001b[0;32mis\u001b[0m \u001b[0;32mnot\u001b[0m \u001b[0;32mNone\u001b[0m\u001b[0;34m:\u001b[0m\u001b[0;34m\u001b[0m\u001b[0;34m\u001b[0m\u001b[0m\n\u001b[0;32m--> 108\u001b[0;31m         \u001b[0mdoc\u001b[0m \u001b[0;34m=\u001b[0m \u001b[0mdecoder\u001b[0m\u001b[0;34m(\u001b[0m\u001b[0mdoc\u001b[0m\u001b[0;34m)\u001b[0m\u001b[0;34m\u001b[0m\u001b[0;34m\u001b[0m\u001b[0m\n\u001b[0m\u001b[1;32m    109\u001b[0m     \u001b[0;32mif\u001b[0m \u001b[0manalyzer\u001b[0m \u001b[0;32mis\u001b[0m \u001b[0;32mnot\u001b[0m \u001b[0;32mNone\u001b[0m\u001b[0;34m:\u001b[0m\u001b[0;34m\u001b[0m\u001b[0;34m\u001b[0m\u001b[0m\n\u001b[1;32m    110\u001b[0m         \u001b[0mdoc\u001b[0m \u001b[0;34m=\u001b[0m \u001b[0manalyzer\u001b[0m\u001b[0;34m(\u001b[0m\u001b[0mdoc\u001b[0m\u001b[0;34m)\u001b[0m\u001b[0;34m\u001b[0m\u001b[0;34m\u001b[0m\u001b[0m\n",
            "\u001b[0;32m/usr/local/lib/python3.8/dist-packages/sklearn/feature_extraction/text.py\u001b[0m in \u001b[0;36mdecode\u001b[0;34m(self, doc)\u001b[0m\n\u001b[1;32m    224\u001b[0m \u001b[0;34m\u001b[0m\u001b[0m\n\u001b[1;32m    225\u001b[0m         \u001b[0;32mif\u001b[0m \u001b[0mdoc\u001b[0m \u001b[0;32mis\u001b[0m \u001b[0mnp\u001b[0m\u001b[0;34m.\u001b[0m\u001b[0mnan\u001b[0m\u001b[0;34m:\u001b[0m\u001b[0;34m\u001b[0m\u001b[0;34m\u001b[0m\u001b[0m\n\u001b[0;32m--> 226\u001b[0;31m             raise ValueError(\n\u001b[0m\u001b[1;32m    227\u001b[0m                 \u001b[0;34m\"np.nan is an invalid document, expected byte or unicode string.\"\u001b[0m\u001b[0;34m\u001b[0m\u001b[0;34m\u001b[0m\u001b[0m\n\u001b[1;32m    228\u001b[0m             )\n",
            "\u001b[0;31mValueError\u001b[0m: np.nan is an invalid document, expected byte or unicode string."
          ]
        }
      ]
    },
    {
      "cell_type": "markdown",
      "source": [
        "### 3-4. 모델 예측"
      ],
      "metadata": {
        "id": "KDTRfRas4rXB"
      }
    },
    {
      "cell_type": "code",
      "source": [
        "y_pred = model.predict(X_val_vec)\n",
        "print(y_pred)\n",
        "\n",
        "# 0:negative 1:positive"
      ],
      "metadata": {
        "colab": {
          "base_uri": "https://localhost:8080/",
          "height": 230
        },
        "id": "lOZatLn84qQ-",
        "outputId": "e4bdb63a-56bd-44f7-8260-a6d1ade1cd52"
      },
      "execution_count": 53,
      "outputs": [
        {
          "output_type": "error",
          "ename": "NameError",
          "evalue": "ignored",
          "traceback": [
            "\u001b[0;31m---------------------------------------------------------------------------\u001b[0m",
            "\u001b[0;31mNameError\u001b[0m                                 Traceback (most recent call last)",
            "\u001b[0;32m<ipython-input-53-993f7b5330d0>\u001b[0m in \u001b[0;36m<module>\u001b[0;34m\u001b[0m\n\u001b[0;32m----> 1\u001b[0;31m \u001b[0my_pred\u001b[0m \u001b[0;34m=\u001b[0m \u001b[0mmodel\u001b[0m\u001b[0;34m.\u001b[0m\u001b[0mpredict\u001b[0m\u001b[0;34m(\u001b[0m\u001b[0mX_val_vec\u001b[0m\u001b[0;34m)\u001b[0m\u001b[0;34m\u001b[0m\u001b[0;34m\u001b[0m\u001b[0m\n\u001b[0m\u001b[1;32m      2\u001b[0m \u001b[0mprint\u001b[0m\u001b[0;34m(\u001b[0m\u001b[0my_pred\u001b[0m\u001b[0;34m)\u001b[0m\u001b[0;34m\u001b[0m\u001b[0;34m\u001b[0m\u001b[0m\n\u001b[1;32m      3\u001b[0m \u001b[0;34m\u001b[0m\u001b[0m\n\u001b[1;32m      4\u001b[0m \u001b[0;31m# 0:negative 1:positive\u001b[0m\u001b[0;34m\u001b[0m\u001b[0;34m\u001b[0m\u001b[0;34m\u001b[0m\u001b[0m\n",
            "\u001b[0;31mNameError\u001b[0m: name 'X_val_vec' is not defined"
          ]
        }
      ]
    },
    {
      "cell_type": "markdown",
      "source": [
        "### 3-5. 검증"
      ],
      "metadata": {
        "id": "5LURsfHf5KRX"
      }
    },
    {
      "cell_type": "code",
      "source": [
        "from sklearn import metrics\n",
        "print('accuracy =', metrics.accuracy_score(y_val, y_pred)) # 정확도 확인"
      ],
      "metadata": {
        "id": "JhBSWnek5KHZ"
      },
      "execution_count": null,
      "outputs": []
    },
    {
      "cell_type": "markdown",
      "source": [
        "## 4. 제출"
      ],
      "metadata": {
        "id": "c2A_0Rvq5aHj"
      }
    },
    {
      "cell_type": "code",
      "source": [],
      "metadata": {
        "id": "wyTjyFD94qOW"
      },
      "execution_count": null,
      "outputs": []
    },
    {
      "cell_type": "code",
      "source": [],
      "metadata": {
        "id": "D6qX21S-4qJP"
      },
      "execution_count": null,
      "outputs": []
    },
    {
      "cell_type": "code",
      "source": [],
      "metadata": {
        "id": "_v-TVpUn4qBM"
      },
      "execution_count": null,
      "outputs": []
    }
  ]
}