{
 "cells": [
  {
   "cell_type": "markdown",
   "id": "6d71aeeb-7d21-447d-9598-3dfdf46d97ec",
   "metadata": {},
   "source": [
    "# [[데이콘] 영화 리뷰 감성 분석](https://dacon.io/competitions/official/235995/overview/description)\n",
    "\n",
    "**참고 사이트**  \n",
    "[【실습】 Python >> Text Mining -- 감성 분류 분석 (호텔 리뷰 데이터)](https://hyemin-kim.github.io/2020/08/29/E-Python-TextMining-2/)  \n",
    "[[자연어 처리] konlpy 설치 오류, okt()에러-already loaded in](https://byeon-sg.tistory.com/entry/%EC%9E%90%EC%97%B0%EC%96%B4-%EC%B2%98%EB%A6%AC-konlpy-%EC%84%A4%EC%B9%98-%EC%98%A4%EB%A5%98-okt%EC%97%90%EB%9F%AC-already-loaded-in-another-classloader-SystemErro-1)  \n",
    "[tqdm 사용법-python 진행률 프로세스바](https://skillmemory.tistory.com/entry/tqdm-%EC%82%AC%EC%9A%A9%EB%B2%95-python-%EC%A7%84%ED%96%89%EB%A5%A0-%ED%94%84%EB%A1%9C%EC%84%B8%EC%8A%A4%EB%B0%94)  \n",
    "[Scikit-Learn의 문서 전처리 기능](https://datascienceschool.net/03%20machine%20learning/03.01.03%20Scikit-Learn%EC%9D%98%20%EB%AC%B8%EC%84%9C%20%EC%A0%84%EC%B2%98%EB%A6%AC%20%EA%B8%B0%EB%8A%A5.html)  \n",
    "[감성 분석](https://datascienceschool.net/03%20machine%20learning/11.03%20%EA%B0%90%EC%84%B1%20%EB%B6%84%EC%84%9D.html)  \n",
    "[classification_report로 평가 지표 확인하기\n",
    "[출처] classification_report로 평가 지표 확인하기|작성자 6시 내 교양](https://blog.naver.com/PostView.naver?blogId=hannaurora&logNo=222498671200&parentCategoryNo=&categoryNo=41&viewDate=&isShowPopularPosts=true&from=search)"
   ]
  },
  {
   "cell_type": "code",
   "execution_count": 1,
   "id": "1294f96e-aec4-4a5a-bb51-1771d1fd8c49",
   "metadata": {},
   "outputs": [],
   "source": [
    "import pandas as pd\n",
    "import numpy as np\n",
    "import matplotlib.pyplot as plt\n",
    "import seaborn as sns\n",
    "from tqdm import tqdm # 코드 진행률 프로세스 바\n",
    "import warnings\n",
    "warnings.filterwarnings('ignore')"
   ]
  },
  {
   "cell_type": "markdown",
   "id": "85c69608-a6f5-4ee0-afc0-bf6905d777a8",
   "metadata": {},
   "source": [
    "## 데이터 셋 불러오기"
   ]
  },
  {
   "cell_type": "code",
   "execution_count": 2,
   "id": "635a6812-9642-420b-bef1-12120ca99112",
   "metadata": {},
   "outputs": [
    {
     "data": {
      "text/html": [
       "<div>\n",
       "<style scoped>\n",
       "    .dataframe tbody tr th:only-of-type {\n",
       "        vertical-align: middle;\n",
       "    }\n",
       "\n",
       "    .dataframe tbody tr th {\n",
       "        vertical-align: top;\n",
       "    }\n",
       "\n",
       "    .dataframe thead th {\n",
       "        text-align: right;\n",
       "    }\n",
       "</style>\n",
       "<table border=\"1\" class=\"dataframe\">\n",
       "  <thead>\n",
       "    <tr style=\"text-align: right;\">\n",
       "      <th></th>\n",
       "      <th>id</th>\n",
       "      <th>document</th>\n",
       "      <th>label</th>\n",
       "    </tr>\n",
       "  </thead>\n",
       "  <tbody>\n",
       "    <tr>\n",
       "      <th>0</th>\n",
       "      <td>1</td>\n",
       "      <td>아 더빙.. 진짜 짜증나네요 목소리</td>\n",
       "      <td>0</td>\n",
       "    </tr>\n",
       "    <tr>\n",
       "      <th>1</th>\n",
       "      <td>2</td>\n",
       "      <td>흠...포스터보고 초딩영화줄....오버연기조차 가볍지 않구나</td>\n",
       "      <td>1</td>\n",
       "    </tr>\n",
       "    <tr>\n",
       "      <th>2</th>\n",
       "      <td>3</td>\n",
       "      <td>너무재밓었다그래서보는것을추천한다</td>\n",
       "      <td>0</td>\n",
       "    </tr>\n",
       "    <tr>\n",
       "      <th>3</th>\n",
       "      <td>4</td>\n",
       "      <td>교도소 이야기구먼 ..솔직히 재미는 없다..평점 조정</td>\n",
       "      <td>0</td>\n",
       "    </tr>\n",
       "    <tr>\n",
       "      <th>4</th>\n",
       "      <td>5</td>\n",
       "      <td>사이몬페그의 익살스런 연기가 돋보였던 영화!스파이더맨에서 늙어보이기만 했던 커스틴 ...</td>\n",
       "      <td>1</td>\n",
       "    </tr>\n",
       "  </tbody>\n",
       "</table>\n",
       "</div>"
      ],
      "text/plain": [
       "   id                                           document  label\n",
       "0   1                                아 더빙.. 진짜 짜증나네요 목소리      0\n",
       "1   2                  흠...포스터보고 초딩영화줄....오버연기조차 가볍지 않구나      1\n",
       "2   3                                  너무재밓었다그래서보는것을추천한다      0\n",
       "3   4                      교도소 이야기구먼 ..솔직히 재미는 없다..평점 조정      0\n",
       "4   5  사이몬페그의 익살스런 연기가 돋보였던 영화!스파이더맨에서 늙어보이기만 했던 커스틴 ...      1"
      ]
     },
     "execution_count": 2,
     "metadata": {},
     "output_type": "execute_result"
    }
   ],
   "source": [
    "train = pd.read_csv('data/[기업은행 혁신리그 사전강의] 영화 리뷰 감성 분석/train.csv')\n",
    "train.head()"
   ]
  },
  {
   "cell_type": "code",
   "execution_count": 29,
   "id": "02c95d9e-1d82-44b5-b393-42417236e482",
   "metadata": {},
   "outputs": [
    {
     "name": "stdout",
     "output_type": "stream",
     "text": [
      "<class 'pandas.core.frame.DataFrame'>\n",
      "Int64Index: 149995 entries, 0 to 149999\n",
      "Data columns (total 3 columns):\n",
      " #   Column    Non-Null Count   Dtype \n",
      "---  ------    --------------   ----- \n",
      " 0   id        149995 non-null  int64 \n",
      " 1   document  149995 non-null  object\n",
      " 2   label     149995 non-null  int64 \n",
      "dtypes: int64(2), object(1)\n",
      "memory usage: 4.6+ MB\n"
     ]
    }
   ],
   "source": [
    "train.info()"
   ]
  },
  {
   "cell_type": "code",
   "execution_count": 3,
   "id": "4c409c29-d855-4796-bd25-84565a111b5e",
   "metadata": {},
   "outputs": [
    {
     "data": {
      "text/plain": [
       "id          0\n",
       "document    5\n",
       "label       0\n",
       "dtype: int64"
      ]
     },
     "execution_count": 3,
     "metadata": {},
     "output_type": "execute_result"
    }
   ],
   "source": [
    "# 결측치 확인\n",
    "train.isnull().sum()"
   ]
  },
  {
   "cell_type": "code",
   "execution_count": 4,
   "id": "ee988f71-dbf2-4415-b69f-6cc833efb57b",
   "metadata": {},
   "outputs": [
    {
     "data": {
      "text/html": [
       "<div>\n",
       "<style scoped>\n",
       "    .dataframe tbody tr th:only-of-type {\n",
       "        vertical-align: middle;\n",
       "    }\n",
       "\n",
       "    .dataframe tbody tr th {\n",
       "        vertical-align: top;\n",
       "    }\n",
       "\n",
       "    .dataframe thead th {\n",
       "        text-align: right;\n",
       "    }\n",
       "</style>\n",
       "<table border=\"1\" class=\"dataframe\">\n",
       "  <thead>\n",
       "    <tr style=\"text-align: right;\">\n",
       "      <th></th>\n",
       "      <th>id</th>\n",
       "      <th>document</th>\n",
       "      <th>label</th>\n",
       "    </tr>\n",
       "  </thead>\n",
       "  <tbody>\n",
       "    <tr>\n",
       "      <th>25857</th>\n",
       "      <td>25858</td>\n",
       "      <td>NaN</td>\n",
       "      <td>1</td>\n",
       "    </tr>\n",
       "    <tr>\n",
       "      <th>55737</th>\n",
       "      <td>55738</td>\n",
       "      <td>NaN</td>\n",
       "      <td>1</td>\n",
       "    </tr>\n",
       "    <tr>\n",
       "      <th>110014</th>\n",
       "      <td>110015</td>\n",
       "      <td>NaN</td>\n",
       "      <td>0</td>\n",
       "    </tr>\n",
       "    <tr>\n",
       "      <th>126782</th>\n",
       "      <td>126783</td>\n",
       "      <td>NaN</td>\n",
       "      <td>0</td>\n",
       "    </tr>\n",
       "    <tr>\n",
       "      <th>140721</th>\n",
       "      <td>140722</td>\n",
       "      <td>NaN</td>\n",
       "      <td>0</td>\n",
       "    </tr>\n",
       "  </tbody>\n",
       "</table>\n",
       "</div>"
      ],
      "text/plain": [
       "            id document  label\n",
       "25857    25858      NaN      1\n",
       "55737    55738      NaN      1\n",
       "110014  110015      NaN      0\n",
       "126782  126783      NaN      0\n",
       "140721  140722      NaN      0"
      ]
     },
     "execution_count": 4,
     "metadata": {},
     "output_type": "execute_result"
    }
   ],
   "source": [
    "# 결측치 행 확인\n",
    "train[train['document'].isnull()]"
   ]
  },
  {
   "cell_type": "code",
   "execution_count": 5,
   "id": "f174666b-2210-44f2-a1b6-492ad7f4294d",
   "metadata": {},
   "outputs": [
    {
     "data": {
      "text/plain": [
       "id          0\n",
       "document    0\n",
       "label       0\n",
       "dtype: int64"
      ]
     },
     "execution_count": 5,
     "metadata": {},
     "output_type": "execute_result"
    }
   ],
   "source": [
    "# 결측치 행 제거\n",
    "train.dropna(axis=0, inplace=True)\n",
    "\n",
    "# 결측치 확인\n",
    "train.isnull().sum()"
   ]
  },
  {
   "cell_type": "code",
   "execution_count": 6,
   "id": "0fe0142b-a96b-4381-b36a-339061a50415",
   "metadata": {},
   "outputs": [
    {
     "data": {
      "text/plain": [
       "149995"
      ]
     },
     "execution_count": 6,
     "metadata": {},
     "output_type": "execute_result"
    }
   ],
   "source": [
    "len(train)"
   ]
  },
  {
   "cell_type": "markdown",
   "id": "5831da08-6d4e-48a5-922e-d2133b414851",
   "metadata": {},
   "source": [
    "## 텍스트 데이터 전처리"
   ]
  },
  {
   "cell_type": "markdown",
   "id": "dd5a48b1-ba51-462c-a562-9936c8f097fd",
   "metadata": {},
   "source": [
    "### 정규 표현식 적용"
   ]
  },
  {
   "cell_type": "code",
   "execution_count": 7,
   "id": "22af9341-7d05-426d-80ba-6fd9dc54c87d",
   "metadata": {},
   "outputs": [],
   "source": [
    "# 정규 표현식 함수 정의\n",
    "import re\n",
    "\n",
    "def apply_regular_expression(text):\n",
    "    hangle = re.compile('[^ ㄱ-ㅣ 가-힣]') # 한글 추출 규칙: 띄어 쓰기(1개)를 포함한 한글\n",
    "    result = hangle.sub(\"\", text) # 위에 설정한 \"hangul\"규칙을 \"text\"에 적용(.sub)시킴\n",
    "    return result"
   ]
  },
  {
   "cell_type": "code",
   "execution_count": 8,
   "id": "ff9b43c9-5bda-4ba0-a37c-25b29cc2cf50",
   "metadata": {},
   "outputs": [
    {
     "data": {
      "text/html": [
       "<div>\n",
       "<style scoped>\n",
       "    .dataframe tbody tr th:only-of-type {\n",
       "        vertical-align: middle;\n",
       "    }\n",
       "\n",
       "    .dataframe tbody tr th {\n",
       "        vertical-align: top;\n",
       "    }\n",
       "\n",
       "    .dataframe thead th {\n",
       "        text-align: right;\n",
       "    }\n",
       "</style>\n",
       "<table border=\"1\" class=\"dataframe\">\n",
       "  <thead>\n",
       "    <tr style=\"text-align: right;\">\n",
       "      <th></th>\n",
       "      <th>id</th>\n",
       "      <th>document</th>\n",
       "      <th>label</th>\n",
       "      <th>document_perprocess</th>\n",
       "    </tr>\n",
       "  </thead>\n",
       "  <tbody>\n",
       "    <tr>\n",
       "      <th>0</th>\n",
       "      <td>1</td>\n",
       "      <td>아 더빙.. 진짜 짜증나네요 목소리</td>\n",
       "      <td>0</td>\n",
       "      <td>아 더빙 진짜 짜증나네요 목소리</td>\n",
       "    </tr>\n",
       "    <tr>\n",
       "      <th>1</th>\n",
       "      <td>2</td>\n",
       "      <td>흠...포스터보고 초딩영화줄....오버연기조차 가볍지 않구나</td>\n",
       "      <td>1</td>\n",
       "      <td>흠포스터보고 초딩영화줄오버연기조차 가볍지 않구나</td>\n",
       "    </tr>\n",
       "    <tr>\n",
       "      <th>2</th>\n",
       "      <td>3</td>\n",
       "      <td>너무재밓었다그래서보는것을추천한다</td>\n",
       "      <td>0</td>\n",
       "      <td>너무재밓었다그래서보는것을추천한다</td>\n",
       "    </tr>\n",
       "    <tr>\n",
       "      <th>3</th>\n",
       "      <td>4</td>\n",
       "      <td>교도소 이야기구먼 ..솔직히 재미는 없다..평점 조정</td>\n",
       "      <td>0</td>\n",
       "      <td>교도소 이야기구먼 솔직히 재미는 없다평점 조정</td>\n",
       "    </tr>\n",
       "    <tr>\n",
       "      <th>4</th>\n",
       "      <td>5</td>\n",
       "      <td>사이몬페그의 익살스런 연기가 돋보였던 영화!스파이더맨에서 늙어보이기만 했던 커스틴 ...</td>\n",
       "      <td>1</td>\n",
       "      <td>사이몬페그의 익살스런 연기가 돋보였던 영화스파이더맨에서 늙어보이기만 했던 커스틴 던...</td>\n",
       "    </tr>\n",
       "    <tr>\n",
       "      <th>...</th>\n",
       "      <td>...</td>\n",
       "      <td>...</td>\n",
       "      <td>...</td>\n",
       "      <td>...</td>\n",
       "    </tr>\n",
       "    <tr>\n",
       "      <th>149995</th>\n",
       "      <td>149996</td>\n",
       "      <td>인간이 문제지.. 소는 뭔죄인가..</td>\n",
       "      <td>0</td>\n",
       "      <td>인간이 문제지 소는 뭔죄인가</td>\n",
       "    </tr>\n",
       "    <tr>\n",
       "      <th>149996</th>\n",
       "      <td>149997</td>\n",
       "      <td>평점이 너무 낮아서...</td>\n",
       "      <td>1</td>\n",
       "      <td>평점이 너무 낮아서</td>\n",
       "    </tr>\n",
       "    <tr>\n",
       "      <th>149997</th>\n",
       "      <td>149998</td>\n",
       "      <td>이게 뭐요? 한국인은 거들먹거리고 필리핀 혼혈은 착하다?</td>\n",
       "      <td>0</td>\n",
       "      <td>이게 뭐요 한국인은 거들먹거리고 필리핀 혼혈은 착하다</td>\n",
       "    </tr>\n",
       "    <tr>\n",
       "      <th>149998</th>\n",
       "      <td>149999</td>\n",
       "      <td>청춘 영화의 최고봉.방황과 우울했던 날들의 자화상</td>\n",
       "      <td>1</td>\n",
       "      <td>청춘 영화의 최고봉방황과 우울했던 날들의 자화상</td>\n",
       "    </tr>\n",
       "    <tr>\n",
       "      <th>149999</th>\n",
       "      <td>150000</td>\n",
       "      <td>한국 영화 최초로 수간하는 내용이 담긴 영화</td>\n",
       "      <td>0</td>\n",
       "      <td>한국 영화 최초로 수간하는 내용이 담긴 영화</td>\n",
       "    </tr>\n",
       "  </tbody>\n",
       "</table>\n",
       "<p>149995 rows × 4 columns</p>\n",
       "</div>"
      ],
      "text/plain": [
       "            id                                           document  label  \\\n",
       "0            1                                아 더빙.. 진짜 짜증나네요 목소리      0   \n",
       "1            2                  흠...포스터보고 초딩영화줄....오버연기조차 가볍지 않구나      1   \n",
       "2            3                                  너무재밓었다그래서보는것을추천한다      0   \n",
       "3            4                      교도소 이야기구먼 ..솔직히 재미는 없다..평점 조정      0   \n",
       "4            5  사이몬페그의 익살스런 연기가 돋보였던 영화!스파이더맨에서 늙어보이기만 했던 커스틴 ...      1   \n",
       "...        ...                                                ...    ...   \n",
       "149995  149996                                인간이 문제지.. 소는 뭔죄인가..      0   \n",
       "149996  149997                                      평점이 너무 낮아서...      1   \n",
       "149997  149998                    이게 뭐요? 한국인은 거들먹거리고 필리핀 혼혈은 착하다?      0   \n",
       "149998  149999                        청춘 영화의 최고봉.방황과 우울했던 날들의 자화상      1   \n",
       "149999  150000                           한국 영화 최초로 수간하는 내용이 담긴 영화      0   \n",
       "\n",
       "                                      document_perprocess  \n",
       "0                                       아 더빙 진짜 짜증나네요 목소리  \n",
       "1                              흠포스터보고 초딩영화줄오버연기조차 가볍지 않구나  \n",
       "2                                       너무재밓었다그래서보는것을추천한다  \n",
       "3                               교도소 이야기구먼 솔직히 재미는 없다평점 조정  \n",
       "4       사이몬페그의 익살스런 연기가 돋보였던 영화스파이더맨에서 늙어보이기만 했던 커스틴 던...  \n",
       "...                                                   ...  \n",
       "149995                                    인간이 문제지 소는 뭔죄인가  \n",
       "149996                                         평점이 너무 낮아서  \n",
       "149997                      이게 뭐요 한국인은 거들먹거리고 필리핀 혼혈은 착하다  \n",
       "149998                         청춘 영화의 최고봉방황과 우울했던 날들의 자화상  \n",
       "149999                           한국 영화 최초로 수간하는 내용이 담긴 영화  \n",
       "\n",
       "[149995 rows x 4 columns]"
      ]
     },
     "execution_count": 8,
     "metadata": {},
     "output_type": "execute_result"
    }
   ],
   "source": [
    "train['document_perprocess'] = train['document'].apply(apply_regular_expression)\n",
    "train"
   ]
  },
  {
   "cell_type": "markdown",
   "id": "080e897a-1509-4c8b-ba45-495fe2e02718",
   "metadata": {},
   "source": [
    "### ~~한글 맞춤법 검사~~\n",
    "처리 시간 문제로 생략"
   ]
  },
  {
   "cell_type": "code",
   "execution_count": 64,
   "id": "ac82c300-4095-4eed-8c08-f2cd4d75ab11",
   "metadata": {},
   "outputs": [],
   "source": [
    "# # !pip install py-hanspell\n",
    "# from hanspell import spell_checker\n",
    "\n",
    "# # 동작 테스트\n",
    "# sent_test = \"한글 맞춤법검사기 재대로작동돼는지테스트\"\n",
    "# spelled_sent_test = spell_checker.check(sent_test)\n",
    "# checked_sent_test = spelled_sent_test.checked\n",
    "\n",
    "# print(\"<맞춤법 검사 테스트 수행>\")\n",
    "# print(\"교정 前: \",sent_test)\n",
    "# print(\"교정 後: \",checked_sent_test)"
   ]
  },
  {
   "cell_type": "code",
   "execution_count": 63,
   "id": "89e352e2-b336-42f2-8a56-2023a46f6e4d",
   "metadata": {
    "tags": []
   },
   "outputs": [],
   "source": [
    "# for i in tqdm(range(len(train_data))):\n",
    "#   try:\n",
    "#     train_data_spell = spell_checker.check(train_data['document'][i]) # 교정할 맞춤법이 존재한다면 맞춤법 교정 수행\n",
    "#     train_data['document'][i] = train_data_spell.checked\n",
    "#   except: # 아니면 기존 데이터 유지\n",
    "#     pass"
   ]
  },
  {
   "cell_type": "markdown",
   "id": "d89ef68b-c18a-4484-8396-6fe06b5c0b10",
   "metadata": {},
   "source": [
    "### ~~한국어 형태소 분석~~"
   ]
  },
  {
   "cell_type": "code",
   "execution_count": 5,
   "id": "a8146680-ddf8-458e-9706-b6f3455c31c4",
   "metadata": {},
   "outputs": [],
   "source": [
    "# !pip install konlpy\n",
    "# from konlpy.tag import Okt\n",
    "# from collections import Counter"
   ]
  },
  {
   "cell_type": "code",
   "execution_count": 66,
   "id": "df27e65c-6471-473d-a8c4-bdf56202235d",
   "metadata": {},
   "outputs": [],
   "source": [
    "# okt = Okt()  # 명사 형태소 추출 함수\n",
    "# nouns = okt.nouns(apply_regular_expression(train_data['document'][0]))\n",
    "# nouns"
   ]
  },
  {
   "cell_type": "code",
   "execution_count": 67,
   "id": "238467aa-87c1-4c46-9231-fc16de88fdda",
   "metadata": {
    "tags": []
   },
   "outputs": [],
   "source": [
    "# 말뭉치 생성\n",
    "# corpus = \"\".join(train_data['document'].tolist())\n",
    "# corpus"
   ]
  },
  {
   "cell_type": "code",
   "execution_count": 68,
   "id": "8c2ba727-b7aa-4211-afc7-8727352aa544",
   "metadata": {},
   "outputs": [
    {
     "name": "stderr",
     "output_type": "stream",
     "text": [
      "IOPub data rate exceeded.\n",
      "The Jupyter server will temporarily stop sending output\n",
      "to the client in order to avoid crashing it.\n",
      "To change this limit, set the config variable\n",
      "`--ServerApp.iopub_data_rate_limit`.\n",
      "\n",
      "Current values:\n",
      "ServerApp.iopub_data_rate_limit=1000000.0 (bytes/sec)\n",
      "ServerApp.rate_limit_window=3.0 (secs)\n",
      "\n"
     ]
    }
   ],
   "source": [
    "# 전체 말뭉치(corpus)에서 명사 형태소 추출\n",
    "# apply_regular_expression(corpus)\n",
    "# nouns = okt.nouns(apply_regular_expression(corpus))\n",
    "# print(nouns)"
   ]
  },
  {
   "cell_type": "code",
   "execution_count": 9,
   "id": "07fab580-75dd-4fd3-8498-712836f2271d",
   "metadata": {},
   "outputs": [],
   "source": [
    "# 빈도 탐색\n",
    "# counter = Counter(nouns)\n",
    "\n",
    "# 상위 빈도 10개 단어\n",
    "# counter.most_common(10)"
   ]
  },
  {
   "cell_type": "code",
   "execution_count": 10,
   "id": "74cc55d7-7f25-403b-9fdb-c6786b2b60e2",
   "metadata": {},
   "outputs": [],
   "source": [
    "# 한 글자 명사 제거\n",
    "# available_counter = []\n",
    "\n",
    "# for i in range(len(nouns)):\n",
    "#     if len(nouns[i]) > 1:\n",
    "#         available_counter.append(nouns[i])\n",
    "\n",
    "# 빈도 탐색        \n",
    "# available_counter = Counter(available_counter)\n",
    "\n",
    "# 한 글자 명사를 제거한 상위 빈도 10개 단어\n",
    "# available_counter.most_common(10)"
   ]
  },
  {
   "cell_type": "markdown",
   "id": "cae2052e-998d-460a-a81f-6000a5bf63f6",
   "metadata": {},
   "source": [
    "### 불용어 사전 \n",
    "RANKS NL에 제공해주는 한국어 불용어 사전 활용"
   ]
  },
  {
   "cell_type": "code",
   "execution_count": 11,
   "id": "44acfb90-57b4-4db5-aadd-582aac75c5a3",
   "metadata": {},
   "outputs": [],
   "source": [
    "# stopwords = pd.read_csv(\"https://raw.githubusercontent.com/yoonkt200/FastCampusDataset/master/korean_stopwords.txt\").values.tolist()\n",
    "# stopwords[:10]"
   ]
  },
  {
   "cell_type": "code",
   "execution_count": 13,
   "id": "a6dbc31a-f609-44f1-8f8d-d06c72e1bd53",
   "metadata": {
    "scrolled": true,
    "tags": []
   },
   "outputs": [],
   "source": [
    "# add_stopwords = ['구먼', '무재', '밓었', '해도', '그것', '볼때', '년대', '로만', '다지', '자꾸', '이기', '갈수록', '그냥', '절대', '나름',\n",
    "#                '베트', '짤랐을꺼', '는걸', '다시', '한번', '아시', '뭥미', '지나', '또한', '지금', '다가']\n",
    "# for word in add_stopwords:\n",
    "#     stopwords.append(word)"
   ]
  },
  {
   "cell_type": "markdown",
   "id": "c989c6ab-b0d1-4f79-9e31-872e3c22e217",
   "metadata": {},
   "source": [
    "### ~~Word Count~~  \n",
    "#### ~~Bow 벡터 생성~~  \n",
    "- ~~CountVectorizer는 띄어쓰기만을 기준으로 단어를 자른 후에 BoW를 만듦~~  \n",
    "- ~~영어의 경우 띄어쓰기만으로 토큰화가 수행되기 때문에 문제가 없지만 한글에 CountVectorizer를 적용하면, 조사 등의 이유로 제대로 BoW가 만들어지지 않음~~  \n",
    "- ~~예를 들어 \"봄과\"와 \"봄이\"를 다르게 인식하기 때문에 CountVectorizer 사용 전에 어간 추출을 해 \"봄\"으로 통일시켜 주는 것이 좋음~~  \n",
    "\n",
    "RAM 용량 문제로 pass"
   ]
  },
  {
   "cell_type": "code",
   "execution_count": 14,
   "id": "faa42d24-6548-4808-aefe-7476b73287de",
   "metadata": {},
   "outputs": [],
   "source": [
    "# from sklearn.feature_extraction.text import CountVectorizer\n",
    "\n",
    "# def text_cleaning(text):\n",
    "#     hangle = re.compile('[^ ㄱ-ㅣ 가-힣]') # 정규 표현식 처리\n",
    "#     result = hangle.sub(\"\", text)\n",
    "#     okt = Okt() # 형태소 추출\n",
    "#     nouns = okt.nouns(result)\n",
    "#     nouns = [x for x in nouns if len(x) > 1] # 한 글자 키워드 제거\n",
    "#     nouns = [x for x in nouns if x not in stopwords] # 불용어 제거\n",
    "#     return nouns\n",
    "    \n",
    "# vect = CountVectorizer(tokenizer = lambda x: text_cleaning(x)) # CountVectorizer: 문서 집합에서 단어 토큰을 생성하고 각 단어의 수를 세어 BOW 인코딩 벡터를 만듦\n",
    "# bow_vect = vect.fit_transform(train_data['document'].tolist()) # vect를 'document'(→ list)에 적용\n",
    "# word_list = vect.get_feature_names() # 문서에 등장한 단어 리스트\n",
    "# count_list = bow_vect.toarray().sum(axis=0) # 각 단어가 전체 리뷰 중에 등장한 총 횟수"
   ]
  },
  {
   "cell_type": "code",
   "execution_count": 15,
   "id": "0186ed90-d1db-4b1c-8972-a66439600d1f",
   "metadata": {},
   "outputs": [],
   "source": [
    "# 각 단어의 리뷰별 등장 횟수\n",
    "# bow_vect.toarray()"
   ]
  },
  {
   "cell_type": "code",
   "execution_count": 16,
   "id": "1d335700-c2a0-4d48-9466-53ca23670668",
   "metadata": {},
   "outputs": [],
   "source": [
    "# bow_vect.toarray()을 실행할 때 행, 열 개수\n",
    "# bow_vect.shape"
   ]
  },
  {
   "cell_type": "code",
   "execution_count": 17,
   "id": "379900b2-4029-437b-ac9a-29d5e6c15749",
   "metadata": {},
   "outputs": [],
   "source": [
    "# \"단어\" - \"총 등장 횟수\" Matching\n",
    "# word_count_dict = dict(zip(word_list, count_list))\n",
    "# word_count_dict"
   ]
  },
  {
   "cell_type": "markdown",
   "id": "e5e53f38-9bc2-433a-a778-ba172f4f20c2",
   "metadata": {},
   "source": [
    "### ~~TF-IDF 적용~~\n",
    "#### ~~TF-IDF 변환~~\n",
    "~~Bag of Words 벡터에 대해서 TF-IDF 변환을 진행함~~"
   ]
  },
  {
   "cell_type": "markdown",
   "id": "d748873c-1747-4bb4-a176-f56567c9ccdb",
   "metadata": {},
   "source": [
    "## 감성 분류"
   ]
  },
  {
   "cell_type": "code",
   "execution_count": 36,
   "id": "fda0e587-ef93-4970-80fa-1f8b254be987",
   "metadata": {},
   "outputs": [
    {
     "data": {
      "image/png": "[encoded data removed]",
      "text/plain": [
       "<Figure size 432x288 with 1 Axes>"
      ]
     },
     "metadata": {
      "needs_background": "light"
     },
     "output_type": "display_data"
    }
   ],
   "source": [
    "train['label'].hist();"
   ]
  },
  {
   "cell_type": "code",
   "execution_count": 37,
   "id": "10e60a46-9e8d-4b1a-8a21-7fda07ea9312",
   "metadata": {},
   "outputs": [
    {
     "data": {
      "text/plain": [
       "0    75170\n",
       "1    74825\n",
       "Name: label, dtype: int64"
      ]
     },
     "execution_count": 37,
     "metadata": {},
     "output_type": "execute_result"
    }
   ],
   "source": [
    "train['label'].value_counts()"
   ]
  },
  {
   "cell_type": "code",
   "execution_count": 43,
   "id": "2b20dbe3-dc07-4ad7-8db3-0596a7ccca0c",
   "metadata": {},
   "outputs": [],
   "source": [
    "from sklearn.feature_extraction.text import CountVectorizer\n",
    "from sklearn.naive_bayes import MultinomialNB\n",
    "from sklearn.pipeline import Pipeline\n",
    "from sklearn.metrics import classification_report\n",
    "from sklearn.model_selection import train_test_split, GridSearchCV"
   ]
  },
  {
   "cell_type": "code",
   "execution_count": 26,
   "id": "10e3e82b-01c5-47a5-80b3-c26420bf96c6",
   "metadata": {},
   "outputs": [
    {
     "name": "stdout",
     "output_type": "stream",
     "text": [
      "학습시킬 train 셋 :  (104996, 2)\n",
      "검증할 val 셋 :  (44999, 2)\n"
     ]
    }
   ],
   "source": [
    "# train 데이터를 train_data, val-data로 분류\n",
    "data = train.drop(['id', 'document'], axis = 1).copy()\n",
    "train_data, val_data = train_test_split(data, test_size=.3) # 7:3 비율로 분할\n",
    "# train_data.reset_index(inplace=True)\n",
    "# val_data.reset_index(inplace=True)\n",
    "\n",
    "print('학습시킬 train 셋 : ', train_data.shape)\n",
    "print('검증할 val 셋 : ', val_data.shape)"
   ]
  },
  {
   "cell_type": "code",
   "execution_count": 29,
   "id": "f08c6f08-a554-441d-bdd6-102938346fb2",
   "metadata": {},
   "outputs": [
    {
     "data": {
      "text/html": [
       "<div>\n",
       "<style scoped>\n",
       "    .dataframe tbody tr th:only-of-type {\n",
       "        vertical-align: middle;\n",
       "    }\n",
       "\n",
       "    .dataframe tbody tr th {\n",
       "        vertical-align: top;\n",
       "    }\n",
       "\n",
       "    .dataframe thead th {\n",
       "        text-align: right;\n",
       "    }\n",
       "</style>\n",
       "<table border=\"1\" class=\"dataframe\">\n",
       "  <thead>\n",
       "    <tr style=\"text-align: right;\">\n",
       "      <th></th>\n",
       "      <th>label</th>\n",
       "      <th>document_perprocess</th>\n",
       "    </tr>\n",
       "  </thead>\n",
       "  <tbody>\n",
       "    <tr>\n",
       "      <th>82383</th>\n",
       "      <td>1</td>\n",
       "      <td>재미있다 배우들 연기도 정말 잘하고 달달하고 맛있겠다 아메리칸 쉐프 보지는 않았지만...</td>\n",
       "    </tr>\n",
       "    <tr>\n",
       "      <th>67386</th>\n",
       "      <td>1</td>\n",
       "      <td>머야 이거 센과 치히로 보다 재밋네</td>\n",
       "    </tr>\n",
       "    <tr>\n",
       "      <th>26233</th>\n",
       "      <td>0</td>\n",
       "      <td>더럽게 잼없네 쓰레기ㅉㅉ 점준것중 한국영화는 점주는 창있네</td>\n",
       "    </tr>\n",
       "    <tr>\n",
       "      <th>118208</th>\n",
       "      <td>0</td>\n",
       "      <td>영화 시간에 이렇게 길다는걸 정말 간만에 느꼈음 ㅎㅎㅎ</td>\n",
       "    </tr>\n",
       "    <tr>\n",
       "      <th>90419</th>\n",
       "      <td>0</td>\n",
       "      <td>일점주기도아깝네도대체이런영화가왜나온건지나참미안하지만정말이영화는아닌것같네요</td>\n",
       "    </tr>\n",
       "  </tbody>\n",
       "</table>\n",
       "</div>"
      ],
      "text/plain": [
       "        label                                document_perprocess\n",
       "82383       1  재미있다 배우들 연기도 정말 잘하고 달달하고 맛있겠다 아메리칸 쉐프 보지는 않았지만...\n",
       "67386       1                                머야 이거 센과 치히로 보다 재밋네\n",
       "26233       0                   더럽게 잼없네 쓰레기ㅉㅉ 점준것중 한국영화는 점주는 창있네\n",
       "118208      0                     영화 시간에 이렇게 길다는걸 정말 간만에 느꼈음 ㅎㅎㅎ\n",
       "90419       0           일점주기도아깝네도대체이런영화가왜나온건지나참미안하지만정말이영화는아닌것같네요"
      ]
     },
     "execution_count": 29,
     "metadata": {},
     "output_type": "execute_result"
    }
   ],
   "source": [
    "val_data.head()"
   ]
  },
  {
   "cell_type": "code",
   "execution_count": 30,
   "id": "2544421a-a8e5-48f0-8b2f-59865cb8bcf0",
   "metadata": {},
   "outputs": [
    {
     "data": {
      "text/html": [
       "<div>\n",
       "<style scoped>\n",
       "    .dataframe tbody tr th:only-of-type {\n",
       "        vertical-align: middle;\n",
       "    }\n",
       "\n",
       "    .dataframe tbody tr th {\n",
       "        vertical-align: top;\n",
       "    }\n",
       "\n",
       "    .dataframe thead th {\n",
       "        text-align: right;\n",
       "    }\n",
       "</style>\n",
       "<table border=\"1\" class=\"dataframe\">\n",
       "  <thead>\n",
       "    <tr style=\"text-align: right;\">\n",
       "      <th></th>\n",
       "      <th>label</th>\n",
       "      <th>document_perprocess</th>\n",
       "    </tr>\n",
       "  </thead>\n",
       "  <tbody>\n",
       "    <tr>\n",
       "      <th>48218</th>\n",
       "      <td>0</td>\n",
       "      <td>대 초반의 배우 초창기부터 요부의 정형화된 역할모델에서 벗어나지 못하는 모니카</td>\n",
       "    </tr>\n",
       "    <tr>\n",
       "      <th>86726</th>\n",
       "      <td>0</td>\n",
       "      <td>감상평 따의집어치우고 메탈리카와 함께 미쳐보자</td>\n",
       "    </tr>\n",
       "    <tr>\n",
       "      <th>133387</th>\n",
       "      <td>1</td>\n",
       "      <td>재미있어요 보세요</td>\n",
       "    </tr>\n",
       "    <tr>\n",
       "      <th>2238</th>\n",
       "      <td>1</td>\n",
       "      <td>자각과 깨달음의 무서움</td>\n",
       "    </tr>\n",
       "    <tr>\n",
       "      <th>25710</th>\n",
       "      <td>0</td>\n",
       "      <td>영화보고 돈아까운적 처음 이에요 진짜 보지마요</td>\n",
       "    </tr>\n",
       "  </tbody>\n",
       "</table>\n",
       "</div>"
      ],
      "text/plain": [
       "        label                          document_perprocess\n",
       "48218       0  대 초반의 배우 초창기부터 요부의 정형화된 역할모델에서 벗어나지 못하는 모니카\n",
       "86726       0                    감상평 따의집어치우고 메탈리카와 함께 미쳐보자\n",
       "133387      1                                    재미있어요 보세요\n",
       "2238        1                                 자각과 깨달음의 무서움\n",
       "25710       0                    영화보고 돈아까운적 처음 이에요 진짜 보지마요"
      ]
     },
     "execution_count": 30,
     "metadata": {},
     "output_type": "execute_result"
    }
   ],
   "source": [
    "train_data.head()"
   ]
  },
  {
   "cell_type": "code",
   "execution_count": 31,
   "id": "ee96d916-0002-4756-95ec-68aa87606070",
   "metadata": {},
   "outputs": [],
   "source": [
    "train_data_X = train_data.document_perprocess\n",
    "train_data_y = train_data.label\n",
    "\n",
    "val_data_X = val_data.document_perprocess\n",
    "val_data_y = val_data.label"
   ]
  },
  {
   "cell_type": "markdown",
   "id": "ff1679f1-dfa0-4470-b7bd-d2d5945d9b20",
   "metadata": {},
   "source": [
    "### model1 나이브 베이즈 모형"
   ]
  },
  {
   "cell_type": "code",
   "execution_count": 38,
   "id": "ef399497-9e27-4fc0-99d1-ea49c09b7590",
   "metadata": {},
   "outputs": [
    {
     "data": {
      "text/plain": [
       "Pipeline(steps=[('vect', CountVectorizer()), ('mb', MultinomialNB())])"
      ]
     },
     "execution_count": 38,
     "metadata": {},
     "output_type": "execute_result"
    }
   ],
   "source": [
    "# 나이브 베이즈 모형으로 학습\n",
    "model1 = Pipeline([\n",
    "    ('vect', CountVectorizer()),\n",
    "    ('mb', MultinomialNB())\n",
    "])\n",
    "\n",
    "# %%time\n",
    "model1.fit(train_data_X, train_data_y)"
   ]
  },
  {
   "cell_type": "code",
   "execution_count": 39,
   "id": "8c0f322b-9e1c-4384-987e-6339d2b55f85",
   "metadata": {},
   "outputs": [],
   "source": [
    "# 테스트 데이터 불러오기\n",
    "test_data = pd.read_csv('data/[기업은행 혁신리그 사전강의] 영화 리뷰 감성 분석/test.csv')\n",
    "test_data\n",
    "\n",
    "X_test = test_data['document']"
   ]
  },
  {
   "cell_type": "code",
   "execution_count": 42,
   "id": "76669b92-2a3b-4605-aa92-210883bcbacf",
   "metadata": {},
   "outputs": [
    {
     "name": "stdout",
     "output_type": "stream",
     "text": [
      "사용 모델: 나이브 베이즈 모델\n",
      "              precision    recall  f1-score   support\n",
      "\n",
      "           0       0.79      0.83      0.81     22495\n",
      "           1       0.82      0.78      0.80     22504\n",
      "\n",
      "    accuracy                           0.80     44999\n",
      "   macro avg       0.80      0.80      0.80     44999\n",
      "weighted avg       0.80      0.80      0.80     44999\n",
      "\n"
     ]
    }
   ],
   "source": [
    "# classification_report을 이용한 성능 평가\n",
    "# support: 각 라벨의 실제 샘플 개수\n",
    "# macro avg: 각 클래스 별로 동일한 가중치 부여(샘플 개수의 불균형을 고려하지 않음) → 소수 클래스에 대한 성능이 낮을 때 더 큰 패널티 발생\n",
    "# f1 macro avg = (0.81+0.08)/2 = 0.80\n",
    "# weighted avg: 각 클래스에 속하는 표본의 개수로 가중 평균 계산(샘플 개수의 불균형 고려) → 샘플 개수가 적은 클래스의 영향력 감소\n",
    "print('사용 모델: 나이브 베이즈 모델')\n",
    "print(classification_report(val_data_y, model1.predict(val_data_X)))"
   ]
  },
  {
   "cell_type": "markdown",
   "id": "77c395db-8d48-45b4-91b9-0ab661e170bc",
   "metadata": {},
   "source": [
    "### model2 logistic regression"
   ]
  },
  {
   "cell_type": "code",
   "execution_count": 50,
   "id": "85163860-822f-49b5-be32-a78519f8c071",
   "metadata": {},
   "outputs": [
    {
     "data": {
      "text/plain": [
       "Pipeline(steps=[('vect', CountVectorizer()), ('clf', LogisticRegression())])"
      ]
     },
     "execution_count": 50,
     "metadata": {},
     "output_type": "execute_result"
    }
   ],
   "source": [
    "model2 = Pipeline([\n",
    "    ('vect', CountVectorizer()),\n",
    "    ('clf', LogisticRegression())\n",
    "])\n",
    "\n",
    "# %%time\n",
    "model2.fit(train_data_X, train_data_y)"
   ]
  },
  {
   "cell_type": "code",
   "execution_count": 51,
   "id": "ca6ccb83-cc3b-49c3-a0c8-c3f8d1d4e96b",
   "metadata": {},
   "outputs": [
    {
     "name": "stdout",
     "output_type": "stream",
     "text": [
      "              precision    recall  f1-score   support\n",
      "\n",
      "           0       0.77      0.83      0.80     22495\n",
      "           1       0.82      0.75      0.78     22504\n",
      "\n",
      "    accuracy                           0.79     44999\n",
      "   macro avg       0.79      0.79      0.79     44999\n",
      "weighted avg       0.79      0.79      0.79     44999\n",
      "\n"
     ]
    }
   ],
   "source": [
    "# classification_report을 이용한 성능 평가\n",
    "print(classification_report(val_data_y, model2.predict(val_data_X)))"
   ]
  },
  {
   "cell_type": "code",
   "execution_count": 49,
   "id": "db2d61f5-b70c-4693-b6da-402611f70a95",
   "metadata": {},
   "outputs": [
    {
     "ename": "ValueError",
     "evalue": "could not convert string to float: '대 초반의 배우 초창기부터 요부의 정형화된 역할모델에서 벗어나지 못하는 모니카'",
     "output_type": "error",
     "traceback": [
      "\u001b[1;31m---------------------------------------------------------------------------\u001b[0m",
      "\u001b[1;31mValueError\u001b[0m                                Traceback (most recent call last)",
      "\u001b[1;32m<ipython-input-49-63f77b5890eb>\u001b[0m in \u001b[0;36m<module>\u001b[1;34m\u001b[0m\n\u001b[0;32m     11\u001b[0m \u001b[0mgs\u001b[0m \u001b[1;33m=\u001b[0m \u001b[0mGridSearchCV\u001b[0m\u001b[1;33m(\u001b[0m\u001b[0mestimator\u001b[0m \u001b[1;33m=\u001b[0m \u001b[0mLogisticRegression\u001b[0m\u001b[1;33m(\u001b[0m\u001b[1;33m)\u001b[0m\u001b[1;33m,\u001b[0m \u001b[0mcv\u001b[0m\u001b[1;33m=\u001b[0m \u001b[1;36m5\u001b[0m\u001b[1;33m,\u001b[0m \u001b[0mparam_grid\u001b[0m\u001b[1;33m=\u001b[0m\u001b[0mparam_grid\u001b[0m\u001b[1;33m,\u001b[0m \u001b[0mn_jobs\u001b[0m \u001b[1;33m=\u001b[0m \u001b[1;33m-\u001b[0m\u001b[1;36m1\u001b[0m\u001b[1;33m)\u001b[0m\u001b[1;33m\u001b[0m\u001b[1;33m\u001b[0m\u001b[0m\n\u001b[0;32m     12\u001b[0m \u001b[1;33m\u001b[0m\u001b[0m\n\u001b[1;32m---> 13\u001b[1;33m \u001b[0mresult\u001b[0m \u001b[1;33m=\u001b[0m \u001b[0mgs\u001b[0m\u001b[1;33m.\u001b[0m\u001b[0mfit\u001b[0m\u001b[1;33m(\u001b[0m\u001b[0mtrain_data_X\u001b[0m\u001b[1;33m,\u001b[0m \u001b[0mtrain_data_y\u001b[0m\u001b[1;33m)\u001b[0m\u001b[1;33m\u001b[0m\u001b[1;33m\u001b[0m\u001b[0m\n\u001b[0m\u001b[0;32m     14\u001b[0m \u001b[1;33m\u001b[0m\u001b[0m\n\u001b[0;32m     15\u001b[0m \u001b[0mprint\u001b[0m\u001b[1;33m(\u001b[0m\u001b[1;34m'최적 파라미터: {}'\u001b[0m\u001b[1;33m.\u001b[0m\u001b[0mformat\u001b[0m\u001b[1;33m(\u001b[0m\u001b[0mgs\u001b[0m\u001b[1;33m.\u001b[0m\u001b[0mbest_params_\u001b[0m\u001b[1;33m)\u001b[0m\u001b[1;33m)\u001b[0m \u001b[1;31m# 최적의 파라미터 출력\u001b[0m\u001b[1;33m\u001b[0m\u001b[1;33m\u001b[0m\u001b[0m\n",
      "\u001b[1;32m~\\anaconda3\\lib\\site-packages\\sklearn\\utils\\validation.py\u001b[0m in \u001b[0;36minner_f\u001b[1;34m(*args, **kwargs)\u001b[0m\n\u001b[0;32m     70\u001b[0m                           FutureWarning)\n\u001b[0;32m     71\u001b[0m         \u001b[0mkwargs\u001b[0m\u001b[1;33m.\u001b[0m\u001b[0mupdate\u001b[0m\u001b[1;33m(\u001b[0m\u001b[1;33m{\u001b[0m\u001b[0mk\u001b[0m\u001b[1;33m:\u001b[0m \u001b[0marg\u001b[0m \u001b[1;32mfor\u001b[0m \u001b[0mk\u001b[0m\u001b[1;33m,\u001b[0m \u001b[0marg\u001b[0m \u001b[1;32min\u001b[0m \u001b[0mzip\u001b[0m\u001b[1;33m(\u001b[0m\u001b[0msig\u001b[0m\u001b[1;33m.\u001b[0m\u001b[0mparameters\u001b[0m\u001b[1;33m,\u001b[0m \u001b[0margs\u001b[0m\u001b[1;33m)\u001b[0m\u001b[1;33m}\u001b[0m\u001b[1;33m)\u001b[0m\u001b[1;33m\u001b[0m\u001b[1;33m\u001b[0m\u001b[0m\n\u001b[1;32m---> 72\u001b[1;33m         \u001b[1;32mreturn\u001b[0m \u001b[0mf\u001b[0m\u001b[1;33m(\u001b[0m\u001b[1;33m**\u001b[0m\u001b[0mkwargs\u001b[0m\u001b[1;33m)\u001b[0m\u001b[1;33m\u001b[0m\u001b[1;33m\u001b[0m\u001b[0m\n\u001b[0m\u001b[0;32m     73\u001b[0m     \u001b[1;32mreturn\u001b[0m \u001b[0minner_f\u001b[0m\u001b[1;33m\u001b[0m\u001b[1;33m\u001b[0m\u001b[0m\n\u001b[0;32m     74\u001b[0m \u001b[1;33m\u001b[0m\u001b[0m\n",
      "\u001b[1;32m~\\anaconda3\\lib\\site-packages\\sklearn\\model_selection\\_search.py\u001b[0m in \u001b[0;36mfit\u001b[1;34m(self, X, y, groups, **fit_params)\u001b[0m\n\u001b[0;32m    763\u001b[0m             \u001b[0mrefit_start_time\u001b[0m \u001b[1;33m=\u001b[0m \u001b[0mtime\u001b[0m\u001b[1;33m.\u001b[0m\u001b[0mtime\u001b[0m\u001b[1;33m(\u001b[0m\u001b[1;33m)\u001b[0m\u001b[1;33m\u001b[0m\u001b[1;33m\u001b[0m\u001b[0m\n\u001b[0;32m    764\u001b[0m             \u001b[1;32mif\u001b[0m \u001b[0my\u001b[0m \u001b[1;32mis\u001b[0m \u001b[1;32mnot\u001b[0m \u001b[1;32mNone\u001b[0m\u001b[1;33m:\u001b[0m\u001b[1;33m\u001b[0m\u001b[1;33m\u001b[0m\u001b[0m\n\u001b[1;32m--> 765\u001b[1;33m                 \u001b[0mself\u001b[0m\u001b[1;33m.\u001b[0m\u001b[0mbest_estimator_\u001b[0m\u001b[1;33m.\u001b[0m\u001b[0mfit\u001b[0m\u001b[1;33m(\u001b[0m\u001b[0mX\u001b[0m\u001b[1;33m,\u001b[0m \u001b[0my\u001b[0m\u001b[1;33m,\u001b[0m \u001b[1;33m**\u001b[0m\u001b[0mfit_params\u001b[0m\u001b[1;33m)\u001b[0m\u001b[1;33m\u001b[0m\u001b[1;33m\u001b[0m\u001b[0m\n\u001b[0m\u001b[0;32m    766\u001b[0m             \u001b[1;32melse\u001b[0m\u001b[1;33m:\u001b[0m\u001b[1;33m\u001b[0m\u001b[1;33m\u001b[0m\u001b[0m\n\u001b[0;32m    767\u001b[0m                 \u001b[0mself\u001b[0m\u001b[1;33m.\u001b[0m\u001b[0mbest_estimator_\u001b[0m\u001b[1;33m.\u001b[0m\u001b[0mfit\u001b[0m\u001b[1;33m(\u001b[0m\u001b[0mX\u001b[0m\u001b[1;33m,\u001b[0m \u001b[1;33m**\u001b[0m\u001b[0mfit_params\u001b[0m\u001b[1;33m)\u001b[0m\u001b[1;33m\u001b[0m\u001b[1;33m\u001b[0m\u001b[0m\n",
      "\u001b[1;32m~\\anaconda3\\lib\\site-packages\\sklearn\\linear_model\\_logistic.py\u001b[0m in \u001b[0;36mfit\u001b[1;34m(self, X, y, sample_weight)\u001b[0m\n\u001b[0;32m   1340\u001b[0m             \u001b[0m_dtype\u001b[0m \u001b[1;33m=\u001b[0m \u001b[1;33m[\u001b[0m\u001b[0mnp\u001b[0m\u001b[1;33m.\u001b[0m\u001b[0mfloat64\u001b[0m\u001b[1;33m,\u001b[0m \u001b[0mnp\u001b[0m\u001b[1;33m.\u001b[0m\u001b[0mfloat32\u001b[0m\u001b[1;33m]\u001b[0m\u001b[1;33m\u001b[0m\u001b[1;33m\u001b[0m\u001b[0m\n\u001b[0;32m   1341\u001b[0m \u001b[1;33m\u001b[0m\u001b[0m\n\u001b[1;32m-> 1342\u001b[1;33m         X, y = self._validate_data(X, y, accept_sparse='csr', dtype=_dtype,\n\u001b[0m\u001b[0;32m   1343\u001b[0m                                    \u001b[0morder\u001b[0m\u001b[1;33m=\u001b[0m\u001b[1;34m\"C\"\u001b[0m\u001b[1;33m,\u001b[0m\u001b[1;33m\u001b[0m\u001b[1;33m\u001b[0m\u001b[0m\n\u001b[0;32m   1344\u001b[0m                                    accept_large_sparse=solver != 'liblinear')\n",
      "\u001b[1;32m~\\anaconda3\\lib\\site-packages\\sklearn\\base.py\u001b[0m in \u001b[0;36m_validate_data\u001b[1;34m(self, X, y, reset, validate_separately, **check_params)\u001b[0m\n\u001b[0;32m    430\u001b[0m                 \u001b[0my\u001b[0m \u001b[1;33m=\u001b[0m \u001b[0mcheck_array\u001b[0m\u001b[1;33m(\u001b[0m\u001b[0my\u001b[0m\u001b[1;33m,\u001b[0m \u001b[1;33m**\u001b[0m\u001b[0mcheck_y_params\u001b[0m\u001b[1;33m)\u001b[0m\u001b[1;33m\u001b[0m\u001b[1;33m\u001b[0m\u001b[0m\n\u001b[0;32m    431\u001b[0m             \u001b[1;32melse\u001b[0m\u001b[1;33m:\u001b[0m\u001b[1;33m\u001b[0m\u001b[1;33m\u001b[0m\u001b[0m\n\u001b[1;32m--> 432\u001b[1;33m                 \u001b[0mX\u001b[0m\u001b[1;33m,\u001b[0m \u001b[0my\u001b[0m \u001b[1;33m=\u001b[0m \u001b[0mcheck_X_y\u001b[0m\u001b[1;33m(\u001b[0m\u001b[0mX\u001b[0m\u001b[1;33m,\u001b[0m \u001b[0my\u001b[0m\u001b[1;33m,\u001b[0m \u001b[1;33m**\u001b[0m\u001b[0mcheck_params\u001b[0m\u001b[1;33m)\u001b[0m\u001b[1;33m\u001b[0m\u001b[1;33m\u001b[0m\u001b[0m\n\u001b[0m\u001b[0;32m    433\u001b[0m             \u001b[0mout\u001b[0m \u001b[1;33m=\u001b[0m \u001b[0mX\u001b[0m\u001b[1;33m,\u001b[0m \u001b[0my\u001b[0m\u001b[1;33m\u001b[0m\u001b[1;33m\u001b[0m\u001b[0m\n\u001b[0;32m    434\u001b[0m \u001b[1;33m\u001b[0m\u001b[0m\n",
      "\u001b[1;32m~\\anaconda3\\lib\\site-packages\\sklearn\\utils\\validation.py\u001b[0m in \u001b[0;36minner_f\u001b[1;34m(*args, **kwargs)\u001b[0m\n\u001b[0;32m     70\u001b[0m                           FutureWarning)\n\u001b[0;32m     71\u001b[0m         \u001b[0mkwargs\u001b[0m\u001b[1;33m.\u001b[0m\u001b[0mupdate\u001b[0m\u001b[1;33m(\u001b[0m\u001b[1;33m{\u001b[0m\u001b[0mk\u001b[0m\u001b[1;33m:\u001b[0m \u001b[0marg\u001b[0m \u001b[1;32mfor\u001b[0m \u001b[0mk\u001b[0m\u001b[1;33m,\u001b[0m \u001b[0marg\u001b[0m \u001b[1;32min\u001b[0m \u001b[0mzip\u001b[0m\u001b[1;33m(\u001b[0m\u001b[0msig\u001b[0m\u001b[1;33m.\u001b[0m\u001b[0mparameters\u001b[0m\u001b[1;33m,\u001b[0m \u001b[0margs\u001b[0m\u001b[1;33m)\u001b[0m\u001b[1;33m}\u001b[0m\u001b[1;33m)\u001b[0m\u001b[1;33m\u001b[0m\u001b[1;33m\u001b[0m\u001b[0m\n\u001b[1;32m---> 72\u001b[1;33m         \u001b[1;32mreturn\u001b[0m \u001b[0mf\u001b[0m\u001b[1;33m(\u001b[0m\u001b[1;33m**\u001b[0m\u001b[0mkwargs\u001b[0m\u001b[1;33m)\u001b[0m\u001b[1;33m\u001b[0m\u001b[1;33m\u001b[0m\u001b[0m\n\u001b[0m\u001b[0;32m     73\u001b[0m     \u001b[1;32mreturn\u001b[0m \u001b[0minner_f\u001b[0m\u001b[1;33m\u001b[0m\u001b[1;33m\u001b[0m\u001b[0m\n\u001b[0;32m     74\u001b[0m \u001b[1;33m\u001b[0m\u001b[0m\n",
      "\u001b[1;32m~\\anaconda3\\lib\\site-packages\\sklearn\\utils\\validation.py\u001b[0m in \u001b[0;36mcheck_X_y\u001b[1;34m(X, y, accept_sparse, accept_large_sparse, dtype, order, copy, force_all_finite, ensure_2d, allow_nd, multi_output, ensure_min_samples, ensure_min_features, y_numeric, estimator)\u001b[0m\n\u001b[0;32m    793\u001b[0m         \u001b[1;32mraise\u001b[0m \u001b[0mValueError\u001b[0m\u001b[1;33m(\u001b[0m\u001b[1;34m\"y cannot be None\"\u001b[0m\u001b[1;33m)\u001b[0m\u001b[1;33m\u001b[0m\u001b[1;33m\u001b[0m\u001b[0m\n\u001b[0;32m    794\u001b[0m \u001b[1;33m\u001b[0m\u001b[0m\n\u001b[1;32m--> 795\u001b[1;33m     X = check_array(X, accept_sparse=accept_sparse,\n\u001b[0m\u001b[0;32m    796\u001b[0m                     \u001b[0maccept_large_sparse\u001b[0m\u001b[1;33m=\u001b[0m\u001b[0maccept_large_sparse\u001b[0m\u001b[1;33m,\u001b[0m\u001b[1;33m\u001b[0m\u001b[1;33m\u001b[0m\u001b[0m\n\u001b[0;32m    797\u001b[0m                     \u001b[0mdtype\u001b[0m\u001b[1;33m=\u001b[0m\u001b[0mdtype\u001b[0m\u001b[1;33m,\u001b[0m \u001b[0morder\u001b[0m\u001b[1;33m=\u001b[0m\u001b[0morder\u001b[0m\u001b[1;33m,\u001b[0m \u001b[0mcopy\u001b[0m\u001b[1;33m=\u001b[0m\u001b[0mcopy\u001b[0m\u001b[1;33m,\u001b[0m\u001b[1;33m\u001b[0m\u001b[1;33m\u001b[0m\u001b[0m\n",
      "\u001b[1;32m~\\anaconda3\\lib\\site-packages\\sklearn\\utils\\validation.py\u001b[0m in \u001b[0;36minner_f\u001b[1;34m(*args, **kwargs)\u001b[0m\n\u001b[0;32m     70\u001b[0m                           FutureWarning)\n\u001b[0;32m     71\u001b[0m         \u001b[0mkwargs\u001b[0m\u001b[1;33m.\u001b[0m\u001b[0mupdate\u001b[0m\u001b[1;33m(\u001b[0m\u001b[1;33m{\u001b[0m\u001b[0mk\u001b[0m\u001b[1;33m:\u001b[0m \u001b[0marg\u001b[0m \u001b[1;32mfor\u001b[0m \u001b[0mk\u001b[0m\u001b[1;33m,\u001b[0m \u001b[0marg\u001b[0m \u001b[1;32min\u001b[0m \u001b[0mzip\u001b[0m\u001b[1;33m(\u001b[0m\u001b[0msig\u001b[0m\u001b[1;33m.\u001b[0m\u001b[0mparameters\u001b[0m\u001b[1;33m,\u001b[0m \u001b[0margs\u001b[0m\u001b[1;33m)\u001b[0m\u001b[1;33m}\u001b[0m\u001b[1;33m)\u001b[0m\u001b[1;33m\u001b[0m\u001b[1;33m\u001b[0m\u001b[0m\n\u001b[1;32m---> 72\u001b[1;33m         \u001b[1;32mreturn\u001b[0m \u001b[0mf\u001b[0m\u001b[1;33m(\u001b[0m\u001b[1;33m**\u001b[0m\u001b[0mkwargs\u001b[0m\u001b[1;33m)\u001b[0m\u001b[1;33m\u001b[0m\u001b[1;33m\u001b[0m\u001b[0m\n\u001b[0m\u001b[0;32m     73\u001b[0m     \u001b[1;32mreturn\u001b[0m \u001b[0minner_f\u001b[0m\u001b[1;33m\u001b[0m\u001b[1;33m\u001b[0m\u001b[0m\n\u001b[0;32m     74\u001b[0m \u001b[1;33m\u001b[0m\u001b[0m\n",
      "\u001b[1;32m~\\anaconda3\\lib\\site-packages\\sklearn\\utils\\validation.py\u001b[0m in \u001b[0;36mcheck_array\u001b[1;34m(array, accept_sparse, accept_large_sparse, dtype, order, copy, force_all_finite, ensure_2d, allow_nd, ensure_min_samples, ensure_min_features, estimator)\u001b[0m\n\u001b[0;32m    596\u001b[0m                     \u001b[0marray\u001b[0m \u001b[1;33m=\u001b[0m \u001b[0marray\u001b[0m\u001b[1;33m.\u001b[0m\u001b[0mastype\u001b[0m\u001b[1;33m(\u001b[0m\u001b[0mdtype\u001b[0m\u001b[1;33m,\u001b[0m \u001b[0mcasting\u001b[0m\u001b[1;33m=\u001b[0m\u001b[1;34m\"unsafe\"\u001b[0m\u001b[1;33m,\u001b[0m \u001b[0mcopy\u001b[0m\u001b[1;33m=\u001b[0m\u001b[1;32mFalse\u001b[0m\u001b[1;33m)\u001b[0m\u001b[1;33m\u001b[0m\u001b[1;33m\u001b[0m\u001b[0m\n\u001b[0;32m    597\u001b[0m                 \u001b[1;32melse\u001b[0m\u001b[1;33m:\u001b[0m\u001b[1;33m\u001b[0m\u001b[1;33m\u001b[0m\u001b[0m\n\u001b[1;32m--> 598\u001b[1;33m                     \u001b[0marray\u001b[0m \u001b[1;33m=\u001b[0m \u001b[0mnp\u001b[0m\u001b[1;33m.\u001b[0m\u001b[0masarray\u001b[0m\u001b[1;33m(\u001b[0m\u001b[0marray\u001b[0m\u001b[1;33m,\u001b[0m \u001b[0morder\u001b[0m\u001b[1;33m=\u001b[0m\u001b[0morder\u001b[0m\u001b[1;33m,\u001b[0m \u001b[0mdtype\u001b[0m\u001b[1;33m=\u001b[0m\u001b[0mdtype\u001b[0m\u001b[1;33m)\u001b[0m\u001b[1;33m\u001b[0m\u001b[1;33m\u001b[0m\u001b[0m\n\u001b[0m\u001b[0;32m    599\u001b[0m             \u001b[1;32mexcept\u001b[0m \u001b[0mComplexWarning\u001b[0m\u001b[1;33m:\u001b[0m\u001b[1;33m\u001b[0m\u001b[1;33m\u001b[0m\u001b[0m\n\u001b[0;32m    600\u001b[0m                 raise ValueError(\"Complex data not supported\\n\"\n",
      "\u001b[1;32m~\\anaconda3\\lib\\site-packages\\numpy\\core\\_asarray.py\u001b[0m in \u001b[0;36masarray\u001b[1;34m(a, dtype, order)\u001b[0m\n\u001b[0;32m     81\u001b[0m \u001b[1;33m\u001b[0m\u001b[0m\n\u001b[0;32m     82\u001b[0m     \"\"\"\n\u001b[1;32m---> 83\u001b[1;33m     \u001b[1;32mreturn\u001b[0m \u001b[0marray\u001b[0m\u001b[1;33m(\u001b[0m\u001b[0ma\u001b[0m\u001b[1;33m,\u001b[0m \u001b[0mdtype\u001b[0m\u001b[1;33m,\u001b[0m \u001b[0mcopy\u001b[0m\u001b[1;33m=\u001b[0m\u001b[1;32mFalse\u001b[0m\u001b[1;33m,\u001b[0m \u001b[0morder\u001b[0m\u001b[1;33m=\u001b[0m\u001b[0morder\u001b[0m\u001b[1;33m)\u001b[0m\u001b[1;33m\u001b[0m\u001b[1;33m\u001b[0m\u001b[0m\n\u001b[0m\u001b[0;32m     84\u001b[0m \u001b[1;33m\u001b[0m\u001b[0m\n\u001b[0;32m     85\u001b[0m \u001b[1;33m\u001b[0m\u001b[0m\n",
      "\u001b[1;32m~\\anaconda3\\lib\\site-packages\\pandas\\core\\series.py\u001b[0m in \u001b[0;36m__array__\u001b[1;34m(self, dtype)\u001b[0m\n\u001b[0;32m    870\u001b[0m               dtype='datetime64[ns]')\n\u001b[0;32m    871\u001b[0m         \"\"\"\n\u001b[1;32m--> 872\u001b[1;33m         \u001b[1;32mreturn\u001b[0m \u001b[0mnp\u001b[0m\u001b[1;33m.\u001b[0m\u001b[0masarray\u001b[0m\u001b[1;33m(\u001b[0m\u001b[0mself\u001b[0m\u001b[1;33m.\u001b[0m\u001b[0m_values\u001b[0m\u001b[1;33m,\u001b[0m \u001b[0mdtype\u001b[0m\u001b[1;33m)\u001b[0m\u001b[1;33m\u001b[0m\u001b[1;33m\u001b[0m\u001b[0m\n\u001b[0m\u001b[0;32m    873\u001b[0m \u001b[1;33m\u001b[0m\u001b[0m\n\u001b[0;32m    874\u001b[0m     \u001b[1;31m# ----------------------------------------------------------------------\u001b[0m\u001b[1;33m\u001b[0m\u001b[1;33m\u001b[0m\u001b[1;33m\u001b[0m\u001b[0m\n",
      "\u001b[1;32m~\\anaconda3\\lib\\site-packages\\numpy\\core\\_asarray.py\u001b[0m in \u001b[0;36masarray\u001b[1;34m(a, dtype, order)\u001b[0m\n\u001b[0;32m     81\u001b[0m \u001b[1;33m\u001b[0m\u001b[0m\n\u001b[0;32m     82\u001b[0m     \"\"\"\n\u001b[1;32m---> 83\u001b[1;33m     \u001b[1;32mreturn\u001b[0m \u001b[0marray\u001b[0m\u001b[1;33m(\u001b[0m\u001b[0ma\u001b[0m\u001b[1;33m,\u001b[0m \u001b[0mdtype\u001b[0m\u001b[1;33m,\u001b[0m \u001b[0mcopy\u001b[0m\u001b[1;33m=\u001b[0m\u001b[1;32mFalse\u001b[0m\u001b[1;33m,\u001b[0m \u001b[0morder\u001b[0m\u001b[1;33m=\u001b[0m\u001b[0morder\u001b[0m\u001b[1;33m)\u001b[0m\u001b[1;33m\u001b[0m\u001b[1;33m\u001b[0m\u001b[0m\n\u001b[0m\u001b[0;32m     84\u001b[0m \u001b[1;33m\u001b[0m\u001b[0m\n\u001b[0;32m     85\u001b[0m \u001b[1;33m\u001b[0m\u001b[0m\n",
      "\u001b[1;31mValueError\u001b[0m: could not convert string to float: '대 초반의 배우 초창기부터 요부의 정형화된 역할모델에서 벗어나지 못하는 모니카'"
     ]
    }
   ],
   "source": [
    "# 로지스틱 모형으로 학습\n",
    "from sklearn.linear_model import LogisticRegression\n",
    "pipe2 = Pipeline([\n",
    "    ('vect', CountVectorizer()),\n",
    "    ('clf', LogisticRegression())\n",
    "])\n",
    "\n",
    "param_grid = {'C': [0.001, 0.01, 0.1, 1, 10, 100],\n",
    "              'penalty': ['none', 'l2']}\n",
    "\n",
    "gs = GridSearchCV(estimator = LogisticRegression(), cv= 5, param_grid=param_grid, n_jobs = -1)\n",
    "\n",
    "result = gs.fit(train_data_X, train_data_y)\n",
    "\n",
    "print('최적 파라미터: {}'.format(gs.best_params_)) # 최적의 파라미터 출력\n",
    "print('최적 점수: {}'.format(gs.best_score_)) # 최적 파라미터의 평가 점수 출력\n",
    "print(result.best_estimator_) # 최적 파라미터로 학습된 estimator 출력"
   ]
  },
  {
   "cell_type": "code",
   "execution_count": 38,
   "id": "ef2d68cc-54bb-469b-b043-645e3f324422",
   "metadata": {},
   "outputs": [
    {
     "data": {
      "text/plain": [
       "Pipeline(steps=[('vect', CountVectorizer()), ('mb', MultinomialNB())])"
      ]
     },
     "execution_count": 38,
     "metadata": {},
     "output_type": "execute_result"
    }
   ],
   "source": [
    "# %%time\n",
    "model2.fit(train_data_X, train_data_y)"
   ]
  },
  {
   "cell_type": "code",
   "execution_count": 41,
   "id": "26c52bad-2af9-4c9b-b642-03802bc951dd",
   "metadata": {},
   "outputs": [
    {
     "name": "stdout",
     "output_type": "stream",
     "text": [
      "사용 모델: 로지스틱 회귀분석\n",
      "              precision    recall  f1-score   support\n",
      "\n",
      "           0       0.79      0.83      0.81     22495\n",
      "           1       0.82      0.78      0.80     22504\n",
      "\n",
      "    accuracy                           0.80     44999\n",
      "   macro avg       0.80      0.80      0.80     44999\n",
      "weighted avg       0.80      0.80      0.80     44999\n",
      "\n"
     ]
    }
   ],
   "source": [
    "# classification_report을 이용한 성능 평가\n",
    "# support: 각 라벨의 실제 샘플 개수\n",
    "# macro avg: 각 클래스 별로 동일한 가중치 부여(샘플 개수의 불균형을 고려하지 않음) → 소수 클래스에 대한 성능이 낮을 때 더 큰 패널티 발생\n",
    "# f1 macro avg = (0.81+0.08)/2 = 0.80\n",
    "# weighted avg: 각 클래스에 속하는 표본의 개수로 가중 평균 계산(샘플 개수의 불균형 고려) → 샘플 개수가 적은 클래스의 영향력 감소\n",
    "print('사용 모델: 로지스틱 회귀분석')\n",
    "print(classification_report(val_data_y, model1.predict(val_data_X)))"
   ]
  },
  {
   "cell_type": "code",
   "execution_count": null,
   "id": "85f890d2-66ee-43ee-b609-0de7bc070e14",
   "metadata": {},
   "outputs": [],
   "source": []
  }
 ],
 "metadata": {
  "kernelspec": {
   "display_name": "Python 3",
   "language": "python",
   "name": "python3"
  },
  "language_info": {
   "codemirror_mode": {
    "name": "ipython",
    "version": 3
   },
   "file_extension": ".py",
   "mimetype": "text/x-python",
   "name": "python",
   "nbconvert_exporter": "python",
   "pygments_lexer": "ipython3",
   "version": "3.8.8"
  }
 },
 "nbformat": 4,
 "nbformat_minor": 5
}
