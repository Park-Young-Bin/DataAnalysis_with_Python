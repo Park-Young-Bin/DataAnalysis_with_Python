{
 "cells": [
  {
   "cell_type": "markdown",
   "id": "7f552ab0-3e04-4f6a-9a87-de2603409eb4",
   "metadata": {},
   "source": [
    "# [[데이콘] 전복 나이 예측 경진대회](https://dacon.io/competitions/official/235877/overview/description)\n",
    "\n",
    "- id : 샘플 아이디\n",
    "- Gender : 전복 성별(I: Infant(유충))\n",
    "- Lenght : 전복 길이\n",
    "- Diameter : 전복 둘레\n",
    "- Height : 전복 키 \n",
    "- Whole : Weight : 전복 전체 무게\n",
    "- Shucked Weight : 껍질을 제외한 무게\n",
    "- Viscra Weight : 내장 무게\n",
    "- Shell Weight : 껍질 무게\n",
    "- Target : 전복 나이"
   ]
  },
  {
   "cell_type": "markdown",
   "id": "da6a4228-fc66-429f-b24c-e93f78a837ed",
   "metadata": {},
   "source": [
    "## 1. Load packages"
   ]
  },
  {
   "cell_type": "code",
   "execution_count": 1,
   "id": "d15bbd03-9a2f-432d-8e0b-b8c0c3477a13",
   "metadata": {},
   "outputs": [],
   "source": [
    "import pandas as pd\n",
    "import numpy as np\n",
    "import matplotlib.pyplot as plt\n",
    "import seaborn as sns\n",
    "\n",
    "plt.rc('font', family='Malgun Gothic')\n",
    "plt.rcParams['axes.unicode_minus'] = False\n",
    "\n",
    "# 평가 산식: nmae score\n",
    "def NMAE(true, pred):\n",
    "    mae = np.mean(np.abs(true-pred))\n",
    "    score = mae / np.mean(np.abs(true))\n",
    "    return score"
   ]
  },
  {
   "cell_type": "markdown",
   "id": "c65c0efd-9e7f-4550-b476-5523aa18a085",
   "metadata": {},
   "source": [
    "## 2. Data loading"
   ]
  },
  {
   "cell_type": "code",
   "execution_count": 65,
   "id": "7e4a4b7a-dfa0-4703-8490-ab4a0a5a1cb5",
   "metadata": {},
   "outputs": [],
   "source": [
    "train = pd.read_csv('data/전복 나이 예측 경진대회/train.csv')\n",
    "test = pd.read_csv('data/전복 나이 예측 경진대회/test.csv')\n",
    "submission = pd.read_csv('data/전복 나이 예측 경진대회/sample_submission.csv')"
   ]
  },
  {
   "cell_type": "code",
   "execution_count": 3,
   "id": "29ff804d-868f-43f0-94e8-00c97a7bb7f1",
   "metadata": {},
   "outputs": [
    {
     "data": {
      "text/html": [
       "<div>\n",
       "<style scoped>\n",
       "    .dataframe tbody tr th:only-of-type {\n",
       "        vertical-align: middle;\n",
       "    }\n",
       "\n",
       "    .dataframe tbody tr th {\n",
       "        vertical-align: top;\n",
       "    }\n",
       "\n",
       "    .dataframe thead th {\n",
       "        text-align: right;\n",
       "    }\n",
       "</style>\n",
       "<table border=\"1\" class=\"dataframe\">\n",
       "  <thead>\n",
       "    <tr style=\"text-align: right;\">\n",
       "      <th></th>\n",
       "      <th>id</th>\n",
       "      <th>Gender</th>\n",
       "      <th>Lenght</th>\n",
       "      <th>Diameter</th>\n",
       "      <th>Height</th>\n",
       "      <th>Whole Weight</th>\n",
       "      <th>Shucked Weight</th>\n",
       "      <th>Viscra Weight</th>\n",
       "      <th>Shell Weight</th>\n",
       "      <th>Target</th>\n",
       "    </tr>\n",
       "  </thead>\n",
       "  <tbody>\n",
       "    <tr>\n",
       "      <th>0</th>\n",
       "      <td>1</td>\n",
       "      <td>M</td>\n",
       "      <td>0.605</td>\n",
       "      <td>0.470</td>\n",
       "      <td>0.115</td>\n",
       "      <td>1.1140</td>\n",
       "      <td>0.3925</td>\n",
       "      <td>0.291</td>\n",
       "      <td>0.3100</td>\n",
       "      <td>15</td>\n",
       "    </tr>\n",
       "    <tr>\n",
       "      <th>1</th>\n",
       "      <td>2</td>\n",
       "      <td>I</td>\n",
       "      <td>0.430</td>\n",
       "      <td>0.315</td>\n",
       "      <td>0.095</td>\n",
       "      <td>0.3780</td>\n",
       "      <td>0.1750</td>\n",
       "      <td>0.080</td>\n",
       "      <td>0.1045</td>\n",
       "      <td>8</td>\n",
       "    </tr>\n",
       "    <tr>\n",
       "      <th>2</th>\n",
       "      <td>3</td>\n",
       "      <td>I</td>\n",
       "      <td>0.580</td>\n",
       "      <td>0.490</td>\n",
       "      <td>0.195</td>\n",
       "      <td>1.3165</td>\n",
       "      <td>0.5305</td>\n",
       "      <td>0.254</td>\n",
       "      <td>0.4100</td>\n",
       "      <td>18</td>\n",
       "    </tr>\n",
       "  </tbody>\n",
       "</table>\n",
       "</div>"
      ],
      "text/plain": [
       "   id Gender  Lenght  Diameter  Height  Whole Weight  Shucked Weight  \\\n",
       "0   1      M   0.605     0.470   0.115        1.1140          0.3925   \n",
       "1   2      I   0.430     0.315   0.095        0.3780          0.1750   \n",
       "2   3      I   0.580     0.490   0.195        1.3165          0.5305   \n",
       "\n",
       "   Viscra Weight  Shell Weight  Target  \n",
       "0          0.291        0.3100      15  \n",
       "1          0.080        0.1045       8  \n",
       "2          0.254        0.4100      18  "
      ]
     },
     "execution_count": 3,
     "metadata": {},
     "output_type": "execute_result"
    }
   ],
   "source": [
    "train.head(3)"
   ]
  },
  {
   "cell_type": "code",
   "execution_count": 4,
   "id": "f3e87793-a4a3-4a13-b393-aefcbad32521",
   "metadata": {},
   "outputs": [
    {
     "data": {
      "text/html": [
       "<div>\n",
       "<style scoped>\n",
       "    .dataframe tbody tr th:only-of-type {\n",
       "        vertical-align: middle;\n",
       "    }\n",
       "\n",
       "    .dataframe tbody tr th {\n",
       "        vertical-align: top;\n",
       "    }\n",
       "\n",
       "    .dataframe thead th {\n",
       "        text-align: right;\n",
       "    }\n",
       "</style>\n",
       "<table border=\"1\" class=\"dataframe\">\n",
       "  <thead>\n",
       "    <tr style=\"text-align: right;\">\n",
       "      <th></th>\n",
       "      <th>id</th>\n",
       "      <th>Gender</th>\n",
       "      <th>Lenght</th>\n",
       "      <th>Diameter</th>\n",
       "      <th>Height</th>\n",
       "      <th>Whole Weight</th>\n",
       "      <th>Shucked Weight</th>\n",
       "      <th>Viscra Weight</th>\n",
       "      <th>Shell Weight</th>\n",
       "    </tr>\n",
       "  </thead>\n",
       "  <tbody>\n",
       "    <tr>\n",
       "      <th>0</th>\n",
       "      <td>1</td>\n",
       "      <td>F</td>\n",
       "      <td>0.595</td>\n",
       "      <td>0.470</td>\n",
       "      <td>0.155</td>\n",
       "      <td>1.121</td>\n",
       "      <td>0.4515</td>\n",
       "      <td>0.1780</td>\n",
       "      <td>0.1550</td>\n",
       "    </tr>\n",
       "    <tr>\n",
       "      <th>1</th>\n",
       "      <td>2</td>\n",
       "      <td>M</td>\n",
       "      <td>0.580</td>\n",
       "      <td>0.450</td>\n",
       "      <td>0.150</td>\n",
       "      <td>0.927</td>\n",
       "      <td>0.2760</td>\n",
       "      <td>0.1815</td>\n",
       "      <td>0.3600</td>\n",
       "    </tr>\n",
       "    <tr>\n",
       "      <th>2</th>\n",
       "      <td>3</td>\n",
       "      <td>I</td>\n",
       "      <td>0.260</td>\n",
       "      <td>0.205</td>\n",
       "      <td>0.070</td>\n",
       "      <td>0.097</td>\n",
       "      <td>0.0415</td>\n",
       "      <td>0.0190</td>\n",
       "      <td>0.0305</td>\n",
       "    </tr>\n",
       "  </tbody>\n",
       "</table>\n",
       "</div>"
      ],
      "text/plain": [
       "   id Gender  Lenght  Diameter  Height  Whole Weight  Shucked Weight  \\\n",
       "0   1      F   0.595     0.470   0.155         1.121          0.4515   \n",
       "1   2      M   0.580     0.450   0.150         0.927          0.2760   \n",
       "2   3      I   0.260     0.205   0.070         0.097          0.0415   \n",
       "\n",
       "   Viscra Weight  Shell Weight  \n",
       "0         0.1780        0.1550  \n",
       "1         0.1815        0.3600  \n",
       "2         0.0190        0.0305  "
      ]
     },
     "execution_count": 4,
     "metadata": {},
     "output_type": "execute_result"
    }
   ],
   "source": [
    "test.head(3)"
   ]
  },
  {
   "cell_type": "code",
   "execution_count": 5,
   "id": "de55ff9a-ba27-4151-8eb2-3ee093af913c",
   "metadata": {},
   "outputs": [
    {
     "data": {
      "text/html": [
       "<div>\n",
       "<style scoped>\n",
       "    .dataframe tbody tr th:only-of-type {\n",
       "        vertical-align: middle;\n",
       "    }\n",
       "\n",
       "    .dataframe tbody tr th {\n",
       "        vertical-align: top;\n",
       "    }\n",
       "\n",
       "    .dataframe thead th {\n",
       "        text-align: right;\n",
       "    }\n",
       "</style>\n",
       "<table border=\"1\" class=\"dataframe\">\n",
       "  <thead>\n",
       "    <tr style=\"text-align: right;\">\n",
       "      <th></th>\n",
       "      <th>id</th>\n",
       "      <th>Target</th>\n",
       "    </tr>\n",
       "  </thead>\n",
       "  <tbody>\n",
       "    <tr>\n",
       "      <th>0</th>\n",
       "      <td>1</td>\n",
       "      <td>0</td>\n",
       "    </tr>\n",
       "    <tr>\n",
       "      <th>1</th>\n",
       "      <td>2</td>\n",
       "      <td>0</td>\n",
       "    </tr>\n",
       "    <tr>\n",
       "      <th>2</th>\n",
       "      <td>3</td>\n",
       "      <td>0</td>\n",
       "    </tr>\n",
       "  </tbody>\n",
       "</table>\n",
       "</div>"
      ],
      "text/plain": [
       "   id  Target\n",
       "0   1       0\n",
       "1   2       0\n",
       "2   3       0"
      ]
     },
     "execution_count": 5,
     "metadata": {},
     "output_type": "execute_result"
    }
   ],
   "source": [
    "submission.head(3)"
   ]
  },
  {
   "cell_type": "markdown",
   "id": "33bae2bd-3dea-4d81-9f29-7aaf96d5bc1a",
   "metadata": {},
   "source": [
    "## 3. Preprocessing\n",
    "### 1) 데이터 정보 확인"
   ]
  },
  {
   "cell_type": "code",
   "execution_count": 10,
   "id": "dbbe6409-a641-4377-990a-75b29cfe78a1",
   "metadata": {},
   "outputs": [
    {
     "name": "stdout",
     "output_type": "stream",
     "text": [
      "<class 'pandas.core.frame.DataFrame'>\n",
      "RangeIndex: 1253 entries, 0 to 1252\n",
      "Data columns (total 10 columns):\n",
      " #   Column          Non-Null Count  Dtype  \n",
      "---  ------          --------------  -----  \n",
      " 0   id              1253 non-null   int64  \n",
      " 1   Gender          1253 non-null   object \n",
      " 2   Lenght          1253 non-null   float64\n",
      " 3   Diameter        1253 non-null   float64\n",
      " 4   Height          1253 non-null   float64\n",
      " 5   Whole Weight    1253 non-null   float64\n",
      " 6   Shucked Weight  1253 non-null   float64\n",
      " 7   Viscra Weight   1253 non-null   float64\n",
      " 8   Shell Weight    1253 non-null   float64\n",
      " 9   Target          1253 non-null   int64  \n",
      "dtypes: float64(7), int64(2), object(1)\n",
      "memory usage: 98.0+ KB\n"
     ]
    }
   ],
   "source": [
    "train.info()"
   ]
  },
  {
   "cell_type": "code",
   "execution_count": 11,
   "id": "6d5df354-c38c-4e13-be02-5b21a9987f2d",
   "metadata": {},
   "outputs": [
    {
     "data": {
      "text/plain": [
       "id                0\n",
       "Gender            0\n",
       "Lenght            0\n",
       "Diameter          0\n",
       "Height            0\n",
       "Whole Weight      0\n",
       "Shucked Weight    0\n",
       "Viscra Weight     0\n",
       "Shell Weight      0\n",
       "Target            0\n",
       "dtype: int64"
      ]
     },
     "execution_count": 11,
     "metadata": {},
     "output_type": "execute_result"
    }
   ],
   "source": [
    "train.isnull().sum()"
   ]
  },
  {
   "cell_type": "code",
   "execution_count": 12,
   "id": "4ffaee75-1fdb-445e-8cb6-a8c0ec133af9",
   "metadata": {},
   "outputs": [
    {
     "name": "stdout",
     "output_type": "stream",
     "text": [
      "<class 'pandas.core.frame.DataFrame'>\n",
      "RangeIndex: 2924 entries, 0 to 2923\n",
      "Data columns (total 9 columns):\n",
      " #   Column          Non-Null Count  Dtype  \n",
      "---  ------          --------------  -----  \n",
      " 0   id              2924 non-null   int64  \n",
      " 1   Gender          2924 non-null   object \n",
      " 2   Lenght          2924 non-null   float64\n",
      " 3   Diameter        2924 non-null   float64\n",
      " 4   Height          2924 non-null   float64\n",
      " 5   Whole Weight    2924 non-null   float64\n",
      " 6   Shucked Weight  2924 non-null   float64\n",
      " 7   Viscra Weight   2924 non-null   float64\n",
      " 8   Shell Weight    2924 non-null   float64\n",
      "dtypes: float64(7), int64(1), object(1)\n",
      "memory usage: 205.7+ KB\n"
     ]
    }
   ],
   "source": [
    "test.info()"
   ]
  },
  {
   "cell_type": "code",
   "execution_count": 13,
   "id": "62b55611-143a-4599-b052-8f2448acd788",
   "metadata": {},
   "outputs": [
    {
     "data": {
      "text/plain": [
       "id                0\n",
       "Gender            0\n",
       "Lenght            0\n",
       "Diameter          0\n",
       "Height            0\n",
       "Whole Weight      0\n",
       "Shucked Weight    0\n",
       "Viscra Weight     0\n",
       "Shell Weight      0\n",
       "dtype: int64"
      ]
     },
     "execution_count": 13,
     "metadata": {},
     "output_type": "execute_result"
    }
   ],
   "source": [
    "test.isnull().sum()"
   ]
  },
  {
   "cell_type": "markdown",
   "id": "fc4e1d1e-5ffe-4735-89dc-d6239e1e93b6",
   "metadata": {},
   "source": [
    "train, test 데이터 모두 결측값 없음"
   ]
  },
  {
   "cell_type": "markdown",
   "id": "9d88a3b3-991b-4065-9fde-d2390319969a",
   "metadata": {},
   "source": [
    "### 2) 기초통계량 확인"
   ]
  },
  {
   "cell_type": "code",
   "execution_count": 17,
   "id": "c6ddbacd-5b97-471b-a263-6a357229fe61",
   "metadata": {},
   "outputs": [
    {
     "data": {
      "text/html": [
       "<div>\n",
       "<style scoped>\n",
       "    .dataframe tbody tr th:only-of-type {\n",
       "        vertical-align: middle;\n",
       "    }\n",
       "\n",
       "    .dataframe tbody tr th {\n",
       "        vertical-align: top;\n",
       "    }\n",
       "\n",
       "    .dataframe thead th {\n",
       "        text-align: right;\n",
       "    }\n",
       "</style>\n",
       "<table border=\"1\" class=\"dataframe\">\n",
       "  <thead>\n",
       "    <tr style=\"text-align: right;\">\n",
       "      <th></th>\n",
       "      <th>Lenght</th>\n",
       "      <th>Diameter</th>\n",
       "      <th>Height</th>\n",
       "      <th>Whole Weight</th>\n",
       "      <th>Shucked Weight</th>\n",
       "      <th>Viscra Weight</th>\n",
       "      <th>Shell Weight</th>\n",
       "      <th>Target</th>\n",
       "    </tr>\n",
       "  </thead>\n",
       "  <tbody>\n",
       "    <tr>\n",
       "      <th>count</th>\n",
       "      <td>1253.000000</td>\n",
       "      <td>1253.000000</td>\n",
       "      <td>1253.000000</td>\n",
       "      <td>1253.000000</td>\n",
       "      <td>1253.000000</td>\n",
       "      <td>1253.000000</td>\n",
       "      <td>1253.000000</td>\n",
       "      <td>1253.000000</td>\n",
       "    </tr>\n",
       "    <tr>\n",
       "      <th>mean</th>\n",
       "      <td>0.522869</td>\n",
       "      <td>0.406963</td>\n",
       "      <td>0.139545</td>\n",
       "      <td>0.831199</td>\n",
       "      <td>0.358818</td>\n",
       "      <td>0.181006</td>\n",
       "      <td>0.240077</td>\n",
       "      <td>9.912211</td>\n",
       "    </tr>\n",
       "    <tr>\n",
       "      <th>std</th>\n",
       "      <td>0.120231</td>\n",
       "      <td>0.099771</td>\n",
       "      <td>0.039033</td>\n",
       "      <td>0.500491</td>\n",
       "      <td>0.224612</td>\n",
       "      <td>0.111936</td>\n",
       "      <td>0.142574</td>\n",
       "      <td>3.214676</td>\n",
       "    </tr>\n",
       "    <tr>\n",
       "      <th>min</th>\n",
       "      <td>0.110000</td>\n",
       "      <td>0.090000</td>\n",
       "      <td>0.030000</td>\n",
       "      <td>0.008000</td>\n",
       "      <td>0.002500</td>\n",
       "      <td>0.002000</td>\n",
       "      <td>0.003000</td>\n",
       "      <td>3.000000</td>\n",
       "    </tr>\n",
       "    <tr>\n",
       "      <th>25%</th>\n",
       "      <td>0.445000</td>\n",
       "      <td>0.345000</td>\n",
       "      <td>0.115000</td>\n",
       "      <td>0.440500</td>\n",
       "      <td>0.182500</td>\n",
       "      <td>0.092500</td>\n",
       "      <td>0.130000</td>\n",
       "      <td>8.000000</td>\n",
       "    </tr>\n",
       "    <tr>\n",
       "      <th>50%</th>\n",
       "      <td>0.535000</td>\n",
       "      <td>0.420000</td>\n",
       "      <td>0.140000</td>\n",
       "      <td>0.777500</td>\n",
       "      <td>0.326000</td>\n",
       "      <td>0.168000</td>\n",
       "      <td>0.230000</td>\n",
       "      <td>10.000000</td>\n",
       "    </tr>\n",
       "    <tr>\n",
       "      <th>75%</th>\n",
       "      <td>0.615000</td>\n",
       "      <td>0.480000</td>\n",
       "      <td>0.165000</td>\n",
       "      <td>1.160000</td>\n",
       "      <td>0.505500</td>\n",
       "      <td>0.256500</td>\n",
       "      <td>0.330000</td>\n",
       "      <td>11.000000</td>\n",
       "    </tr>\n",
       "    <tr>\n",
       "      <th>max</th>\n",
       "      <td>0.780000</td>\n",
       "      <td>0.630000</td>\n",
       "      <td>0.250000</td>\n",
       "      <td>2.779500</td>\n",
       "      <td>1.488000</td>\n",
       "      <td>0.760000</td>\n",
       "      <td>1.005000</td>\n",
       "      <td>29.000000</td>\n",
       "    </tr>\n",
       "  </tbody>\n",
       "</table>\n",
       "</div>"
      ],
      "text/plain": [
       "            Lenght     Diameter       Height  Whole Weight  Shucked Weight  \\\n",
       "count  1253.000000  1253.000000  1253.000000   1253.000000     1253.000000   \n",
       "mean      0.522869     0.406963     0.139545      0.831199        0.358818   \n",
       "std       0.120231     0.099771     0.039033      0.500491        0.224612   \n",
       "min       0.110000     0.090000     0.030000      0.008000        0.002500   \n",
       "25%       0.445000     0.345000     0.115000      0.440500        0.182500   \n",
       "50%       0.535000     0.420000     0.140000      0.777500        0.326000   \n",
       "75%       0.615000     0.480000     0.165000      1.160000        0.505500   \n",
       "max       0.780000     0.630000     0.250000      2.779500        1.488000   \n",
       "\n",
       "       Viscra Weight  Shell Weight       Target  \n",
       "count    1253.000000   1253.000000  1253.000000  \n",
       "mean        0.181006      0.240077     9.912211  \n",
       "std         0.111936      0.142574     3.214676  \n",
       "min         0.002000      0.003000     3.000000  \n",
       "25%         0.092500      0.130000     8.000000  \n",
       "50%         0.168000      0.230000    10.000000  \n",
       "75%         0.256500      0.330000    11.000000  \n",
       "max         0.760000      1.005000    29.000000  "
      ]
     },
     "execution_count": 17,
     "metadata": {},
     "output_type": "execute_result"
    }
   ],
   "source": [
    "train.describe().iloc[:, 1:]"
   ]
  },
  {
   "cell_type": "code",
   "execution_count": 6,
   "id": "44afad06-1fcc-4bc8-a827-e2402c9c6e78",
   "metadata": {},
   "outputs": [
    {
     "name": "stdout",
     "output_type": "stream",
     "text": [
      "['Lenght', 'Diameter', 'Height', 'Whole Weight', 'Shucked Weight', 'Viscra Weight', 'Shell Weight', 'Target']\n"
     ]
    }
   ],
   "source": [
    "feature_train = train.columns.tolist()[2:]\n",
    "print(feature_train)"
   ]
  },
  {
   "cell_type": "code",
   "execution_count": 7,
   "id": "a2cf033e-13c2-4a01-a2e4-f0b21de5e5c6",
   "metadata": {},
   "outputs": [
    {
     "data": {
      "image/png": "[encoded data removed]",
      "text/plain": [
       "<Figure size 720x576 with 8 Axes>"
      ]
     },
     "metadata": {
      "needs_background": "light"
     },
     "output_type": "display_data"
    }
   ],
   "source": [
    "plt.figure(figsize = (10,8))\n",
    "\n",
    "for i in range(len(feature_train)):\n",
    "    plt.subplot(4, 4, i+1)\n",
    "    plt.title(f'{feature_train[i]} Boxplot')\n",
    "    sns.boxplot(data = train, y = train[feature_train[i]])\n",
    "plt.tight_layout()\n",
    "plt.show()"
   ]
  },
  {
   "cell_type": "code",
   "execution_count": 8,
   "id": "00d8685e-b100-4536-854f-420cc4492635",
   "metadata": {},
   "outputs": [
    {
     "data": {
      "text/html": [
       "<div>\n",
       "<style scoped>\n",
       "    .dataframe tbody tr th:only-of-type {\n",
       "        vertical-align: middle;\n",
       "    }\n",
       "\n",
       "    .dataframe tbody tr th {\n",
       "        vertical-align: top;\n",
       "    }\n",
       "\n",
       "    .dataframe thead th {\n",
       "        text-align: right;\n",
       "    }\n",
       "</style>\n",
       "<table border=\"1\" class=\"dataframe\">\n",
       "  <thead>\n",
       "    <tr style=\"text-align: right;\">\n",
       "      <th></th>\n",
       "      <th>Lenght</th>\n",
       "      <th>Diameter</th>\n",
       "      <th>Height</th>\n",
       "      <th>Whole Weight</th>\n",
       "      <th>Shucked Weight</th>\n",
       "      <th>Viscra Weight</th>\n",
       "      <th>Shell Weight</th>\n",
       "    </tr>\n",
       "  </thead>\n",
       "  <tbody>\n",
       "    <tr>\n",
       "      <th>count</th>\n",
       "      <td>2924.000000</td>\n",
       "      <td>2924.000000</td>\n",
       "      <td>2924.000000</td>\n",
       "      <td>2924.000000</td>\n",
       "      <td>2924.000000</td>\n",
       "      <td>2924.000000</td>\n",
       "      <td>2924.000000</td>\n",
       "    </tr>\n",
       "    <tr>\n",
       "      <th>mean</th>\n",
       "      <td>0.524473</td>\n",
       "      <td>0.408275</td>\n",
       "      <td>0.139504</td>\n",
       "      <td>0.827689</td>\n",
       "      <td>0.359603</td>\n",
       "      <td>0.180417</td>\n",
       "      <td>0.238297</td>\n",
       "    </tr>\n",
       "    <tr>\n",
       "      <th>std</th>\n",
       "      <td>0.120051</td>\n",
       "      <td>0.099026</td>\n",
       "      <td>0.042975</td>\n",
       "      <td>0.486079</td>\n",
       "      <td>0.220856</td>\n",
       "      <td>0.108623</td>\n",
       "      <td>0.137754</td>\n",
       "    </tr>\n",
       "    <tr>\n",
       "      <th>min</th>\n",
       "      <td>0.075000</td>\n",
       "      <td>0.055000</td>\n",
       "      <td>0.000000</td>\n",
       "      <td>0.002000</td>\n",
       "      <td>0.001000</td>\n",
       "      <td>0.000500</td>\n",
       "      <td>0.001500</td>\n",
       "    </tr>\n",
       "    <tr>\n",
       "      <th>25%</th>\n",
       "      <td>0.455000</td>\n",
       "      <td>0.350000</td>\n",
       "      <td>0.115000</td>\n",
       "      <td>0.443375</td>\n",
       "      <td>0.188000</td>\n",
       "      <td>0.093500</td>\n",
       "      <td>0.130000</td>\n",
       "    </tr>\n",
       "    <tr>\n",
       "      <th>50%</th>\n",
       "      <td>0.545000</td>\n",
       "      <td>0.425000</td>\n",
       "      <td>0.145000</td>\n",
       "      <td>0.805250</td>\n",
       "      <td>0.340500</td>\n",
       "      <td>0.171500</td>\n",
       "      <td>0.235000</td>\n",
       "    </tr>\n",
       "    <tr>\n",
       "      <th>75%</th>\n",
       "      <td>0.615000</td>\n",
       "      <td>0.480000</td>\n",
       "      <td>0.165000</td>\n",
       "      <td>1.151125</td>\n",
       "      <td>0.501625</td>\n",
       "      <td>0.250500</td>\n",
       "      <td>0.325000</td>\n",
       "    </tr>\n",
       "    <tr>\n",
       "      <th>max</th>\n",
       "      <td>0.815000</td>\n",
       "      <td>0.650000</td>\n",
       "      <td>1.130000</td>\n",
       "      <td>2.825500</td>\n",
       "      <td>1.351000</td>\n",
       "      <td>0.641500</td>\n",
       "      <td>0.897000</td>\n",
       "    </tr>\n",
       "  </tbody>\n",
       "</table>\n",
       "</div>"
      ],
      "text/plain": [
       "            Lenght     Diameter       Height  Whole Weight  Shucked Weight  \\\n",
       "count  2924.000000  2924.000000  2924.000000   2924.000000     2924.000000   \n",
       "mean      0.524473     0.408275     0.139504      0.827689        0.359603   \n",
       "std       0.120051     0.099026     0.042975      0.486079        0.220856   \n",
       "min       0.075000     0.055000     0.000000      0.002000        0.001000   \n",
       "25%       0.455000     0.350000     0.115000      0.443375        0.188000   \n",
       "50%       0.545000     0.425000     0.145000      0.805250        0.340500   \n",
       "75%       0.615000     0.480000     0.165000      1.151125        0.501625   \n",
       "max       0.815000     0.650000     1.130000      2.825500        1.351000   \n",
       "\n",
       "       Viscra Weight  Shell Weight  \n",
       "count    2924.000000   2924.000000  \n",
       "mean        0.180417      0.238297  \n",
       "std         0.108623      0.137754  \n",
       "min         0.000500      0.001500  \n",
       "25%         0.093500      0.130000  \n",
       "50%         0.171500      0.235000  \n",
       "75%         0.250500      0.325000  \n",
       "max         0.641500      0.897000  "
      ]
     },
     "execution_count": 8,
     "metadata": {},
     "output_type": "execute_result"
    }
   ],
   "source": [
    "test.describe().iloc[:, 1:]"
   ]
  },
  {
   "cell_type": "code",
   "execution_count": 9,
   "id": "8da29dc1-bd6e-4a30-a196-6bac8b8c581f",
   "metadata": {},
   "outputs": [
    {
     "name": "stdout",
     "output_type": "stream",
     "text": [
      "['Lenght', 'Diameter', 'Height', 'Whole Weight', 'Shucked Weight', 'Viscra Weight', 'Shell Weight']\n"
     ]
    }
   ],
   "source": [
    "feature_test = test.columns.tolist()[2:]\n",
    "print(feature_test)"
   ]
  },
  {
   "cell_type": "code",
   "execution_count": 10,
   "id": "125639b2-1e7e-4d27-82df-593f877644c0",
   "metadata": {},
   "outputs": [
    {
     "data": {
      "image/png": "[encoded data removed]",
      "text/plain": [
       "<Figure size 720x576 with 7 Axes>"
      ]
     },
     "metadata": {
      "needs_background": "light"
     },
     "output_type": "display_data"
    }
   ],
   "source": [
    "plt.figure(figsize = (10,8))\n",
    "\n",
    "for i in range(len(feature_test)):\n",
    "    plt.subplot(4, 4, i+1)\n",
    "    plt.title(f'{feature_test[i]} Boxplot')\n",
    "    sns.boxplot(data = test, y = test[feature_test[i]])\n",
    "plt.tight_layout()\n",
    "plt.show()"
   ]
  },
  {
   "cell_type": "markdown",
   "id": "f9317038-8199-4ac0-9e03-db4adb203771",
   "metadata": {},
   "source": [
    "### 3) 각 변수별 분포 확인(히스토그램)"
   ]
  },
  {
   "cell_type": "code",
   "execution_count": 11,
   "id": "726f0ca8-f847-4398-a26d-6b6b5bfa2b80",
   "metadata": {},
   "outputs": [
    {
     "data": {
      "image/png": "[encoded data removed]",
      "text/plain": [
       "<Figure size 936x648 with 9 Axes>"
      ]
     },
     "metadata": {
      "needs_background": "light"
     },
     "output_type": "display_data"
    }
   ],
   "source": [
    "train.iloc[:, 2:].hist(bins = 30, figsize = (13, 9))\n",
    "plt.show()"
   ]
  },
  {
   "cell_type": "code",
   "execution_count": 12,
   "id": "fdfd5c66-4784-49a1-b5d8-bf96e8da68e6",
   "metadata": {},
   "outputs": [
    {
     "data": {
      "image/png": "[encoded data removed]",
      "text/plain": [
       "<Figure size 936x648 with 9 Axes>"
      ]
     },
     "metadata": {
      "needs_background": "light"
     },
     "output_type": "display_data"
    }
   ],
   "source": [
    "test.iloc[:, 1:].hist(bins = 30, figsize = (13, 9))\n",
    "plt.show()"
   ]
  },
  {
   "cell_type": "markdown",
   "id": "e9c11c26-2ddb-4c98-a7ab-776eb10af50e",
   "metadata": {},
   "source": [
    "### 3) 각 변수별 상관관계"
   ]
  },
  {
   "cell_type": "code",
   "execution_count": 13,
   "id": "b2d3508d-9066-4ba7-824b-b38340bba628",
   "metadata": {},
   "outputs": [
    {
     "name": "stderr",
     "output_type": "stream",
     "text": [
      "<ipython-input-13-9600ac20c54d>:5: DeprecationWarning: `np.bool` is a deprecated alias for the builtin `bool`. To silence this warning, use `bool` by itself. Doing this will not modify any behavior and is safe. If you specifically wanted the numpy scalar type, use `np.bool_` here.\n",
      "Deprecated in NumPy 1.20; for more details and guidance: https://numpy.org/devdocs/release/1.20.0-notes.html#deprecations\n",
      "  mask = np.zeros_like(corr_df, dtype=np.bool)\n"
     ]
    },
    {
     "data": {
      "image/png": "[encoded data removed]",
      "text/plain": [
       "<Figure size 720x504 with 2 Axes>"
      ]
     },
     "metadata": {
      "needs_background": "light"
     },
     "output_type": "display_data"
    }
   ],
   "source": [
    "# train 각 변수 간 상관관계 확인(id, Gender 변수 제외)\n",
    "corr_df = train.iloc[:, 2:].corr(method='pearson')\n",
    "\n",
    "# 삼각형 마스크를 만든다(위 쪽 삼각형에 True, 아래 삼각형에 False)\n",
    "mask = np.zeros_like(corr_df, dtype=np.bool)\n",
    "mask[np.triu_indices_from(mask)] = True\n",
    "\n",
    "plt.figure(figsize=(10, 7))\n",
    "sns.heatmap(data = corr_df, cmap='Blues', mask=mask,\n",
    "            annot = True, annot_kws={'size' : 12}, linecolor='white', linewidths=.2,\n",
    "           vmin = -1,vmax = 1 # 컬러바 범위 -1 ~ 1\n",
    "           )\n",
    "plt.show()"
   ]
  },
  {
   "cell_type": "code",
   "execution_count": 14,
   "id": "f2f6d7cd-7315-4c83-a5b5-dfe282287b53",
   "metadata": {},
   "outputs": [
    {
     "name": "stderr",
     "output_type": "stream",
     "text": [
      "<ipython-input-14-cdc0d92e8ff2>:5: DeprecationWarning: `np.bool` is a deprecated alias for the builtin `bool`. To silence this warning, use `bool` by itself. Doing this will not modify any behavior and is safe. If you specifically wanted the numpy scalar type, use `np.bool_` here.\n",
      "Deprecated in NumPy 1.20; for more details and guidance: https://numpy.org/devdocs/release/1.20.0-notes.html#deprecations\n",
      "  mask = np.zeros_like(corr_df, dtype=np.bool)\n"
     ]
    },
    {
     "data": {
      "image/png": "[encoded data removed]",
      "text/plain": [
       "<Figure size 720x504 with 2 Axes>"
      ]
     },
     "metadata": {
      "needs_background": "light"
     },
     "output_type": "display_data"
    }
   ],
   "source": [
    "# test 각 변수 간 상관관계 확인(id, Gender 변수 제외)\n",
    "corr_df = test.iloc[:, 1:].corr(method='pearson')\n",
    "\n",
    "# 삼각형 마스크를 만든다(위 쪽 삼각형에 True, 아래 삼각형에 False)\n",
    "mask = np.zeros_like(corr_df, dtype=np.bool)\n",
    "mask[np.triu_indices_from(mask)] = True\n",
    "\n",
    "plt.figure(figsize=(10, 7))\n",
    "sns.heatmap(data = corr_df, cmap='Blues', mask=mask,\n",
    "            annot = True, annot_kws={'size' : 12}, linecolor='white', linewidths=.2,\n",
    "           vmin = -1,vmax = 1 # 컬러바 범위 -1 ~ 1\n",
    "           )\n",
    "plt.show()"
   ]
  },
  {
   "cell_type": "markdown",
   "id": "9a581e2e-6d45-46ba-8a2d-eca5f634443a",
   "metadata": {},
   "source": [
    "### 4) Feature ~ target 관계\n",
    "#### (1) Gender"
   ]
  },
  {
   "cell_type": "code",
   "execution_count": 15,
   "id": "f18819ae-88d6-4068-bd6a-fa28be9b3994",
   "metadata": {},
   "outputs": [
    {
     "data": {
      "text/html": [
       "<div>\n",
       "<style scoped>\n",
       "    .dataframe tbody tr th:only-of-type {\n",
       "        vertical-align: middle;\n",
       "    }\n",
       "\n",
       "    .dataframe tbody tr th {\n",
       "        vertical-align: top;\n",
       "    }\n",
       "\n",
       "    .dataframe thead th {\n",
       "        text-align: right;\n",
       "    }\n",
       "</style>\n",
       "<table border=\"1\" class=\"dataframe\">\n",
       "  <thead>\n",
       "    <tr style=\"text-align: right;\">\n",
       "      <th></th>\n",
       "      <th>Gender</th>\n",
       "      <th>Target</th>\n",
       "    </tr>\n",
       "  </thead>\n",
       "  <tbody>\n",
       "    <tr>\n",
       "      <th>0</th>\n",
       "      <td>M</td>\n",
       "      <td>15</td>\n",
       "    </tr>\n",
       "    <tr>\n",
       "      <th>1</th>\n",
       "      <td>I</td>\n",
       "      <td>8</td>\n",
       "    </tr>\n",
       "    <tr>\n",
       "      <th>2</th>\n",
       "      <td>I</td>\n",
       "      <td>18</td>\n",
       "    </tr>\n",
       "  </tbody>\n",
       "</table>\n",
       "</div>"
      ],
      "text/plain": [
       "  Gender  Target\n",
       "0      M      15\n",
       "1      I       8\n",
       "2      I      18"
      ]
     },
     "execution_count": 15,
     "metadata": {},
     "output_type": "execute_result"
    }
   ],
   "source": [
    "train_gender_df = train[['Gender', 'Target']]\n",
    "train_gender_df.head(3)"
   ]
  },
  {
   "cell_type": "code",
   "execution_count": 16,
   "id": "b4bdd0c5-69d3-4193-b50a-bf2b75685a94",
   "metadata": {},
   "outputs": [
    {
     "data": {
      "text/html": [
       "<div>\n",
       "<style scoped>\n",
       "    .dataframe tbody tr th:only-of-type {\n",
       "        vertical-align: middle;\n",
       "    }\n",
       "\n",
       "    .dataframe tbody tr th {\n",
       "        vertical-align: top;\n",
       "    }\n",
       "\n",
       "    .dataframe thead th {\n",
       "        text-align: right;\n",
       "    }\n",
       "</style>\n",
       "<table border=\"1\" class=\"dataframe\">\n",
       "  <thead>\n",
       "    <tr style=\"text-align: right;\">\n",
       "      <th></th>\n",
       "      <th>Target</th>\n",
       "      <th>Gender_F</th>\n",
       "      <th>Gender_I</th>\n",
       "      <th>Gender_M</th>\n",
       "    </tr>\n",
       "  </thead>\n",
       "  <tbody>\n",
       "    <tr>\n",
       "      <th>0</th>\n",
       "      <td>15</td>\n",
       "      <td>0</td>\n",
       "      <td>0</td>\n",
       "      <td>1</td>\n",
       "    </tr>\n",
       "    <tr>\n",
       "      <th>1</th>\n",
       "      <td>8</td>\n",
       "      <td>0</td>\n",
       "      <td>1</td>\n",
       "      <td>0</td>\n",
       "    </tr>\n",
       "    <tr>\n",
       "      <th>2</th>\n",
       "      <td>18</td>\n",
       "      <td>0</td>\n",
       "      <td>1</td>\n",
       "      <td>0</td>\n",
       "    </tr>\n",
       "  </tbody>\n",
       "</table>\n",
       "</div>"
      ],
      "text/plain": [
       "   Target  Gender_F  Gender_I  Gender_M\n",
       "0      15         0         0         1\n",
       "1       8         0         1         0\n",
       "2      18         0         1         0"
      ]
     },
     "execution_count": 16,
     "metadata": {},
     "output_type": "execute_result"
    }
   ],
   "source": [
    "train_gender_df = pd.get_dummies(train_gender_df, columns=['Gender'])\n",
    "train_gender_df.head(3)"
   ]
  },
  {
   "cell_type": "code",
   "execution_count": 17,
   "id": "3f9ef6e2-6efc-4da0-ab39-0fbb24e039e0",
   "metadata": {},
   "outputs": [
    {
     "data": {
      "text/html": [
       "<table class=\"simpletable\">\n",
       "<caption>OLS Regression Results</caption>\n",
       "<tr>\n",
       "  <th>Dep. Variable:</th>         <td>Target</td>      <th>  R-squared:         </th> <td>   0.193</td>\n",
       "</tr>\n",
       "<tr>\n",
       "  <th>Model:</th>                   <td>OLS</td>       <th>  Adj. R-squared:    </th> <td>   0.192</td>\n",
       "</tr>\n",
       "<tr>\n",
       "  <th>Method:</th>             <td>Least Squares</td>  <th>  F-statistic:       </th> <td>   149.7</td>\n",
       "</tr>\n",
       "<tr>\n",
       "  <th>Date:</th>             <td>Wed, 30 Mar 2022</td> <th>  Prob (F-statistic):</th> <td>5.04e-59</td>\n",
       "</tr>\n",
       "<tr>\n",
       "  <th>Time:</th>                 <td>23:11:08</td>     <th>  Log-Likelihood:    </th> <td> -3106.0</td>\n",
       "</tr>\n",
       "<tr>\n",
       "  <th>No. Observations:</th>      <td>  1253</td>      <th>  AIC:               </th> <td>   6218.</td>\n",
       "</tr>\n",
       "<tr>\n",
       "  <th>Df Residuals:</th>          <td>  1250</td>      <th>  BIC:               </th> <td>   6233.</td>\n",
       "</tr>\n",
       "<tr>\n",
       "  <th>Df Model:</th>              <td>     2</td>      <th>                     </th>     <td> </td>   \n",
       "</tr>\n",
       "<tr>\n",
       "  <th>Covariance Type:</th>      <td>nonrobust</td>    <th>                     </th>     <td> </td>   \n",
       "</tr>\n",
       "</table>\n",
       "<table class=\"simpletable\">\n",
       "<tr>\n",
       "      <td></td>         <th>coef</th>     <th>std err</th>      <th>t</th>      <th>P>|t|</th>  <th>[0.025</th>    <th>0.975]</th>  \n",
       "</tr>\n",
       "<tr>\n",
       "  <th>Intercept</th> <td>    7.8762</td> <td>    0.144</td> <td>   54.785</td> <td> 0.000</td> <td>    7.594</td> <td>    8.158</td>\n",
       "</tr>\n",
       "<tr>\n",
       "  <th>Gender_F</th>  <td>    3.2106</td> <td>    0.207</td> <td>   15.548</td> <td> 0.000</td> <td>    2.805</td> <td>    3.616</td>\n",
       "</tr>\n",
       "<tr>\n",
       "  <th>Gender_M</th>  <td>    2.8380</td> <td>    0.196</td> <td>   14.469</td> <td> 0.000</td> <td>    2.453</td> <td>    3.223</td>\n",
       "</tr>\n",
       "</table>\n",
       "<table class=\"simpletable\">\n",
       "<tr>\n",
       "  <th>Omnibus:</th>       <td>328.592</td> <th>  Durbin-Watson:     </th> <td>   1.925</td> \n",
       "</tr>\n",
       "<tr>\n",
       "  <th>Prob(Omnibus):</th> <td> 0.000</td>  <th>  Jarque-Bera (JB):  </th> <td> 892.826</td> \n",
       "</tr>\n",
       "<tr>\n",
       "  <th>Skew:</th>          <td> 1.351</td>  <th>  Prob(JB):          </th> <td>1.33e-194</td>\n",
       "</tr>\n",
       "<tr>\n",
       "  <th>Kurtosis:</th>      <td> 6.130</td>  <th>  Cond. No.          </th> <td>    3.80</td> \n",
       "</tr>\n",
       "</table><br/><br/>Notes:<br/>[1] Standard Errors assume that the covariance matrix of the errors is correctly specified."
      ],
      "text/plain": [
       "<class 'statsmodels.iolib.summary.Summary'>\n",
       "\"\"\"\n",
       "                            OLS Regression Results                            \n",
       "==============================================================================\n",
       "Dep. Variable:                 Target   R-squared:                       0.193\n",
       "Model:                            OLS   Adj. R-squared:                  0.192\n",
       "Method:                 Least Squares   F-statistic:                     149.7\n",
       "Date:                Wed, 30 Mar 2022   Prob (F-statistic):           5.04e-59\n",
       "Time:                        23:11:08   Log-Likelihood:                -3106.0\n",
       "No. Observations:                1253   AIC:                             6218.\n",
       "Df Residuals:                    1250   BIC:                             6233.\n",
       "Df Model:                           2                                         \n",
       "Covariance Type:            nonrobust                                         \n",
       "==============================================================================\n",
       "                 coef    std err          t      P>|t|      [0.025      0.975]\n",
       "------------------------------------------------------------------------------\n",
       "Intercept      7.8762      0.144     54.785      0.000       7.594       8.158\n",
       "Gender_F       3.2106      0.207     15.548      0.000       2.805       3.616\n",
       "Gender_M       2.8380      0.196     14.469      0.000       2.453       3.223\n",
       "==============================================================================\n",
       "Omnibus:                      328.592   Durbin-Watson:                   1.925\n",
       "Prob(Omnibus):                  0.000   Jarque-Bera (JB):              892.826\n",
       "Skew:                           1.351   Prob(JB):                    1.33e-194\n",
       "Kurtosis:                       6.130   Cond. No.                         3.80\n",
       "==============================================================================\n",
       "\n",
       "Notes:\n",
       "[1] Standard Errors assume that the covariance matrix of the errors is correctly specified.\n",
       "\"\"\""
      ]
     },
     "execution_count": 17,
     "metadata": {},
     "output_type": "execute_result"
    }
   ],
   "source": [
    "from statsmodels.formula.api import ols\n",
    "\n",
    "res = ols('Target ~ Gender_F + Gender_M', data = train_gender_df).fit() # 기준 변수: Gender_I\n",
    "res.summary()"
   ]
  },
  {
   "cell_type": "markdown",
   "id": "b3337870-6a08-41ae-b9a2-7ac0bea41309",
   "metadata": {
    "tags": []
   },
   "source": [
    "[참고](https://bkshin.tistory.com/entry/DATA-19)\n",
    "\n",
    "**[회귀 계수 해석]**\n",
    "- Gender가 암컷일 때, 평균 나이는 11.0868이다.\n",
    "\n",
    "- Gender가 수컷일 때, 평균 나이는 10.7142이다.\n",
    "\n",
    "- Gender가 유충일 때, 평균 나이는 7.8762이다.\n",
    "\n",
    "**[가설 검정]**\n",
    "- *가설1. Gender F와 I의 평균 나이에 차이가 있다.*\n",
    "    - p-value값이 0이므로 가설은 통계적으로 유의하다.  \n",
    "    \n",
    "- *가설2. Gender M와 I의 평균 나이에 차이가 있다.*\n",
    "    - p-value값이 0이므로 가설은 통계적으로 유의하다.  \n",
    "    \n",
    "- *가설3. F와 M의 평균 나이에 차이가 있다. → 신뢰구간 확인*\n",
    "    - 신뢰구간이 겹치므로 가설은 통계적으로 유의하지 않다.\n",
    "    \n",
    "cf. I(baseline)와 F, M을 비교하기 위해서는 p-value를 보면 되고, F, M을 비교하기 위해서는 신뢰 구간을 보면 된다.  \n",
    "cf. 정리하자면 Baseline과의 차이이에 대한 가설 검정은 p-value로 해야 하고, 가변수끼리의 차이 가설 검정은 신뢰 구간으로 한다."
   ]
  },
  {
   "cell_type": "markdown",
   "id": "708e8dd4-26d1-4b53-9d0b-b0dde0aff5bc",
   "metadata": {},
   "source": [
    "#### (2) Gender를 제외한 나머지 Feature\n",
    "[참고](https://mindscale.kr/course/python-visualization-basic/relation/)"
   ]
  },
  {
   "cell_type": "code",
   "execution_count": 18,
   "id": "c3238bc6-79e2-4faa-84f5-731a8fdee4b9",
   "metadata": {},
   "outputs": [
    {
     "name": "stdout",
     "output_type": "stream",
     "text": [
      "['Lenght', 'Diameter', 'Height', 'Whole Weight', 'Shucked Weight', 'Viscra Weight', 'Shell Weight', 'Target']\n"
     ]
    }
   ],
   "source": [
    "feature_train = train.columns.tolist()[2:]\n",
    "print(feature_train)"
   ]
  },
  {
   "cell_type": "code",
   "execution_count": 19,
   "id": "5bcf8b72-f71a-4239-9cd4-941075376e2b",
   "metadata": {
    "tags": []
   },
   "outputs": [
    {
     "data": {
      "image/png": "[encoded data removed]",
      "text/plain": [
       "<Figure size 1008x720 with 8 Axes>"
      ]
     },
     "metadata": {
      "needs_background": "light"
     },
     "output_type": "display_data"
    }
   ],
   "source": [
    "plt.figure(figsize = (14,10))\n",
    "\n",
    "for i in range(len(feature_train)):\n",
    "    plt.subplot(4, 4, i+1)\n",
    "    plt.title(f'{feature_train[i]} regplot')\n",
    "    sns.regplot(data = train, x = train[feature_train[i]], y = train.Target, line_kws={'color': 'red'}, scatter_kws={'color': 'grey'})\n",
    "plt.tight_layout()\n",
    "plt.show()"
   ]
  },
  {
   "cell_type": "markdown",
   "id": "4564eaf6-b02b-4b09-bd46-1b9b011702a0",
   "metadata": {},
   "source": [
    "## 4. Modeling"
   ]
  },
  {
   "cell_type": "code",
   "execution_count": 20,
   "id": "26e93607-e130-43fa-a6ff-cf7b5bca2690",
   "metadata": {},
   "outputs": [],
   "source": [
    "from sklearn.linear_model import LinearRegression\n",
    "from sklearn.model_selection import train_test_split, cross_val_score, GridSearchCV\n",
    "from sklearn.preprocessing import StandardScaler, MinMaxScaler"
   ]
  },
  {
   "cell_type": "markdown",
   "id": "db2b6e98-5f4e-4f0d-a96e-5654cc65a8b2",
   "metadata": {},
   "source": [
    "### 1) Data split"
   ]
  },
  {
   "cell_type": "code",
   "execution_count": 77,
   "id": "9109dd5c-0dd9-4ff3-9468-5cbd7cb06c27",
   "metadata": {},
   "outputs": [
    {
     "data": {
      "text/html": [
       "<div>\n",
       "<style scoped>\n",
       "    .dataframe tbody tr th:only-of-type {\n",
       "        vertical-align: middle;\n",
       "    }\n",
       "\n",
       "    .dataframe tbody tr th {\n",
       "        vertical-align: top;\n",
       "    }\n",
       "\n",
       "    .dataframe thead th {\n",
       "        text-align: right;\n",
       "    }\n",
       "</style>\n",
       "<table border=\"1\" class=\"dataframe\">\n",
       "  <thead>\n",
       "    <tr style=\"text-align: right;\">\n",
       "      <th></th>\n",
       "      <th>Gender</th>\n",
       "      <th>Lenght</th>\n",
       "      <th>Diameter</th>\n",
       "      <th>Height</th>\n",
       "      <th>Whole Weight</th>\n",
       "      <th>Shucked Weight</th>\n",
       "      <th>Viscra Weight</th>\n",
       "      <th>Shell Weight</th>\n",
       "    </tr>\n",
       "  </thead>\n",
       "  <tbody>\n",
       "    <tr>\n",
       "      <th>0</th>\n",
       "      <td>M</td>\n",
       "      <td>0.605</td>\n",
       "      <td>0.470</td>\n",
       "      <td>0.115</td>\n",
       "      <td>1.1140</td>\n",
       "      <td>0.3925</td>\n",
       "      <td>0.291</td>\n",
       "      <td>0.3100</td>\n",
       "    </tr>\n",
       "    <tr>\n",
       "      <th>1</th>\n",
       "      <td>I</td>\n",
       "      <td>0.430</td>\n",
       "      <td>0.315</td>\n",
       "      <td>0.095</td>\n",
       "      <td>0.3780</td>\n",
       "      <td>0.1750</td>\n",
       "      <td>0.080</td>\n",
       "      <td>0.1045</td>\n",
       "    </tr>\n",
       "    <tr>\n",
       "      <th>2</th>\n",
       "      <td>I</td>\n",
       "      <td>0.580</td>\n",
       "      <td>0.490</td>\n",
       "      <td>0.195</td>\n",
       "      <td>1.3165</td>\n",
       "      <td>0.5305</td>\n",
       "      <td>0.254</td>\n",
       "      <td>0.4100</td>\n",
       "    </tr>\n",
       "  </tbody>\n",
       "</table>\n",
       "</div>"
      ],
      "text/plain": [
       "  Gender  Lenght  Diameter  Height  Whole Weight  Shucked Weight  \\\n",
       "0      M   0.605     0.470   0.115        1.1140          0.3925   \n",
       "1      I   0.430     0.315   0.095        0.3780          0.1750   \n",
       "2      I   0.580     0.490   0.195        1.3165          0.5305   \n",
       "\n",
       "   Viscra Weight  Shell Weight  \n",
       "0          0.291        0.3100  \n",
       "1          0.080        0.1045  \n",
       "2          0.254        0.4100  "
      ]
     },
     "execution_count": 77,
     "metadata": {},
     "output_type": "execute_result"
    }
   ],
   "source": [
    "X_train = train.iloc[:, 1:-1]\n",
    "X_train.head(3)"
   ]
  },
  {
   "cell_type": "code",
   "execution_count": 78,
   "id": "0a956ada-4ae6-4c5a-be02-2341216f9c6c",
   "metadata": {},
   "outputs": [
    {
     "data": {
      "text/html": [
       "<div>\n",
       "<style scoped>\n",
       "    .dataframe tbody tr th:only-of-type {\n",
       "        vertical-align: middle;\n",
       "    }\n",
       "\n",
       "    .dataframe tbody tr th {\n",
       "        vertical-align: top;\n",
       "    }\n",
       "\n",
       "    .dataframe thead th {\n",
       "        text-align: right;\n",
       "    }\n",
       "</style>\n",
       "<table border=\"1\" class=\"dataframe\">\n",
       "  <thead>\n",
       "    <tr style=\"text-align: right;\">\n",
       "      <th></th>\n",
       "      <th>Lenght</th>\n",
       "      <th>Diameter</th>\n",
       "      <th>Height</th>\n",
       "      <th>Whole Weight</th>\n",
       "      <th>Shucked Weight</th>\n",
       "      <th>Viscra Weight</th>\n",
       "      <th>Shell Weight</th>\n",
       "      <th>Gender(encode)</th>\n",
       "    </tr>\n",
       "  </thead>\n",
       "  <tbody>\n",
       "    <tr>\n",
       "      <th>0</th>\n",
       "      <td>0.605</td>\n",
       "      <td>0.470</td>\n",
       "      <td>0.115</td>\n",
       "      <td>1.1140</td>\n",
       "      <td>0.3925</td>\n",
       "      <td>0.291</td>\n",
       "      <td>0.3100</td>\n",
       "      <td>0</td>\n",
       "    </tr>\n",
       "    <tr>\n",
       "      <th>1</th>\n",
       "      <td>0.430</td>\n",
       "      <td>0.315</td>\n",
       "      <td>0.095</td>\n",
       "      <td>0.3780</td>\n",
       "      <td>0.1750</td>\n",
       "      <td>0.080</td>\n",
       "      <td>0.1045</td>\n",
       "      <td>2</td>\n",
       "    </tr>\n",
       "    <tr>\n",
       "      <th>2</th>\n",
       "      <td>0.580</td>\n",
       "      <td>0.490</td>\n",
       "      <td>0.195</td>\n",
       "      <td>1.3165</td>\n",
       "      <td>0.5305</td>\n",
       "      <td>0.254</td>\n",
       "      <td>0.4100</td>\n",
       "      <td>2</td>\n",
       "    </tr>\n",
       "  </tbody>\n",
       "</table>\n",
       "</div>"
      ],
      "text/plain": [
       "   Lenght  Diameter  Height  Whole Weight  Shucked Weight  Viscra Weight  \\\n",
       "0   0.605     0.470   0.115        1.1140          0.3925          0.291   \n",
       "1   0.430     0.315   0.095        0.3780          0.1750          0.080   \n",
       "2   0.580     0.490   0.195        1.3165          0.5305          0.254   \n",
       "\n",
       "   Shell Weight  Gender(encode)  \n",
       "0        0.3100               0  \n",
       "1        0.1045               2  \n",
       "2        0.4100               2  "
      ]
     },
     "execution_count": 78,
     "metadata": {},
     "output_type": "execute_result"
    }
   ],
   "source": [
    "X_train['Gender(encode)'] = X_train['Gender'].replace({'M': 0, 'F': 1, 'I': 2})\n",
    "X_train = X_train.drop(columns='Gender')\n",
    "X_train.head(3)"
   ]
  },
  {
   "cell_type": "code",
   "execution_count": 79,
   "id": "756fc7b2-e523-4439-bba4-e0b89de7fc5d",
   "metadata": {},
   "outputs": [
    {
     "data": {
      "text/plain": [
       "0       15\n",
       "1        8\n",
       "2       18\n",
       "3       13\n",
       "4        6\n",
       "        ..\n",
       "1248     4\n",
       "1249     7\n",
       "1250     7\n",
       "1251     6\n",
       "1252    11\n",
       "Name: Target, Length: 1253, dtype: int64"
      ]
     },
     "execution_count": 79,
     "metadata": {},
     "output_type": "execute_result"
    }
   ],
   "source": [
    "y_train = train['Target']\n",
    "y_train"
   ]
  },
  {
   "cell_type": "code",
   "execution_count": 80,
   "id": "b8ac9971-bb07-4a10-9574-0ce1e8d64fed",
   "metadata": {},
   "outputs": [],
   "source": [
    "X_fit, X_val, y_fit, y_val = train_test_split(X_train, y_train, test_size=0.3, random_state=123)"
   ]
  },
  {
   "cell_type": "markdown",
   "id": "7b74460b-97c2-4fea-aacc-969533f3fade",
   "metadata": {},
   "source": [
    "### 2) Model"
   ]
  },
  {
   "cell_type": "code",
   "execution_count": 81,
   "id": "cf9a5978-4b85-4e98-96b3-11de2c22d69a",
   "metadata": {},
   "outputs": [
    {
     "data": {
      "text/plain": [
       "0.17086293376534814"
      ]
     },
     "execution_count": 81,
     "metadata": {},
     "output_type": "execute_result"
    }
   ],
   "source": [
    "# 모델 생성\n",
    "linear_model = LinearRegression()\n",
    "linear_model.fit(X_fit, y_fit)\n",
    "\n",
    "# 예측값 도출\n",
    "y_pred = linear_model.predict(X_val)\n",
    "\n",
    "# 성능 평가(nmae)\n",
    "NMAE(y_val, y_pred)"
   ]
  },
  {
   "cell_type": "markdown",
   "id": "b0f5d0e4-6746-413a-ab6b-38cb44eb8a58",
   "metadata": {},
   "source": [
    "### 3) Scaling"
   ]
  },
  {
   "cell_type": "code",
   "execution_count": 82,
   "id": "c7efdcfc-c702-4ed2-9c10-bc12e8a2a8fe",
   "metadata": {},
   "outputs": [],
   "source": [
    "s_scaler = StandardScaler()\n",
    "m_scaler = MinMaxScaler()"
   ]
  },
  {
   "cell_type": "code",
   "execution_count": 83,
   "id": "912f84e3-7f00-482b-9572-9123374e39b7",
   "metadata": {},
   "outputs": [
    {
     "data": {
      "text/plain": [
       "Index(['id', 'Gender', 'Lenght', 'Diameter', 'Height', 'Whole Weight',\n",
       "       'Shucked Weight', 'Viscra Weight', 'Shell Weight', 'Target'],\n",
       "      dtype='object')"
      ]
     },
     "execution_count": 83,
     "metadata": {},
     "output_type": "execute_result"
    }
   ],
   "source": [
    "train.columns"
   ]
  },
  {
   "cell_type": "code",
   "execution_count": 84,
   "id": "6c6d4bd8-9cf8-454f-ba77-782fbaccc676",
   "metadata": {},
   "outputs": [
    {
     "ename": "KeyError",
     "evalue": "\"['Gender(encode)'] not in index\"",
     "output_type": "error",
     "traceback": [
      "\u001b[1;31m---------------------------------------------------------------------------\u001b[0m",
      "\u001b[1;31mKeyError\u001b[0m                                  Traceback (most recent call last)",
      "\u001b[1;32m<ipython-input-84-d6d081b765a4>\u001b[0m in \u001b[0;36m<module>\u001b[1;34m\u001b[0m\n\u001b[0;32m      1\u001b[0m \u001b[0mtrain_col\u001b[0m \u001b[1;33m=\u001b[0m \u001b[1;33m[\u001b[0m\u001b[1;34m'Lenght'\u001b[0m\u001b[1;33m,\u001b[0m \u001b[1;34m'Diameter'\u001b[0m\u001b[1;33m,\u001b[0m \u001b[1;34m'Height'\u001b[0m\u001b[1;33m,\u001b[0m \u001b[1;34m'Whole Weight'\u001b[0m\u001b[1;33m,\u001b[0m \u001b[1;34m'Shucked Weight'\u001b[0m\u001b[1;33m,\u001b[0m \u001b[1;34m'Viscra Weight'\u001b[0m\u001b[1;33m,\u001b[0m \u001b[1;34m'Shell Weight'\u001b[0m\u001b[1;33m,\u001b[0m\u001b[1;34m'Gender(encode)'\u001b[0m\u001b[1;33m]\u001b[0m\u001b[1;33m\u001b[0m\u001b[1;33m\u001b[0m\u001b[0m\n\u001b[1;32m----> 2\u001b[1;33m \u001b[0mtrain\u001b[0m\u001b[1;33m[\u001b[0m\u001b[0mtrain_col\u001b[0m\u001b[1;33m]\u001b[0m\u001b[1;33m.\u001b[0m\u001b[0mhead\u001b[0m\u001b[1;33m(\u001b[0m\u001b[1;36m3\u001b[0m\u001b[1;33m)\u001b[0m\u001b[1;33m\u001b[0m\u001b[1;33m\u001b[0m\u001b[0m\n\u001b[0m",
      "\u001b[1;32m~\\anaconda3\\lib\\site-packages\\pandas\\core\\frame.py\u001b[0m in \u001b[0;36m__getitem__\u001b[1;34m(self, key)\u001b[0m\n\u001b[0;32m   3028\u001b[0m             \u001b[1;32mif\u001b[0m \u001b[0mis_iterator\u001b[0m\u001b[1;33m(\u001b[0m\u001b[0mkey\u001b[0m\u001b[1;33m)\u001b[0m\u001b[1;33m:\u001b[0m\u001b[1;33m\u001b[0m\u001b[1;33m\u001b[0m\u001b[0m\n\u001b[0;32m   3029\u001b[0m                 \u001b[0mkey\u001b[0m \u001b[1;33m=\u001b[0m \u001b[0mlist\u001b[0m\u001b[1;33m(\u001b[0m\u001b[0mkey\u001b[0m\u001b[1;33m)\u001b[0m\u001b[1;33m\u001b[0m\u001b[1;33m\u001b[0m\u001b[0m\n\u001b[1;32m-> 3030\u001b[1;33m             \u001b[0mindexer\u001b[0m \u001b[1;33m=\u001b[0m \u001b[0mself\u001b[0m\u001b[1;33m.\u001b[0m\u001b[0mloc\u001b[0m\u001b[1;33m.\u001b[0m\u001b[0m_get_listlike_indexer\u001b[0m\u001b[1;33m(\u001b[0m\u001b[0mkey\u001b[0m\u001b[1;33m,\u001b[0m \u001b[0maxis\u001b[0m\u001b[1;33m=\u001b[0m\u001b[1;36m1\u001b[0m\u001b[1;33m,\u001b[0m \u001b[0mraise_missing\u001b[0m\u001b[1;33m=\u001b[0m\u001b[1;32mTrue\u001b[0m\u001b[1;33m)\u001b[0m\u001b[1;33m[\u001b[0m\u001b[1;36m1\u001b[0m\u001b[1;33m]\u001b[0m\u001b[1;33m\u001b[0m\u001b[1;33m\u001b[0m\u001b[0m\n\u001b[0m\u001b[0;32m   3031\u001b[0m \u001b[1;33m\u001b[0m\u001b[0m\n\u001b[0;32m   3032\u001b[0m         \u001b[1;31m# take() does not accept boolean indexers\u001b[0m\u001b[1;33m\u001b[0m\u001b[1;33m\u001b[0m\u001b[1;33m\u001b[0m\u001b[0m\n",
      "\u001b[1;32m~\\anaconda3\\lib\\site-packages\\pandas\\core\\indexing.py\u001b[0m in \u001b[0;36m_get_listlike_indexer\u001b[1;34m(self, key, axis, raise_missing)\u001b[0m\n\u001b[0;32m   1264\u001b[0m             \u001b[0mkeyarr\u001b[0m\u001b[1;33m,\u001b[0m \u001b[0mindexer\u001b[0m\u001b[1;33m,\u001b[0m \u001b[0mnew_indexer\u001b[0m \u001b[1;33m=\u001b[0m \u001b[0max\u001b[0m\u001b[1;33m.\u001b[0m\u001b[0m_reindex_non_unique\u001b[0m\u001b[1;33m(\u001b[0m\u001b[0mkeyarr\u001b[0m\u001b[1;33m)\u001b[0m\u001b[1;33m\u001b[0m\u001b[1;33m\u001b[0m\u001b[0m\n\u001b[0;32m   1265\u001b[0m \u001b[1;33m\u001b[0m\u001b[0m\n\u001b[1;32m-> 1266\u001b[1;33m         \u001b[0mself\u001b[0m\u001b[1;33m.\u001b[0m\u001b[0m_validate_read_indexer\u001b[0m\u001b[1;33m(\u001b[0m\u001b[0mkeyarr\u001b[0m\u001b[1;33m,\u001b[0m \u001b[0mindexer\u001b[0m\u001b[1;33m,\u001b[0m \u001b[0maxis\u001b[0m\u001b[1;33m,\u001b[0m \u001b[0mraise_missing\u001b[0m\u001b[1;33m=\u001b[0m\u001b[0mraise_missing\u001b[0m\u001b[1;33m)\u001b[0m\u001b[1;33m\u001b[0m\u001b[1;33m\u001b[0m\u001b[0m\n\u001b[0m\u001b[0;32m   1267\u001b[0m         \u001b[1;32mreturn\u001b[0m \u001b[0mkeyarr\u001b[0m\u001b[1;33m,\u001b[0m \u001b[0mindexer\u001b[0m\u001b[1;33m\u001b[0m\u001b[1;33m\u001b[0m\u001b[0m\n\u001b[0;32m   1268\u001b[0m \u001b[1;33m\u001b[0m\u001b[0m\n",
      "\u001b[1;32m~\\anaconda3\\lib\\site-packages\\pandas\\core\\indexing.py\u001b[0m in \u001b[0;36m_validate_read_indexer\u001b[1;34m(self, key, indexer, axis, raise_missing)\u001b[0m\n\u001b[0;32m   1314\u001b[0m             \u001b[1;32mif\u001b[0m \u001b[0mraise_missing\u001b[0m\u001b[1;33m:\u001b[0m\u001b[1;33m\u001b[0m\u001b[1;33m\u001b[0m\u001b[0m\n\u001b[0;32m   1315\u001b[0m                 \u001b[0mnot_found\u001b[0m \u001b[1;33m=\u001b[0m \u001b[0mlist\u001b[0m\u001b[1;33m(\u001b[0m\u001b[0mset\u001b[0m\u001b[1;33m(\u001b[0m\u001b[0mkey\u001b[0m\u001b[1;33m)\u001b[0m \u001b[1;33m-\u001b[0m \u001b[0mset\u001b[0m\u001b[1;33m(\u001b[0m\u001b[0max\u001b[0m\u001b[1;33m)\u001b[0m\u001b[1;33m)\u001b[0m\u001b[1;33m\u001b[0m\u001b[1;33m\u001b[0m\u001b[0m\n\u001b[1;32m-> 1316\u001b[1;33m                 \u001b[1;32mraise\u001b[0m \u001b[0mKeyError\u001b[0m\u001b[1;33m(\u001b[0m\u001b[1;34mf\"{not_found} not in index\"\u001b[0m\u001b[1;33m)\u001b[0m\u001b[1;33m\u001b[0m\u001b[1;33m\u001b[0m\u001b[0m\n\u001b[0m\u001b[0;32m   1317\u001b[0m \u001b[1;33m\u001b[0m\u001b[0m\n\u001b[0;32m   1318\u001b[0m             \u001b[0mnot_found\u001b[0m \u001b[1;33m=\u001b[0m \u001b[0mkey\u001b[0m\u001b[1;33m[\u001b[0m\u001b[0mmissing_mask\u001b[0m\u001b[1;33m]\u001b[0m\u001b[1;33m\u001b[0m\u001b[1;33m\u001b[0m\u001b[0m\n",
      "\u001b[1;31mKeyError\u001b[0m: \"['Gender(encode)'] not in index\""
     ]
    }
   ],
   "source": [
    "train_col = ['Lenght', 'Diameter', 'Height', 'Whole Weight', 'Shucked Weight', 'Viscra Weight', 'Shell Weight','Gender(encode)']\n",
    "train[train_col].head(3)"
   ]
  },
  {
   "cell_type": "code",
   "execution_count": 85,
   "id": "690773c5-c08c-4c57-ae3f-d277ed17dc40",
   "metadata": {},
   "outputs": [
    {
     "ename": "KeyError",
     "evalue": "\"['Gender(encode)'] not in index\"",
     "output_type": "error",
     "traceback": [
      "\u001b[1;31m---------------------------------------------------------------------------\u001b[0m",
      "\u001b[1;31mKeyError\u001b[0m                                  Traceback (most recent call last)",
      "\u001b[1;32m<ipython-input-85-d0107bf9577e>\u001b[0m in \u001b[0;36m<module>\u001b[1;34m\u001b[0m\n\u001b[1;32m----> 1\u001b[1;33m \u001b[0mtrain_sscale\u001b[0m \u001b[1;33m=\u001b[0m \u001b[0ms_scaler\u001b[0m\u001b[1;33m.\u001b[0m\u001b[0mfit_transform\u001b[0m\u001b[1;33m(\u001b[0m\u001b[0mtrain\u001b[0m\u001b[1;33m[\u001b[0m\u001b[0mtrain_col\u001b[0m\u001b[1;33m]\u001b[0m\u001b[1;33m)\u001b[0m\u001b[1;33m\u001b[0m\u001b[1;33m\u001b[0m\u001b[0m\n\u001b[0m\u001b[0;32m      2\u001b[0m \u001b[0mdf_train\u001b[0m \u001b[1;33m=\u001b[0m \u001b[0mpd\u001b[0m\u001b[1;33m.\u001b[0m\u001b[0mDataFrame\u001b[0m\u001b[1;33m(\u001b[0m\u001b[0mtrain_sscale\u001b[0m\u001b[1;33m,\u001b[0m \u001b[0mcolumns\u001b[0m\u001b[1;33m=\u001b[0m\u001b[0mtrain_col\u001b[0m\u001b[1;33m)\u001b[0m\u001b[1;33m\u001b[0m\u001b[1;33m\u001b[0m\u001b[0m\n\u001b[0;32m      3\u001b[0m \u001b[0mdf_train\u001b[0m\u001b[1;33m.\u001b[0m\u001b[0mhead\u001b[0m\u001b[1;33m(\u001b[0m\u001b[1;36m3\u001b[0m\u001b[1;33m)\u001b[0m\u001b[1;33m\u001b[0m\u001b[1;33m\u001b[0m\u001b[0m\n",
      "\u001b[1;32m~\\anaconda3\\lib\\site-packages\\pandas\\core\\frame.py\u001b[0m in \u001b[0;36m__getitem__\u001b[1;34m(self, key)\u001b[0m\n\u001b[0;32m   3028\u001b[0m             \u001b[1;32mif\u001b[0m \u001b[0mis_iterator\u001b[0m\u001b[1;33m(\u001b[0m\u001b[0mkey\u001b[0m\u001b[1;33m)\u001b[0m\u001b[1;33m:\u001b[0m\u001b[1;33m\u001b[0m\u001b[1;33m\u001b[0m\u001b[0m\n\u001b[0;32m   3029\u001b[0m                 \u001b[0mkey\u001b[0m \u001b[1;33m=\u001b[0m \u001b[0mlist\u001b[0m\u001b[1;33m(\u001b[0m\u001b[0mkey\u001b[0m\u001b[1;33m)\u001b[0m\u001b[1;33m\u001b[0m\u001b[1;33m\u001b[0m\u001b[0m\n\u001b[1;32m-> 3030\u001b[1;33m             \u001b[0mindexer\u001b[0m \u001b[1;33m=\u001b[0m \u001b[0mself\u001b[0m\u001b[1;33m.\u001b[0m\u001b[0mloc\u001b[0m\u001b[1;33m.\u001b[0m\u001b[0m_get_listlike_indexer\u001b[0m\u001b[1;33m(\u001b[0m\u001b[0mkey\u001b[0m\u001b[1;33m,\u001b[0m \u001b[0maxis\u001b[0m\u001b[1;33m=\u001b[0m\u001b[1;36m1\u001b[0m\u001b[1;33m,\u001b[0m \u001b[0mraise_missing\u001b[0m\u001b[1;33m=\u001b[0m\u001b[1;32mTrue\u001b[0m\u001b[1;33m)\u001b[0m\u001b[1;33m[\u001b[0m\u001b[1;36m1\u001b[0m\u001b[1;33m]\u001b[0m\u001b[1;33m\u001b[0m\u001b[1;33m\u001b[0m\u001b[0m\n\u001b[0m\u001b[0;32m   3031\u001b[0m \u001b[1;33m\u001b[0m\u001b[0m\n\u001b[0;32m   3032\u001b[0m         \u001b[1;31m# take() does not accept boolean indexers\u001b[0m\u001b[1;33m\u001b[0m\u001b[1;33m\u001b[0m\u001b[1;33m\u001b[0m\u001b[0m\n",
      "\u001b[1;32m~\\anaconda3\\lib\\site-packages\\pandas\\core\\indexing.py\u001b[0m in \u001b[0;36m_get_listlike_indexer\u001b[1;34m(self, key, axis, raise_missing)\u001b[0m\n\u001b[0;32m   1264\u001b[0m             \u001b[0mkeyarr\u001b[0m\u001b[1;33m,\u001b[0m \u001b[0mindexer\u001b[0m\u001b[1;33m,\u001b[0m \u001b[0mnew_indexer\u001b[0m \u001b[1;33m=\u001b[0m \u001b[0max\u001b[0m\u001b[1;33m.\u001b[0m\u001b[0m_reindex_non_unique\u001b[0m\u001b[1;33m(\u001b[0m\u001b[0mkeyarr\u001b[0m\u001b[1;33m)\u001b[0m\u001b[1;33m\u001b[0m\u001b[1;33m\u001b[0m\u001b[0m\n\u001b[0;32m   1265\u001b[0m \u001b[1;33m\u001b[0m\u001b[0m\n\u001b[1;32m-> 1266\u001b[1;33m         \u001b[0mself\u001b[0m\u001b[1;33m.\u001b[0m\u001b[0m_validate_read_indexer\u001b[0m\u001b[1;33m(\u001b[0m\u001b[0mkeyarr\u001b[0m\u001b[1;33m,\u001b[0m \u001b[0mindexer\u001b[0m\u001b[1;33m,\u001b[0m \u001b[0maxis\u001b[0m\u001b[1;33m,\u001b[0m \u001b[0mraise_missing\u001b[0m\u001b[1;33m=\u001b[0m\u001b[0mraise_missing\u001b[0m\u001b[1;33m)\u001b[0m\u001b[1;33m\u001b[0m\u001b[1;33m\u001b[0m\u001b[0m\n\u001b[0m\u001b[0;32m   1267\u001b[0m         \u001b[1;32mreturn\u001b[0m \u001b[0mkeyarr\u001b[0m\u001b[1;33m,\u001b[0m \u001b[0mindexer\u001b[0m\u001b[1;33m\u001b[0m\u001b[1;33m\u001b[0m\u001b[0m\n\u001b[0;32m   1268\u001b[0m \u001b[1;33m\u001b[0m\u001b[0m\n",
      "\u001b[1;32m~\\anaconda3\\lib\\site-packages\\pandas\\core\\indexing.py\u001b[0m in \u001b[0;36m_validate_read_indexer\u001b[1;34m(self, key, indexer, axis, raise_missing)\u001b[0m\n\u001b[0;32m   1314\u001b[0m             \u001b[1;32mif\u001b[0m \u001b[0mraise_missing\u001b[0m\u001b[1;33m:\u001b[0m\u001b[1;33m\u001b[0m\u001b[1;33m\u001b[0m\u001b[0m\n\u001b[0;32m   1315\u001b[0m                 \u001b[0mnot_found\u001b[0m \u001b[1;33m=\u001b[0m \u001b[0mlist\u001b[0m\u001b[1;33m(\u001b[0m\u001b[0mset\u001b[0m\u001b[1;33m(\u001b[0m\u001b[0mkey\u001b[0m\u001b[1;33m)\u001b[0m \u001b[1;33m-\u001b[0m \u001b[0mset\u001b[0m\u001b[1;33m(\u001b[0m\u001b[0max\u001b[0m\u001b[1;33m)\u001b[0m\u001b[1;33m)\u001b[0m\u001b[1;33m\u001b[0m\u001b[1;33m\u001b[0m\u001b[0m\n\u001b[1;32m-> 1316\u001b[1;33m                 \u001b[1;32mraise\u001b[0m \u001b[0mKeyError\u001b[0m\u001b[1;33m(\u001b[0m\u001b[1;34mf\"{not_found} not in index\"\u001b[0m\u001b[1;33m)\u001b[0m\u001b[1;33m\u001b[0m\u001b[1;33m\u001b[0m\u001b[0m\n\u001b[0m\u001b[0;32m   1317\u001b[0m \u001b[1;33m\u001b[0m\u001b[0m\n\u001b[0;32m   1318\u001b[0m             \u001b[0mnot_found\u001b[0m \u001b[1;33m=\u001b[0m \u001b[0mkey\u001b[0m\u001b[1;33m[\u001b[0m\u001b[0mmissing_mask\u001b[0m\u001b[1;33m]\u001b[0m\u001b[1;33m\u001b[0m\u001b[1;33m\u001b[0m\u001b[0m\n",
      "\u001b[1;31mKeyError\u001b[0m: \"['Gender(encode)'] not in index\""
     ]
    }
   ],
   "source": [
    "train_sscale = s_scaler.fit_transform(train[train_col])\n",
    "df_train = pd.DataFrame(train_sscale, columns=train_col)\n",
    "df_train.head(3)"
   ]
  },
  {
   "cell_type": "code",
   "execution_count": 56,
   "id": "9ae214a9-3525-4a0c-b5b0-8623026ca351",
   "metadata": {},
   "outputs": [],
   "source": [
    "X_fit, X_val, y_fit, y_val = train_test_split(df_train, y_train, test_size=0.3, random_state=123)"
   ]
  },
  {
   "cell_type": "code",
   "execution_count": 57,
   "id": "8449e697-1e2c-4c17-a957-7e70bd45f683",
   "metadata": {},
   "outputs": [
    {
     "data": {
      "text/plain": [
       "0.17086293376534775"
      ]
     },
     "execution_count": 57,
     "metadata": {},
     "output_type": "execute_result"
    }
   ],
   "source": [
    "# 모델 생성\n",
    "linear_model = LinearRegression()\n",
    "linear_model.fit(X_fit, y_fit)\n",
    "\n",
    "# 예측값 도출\n",
    "y_pred = linear_model.predict(X_val)\n",
    "\n",
    "# 성능 평가(nmae)\n",
    "NMAE(y_val, y_pred)"
   ]
  },
  {
   "cell_type": "code",
   "execution_count": null,
   "id": "cbf8051e-298a-439f-80ad-77dd30babf4b",
   "metadata": {},
   "outputs": [],
   "source": []
  }
 ],
 "metadata": {
  "kernelspec": {
   "display_name": "Python 3",
   "language": "python",
   "name": "python3"
  },
  "language_info": {
   "codemirror_mode": {
    "name": "ipython",
    "version": 3
   },
   "file_extension": ".py",
   "mimetype": "text/x-python",
   "name": "python",
   "nbconvert_exporter": "python",
   "pygments_lexer": "ipython3",
   "version": "3.8.8"
  }
 },
 "nbformat": 4,
 "nbformat_minor": 5
}
