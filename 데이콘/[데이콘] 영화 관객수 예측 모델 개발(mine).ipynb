{
 "cells": [
  {
   "cell_type": "markdown",
   "id": "7a5016ab-1f8d-4dc0-b428-c39259741b53",
   "metadata": {},
   "source": [
    "# [[데이콘] 영화 관객수 예측 모델 개발](https://dacon.io/competitions/open/235536/overview/description)\n",
    "\n",
    "[평가 지표]\n",
    "- RMSE\n",
    "\n",
    "[Files]  \n",
    "① movies_train.csv    \n",
    "2010년대 한국에서 개봉한 한국영화 600개에 대한 감독, 이름, 상영등급, 관객수 등의 정보가 담긴 데이터  \n",
    "② movies_test.csv  \n",
    "관객수를 제외하고 movies_train과 동일  \n",
    "③ submission.csv  \n",
    "제출 파일의 형식\n",
    "\n",
    "[Data fields]  \n",
    "① movies_train.csv  \n",
    "2010년대 한국에서 개봉한 한국영화 600개에 대한 감독, 이름, 상영등급, 관객수 등의 정보가 담긴 데이터\n",
    "\n",
    "Column_name Description  \n",
    "1 title : 영화의 제목  \n",
    "2 distributor : 배급사  \n",
    "3 genre : 장르  \n",
    "4 release_time : 개봉일  \n",
    "5 time : 상영시간(분)  \n",
    "6 screening_rat : 상영등급  \n",
    "7 director : 감독이름  \n",
    "8 dir_prev_bfnum : 해당 감독이 이 영화를 만들기 전 제작에 참여한 영화에서의 평균 관객수(단 관객수가 알려지지 않은 영화 제외)  \n",
    "9 dir_prev_num : 해당 감독이 이 영화를 만들기 전 제작에 참여한 영화의 개수(단 관객수가 알려지지 않은 영화 제외)  \n",
    "10 num_staff : 스텝수  \n",
    "11 num_actor : 주연배우수  \n",
    "12 box_off_num : 관객수  \n",
    "\n",
    "③ submission.csv\n",
    "제출 파일의 형식 "
   ]
  },
  {
   "cell_type": "markdown",
   "id": "896848f1-b33d-4298-9056-0dc09a102fa7",
   "metadata": {},
   "source": [
    "### step1. 필요한 패키지 및 데이터 로드"
   ]
  },
  {
   "cell_type": "code",
   "execution_count": 2,
   "id": "6d9ff9b8-966c-4aef-9914-b3de1bda9dda",
   "metadata": {},
   "outputs": [],
   "source": [
    "import pandas as pd\n",
    "import numpy as np\n",
    "import matplotlib.pyplot as plt\n",
    "import seaborn as sns\n",
    "plt.rc('font', family='Malgun Gothic')\n",
    "plt.rcParams['axes.unicode_minus'] = False"
   ]
  },
  {
   "cell_type": "code",
   "execution_count": 3,
   "id": "7221fba7-b4e7-4801-8915-1ccc030b7c53",
   "metadata": {
    "collapsed": true,
    "jupyter": {
     "outputs_hidden": true
    },
    "tags": []
   },
   "outputs": [
    {
     "data": {
      "text/html": [
       "<div>\n",
       "<style scoped>\n",
       "    .dataframe tbody tr th:only-of-type {\n",
       "        vertical-align: middle;\n",
       "    }\n",
       "\n",
       "    .dataframe tbody tr th {\n",
       "        vertical-align: top;\n",
       "    }\n",
       "\n",
       "    .dataframe thead th {\n",
       "        text-align: right;\n",
       "    }\n",
       "</style>\n",
       "<table border=\"1\" class=\"dataframe\">\n",
       "  <thead>\n",
       "    <tr style=\"text-align: right;\">\n",
       "      <th></th>\n",
       "      <th>title</th>\n",
       "      <th>distributor</th>\n",
       "      <th>genre</th>\n",
       "      <th>release_time</th>\n",
       "      <th>time</th>\n",
       "      <th>screening_rat</th>\n",
       "      <th>director</th>\n",
       "      <th>dir_prev_bfnum</th>\n",
       "      <th>dir_prev_num</th>\n",
       "      <th>num_staff</th>\n",
       "      <th>num_actor</th>\n",
       "      <th>box_off_num</th>\n",
       "    </tr>\n",
       "  </thead>\n",
       "  <tbody>\n",
       "    <tr>\n",
       "      <th>0</th>\n",
       "      <td>개들의 전쟁</td>\n",
       "      <td>롯데엔터테인먼트</td>\n",
       "      <td>액션</td>\n",
       "      <td>2012-11-22</td>\n",
       "      <td>96</td>\n",
       "      <td>청소년 관람불가</td>\n",
       "      <td>조병옥</td>\n",
       "      <td>NaN</td>\n",
       "      <td>0</td>\n",
       "      <td>91</td>\n",
       "      <td>2</td>\n",
       "      <td>23398</td>\n",
       "    </tr>\n",
       "    <tr>\n",
       "      <th>1</th>\n",
       "      <td>내부자들</td>\n",
       "      <td>(주)쇼박스</td>\n",
       "      <td>느와르</td>\n",
       "      <td>2015-11-19</td>\n",
       "      <td>130</td>\n",
       "      <td>청소년 관람불가</td>\n",
       "      <td>우민호</td>\n",
       "      <td>1161602.50</td>\n",
       "      <td>2</td>\n",
       "      <td>387</td>\n",
       "      <td>3</td>\n",
       "      <td>7072501</td>\n",
       "    </tr>\n",
       "    <tr>\n",
       "      <th>2</th>\n",
       "      <td>은밀하게 위대하게</td>\n",
       "      <td>(주)쇼박스</td>\n",
       "      <td>액션</td>\n",
       "      <td>2013-06-05</td>\n",
       "      <td>123</td>\n",
       "      <td>15세 관람가</td>\n",
       "      <td>장철수</td>\n",
       "      <td>220775.25</td>\n",
       "      <td>4</td>\n",
       "      <td>343</td>\n",
       "      <td>4</td>\n",
       "      <td>6959083</td>\n",
       "    </tr>\n",
       "    <tr>\n",
       "      <th>3</th>\n",
       "      <td>나는 공무원이다</td>\n",
       "      <td>(주)NEW</td>\n",
       "      <td>코미디</td>\n",
       "      <td>2012-07-12</td>\n",
       "      <td>101</td>\n",
       "      <td>전체 관람가</td>\n",
       "      <td>구자홍</td>\n",
       "      <td>23894.00</td>\n",
       "      <td>2</td>\n",
       "      <td>20</td>\n",
       "      <td>6</td>\n",
       "      <td>217866</td>\n",
       "    </tr>\n",
       "    <tr>\n",
       "      <th>4</th>\n",
       "      <td>불량남녀</td>\n",
       "      <td>쇼박스(주)미디어플렉스</td>\n",
       "      <td>코미디</td>\n",
       "      <td>2010-11-04</td>\n",
       "      <td>108</td>\n",
       "      <td>15세 관람가</td>\n",
       "      <td>신근호</td>\n",
       "      <td>1.00</td>\n",
       "      <td>1</td>\n",
       "      <td>251</td>\n",
       "      <td>2</td>\n",
       "      <td>483387</td>\n",
       "    </tr>\n",
       "  </tbody>\n",
       "</table>\n",
       "</div>"
      ],
      "text/plain": [
       "       title   distributor genre release_time  time screening_rat director  \\\n",
       "0     개들의 전쟁      롯데엔터테인먼트    액션   2012-11-22    96      청소년 관람불가      조병옥   \n",
       "1       내부자들        (주)쇼박스   느와르   2015-11-19   130      청소년 관람불가      우민호   \n",
       "2  은밀하게 위대하게        (주)쇼박스    액션   2013-06-05   123       15세 관람가      장철수   \n",
       "3   나는 공무원이다        (주)NEW   코미디   2012-07-12   101        전체 관람가      구자홍   \n",
       "4       불량남녀  쇼박스(주)미디어플렉스   코미디   2010-11-04   108       15세 관람가      신근호   \n",
       "\n",
       "   dir_prev_bfnum  dir_prev_num  num_staff  num_actor  box_off_num  \n",
       "0             NaN             0         91          2        23398  \n",
       "1      1161602.50             2        387          3      7072501  \n",
       "2       220775.25             4        343          4      6959083  \n",
       "3        23894.00             2         20          6       217866  \n",
       "4            1.00             1        251          2       483387  "
      ]
     },
     "execution_count": 3,
     "metadata": {},
     "output_type": "execute_result"
    }
   ],
   "source": [
    "train = pd.read_csv('pydata/movies_train.csv')\n",
    "train.head()"
   ]
  },
  {
   "cell_type": "code",
   "execution_count": 4,
   "id": "7a2f0cb0-b9cc-49cc-bf12-811a7f59db41",
   "metadata": {},
   "outputs": [],
   "source": [
    "test = pd.read_csv('pydata/movies_test.csv')\n",
    "submission = pd.read_csv('pydata/submission.csv')"
   ]
  },
  {
   "cell_type": "markdown",
   "id": "5b0a791b-31f7-472f-9da4-f3af1ae041d4",
   "metadata": {},
   "source": [
    "### step2. EDA"
   ]
  },
  {
   "cell_type": "code",
   "execution_count": 5,
   "id": "a02bbd82-b528-4b74-bfff-b704372dcd93",
   "metadata": {
    "collapsed": true,
    "jupyter": {
     "outputs_hidden": true
    },
    "tags": []
   },
   "outputs": [
    {
     "name": "stdout",
     "output_type": "stream",
     "text": [
      "<class 'pandas.core.frame.DataFrame'>\n",
      "RangeIndex: 600 entries, 0 to 599\n",
      "Data columns (total 12 columns):\n",
      " #   Column          Non-Null Count  Dtype  \n",
      "---  ------          --------------  -----  \n",
      " 0   title           600 non-null    object \n",
      " 1   distributor     600 non-null    object \n",
      " 2   genre           600 non-null    object \n",
      " 3   release_time    600 non-null    object \n",
      " 4   time            600 non-null    int64  \n",
      " 5   screening_rat   600 non-null    object \n",
      " 6   director        600 non-null    object \n",
      " 7   dir_prev_bfnum  270 non-null    float64\n",
      " 8   dir_prev_num    600 non-null    int64  \n",
      " 9   num_staff       600 non-null    int64  \n",
      " 10  num_actor       600 non-null    int64  \n",
      " 11  box_off_num     600 non-null    int64  \n",
      "dtypes: float64(1), int64(5), object(6)\n",
      "memory usage: 56.4+ KB\n",
      "None\n",
      "(600, 12)\n"
     ]
    }
   ],
   "source": [
    "# train 데이터 기본 정보 확인\n",
    "print(train.info())\n",
    "print(train.shape)"
   ]
  },
  {
   "cell_type": "code",
   "execution_count": 5,
   "id": "8429b8ca-68f5-4058-a265-0ea4c5ee3a08",
   "metadata": {
    "collapsed": true,
    "jupyter": {
     "outputs_hidden": true
    },
    "tags": []
   },
   "outputs": [
    {
     "data": {
      "text/plain": [
       "title               0\n",
       "distributor         0\n",
       "genre               0\n",
       "release_time        0\n",
       "time                0\n",
       "screening_rat       0\n",
       "director            0\n",
       "dir_prev_bfnum    330\n",
       "dir_prev_num        0\n",
       "num_staff           0\n",
       "num_actor           0\n",
       "box_off_num         0\n",
       "dtype: int64"
      ]
     },
     "execution_count": 5,
     "metadata": {},
     "output_type": "execute_result"
    }
   ],
   "source": [
    "# train 데이터 셋 결측치 확인\n",
    "train.isnull().sum()"
   ]
  },
  {
   "cell_type": "code",
   "execution_count": 6,
   "id": "9fbc5091-179d-41da-bf43-286e9b86ae27",
   "metadata": {
    "collapsed": true,
    "jupyter": {
     "outputs_hidden": true
    },
    "tags": []
   },
   "outputs": [
    {
     "data": {
      "text/html": [
       "<div>\n",
       "<style scoped>\n",
       "    .dataframe tbody tr th:only-of-type {\n",
       "        vertical-align: middle;\n",
       "    }\n",
       "\n",
       "    .dataframe tbody tr th {\n",
       "        vertical-align: top;\n",
       "    }\n",
       "\n",
       "    .dataframe thead th {\n",
       "        text-align: right;\n",
       "    }\n",
       "</style>\n",
       "<table border=\"1\" class=\"dataframe\">\n",
       "  <thead>\n",
       "    <tr style=\"text-align: right;\">\n",
       "      <th></th>\n",
       "      <th>time</th>\n",
       "      <th>dir_prev_bfnum</th>\n",
       "      <th>dir_prev_num</th>\n",
       "      <th>num_staff</th>\n",
       "      <th>num_actor</th>\n",
       "      <th>box_off_num</th>\n",
       "    </tr>\n",
       "  </thead>\n",
       "  <tbody>\n",
       "    <tr>\n",
       "      <th>count</th>\n",
       "      <td>600.000000</td>\n",
       "      <td>2.700000e+02</td>\n",
       "      <td>600.000000</td>\n",
       "      <td>600.000000</td>\n",
       "      <td>600.000000</td>\n",
       "      <td>6.000000e+02</td>\n",
       "    </tr>\n",
       "    <tr>\n",
       "      <th>mean</th>\n",
       "      <td>100.863333</td>\n",
       "      <td>1.050443e+06</td>\n",
       "      <td>0.876667</td>\n",
       "      <td>151.118333</td>\n",
       "      <td>3.706667</td>\n",
       "      <td>7.081818e+05</td>\n",
       "    </tr>\n",
       "    <tr>\n",
       "      <th>std</th>\n",
       "      <td>18.097528</td>\n",
       "      <td>1.791408e+06</td>\n",
       "      <td>1.183409</td>\n",
       "      <td>165.654671</td>\n",
       "      <td>2.446889</td>\n",
       "      <td>1.828006e+06</td>\n",
       "    </tr>\n",
       "    <tr>\n",
       "      <th>min</th>\n",
       "      <td>45.000000</td>\n",
       "      <td>1.000000e+00</td>\n",
       "      <td>0.000000</td>\n",
       "      <td>0.000000</td>\n",
       "      <td>0.000000</td>\n",
       "      <td>1.000000e+00</td>\n",
       "    </tr>\n",
       "    <tr>\n",
       "      <th>25%</th>\n",
       "      <td>89.000000</td>\n",
       "      <td>2.038000e+04</td>\n",
       "      <td>0.000000</td>\n",
       "      <td>17.000000</td>\n",
       "      <td>2.000000</td>\n",
       "      <td>1.297250e+03</td>\n",
       "    </tr>\n",
       "    <tr>\n",
       "      <th>50%</th>\n",
       "      <td>100.000000</td>\n",
       "      <td>4.784236e+05</td>\n",
       "      <td>0.000000</td>\n",
       "      <td>82.500000</td>\n",
       "      <td>3.000000</td>\n",
       "      <td>1.259100e+04</td>\n",
       "    </tr>\n",
       "    <tr>\n",
       "      <th>75%</th>\n",
       "      <td>114.000000</td>\n",
       "      <td>1.286569e+06</td>\n",
       "      <td>2.000000</td>\n",
       "      <td>264.000000</td>\n",
       "      <td>4.000000</td>\n",
       "      <td>4.798868e+05</td>\n",
       "    </tr>\n",
       "    <tr>\n",
       "      <th>max</th>\n",
       "      <td>180.000000</td>\n",
       "      <td>1.761531e+07</td>\n",
       "      <td>5.000000</td>\n",
       "      <td>869.000000</td>\n",
       "      <td>25.000000</td>\n",
       "      <td>1.426277e+07</td>\n",
       "    </tr>\n",
       "  </tbody>\n",
       "</table>\n",
       "</div>"
      ],
      "text/plain": [
       "             time  dir_prev_bfnum  dir_prev_num   num_staff   num_actor  \\\n",
       "count  600.000000    2.700000e+02    600.000000  600.000000  600.000000   \n",
       "mean   100.863333    1.050443e+06      0.876667  151.118333    3.706667   \n",
       "std     18.097528    1.791408e+06      1.183409  165.654671    2.446889   \n",
       "min     45.000000    1.000000e+00      0.000000    0.000000    0.000000   \n",
       "25%     89.000000    2.038000e+04      0.000000   17.000000    2.000000   \n",
       "50%    100.000000    4.784236e+05      0.000000   82.500000    3.000000   \n",
       "75%    114.000000    1.286569e+06      2.000000  264.000000    4.000000   \n",
       "max    180.000000    1.761531e+07      5.000000  869.000000   25.000000   \n",
       "\n",
       "        box_off_num  \n",
       "count  6.000000e+02  \n",
       "mean   7.081818e+05  \n",
       "std    1.828006e+06  \n",
       "min    1.000000e+00  \n",
       "25%    1.297250e+03  \n",
       "50%    1.259100e+04  \n",
       "75%    4.798868e+05  \n",
       "max    1.426277e+07  "
      ]
     },
     "execution_count": 6,
     "metadata": {},
     "output_type": "execute_result"
    }
   ],
   "source": [
    "# 수치형 변수의 기초통계량 확인\n",
    "train.describe()"
   ]
  },
  {
   "cell_type": "code",
   "execution_count": 6,
   "id": "21a22b14-52c6-4316-8e97-b345c0163779",
   "metadata": {},
   "outputs": [
    {
     "data": {
      "text/html": [
       "<div>\n",
       "<style scoped>\n",
       "    .dataframe tbody tr th:only-of-type {\n",
       "        vertical-align: middle;\n",
       "    }\n",
       "\n",
       "    .dataframe tbody tr th {\n",
       "        vertical-align: top;\n",
       "    }\n",
       "\n",
       "    .dataframe thead th {\n",
       "        text-align: right;\n",
       "    }\n",
       "</style>\n",
       "<table border=\"1\" class=\"dataframe\">\n",
       "  <thead>\n",
       "    <tr style=\"text-align: right;\">\n",
       "      <th></th>\n",
       "      <th>title</th>\n",
       "      <th>distributor</th>\n",
       "      <th>genre</th>\n",
       "      <th>release_time</th>\n",
       "      <th>time</th>\n",
       "      <th>screening_rat</th>\n",
       "      <th>director</th>\n",
       "      <th>dir_prev_bfnum</th>\n",
       "      <th>dir_prev_num</th>\n",
       "      <th>num_staff</th>\n",
       "      <th>num_actor</th>\n",
       "      <th>box_off_num</th>\n",
       "    </tr>\n",
       "  </thead>\n",
       "  <tbody>\n",
       "    <tr>\n",
       "      <th>0</th>\n",
       "      <td>개들의 전쟁</td>\n",
       "      <td>롯데엔터테인먼트</td>\n",
       "      <td>액션</td>\n",
       "      <td>2012-11-22</td>\n",
       "      <td>96</td>\n",
       "      <td>청소년 관람불가</td>\n",
       "      <td>조병옥</td>\n",
       "      <td>0.00</td>\n",
       "      <td>0</td>\n",
       "      <td>91</td>\n",
       "      <td>2</td>\n",
       "      <td>23398</td>\n",
       "    </tr>\n",
       "    <tr>\n",
       "      <th>1</th>\n",
       "      <td>내부자들</td>\n",
       "      <td>(주)쇼박스</td>\n",
       "      <td>느와르</td>\n",
       "      <td>2015-11-19</td>\n",
       "      <td>130</td>\n",
       "      <td>청소년 관람불가</td>\n",
       "      <td>우민호</td>\n",
       "      <td>1161602.50</td>\n",
       "      <td>2</td>\n",
       "      <td>387</td>\n",
       "      <td>3</td>\n",
       "      <td>7072501</td>\n",
       "    </tr>\n",
       "    <tr>\n",
       "      <th>2</th>\n",
       "      <td>은밀하게 위대하게</td>\n",
       "      <td>(주)쇼박스</td>\n",
       "      <td>액션</td>\n",
       "      <td>2013-06-05</td>\n",
       "      <td>123</td>\n",
       "      <td>15세 관람가</td>\n",
       "      <td>장철수</td>\n",
       "      <td>220775.25</td>\n",
       "      <td>4</td>\n",
       "      <td>343</td>\n",
       "      <td>4</td>\n",
       "      <td>6959083</td>\n",
       "    </tr>\n",
       "    <tr>\n",
       "      <th>3</th>\n",
       "      <td>나는 공무원이다</td>\n",
       "      <td>(주)NEW</td>\n",
       "      <td>코미디</td>\n",
       "      <td>2012-07-12</td>\n",
       "      <td>101</td>\n",
       "      <td>전체 관람가</td>\n",
       "      <td>구자홍</td>\n",
       "      <td>23894.00</td>\n",
       "      <td>2</td>\n",
       "      <td>20</td>\n",
       "      <td>6</td>\n",
       "      <td>217866</td>\n",
       "    </tr>\n",
       "    <tr>\n",
       "      <th>4</th>\n",
       "      <td>불량남녀</td>\n",
       "      <td>쇼박스(주)미디어플렉스</td>\n",
       "      <td>코미디</td>\n",
       "      <td>2010-11-04</td>\n",
       "      <td>108</td>\n",
       "      <td>15세 관람가</td>\n",
       "      <td>신근호</td>\n",
       "      <td>1.00</td>\n",
       "      <td>1</td>\n",
       "      <td>251</td>\n",
       "      <td>2</td>\n",
       "      <td>483387</td>\n",
       "    </tr>\n",
       "  </tbody>\n",
       "</table>\n",
       "</div>"
      ],
      "text/plain": [
       "       title   distributor genre release_time  time screening_rat director  \\\n",
       "0     개들의 전쟁      롯데엔터테인먼트    액션   2012-11-22    96      청소년 관람불가      조병옥   \n",
       "1       내부자들        (주)쇼박스   느와르   2015-11-19   130      청소년 관람불가      우민호   \n",
       "2  은밀하게 위대하게        (주)쇼박스    액션   2013-06-05   123       15세 관람가      장철수   \n",
       "3   나는 공무원이다        (주)NEW   코미디   2012-07-12   101        전체 관람가      구자홍   \n",
       "4       불량남녀  쇼박스(주)미디어플렉스   코미디   2010-11-04   108       15세 관람가      신근호   \n",
       "\n",
       "   dir_prev_bfnum  dir_prev_num  num_staff  num_actor  box_off_num  \n",
       "0            0.00             0         91          2        23398  \n",
       "1      1161602.50             2        387          3      7072501  \n",
       "2       220775.25             4        343          4      6959083  \n",
       "3        23894.00             2         20          6       217866  \n",
       "4            1.00             1        251          2       483387  "
      ]
     },
     "execution_count": 6,
     "metadata": {},
     "output_type": "execute_result"
    }
   ],
   "source": [
    "# dir_prev_bfnum 컬럼 결측치 대체\n",
    "train.fillna(value=0, inplace=True)\n",
    "train.head()"
   ]
  },
  {
   "cell_type": "code",
   "execution_count": 8,
   "id": "bc7e19a4-3689-4d65-99d6-33157ba81ff9",
   "metadata": {
    "tags": []
   },
   "outputs": [
    {
     "data": {
      "text/plain": [
       "title               0\n",
       "distributor         0\n",
       "genre               0\n",
       "release_time        0\n",
       "time                0\n",
       "screening_rat       0\n",
       "director            0\n",
       "dir_prev_bfnum    136\n",
       "dir_prev_num        0\n",
       "num_staff           0\n",
       "num_actor           0\n",
       "dtype: int64"
      ]
     },
     "execution_count": 8,
     "metadata": {},
     "output_type": "execute_result"
    }
   ],
   "source": [
    "# test 데이터 셋에서도 결측치가 있는지 확인\n",
    "# isna()와 isnull()은 같은 함수이다.\n",
    "test.isnull().sum()"
   ]
  },
  {
   "cell_type": "code",
   "execution_count": 7,
   "id": "4daf3753-746c-472b-a8c9-aa8f8b2cbff9",
   "metadata": {
    "tags": []
   },
   "outputs": [
    {
     "data": {
      "text/plain": [
       "title             0\n",
       "distributor       0\n",
       "genre             0\n",
       "release_time      0\n",
       "time              0\n",
       "screening_rat     0\n",
       "director          0\n",
       "dir_prev_bfnum    0\n",
       "dir_prev_num      0\n",
       "num_staff         0\n",
       "num_actor         0\n",
       "dtype: int64"
      ]
     },
     "execution_count": 7,
     "metadata": {},
     "output_type": "execute_result"
    }
   ],
   "source": [
    "# test 데이터 셋의 dir_prev_bfnum 컬럼 결측치 대체\n",
    "test['dir_prev_bfnum'].fillna(value=0, inplace=True)\n",
    "test.isnull().sum()"
   ]
  },
  {
   "cell_type": "markdown",
   "id": "2ddbf8fa-37dd-47ae-9032-45c305225844",
   "metadata": {},
   "source": [
    "#### **관람객 수가 가장 많은 10개 영화 목록**"
   ]
  },
  {
   "cell_type": "code",
   "execution_count": 8,
   "id": "73e44e3c-5619-41b5-a5d7-b5b5f52a0bcc",
   "metadata": {},
   "outputs": [
    {
     "data": {
      "text/html": [
       "<div>\n",
       "<style scoped>\n",
       "    .dataframe tbody tr th:only-of-type {\n",
       "        vertical-align: middle;\n",
       "    }\n",
       "\n",
       "    .dataframe tbody tr th {\n",
       "        vertical-align: top;\n",
       "    }\n",
       "\n",
       "    .dataframe thead th {\n",
       "        text-align: right;\n",
       "    }\n",
       "</style>\n",
       "<table border=\"1\" class=\"dataframe\">\n",
       "  <thead>\n",
       "    <tr style=\"text-align: right;\">\n",
       "      <th></th>\n",
       "      <th>title</th>\n",
       "      <th>distributor</th>\n",
       "      <th>genre</th>\n",
       "      <th>release_time</th>\n",
       "      <th>time</th>\n",
       "      <th>screening_rat</th>\n",
       "      <th>director</th>\n",
       "      <th>dir_prev_bfnum</th>\n",
       "      <th>dir_prev_num</th>\n",
       "      <th>num_staff</th>\n",
       "      <th>num_actor</th>\n",
       "      <th>box_off_num</th>\n",
       "    </tr>\n",
       "  </thead>\n",
       "  <tbody>\n",
       "    <tr>\n",
       "      <th>372</th>\n",
       "      <td>국제시장</td>\n",
       "      <td>CJ 엔터테인먼트</td>\n",
       "      <td>드라마</td>\n",
       "      <td>2014-12-17</td>\n",
       "      <td>126</td>\n",
       "      <td>12세 관람가</td>\n",
       "      <td>윤제균</td>\n",
       "      <td>0.000000e+00</td>\n",
       "      <td>0</td>\n",
       "      <td>869</td>\n",
       "      <td>4</td>\n",
       "      <td>14262766</td>\n",
       "    </tr>\n",
       "    <tr>\n",
       "      <th>362</th>\n",
       "      <td>도둑들</td>\n",
       "      <td>(주)쇼박스</td>\n",
       "      <td>느와르</td>\n",
       "      <td>2012-07-25</td>\n",
       "      <td>135</td>\n",
       "      <td>15세 관람가</td>\n",
       "      <td>최동훈</td>\n",
       "      <td>2.564692e+06</td>\n",
       "      <td>3</td>\n",
       "      <td>462</td>\n",
       "      <td>10</td>\n",
       "      <td>12983841</td>\n",
       "    </tr>\n",
       "    <tr>\n",
       "      <th>530</th>\n",
       "      <td>7번방의 선물</td>\n",
       "      <td>(주)NEW</td>\n",
       "      <td>코미디</td>\n",
       "      <td>2013-01-23</td>\n",
       "      <td>127</td>\n",
       "      <td>15세 관람가</td>\n",
       "      <td>이환경</td>\n",
       "      <td>8.190495e+05</td>\n",
       "      <td>2</td>\n",
       "      <td>300</td>\n",
       "      <td>8</td>\n",
       "      <td>12811435</td>\n",
       "    </tr>\n",
       "    <tr>\n",
       "      <th>498</th>\n",
       "      <td>암살</td>\n",
       "      <td>(주)쇼박스</td>\n",
       "      <td>액션</td>\n",
       "      <td>2015-07-22</td>\n",
       "      <td>139</td>\n",
       "      <td>15세 관람가</td>\n",
       "      <td>최동훈</td>\n",
       "      <td>5.169479e+06</td>\n",
       "      <td>4</td>\n",
       "      <td>628</td>\n",
       "      <td>3</td>\n",
       "      <td>12706663</td>\n",
       "    </tr>\n",
       "    <tr>\n",
       "      <th>460</th>\n",
       "      <td>광해, 왕이 된 남자</td>\n",
       "      <td>CJ 엔터테인먼트</td>\n",
       "      <td>드라마</td>\n",
       "      <td>2012-09-13</td>\n",
       "      <td>131</td>\n",
       "      <td>15세 관람가</td>\n",
       "      <td>추창민</td>\n",
       "      <td>1.552541e+06</td>\n",
       "      <td>2</td>\n",
       "      <td>402</td>\n",
       "      <td>3</td>\n",
       "      <td>12323595</td>\n",
       "    </tr>\n",
       "    <tr>\n",
       "      <th>122</th>\n",
       "      <td>변호인</td>\n",
       "      <td>(주)NEW</td>\n",
       "      <td>드라마</td>\n",
       "      <td>2013-12-18</td>\n",
       "      <td>127</td>\n",
       "      <td>15세 관람가</td>\n",
       "      <td>양우석</td>\n",
       "      <td>0.000000e+00</td>\n",
       "      <td>0</td>\n",
       "      <td>311</td>\n",
       "      <td>5</td>\n",
       "      <td>11374879</td>\n",
       "    </tr>\n",
       "    <tr>\n",
       "      <th>496</th>\n",
       "      <td>설국열차</td>\n",
       "      <td>CJ 엔터테인먼트</td>\n",
       "      <td>SF</td>\n",
       "      <td>2013-08-01</td>\n",
       "      <td>125</td>\n",
       "      <td>15세 관람가</td>\n",
       "      <td>봉준호</td>\n",
       "      <td>0.000000e+00</td>\n",
       "      <td>0</td>\n",
       "      <td>67</td>\n",
       "      <td>10</td>\n",
       "      <td>9350351</td>\n",
       "    </tr>\n",
       "    <tr>\n",
       "      <th>101</th>\n",
       "      <td>관상</td>\n",
       "      <td>(주)쇼박스</td>\n",
       "      <td>드라마</td>\n",
       "      <td>2013-09-11</td>\n",
       "      <td>139</td>\n",
       "      <td>15세 관람가</td>\n",
       "      <td>한재림</td>\n",
       "      <td>1.242778e+06</td>\n",
       "      <td>2</td>\n",
       "      <td>298</td>\n",
       "      <td>6</td>\n",
       "      <td>9135806</td>\n",
       "    </tr>\n",
       "    <tr>\n",
       "      <th>505</th>\n",
       "      <td>해적: 바다로 간 산적</td>\n",
       "      <td>롯데엔터테인먼트</td>\n",
       "      <td>SF</td>\n",
       "      <td>2014-08-06</td>\n",
       "      <td>130</td>\n",
       "      <td>12세 관람가</td>\n",
       "      <td>이석훈</td>\n",
       "      <td>1.843895e+06</td>\n",
       "      <td>3</td>\n",
       "      <td>868</td>\n",
       "      <td>2</td>\n",
       "      <td>8666208</td>\n",
       "    </tr>\n",
       "    <tr>\n",
       "      <th>476</th>\n",
       "      <td>수상한 그녀</td>\n",
       "      <td>CJ 엔터테인먼트</td>\n",
       "      <td>코미디</td>\n",
       "      <td>2014-01-22</td>\n",
       "      <td>124</td>\n",
       "      <td>15세 관람가</td>\n",
       "      <td>황동혁</td>\n",
       "      <td>2.781990e+06</td>\n",
       "      <td>2</td>\n",
       "      <td>437</td>\n",
       "      <td>5</td>\n",
       "      <td>8659725</td>\n",
       "    </tr>\n",
       "  </tbody>\n",
       "</table>\n",
       "</div>"
      ],
      "text/plain": [
       "            title distributor genre release_time  time screening_rat director  \\\n",
       "372          국제시장   CJ 엔터테인먼트   드라마   2014-12-17   126       12세 관람가      윤제균   \n",
       "362           도둑들      (주)쇼박스   느와르   2012-07-25   135       15세 관람가      최동훈   \n",
       "530       7번방의 선물      (주)NEW   코미디   2013-01-23   127       15세 관람가      이환경   \n",
       "498            암살      (주)쇼박스    액션   2015-07-22   139       15세 관람가      최동훈   \n",
       "460   광해, 왕이 된 남자   CJ 엔터테인먼트   드라마   2012-09-13   131       15세 관람가      추창민   \n",
       "122           변호인      (주)NEW   드라마   2013-12-18   127       15세 관람가      양우석   \n",
       "496          설국열차   CJ 엔터테인먼트    SF   2013-08-01   125       15세 관람가      봉준호   \n",
       "101            관상      (주)쇼박스   드라마   2013-09-11   139       15세 관람가      한재림   \n",
       "505  해적: 바다로 간 산적    롯데엔터테인먼트    SF   2014-08-06   130       12세 관람가      이석훈   \n",
       "476        수상한 그녀   CJ 엔터테인먼트   코미디   2014-01-22   124       15세 관람가      황동혁   \n",
       "\n",
       "     dir_prev_bfnum  dir_prev_num  num_staff  num_actor  box_off_num  \n",
       "372    0.000000e+00             0        869          4     14262766  \n",
       "362    2.564692e+06             3        462         10     12983841  \n",
       "530    8.190495e+05             2        300          8     12811435  \n",
       "498    5.169479e+06             4        628          3     12706663  \n",
       "460    1.552541e+06             2        402          3     12323595  \n",
       "122    0.000000e+00             0        311          5     11374879  \n",
       "496    0.000000e+00             0         67         10      9350351  \n",
       "101    1.242778e+06             2        298          6      9135806  \n",
       "505    1.843895e+06             3        868          2      8666208  \n",
       "476    2.781990e+06             2        437          5      8659725  "
      ]
     },
     "execution_count": 8,
     "metadata": {},
     "output_type": "execute_result"
    }
   ],
   "source": [
    "train.sort_values(by='box_off_num', ascending=False).head(10)"
   ]
  },
  {
   "cell_type": "markdown",
   "id": "b03785d1-ab2e-4b49-b236-2e7b11af101e",
   "metadata": {},
   "source": [
    "#### **영화 장르별 평균 관람객 수**"
   ]
  },
  {
   "cell_type": "code",
   "execution_count": 9,
   "id": "cedd5422-0b38-4818-993a-92f053fffd84",
   "metadata": {},
   "outputs": [
    {
     "data": {
      "text/html": [
       "<div>\n",
       "<style scoped>\n",
       "    .dataframe tbody tr th:only-of-type {\n",
       "        vertical-align: middle;\n",
       "    }\n",
       "\n",
       "    .dataframe tbody tr th {\n",
       "        vertical-align: top;\n",
       "    }\n",
       "\n",
       "    .dataframe thead th {\n",
       "        text-align: right;\n",
       "    }\n",
       "</style>\n",
       "<table border=\"1\" class=\"dataframe\">\n",
       "  <thead>\n",
       "    <tr style=\"text-align: right;\">\n",
       "      <th></th>\n",
       "      <th>box_off_num</th>\n",
       "    </tr>\n",
       "    <tr>\n",
       "      <th>genre</th>\n",
       "      <th></th>\n",
       "    </tr>\n",
       "  </thead>\n",
       "  <tbody>\n",
       "    <tr>\n",
       "      <th>코미디</th>\n",
       "      <td>1.193914e+06</td>\n",
       "    </tr>\n",
       "    <tr>\n",
       "      <th>액션</th>\n",
       "      <td>2.203974e+06</td>\n",
       "    </tr>\n",
       "    <tr>\n",
       "      <th>애니메이션</th>\n",
       "      <td>1.819267e+05</td>\n",
       "    </tr>\n",
       "    <tr>\n",
       "      <th>서스펜스</th>\n",
       "      <td>8.261100e+04</td>\n",
       "    </tr>\n",
       "    <tr>\n",
       "      <th>미스터리</th>\n",
       "      <td>5.275482e+05</td>\n",
       "    </tr>\n",
       "    <tr>\n",
       "      <th>뮤지컬</th>\n",
       "      <td>6.627000e+03</td>\n",
       "    </tr>\n",
       "    <tr>\n",
       "      <th>멜로/로맨스</th>\n",
       "      <td>4.259680e+05</td>\n",
       "    </tr>\n",
       "    <tr>\n",
       "      <th>드라마</th>\n",
       "      <td>6.256898e+05</td>\n",
       "    </tr>\n",
       "    <tr>\n",
       "      <th>다큐멘터리</th>\n",
       "      <td>6.717226e+04</td>\n",
       "    </tr>\n",
       "    <tr>\n",
       "      <th>느와르</th>\n",
       "      <td>2.263695e+06</td>\n",
       "    </tr>\n",
       "    <tr>\n",
       "      <th>공포</th>\n",
       "      <td>5.908325e+05</td>\n",
       "    </tr>\n",
       "    <tr>\n",
       "      <th>SF</th>\n",
       "      <td>1.788346e+06</td>\n",
       "    </tr>\n",
       "  </tbody>\n",
       "</table>\n",
       "</div>"
      ],
      "text/plain": [
       "         box_off_num\n",
       "genre               \n",
       "코미디     1.193914e+06\n",
       "액션      2.203974e+06\n",
       "애니메이션   1.819267e+05\n",
       "서스펜스    8.261100e+04\n",
       "미스터리    5.275482e+05\n",
       "뮤지컬     6.627000e+03\n",
       "멜로/로맨스  4.259680e+05\n",
       "드라마     6.256898e+05\n",
       "다큐멘터리   6.717226e+04\n",
       "느와르     2.263695e+06\n",
       "공포      5.908325e+05\n",
       "SF      1.788346e+06"
      ]
     },
     "execution_count": 9,
     "metadata": {},
     "output_type": "execute_result"
    }
   ],
   "source": [
    "# 장르별로 내림차순\n",
    "train[['genre', 'box_off_num']].groupby('genre').mean().sort_values(by='genre', ascending=False)"
   ]
  },
  {
   "cell_type": "markdown",
   "id": "e9e2b612-8bff-4bee-b49c-ab59216e09d1",
   "metadata": {},
   "source": [
    "#### **변수들의 분포 파악(히스토그램)**"
   ]
  },
  {
   "cell_type": "code",
   "execution_count": 23,
   "id": "c105e47a-4066-4912-9596-a4db52761591",
   "metadata": {},
   "outputs": [
    {
     "data": {
      "image/png": "[encoded data removed]",
      "text/plain": [
       "<Figure size 1224x864 with 6 Axes>"
      ]
     },
     "metadata": {
      "needs_background": "light"
     },
     "output_type": "display_data"
    }
   ],
   "source": [
    "train.hist(bins=30, figsize = (17, 12))\n",
    "plt.show()"
   ]
  },
  {
   "cell_type": "markdown",
   "id": "e7c04e9f-2db5-49fc-a836-64ce0599de2b",
   "metadata": {},
   "source": [
    "#### **변수간 상관관계 파악(+ 히트맵)**"
   ]
  },
  {
   "cell_type": "code",
   "execution_count": 10,
   "id": "e52f723e-d18f-4370-bc5f-9f68ceb21614",
   "metadata": {},
   "outputs": [],
   "source": [
    "#상관분석은 숫자로 계산할 수 있으므로 데이터에서 숫자로 이루어진 컬럼만을 뽑는다\n",
    "train_number = train.select_dtypes(np.number)"
   ]
  },
  {
   "cell_type": "code",
   "execution_count": 11,
   "id": "d42cd546-0a26-4634-9c4c-c4d2a896089b",
   "metadata": {},
   "outputs": [],
   "source": [
    "corr = train_number.corr()"
   ]
  },
  {
   "cell_type": "code",
   "execution_count": 12,
   "id": "10c3c1bd-4e65-4453-b118-579a7fbc3245",
   "metadata": {},
   "outputs": [
    {
     "data": {
      "image/png": "[encoded data removed]",
      "text/plain": [
       "<Figure size 1080x576 with 2 Axes>"
      ]
     },
     "metadata": {
      "needs_background": "light"
     },
     "output_type": "display_data"
    }
   ],
   "source": [
    "plt.colormap = plt.cm.PuBu\n",
    "plt.figure(figsize=(15,8))\n",
    "ax = sns.heatmap(\n",
    "    corr, vmin=-1, vmax=1, center=0,\n",
    "    cmap=sns.diverging_palette(20, 220, n=200),\n",
    "    square = True, annot = True\n",
    "    )\n",
    "ax.set_xticklabels(\n",
    "    ax.get_xticklabels(),\n",
    "    rotation=45,\n",
    "    horizontalalignment='right'\n",
    "    )\n",
    "\n",
    "plt.title('Correlation heatmap', fontsize=30)\n",
    "plt.show()"
   ]
  },
  {
   "cell_type": "code",
   "execution_count": 16,
   "id": "0df96d7e-b387-4585-a62c-6b05268645b7",
   "metadata": {},
   "outputs": [
    {
     "data": {
      "image/png": "[encoded data removed]",
      "text/plain": [
       "<Figure size 576x576 with 1 Axes>"
      ]
     },
     "metadata": {
      "needs_background": "light"
     },
     "output_type": "display_data"
    }
   ],
   "source": [
    "plt.figure(figsize=(8,8))\n",
    "ax = sns.scatterplot(data=train, x='num_staff', y='box_off_num')\n",
    "ax.set_title('Num_staff & Box_off_num Scatter plot', fontsize=20)\n",
    "plt.show()"
   ]
  },
  {
   "cell_type": "code",
   "execution_count": 18,
   "id": "7c6c24df-3e69-4737-8581-543fa4ed44dc",
   "metadata": {},
   "outputs": [
    {
     "data": {
      "image/png": "[encoded data removed]",
      "text/plain": [
       "<Figure size 576x576 with 1 Axes>"
      ]
     },
     "metadata": {
      "needs_background": "light"
     },
     "output_type": "display_data"
    }
   ],
   "source": [
    "plt.figure(figsize=(8, 8))\n",
    "ax = sns.scatterplot(data=train, x='time', y='box_off_num')\n",
    "ax.set_title('Time & Box_off_num Scatter plot', fontsize=20)\n",
    "plt.show()"
   ]
  },
  {
   "cell_type": "markdown",
   "id": "f328ea46-374f-4aab-a618-96b23e36dce3",
   "metadata": {},
   "source": [
    "### step3. 예측 모델 생성"
   ]
  },
  {
   "cell_type": "code",
   "execution_count": 24,
   "id": "a50b0971-d4c4-4662-8358-e1d58e2fa8d0",
   "metadata": {},
   "outputs": [],
   "source": [
    "from sklearn.linear_model import LinearRegression, Lasso, Ridge, ElasticNet\n",
    "from sklearn.neighbors import KNeighborsRegressor\n",
    "from sklearn.tree import DecisionTreeRegressor\n",
    "from sklearn.ensemble import BaggingRegressor, VotingRegressor\n",
    "from sklearn.model_selection import cross_val_score, GridSearchCV\n",
    "import multiprocessing\n",
    "from sklearn.preprocessing import StandardScaler, MinMaxScaler\n",
    "from sklearn.metrics import r2_score, mean_squared_error"
   ]
  },
  {
   "cell_type": "code",
   "execution_count": 25,
   "id": "8855e338-2558-4b1b-816d-c94651aafa4f",
   "metadata": {},
   "outputs": [
    {
     "data": {
      "text/html": [
       "<div>\n",
       "<style scoped>\n",
       "    .dataframe tbody tr th:only-of-type {\n",
       "        vertical-align: middle;\n",
       "    }\n",
       "\n",
       "    .dataframe tbody tr th {\n",
       "        vertical-align: top;\n",
       "    }\n",
       "\n",
       "    .dataframe thead th {\n",
       "        text-align: right;\n",
       "    }\n",
       "</style>\n",
       "<table border=\"1\" class=\"dataframe\">\n",
       "  <thead>\n",
       "    <tr style=\"text-align: right;\">\n",
       "      <th></th>\n",
       "      <th>title</th>\n",
       "      <th>distributor</th>\n",
       "      <th>genre</th>\n",
       "      <th>release_time</th>\n",
       "      <th>time</th>\n",
       "      <th>screening_rat</th>\n",
       "      <th>director</th>\n",
       "      <th>dir_prev_bfnum</th>\n",
       "      <th>dir_prev_num</th>\n",
       "      <th>num_staff</th>\n",
       "      <th>num_actor</th>\n",
       "      <th>box_off_num</th>\n",
       "    </tr>\n",
       "  </thead>\n",
       "  <tbody>\n",
       "    <tr>\n",
       "      <th>0</th>\n",
       "      <td>개들의 전쟁</td>\n",
       "      <td>롯데엔터테인먼트</td>\n",
       "      <td>액션</td>\n",
       "      <td>2012-11-22</td>\n",
       "      <td>96</td>\n",
       "      <td>청소년 관람불가</td>\n",
       "      <td>조병옥</td>\n",
       "      <td>0.00</td>\n",
       "      <td>0</td>\n",
       "      <td>91</td>\n",
       "      <td>2</td>\n",
       "      <td>23398</td>\n",
       "    </tr>\n",
       "    <tr>\n",
       "      <th>1</th>\n",
       "      <td>내부자들</td>\n",
       "      <td>(주)쇼박스</td>\n",
       "      <td>느와르</td>\n",
       "      <td>2015-11-19</td>\n",
       "      <td>130</td>\n",
       "      <td>청소년 관람불가</td>\n",
       "      <td>우민호</td>\n",
       "      <td>1161602.50</td>\n",
       "      <td>2</td>\n",
       "      <td>387</td>\n",
       "      <td>3</td>\n",
       "      <td>7072501</td>\n",
       "    </tr>\n",
       "    <tr>\n",
       "      <th>2</th>\n",
       "      <td>은밀하게 위대하게</td>\n",
       "      <td>(주)쇼박스</td>\n",
       "      <td>액션</td>\n",
       "      <td>2013-06-05</td>\n",
       "      <td>123</td>\n",
       "      <td>15세 관람가</td>\n",
       "      <td>장철수</td>\n",
       "      <td>220775.25</td>\n",
       "      <td>4</td>\n",
       "      <td>343</td>\n",
       "      <td>4</td>\n",
       "      <td>6959083</td>\n",
       "    </tr>\n",
       "    <tr>\n",
       "      <th>3</th>\n",
       "      <td>나는 공무원이다</td>\n",
       "      <td>(주)NEW</td>\n",
       "      <td>코미디</td>\n",
       "      <td>2012-07-12</td>\n",
       "      <td>101</td>\n",
       "      <td>전체 관람가</td>\n",
       "      <td>구자홍</td>\n",
       "      <td>23894.00</td>\n",
       "      <td>2</td>\n",
       "      <td>20</td>\n",
       "      <td>6</td>\n",
       "      <td>217866</td>\n",
       "    </tr>\n",
       "    <tr>\n",
       "      <th>4</th>\n",
       "      <td>불량남녀</td>\n",
       "      <td>쇼박스(주)미디어플렉스</td>\n",
       "      <td>코미디</td>\n",
       "      <td>2010-11-04</td>\n",
       "      <td>108</td>\n",
       "      <td>15세 관람가</td>\n",
       "      <td>신근호</td>\n",
       "      <td>1.00</td>\n",
       "      <td>1</td>\n",
       "      <td>251</td>\n",
       "      <td>2</td>\n",
       "      <td>483387</td>\n",
       "    </tr>\n",
       "  </tbody>\n",
       "</table>\n",
       "</div>"
      ],
      "text/plain": [
       "       title   distributor genre release_time  time screening_rat director  \\\n",
       "0     개들의 전쟁      롯데엔터테인먼트    액션   2012-11-22    96      청소년 관람불가      조병옥   \n",
       "1       내부자들        (주)쇼박스   느와르   2015-11-19   130      청소년 관람불가      우민호   \n",
       "2  은밀하게 위대하게        (주)쇼박스    액션   2013-06-05   123       15세 관람가      장철수   \n",
       "3   나는 공무원이다        (주)NEW   코미디   2012-07-12   101        전체 관람가      구자홍   \n",
       "4       불량남녀  쇼박스(주)미디어플렉스   코미디   2010-11-04   108       15세 관람가      신근호   \n",
       "\n",
       "   dir_prev_bfnum  dir_prev_num  num_staff  num_actor  box_off_num  \n",
       "0            0.00             0         91          2        23398  \n",
       "1      1161602.50             2        387          3      7072501  \n",
       "2       220775.25             4        343          4      6959083  \n",
       "3        23894.00             2         20          6       217866  \n",
       "4            1.00             1        251          2       483387  "
      ]
     },
     "execution_count": 25,
     "metadata": {},
     "output_type": "execute_result"
    }
   ],
   "source": [
    "train.head()"
   ]
  },
  {
   "cell_type": "code",
   "execution_count": 38,
   "id": "d9ae9d45-dc3f-437e-9b35-7ad3ad03597c",
   "metadata": {},
   "outputs": [],
   "source": [
    "# X, y 데이터 생성\n",
    "X = train[['time', 'dir_prev_bfnum', 'dir_prev_num', 'num_staff', 'num_actor']]\n",
    "y = train['box_off_num']"
   ]
  },
  {
   "cell_type": "code",
   "execution_count": 39,
   "id": "6d2bf90b-1d07-4efa-9842-6ead47f4ceec",
   "metadata": {
    "tags": []
   },
   "outputs": [
    {
     "name": "stdout",
     "output_type": "stream",
     "text": [
      "[scale 전]\n",
      "모델 평가: 0.3254871160422663\n",
      "MSE: 2250199296732.611\n",
      "RMSE: 1500066.4307731877\n",
      "R2 score: 0.3254871160422663\n",
      "\n",
      "[StandardScaler 후]\n",
      "모델 평가: 0.3254871160422663\n",
      "MSE: 2250199296732.611\n",
      "RMSE: 1500066.4307731877\n",
      "R2 score: 0.3254871160422663\n",
      "\n",
      "[MinMaxScaler 후]\n",
      "모델 평가: 0.32548711604226643\n",
      "MSE: 2250199296732.6104\n",
      "RMSE: 1500066.4307731877\n",
      "R2 score: 0.32548711604226643\n"
     ]
    }
   ],
   "source": [
    "# LinearRegression\n",
    "# scale 전\n",
    "linear_model = LinearRegression()\n",
    "linear_model.fit(X, y)\n",
    "\n",
    "predict = linear_model.predict(X)\n",
    "\n",
    "print('[scale 전]')\n",
    "print('모델 평가: {}'.format(linear_model.score(X, y)))\n",
    "print('MSE: {}'.format(mean_squared_error(y, predict)))\n",
    "print('RMSE: {}'.format(mean_squared_error(y, predict)**.5))\n",
    "print('R2 score: {}'.format(r2_score(y, predict)))\n",
    "\n",
    "# StandardScaler \n",
    "stand_scaler = StandardScaler()\n",
    "X_scale1 = stand_scaler.fit_transform(X)\n",
    "\n",
    "stand_model = LinearRegression()\n",
    "stand_model.fit(X_scale1, y)\n",
    "\n",
    "stand_predict = stand_model.predict(X_scale1)\n",
    "\n",
    "print('\\n[StandardScaler 후]')\n",
    "print('모델 평가: {}'.format(stand_model.score(X_scale1, y)))\n",
    "print('MSE: {}'.format(mean_squared_error(y, stand_predict)))\n",
    "print('RMSE: {}'.format(mean_squared_error(y, stand_predict)**.5))\n",
    "print('R2 score: {}'.format(r2_score(y, stand_predict)))\n",
    "\n",
    "# MinMaxScaler \n",
    "MM_scaler = MinMaxScaler()\n",
    "X_scale2 = MM_scaler.fit_transform(X)\n",
    "\n",
    "MM_model = LinearRegression()\n",
    "MM_model.fit(X_scale2, y)\n",
    "\n",
    "MM_predict = MM_model.predict(X_scale2)\n",
    "\n",
    "print('\\n[MinMaxScaler 후]')\n",
    "print('모델 평가: {}'.format(MM_model.score(X_scale2, y)))\n",
    "print('MSE: {}'.format(mean_squared_error(y, MM_predict)))\n",
    "print('RMSE: {}'.format(mean_squared_error(y, MM_predict)**.5))\n",
    "print('R2 score: {}'.format(r2_score(y, MM_predict)))"
   ]
  },
  {
   "cell_type": "markdown",
   "id": "190eecbd-ec48-4da1-9b40-7f7078c52d98",
   "metadata": {},
   "source": [
    "scale 전과 후가 똑같은 평가 점수를 보인다.  \n",
    "따라서 본 실습에서는 scale 전의 모델을 사용하기로 한다."
   ]
  },
  {
   "cell_type": "markdown",
   "id": "d2332548-791d-4d63-a5de-1ef3285bcbd1",
   "metadata": {},
   "source": [
    "#### **교차 검증**\n",
    "\n",
    "***LinearRegression & Ridge & Lasso & ElasticNet* 비교 분석**"
   ]
  },
  {
   "cell_type": "markdown",
   "id": "94f22d19-e04e-4c30-b0ee-8fbd0bec2b2f",
   "metadata": {},
   "source": [
    "#### 1. *LinearRegression*\n",
    "\n",
    "scoring 함수에 'neg_mean_squared_error'를 적용해 음수값을 반환하는 이유는 사이킷런의 scoring의 score 값이 클수록 좋은 평가 결과로 자동 평가하기 때문이다.  \n",
    "그런데 실제값과 오류값의 오류 차이를 기반으로 하는 회귀 평가 지표의 평균 값이 커지면 오히려 나쁜 모델이라는 의미이므로 이를 사이킷런의 scoring의 함수에 일반적으로 반영하려면 보정이 필요하다.  \n",
    "따라서 'neg_mean_squared_error'가 의미하는것은 -1 * metrics.mean_squared_error 이다."
   ]
  },
  {
   "cell_type": "code",
   "execution_count": 40,
   "id": "b82ff5f2-c20b-476c-940e-f67bdb492ed9",
   "metadata": {},
   "outputs": [
    {
     "name": "stdout",
     "output_type": "stream",
     "text": [
      "5 fold의 개별 Negative MSE scores: [-1.65941610e+12 -1.43770471e+12 -1.30454389e+12 -3.75827985e+12\n",
      " -3.47938195e+12]\n",
      "5 fold의 개별 RMSE scores: [1288183.25469927 1199043.24846349 1142166.31493278 1938628.34186068\n",
      " 1865310.14830629]\n",
      "5 fold의 평균 RMSE: 1486666.2616525025\n",
      "\n",
      ">> 최적의 RMSE 값은 1142166.3149327768 이다.\n"
     ]
    }
   ],
   "source": [
    "liner_model = LinearRegression(fit_intercept=True, # 디폴트 값은 True이며 절편 값을 계산할지 말지를 결정한다. False이라면 intercept가 사용되지 않고 0으로 지정한다.\n",
    "                        normalize=False, # 디폴트 값은 False이며 fit_intercept가 False인 경우에는 이 파라미터가 무시된다. True이면 회귀를 수행하기 전에 입력 데이터를 정규화한다.\n",
    "                        copy_X=True # X의 복사 여부\n",
    "                        )\n",
    "scores = cross_val_score(estimator = liner_model,\n",
    "                        X = X, y = y,\n",
    "                        cv = 5, \n",
    "                        n_jobs=multiprocessing.cpu_count(),\n",
    "                        scoring = 'neg_mean_squared_error')\n",
    "\n",
    "rmse_scores = np.sqrt(-1 * scores)\n",
    "avg_rmse = np.mean(rmse_scores)\n",
    "\n",
    "# cross_val_score로 반환된 값은 모두 음수\n",
    "print('5 fold의 개별 Negative MSE scores: {}'.format(scores))\n",
    "print('5 fold의 개별 RMSE scores: {}'.format(rmse_scores))\n",
    "print('5 fold의 평균 RMSE: {}'.format(avg_rmse))\n",
    "print('\\n>> 최적의 RMSE 값은 {} 이다.'.format(np.min(rmse_scores)))"
   ]
  },
  {
   "cell_type": "markdown",
   "id": "2c4ebf36-a20a-42f2-aeb2-820028d99a5e",
   "metadata": {},
   "source": [
    "#### 2. *Ridge*"
   ]
  },
  {
   "cell_type": "code",
   "execution_count": 41,
   "id": "be993c4a-aaba-481a-b959-f87bf7f29fc4",
   "metadata": {},
   "outputs": [
    {
     "name": "stdout",
     "output_type": "stream",
     "text": [
      "<<RMSE>>\n",
      "alpha가 0.001일 때 5 fold의 RMSE 평균: 1486666.245\n",
      "alpha가 0.01일 때 5 fold의 RMSE 평균: 1486666.098\n",
      "alpha가 0.1일 때 5 fold의 RMSE 평균: 1486664.623\n",
      "alpha가 1일 때 5 fold의 RMSE 평균: 1486649.905\n",
      "alpha가 10일 때 5 fold의 RMSE 평균: 1486505.922\n",
      "alpha가 100일 때 5 fold의 RMSE 평균: 1485325.730\n",
      "alpha가 1000일 때 5 fold의 RMSE 평균: 1481496.818\n",
      "\n",
      ">> 최적의 RMSE 평균값은 1481496.818 이다.\n",
      "\n",
      "<<R2 score>>\n",
      "alpha가 0.001일 때 5 fold의 R2 평균: 0.282\n",
      "alpha가 0.01일 때 5 fold의 R2 평균: 0.282\n",
      "alpha가 0.1일 때 5 fold의 R2 평균: 0.282\n",
      "alpha가 1일 때 5 fold의 R2 평균: 0.282\n",
      "alpha가 10일 때 5 fold의 R2 평균: 0.282\n",
      "alpha가 100일 때 5 fold의 R2 평균: 0.283\n",
      "alpha가 1000일 때 5 fold의 R2 평균: 0.289\n",
      "\n",
      ">> 최적의 R2 평균값은 0.289 이다.\n"
     ]
    }
   ],
   "source": [
    "alpha = [.001, .01, .1, 1, 10, 100, 1000]\n",
    "\n",
    "print('<<RMSE>>')\n",
    "rmse = [] # 평균 avg_rmse 값을 담을 빈 리스트 생성\n",
    "for a in alpha:\n",
    "    ridge_model = Ridge(alpha = a)\n",
    "    neg_mse_scores = cross_val_score(ridge_model, \n",
    "                                     X = X, y = y, cv = 5, \n",
    "                                     scoring = 'neg_mean_squared_error',\n",
    "                                     n_jobs=multiprocessing.cpu_count())\n",
    "    avg_rmse = np.mean(np.sqrt(-1 * neg_mse_scores))\n",
    "    rmse.append(avg_rmse)\n",
    "    print('alpha가 {0}일 때 5 fold의 RMSE 평균: {1:.3f}'.format(a, avg_rmse))\n",
    "\n",
    "print('\\n>> 최적의 RMSE 평균값은 {:.3f} 이다.'.format(np.min(rmse)))\n",
    "\n",
    "print('\\n<<R2 score>>')\n",
    "r2 = [] # 평균 r2 값을 담을 빈 리스트 생성\n",
    "for a in alpha:\n",
    "    ridge_model = Ridge(alpha = a)\n",
    "    r2_scores = cross_val_score(ridge_model, \n",
    "                                     X = X, y = y, cv = 5, \n",
    "                                     scoring = 'r2',\n",
    "                                     n_jobs=multiprocessing.cpu_count())\n",
    "    avg_r2 = np.mean(r2_scores)\n",
    "    r2.append(avg_r2)\n",
    "    print('alpha가 {0}일 때 5 fold의 R2 평균: {1:.3f}'.format(a, avg_r2))\n",
    "\n",
    "print('\\n>> 최적의 R2 평균값은 {:.3f} 이다.'.format(np.max(r2)))"
   ]
  },
  {
   "cell_type": "markdown",
   "id": "681fef78-fd9a-49d6-8041-d3640af6483d",
   "metadata": {},
   "source": [
    "#### 3. *Lasso*"
   ]
  },
  {
   "cell_type": "code",
   "execution_count": 42,
   "id": "03688f31-49be-4607-bb7f-1d494da74573",
   "metadata": {},
   "outputs": [
    {
     "name": "stdout",
     "output_type": "stream",
     "text": [
      "<<RMSE>>\n",
      "alpha가 0.001일 때 5 fold의 RMSE 평균: 1486666.262\n",
      "alpha가 0.01일 때 5 fold의 RMSE 평균: 1486666.260\n",
      "alpha가 0.1일 때 5 fold의 RMSE 평균: 1486666.249\n",
      "alpha가 1일 때 5 fold의 RMSE 평균: 1486666.139\n",
      "alpha가 10일 때 5 fold의 RMSE 평균: 1486665.031\n",
      "alpha가 100일 때 5 fold의 RMSE 평균: 1486653.958\n",
      "alpha가 1000일 때 5 fold의 RMSE 평균: 1486543.632\n",
      "\n",
      ">>  최적의 RMSE 평균값은 1486543.632 이다.\n",
      "\n",
      "<<R2 score>>\n",
      "alpha가 0.001일 때 5 fold의 R2 평균: 0.282\n",
      "alpha가 0.01일 때 5 fold의 R2 평균: 0.282\n",
      "alpha가 0.1일 때 5 fold의 R2 평균: 0.282\n",
      "alpha가 1일 때 5 fold의 R2 평균: 0.282\n",
      "alpha가 10일 때 5 fold의 R2 평균: 0.282\n",
      "alpha가 100일 때 5 fold의 R2 평균: 0.283\n",
      "alpha가 1000일 때 5 fold의 R2 평균: 0.289\n",
      "\n",
      ">> 최적의 R2 평균값은 0.289 이다.\n"
     ]
    }
   ],
   "source": [
    "alpha = [.001, .01, .1, 1, 10, 100, 1000]\n",
    "\n",
    "print('<<RMSE>>')\n",
    "rmse = [] # 평균 avg_rmse 값을 담을 빈 리스트 생성\n",
    "for a in alpha:\n",
    "    lasso_model = Lasso(alpha = a)\n",
    "    neg_mse_scores = cross_val_score(lasso_model, \n",
    "                                     X = X, y = y, cv = 5, \n",
    "                                     scoring = 'neg_mean_squared_error',\n",
    "                                     n_jobs=multiprocessing.cpu_count())\n",
    "    avg_rmse = np.mean(np.sqrt(-1 * neg_mse_scores))\n",
    "    rmse.append(avg_rmse)\n",
    "    print('alpha가 {0}일 때 5 fold의 RMSE 평균: {1:.3f}'.format(a, avg_rmse))\n",
    "    \n",
    "print('\\n>>  최적의 RMSE 평균값은 {:.3f} 이다.'.format(np.min(rmse)))\n",
    "\n",
    "print('\\n<<R2 score>>')\n",
    "r2 = [] # 평균 r2 값을 담을 빈 리스트 생성\n",
    "for a in alpha:\n",
    "    lasso_model = Ridge(alpha = a)\n",
    "    r2_scores = cross_val_score(lasso_model, \n",
    "                                     X = X, y = y, cv = 5, \n",
    "                                     scoring = 'r2',\n",
    "                                     n_jobs=multiprocessing.cpu_count())\n",
    "    avg_r2 = np.mean(r2_scores)\n",
    "    r2.append(avg_r2)\n",
    "    print('alpha가 {0}일 때 5 fold의 R2 평균: {1:.3f}'.format(a, avg_r2))\n",
    "\n",
    "print('\\n>> 최적의 R2 평균값은 {:.3f} 이다.'.format(np.max(r2)))"
   ]
  },
  {
   "cell_type": "markdown",
   "id": "f0668d36-2e10-46ce-b75c-bf9f05abb7c6",
   "metadata": {},
   "source": [
    "#### 4. *ElasticNet*"
   ]
  },
  {
   "cell_type": "code",
   "execution_count": 43,
   "id": "90335ee0-20a9-4496-8c45-6b35bcfdf20d",
   "metadata": {},
   "outputs": [
    {
     "name": "stdout",
     "output_type": "stream",
     "text": [
      "<<RMSE>>\n",
      "alpha가 0.001, l1_ratio가 0.1 일 때 5 fold의 RMSE 평균: 1486659.187\n",
      "alpha가 0.001, l1_ratio가 0.3 일 때 5 fold의 RMSE 평균: 1486660.758\n",
      "alpha가 0.001, l1_ratio가 0.5 일 때 5 fold의 RMSE 평균: 1486662.329\n",
      "alpha가 0.001, l1_ratio가 0.7 일 때 5 fold의 RMSE 평균: 1486663.902\n",
      "alpha가 0.01, l1_ratio가 0.1 일 때 5 fold의 RMSE 평균: 1486596.121\n",
      "alpha가 0.01, l1_ratio가 0.3 일 때 5 fold의 RMSE 평균: 1486611.591\n",
      "alpha가 0.01, l1_ratio가 0.5 일 때 5 fold의 RMSE 평균: 1486627.127\n",
      "alpha가 0.01, l1_ratio가 0.7 일 때 5 fold의 RMSE 평균: 1486642.730\n",
      "alpha가 0.1, l1_ratio가 0.1 일 때 5 fold의 RMSE 평균: 1486020.474\n",
      "alpha가 0.1, l1_ratio가 0.3 일 때 5 fold의 RMSE 평균: 1486153.969\n",
      "alpha가 0.1, l1_ratio가 0.5 일 때 5 fold의 RMSE 평균: 1486292.884\n",
      "alpha가 0.1, l1_ratio가 0.7 일 때 5 fold의 RMSE 평균: 1486437.568\n",
      "alpha가 1, l1_ratio가 0.1 일 때 5 fold의 RMSE 평균: 1483030.828\n",
      "alpha가 1, l1_ratio가 0.3 일 때 5 fold의 RMSE 평균: 1483500.658\n",
      "alpha가 1, l1_ratio가 0.5 일 때 5 fold의 RMSE 평균: 1484096.175\n",
      "alpha가 1, l1_ratio가 0.7 일 때 5 fold의 RMSE 평균: 1484878.030\n",
      "alpha가 10, l1_ratio가 0.1 일 때 5 fold의 RMSE 평균: 1479978.699\n",
      "alpha가 10, l1_ratio가 0.3 일 때 5 fold의 RMSE 평균: 1480107.130\n",
      "alpha가 10, l1_ratio가 0.5 일 때 5 fold의 RMSE 평균: 1480358.803\n",
      "alpha가 10, l1_ratio가 0.7 일 때 5 fold의 RMSE 평균: 1480941.424\n",
      "alpha가 100, l1_ratio가 0.1 일 때 5 fold의 RMSE 평균: 1480002.711\n",
      "alpha가 100, l1_ratio가 0.3 일 때 5 fold의 RMSE 평균: 1479816.362\n",
      "alpha가 100, l1_ratio가 0.5 일 때 5 fold의 RMSE 평균: 1479709.957\n",
      "alpha가 100, l1_ratio가 0.7 일 때 5 fold의 RMSE 평균: 1479715.772\n",
      "alpha가 1000, l1_ratio가 0.1 일 때 5 fold의 RMSE 평균: 1487055.667\n",
      "alpha가 1000, l1_ratio가 0.3 일 때 5 fold의 RMSE 평균: 1486132.141\n",
      "alpha가 1000, l1_ratio가 0.5 일 때 5 fold의 RMSE 평균: 1484828.449\n",
      "alpha가 1000, l1_ratio가 0.7 일 때 5 fold의 RMSE 평균: 1482858.998\n",
      "\n",
      ">> 최적의 RMSE 평균값은 1479709.957 이다.\n",
      "\n",
      "<<R2>>\n",
      "alpha가 0.001, l1_ratio가 0.1 일 때 5 fold의 R2 평균: 0.282\n",
      "alpha가 0.001, l1_ratio가 0.3 일 때 5 fold의 R2 평균: 0.282\n",
      "alpha가 0.001, l1_ratio가 0.5 일 때 5 fold의 R2 평균: 0.282\n",
      "alpha가 0.001, l1_ratio가 0.7 일 때 5 fold의 R2 평균: 0.282\n",
      "alpha가 0.01, l1_ratio가 0.1 일 때 5 fold의 R2 평균: 0.282\n",
      "alpha가 0.01, l1_ratio가 0.3 일 때 5 fold의 R2 평균: 0.282\n",
      "alpha가 0.01, l1_ratio가 0.5 일 때 5 fold의 R2 평균: 0.282\n",
      "alpha가 0.01, l1_ratio가 0.7 일 때 5 fold의 R2 평균: 0.282\n",
      "alpha가 0.1, l1_ratio가 0.1 일 때 5 fold의 R2 평균: 0.283\n",
      "alpha가 0.1, l1_ratio가 0.3 일 때 5 fold의 R2 평균: 0.282\n",
      "alpha가 0.1, l1_ratio가 0.5 일 때 5 fold의 R2 평균: 0.282\n",
      "alpha가 0.1, l1_ratio가 0.7 일 때 5 fold의 R2 평균: 0.282\n",
      "alpha가 1, l1_ratio가 0.1 일 때 5 fold의 R2 평균: 0.287\n",
      "alpha가 1, l1_ratio가 0.3 일 때 5 fold의 R2 평균: 0.286\n",
      "alpha가 1, l1_ratio가 0.5 일 때 5 fold의 R2 평균: 0.285\n",
      "alpha가 1, l1_ratio가 0.7 일 때 5 fold의 R2 평균: 0.284\n",
      "alpha가 10, l1_ratio가 0.1 일 때 5 fold의 R2 평균: 0.291\n",
      "alpha가 10, l1_ratio가 0.3 일 때 5 fold의 R2 평균: 0.291\n",
      "alpha가 10, l1_ratio가 0.5 일 때 5 fold의 R2 평균: 0.290\n",
      "alpha가 10, l1_ratio가 0.7 일 때 5 fold의 R2 평균: 0.289\n",
      "alpha가 100, l1_ratio가 0.1 일 때 5 fold의 R2 평균: 0.291\n",
      "alpha가 100, l1_ratio가 0.3 일 때 5 fold의 R2 평균: 0.292\n",
      "alpha가 100, l1_ratio가 0.5 일 때 5 fold의 R2 평균: 0.292\n",
      "alpha가 100, l1_ratio가 0.7 일 때 5 fold의 R2 평균: 0.292\n",
      "alpha가 1000, l1_ratio가 0.1 일 때 5 fold의 R2 평균: 0.285\n",
      "alpha가 1000, l1_ratio가 0.3 일 때 5 fold의 R2 평균: 0.286\n",
      "alpha가 1000, l1_ratio가 0.5 일 때 5 fold의 R2 평균: 0.287\n",
      "alpha가 1000, l1_ratio가 0.7 일 때 5 fold의 R2 평균: 0.289\n",
      "\n",
      ">> 최적의 R2 평균값은 0.292 이다.\n"
     ]
    }
   ],
   "source": [
    "alpha = [.001, .01, .1, 1, 10, 100, 1000]\n",
    "l1_ratio = [.1, .3, .5, .7]\n",
    "\n",
    "print('<<RMSE>>')\n",
    "rmse = [] # 평균 avg_rmse 값을 담을 빈 리스트 생성\n",
    "for a in alpha:\n",
    "    for l1 in l1_ratio:\n",
    "        elastic_model = ElasticNet(alpha = a, l1_ratio= l1)\n",
    "        neg_mse_scores = cross_val_score(elastic_model, \n",
    "                                         X = X, y = y, cv = 5, \n",
    "                                         scoring = 'neg_mean_squared_error',\n",
    "                                         n_jobs=multiprocessing.cpu_count())\n",
    "        avg_rmse = np.mean(np.sqrt(-1 * neg_mse_scores))\n",
    "        rmse.append(avg_rmse)\n",
    "        print('alpha가 {0}, l1_ratio가 {1} 일 때 5 fold의 RMSE 평균: {2:.3f}'.format(a, l1, avg_rmse))\n",
    "\n",
    "print('\\n>> 최적의 RMSE 평균값은 {:.3f} 이다.'.format(np.min(rmse)))\n",
    "\n",
    "print('\\n<<R2>>')\n",
    "r2 = [] # 평균 r2 값을 담을 빈 리스트 생성\n",
    "for a in alpha:\n",
    "    for l1 in l1_ratio:\n",
    "        elastic_model = ElasticNet(alpha = a, l1_ratio= l1)\n",
    "        r2_scores = cross_val_score(elastic_model, \n",
    "                                         X = X, y = y, cv = 5, \n",
    "                                         scoring = 'r2',\n",
    "                                         n_jobs=multiprocessing.cpu_count())\n",
    "        avg_r2 = np.mean(r2_scores)\n",
    "        r2.append(avg_r2)\n",
    "        print('alpha가 {0}, l1_ratio가 {1} 일 때 5 fold의 R2 평균: {2:.3f}'.format(a, l1, avg_r2))\n",
    "\n",
    "print('\\n>> 최적의 R2 평균값은 {:.3f} 이다.'.format(np.max(r2)))"
   ]
  },
  {
   "cell_type": "markdown",
   "id": "05670cb0-2e59-4977-b230-5b8badedcecc",
   "metadata": {},
   "source": [
    "총 4개의 회귀모델의 RMSE 값을 비교한 결과, **ElasticNet의 alpha가 100일 때, l1_ratio가 0.5일 때 최적의 RMSE 평균값**을 갖는다는 것을 알 수 있다.  \n",
    "본 경진대회의 평가 지표는 **RMSE**이다.\n",
    "따라서 하이퍼 파라이터를 다음과 같이 설정하여 모델을 생성한다."
   ]
  },
  {
   "cell_type": "code",
   "execution_count": 44,
   "id": "70ed01db-ae89-42ab-9c2b-16bbdfd48e5b",
   "metadata": {},
   "outputs": [
    {
     "name": "stdout",
     "output_type": "stream",
     "text": [
      "학습 데이터 점수: 0.32211279160151807\n"
     ]
    }
   ],
   "source": [
    "elastic_model = ElasticNet(alpha = 100, l1_ratio = 0.5)\n",
    "elastic_model.fit(X, y)\n",
    "\n",
    "print('학습 데이터 점수: {}'.format(elastic_model.score(X, y)))"
   ]
  },
  {
   "cell_type": "markdown",
   "id": "35cd9235-9e67-41ae-ae8d-427faf352d84",
   "metadata": {},
   "source": [
    "### step4. 모델을 통한 예측"
   ]
  },
  {
   "cell_type": "code",
   "execution_count": 45,
   "id": "41a6bf50-a9c4-4cd1-b82a-9d32a6c6e3e0",
   "metadata": {},
   "outputs": [],
   "source": [
    "X_test = test[['time', 'dir_prev_bfnum', 'dir_prev_num', 'num_staff', 'num_actor']]\n",
    "X_test.head()\n",
    "\n",
    "# 앞서 생성한 모델에 X_test 데이터를 넣고 예측\n",
    "pred = elastic_model.predict(X_test)"
   ]
  },
  {
   "cell_type": "markdown",
   "id": "82816b67-0b55-4606-b23f-5ab95343600c",
   "metadata": {},
   "source": [
    "### step5. 제출"
   ]
  },
  {
   "cell_type": "code",
   "execution_count": 46,
   "id": "4108f6ce-9077-4ecc-97c3-a80e829003c1",
   "metadata": {},
   "outputs": [],
   "source": [
    "# 제출 파일 불러오기\n",
    "submission = pd.read_csv('pydata/submission.csv')\n",
    "\n",
    "# 제출 파일의 number_of_rentals 컬럼에 예측값 대입\n",
    "submission['box_off_num'] = pred\n",
    "\n",
    "# 제출 파일 생성\n",
    "submission.to_csv('sample_submission.csv', index = False)"
   ]
  },
  {
   "cell_type": "code",
   "execution_count": null,
   "id": "edc4a21b-2568-44c5-8a82-c8452833a2c0",
   "metadata": {},
   "outputs": [],
   "source": []
  }
 ],
 "metadata": {
  "kernelspec": {
   "display_name": "Python 3",
   "language": "python",
   "name": "python3"
  },
  "language_info": {
   "codemirror_mode": {
    "name": "ipython",
    "version": 3
   },
   "file_extension": ".py",
   "mimetype": "text/x-python",
   "name": "python",
   "nbconvert_exporter": "python",
   "pygments_lexer": "ipython3",
   "version": "3.8.8"
  }
 },
 "nbformat": 4,
 "nbformat_minor": 5
}
