{
 "cells": [
  {
   "cell_type": "markdown",
   "id": "6d71aeeb-7d21-447d-9598-3dfdf46d97ec",
   "metadata": {},
   "source": [
    "# [[데이콘] 영화 리뷰 감성 분석](https://dacon.io/competitions/official/235995/overview/description)\n",
    "\n",
    "**참고 사이트**  \n",
    "[【실습】 Python >> Text Mining -- 감성 분류 분석 (호텔 리뷰 데이터)](https://hyemin-kim.github.io/2020/08/29/E-Python-TextMining-2/)  \n",
    "[[자연어 처리] konlpy 설치 오류, okt()에러-already loaded in](https://byeon-sg.tistory.com/entry/%EC%9E%90%EC%97%B0%EC%96%B4-%EC%B2%98%EB%A6%AC-konlpy-%EC%84%A4%EC%B9%98-%EC%98%A4%EB%A5%98-okt%EC%97%90%EB%9F%AC-already-loaded-in-another-classloader-SystemErro-1)  \n",
    "[tqdm 사용법-python 진행률 프로세스바](https://skillmemory.tistory.com/entry/tqdm-%EC%82%AC%EC%9A%A9%EB%B2%95-python-%EC%A7%84%ED%96%89%EB%A5%A0-%ED%94%84%EB%A1%9C%EC%84%B8%EC%8A%A4%EB%B0%94)  \n",
    "[Scikit-Learn의 문서 전처리 기능](https://datascienceschool.net/03%20machine%20learning/03.01.03%20Scikit-Learn%EC%9D%98%20%EB%AC%B8%EC%84%9C%20%EC%A0%84%EC%B2%98%EB%A6%AC%20%EA%B8%B0%EB%8A%A5.html)  \n",
    "[감성 분석](https://datascienceschool.net/03%20machine%20learning/11.03%20%EA%B0%90%EC%84%B1%20%EB%B6%84%EC%84%9D.html)  \n",
    "[classification_report로 평가 지표 확인하기\n",
    "[출처] classification_report로 평가 지표 확인하기|작성자 6시 내 교양](https://blog.naver.com/PostView.naver?blogId=hannaurora&logNo=222498671200&parentCategoryNo=&categoryNo=41&viewDate=&isShowPopularPosts=true&from=search)  \n",
    "[[ML] sklearn.pipeline](https://velog.io/@imfromk/MLsklearn-Pipeline)  \n",
    "[[Machine Learning] 가짜 뉴스 분류 모델 - 파라미터 튜닝](https://hangjastar.tistory.com/169)"
   ]
  },
  {
   "cell_type": "code",
   "execution_count": 1,
   "id": "1294f96e-aec4-4a5a-bb51-1771d1fd8c49",
   "metadata": {},
   "outputs": [],
   "source": [
    "import pandas as pd\n",
    "import numpy as np\n",
    "import matplotlib.pyplot as plt\n",
    "import seaborn as sns\n",
    "from tqdm import tqdm # 코드 진행률 프로세스 바\n",
    "import warnings\n",
    "warnings.filterwarnings('ignore')"
   ]
  },
  {
   "cell_type": "markdown",
   "id": "85c69608-a6f5-4ee0-afc0-bf6905d777a8",
   "metadata": {},
   "source": [
    "## 데이터 셋 불러오기"
   ]
  },
  {
   "cell_type": "code",
   "execution_count": 2,
   "id": "635a6812-9642-420b-bef1-12120ca99112",
   "metadata": {},
   "outputs": [
    {
     "data": {
      "text/html": [
       "<div>\n",
       "<style scoped>\n",
       "    .dataframe tbody tr th:only-of-type {\n",
       "        vertical-align: middle;\n",
       "    }\n",
       "\n",
       "    .dataframe tbody tr th {\n",
       "        vertical-align: top;\n",
       "    }\n",
       "\n",
       "    .dataframe thead th {\n",
       "        text-align: right;\n",
       "    }\n",
       "</style>\n",
       "<table border=\"1\" class=\"dataframe\">\n",
       "  <thead>\n",
       "    <tr style=\"text-align: right;\">\n",
       "      <th></th>\n",
       "      <th>id</th>\n",
       "      <th>document</th>\n",
       "      <th>label</th>\n",
       "    </tr>\n",
       "  </thead>\n",
       "  <tbody>\n",
       "    <tr>\n",
       "      <th>0</th>\n",
       "      <td>1</td>\n",
       "      <td>아 더빙.. 진짜 짜증나네요 목소리</td>\n",
       "      <td>0</td>\n",
       "    </tr>\n",
       "    <tr>\n",
       "      <th>1</th>\n",
       "      <td>2</td>\n",
       "      <td>흠...포스터보고 초딩영화줄....오버연기조차 가볍지 않구나</td>\n",
       "      <td>1</td>\n",
       "    </tr>\n",
       "    <tr>\n",
       "      <th>2</th>\n",
       "      <td>3</td>\n",
       "      <td>너무재밓었다그래서보는것을추천한다</td>\n",
       "      <td>0</td>\n",
       "    </tr>\n",
       "    <tr>\n",
       "      <th>3</th>\n",
       "      <td>4</td>\n",
       "      <td>교도소 이야기구먼 ..솔직히 재미는 없다..평점 조정</td>\n",
       "      <td>0</td>\n",
       "    </tr>\n",
       "    <tr>\n",
       "      <th>4</th>\n",
       "      <td>5</td>\n",
       "      <td>사이몬페그의 익살스런 연기가 돋보였던 영화!스파이더맨에서 늙어보이기만 했던 커스틴 ...</td>\n",
       "      <td>1</td>\n",
       "    </tr>\n",
       "  </tbody>\n",
       "</table>\n",
       "</div>"
      ],
      "text/plain": [
       "   id                                           document  label\n",
       "0   1                                아 더빙.. 진짜 짜증나네요 목소리      0\n",
       "1   2                  흠...포스터보고 초딩영화줄....오버연기조차 가볍지 않구나      1\n",
       "2   3                                  너무재밓었다그래서보는것을추천한다      0\n",
       "3   4                      교도소 이야기구먼 ..솔직히 재미는 없다..평점 조정      0\n",
       "4   5  사이몬페그의 익살스런 연기가 돋보였던 영화!스파이더맨에서 늙어보이기만 했던 커스틴 ...      1"
      ]
     },
     "execution_count": 2,
     "metadata": {},
     "output_type": "execute_result"
    }
   ],
   "source": [
    "train = pd.read_csv('data/[기업은행 혁신리그 사전강의] 영화 리뷰 감성 분석/train.csv')\n",
    "train.head()"
   ]
  },
  {
   "cell_type": "code",
   "execution_count": 3,
   "id": "02c95d9e-1d82-44b5-b393-42417236e482",
   "metadata": {},
   "outputs": [
    {
     "name": "stdout",
     "output_type": "stream",
     "text": [
      "<class 'pandas.core.frame.DataFrame'>\n",
      "RangeIndex: 150000 entries, 0 to 149999\n",
      "Data columns (total 3 columns):\n",
      " #   Column    Non-Null Count   Dtype \n",
      "---  ------    --------------   ----- \n",
      " 0   id        150000 non-null  int64 \n",
      " 1   document  149995 non-null  object\n",
      " 2   label     150000 non-null  int64 \n",
      "dtypes: int64(2), object(1)\n",
      "memory usage: 3.4+ MB\n"
     ]
    }
   ],
   "source": [
    "train.info()"
   ]
  },
  {
   "cell_type": "code",
   "execution_count": 4,
   "id": "4c409c29-d855-4796-bd25-84565a111b5e",
   "metadata": {},
   "outputs": [
    {
     "data": {
      "text/plain": [
       "id          0\n",
       "document    5\n",
       "label       0\n",
       "dtype: int64"
      ]
     },
     "execution_count": 4,
     "metadata": {},
     "output_type": "execute_result"
    }
   ],
   "source": [
    "# 결측치 확인\n",
    "train.isnull().sum()"
   ]
  },
  {
   "cell_type": "code",
   "execution_count": 5,
   "id": "ee988f71-dbf2-4415-b69f-6cc833efb57b",
   "metadata": {},
   "outputs": [
    {
     "data": {
      "text/html": [
       "<div>\n",
       "<style scoped>\n",
       "    .dataframe tbody tr th:only-of-type {\n",
       "        vertical-align: middle;\n",
       "    }\n",
       "\n",
       "    .dataframe tbody tr th {\n",
       "        vertical-align: top;\n",
       "    }\n",
       "\n",
       "    .dataframe thead th {\n",
       "        text-align: right;\n",
       "    }\n",
       "</style>\n",
       "<table border=\"1\" class=\"dataframe\">\n",
       "  <thead>\n",
       "    <tr style=\"text-align: right;\">\n",
       "      <th></th>\n",
       "      <th>id</th>\n",
       "      <th>document</th>\n",
       "      <th>label</th>\n",
       "    </tr>\n",
       "  </thead>\n",
       "  <tbody>\n",
       "    <tr>\n",
       "      <th>25857</th>\n",
       "      <td>25858</td>\n",
       "      <td>NaN</td>\n",
       "      <td>1</td>\n",
       "    </tr>\n",
       "    <tr>\n",
       "      <th>55737</th>\n",
       "      <td>55738</td>\n",
       "      <td>NaN</td>\n",
       "      <td>1</td>\n",
       "    </tr>\n",
       "    <tr>\n",
       "      <th>110014</th>\n",
       "      <td>110015</td>\n",
       "      <td>NaN</td>\n",
       "      <td>0</td>\n",
       "    </tr>\n",
       "    <tr>\n",
       "      <th>126782</th>\n",
       "      <td>126783</td>\n",
       "      <td>NaN</td>\n",
       "      <td>0</td>\n",
       "    </tr>\n",
       "    <tr>\n",
       "      <th>140721</th>\n",
       "      <td>140722</td>\n",
       "      <td>NaN</td>\n",
       "      <td>0</td>\n",
       "    </tr>\n",
       "  </tbody>\n",
       "</table>\n",
       "</div>"
      ],
      "text/plain": [
       "            id document  label\n",
       "25857    25858      NaN      1\n",
       "55737    55738      NaN      1\n",
       "110014  110015      NaN      0\n",
       "126782  126783      NaN      0\n",
       "140721  140722      NaN      0"
      ]
     },
     "execution_count": 5,
     "metadata": {},
     "output_type": "execute_result"
    }
   ],
   "source": [
    "# 결측치 행 확인\n",
    "train[train['document'].isnull()]"
   ]
  },
  {
   "cell_type": "code",
   "execution_count": 6,
   "id": "f174666b-2210-44f2-a1b6-492ad7f4294d",
   "metadata": {},
   "outputs": [
    {
     "data": {
      "text/plain": [
       "id          0\n",
       "document    0\n",
       "label       0\n",
       "dtype: int64"
      ]
     },
     "execution_count": 6,
     "metadata": {},
     "output_type": "execute_result"
    }
   ],
   "source": [
    "# 결측치 행 제거\n",
    "train.dropna(axis=0, inplace=True)\n",
    "\n",
    "# 결측치 확인\n",
    "train.isnull().sum()"
   ]
  },
  {
   "cell_type": "code",
   "execution_count": 7,
   "id": "0fe0142b-a96b-4381-b36a-339061a50415",
   "metadata": {},
   "outputs": [
    {
     "data": {
      "text/plain": [
       "149995"
      ]
     },
     "execution_count": 7,
     "metadata": {},
     "output_type": "execute_result"
    }
   ],
   "source": [
    "len(train)"
   ]
  },
  {
   "cell_type": "markdown",
   "id": "5831da08-6d4e-48a5-922e-d2133b414851",
   "metadata": {},
   "source": [
    "## 텍스트 데이터 전처리"
   ]
  },
  {
   "cell_type": "markdown",
   "id": "dd5a48b1-ba51-462c-a562-9936c8f097fd",
   "metadata": {},
   "source": [
    "### 정규 표현식 적용"
   ]
  },
  {
   "cell_type": "code",
   "execution_count": 8,
   "id": "22af9341-7d05-426d-80ba-6fd9dc54c87d",
   "metadata": {},
   "outputs": [],
   "source": [
    "# 정규 표현식 함수 정의\n",
    "import re\n",
    "\n",
    "def apply_regular_expression(text):\n",
    "    hangle = re.compile('[^ ㄱ-ㅣ 가-힣]') # 한글 추출 규칙: 띄어 쓰기(1개)를 포함한 한글\n",
    "    result = hangle.sub(\"\", text) # 위에 설정한 \"hangul\"규칙을 \"text\"에 적용(.sub)시킴\n",
    "    return result"
   ]
  },
  {
   "cell_type": "code",
   "execution_count": 9,
   "id": "ff9b43c9-5bda-4ba0-a37c-25b29cc2cf50",
   "metadata": {},
   "outputs": [
    {
     "data": {
      "text/html": [
       "<div>\n",
       "<style scoped>\n",
       "    .dataframe tbody tr th:only-of-type {\n",
       "        vertical-align: middle;\n",
       "    }\n",
       "\n",
       "    .dataframe tbody tr th {\n",
       "        vertical-align: top;\n",
       "    }\n",
       "\n",
       "    .dataframe thead th {\n",
       "        text-align: right;\n",
       "    }\n",
       "</style>\n",
       "<table border=\"1\" class=\"dataframe\">\n",
       "  <thead>\n",
       "    <tr style=\"text-align: right;\">\n",
       "      <th></th>\n",
       "      <th>id</th>\n",
       "      <th>document</th>\n",
       "      <th>label</th>\n",
       "      <th>document_perprocess</th>\n",
       "    </tr>\n",
       "  </thead>\n",
       "  <tbody>\n",
       "    <tr>\n",
       "      <th>0</th>\n",
       "      <td>1</td>\n",
       "      <td>아 더빙.. 진짜 짜증나네요 목소리</td>\n",
       "      <td>0</td>\n",
       "      <td>아 더빙 진짜 짜증나네요 목소리</td>\n",
       "    </tr>\n",
       "    <tr>\n",
       "      <th>1</th>\n",
       "      <td>2</td>\n",
       "      <td>흠...포스터보고 초딩영화줄....오버연기조차 가볍지 않구나</td>\n",
       "      <td>1</td>\n",
       "      <td>흠포스터보고 초딩영화줄오버연기조차 가볍지 않구나</td>\n",
       "    </tr>\n",
       "    <tr>\n",
       "      <th>2</th>\n",
       "      <td>3</td>\n",
       "      <td>너무재밓었다그래서보는것을추천한다</td>\n",
       "      <td>0</td>\n",
       "      <td>너무재밓었다그래서보는것을추천한다</td>\n",
       "    </tr>\n",
       "    <tr>\n",
       "      <th>3</th>\n",
       "      <td>4</td>\n",
       "      <td>교도소 이야기구먼 ..솔직히 재미는 없다..평점 조정</td>\n",
       "      <td>0</td>\n",
       "      <td>교도소 이야기구먼 솔직히 재미는 없다평점 조정</td>\n",
       "    </tr>\n",
       "    <tr>\n",
       "      <th>4</th>\n",
       "      <td>5</td>\n",
       "      <td>사이몬페그의 익살스런 연기가 돋보였던 영화!스파이더맨에서 늙어보이기만 했던 커스틴 ...</td>\n",
       "      <td>1</td>\n",
       "      <td>사이몬페그의 익살스런 연기가 돋보였던 영화스파이더맨에서 늙어보이기만 했던 커스틴 던...</td>\n",
       "    </tr>\n",
       "    <tr>\n",
       "      <th>...</th>\n",
       "      <td>...</td>\n",
       "      <td>...</td>\n",
       "      <td>...</td>\n",
       "      <td>...</td>\n",
       "    </tr>\n",
       "    <tr>\n",
       "      <th>149995</th>\n",
       "      <td>149996</td>\n",
       "      <td>인간이 문제지.. 소는 뭔죄인가..</td>\n",
       "      <td>0</td>\n",
       "      <td>인간이 문제지 소는 뭔죄인가</td>\n",
       "    </tr>\n",
       "    <tr>\n",
       "      <th>149996</th>\n",
       "      <td>149997</td>\n",
       "      <td>평점이 너무 낮아서...</td>\n",
       "      <td>1</td>\n",
       "      <td>평점이 너무 낮아서</td>\n",
       "    </tr>\n",
       "    <tr>\n",
       "      <th>149997</th>\n",
       "      <td>149998</td>\n",
       "      <td>이게 뭐요? 한국인은 거들먹거리고 필리핀 혼혈은 착하다?</td>\n",
       "      <td>0</td>\n",
       "      <td>이게 뭐요 한국인은 거들먹거리고 필리핀 혼혈은 착하다</td>\n",
       "    </tr>\n",
       "    <tr>\n",
       "      <th>149998</th>\n",
       "      <td>149999</td>\n",
       "      <td>청춘 영화의 최고봉.방황과 우울했던 날들의 자화상</td>\n",
       "      <td>1</td>\n",
       "      <td>청춘 영화의 최고봉방황과 우울했던 날들의 자화상</td>\n",
       "    </tr>\n",
       "    <tr>\n",
       "      <th>149999</th>\n",
       "      <td>150000</td>\n",
       "      <td>한국 영화 최초로 수간하는 내용이 담긴 영화</td>\n",
       "      <td>0</td>\n",
       "      <td>한국 영화 최초로 수간하는 내용이 담긴 영화</td>\n",
       "    </tr>\n",
       "  </tbody>\n",
       "</table>\n",
       "<p>149995 rows × 4 columns</p>\n",
       "</div>"
      ],
      "text/plain": [
       "            id                                           document  label  \\\n",
       "0            1                                아 더빙.. 진짜 짜증나네요 목소리      0   \n",
       "1            2                  흠...포스터보고 초딩영화줄....오버연기조차 가볍지 않구나      1   \n",
       "2            3                                  너무재밓었다그래서보는것을추천한다      0   \n",
       "3            4                      교도소 이야기구먼 ..솔직히 재미는 없다..평점 조정      0   \n",
       "4            5  사이몬페그의 익살스런 연기가 돋보였던 영화!스파이더맨에서 늙어보이기만 했던 커스틴 ...      1   \n",
       "...        ...                                                ...    ...   \n",
       "149995  149996                                인간이 문제지.. 소는 뭔죄인가..      0   \n",
       "149996  149997                                      평점이 너무 낮아서...      1   \n",
       "149997  149998                    이게 뭐요? 한국인은 거들먹거리고 필리핀 혼혈은 착하다?      0   \n",
       "149998  149999                        청춘 영화의 최고봉.방황과 우울했던 날들의 자화상      1   \n",
       "149999  150000                           한국 영화 최초로 수간하는 내용이 담긴 영화      0   \n",
       "\n",
       "                                      document_perprocess  \n",
       "0                                       아 더빙 진짜 짜증나네요 목소리  \n",
       "1                              흠포스터보고 초딩영화줄오버연기조차 가볍지 않구나  \n",
       "2                                       너무재밓었다그래서보는것을추천한다  \n",
       "3                               교도소 이야기구먼 솔직히 재미는 없다평점 조정  \n",
       "4       사이몬페그의 익살스런 연기가 돋보였던 영화스파이더맨에서 늙어보이기만 했던 커스틴 던...  \n",
       "...                                                   ...  \n",
       "149995                                    인간이 문제지 소는 뭔죄인가  \n",
       "149996                                         평점이 너무 낮아서  \n",
       "149997                      이게 뭐요 한국인은 거들먹거리고 필리핀 혼혈은 착하다  \n",
       "149998                         청춘 영화의 최고봉방황과 우울했던 날들의 자화상  \n",
       "149999                           한국 영화 최초로 수간하는 내용이 담긴 영화  \n",
       "\n",
       "[149995 rows x 4 columns]"
      ]
     },
     "execution_count": 9,
     "metadata": {},
     "output_type": "execute_result"
    }
   ],
   "source": [
    "train['document_perprocess'] = train['document'].apply(apply_regular_expression)\n",
    "train"
   ]
  },
  {
   "cell_type": "markdown",
   "id": "080e897a-1509-4c8b-ba45-495fe2e02718",
   "metadata": {},
   "source": [
    "### ~~한글 맞춤법 검사~~\n",
    "처리 시간 문제로 생략"
   ]
  },
  {
   "cell_type": "code",
   "execution_count": 64,
   "id": "ac82c300-4095-4eed-8c08-f2cd4d75ab11",
   "metadata": {},
   "outputs": [],
   "source": [
    "# # !pip install py-hanspell\n",
    "# from hanspell import spell_checker\n",
    "\n",
    "# # 동작 테스트\n",
    "# sent_test = \"한글 맞춤법검사기 재대로작동돼는지테스트\"\n",
    "# spelled_sent_test = spell_checker.check(sent_test)\n",
    "# checked_sent_test = spelled_sent_test.checked\n",
    "\n",
    "# print(\"<맞춤법 검사 테스트 수행>\")\n",
    "# print(\"교정 前: \",sent_test)\n",
    "# print(\"교정 後: \",checked_sent_test)"
   ]
  },
  {
   "cell_type": "code",
   "execution_count": 63,
   "id": "89e352e2-b336-42f2-8a56-2023a46f6e4d",
   "metadata": {
    "tags": []
   },
   "outputs": [],
   "source": [
    "# for i in tqdm(range(len(train_data))):\n",
    "#   try:\n",
    "#     train_data_spell = spell_checker.check(train_data['document'][i]) # 교정할 맞춤법이 존재한다면 맞춤법 교정 수행\n",
    "#     train_data['document'][i] = train_data_spell.checked\n",
    "#   except: # 아니면 기존 데이터 유지\n",
    "#     pass"
   ]
  },
  {
   "cell_type": "markdown",
   "id": "d89ef68b-c18a-4484-8396-6fe06b5c0b10",
   "metadata": {},
   "source": [
    "### ~~한국어 형태소 분석~~"
   ]
  },
  {
   "cell_type": "code",
   "execution_count": 5,
   "id": "a8146680-ddf8-458e-9706-b6f3455c31c4",
   "metadata": {},
   "outputs": [],
   "source": [
    "# !pip install konlpy\n",
    "# from konlpy.tag import Okt\n",
    "# from collections import Counter"
   ]
  },
  {
   "cell_type": "code",
   "execution_count": 66,
   "id": "df27e65c-6471-473d-a8c4-bdf56202235d",
   "metadata": {},
   "outputs": [],
   "source": [
    "# okt = Okt()  # 명사 형태소 추출 함수\n",
    "# nouns = okt.nouns(apply_regular_expression(train_data['document'][0]))\n",
    "# nouns"
   ]
  },
  {
   "cell_type": "code",
   "execution_count": 67,
   "id": "238467aa-87c1-4c46-9231-fc16de88fdda",
   "metadata": {
    "tags": []
   },
   "outputs": [],
   "source": [
    "# 말뭉치 생성\n",
    "# corpus = \"\".join(train_data['document'].tolist())\n",
    "# corpus"
   ]
  },
  {
   "cell_type": "code",
   "execution_count": 10,
   "id": "8c2ba727-b7aa-4211-afc7-8727352aa544",
   "metadata": {},
   "outputs": [],
   "source": [
    "# 전체 말뭉치(corpus)에서 명사 형태소 추출\n",
    "# apply_regular_expression(corpus)\n",
    "# nouns = okt.nouns(apply_regular_expression(corpus))\n",
    "# print(nouns)"
   ]
  },
  {
   "cell_type": "code",
   "execution_count": 9,
   "id": "07fab580-75dd-4fd3-8498-712836f2271d",
   "metadata": {},
   "outputs": [],
   "source": [
    "# 빈도 탐색\n",
    "# counter = Counter(nouns)\n",
    "\n",
    "# 상위 빈도 10개 단어\n",
    "# counter.most_common(10)"
   ]
  },
  {
   "cell_type": "code",
   "execution_count": 10,
   "id": "74cc55d7-7f25-403b-9fdb-c6786b2b60e2",
   "metadata": {},
   "outputs": [],
   "source": [
    "# 한 글자 명사 제거\n",
    "# available_counter = []\n",
    "\n",
    "# for i in range(len(nouns)):\n",
    "#     if len(nouns[i]) > 1:\n",
    "#         available_counter.append(nouns[i])\n",
    "\n",
    "# 빈도 탐색        \n",
    "# available_counter = Counter(available_counter)\n",
    "\n",
    "# 한 글자 명사를 제거한 상위 빈도 10개 단어\n",
    "# available_counter.most_common(10)"
   ]
  },
  {
   "cell_type": "markdown",
   "id": "cae2052e-998d-460a-a81f-6000a5bf63f6",
   "metadata": {},
   "source": [
    "### 불용어 사전 \n",
    "RANKS NL에 제공해주는 한국어 불용어 사전 활용"
   ]
  },
  {
   "cell_type": "code",
   "execution_count": 11,
   "id": "44acfb90-57b4-4db5-aadd-582aac75c5a3",
   "metadata": {},
   "outputs": [],
   "source": [
    "# stopwords = pd.read_csv(\"https://raw.githubusercontent.com/yoonkt200/FastCampusDataset/master/korean_stopwords.txt\").values.tolist()\n",
    "# stopwords[:10]"
   ]
  },
  {
   "cell_type": "code",
   "execution_count": 13,
   "id": "a6dbc31a-f609-44f1-8f8d-d06c72e1bd53",
   "metadata": {
    "scrolled": true,
    "tags": []
   },
   "outputs": [],
   "source": [
    "# add_stopwords = ['구먼', '무재', '밓었', '해도', '그것', '볼때', '년대', '로만', '다지', '자꾸', '이기', '갈수록', '그냥', '절대', '나름',\n",
    "#                '베트', '짤랐을꺼', '는걸', '다시', '한번', '아시', '뭥미', '지나', '또한', '지금', '다가']\n",
    "# for word in add_stopwords:\n",
    "#     stopwords.append(word)"
   ]
  },
  {
   "cell_type": "markdown",
   "id": "c989c6ab-b0d1-4f79-9e31-872e3c22e217",
   "metadata": {},
   "source": [
    "### ~~Word Count~~  \n",
    "#### ~~Bow 벡터 생성~~  \n",
    "- ~~CountVectorizer는 띄어쓰기만을 기준으로 단어를 자른 후에 BoW를 만듦~~  \n",
    "- ~~영어의 경우 띄어쓰기만으로 토큰화가 수행되기 때문에 문제가 없지만 한글에 CountVectorizer를 적용하면, 조사 등의 이유로 제대로 BoW가 만들어지지 않음~~  \n",
    "- ~~예를 들어 \"봄과\"와 \"봄이\"를 다르게 인식하기 때문에 CountVectorizer 사용 전에 어간 추출을 해 \"봄\"으로 통일시켜 주는 것이 좋음~~  \n",
    "\n",
    "RAM 용량 문제로 pass"
   ]
  },
  {
   "cell_type": "code",
   "execution_count": 14,
   "id": "faa42d24-6548-4808-aefe-7476b73287de",
   "metadata": {},
   "outputs": [],
   "source": [
    "# from sklearn.feature_extraction.text import CountVectorizer\n",
    "\n",
    "# def text_cleaning(text):\n",
    "#     hangle = re.compile('[^ ㄱ-ㅣ 가-힣]') # 정규 표현식 처리\n",
    "#     result = hangle.sub(\"\", text)\n",
    "#     okt = Okt() # 형태소 추출\n",
    "#     nouns = okt.nouns(result)\n",
    "#     nouns = [x for x in nouns if len(x) > 1] # 한 글자 키워드 제거\n",
    "#     nouns = [x for x in nouns if x not in stopwords] # 불용어 제거\n",
    "#     return nouns\n",
    "    \n",
    "# vect = CountVectorizer(tokenizer = lambda x: text_cleaning(x)) # CountVectorizer: 문서 집합에서 단어 토큰을 생성하고 각 단어의 수를 세어 BOW 인코딩 벡터를 만듦\n",
    "# bow_vect = vect.fit_transform(train_data['document'].tolist()) # vect를 'document'(→ list)에 적용\n",
    "# word_list = vect.get_feature_names() # 문서에 등장한 단어 리스트\n",
    "# count_list = bow_vect.toarray().sum(axis=0) # 각 단어가 전체 리뷰 중에 등장한 총 횟수"
   ]
  },
  {
   "cell_type": "code",
   "execution_count": 15,
   "id": "0186ed90-d1db-4b1c-8972-a66439600d1f",
   "metadata": {},
   "outputs": [],
   "source": [
    "# 각 단어의 리뷰별 등장 횟수\n",
    "# bow_vect.toarray()"
   ]
  },
  {
   "cell_type": "code",
   "execution_count": 16,
   "id": "1d335700-c2a0-4d48-9466-53ca23670668",
   "metadata": {},
   "outputs": [],
   "source": [
    "# bow_vect.toarray()을 실행할 때 행, 열 개수\n",
    "# bow_vect.shape"
   ]
  },
  {
   "cell_type": "code",
   "execution_count": 17,
   "id": "379900b2-4029-437b-ac9a-29d5e6c15749",
   "metadata": {},
   "outputs": [],
   "source": [
    "# \"단어\" - \"총 등장 횟수\" Matching\n",
    "# word_count_dict = dict(zip(word_list, count_list))\n",
    "# word_count_dict"
   ]
  },
  {
   "cell_type": "markdown",
   "id": "e5e53f38-9bc2-433a-a778-ba172f4f20c2",
   "metadata": {},
   "source": [
    "### ~~TF-IDF 적용~~\n",
    "#### ~~TF-IDF 변환~~\n",
    "~~Bag of Words 벡터에 대해서 TF-IDF 변환을 진행함~~"
   ]
  },
  {
   "cell_type": "markdown",
   "id": "d748873c-1747-4bb4-a176-f56567c9ccdb",
   "metadata": {},
   "source": [
    "## 감성 분류"
   ]
  },
  {
   "cell_type": "code",
   "execution_count": 24,
   "id": "fda0e587-ef93-4970-80fa-1f8b254be987",
   "metadata": {},
   "outputs": [
    {
     "data": {
      "image/png": "[encoded data removed]",
      "text/plain": [
       "<Figure size 432x288 with 1 Axes>"
      ]
     },
     "metadata": {
      "needs_background": "light"
     },
     "output_type": "display_data"
    }
   ],
   "source": [
    "train['label'].hist();"
   ]
  },
  {
   "cell_type": "code",
   "execution_count": 25,
   "id": "10e60a46-9e8d-4b1a-8a21-7fda07ea9312",
   "metadata": {},
   "outputs": [
    {
     "data": {
      "text/plain": [
       "0    75170\n",
       "1    74825\n",
       "Name: label, dtype: int64"
      ]
     },
     "execution_count": 25,
     "metadata": {},
     "output_type": "execute_result"
    }
   ],
   "source": [
    "train['label'].value_counts()"
   ]
  },
  {
   "cell_type": "code",
   "execution_count": 11,
   "id": "2b20dbe3-dc07-4ad7-8db3-0596a7ccca0c",
   "metadata": {},
   "outputs": [],
   "source": [
    "from sklearn.feature_extraction.text import CountVectorizer\n",
    "from sklearn.naive_bayes import MultinomialNB\n",
    "from sklearn.pipeline import Pipeline\n",
    "from sklearn.metrics import classification_report\n",
    "from sklearn.model_selection import train_test_split, GridSearchCV\n",
    "from sklearn.metrics import f1_score"
   ]
  },
  {
   "cell_type": "code",
   "execution_count": 12,
   "id": "0da195ac-97a2-484b-b007-fd12e5c4ff61",
   "metadata": {},
   "outputs": [
    {
     "name": "stdout",
     "output_type": "stream",
     "text": [
      "학습시킬 train 셋 :  (104996, 2)\n",
      "검증할 val 셋 :  (44999, 2)\n"
     ]
    }
   ],
   "source": [
    "# train 데이터를 train_data, val-data로 분류\n",
    "data = train.drop(['id', 'document'], axis = 1).copy()\n",
    "train_data, val_data = train_test_split(data, test_size=.3) # 7:3 비율로 분할\n",
    "# train_data.reset_index(inplace=True)\n",
    "# val_data.reset_index(inplace=True)\n",
    "\n",
    "print('학습시킬 train 셋 : ', train_data.shape)\n",
    "print('검증할 val 셋 : ', val_data.shape)"
   ]
  },
  {
   "cell_type": "code",
   "execution_count": 13,
   "id": "2544421a-a8e5-48f0-8b2f-59865cb8bcf0",
   "metadata": {},
   "outputs": [
    {
     "data": {
      "text/html": [
       "<div>\n",
       "<style scoped>\n",
       "    .dataframe tbody tr th:only-of-type {\n",
       "        vertical-align: middle;\n",
       "    }\n",
       "\n",
       "    .dataframe tbody tr th {\n",
       "        vertical-align: top;\n",
       "    }\n",
       "\n",
       "    .dataframe thead th {\n",
       "        text-align: right;\n",
       "    }\n",
       "</style>\n",
       "<table border=\"1\" class=\"dataframe\">\n",
       "  <thead>\n",
       "    <tr style=\"text-align: right;\">\n",
       "      <th></th>\n",
       "      <th>label</th>\n",
       "      <th>document_perprocess</th>\n",
       "    </tr>\n",
       "  </thead>\n",
       "  <tbody>\n",
       "    <tr>\n",
       "      <th>62906</th>\n",
       "      <td>0</td>\n",
       "      <td>어젯밤 영화잘고르는 에서 봤는데 못본영화라 잼있긴했는데 전에나온 년년작 고전 스타탄...</td>\n",
       "    </tr>\n",
       "    <tr>\n",
       "      <th>53694</th>\n",
       "      <td>1</td>\n",
       "      <td>겨울밤 새벽에 보다가 감성폭팔하는영화후반우에 카메라짊어지고 석양이 지는 황혼을 걷던...</td>\n",
       "    </tr>\n",
       "    <tr>\n",
       "      <th>125888</th>\n",
       "      <td>0</td>\n",
       "      <td>범죄미화영화 이런영화가 청소년 모방범죄를 일으킬수있다</td>\n",
       "    </tr>\n",
       "    <tr>\n",
       "      <th>2281</th>\n",
       "      <td>0</td>\n",
       "      <td>처넌 주고 봤는데 평점에 낚여서 괜히 본듯 평점도 제대로 씁시다 진짜 허접영화를 점...</td>\n",
       "    </tr>\n",
       "    <tr>\n",
       "      <th>69620</th>\n",
       "      <td>0</td>\n",
       "      <td>유치하고 개연성없는 전개를 좋아한다면 꼭 보세요 두번보세요나만본건 억울하다어차피 초...</td>\n",
       "    </tr>\n",
       "  </tbody>\n",
       "</table>\n",
       "</div>"
      ],
      "text/plain": [
       "        label                                document_perprocess\n",
       "62906       0  어젯밤 영화잘고르는 에서 봤는데 못본영화라 잼있긴했는데 전에나온 년년작 고전 스타탄...\n",
       "53694       1  겨울밤 새벽에 보다가 감성폭팔하는영화후반우에 카메라짊어지고 석양이 지는 황혼을 걷던...\n",
       "125888      0                      범죄미화영화 이런영화가 청소년 모방범죄를 일으킬수있다\n",
       "2281        0  처넌 주고 봤는데 평점에 낚여서 괜히 본듯 평점도 제대로 씁시다 진짜 허접영화를 점...\n",
       "69620       0  유치하고 개연성없는 전개를 좋아한다면 꼭 보세요 두번보세요나만본건 억울하다어차피 초..."
      ]
     },
     "execution_count": 13,
     "metadata": {},
     "output_type": "execute_result"
    }
   ],
   "source": [
    "train_data.head()"
   ]
  },
  {
   "cell_type": "code",
   "execution_count": 29,
   "id": "f08c6f08-a554-441d-bdd6-102938346fb2",
   "metadata": {},
   "outputs": [
    {
     "data": {
      "text/html": [
       "<div>\n",
       "<style scoped>\n",
       "    .dataframe tbody tr th:only-of-type {\n",
       "        vertical-align: middle;\n",
       "    }\n",
       "\n",
       "    .dataframe tbody tr th {\n",
       "        vertical-align: top;\n",
       "    }\n",
       "\n",
       "    .dataframe thead th {\n",
       "        text-align: right;\n",
       "    }\n",
       "</style>\n",
       "<table border=\"1\" class=\"dataframe\">\n",
       "  <thead>\n",
       "    <tr style=\"text-align: right;\">\n",
       "      <th></th>\n",
       "      <th>label</th>\n",
       "      <th>document_perprocess</th>\n",
       "    </tr>\n",
       "  </thead>\n",
       "  <tbody>\n",
       "    <tr>\n",
       "      <th>93806</th>\n",
       "      <td>1</td>\n",
       "      <td>이태성 정말 연기 잘한다가슴이 따뜻해지는 영화다</td>\n",
       "    </tr>\n",
       "    <tr>\n",
       "      <th>25470</th>\n",
       "      <td>0</td>\n",
       "      <td>ㅎㅎ 망할</td>\n",
       "    </tr>\n",
       "    <tr>\n",
       "      <th>48336</th>\n",
       "      <td>1</td>\n",
       "      <td>윌리엄 월레스가 있어서 지금의 스코틀랜드가 있지 독립과 자유는 이렇게 소중한 것인데...</td>\n",
       "    </tr>\n",
       "    <tr>\n",
       "      <th>10939</th>\n",
       "      <td>0</td>\n",
       "      <td>마누라불륜녀랑 친구먹고 남편 혼내주는게 말이 되나 진짜 재미없다</td>\n",
       "    </tr>\n",
       "    <tr>\n",
       "      <th>133446</th>\n",
       "      <td>1</td>\n",
       "      <td>아 맨 마지막 마리모이야기 보다가 울었어요 개 기르시는 분들은 다 그랬을듯</td>\n",
       "    </tr>\n",
       "  </tbody>\n",
       "</table>\n",
       "</div>"
      ],
      "text/plain": [
       "        label                                document_perprocess\n",
       "93806       1                         이태성 정말 연기 잘한다가슴이 따뜻해지는 영화다\n",
       "25470       0                                              ㅎㅎ 망할\n",
       "48336       1  윌리엄 월레스가 있어서 지금의 스코틀랜드가 있지 독립과 자유는 이렇게 소중한 것인데...\n",
       "10939       0                마누라불륜녀랑 친구먹고 남편 혼내주는게 말이 되나 진짜 재미없다\n",
       "133446      1          아 맨 마지막 마리모이야기 보다가 울었어요 개 기르시는 분들은 다 그랬을듯"
      ]
     },
     "execution_count": 29,
     "metadata": {},
     "output_type": "execute_result"
    }
   ],
   "source": [
    "val_data.head()"
   ]
  },
  {
   "cell_type": "code",
   "execution_count": 25,
   "id": "2c0e6ba7-fcda-421b-9111-7ae72dad887f",
   "metadata": {},
   "outputs": [
    {
     "data": {
      "text/html": [
       "<div>\n",
       "<style scoped>\n",
       "    .dataframe tbody tr th:only-of-type {\n",
       "        vertical-align: middle;\n",
       "    }\n",
       "\n",
       "    .dataframe tbody tr th {\n",
       "        vertical-align: top;\n",
       "    }\n",
       "\n",
       "    .dataframe thead th {\n",
       "        text-align: right;\n",
       "    }\n",
       "</style>\n",
       "<table border=\"1\" class=\"dataframe\">\n",
       "  <thead>\n",
       "    <tr style=\"text-align: right;\">\n",
       "      <th></th>\n",
       "      <th>id</th>\n",
       "      <th>document</th>\n",
       "    </tr>\n",
       "  </thead>\n",
       "  <tbody>\n",
       "    <tr>\n",
       "      <th>0</th>\n",
       "      <td>1</td>\n",
       "      <td>굳 ㅋ</td>\n",
       "    </tr>\n",
       "    <tr>\n",
       "      <th>1</th>\n",
       "      <td>2</td>\n",
       "      <td>GDNTOPCLASSINTHECLUB</td>\n",
       "    </tr>\n",
       "    <tr>\n",
       "      <th>2</th>\n",
       "      <td>3</td>\n",
       "      <td>뭐야 이 평점들은.... 나쁘진 않지만 10점 짜리는 더더욱 아니잖아</td>\n",
       "    </tr>\n",
       "    <tr>\n",
       "      <th>3</th>\n",
       "      <td>4</td>\n",
       "      <td>지루하지는 않은데 완전 막장임... 돈주고 보기에는....</td>\n",
       "    </tr>\n",
       "    <tr>\n",
       "      <th>4</th>\n",
       "      <td>5</td>\n",
       "      <td>3D만 아니었어도 별 다섯 개 줬을텐데.. 왜 3D로 나와서 제 심기를 불편하게 하죠??</td>\n",
       "    </tr>\n",
       "  </tbody>\n",
       "</table>\n",
       "</div>"
      ],
      "text/plain": [
       "   id                                           document\n",
       "0   1                                                굳 ㅋ\n",
       "1   2                               GDNTOPCLASSINTHECLUB\n",
       "2   3             뭐야 이 평점들은.... 나쁘진 않지만 10점 짜리는 더더욱 아니잖아\n",
       "3   4                   지루하지는 않은데 완전 막장임... 돈주고 보기에는....\n",
       "4   5  3D만 아니었어도 별 다섯 개 줬을텐데.. 왜 3D로 나와서 제 심기를 불편하게 하죠??"
      ]
     },
     "execution_count": 25,
     "metadata": {},
     "output_type": "execute_result"
    }
   ],
   "source": [
    "# 테스트 데이터 불러오기\n",
    "test_data = pd.read_csv('data/[기업은행 혁신리그 사전강의] 영화 리뷰 감성 분석/test.csv')\n",
    "test_data.head()"
   ]
  },
  {
   "cell_type": "code",
   "execution_count": 26,
   "id": "ee419d7a-62f7-4268-a574-077f775c171b",
   "metadata": {},
   "outputs": [
    {
     "data": {
      "text/plain": [
       "id          0\n",
       "document    3\n",
       "dtype: int64"
      ]
     },
     "execution_count": 26,
     "metadata": {},
     "output_type": "execute_result"
    }
   ],
   "source": [
    "test_data.isnull().sum()"
   ]
  },
  {
   "cell_type": "code",
   "execution_count": 27,
   "id": "23b2a3db-bcc0-44f1-8002-8cbb2c5d676e",
   "metadata": {},
   "outputs": [
    {
     "data": {
      "text/plain": [
       "id          0\n",
       "document    0\n",
       "dtype: int64"
      ]
     },
     "execution_count": 27,
     "metadata": {},
     "output_type": "execute_result"
    }
   ],
   "source": [
    "# 결측치 행 제거\n",
    "test_data.dropna(axis=0, inplace=True)\n",
    "\n",
    "# 결측치 확인\n",
    "test_data.isnull().sum()"
   ]
  },
  {
   "cell_type": "code",
   "execution_count": 29,
   "id": "d6216c7f-71ec-4e2f-94ac-6a1fd8d9fcf8",
   "metadata": {},
   "outputs": [
    {
     "data": {
      "text/plain": [
       "0                                                  굳 ㅋ\n",
       "1                                 GDNTOPCLASSINTHECLUB\n",
       "2               뭐야 이 평점들은.... 나쁘진 않지만 10점 짜리는 더더욱 아니잖아\n",
       "3                     지루하지는 않은데 완전 막장임... 돈주고 보기에는....\n",
       "4    3D만 아니었어도 별 다섯 개 줬을텐데.. 왜 3D로 나와서 제 심기를 불편하게 하죠??\n",
       "Name: document, dtype: object"
      ]
     },
     "execution_count": 29,
     "metadata": {},
     "output_type": "execute_result"
    }
   ],
   "source": [
    "X_test = test_data['document']\n",
    "X_test.head()"
   ]
  },
  {
   "cell_type": "code",
   "execution_count": 15,
   "id": "ee96d916-0002-4756-95ec-68aa87606070",
   "metadata": {},
   "outputs": [],
   "source": [
    "train_data_X = train_data.document_perprocess\n",
    "train_data_y = train_data.label\n",
    "\n",
    "val_data_X = val_data.document_perprocess\n",
    "val_data_y = val_data.label"
   ]
  },
  {
   "cell_type": "markdown",
   "id": "ff1679f1-dfa0-4470-b7bd-d2d5945d9b20",
   "metadata": {},
   "source": [
    "### model1 나이브 베이즈 모형 + CountVectorizer\n",
    "- CountVectorizer: 각 단어가 문서에서 몇 번 등장했는지를 기반으로 문서를 벡터화함\n",
    "    - 하지만 'a', 'the'처럼 많이 등장하는 것에 대해 높은 중요도가 있다가 판단하기에 한계점 존재"
   ]
  },
  {
   "cell_type": "code",
   "execution_count": 16,
   "id": "ef399497-9e27-4fc0-99d1-ea49c09b7590",
   "metadata": {},
   "outputs": [
    {
     "name": "stdout",
     "output_type": "stream",
     "text": [
      "사용 모델: 나이브 베이즈 모델\n",
      "              precision    recall  f1-score   support\n",
      "\n",
      "           0       0.79      0.83      0.81     22632\n",
      "           1       0.81      0.77      0.79     22367\n",
      "\n",
      "    accuracy                           0.80     44999\n",
      "   macro avg       0.80      0.80      0.80     44999\n",
      "weighted avg       0.80      0.80      0.80     44999\n",
      "\n",
      "mean_f1 : 0.800306673481633\n"
     ]
    }
   ],
   "source": [
    "# 나이브 베이즈 모형으로 학습\n",
    "model1 = Pipeline([\n",
    "    ('vect', CountVectorizer()),\n",
    "    ('mb', MultinomialNB())\n",
    "])\n",
    "\n",
    "# %%time\n",
    "model1.fit(train_data_X, train_data_y)\n",
    "\n",
    "# classification_report을 이용한 성능 평가\n",
    "# support: 각 라벨의 실제 샘플 개수\n",
    "# macro avg: 각 클래스 별로 동일한 가중치 부여(샘플 개수의 불균형을 고려하지 않음) → 소수 클래스에 대한 성능이 낮을 때 더 큰 패널티 발생\n",
    "# f1 macro avg = (0.81+0.08)/2 = 0.80\n",
    "# weighted avg: 각 클래스에 속하는 표본의 개수로 가중 평균 계산(샘플 개수의 불균형 고려) → 샘플 개수가 적은 클래스의 영향력 감소\n",
    "print('사용 모델: 나이브 베이즈 모델')\n",
    "print(classification_report(val_data_y, model1.predict(val_data_X)))\n",
    "\n",
    "# calculate f1\n",
    "mean_f1 = f1_score(val_data_y, model1.predict(val_data_X), average='micro')\n",
    "print(\"mean_f1 :\", mean_f1)"
   ]
  },
  {
   "cell_type": "markdown",
   "id": "77c395db-8d48-45b4-91b9-0ab661e170bc",
   "metadata": {},
   "source": [
    "### model2 logistic regression + CountVectorizer"
   ]
  },
  {
   "cell_type": "code",
   "execution_count": 36,
   "id": "85163860-822f-49b5-be32-a78519f8c071",
   "metadata": {},
   "outputs": [
    {
     "data": {
      "text/plain": [
       "Pipeline(steps=[('vect', CountVectorizer()), ('clf', LogisticRegression())])"
      ]
     },
     "execution_count": 36,
     "metadata": {},
     "output_type": "execute_result"
    }
   ],
   "source": [
    "from sklearn.linear_model import LogisticRegression\n",
    "model2 = Pipeline([\n",
    "    ('vect', CountVectorizer()), # 각 텍스트에서 단어 출현 횟수를 카운팅한 벡터\n",
    "    ('clf', LogisticRegression())\n",
    "])\n",
    "\n",
    "# %%time\n",
    "model2.fit(train_data_X, train_data_y)\n",
    "\n",
    "# classification_report을 이용한 성능 평가\n",
    "print('사용 모델: 로지스틱 회귀분석')\n",
    "print(classification_report(val_data_y, model2.predict(val_data_X)))\n",
    "\n",
    "# calculate f1\n",
    "mean_f1 = f1_score(val_data_y, model2.predict(val_data_X), average='micro')\n",
    "print(\"mean_f1 :\", mean_f1)"
   ]
  },
  {
   "cell_type": "markdown",
   "id": "a8b0ac6d-b574-488b-9e02-a7fa10f6d4ef",
   "metadata": {},
   "source": [
    "### model3 LinearSVC + CountVectorizer + TfidfTransformer\n",
    "- TfidfTransformer(TF-IDF): 중요하지 않은 단어에 가중치를 조금만 주어서 문서 벡터의 방향이 좀 더 중요한 단어들에 의해 좌우도리 수 있도록함"
   ]
  },
  {
   "cell_type": "code",
   "execution_count": 39,
   "id": "1fc9ad7c-76fa-4884-a78e-10d44981b2cb",
   "metadata": {},
   "outputs": [
    {
     "data": {
      "text/plain": [
       "Pipeline(steps=[('vect', CountVectorizer()), ('tfidf', TfidfTransformer()),\n",
       "                ('clf', LinearSVC())])"
      ]
     },
     "execution_count": 39,
     "metadata": {},
     "output_type": "execute_result"
    }
   ],
   "source": [
    "from sklearn.feature_extraction.text import CountVectorizer,TfidfTransformer\n",
    "from sklearn.svm import LinearSVC\n",
    "\n",
    "model3 = Pipeline([\n",
    "    ('vect', CountVectorizer()),\n",
    "    ('tfidf', TfidfTransformer()), # TF-IDF라는 값을 사용하여 CountVectorizer의 단점을 보완함\n",
    "    ('clf', LinearSVC())\n",
    "])\n",
    "\n",
    "model3.fit(train_data_X, train_data_y)\n",
    "\n",
    "# classification_report을 이용한 성능 평가\n",
    "print('사용 모델: SVM')\n",
    "print(classification_report(val_data_y, model3.predict(val_data_X)))\n",
    "\n",
    "# calculate f1\n",
    "mean_f1 = f1_score(val_data_y, model3.predict(val_data_X), average='micro')\n",
    "print(\"mean_f1 :\", mean_f1)"
   ]
  },
  {
   "cell_type": "markdown",
   "id": "e8af71fd-650e-439e-9c0c-345e95f85672",
   "metadata": {},
   "source": [
    "### model4 LinearSVC + CountVectorizer + TfidfTransformer\n",
    "- Pipeline with Cross-Validation (GridSearchCV)"
   ]
  },
  {
   "cell_type": "code",
   "execution_count": 46,
   "id": "bd1b0196-5b9b-4536-a6d9-6fe2126c7064",
   "metadata": {},
   "outputs": [
    {
     "name": "stdout",
     "output_type": "stream",
     "text": [
      "Best: 0.783573 using {'clf__dual': False, 'clf__penalty': 'l2', 'vect__max_df': 0.8}\n"
     ]
    }
   ],
   "source": [
    "model4 = Pipeline([\n",
    "    ('vect', CountVectorizer()),\n",
    "    ('tfidf', TfidfTransformer()), # TF-IDF라는 값을 사용하여 CountVectorizer의 단점을 보완함\n",
    "    ('clf', LinearSVC())\n",
    "])\n",
    "\n",
    "param_grid = [\n",
    "    {\n",
    "        'vect__max_df': [.8, .9, 1.],\n",
    "        'clf__penalty': ['l2'],\n",
    "        'clf__dual': [True, False]\n",
    "    },\n",
    "    {\n",
    "        'vect__max_df': [.8, .9, 1.],\n",
    "        'clf__penalty': ['l2'],\n",
    "        'clf__dual': [True, False]\n",
    "    }\n",
    "]\n",
    "\n",
    "gs = GridSearchCV(estimator=model4, cv=3, param_grid=param_grid, scoring='f1_micro')\n",
    "gs.fit(train_data_X, train_data_y)\n",
    "\n",
    "# summarize results\n",
    "print(\"Best: %f using %s\" % (gs.best_score_, gs.best_params_)) \n",
    "\n",
    "# 최적 파라미터를 이용해 새로운 모델 생성\n",
    "opt_model4 = gs.best_estimator_"
   ]
  },
  {
   "cell_type": "code",
   "execution_count": 47,
   "id": "f35441e0-0e37-4ba6-b0b6-e6ac3599eb93",
   "metadata": {},
   "outputs": [
    {
     "name": "stdout",
     "output_type": "stream",
     "text": [
      "사용 모델: SVM\n",
      "              precision    recall  f1-score   support\n",
      "\n",
      "           0       0.78      0.83      0.80     22642\n",
      "           1       0.81      0.76      0.79     22357\n",
      "\n",
      "    accuracy                           0.79     44999\n",
      "   macro avg       0.80      0.79      0.79     44999\n",
      "weighted avg       0.80      0.79      0.79     44999\n",
      "\n",
      "mean_f1 : 0.7939287539723104\n"
     ]
    }
   ],
   "source": [
    "# classification_report을 이용한 성능 평가\n",
    "print('사용 모델: SVM')\n",
    "print(classification_report(val_data_y, opt_model4.predict(val_data_X)))\n",
    "\n",
    "# calculate f1\n",
    "mean_f1 = f1_score(val_data_y, opt_model4.predict(val_data_X), average='micro')\n",
    "print(\"mean_f1 :\", mean_f1)"
   ]
  },
  {
   "cell_type": "markdown",
   "id": "ec3a5e9a-f903-4c26-92b7-efffb590c980",
   "metadata": {},
   "source": [
    "### model5 나이브 베이즈 모형 + CountVectorizer + TfidfTransformer\n",
    "- Pipeline with Cross-Validation (GridSearchCV)"
   ]
  },
  {
   "cell_type": "code",
   "execution_count": 49,
   "id": "8b2ac678-e81d-486f-81ac-d8868c26ef1c",
   "metadata": {},
   "outputs": [
    {
     "name": "stdout",
     "output_type": "stream",
     "text": [
      "Best: 0.794383 using {'mb__alpha': 1, 'mb__fit_prior': True, 'vect__max_df': 0.8}\n"
     ]
    }
   ],
   "source": [
    "# 나이브 베이즈 모형으로 학습\n",
    "model5 = Pipeline([\n",
    "    ('vect', CountVectorizer()),\n",
    "    ('mb', MultinomialNB())\n",
    "])\n",
    "\n",
    "param_grid = [\n",
    "    {\n",
    "        'vect__max_df': [.8, .9, 1.],\n",
    "        'mb__alpha': [0.25, 0.5 ,1],\n",
    "        'mb__fit_prior': [True, False]\n",
    "    },\n",
    "    {\n",
    "        'vect__max_df': [.8, .9, 1.],\n",
    "        'mb__alpha': [0.25, 0.5 ,1],\n",
    "        'mb__fit_prior': [True, False]\n",
    "    }\n",
    "]\n",
    "\n",
    "gs = GridSearchCV(estimator=model5, cv=3, param_grid=param_grid, scoring='f1_micro')\n",
    "gs.fit(train_data_X, train_data_y)\n",
    "\n",
    "# summarize results\n",
    "print(\"Best: %f using %s\" % (gs.best_score_, gs.best_params_)) \n",
    "\n",
    "# 최적 파라미터를 이용해 새로운 모델 생성\n",
    "opt_model5 = gs.best_estimator_"
   ]
  },
  {
   "cell_type": "code",
   "execution_count": 51,
   "id": "4b245ed3-8c24-42d8-9f6a-950a9e2e3d9a",
   "metadata": {},
   "outputs": [
    {
     "name": "stdout",
     "output_type": "stream",
     "text": [
      "사용 모델: 나이브 베이즈 모델\n",
      "              precision    recall  f1-score   support\n",
      "\n",
      "           0       0.79      0.83      0.81     22642\n",
      "           1       0.82      0.78      0.80     22357\n",
      "\n",
      "    accuracy                           0.80     44999\n",
      "   macro avg       0.80      0.80      0.80     44999\n",
      "weighted avg       0.80      0.80      0.80     44999\n",
      "\n",
      "mean_f1 : 0.8023733860752461\n"
     ]
    }
   ],
   "source": [
    "# classification_report을 이용한 성능 평가\n",
    "print('사용 모델: 나이브 베이즈 모델')\n",
    "print(classification_report(val_data_y, opt_model5.predict(val_data_X)))\n",
    "\n",
    "# calculate f1\n",
    "mean_f1 = f1_score(val_data_y, opt_model5.predict(val_data_X), average='micro')\n",
    "print(\"mean_f1 :\", mean_f1)"
   ]
  },
  {
   "cell_type": "markdown",
   "id": "2a0c2c26-6840-49c5-9dda-53abe10f1293",
   "metadata": {},
   "source": [
    "총 5개의 모델 성능 평가 결과, model1의 성능이 높게 측정되었음"
   ]
  },
  {
   "cell_type": "code",
   "execution_count": 17,
   "id": "5ac8c331-4532-4a34-94e7-7a5c5388cab6",
   "metadata": {},
   "outputs": [
    {
     "data": {
      "text/html": [
       "<div>\n",
       "<style scoped>\n",
       "    .dataframe tbody tr th:only-of-type {\n",
       "        vertical-align: middle;\n",
       "    }\n",
       "\n",
       "    .dataframe tbody tr th {\n",
       "        vertical-align: top;\n",
       "    }\n",
       "\n",
       "    .dataframe thead th {\n",
       "        text-align: right;\n",
       "    }\n",
       "</style>\n",
       "<table border=\"1\" class=\"dataframe\">\n",
       "  <thead>\n",
       "    <tr style=\"text-align: right;\">\n",
       "      <th></th>\n",
       "      <th>id</th>\n",
       "      <th>label</th>\n",
       "    </tr>\n",
       "  </thead>\n",
       "  <tbody>\n",
       "    <tr>\n",
       "      <th>0</th>\n",
       "      <td>1</td>\n",
       "      <td>-1</td>\n",
       "    </tr>\n",
       "    <tr>\n",
       "      <th>1</th>\n",
       "      <td>2</td>\n",
       "      <td>-1</td>\n",
       "    </tr>\n",
       "    <tr>\n",
       "      <th>2</th>\n",
       "      <td>3</td>\n",
       "      <td>-1</td>\n",
       "    </tr>\n",
       "    <tr>\n",
       "      <th>3</th>\n",
       "      <td>4</td>\n",
       "      <td>-1</td>\n",
       "    </tr>\n",
       "    <tr>\n",
       "      <th>4</th>\n",
       "      <td>5</td>\n",
       "      <td>-1</td>\n",
       "    </tr>\n",
       "  </tbody>\n",
       "</table>\n",
       "</div>"
      ],
      "text/plain": [
       "   id  label\n",
       "0   1     -1\n",
       "1   2     -1\n",
       "2   3     -1\n",
       "3   4     -1\n",
       "4   5     -1"
      ]
     },
     "execution_count": 17,
     "metadata": {},
     "output_type": "execute_result"
    }
   ],
   "source": [
    "submission = pd.read_csv('data/[기업은행 혁신리그 사전강의] 영화 리뷰 감성 분석/sample_submission.csv')\n",
    "submission.head()"
   ]
  },
  {
   "cell_type": "code",
   "execution_count": 21,
   "id": "8a95b067-5262-470f-a097-a92c66ac22f8",
   "metadata": {},
   "outputs": [
    {
     "data": {
      "text/plain": [
       "0                                                      굳 ㅋ\n",
       "1                                     GDNTOPCLASSINTHECLUB\n",
       "2                   뭐야 이 평점들은.... 나쁘진 않지만 10점 짜리는 더더욱 아니잖아\n",
       "3                         지루하지는 않은데 완전 막장임... 돈주고 보기에는....\n",
       "4        3D만 아니었어도 별 다섯 개 줬을텐데.. 왜 3D로 나와서 제 심기를 불편하게 하죠??\n",
       "                               ...                        \n",
       "49995            오랜만에 평점 로긴했네ㅋㅋ 킹왕짱 쌈뽕한 영화를 만났습니다 강렬하게 육쾌함\n",
       "49996         의지 박약들이나 하는거다 탈영은 일단 주인공 김대희 닮았고 이등병 찐따 OOOO\n",
       "49997                   그림도 좋고 완성도도 높았지만... 보는 내내 불안하게 만든다\n",
       "49998       절대 봐서는 안 될 영화.. 재미도 없고 기분만 잡치고.. 한 세트장에서 다 해먹네\n",
       "49999                                           마무리는 또 왜이래\n",
       "Name: document, Length: 50000, dtype: object"
      ]
     },
     "execution_count": 21,
     "metadata": {},
     "output_type": "execute_result"
    }
   ],
   "source": [
    "X_test"
   ]
  },
  {
   "cell_type": "code",
   "execution_count": 31,
   "id": "ee14cc7a-1204-4db0-a627-f29945882020",
   "metadata": {},
   "outputs": [
    {
     "data": {
      "text/html": [
       "<div>\n",
       "<style scoped>\n",
       "    .dataframe tbody tr th:only-of-type {\n",
       "        vertical-align: middle;\n",
       "    }\n",
       "\n",
       "    .dataframe tbody tr th {\n",
       "        vertical-align: top;\n",
       "    }\n",
       "\n",
       "    .dataframe thead th {\n",
       "        text-align: right;\n",
       "    }\n",
       "</style>\n",
       "<table border=\"1\" class=\"dataframe\">\n",
       "  <thead>\n",
       "    <tr style=\"text-align: right;\">\n",
       "      <th></th>\n",
       "      <th>id</th>\n",
       "      <th>label</th>\n",
       "    </tr>\n",
       "  </thead>\n",
       "  <tbody>\n",
       "    <tr>\n",
       "      <th>0</th>\n",
       "      <td>1</td>\n",
       "      <td>-1</td>\n",
       "    </tr>\n",
       "    <tr>\n",
       "      <th>1</th>\n",
       "      <td>2</td>\n",
       "      <td>-1</td>\n",
       "    </tr>\n",
       "    <tr>\n",
       "      <th>2</th>\n",
       "      <td>3</td>\n",
       "      <td>-1</td>\n",
       "    </tr>\n",
       "    <tr>\n",
       "      <th>3</th>\n",
       "      <td>4</td>\n",
       "      <td>-1</td>\n",
       "    </tr>\n",
       "    <tr>\n",
       "      <th>4</th>\n",
       "      <td>5</td>\n",
       "      <td>-1</td>\n",
       "    </tr>\n",
       "    <tr>\n",
       "      <th>...</th>\n",
       "      <td>...</td>\n",
       "      <td>...</td>\n",
       "    </tr>\n",
       "    <tr>\n",
       "      <th>49995</th>\n",
       "      <td>49996</td>\n",
       "      <td>-1</td>\n",
       "    </tr>\n",
       "    <tr>\n",
       "      <th>49996</th>\n",
       "      <td>49997</td>\n",
       "      <td>-1</td>\n",
       "    </tr>\n",
       "    <tr>\n",
       "      <th>49997</th>\n",
       "      <td>49998</td>\n",
       "      <td>-1</td>\n",
       "    </tr>\n",
       "    <tr>\n",
       "      <th>49998</th>\n",
       "      <td>49999</td>\n",
       "      <td>-1</td>\n",
       "    </tr>\n",
       "    <tr>\n",
       "      <th>49999</th>\n",
       "      <td>50000</td>\n",
       "      <td>-1</td>\n",
       "    </tr>\n",
       "  </tbody>\n",
       "</table>\n",
       "<p>50000 rows × 2 columns</p>\n",
       "</div>"
      ],
      "text/plain": [
       "          id  label\n",
       "0          1     -1\n",
       "1          2     -1\n",
       "2          3     -1\n",
       "3          4     -1\n",
       "4          5     -1\n",
       "...      ...    ...\n",
       "49995  49996     -1\n",
       "49996  49997     -1\n",
       "49997  49998     -1\n",
       "49998  49999     -1\n",
       "49999  50000     -1\n",
       "\n",
       "[50000 rows x 2 columns]"
      ]
     },
     "execution_count": 31,
     "metadata": {},
     "output_type": "execute_result"
    }
   ],
   "source": [
    "model1_df = submission.copy()\n",
    "model1_df"
   ]
  },
  {
   "cell_type": "code",
   "execution_count": 32,
   "id": "6416dc89-cc65-459b-9c0d-0c2f567761d1",
   "metadata": {},
   "outputs": [
    {
     "ename": "ValueError",
     "evalue": "Length of values (49997) does not match length of index (50000)",
     "output_type": "error",
     "traceback": [
      "\u001b[1;31m---------------------------------------------------------------------------\u001b[0m",
      "\u001b[1;31mValueError\u001b[0m                                Traceback (most recent call last)",
      "\u001b[1;32m<ipython-input-32-9addcd905705>\u001b[0m in \u001b[0;36m<module>\u001b[1;34m\u001b[0m\n\u001b[0;32m      4\u001b[0m \u001b[1;31m# 예측 y값 제출 데이터에 입력\u001b[0m\u001b[1;33m\u001b[0m\u001b[1;33m\u001b[0m\u001b[1;33m\u001b[0m\u001b[0m\n\u001b[0;32m      5\u001b[0m \u001b[0mmodel1_df\u001b[0m \u001b[1;33m=\u001b[0m \u001b[0msubmission\u001b[0m\u001b[1;33m.\u001b[0m\u001b[0mcopy\u001b[0m\u001b[1;33m(\u001b[0m\u001b[1;33m)\u001b[0m\u001b[1;33m\u001b[0m\u001b[1;33m\u001b[0m\u001b[0m\n\u001b[1;32m----> 6\u001b[1;33m \u001b[0mmodel1_df\u001b[0m\u001b[1;33m[\u001b[0m\u001b[1;34m'label'\u001b[0m\u001b[1;33m]\u001b[0m \u001b[1;33m=\u001b[0m \u001b[0my_pred\u001b[0m\u001b[1;33m\u001b[0m\u001b[1;33m\u001b[0m\u001b[0m\n\u001b[0m\u001b[0;32m      7\u001b[0m \u001b[0mprint\u001b[0m\u001b[1;33m(\u001b[0m\u001b[0mmodel1_df\u001b[0m\u001b[1;33m.\u001b[0m\u001b[0mhead\u001b[0m\u001b[1;33m(\u001b[0m\u001b[1;33m)\u001b[0m\u001b[1;33m)\u001b[0m\u001b[1;33m\u001b[0m\u001b[1;33m\u001b[0m\u001b[0m\n\u001b[0;32m      8\u001b[0m \u001b[1;33m\u001b[0m\u001b[0m\n",
      "\u001b[1;32m~\\anaconda3\\lib\\site-packages\\pandas\\core\\frame.py\u001b[0m in \u001b[0;36m__setitem__\u001b[1;34m(self, key, value)\u001b[0m\n\u001b[0;32m   3653\u001b[0m         \u001b[1;32melse\u001b[0m\u001b[1;33m:\u001b[0m\u001b[1;33m\u001b[0m\u001b[1;33m\u001b[0m\u001b[0m\n\u001b[0;32m   3654\u001b[0m             \u001b[1;31m# set column\u001b[0m\u001b[1;33m\u001b[0m\u001b[1;33m\u001b[0m\u001b[1;33m\u001b[0m\u001b[0m\n\u001b[1;32m-> 3655\u001b[1;33m             \u001b[0mself\u001b[0m\u001b[1;33m.\u001b[0m\u001b[0m_set_item\u001b[0m\u001b[1;33m(\u001b[0m\u001b[0mkey\u001b[0m\u001b[1;33m,\u001b[0m \u001b[0mvalue\u001b[0m\u001b[1;33m)\u001b[0m\u001b[1;33m\u001b[0m\u001b[1;33m\u001b[0m\u001b[0m\n\u001b[0m\u001b[0;32m   3656\u001b[0m \u001b[1;33m\u001b[0m\u001b[0m\n\u001b[0;32m   3657\u001b[0m     \u001b[1;32mdef\u001b[0m \u001b[0m_setitem_slice\u001b[0m\u001b[1;33m(\u001b[0m\u001b[0mself\u001b[0m\u001b[1;33m,\u001b[0m \u001b[0mkey\u001b[0m\u001b[1;33m:\u001b[0m \u001b[0mslice\u001b[0m\u001b[1;33m,\u001b[0m \u001b[0mvalue\u001b[0m\u001b[1;33m)\u001b[0m\u001b[1;33m:\u001b[0m\u001b[1;33m\u001b[0m\u001b[1;33m\u001b[0m\u001b[0m\n",
      "\u001b[1;32m~\\anaconda3\\lib\\site-packages\\pandas\\core\\frame.py\u001b[0m in \u001b[0;36m_set_item\u001b[1;34m(self, key, value)\u001b[0m\n\u001b[0;32m   3830\u001b[0m         \u001b[0mensure\u001b[0m \u001b[0mhomogeneity\u001b[0m\u001b[1;33m.\u001b[0m\u001b[1;33m\u001b[0m\u001b[1;33m\u001b[0m\u001b[0m\n\u001b[0;32m   3831\u001b[0m         \"\"\"\n\u001b[1;32m-> 3832\u001b[1;33m         \u001b[0mvalue\u001b[0m \u001b[1;33m=\u001b[0m \u001b[0mself\u001b[0m\u001b[1;33m.\u001b[0m\u001b[0m_sanitize_column\u001b[0m\u001b[1;33m(\u001b[0m\u001b[0mvalue\u001b[0m\u001b[1;33m)\u001b[0m\u001b[1;33m\u001b[0m\u001b[1;33m\u001b[0m\u001b[0m\n\u001b[0m\u001b[0;32m   3833\u001b[0m \u001b[1;33m\u001b[0m\u001b[0m\n\u001b[0;32m   3834\u001b[0m         if (\n",
      "\u001b[1;32m~\\anaconda3\\lib\\site-packages\\pandas\\core\\frame.py\u001b[0m in \u001b[0;36m_sanitize_column\u001b[1;34m(self, value)\u001b[0m\n\u001b[0;32m   4533\u001b[0m \u001b[1;33m\u001b[0m\u001b[0m\n\u001b[0;32m   4534\u001b[0m         \u001b[1;32mif\u001b[0m \u001b[0mis_list_like\u001b[0m\u001b[1;33m(\u001b[0m\u001b[0mvalue\u001b[0m\u001b[1;33m)\u001b[0m\u001b[1;33m:\u001b[0m\u001b[1;33m\u001b[0m\u001b[1;33m\u001b[0m\u001b[0m\n\u001b[1;32m-> 4535\u001b[1;33m             \u001b[0mcom\u001b[0m\u001b[1;33m.\u001b[0m\u001b[0mrequire_length_match\u001b[0m\u001b[1;33m(\u001b[0m\u001b[0mvalue\u001b[0m\u001b[1;33m,\u001b[0m \u001b[0mself\u001b[0m\u001b[1;33m.\u001b[0m\u001b[0mindex\u001b[0m\u001b[1;33m)\u001b[0m\u001b[1;33m\u001b[0m\u001b[1;33m\u001b[0m\u001b[0m\n\u001b[0m\u001b[0;32m   4536\u001b[0m         \u001b[1;32mreturn\u001b[0m \u001b[0msanitize_array\u001b[0m\u001b[1;33m(\u001b[0m\u001b[0mvalue\u001b[0m\u001b[1;33m,\u001b[0m \u001b[0mself\u001b[0m\u001b[1;33m.\u001b[0m\u001b[0mindex\u001b[0m\u001b[1;33m,\u001b[0m \u001b[0mcopy\u001b[0m\u001b[1;33m=\u001b[0m\u001b[1;32mTrue\u001b[0m\u001b[1;33m,\u001b[0m \u001b[0mallow_2d\u001b[0m\u001b[1;33m=\u001b[0m\u001b[1;32mTrue\u001b[0m\u001b[1;33m)\u001b[0m\u001b[1;33m\u001b[0m\u001b[1;33m\u001b[0m\u001b[0m\n\u001b[0;32m   4537\u001b[0m \u001b[1;33m\u001b[0m\u001b[0m\n",
      "\u001b[1;32m~\\anaconda3\\lib\\site-packages\\pandas\\core\\common.py\u001b[0m in \u001b[0;36mrequire_length_match\u001b[1;34m(data, index)\u001b[0m\n\u001b[0;32m    555\u001b[0m     \"\"\"\n\u001b[0;32m    556\u001b[0m     \u001b[1;32mif\u001b[0m \u001b[0mlen\u001b[0m\u001b[1;33m(\u001b[0m\u001b[0mdata\u001b[0m\u001b[1;33m)\u001b[0m \u001b[1;33m!=\u001b[0m \u001b[0mlen\u001b[0m\u001b[1;33m(\u001b[0m\u001b[0mindex\u001b[0m\u001b[1;33m)\u001b[0m\u001b[1;33m:\u001b[0m\u001b[1;33m\u001b[0m\u001b[1;33m\u001b[0m\u001b[0m\n\u001b[1;32m--> 557\u001b[1;33m         raise ValueError(\n\u001b[0m\u001b[0;32m    558\u001b[0m             \u001b[1;34m\"Length of values \"\u001b[0m\u001b[1;33m\u001b[0m\u001b[1;33m\u001b[0m\u001b[0m\n\u001b[0;32m    559\u001b[0m             \u001b[1;34mf\"({len(data)}) \"\u001b[0m\u001b[1;33m\u001b[0m\u001b[1;33m\u001b[0m\u001b[0m\n",
      "\u001b[1;31mValueError\u001b[0m: Length of values (49997) does not match length of index (50000)"
     ]
    }
   ],
   "source": [
    "# 테스트 데이터를 이용한 예측 y값 생성\n",
    "y_pred = model1.predict(X_test)\n",
    "\n",
    "# 예측 y값 제출 데이터에 입력\n",
    "model1_df = submission.copy()\n",
    "model1_df['label'] = y_pred\n",
    "print(model1_df.head())\n",
    "\n",
    "# 제출 데이터 저장\n",
    "# model1_df.to_csv('data/[기업은행 혁신리그 사전강의] 영화 리뷰 감성 분석/', index=False)"
   ]
  },
  {
   "cell_type": "code",
   "execution_count": null,
   "id": "616f58d8-4456-437d-a2b0-4d1447c013b9",
   "metadata": {},
   "outputs": [],
   "source": []
  }
 ],
 "metadata": {
  "kernelspec": {
   "display_name": "Python 3",
   "language": "python",
   "name": "python3"
  },
  "language_info": {
   "codemirror_mode": {
    "name": "ipython",
    "version": 3
   },
   "file_extension": ".py",
   "mimetype": "text/x-python",
   "name": "python",
   "nbconvert_exporter": "python",
   "pygments_lexer": "ipython3",
   "version": "3.8.8"
  }
 },
 "nbformat": 4,
 "nbformat_minor": 5
}
