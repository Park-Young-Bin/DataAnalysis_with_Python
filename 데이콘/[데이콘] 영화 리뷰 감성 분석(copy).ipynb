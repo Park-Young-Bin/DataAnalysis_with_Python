{
 "cells": [
  {
   "cell_type": "markdown",
   "id": "c5c9d1d5-c40c-45b0-881d-3b3d220228ec",
   "metadata": {},
   "source": [
    "# [[데이콘] 영화 리뷰 감성 분석](https://dacon.io/competitions/official/235995/overview/description)\n",
    "\n",
    "**참고 사이트**  \n",
    "[[기업은행] 영화 리뷰 감성 분석 PBL 1](https://dacon.io/competitions/official/235995/codeshare/6528?page=1&dtype=recent)  \n",
    "[22. 자연어 처리하기 1](https://codetorial.net/tensorflow/natural_language_processing_in_tensorflow_01.html)"
   ]
  },
  {
   "cell_type": "markdown",
   "id": "b3397d16-b0be-43aa-bcfe-4f012c935bae",
   "metadata": {},
   "source": [
    "## 1. 데이터 살펴보기\n",
    "### 1) 데이터 불러오기"
   ]
  },
  {
   "cell_type": "code",
   "execution_count": 1,
   "id": "0ffe6b15-a1cd-4da0-b8f4-16d98b30a8ab",
   "metadata": {},
   "outputs": [],
   "source": [
    "# 데이터를 불러오고 살펴보기 위한 라이브러리\n",
    "import pandas as pd\n",
    "import numpy as np\n",
    "\n",
    "# 시각화를 하기 위한 라이브러리\n",
    "import matplotlib.pyplot as plt\n",
    "%matplotlib inline\n",
    "\n",
    "import sys\n",
    "from konlpy.tag import Okt\n",
    "from collections import Counter\n",
    "from wordcloud import WordCloud\n",
    "from tqdm import tqdm\n",
    "from tensorflow.keras.preprocessing.text import Tokenizer"
   ]
  },
  {
   "cell_type": "code",
   "execution_count": 2,
   "id": "50bcca61-1060-4037-b2f1-7b63d3ee78c5",
   "metadata": {},
   "outputs": [],
   "source": [
    "train = pd.read_csv('data/[기업은행 혁신리그 사전강의] 영화 리뷰 감성 분석/train.csv')[['document', 'label']]\n",
    "test = pd.read_csv('data/[기업은행 혁신리그 사전강의] 영화 리뷰 감성 분석/test.csv')[['document']]\n",
    "submission = pd.read_csv('data/[기업은행 혁신리그 사전강의] 영화 리뷰 감성 분석/sample_submission.csv')"
   ]
  },
  {
   "cell_type": "code",
   "execution_count": 3,
   "id": "4b910f38-1119-453d-b03c-d48c8ff8903d",
   "metadata": {},
   "outputs": [
    {
     "name": "stdout",
     "output_type": "stream",
     "text": [
      "150000\n",
      "50000\n"
     ]
    }
   ],
   "source": [
    "print(len(train))\n",
    "print(len(test))"
   ]
  },
  {
   "cell_type": "code",
   "execution_count": 4,
   "id": "e82492db-3b40-4a23-af16-5b63f7f880a3",
   "metadata": {},
   "outputs": [
    {
     "name": "stdout",
     "output_type": "stream",
     "text": [
      "                                            document  label\n",
      "0                                아 더빙.. 진짜 짜증나네요 목소리      0\n",
      "1                  흠...포스터보고 초딩영화줄....오버연기조차 가볍지 않구나      1\n",
      "2                                  너무재밓었다그래서보는것을추천한다      0\n",
      "3                      교도소 이야기구먼 ..솔직히 재미는 없다..평점 조정      0\n",
      "4  사이몬페그의 익살스런 연기가 돋보였던 영화!스파이더맨에서 늙어보이기만 했던 커스틴 ...      1\n",
      "\n",
      "\n",
      "                               document  label\n",
      "149995              인간이 문제지.. 소는 뭔죄인가..      0\n",
      "149996                    평점이 너무 낮아서...      1\n",
      "149997  이게 뭐요? 한국인은 거들먹거리고 필리핀 혼혈은 착하다?      0\n",
      "149998      청춘 영화의 최고봉.방황과 우울했던 날들의 자화상      1\n",
      "149999         한국 영화 최초로 수간하는 내용이 담긴 영화      0\n"
     ]
    }
   ],
   "source": [
    "print(train.head())\n",
    "print('\\n')\n",
    "print(train.tail())"
   ]
  },
  {
   "cell_type": "markdown",
   "id": "61583f06-8d25-45c6-9f17-c414652a111c",
   "metadata": {},
   "source": [
    "### 2) 데이터 정제하기\n",
    "#### (1) 중복 행 제거"
   ]
  },
  {
   "cell_type": "code",
   "execution_count": 5,
   "id": "c9749cfa-a181-4f5e-9e36-20a6a9cdcf8b",
   "metadata": {},
   "outputs": [
    {
     "data": {
      "text/html": [
       "<div>\n",
       "<style scoped>\n",
       "    .dataframe tbody tr th:only-of-type {\n",
       "        vertical-align: middle;\n",
       "    }\n",
       "\n",
       "    .dataframe tbody tr th {\n",
       "        vertical-align: top;\n",
       "    }\n",
       "\n",
       "    .dataframe thead th {\n",
       "        text-align: right;\n",
       "    }\n",
       "</style>\n",
       "<table border=\"1\" class=\"dataframe\">\n",
       "  <thead>\n",
       "    <tr style=\"text-align: right;\">\n",
       "      <th></th>\n",
       "      <th>document</th>\n",
       "      <th>label</th>\n",
       "    </tr>\n",
       "  </thead>\n",
       "  <tbody>\n",
       "    <tr>\n",
       "      <th>1058</th>\n",
       "      <td>4</td>\n",
       "      <td>0</td>\n",
       "    </tr>\n",
       "    <tr>\n",
       "      <th>1097</th>\n",
       "      <td>쵝오</td>\n",
       "      <td>1</td>\n",
       "    </tr>\n",
       "    <tr>\n",
       "      <th>1248</th>\n",
       "      <td>최고</td>\n",
       "      <td>1</td>\n",
       "    </tr>\n",
       "    <tr>\n",
       "      <th>1483</th>\n",
       "      <td>최고</td>\n",
       "      <td>1</td>\n",
       "    </tr>\n",
       "    <tr>\n",
       "      <th>1707</th>\n",
       "      <td>재밌다</td>\n",
       "      <td>1</td>\n",
       "    </tr>\n",
       "    <tr>\n",
       "      <th>...</th>\n",
       "      <td>...</td>\n",
       "      <td>...</td>\n",
       "    </tr>\n",
       "    <tr>\n",
       "      <th>149919</th>\n",
       "      <td>짱</td>\n",
       "      <td>1</td>\n",
       "    </tr>\n",
       "    <tr>\n",
       "      <th>149949</th>\n",
       "      <td>OO 영화</td>\n",
       "      <td>0</td>\n",
       "    </tr>\n",
       "    <tr>\n",
       "      <th>149960</th>\n",
       "      <td>지루하다</td>\n",
       "      <td>0</td>\n",
       "    </tr>\n",
       "    <tr>\n",
       "      <th>149966</th>\n",
       "      <td>1</td>\n",
       "      <td>0</td>\n",
       "    </tr>\n",
       "    <tr>\n",
       "      <th>149987</th>\n",
       "      <td>재미있어요^^</td>\n",
       "      <td>1</td>\n",
       "    </tr>\n",
       "  </tbody>\n",
       "</table>\n",
       "<p>3817 rows × 2 columns</p>\n",
       "</div>"
      ],
      "text/plain": [
       "       document  label\n",
       "1058          4      0\n",
       "1097         쵝오      1\n",
       "1248         최고      1\n",
       "1483         최고      1\n",
       "1707        재밌다      1\n",
       "...         ...    ...\n",
       "149919        짱      1\n",
       "149949    OO 영화      0\n",
       "149960     지루하다      0\n",
       "149966        1      0\n",
       "149987  재미있어요^^      1\n",
       "\n",
       "[3817 rows x 2 columns]"
      ]
     },
     "execution_count": 5,
     "metadata": {},
     "output_type": "execute_result"
    }
   ],
   "source": [
    "# 중복 행 찾기\n",
    "train[train['document'].duplicated()] # 총 3,817행 존재"
   ]
  },
  {
   "cell_type": "code",
   "execution_count": 6,
   "id": "fe5fdfcf-6876-49c4-b684-d3bd3ba35197",
   "metadata": {},
   "outputs": [
    {
     "data": {
      "text/plain": [
       "146183"
      ]
     },
     "execution_count": 6,
     "metadata": {},
     "output_type": "execute_result"
    }
   ],
   "source": [
    "# 중복 행 제거\n",
    "train.drop_duplicates(['document'], inplace=True)\n",
    "len(train)"
   ]
  },
  {
   "cell_type": "code",
   "execution_count": 7,
   "id": "840e7c91-fa7a-4ae2-910b-fbd4af6a25b2",
   "metadata": {},
   "outputs": [
    {
     "data": {
      "image/png": "[encoded data removed]",
      "text/plain": [
       "<Figure size 432x288 with 1 Axes>"
      ]
     },
     "metadata": {
      "needs_background": "light"
     },
     "output_type": "display_data"
    }
   ],
   "source": [
    "# 중복을 제거한 train.label 분포\n",
    "train.label.value_counts().plot(kind='bar');"
   ]
  },
  {
   "cell_type": "code",
   "execution_count": 8,
   "id": "be59a676-bfac-4e1c-bdaf-956d2af5f283",
   "metadata": {},
   "outputs": [
    {
     "data": {
      "text/plain": [
       "0    73342\n",
       "1    72841\n",
       "Name: label, dtype: int64"
      ]
     },
     "execution_count": 8,
     "metadata": {},
     "output_type": "execute_result"
    }
   ],
   "source": [
    "train.label.value_counts() # 0(부정) > 1(긍정)"
   ]
  },
  {
   "cell_type": "markdown",
   "id": "f90f9754-2dcf-488f-8e82-f5935875db1b",
   "metadata": {},
   "source": [
    "#### (2) 결측치 찾기"
   ]
  },
  {
   "cell_type": "code",
   "execution_count": 9,
   "id": "ba44cf6f-6a5e-42a3-976c-94b747bbea7f",
   "metadata": {},
   "outputs": [
    {
     "name": "stdout",
     "output_type": "stream",
     "text": [
      "결측치 개수: 1개\n"
     ]
    }
   ],
   "source": [
    "print('결측치 개수: {}개'.format(train['document'].isnull().sum()))"
   ]
  },
  {
   "cell_type": "code",
   "execution_count": 10,
   "id": "2b78faec-db00-4379-b136-5c5e00e4bcc5",
   "metadata": {},
   "outputs": [
    {
     "data": {
      "text/html": [
       "<div>\n",
       "<style scoped>\n",
       "    .dataframe tbody tr th:only-of-type {\n",
       "        vertical-align: middle;\n",
       "    }\n",
       "\n",
       "    .dataframe tbody tr th {\n",
       "        vertical-align: top;\n",
       "    }\n",
       "\n",
       "    .dataframe thead th {\n",
       "        text-align: right;\n",
       "    }\n",
       "</style>\n",
       "<table border=\"1\" class=\"dataframe\">\n",
       "  <thead>\n",
       "    <tr style=\"text-align: right;\">\n",
       "      <th></th>\n",
       "      <th>document</th>\n",
       "      <th>label</th>\n",
       "    </tr>\n",
       "  </thead>\n",
       "  <tbody>\n",
       "    <tr>\n",
       "      <th>25857</th>\n",
       "      <td>NaN</td>\n",
       "      <td>1</td>\n",
       "    </tr>\n",
       "  </tbody>\n",
       "</table>\n",
       "</div>"
      ],
      "text/plain": [
       "      document  label\n",
       "25857      NaN      1"
      ]
     },
     "execution_count": 10,
     "metadata": {},
     "output_type": "execute_result"
    }
   ],
   "source": [
    "train[train['document'].isnull()]"
   ]
  },
  {
   "cell_type": "code",
   "execution_count": 11,
   "id": "5d34609a-33e7-4eae-a96d-d04d67e04f30",
   "metadata": {},
   "outputs": [
    {
     "data": {
      "text/plain": [
       "False"
      ]
     },
     "execution_count": 11,
     "metadata": {},
     "output_type": "execute_result"
    }
   ],
   "source": [
    "# 결측치 제거\n",
    "train = train.dropna(how='any')  # how = 'any' : row 또는 column에 NaN값이 1개만 있어도 drop\n",
    "train.isnull().values.any()"
   ]
  },
  {
   "cell_type": "code",
   "execution_count": 12,
   "id": "8759e82d-9a7f-4524-a15b-b422d748a502",
   "metadata": {},
   "outputs": [
    {
     "data": {
      "text/plain": [
       "0    73342\n",
       "1    72840\n",
       "Name: label, dtype: int64"
      ]
     },
     "execution_count": 12,
     "metadata": {},
     "output_type": "execute_result"
    }
   ],
   "source": [
    "# 결측치 제거 후, 라벨 분포\n",
    "train.label.value_counts() # 0(부정) > 1(긍정)"
   ]
  },
  {
   "cell_type": "markdown",
   "id": "18b52cb7-fd3d-4568-8819-84f13a9721af",
   "metadata": {},
   "source": [
    "### 3) validation 셋을 활용한 검증"
   ]
  },
  {
   "cell_type": "code",
   "execution_count": 13,
   "id": "c354e248-71ef-43b7-a608-8d4613525b2c",
   "metadata": {},
   "outputs": [],
   "source": [
    "from sklearn.model_selection import train_test_split\n",
    "\n",
    "X = train[['document']]\n",
    "y = train[['label']]\n",
    "\n",
    "X_train, X_valid, y_train, y_valid = train_test_split(X, y, test_size=.5, random_state=24)"
   ]
  },
  {
   "cell_type": "code",
   "execution_count": 14,
   "id": "c3396548-6638-478a-8570-a4cb3ff9c384",
   "metadata": {},
   "outputs": [
    {
     "name": "stdout",
     "output_type": "stream",
     "text": [
      "X_train.shape : (73091, 1)\n",
      "y_train.shape : (73091, 1)\n",
      "X_valid.shape : (73091, 1)\n",
      "y_valid.shape : (73091, 1)\n"
     ]
    }
   ],
   "source": [
    "print(f\"X_train.shape : {X_train.shape}\")\n",
    "print(f\"y_train.shape : {y_train.shape}\")\n",
    "print(f\"X_valid.shape : {X_valid.shape}\")\n",
    "print(f\"y_valid.shape : {y_valid.shape}\")"
   ]
  },
  {
   "cell_type": "code",
   "execution_count": 15,
   "id": "b7392fe0-4881-45aa-893f-79e4f7ebcf33",
   "metadata": {},
   "outputs": [
    {
     "name": "stdout",
     "output_type": "stream",
     "text": [
      "0.4998152987371906\n"
     ]
    }
   ],
   "source": [
    "# 예시: label을 모두 1로 가정하여 y_valid와 비교하여 정확도 평가\n",
    "pred = y_valid.copy() # y_valid 값을 복사\n",
    "pred[['label']] = 1 # label 값을 모두 1로 변환\n",
    "\n",
    "from sklearn.metrics import accuracy_score\n",
    "print(accuracy_score(y_valid, pred))"
   ]
  },
  {
   "cell_type": "markdown",
   "id": "856caef4-c6f5-46d7-af05-64d1516dc2b5",
   "metadata": {},
   "source": [
    "## 2. 텍스트 전처리\n",
    "### 1) 정규 표현식\n",
    "- re 모듈 사용\n",
    "- [a-zA-Z]: 모든 영어 문자\n",
    "- [**^**a-zA-Z]: 영어 문자를 제외한 문자열\n",
    "\n",
    "- 메타 문자(meta characters)\n",
    "    - 원래 그 문자가 아닌 특별한 용도로 사용하는 문자\n",
    "    - [ㄱ-ㅎㅏ-ㅣ가-힣]: 모든 한글 문자\n",
    "    - [**^**ㄱ-ㅎㅏ-ㅣ가-힣]: **한글을** 제외한 모든 문자\n",
    "    - [**^**ㄱ-ㅎㅏ-ㅣ가-힣 ]: **한글과 공백을** 제외한 모든 문자"
   ]
  },
  {
   "cell_type": "code",
   "execution_count": 16,
   "id": "28bab282-30c4-4982-bf19-f0ee1d4a52eb",
   "metadata": {},
   "outputs": [
    {
     "name": "stdout",
     "output_type": "stream",
     "text": [
      "doyouexpectpeopletoreadtheFAQetcandactuallyaccepthardatheism\n"
     ]
    }
   ],
   "source": [
    "import re\n",
    "\n",
    "# 예시\n",
    "eng_text = 'do!!! you expect... people~ to~ read~ the FAQ, etc. and actually accept hard~! atheism?@@'\n",
    "print(re.sub(\"[^a-zA-Z]\", \"\", eng_text)) # 영어 문자를 제외한 모든 문자열을 \"(공백 = 제거)\"으로 변경"
   ]
  },
  {
   "cell_type": "code",
   "execution_count": 17,
   "id": "fe9bc75a-8b74-4117-917a-a3f04075c0cd",
   "metadata": {},
   "outputs": [
    {
     "data": {
      "text/html": [
       "<div>\n",
       "<style scoped>\n",
       "    .dataframe tbody tr th:only-of-type {\n",
       "        vertical-align: middle;\n",
       "    }\n",
       "\n",
       "    .dataframe tbody tr th {\n",
       "        vertical-align: top;\n",
       "    }\n",
       "\n",
       "    .dataframe thead th {\n",
       "        text-align: right;\n",
       "    }\n",
       "</style>\n",
       "<table border=\"1\" class=\"dataframe\">\n",
       "  <thead>\n",
       "    <tr style=\"text-align: right;\">\n",
       "      <th></th>\n",
       "      <th>document</th>\n",
       "      <th>label</th>\n",
       "    </tr>\n",
       "  </thead>\n",
       "  <tbody>\n",
       "    <tr>\n",
       "      <th>0</th>\n",
       "      <td>아 더빙.. 진짜 짜증나네요 목소리</td>\n",
       "      <td>0</td>\n",
       "    </tr>\n",
       "    <tr>\n",
       "      <th>1</th>\n",
       "      <td>흠...포스터보고 초딩영화줄....오버연기조차 가볍지 않구나</td>\n",
       "      <td>1</td>\n",
       "    </tr>\n",
       "    <tr>\n",
       "      <th>2</th>\n",
       "      <td>너무재밓었다그래서보는것을추천한다</td>\n",
       "      <td>0</td>\n",
       "    </tr>\n",
       "    <tr>\n",
       "      <th>3</th>\n",
       "      <td>교도소 이야기구먼 ..솔직히 재미는 없다..평점 조정</td>\n",
       "      <td>0</td>\n",
       "    </tr>\n",
       "    <tr>\n",
       "      <th>4</th>\n",
       "      <td>사이몬페그의 익살스런 연기가 돋보였던 영화!스파이더맨에서 늙어보이기만 했던 커스틴 ...</td>\n",
       "      <td>1</td>\n",
       "    </tr>\n",
       "  </tbody>\n",
       "</table>\n",
       "</div>"
      ],
      "text/plain": [
       "                                            document  label\n",
       "0                                아 더빙.. 진짜 짜증나네요 목소리      0\n",
       "1                  흠...포스터보고 초딩영화줄....오버연기조차 가볍지 않구나      1\n",
       "2                                  너무재밓었다그래서보는것을추천한다      0\n",
       "3                      교도소 이야기구먼 ..솔직히 재미는 없다..평점 조정      0\n",
       "4  사이몬페그의 익살스런 연기가 돋보였던 영화!스파이더맨에서 늙어보이기만 했던 커스틴 ...      1"
      ]
     },
     "execution_count": 17,
     "metadata": {},
     "output_type": "execute_result"
    }
   ],
   "source": [
    "# 특수 문자 제거 전\n",
    "train.head()"
   ]
  },
  {
   "cell_type": "code",
   "execution_count": 18,
   "id": "7dab8bb7-06c2-4d35-937f-99260cec030d",
   "metadata": {},
   "outputs": [
    {
     "data": {
      "text/html": [
       "<div>\n",
       "<style scoped>\n",
       "    .dataframe tbody tr th:only-of-type {\n",
       "        vertical-align: middle;\n",
       "    }\n",
       "\n",
       "    .dataframe tbody tr th {\n",
       "        vertical-align: top;\n",
       "    }\n",
       "\n",
       "    .dataframe thead th {\n",
       "        text-align: right;\n",
       "    }\n",
       "</style>\n",
       "<table border=\"1\" class=\"dataframe\">\n",
       "  <thead>\n",
       "    <tr style=\"text-align: right;\">\n",
       "      <th></th>\n",
       "      <th>document</th>\n",
       "      <th>label</th>\n",
       "    </tr>\n",
       "  </thead>\n",
       "  <tbody>\n",
       "    <tr>\n",
       "      <th>0</th>\n",
       "      <td>아 더빙 진짜 짜증나네요 목소리</td>\n",
       "      <td>0</td>\n",
       "    </tr>\n",
       "    <tr>\n",
       "      <th>1</th>\n",
       "      <td>흠포스터보고 초딩영화줄오버연기조차 가볍지 않구나</td>\n",
       "      <td>1</td>\n",
       "    </tr>\n",
       "    <tr>\n",
       "      <th>2</th>\n",
       "      <td>너무재밓었다그래서보는것을추천한다</td>\n",
       "      <td>0</td>\n",
       "    </tr>\n",
       "    <tr>\n",
       "      <th>3</th>\n",
       "      <td>교도소 이야기구먼 솔직히 재미는 없다평점 조정</td>\n",
       "      <td>0</td>\n",
       "    </tr>\n",
       "    <tr>\n",
       "      <th>4</th>\n",
       "      <td>사이몬페그의 익살스런 연기가 돋보였던 영화스파이더맨에서 늙어보이기만 했던 커스틴 던...</td>\n",
       "      <td>1</td>\n",
       "    </tr>\n",
       "  </tbody>\n",
       "</table>\n",
       "</div>"
      ],
      "text/plain": [
       "                                            document  label\n",
       "0                                  아 더빙 진짜 짜증나네요 목소리      0\n",
       "1                         흠포스터보고 초딩영화줄오버연기조차 가볍지 않구나      1\n",
       "2                                  너무재밓었다그래서보는것을추천한다      0\n",
       "3                          교도소 이야기구먼 솔직히 재미는 없다평점 조정      0\n",
       "4  사이몬페그의 익살스런 연기가 돋보였던 영화스파이더맨에서 늙어보이기만 했던 커스틴 던...      1"
      ]
     },
     "execution_count": 18,
     "metadata": {},
     "output_type": "execute_result"
    }
   ],
   "source": [
    "# 특수문자 제거하기 - 한글과 공백을 제외한 나머지 문자열을 모두 제거\n",
    "train['document'] = train['document'].str.replace(\"[^ㄱ-ㅎㅏ-ㅣ가-힣 ]\", \"\", regex=True)\n",
    "train[:5]"
   ]
  },
  {
   "cell_type": "code",
   "execution_count": 19,
   "id": "9d85958a-f514-4b94-9e2a-667936e811fc",
   "metadata": {},
   "outputs": [
    {
     "data": {
      "text/plain": [
       "document    789\n",
       "label         0\n",
       "dtype: int64"
      ]
     },
     "execution_count": 19,
     "metadata": {},
     "output_type": "execute_result"
    }
   ],
   "source": [
    "# 공백만 존재하거나 빈 값이 있는 행이 있다면 Null값으로 변경한 후, Null값이 존재하는지 확인\n",
    "train['document'] = train['document'].str.replace(\"^ +\", \"\", regex=True) # 공백(^ +)을 빈 값으로 변경\n",
    "train['document'].replace(\"\", np.nan, inplace=True, regex=True) # 빈 값을 nan로 변경\n",
    "train.isnull().sum() # nan 존재 확인"
   ]
  },
  {
   "cell_type": "code",
   "execution_count": 20,
   "id": "0b402858-03b3-41c5-be39-e7769f04f9e4",
   "metadata": {},
   "outputs": [
    {
     "data": {
      "text/html": [
       "<div>\n",
       "<style scoped>\n",
       "    .dataframe tbody tr th:only-of-type {\n",
       "        vertical-align: middle;\n",
       "    }\n",
       "\n",
       "    .dataframe tbody tr th {\n",
       "        vertical-align: top;\n",
       "    }\n",
       "\n",
       "    .dataframe thead th {\n",
       "        text-align: right;\n",
       "    }\n",
       "</style>\n",
       "<table border=\"1\" class=\"dataframe\">\n",
       "  <thead>\n",
       "    <tr style=\"text-align: right;\">\n",
       "      <th></th>\n",
       "      <th>document</th>\n",
       "      <th>label</th>\n",
       "    </tr>\n",
       "  </thead>\n",
       "  <tbody>\n",
       "    <tr>\n",
       "      <th>404</th>\n",
       "      <td>NaN</td>\n",
       "      <td>0</td>\n",
       "    </tr>\n",
       "    <tr>\n",
       "      <th>412</th>\n",
       "      <td>NaN</td>\n",
       "      <td>1</td>\n",
       "    </tr>\n",
       "    <tr>\n",
       "      <th>470</th>\n",
       "      <td>NaN</td>\n",
       "      <td>1</td>\n",
       "    </tr>\n",
       "    <tr>\n",
       "      <th>584</th>\n",
       "      <td>NaN</td>\n",
       "      <td>0</td>\n",
       "    </tr>\n",
       "    <tr>\n",
       "      <th>593</th>\n",
       "      <td>NaN</td>\n",
       "      <td>0</td>\n",
       "    </tr>\n",
       "  </tbody>\n",
       "</table>\n",
       "</div>"
      ],
      "text/plain": [
       "    document  label\n",
       "404      NaN      0\n",
       "412      NaN      1\n",
       "470      NaN      1\n",
       "584      NaN      0\n",
       "593      NaN      0"
      ]
     },
     "execution_count": 20,
     "metadata": {},
     "output_type": "execute_result"
    }
   ],
   "source": [
    "# nan값이 있는 상위 5개 추출\n",
    "train[train['document'].isnull()].head()"
   ]
  },
  {
   "cell_type": "code",
   "execution_count": 21,
   "id": "336c2dc4-0fee-4412-b97e-80a987f1d171",
   "metadata": {},
   "outputs": [
    {
     "data": {
      "text/plain": [
       "145393"
      ]
     },
     "execution_count": 21,
     "metadata": {},
     "output_type": "execute_result"
    }
   ],
   "source": [
    "# nan 행 삭제\n",
    "train = train.dropna(how='any', axis=0)\n",
    "len(train)"
   ]
  },
  {
   "cell_type": "markdown",
   "id": "d3b655ef-2e01-4cb8-bd2b-3cd02c87afb4",
   "metadata": {},
   "source": [
    "### 2) 토큰화\n",
    "- 불용어: stopwords로 언어 분석을 할 때 의미가 없는 단어와 조사 등을 의미함\n",
    "- 토큰화: 텍스트에서 **토큰**이라 불리는 단위로 나누는 작업\n",
    "    - 토큰의 기준: 단어/단어구/문자열\n",
    "    - 보통 의미 있는 단위로 토큰을 정함\n",
    "    - 영어의 토큰화: 주로 띄어쓰기 기준\n",
    "    - **한글의 토큰화: 형태소 기준**"
   ]
  },
  {
   "cell_type": "code",
   "execution_count": 22,
   "id": "5856872e-9f50-4374-8845-9ee2962cd032",
   "metadata": {},
   "outputs": [
    {
     "name": "stdout",
     "output_type": "stream",
     "text": [
      "Okt 형태소 분석 stem=True 적용:  ['오다', '이렇다', '것', '도', '영화', '라고', '차라리', '뮤직비디오', '를', '만들다', '게', '나다', '뻔']\n",
      "Okt 형태소 분석 stem=True 미적용:  ['와', '이런', '것', '도', '영화', '라고', '차라리', '뮤직비디오', '를', '만드는', '게', '나을', '뻔']\n"
     ]
    }
   ],
   "source": [
    "from konlpy.tag import Okt\n",
    "\n",
    "okt = Okt()\n",
    "print(\"Okt 형태소 분석 stem=True 적용: \", okt.morphs('와 이런 것도 영화라고 차라리 뮤직비디오를 만드는 게 나을 뻔', stem=True)) # stem = true: 일정 수준의 정규화 수행(이런 → 이렇다, 만드는 → 만들다)\n",
    "print(\"Okt 형태소 분석 stem=True 미적용: \", okt.morphs('와 이런 것도 영화라고 차라리 뮤직비디오를 만드는 게 나을 뻔'))"
   ]
  },
  {
   "cell_type": "code",
   "execution_count": null,
   "id": "eaacf229-90cb-4a6b-96bc-ebbfbe5856bb",
   "metadata": {},
   "outputs": [
    {
     "name": "stderr",
     "output_type": "stream",
     "text": [
      " 64%|███████████████████████████████████████████████▍                          | 93265/145393 [11:43<04:28, 193.93it/s]"
     ]
    }
   ],
   "source": [
    "# 불용어 예시\n",
    "stopwords = ['의','가','이','은','들','는','좀','잘','걍','과','도','를','으로','자','에','와','한','하다']\n",
    "\n",
    "# 토큰화 + 불용어 제거\n",
    "train_feature = [] # 토큰화 + 불용어 제거가 적용된 데이터의 저장 공간\n",
    "for sentence in tqdm(train['document']):\n",
    "    tokenized_sentences = okt.morphs(sentence, stem=True) # 토큰화\n",
    "    stopwords_removed_sentence = [word for word in tokenized_sentences if not word in stopwords] # 불용어 제거\n",
    "    train_feature.append(stopwords_removed_sentence)"
   ]
  },
  {
   "cell_type": "code",
   "execution_count": null,
   "id": "7e987ac0-dfa5-413a-829b-88f6f933355e",
   "metadata": {},
   "outputs": [],
   "source": [
    "# 리스트 컴프리헨션 펼쳐보기\n",
    "# stopwords_removed_sentence = [word for word in tokenized_sentence if not word in stopwords]\n",
    "\n",
    "stopwords_removed = [] # 불용어 제거된 결과 데이터의 저장 공간\n",
    "for word in tokenized_sentences: # 토큰화된 단어\n",
    "    if word not in stopwords: # 토큰화된 단어 != 불용어\n",
    "        stopwords_removed.append(word)\n",
    "        \n",
    "print(\"-\"*67)\n",
    "print(f\"불용어 : {stopwords}\")\n",
    "print('\\n----------------------토큰화 + 불용어 제거하기 전------------------------')\n",
    "print(f\"tokenized_sentences : {tokenized_sentences}\")\n",
    "print('\\n----------------------토큰화 + 불용어 제거된 결과 확인--------------------')\n",
    "print(f\"stopwords_removed : {stopwords_removed}\")"
   ]
  },
  {
   "cell_type": "code",
   "execution_count": null,
   "id": "dac74b90-ea1f-4771-af91-7fd6e4df9931",
   "metadata": {},
   "outputs": [],
   "source": [
    "# 토큰화 + 불용어 제거된 데이터가 모인 리스트 확인\n",
    "train_feature[:3]"
   ]
  },
  {
   "cell_type": "markdown",
   "id": "0f0fcfa4-63c7-4375-91a9-981e10fe5eec",
   "metadata": {},
   "source": [
    "### 3) 정수 인코딩\n",
    "- 컴퓨터는 모든 것을 0과 1로만 표현하므로 train/test 데이터의 텍스트를 정수로 바꿔주는 **인코딩** 작업 필요\n",
    "- Keras의 정수 인코딩 기능을 지원하는 전처리 도구 Tokenizer() 사용\n",
    "    - Tokenizer는 토큰화 기능도 지님\n",
    "    - 각 단어에 **등장 빈도수가 높은 순서대로** 정수가 부여됨\n",
    "    - 빈도수가 낮은 단어들은 자연어 처리를 할 때 제외함"
   ]
  },
  {
   "cell_type": "code",
   "execution_count": null,
   "id": "cdb8ecdc-72dc-4674-8c5e-31f437235bbd",
   "metadata": {
    "scrolled": true,
    "tags": []
   },
   "outputs": [],
   "source": [
    "from tensorflow.keras.preprocessing.text import Tokenizer\n",
    "\n",
    "tokenizer = Tokenizer()\n",
    "tokenizer.fit_on_texts(train_feature) # fit_on_texts: 문자 데이터를 입력받아서 리스트의 형태로 변환\n",
    "print(tokenizer.word_index) # 가장 낮은 정수를 얻은 '영화' 단어의 등장 빈도수가 가장 높음"
   ]
  },
  {
   "cell_type": "markdown",
   "id": "a5376cca-4862-4a42-befd-f5586479e067",
   "metadata": {},
   "source": [
    "일반적으로 빈도수가 낮은 단어들은 자연어 처리를 할 때 제외하므로 빈도수가 3회 미만(임의로 정함)인 단어들의 비중을 탐색함"
   ]
  },
  {
   "cell_type": "code",
   "execution_count": null,
   "id": "b2d54553-ee85-4dc9-bd83-6790f034c440",
   "metadata": {},
   "outputs": [],
   "source": [
    "# 임의로 빈도수가 3회 미만인 단어 비중 탐색\n",
    "# 임계값 설정\n",
    "threshold = 3\n",
    "\n",
    "# 전체(train) 단어\n",
    "total_cnt = len(tokenizer.word_index) # 단어의 개수\n",
    "total_freq = 0 # 단어의 등장 빈도수\n",
    "\n",
    "# 단어의 등장 빈도수가 threshold(=3)보다 작은 단어\n",
    "rare_cnt = 0 # 단어의 개수\n",
    "rare_freq = 0 # 단어의 등장 빈도수\n",
    "\n",
    "# 단어와 빈도수의 쌍(pair)을 key와 value로 받음\n",
    "for key, value in tokenizer.word_counts.items():\n",
    "    total_freq = total_freq + value\n",
    "    \n",
    "    # 단어의 등장 빈도수가 threshold보다 작으면\n",
    "    if (value < threshold):\n",
    "        rare_cnt += 1\n",
    "        rare_freq += value\n",
    "        \n",
    "print('전체 단어의 수 :', total_cnt)\n",
    "print('등장 빈도가 3번 미만인 단어의 수 :', rare_cnt)\n",
    "print('단어 집합에서 3번 미만인 단어 수의 비율 :', (rare_cnt / total_cnt)*100)\n",
    "print('단어 집합에서 3번 미만인 단어 등장 빈도 비율 :',(rare_freq / total_freq)*100)"
   ]
  },
  {
   "cell_type": "markdown",
   "id": "79796033-b13b-4dc8-b2ce-4b8d292ca870",
   "metadata": {
    "tags": []
   },
   "source": [
    "등장 빈도가 2회 이하인 단어들이 절반 이상이지만, 훈련 데이터에서 이들의 등장 비율을 매주 적은 1.87%  \n",
    "따라서 등장 빈도가 2회 이하인 단어들은 자연어 처리에서 중요하지 않으므로 이 단어들을 정수 인코딩 과정에서 제외함"
   ]
  },
  {
   "cell_type": "code",
   "execution_count": null,
   "id": "293b3f19-462c-4915-a195-700e3b465ae9",
   "metadata": {},
   "outputs": [],
   "source": [
    "# 전체 단어 개수 중 빈도수 2 이하인 단어 제거\n",
    "vocab_size = total_cnt - rare_cnt + 1\n",
    "print(\"단어 등장 빈도수가 3 이상인 단어 집합의 크기 : \", vocab_size)"
   ]
  },
  {
   "cell_type": "code",
   "execution_count": null,
   "id": "67caf940-fe3e-4c81-92c7-d3b71af2feed",
   "metadata": {},
   "outputs": [],
   "source": [
    "# 정수 시퀀스로 변환 전(테스트 시퀀스)\n",
    "train_feature[:3]"
   ]
  },
  {
   "cell_type": "code",
   "execution_count": null,
   "id": "8cbceb32-152d-4ba3-8dc5-ba6439fd059d",
   "metadata": {},
   "outputs": [],
   "source": [
    "# 텍스트 시퀀스를 정수 시퀀스로 변환\n",
    "tokenizer = Tokenizer(num_words = vocab_size) # num_words: 단어 빈도수가 높은 순으로 num_words개 단어만 사용, 나머지는 고려하지 않음\n",
    "tokenizer.fit_on_texts(train_feature) # fit_on_texts: 문자 데이터를 입력받아서 리스트의 형태로 변환\n",
    "train_feature = tokenizer.texts_to_sequences(train_feature) # texts_to_sequences: 텍스트 안의 단어들을 숫자의 시퀀스의 형태로 변환, 해당 문자열의 각 단어에 인덱스를 부여"
   ]
  },
  {
   "cell_type": "code",
   "execution_count": null,
   "id": "f2655e07-7feb-4526-83da-ec00180a39d0",
   "metadata": {},
   "outputs": [],
   "source": [
    "# 정수 시퀀스로 변환한 데이터 확인\n",
    "train_feature[:3]"
   ]
  },
  {
   "cell_type": "code",
   "execution_count": null,
   "id": "d6d0ae84-d2fa-4519-9b14-de4612045b69",
   "metadata": {},
   "outputs": [],
   "source": [
    "# train셋의 label 데이터형 확인\n",
    "train['label']"
   ]
  },
  {
   "cell_type": "code",
   "execution_count": null,
   "id": "4d644aef-873a-46c4-80cf-b96ccdb5f0d9",
   "metadata": {},
   "outputs": [],
   "source": [
    "# 배열 형태로 변환\n",
    "train_label = np.array(train['label'])\n",
    "train_label[:3]"
   ]
  },
  {
   "cell_type": "markdown",
   "id": "5f6e88eb-08b2-4bb4-a289-6aa4fb07caf6",
   "metadata": {},
   "source": [
    "### 4) 빈 샘플(empty sample) 제거\n",
    "위에서 빈도수가 낮은 단어를 삭제했지만, 이들은 완전히 삭제된 것이 아닌 빈(empty) 샘플이 되었다는 것을 의미함  \n",
    "따라서 빈 샘플들을 완전히 제거해야 함"
   ]
  },
  {
   "cell_type": "code",
   "execution_count": null,
   "id": "f7b3cecb-b208-40f2-a166-f1d6939c7ac3",
   "metadata": {},
   "outputs": [],
   "source": [
    "# 빈 샘플(empty sample) 제거 전 행의 개수\n",
    "print(len(train_feature))\n",
    "print(len(train_label))"
   ]
  },
  {
   "cell_type": "code",
   "execution_count": null,
   "id": "d4616c82-a28d-4185-bf2d-7260d155e9df",
   "metadata": {},
   "outputs": [],
   "source": [
    "train_feature[0]"
   ]
  },
  {
   "cell_type": "code",
   "execution_count": null,
   "id": "ee6adc1c-65f9-4bdc-96a9-734e5255a2ed",
   "metadata": {},
   "outputs": [],
   "source": [
    "len(train_feature[0])"
   ]
  },
  {
   "cell_type": "code",
   "execution_count": null,
   "id": "a2dc2fce-d43d-404b-bff2-95bef22507f8",
   "metadata": {},
   "outputs": [],
   "source": [
    "# 빈 샘플들의 인덱스\n",
    "drop_train = [index for index, sentence in enumerate(train_feature) if len(sentence) < 1] # 각 리스트 원소 개수가 1개 미만인 index 번호 추출\n",
    "\n",
    "# 빈 샘플을 제거\n",
    "train_feature = np.delete(train_feature, drop_train, axis = 0)\n",
    "train_label = np.delete(train_label, drop_train, axis = 0)\n",
    "\n",
    "# 빈 샘플(empty sample) 제거 후 행의 개수\n",
    "print(len(train_feature))\n",
    "print(len(train_label))"
   ]
  },
  {
   "cell_type": "markdown",
   "id": "7db4f616-f4d1-4daf-83d9-b00798244ca8",
   "metadata": {},
   "source": [
    "### 5) 패딩\n",
    "- 병렬 연산을 위해서 여러 문장의 길이를 임의로 동일하게 맞춰주는 작업으로 **데이터에 특정 값(보통 0)을 채워서** 데이터의 크기(shape)를 조정하는 것입니다.\n",
    "- 특정 값으로 숫자 0을 사용하고 있다면 제로 패딩(zero padding)이라고 함"
   ]
  },
  {
   "cell_type": "code",
   "execution_count": null,
   "id": "4405dce4-c659-4abf-9bcf-abf74c8b1264",
   "metadata": {},
   "outputs": [],
   "source": [
    "print('리뷰 길이의 최댓값: ', max(len(review) for review in train_feature))\n",
    "print('리뷰 길이의 평균값: ', sum(map(len, train_feature))/len(train_feature))\n",
    "\n",
    "plt.hist([len(review) for review in train_feature], bins=50)\n",
    "plt.xlabel('length of samples')\n",
    "plt.ylabel('number of samples')\n",
    "plt.show()"
   ]
  }
 ],
 "metadata": {
  "kernelspec": {
   "display_name": "Python 3",
   "language": "python",
   "name": "python3"
  },
  "language_info": {
   "codemirror_mode": {
    "name": "ipython",
    "version": 3
   },
   "file_extension": ".py",
   "mimetype": "text/x-python",
   "name": "python",
   "nbconvert_exporter": "python",
   "pygments_lexer": "ipython3",
   "version": "3.8.8"
  }
 },
 "nbformat": 4,
 "nbformat_minor": 5
}
