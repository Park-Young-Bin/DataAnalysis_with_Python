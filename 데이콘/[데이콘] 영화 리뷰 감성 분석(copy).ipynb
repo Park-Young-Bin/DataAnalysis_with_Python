{
 "cells": [
  {
   "cell_type": "markdown",
   "id": "c5c9d1d5-c40c-45b0-881d-3b3d220228ec",
   "metadata": {},
   "source": [
    "# [[데이콘] 영화 리뷰 감성 분석](https://dacon.io/competitions/official/235995/overview/description)\n",
    "\n",
    "**참고 사이트**  \n",
    "[[기업은행] 영화 리뷰 감성 분석 PBL 1](https://dacon.io/competitions/official/235995/codeshare/6528?page=1&dtype=recent)"
   ]
  },
  {
   "cell_type": "markdown",
   "id": "b3397d16-b0be-43aa-bcfe-4f012c935bae",
   "metadata": {},
   "source": [
    "## 1. 데이터 살펴보기\n",
    "### 1) 데이터 불러오기"
   ]
  },
  {
   "cell_type": "code",
   "execution_count": 1,
   "id": "0ffe6b15-a1cd-4da0-b8f4-16d98b30a8ab",
   "metadata": {},
   "outputs": [],
   "source": [
    "# 데이터를 불러오고 살펴보기 위한 라이브러리\n",
    "import pandas as pd\n",
    "import numpy as np\n",
    "\n",
    "# 시각화를 하기 위한 라이브러리\n",
    "import matplotlib.pyplot as plt\n",
    "%matplotlib inline\n",
    "\n",
    "import sys\n",
    "from konlpy.tag import Okt\n",
    "from collections import Counter\n",
    "from wordcloud import WordCloud\n",
    "from tqdm import tqdm\n",
    "from tensorflow.keras.preprocessing.text import Tokenizer"
   ]
  },
  {
   "cell_type": "code",
   "execution_count": 12,
   "id": "50bcca61-1060-4037-b2f1-7b63d3ee78c5",
   "metadata": {},
   "outputs": [],
   "source": [
    "train = pd.read_csv('data/[기업은행 혁신리그 사전강의] 영화 리뷰 감성 분석/train.csv')\n",
    "test = pd.read_csv('data/[기업은행 혁신리그 사전강의] 영화 리뷰 감성 분석/test.csv')\n",
    "submission = pd.read_csv('data/[기업은행 혁신리그 사전강의] 영화 리뷰 감성 분석/sample_submission.csv')"
   ]
  },
  {
   "cell_type": "code",
   "execution_count": 13,
   "id": "4b910f38-1119-453d-b03c-d48c8ff8903d",
   "metadata": {},
   "outputs": [
    {
     "name": "stdout",
     "output_type": "stream",
     "text": [
      "150000\n",
      "50000\n"
     ]
    }
   ],
   "source": [
    "print(len(train))\n",
    "print(len(test))"
   ]
  },
  {
   "cell_type": "code",
   "execution_count": 14,
   "id": "e82492db-3b40-4a23-af16-5b63f7f880a3",
   "metadata": {},
   "outputs": [
    {
     "name": "stdout",
     "output_type": "stream",
     "text": [
      "   id                                           document  label\n",
      "0   1                                아 더빙.. 진짜 짜증나네요 목소리      0\n",
      "1   2                  흠...포스터보고 초딩영화줄....오버연기조차 가볍지 않구나      1\n",
      "2   3                                  너무재밓었다그래서보는것을추천한다      0\n",
      "3   4                      교도소 이야기구먼 ..솔직히 재미는 없다..평점 조정      0\n",
      "4   5  사이몬페그의 익살스런 연기가 돋보였던 영화!스파이더맨에서 늙어보이기만 했던 커스틴 ...      1\n",
      "\n",
      "\n",
      "            id                         document  label\n",
      "149995  149996              인간이 문제지.. 소는 뭔죄인가..      0\n",
      "149996  149997                    평점이 너무 낮아서...      1\n",
      "149997  149998  이게 뭐요? 한국인은 거들먹거리고 필리핀 혼혈은 착하다?      0\n",
      "149998  149999      청춘 영화의 최고봉.방황과 우울했던 날들의 자화상      1\n",
      "149999  150000         한국 영화 최초로 수간하는 내용이 담긴 영화      0\n"
     ]
    }
   ],
   "source": [
    "print(train.head())\n",
    "print('\\n')\n",
    "print(train.tail())"
   ]
  },
  {
   "cell_type": "markdown",
   "id": "61583f06-8d25-45c6-9f17-c414652a111c",
   "metadata": {},
   "source": [
    "### 2) 데이터 정제하기\n",
    "#### (1) 중복 행 제거"
   ]
  },
  {
   "cell_type": "code",
   "execution_count": 15,
   "id": "c9749cfa-a181-4f5e-9e36-20a6a9cdcf8b",
   "metadata": {},
   "outputs": [
    {
     "data": {
      "text/html": [
       "<div>\n",
       "<style scoped>\n",
       "    .dataframe tbody tr th:only-of-type {\n",
       "        vertical-align: middle;\n",
       "    }\n",
       "\n",
       "    .dataframe tbody tr th {\n",
       "        vertical-align: top;\n",
       "    }\n",
       "\n",
       "    .dataframe thead th {\n",
       "        text-align: right;\n",
       "    }\n",
       "</style>\n",
       "<table border=\"1\" class=\"dataframe\">\n",
       "  <thead>\n",
       "    <tr style=\"text-align: right;\">\n",
       "      <th></th>\n",
       "      <th>id</th>\n",
       "      <th>document</th>\n",
       "      <th>label</th>\n",
       "    </tr>\n",
       "  </thead>\n",
       "  <tbody>\n",
       "    <tr>\n",
       "      <th>1058</th>\n",
       "      <td>1059</td>\n",
       "      <td>4</td>\n",
       "      <td>0</td>\n",
       "    </tr>\n",
       "    <tr>\n",
       "      <th>1097</th>\n",
       "      <td>1098</td>\n",
       "      <td>쵝오</td>\n",
       "      <td>1</td>\n",
       "    </tr>\n",
       "    <tr>\n",
       "      <th>1248</th>\n",
       "      <td>1249</td>\n",
       "      <td>최고</td>\n",
       "      <td>1</td>\n",
       "    </tr>\n",
       "    <tr>\n",
       "      <th>1483</th>\n",
       "      <td>1484</td>\n",
       "      <td>최고</td>\n",
       "      <td>1</td>\n",
       "    </tr>\n",
       "    <tr>\n",
       "      <th>1707</th>\n",
       "      <td>1708</td>\n",
       "      <td>재밌다</td>\n",
       "      <td>1</td>\n",
       "    </tr>\n",
       "    <tr>\n",
       "      <th>...</th>\n",
       "      <td>...</td>\n",
       "      <td>...</td>\n",
       "      <td>...</td>\n",
       "    </tr>\n",
       "    <tr>\n",
       "      <th>149919</th>\n",
       "      <td>149920</td>\n",
       "      <td>짱</td>\n",
       "      <td>1</td>\n",
       "    </tr>\n",
       "    <tr>\n",
       "      <th>149949</th>\n",
       "      <td>149950</td>\n",
       "      <td>OO 영화</td>\n",
       "      <td>0</td>\n",
       "    </tr>\n",
       "    <tr>\n",
       "      <th>149960</th>\n",
       "      <td>149961</td>\n",
       "      <td>지루하다</td>\n",
       "      <td>0</td>\n",
       "    </tr>\n",
       "    <tr>\n",
       "      <th>149966</th>\n",
       "      <td>149967</td>\n",
       "      <td>1</td>\n",
       "      <td>0</td>\n",
       "    </tr>\n",
       "    <tr>\n",
       "      <th>149987</th>\n",
       "      <td>149988</td>\n",
       "      <td>재미있어요^^</td>\n",
       "      <td>1</td>\n",
       "    </tr>\n",
       "  </tbody>\n",
       "</table>\n",
       "<p>3817 rows × 3 columns</p>\n",
       "</div>"
      ],
      "text/plain": [
       "            id document  label\n",
       "1058      1059        4      0\n",
       "1097      1098       쵝오      1\n",
       "1248      1249       최고      1\n",
       "1483      1484       최고      1\n",
       "1707      1708      재밌다      1\n",
       "...        ...      ...    ...\n",
       "149919  149920        짱      1\n",
       "149949  149950    OO 영화      0\n",
       "149960  149961     지루하다      0\n",
       "149966  149967        1      0\n",
       "149987  149988  재미있어요^^      1\n",
       "\n",
       "[3817 rows x 3 columns]"
      ]
     },
     "execution_count": 15,
     "metadata": {},
     "output_type": "execute_result"
    }
   ],
   "source": [
    "# 중복 행 찾기\n",
    "train[train['document'].duplicated()] # 총 3,817행 존재"
   ]
  },
  {
   "cell_type": "code",
   "execution_count": 16,
   "id": "fe5fdfcf-6876-49c4-b684-d3bd3ba35197",
   "metadata": {},
   "outputs": [
    {
     "data": {
      "text/plain": [
       "146183"
      ]
     },
     "execution_count": 16,
     "metadata": {},
     "output_type": "execute_result"
    }
   ],
   "source": [
    "# 중복 행 제거\n",
    "train.drop_duplicates(['document'], inplace=True)\n",
    "len(train)"
   ]
  },
  {
   "cell_type": "code",
   "execution_count": 23,
   "id": "840e7c91-fa7a-4ae2-910b-fbd4af6a25b2",
   "metadata": {},
   "outputs": [
    {
     "data": {
      "image/png": "[encoded data removed]",
      "text/plain": [
       "<Figure size 432x288 with 1 Axes>"
      ]
     },
     "metadata": {
      "needs_background": "light"
     },
     "output_type": "display_data"
    }
   ],
   "source": [
    "# 중복을 제거한 train.label 분포\n",
    "train.label.value_counts().plot(kind='bar');"
   ]
  },
  {
   "cell_type": "code",
   "execution_count": 24,
   "id": "be59a676-bfac-4e1c-bdaf-956d2af5f283",
   "metadata": {},
   "outputs": [
    {
     "data": {
      "text/plain": [
       "0    73342\n",
       "1    72841\n",
       "Name: label, dtype: int64"
      ]
     },
     "execution_count": 24,
     "metadata": {},
     "output_type": "execute_result"
    }
   ],
   "source": [
    "train.label.value_counts() # 0(부정) > 1(긍정)"
   ]
  },
  {
   "cell_type": "markdown",
   "id": "f90f9754-2dcf-488f-8e82-f5935875db1b",
   "metadata": {},
   "source": [
    "#### (2) 결측치 찾기"
   ]
  },
  {
   "cell_type": "code",
   "execution_count": 28,
   "id": "ba44cf6f-6a5e-42a3-976c-94b747bbea7f",
   "metadata": {},
   "outputs": [
    {
     "name": "stdout",
     "output_type": "stream",
     "text": [
      "결측치 개수: 1개\n"
     ]
    }
   ],
   "source": [
    "print('결측치 개수: {}개'.format(train['document'].isnull().sum()))"
   ]
  },
  {
   "cell_type": "code",
   "execution_count": 31,
   "id": "2b78faec-db00-4379-b136-5c5e00e4bcc5",
   "metadata": {},
   "outputs": [
    {
     "data": {
      "text/html": [
       "<div>\n",
       "<style scoped>\n",
       "    .dataframe tbody tr th:only-of-type {\n",
       "        vertical-align: middle;\n",
       "    }\n",
       "\n",
       "    .dataframe tbody tr th {\n",
       "        vertical-align: top;\n",
       "    }\n",
       "\n",
       "    .dataframe thead th {\n",
       "        text-align: right;\n",
       "    }\n",
       "</style>\n",
       "<table border=\"1\" class=\"dataframe\">\n",
       "  <thead>\n",
       "    <tr style=\"text-align: right;\">\n",
       "      <th></th>\n",
       "      <th>id</th>\n",
       "      <th>document</th>\n",
       "      <th>label</th>\n",
       "    </tr>\n",
       "  </thead>\n",
       "  <tbody>\n",
       "    <tr>\n",
       "      <th>25857</th>\n",
       "      <td>25858</td>\n",
       "      <td>NaN</td>\n",
       "      <td>1</td>\n",
       "    </tr>\n",
       "  </tbody>\n",
       "</table>\n",
       "</div>"
      ],
      "text/plain": [
       "          id document  label\n",
       "25857  25858      NaN      1"
      ]
     },
     "execution_count": 31,
     "metadata": {},
     "output_type": "execute_result"
    }
   ],
   "source": [
    "train[train['document'].isnull()]"
   ]
  },
  {
   "cell_type": "code",
   "execution_count": 35,
   "id": "5d34609a-33e7-4eae-a96d-d04d67e04f30",
   "metadata": {},
   "outputs": [
    {
     "data": {
      "text/plain": [
       "False"
      ]
     },
     "execution_count": 35,
     "metadata": {},
     "output_type": "execute_result"
    }
   ],
   "source": [
    "# 결측치 제거\n",
    "train = train.dropna(how='any')  # how = 'any' : row 또는 column에 NaN값이 1개만 있어도 drop\n",
    "train.isnull().values.any()"
   ]
  },
  {
   "cell_type": "code",
   "execution_count": 36,
   "id": "8759e82d-9a7f-4524-a15b-b422d748a502",
   "metadata": {},
   "outputs": [
    {
     "data": {
      "text/plain": [
       "0    73342\n",
       "1    72840\n",
       "Name: label, dtype: int64"
      ]
     },
     "execution_count": 36,
     "metadata": {},
     "output_type": "execute_result"
    }
   ],
   "source": [
    "# 결측치 제거 후, 라벨 분포\n",
    "train.label.value_counts() # 0(부정) > 1(긍정)"
   ]
  },
  {
   "cell_type": "markdown",
   "id": "18b52cb7-fd3d-4568-8819-84f13a9721af",
   "metadata": {},
   "source": [
    "### 3) validation 셋을 활용한 검증"
   ]
  },
  {
   "cell_type": "code",
   "execution_count": 38,
   "id": "c354e248-71ef-43b7-a608-8d4613525b2c",
   "metadata": {},
   "outputs": [],
   "source": [
    "from sklearn.model_selection import train_test_split\n",
    "\n",
    "X = train[['document']]\n",
    "y = train[['label']]\n",
    "\n",
    "X_train, X_valid, y_train, y_valid = train_test_split(X, y, test_size=.5, random_state=24)"
   ]
  },
  {
   "cell_type": "code",
   "execution_count": 39,
   "id": "c3396548-6638-478a-8570-a4cb3ff9c384",
   "metadata": {},
   "outputs": [
    {
     "name": "stdout",
     "output_type": "stream",
     "text": [
      "X_train.shape : (73091, 1)\n",
      "y_train.shape : (73091, 1)\n",
      "X_valid.shape : (73091, 1)\n",
      "y_valid.shape : (73091, 1)\n"
     ]
    }
   ],
   "source": [
    "print(f\"X_train.shape : {X_train.shape}\")\n",
    "print(f\"y_train.shape : {y_train.shape}\")\n",
    "print(f\"X_valid.shape : {X_valid.shape}\")\n",
    "print(f\"y_valid.shape : {y_valid.shape}\")"
   ]
  },
  {
   "cell_type": "code",
   "execution_count": 42,
   "id": "b7392fe0-4881-45aa-893f-79e4f7ebcf33",
   "metadata": {},
   "outputs": [
    {
     "name": "stdout",
     "output_type": "stream",
     "text": [
      "0.4998152987371906\n"
     ]
    }
   ],
   "source": [
    "# label을 모두 1로 가정하여 y_valid와 비교하여 정확도 평가\n",
    "pred = y_valid.copy() # y_valid 값을 복사\n",
    "pred[['label']] = 1 # label 값을 모두 1로 변환\n",
    "\n",
    "from sklearn.metrics import accuracy_score\n",
    "print(accuracy_score(y_valid, pred))"
   ]
  },
  {
   "cell_type": "markdown",
   "id": "856caef4-c6f5-46d7-af05-64d1516dc2b5",
   "metadata": {},
   "source": [
    "## 2. 텍스트 전처리"
   ]
  },
  {
   "cell_type": "code",
   "execution_count": null,
   "id": "28bab282-30c4-4982-bf19-f0ee1d4a52eb",
   "metadata": {},
   "outputs": [],
   "source": []
  }
 ],
 "metadata": {
  "kernelspec": {
   "display_name": "Python 3",
   "language": "python",
   "name": "python3"
  },
  "language_info": {
   "codemirror_mode": {
    "name": "ipython",
    "version": 3
   },
   "file_extension": ".py",
   "mimetype": "text/x-python",
   "name": "python",
   "nbconvert_exporter": "python",
   "pygments_lexer": "ipython3",
   "version": "3.8.8"
  }
 },
 "nbformat": 4,
 "nbformat_minor": 5
}
